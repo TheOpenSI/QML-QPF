{
 "cells": [
  {
   "cell_type": "code",
   "execution_count": 1,
   "metadata": {},
   "outputs": [
    {
     "name": "stderr",
     "output_type": "stream",
     "text": [
      "2024-07-23 00:22:24.996652: I tensorflow/core/platform/cpu_feature_guard.cc:210] This TensorFlow binary is optimized to use available CPU instructions in performance-critical operations.\n",
      "To enable the following instructions: AVX2 AVX512F FMA, in other operations, rebuild TensorFlow with the appropriate compiler flags.\n",
      "2024-07-23 00:22:25.641001: W tensorflow/compiler/tf2tensorrt/utils/py_utils.cc:38] TF-TRT Warning: Could not find TensorRT\n"
     ]
    }
   ],
   "source": [
    "%load_ext tensorboard\n",
    "\n",
    "from concurrent.futures import ProcessPoolExecutor, as_completed\n",
    "from datetime import datetime\n",
    "import pathlib\n",
    "import os\n",
    "import gc\n",
    "from core import Model\n",
    "\n",
    "os.environ['CUDA_​DEVICE_​ORDER'] = 'PCI_BUS_ID'\n",
    "os.environ['TF_GPU_ALLOCATOR'] = 'cuda_malloc_async'\n",
    "clock_start = datetime.now().strftime(\"%Y%m%d-%H%M%S\")\n",
    "#clock_start = \"20240722-085506\"\n",
    "workdir = str(pathlib.Path().resolve())\n",
    "\n",
    "models =  [\n",
    "    (0,0, clock_start, workdir),\n",
    "    (0,1,clock_start, workdir),\n",
    "    (0,2,clock_start, workdir),\n",
    "    (0,3,clock_start, workdir),\n",
    "    (1,0,clock_start, workdir),\n",
    "    (1,1,clock_start, workdir),\n",
    "    (1,2,clock_start, workdir),\n",
    "    (1,3,clock_start, workdir)\n",
    "    ]\n"
   ]
  },
  {
   "cell_type": "code",
   "execution_count": 2,
   "metadata": {},
   "outputs": [
    {
     "name": "stderr",
     "output_type": "stream",
     "text": [
      "2024-07-23 00:22:27.760164: I external/local_tsl/tsl/profiler/lib/profiler_session.cc:104] Profiler session initializing.\n",
      "2024-07-23 00:22:27.760240: I external/local_tsl/tsl/profiler/lib/profiler_session.cc:119] Profiler session started.\n",
      "2024-07-23 00:22:27.760451: I external/local_tsl/tsl/profiler/lib/profiler_session.cc:104] Profiler session initializing.\n",
      "2024-07-23 00:22:27.760652: I external/local_tsl/tsl/profiler/lib/profiler_session.cc:119] Profiler session started.\n",
      "2024-07-23 00:22:27.761073: I external/local_tsl/tsl/profiler/lib/profiler_session.cc:104] Profiler session initializing.\n",
      "2024-07-23 00:22:27.761215: I external/local_tsl/tsl/profiler/lib/profiler_session.cc:119] Profiler session started.\n",
      "2024-07-23 00:22:27.761050: I external/local_tsl/tsl/profiler/lib/profiler_session.cc:104] Profiler session initializing.\n",
      "2024-07-23 00:22:27.761288: I external/local_tsl/tsl/profiler/lib/profiler_session.cc:119] Profiler session started.\n",
      "2024-07-23 00:22:27.761839: I external/local_tsl/tsl/profiler/lib/profiler_session.cc:104] Profiler session initializing.\n",
      "2024-07-23 00:22:27.762036: I external/local_tsl/tsl/profiler/lib/profiler_session.cc:119] Profiler session started.\n",
      "2024-07-23 00:22:27.761994: I external/local_tsl/tsl/profiler/lib/profiler_session.cc:104] Profiler session initializing.\n",
      "2024-07-23 00:22:27.762020: I external/local_tsl/tsl/profiler/lib/profiler_session.cc:104] Profiler session initializing.\n",
      "2024-07-23 00:22:27.762170: I external/local_tsl/tsl/profiler/lib/profiler_session.cc:119] Profiler session started.\n",
      "2024-07-23 00:22:27.762220: I external/local_tsl/tsl/profiler/lib/profiler_session.cc:119] Profiler session started.\n",
      "2024-07-23 00:22:27.762427: I external/local_tsl/tsl/profiler/lib/profiler_session.cc:104] Profiler session initializing.\n",
      "2024-07-23 00:22:27.762614: I external/local_tsl/tsl/profiler/lib/profiler_session.cc:119] Profiler session started.\n",
      "2024-07-23 00:22:27.789031: I external/local_xla/xla/backends/profiler/gpu/cupti_tracer.cc:1239] Profiler found 1 GPUs\n",
      "2024-07-23 00:22:27.789862: I external/local_xla/xla/backends/profiler/gpu/cupti_tracer.cc:1239] Profiler found 1 GPUs\n",
      "2024-07-23 00:22:27.790308: I external/local_xla/xla/backends/profiler/gpu/cupti_tracer.cc:1239] Profiler found 1 GPUs\n",
      "2024-07-23 00:22:27.791241: I external/local_xla/xla/backends/profiler/gpu/cupti_tracer.cc:1239] Profiler found 1 GPUs\n",
      "2024-07-23 00:22:27.791670: I external/local_xla/xla/backends/profiler/gpu/cupti_tracer.cc:1239] Profiler found 1 GPUs\n",
      "2024-07-23 00:22:27.792013: I external/local_xla/xla/backends/profiler/gpu/cupti_tracer.cc:1239] Profiler found 1 GPUs\n",
      "2024-07-23 00:22:27.792435: I external/local_xla/xla/backends/profiler/gpu/cupti_tracer.cc:1239] Profiler found 1 GPUs\n",
      "2024-07-23 00:22:27.792796: I external/local_xla/xla/backends/profiler/gpu/cupti_tracer.cc:1239] Profiler found 1 GPUs\n",
      "2024-07-23 00:22:27.799568: I external/local_tsl/tsl/profiler/lib/profiler_session.cc:131] Profiler session tear down.\n",
      "2024-07-23 00:22:27.799576: I external/local_tsl/tsl/profiler/lib/profiler_session.cc:131] Profiler session tear down.\n",
      "2024-07-23 00:22:27.799769: I external/local_xla/xla/backends/profiler/gpu/cupti_tracer.cc:1364] CUPTI activity buffer flushed\n",
      "2024-07-23 00:22:27.799754: I external/local_xla/xla/backends/profiler/gpu/cupti_tracer.cc:1364] CUPTI activity buffer flushed\n",
      "2024-07-23 00:22:27.801215: I external/local_tsl/tsl/profiler/lib/profiler_session.cc:131] Profiler session tear down.\n",
      "2024-07-23 00:22:27.801251: I external/local_tsl/tsl/profiler/lib/profiler_session.cc:131] Profiler session tear down.\n",
      "2024-07-23 00:22:27.801352: I external/local_xla/xla/backends/profiler/gpu/cupti_tracer.cc:1364] CUPTI activity buffer flushed\n",
      "2024-07-23 00:22:27.801427: I external/local_xla/xla/backends/profiler/gpu/cupti_tracer.cc:1364] CUPTI activity buffer flushed\n",
      "2024-07-23 00:22:27.805050: I external/local_tsl/tsl/profiler/lib/profiler_session.cc:131] Profiler session tear down.\n",
      "2024-07-23 00:22:27.805060: I external/local_tsl/tsl/profiler/lib/profiler_session.cc:131] Profiler session tear down.\n",
      "2024-07-23 00:22:27.805219: I external/local_xla/xla/backends/profiler/gpu/cupti_tracer.cc:1364] CUPTI activity buffer flushed\n",
      "2024-07-23 00:22:27.805234: I external/local_xla/xla/backends/profiler/gpu/cupti_tracer.cc:1364] CUPTI activity buffer flushed\n",
      "2024-07-23 00:22:27.805931: I external/local_tsl/tsl/profiler/lib/profiler_session.cc:131] Profiler session tear down.\n",
      "2024-07-23 00:22:27.805931: I external/local_tsl/tsl/profiler/lib/profiler_session.cc:131] Profiler session tear down.\n",
      "2024-07-23 00:22:27.806113: I external/local_xla/xla/backends/profiler/gpu/cupti_tracer.cc:1364] CUPTI activity buffer flushed\n",
      "2024-07-23 00:22:27.806124: I external/local_xla/xla/backends/profiler/gpu/cupti_tracer.cc:1364] CUPTI activity buffer flushed\n",
      "2024-07-23 00:22:28.202764: I tensorflow/core/common_runtime/gpu/gpu_process_state.cc:238] Using CUDA malloc Async allocator for GPU: 0\n",
      "2024-07-23 00:22:28.203471: I tensorflow/core/common_runtime/gpu/gpu_device.cc:1928] Created device /job:localhost/replica:0/task:0/device:GPU:0 with 6743 MB memory:  -> device: 0, name: NVIDIA GeForce RTX 2080, pci bus id: 0000:b3:00.0, compute capability: 7.5\n",
      "2024-07-23 00:22:28.218990: I tensorflow/core/common_runtime/gpu/gpu_process_state.cc:238] Using CUDA malloc Async allocator for GPU: 0\n",
      "2024-07-23 00:22:28.219941: I tensorflow/core/common_runtime/gpu/gpu_device.cc:1928] Created device /job:localhost/replica:0/task:0/device:GPU:0 with 6645 MB memory:  -> device: 0, name: NVIDIA GeForce RTX 2080, pci bus id: 0000:b3:00.0, compute capability: 7.5\n",
      "2024-07-23 00:22:28.234915: I tensorflow/core/common_runtime/gpu/gpu_process_state.cc:238] Using CUDA malloc Async allocator for GPU: 0\n",
      "2024-07-23 00:22:28.236051: I tensorflow/core/common_runtime/gpu/gpu_device.cc:1928] Created device /job:localhost/replica:0/task:0/device:GPU:0 with 6545 MB memory:  -> device: 0, name: NVIDIA GeForce RTX 2080, pci bus id: 0000:b3:00.0, compute capability: 7.5\n",
      "2024-07-23 00:22:28.270425: I tensorflow/core/common_runtime/gpu/gpu_process_state.cc:238] Using CUDA malloc Async allocator for GPU: 0\n",
      "2024-07-23 00:22:28.270830: I tensorflow/core/common_runtime/gpu/gpu_device.cc:1928] Created device /job:localhost/replica:0/task:0/device:GPU:0 with 6291 MB memory:  -> device: 0, name: NVIDIA GeForce RTX 2080, pci bus id: 0000:b3:00.0, compute capability: 7.5\n",
      "2024-07-23 00:22:28.293398: I tensorflow/core/common_runtime/gpu/gpu_process_state.cc:238] Using CUDA malloc Async allocator for GPU: 0\n",
      "2024-07-23 00:22:28.295155: I tensorflow/core/common_runtime/gpu/gpu_device.cc:1928] Created device /job:localhost/replica:0/task:0/device:GPU:0 with 6281 MB memory:  -> device: 0, name: NVIDIA GeForce RTX 2080, pci bus id: 0000:b3:00.0, compute capability: 7.5\n",
      "/opt/conda/envs/QML-QPF/lib/python3.10/site-packages/pennylane/math/utils.py:227: UserWarning: Contains tensors of types {'tensorflow', 'autograd'}; dispatch will prioritize TensorFlow, PyTorch, and  Jax over Autograd. Consider replacing Autograd with vanilla NumPy.\n",
      "  warnings.warn(\n",
      "2024-07-23 00:22:28.432601: I tensorflow/core/common_runtime/gpu/gpu_process_state.cc:238] Using CUDA malloc Async allocator for GPU: 0\n",
      "2024-07-23 00:22:28.432957: I tensorflow/core/common_runtime/gpu/gpu_device.cc:1928] Created device /job:localhost/replica:0/task:0/device:GPU:0 with 5873 MB memory:  -> device: 0, name: NVIDIA GeForce RTX 2080, pci bus id: 0000:b3:00.0, compute capability: 7.5\n",
      "2024-07-23 00:22:28.465528: I tensorflow/core/common_runtime/gpu/gpu_process_state.cc:238] Using CUDA malloc Async allocator for GPU: 0\n",
      "2024-07-23 00:22:28.466075: I tensorflow/core/common_runtime/gpu/gpu_device.cc:1928] Created device /job:localhost/replica:0/task:0/device:GPU:0 with 5737 MB memory:  -> device: 0, name: NVIDIA GeForce RTX 2080, pci bus id: 0000:b3:00.0, compute capability: 7.5\n",
      "2024-07-23 00:22:28.501520: I tensorflow/core/common_runtime/gpu/gpu_process_state.cc:238] Using CUDA malloc Async allocator for GPU: 0\n",
      "2024-07-23 00:22:28.502096: I tensorflow/core/common_runtime/gpu/gpu_device.cc:1928] Created device /job:localhost/replica:0/task:0/device:GPU:0 with 5873 MB memory:  -> device: 0, name: NVIDIA GeForce RTX 2080, pci bus id: 0000:b3:00.0, compute capability: 7.5\n",
      "/opt/conda/envs/QML-QPF/lib/python3.10/site-packages/pennylane/math/utils.py:227: UserWarning: Contains tensors of types {'tensorflow', 'autograd'}; dispatch will prioritize TensorFlow, PyTorch, and  Jax over Autograd. Consider replacing Autograd with vanilla NumPy.\n",
      "  warnings.warn(\n"
     ]
    },
    {
     "name": "stdout",
     "output_type": "stream",
     "text": [
      "\u001b[1m 43/118\u001b[0m \u001b[32m━━━━━━━\u001b[0m\u001b[37m━━━━━━━━━━━━━\u001b[0m \u001b[1m0s\u001b[0m 1ms/step   "
     ]
    },
    {
     "name": "stderr",
     "output_type": "stream",
     "text": [
      "WARNING: All log messages before absl::InitializeLog() is called are written to STDERR\n",
      "I0000 00:00:1721694148.768878  158495 service.cc:145] XLA service 0x750a24014030 initialized for platform CUDA (this does not guarantee that XLA will be used). Devices:\n",
      "I0000 00:00:1721694148.768923  158495 service.cc:153]   StreamExecutor device (0): NVIDIA GeForce RTX 2080, Compute Capability 7.5\n",
      "2024-07-23 00:22:28.823892: I external/local_xla/xla/stream_executor/cuda/cuda_dnn.cc:465] Loaded cuDNN version 8907\n",
      "I0000 00:00:1721694148.915961  158495 device_compiler.h:188] Compiled cluster using XLA!  This line is logged at most once for the lifetime of the process.\n"
     ]
    },
    {
     "name": "stdout",
     "output_type": "stream",
     "text": [
      "\u001b[1m118/118\u001b[0m \u001b[32m━━━━━━━━━━━━━━━━━━━━\u001b[0m\u001b[37m\u001b[0m \u001b[1m1s\u001b[0m 3ms/step\n",
      "\u001b[1m 41/118\u001b[0m \u001b[32m━━━━━━\u001b[0m\u001b[37m━━━━━━━━━━━━━━\u001b[0m \u001b[1m0s\u001b[0m 1ms/step    "
     ]
    },
    {
     "name": "stderr",
     "output_type": "stream",
     "text": [
      "WARNING: All log messages before absl::InitializeLog() is called are written to STDERR\n",
      "I0000 00:00:1721694149.080710  158631 service.cc:145] XLA service 0x750a2c0140a0 initialized for platform CUDA (this does not guarantee that XLA will be used). Devices:\n",
      "I0000 00:00:1721694149.080768  158631 service.cc:153]   StreamExecutor device (0): NVIDIA GeForce RTX 2080, Compute Capability 7.5\n",
      "2024-07-23 00:22:29.126170: I external/local_xla/xla/stream_executor/cuda/cuda_dnn.cc:465] Loaded cuDNN version 8907\n",
      "I0000 00:00:1721694149.212770  158631 device_compiler.h:188] Compiled cluster using XLA!  This line is logged at most once for the lifetime of the process.\n"
     ]
    },
    {
     "name": "stdout",
     "output_type": "stream",
     "text": [
      "\u001b[1m118/118\u001b[0m \u001b[32m━━━━━━━━━━━━━━━━━━━━\u001b[0m\u001b[37m\u001b[0m \u001b[1m1s\u001b[0m 3ms/step\n",
      "\u001b[1m20/20\u001b[0m \u001b[32m━━━━━━━━━━━━━━━━━━━━\u001b[0m\u001b[37m\u001b[0m \u001b[1m0s\u001b[0m 6ms/step\n",
      "\u001b[1m20/20\u001b[0m \u001b[32m━━━━━━━━━━━━━━━━━━━━\u001b[0m\u001b[37m\u001b[0m \u001b[1m0s\u001b[0m 6ms/step\n",
      "Epoch 1/30\n"
     ]
    },
    {
     "name": "stderr",
     "output_type": "stream",
     "text": [
      "WARNING: All log messages before absl::InitializeLog() is called are written to STDERR\n",
      "I0000 00:00:1721694150.440965  158596 service.cc:145] XLA service 0x750a30002350 initialized for platform CUDA (this does not guarantee that XLA will be used). Devices:\n",
      "I0000 00:00:1721694150.440999  158596 service.cc:153]   StreamExecutor device (0): NVIDIA GeForce RTX 2080, Compute Capability 7.5\n",
      "WARNING: All log messages before absl::InitializeLog() is called are written to STDERR\n",
      "I0000 00:00:1721694150.449153  158676 service.cc:145] XLA service 0x750a30014060 initialized for platform CUDA (this does not guarantee that XLA will be used). Devices:\n",
      "I0000 00:00:1721694150.449187  158676 service.cc:153]   StreamExecutor device (0): NVIDIA GeForce RTX 2080, Compute Capability 7.5\n",
      "WARNING: All log messages before absl::InitializeLog() is called are written to STDERR\n",
      "I0000 00:00:1721694150.460648  158524 service.cc:145] XLA service 0x750a30002350 initialized for platform CUDA (this does not guarantee that XLA will be used). Devices:\n",
      "I0000 00:00:1721694150.460690  158524 service.cc:153]   StreamExecutor device (0): NVIDIA GeForce RTX 2080, Compute Capability 7.5\n",
      "2024-07-23 00:22:30.477632: I tensorflow/compiler/mlir/tensorflow/utils/dump_mlir_util.cc:268] disabling MLIR crash reproducer, set env var `MLIR_CRASH_REPRODUCER_DIRECTORY` to enable.\n",
      "2024-07-23 00:22:30.483672: I tensorflow/compiler/mlir/tensorflow/utils/dump_mlir_util.cc:268] disabling MLIR crash reproducer, set env var `MLIR_CRASH_REPRODUCER_DIRECTORY` to enable.\n",
      "2024-07-23 00:22:30.517937: I tensorflow/compiler/mlir/tensorflow/utils/dump_mlir_util.cc:268] disabling MLIR crash reproducer, set env var `MLIR_CRASH_REPRODUCER_DIRECTORY` to enable.\n",
      "WARNING: All log messages before absl::InitializeLog() is called are written to STDERR\n",
      "I0000 00:00:1721694150.567087  158510 service.cc:145] XLA service 0x750a30014060 initialized for platform CUDA (this does not guarantee that XLA will be used). Devices:\n",
      "I0000 00:00:1721694150.567136  158510 service.cc:153]   StreamExecutor device (0): NVIDIA GeForce RTX 2080, Compute Capability 7.5\n",
      "2024-07-23 00:22:30.568531: I external/local_xla/xla/stream_executor/cuda/cuda_dnn.cc:465] Loaded cuDNN version 8907\n",
      "WARNING: All log messages before absl::InitializeLog() is called are written to STDERR\n",
      "I0000 00:00:1721694150.577538  158660 service.cc:145] XLA service 0x750a24014060 initialized for platform CUDA (this does not guarantee that XLA will be used). Devices:\n",
      "I0000 00:00:1721694150.577578  158660 service.cc:153]   StreamExecutor device (0): NVIDIA GeForce RTX 2080, Compute Capability 7.5\n",
      "2024-07-23 00:22:30.587325: I external/local_xla/xla/stream_executor/cuda/cuda_dnn.cc:465] Loaded cuDNN version 8907\n",
      "2024-07-23 00:22:30.621055: I tensorflow/compiler/mlir/tensorflow/utils/dump_mlir_util.cc:268] disabling MLIR crash reproducer, set env var `MLIR_CRASH_REPRODUCER_DIRECTORY` to enable.\n",
      "2024-07-23 00:22:30.632737: I external/local_tsl/tsl/profiler/lib/profiler_session.cc:104] Profiler session initializing.\n",
      "2024-07-23 00:22:30.632793: I external/local_tsl/tsl/profiler/lib/profiler_session.cc:119] Profiler session started.\n",
      "2024-07-23 00:22:30.635784: I external/local_xla/xla/stream_executor/cuda/cuda_dnn.cc:465] Loaded cuDNN version 8907\n",
      "2024-07-23 00:22:30.637924: I tensorflow/compiler/mlir/tensorflow/utils/dump_mlir_util.cc:268] disabling MLIR crash reproducer, set env var `MLIR_CRASH_REPRODUCER_DIRECTORY` to enable.\n"
     ]
    },
    {
     "name": "stdout",
     "output_type": "stream",
     "text": [
      "Epoch 1/30\n"
     ]
    },
    {
     "name": "stderr",
     "output_type": "stream",
     "text": [
      "2024-07-23 00:22:30.759730: I external/local_xla/xla/stream_executor/cuda/cuda_dnn.cc:465] Loaded cuDNN version 8907\n",
      "2024-07-23 00:22:30.773252: I external/local_xla/xla/stream_executor/cuda/cuda_dnn.cc:465] Loaded cuDNN version 8907\n",
      "WARNING: All log messages before absl::InitializeLog() is called are written to STDERR\n",
      "I0000 00:00:1721694150.814001  158554 service.cc:145] XLA service 0x750a2c002350 initialized for platform CUDA (this does not guarantee that XLA will be used). Devices:\n",
      "I0000 00:00:1721694150.814044  158554 service.cc:153]   StreamExecutor device (0): NVIDIA GeForce RTX 2080, Compute Capability 7.5\n",
      "2024-07-23 00:22:30.850143: I tensorflow/compiler/mlir/tensorflow/utils/dump_mlir_util.cc:268] disabling MLIR crash reproducer, set env var `MLIR_CRASH_REPRODUCER_DIRECTORY` to enable.\n",
      "2024-07-23 00:22:30.934206: I external/local_tsl/tsl/profiler/lib/profiler_session.cc:104] Profiler session initializing.\n",
      "2024-07-23 00:22:30.934256: I external/local_tsl/tsl/profiler/lib/profiler_session.cc:119] Profiler session started.\n",
      "2024-07-23 00:22:30.981343: I external/local_xla/xla/stream_executor/cuda/cuda_dnn.cc:465] Loaded cuDNN version 8907\n",
      "2024-07-23 00:22:31.120012: I tensorflow/compiler/mlir/tensorflow/utils/dump_mlir_util.cc:268] disabling MLIR crash reproducer, set env var `MLIR_CRASH_REPRODUCER_DIRECTORY` to enable.\n",
      "2024-07-23 00:22:31.496502: I tensorflow/compiler/mlir/tensorflow/utils/dump_mlir_util.cc:268] disabling MLIR crash reproducer, set env var `MLIR_CRASH_REPRODUCER_DIRECTORY` to enable.\n",
      "2024-07-23 00:22:32.338629: I external/local_tsl/tsl/profiler/lib/profiler_session.cc:70] Profiler session collecting data.\n",
      "2024-07-23 00:22:32.340642: I external/local_xla/xla/backends/profiler/gpu/cupti_tracer.cc:1364] CUPTI activity buffer flushed\n",
      "2024-07-23 00:22:32.350401: I external/local_xla/xla/backends/profiler/gpu/cupti_collector.cc:540]  GpuTracer has collected 2049 callback api events and 1705 activity events. \n",
      "2024-07-23 00:22:32.354808: I external/local_tsl/tsl/profiler/lib/profiler_session.cc:70] Profiler session collecting data.\n",
      "2024-07-23 00:22:32.357017: I external/local_xla/xla/backends/profiler/gpu/cupti_tracer.cc:1364] CUPTI activity buffer flushed\n",
      "2024-07-23 00:22:32.361065: I external/local_tsl/tsl/profiler/lib/profiler_session.cc:131] Profiler session tear down.\n",
      "2024-07-23 00:22:32.362446: I external/local_tsl/tsl/profiler/rpc/client/save_profile.cc:144] Collecting XSpace to repository: /workspaces/QML-QPF/multiprocessing/output/20240723-002227/runs/MNIST/MNISTno_filter/plugins/profile/2024_07_23_00_22_32/1ba22281c77a.xplane.pb\n",
      "2024-07-23 00:22:32.367111: I external/local_xla/xla/backends/profiler/gpu/cupti_collector.cc:540]  GpuTracer has collected 2051 callback api events and 1706 activity events. \n",
      "2024-07-23 00:22:32.381797: I external/local_tsl/tsl/profiler/lib/profiler_session.cc:131] Profiler session tear down.\n",
      "2024-07-23 00:22:32.383183: I external/local_tsl/tsl/profiler/rpc/client/save_profile.cc:144] Collecting XSpace to repository: /workspaces/QML-QPF/multiprocessing/output/20240723-002227/runs/FASHIONMNIST/FASHIONMNISTno_filter/plugins/profile/2024_07_23_00_22_32/1ba22281c77a.xplane.pb\n"
     ]
    },
    {
     "name": "stdout",
     "output_type": "stream",
     "text": [
      "\u001b[1m  3/118\u001b[0m \u001b[37m━━━━━━━━━━━━━━━━━━━━\u001b[0m \u001b[1m8s\u001b[0m 78ms/step"
     ]
    },
    {
     "name": "stderr",
     "output_type": "stream",
     "text": [
      "I0000 00:00:1721694152.687414  158596 device_compiler.h:188] Compiled cluster using XLA!  This line is logged at most once for the lifetime of the process.\n"
     ]
    },
    {
     "name": "stdout",
     "output_type": "stream",
     "text": [
      "\u001b[1m  1/118\u001b[0m \u001b[37m━━━━━━━━━━━━━━━━━━━━\u001b[0m \u001b[1m9:11\u001b[0m 5s/step78ms/step"
     ]
    },
    {
     "name": "stderr",
     "output_type": "stream",
     "text": [
      "I0000 00:00:1721694153.222889  158676 device_compiler.h:188] Compiled cluster using XLA!  This line is logged at most once for the lifetime of the process.\n",
      "I0000 00:00:1721694153.247335  158524 device_compiler.h:188] Compiled cluster using XLA!  This line is logged at most once for the lifetime of the process.\n",
      "I0000 00:00:1721694153.359125  158660 device_compiler.h:188] Compiled cluster using XLA!  This line is logged at most once for the lifetime of the process.\n"
     ]
    },
    {
     "name": "stdout",
     "output_type": "stream",
     "text": [
      "\u001b[1m  1/118\u001b[0m \u001b[37m━━━━━━━━━━━━━━━━━━━━\u001b[0m \u001b[1m10:03\u001b[0m 5s/stepp8ms/st"
     ]
    },
    {
     "name": "stderr",
     "output_type": "stream",
     "text": [
      "I0000 00:00:1721694153.484363  158554 device_compiler.h:188] Compiled cluster using XLA!  This line is logged at most once for the lifetime of the process.\n",
      "I0000 00:00:1721694153.526952  158510 device_compiler.h:188] Compiled cluster using XLA!  This line is logged at most once for the lifetime of the process.\n"
     ]
    },
    {
     "name": "stdout",
     "output_type": "stream",
     "text": [
      "\u001b[1m 22/118\u001b[0m \u001b[32m━━━\u001b[0m\u001b[37m━━━━━━━━━━━━━━━━━\u001b[0m \u001b[1m42s\u001b[0m 438ms/step118/118 - 12s - 101ms/step - accuracy: 0.7272 - loss: 0.9210 - val_accuracy: 0.8709 - val_loss: 0.4838\n",
      "Epoch 2/30\n",
      "\u001b[1m 31/118\u001b[0m \u001b[32m━━━━━\u001b[0m\u001b[37m━━━━━━━━━━━━━━━\u001b[0m \u001b[1m30s\u001b[0m 349ms/step118/118 - 12s - 104ms/step - accuracy: 0.6997 - loss: 0.8622 - val_accuracy: 0.7830 - val_loss: 0.6132\n",
      "Epoch 2/30\n",
      "\u001b[1m 52/118\u001b[0m \u001b[32m━━━━━━━━\u001b[0m\u001b[37m━━━━━━━━━━━━\u001b[0m \u001b[1m29s\u001b[0m 441ms/step118/118 - 13s - 114ms/step - accuracy: 0.8760 - loss: 0.4478 - val_accuracy: 0.8941 - val_loss: 0.3810\n",
      "Epoch 3/30\n",
      "\u001b[1m 54/118\u001b[0m \u001b[32m━━━━━━━━━\u001b[0m\u001b[37m━━━━━━━━━━━\u001b[0m \u001b[1m28s\u001b[0m 438ms/step118/118 - 13s - 113ms/step - accuracy: 0.8118 - loss: 0.5478 - val_accuracy: 0.8120 - val_loss: 0.5429\n",
      "Epoch 3/30\n",
      "\u001b[1m 83/118\u001b[0m \u001b[32m━━━━━━━━━━━━━━\u001b[0m\u001b[37m━━━━━━\u001b[0m \u001b[1m15s\u001b[0m 439ms/step118/118 - 13s - 114ms/step - accuracy: 0.8924 - loss: 0.3810 - val_accuracy: 0.9029 - val_loss: 0.3437\n",
      "Epoch 4/30\n",
      "\u001b[1m 67/118\u001b[0m \u001b[32m━━━━━━━━━━━\u001b[0m\u001b[37m━━━━━━━━━\u001b[0m \u001b[1m27s\u001b[0m 549ms/step118/118 - 13s - 113ms/step - accuracy: 0.8281 - loss: 0.4986 - val_accuracy: 0.8204 - val_loss: 0.5135\n",
      "Epoch 4/30\n",
      "\u001b[1m113/118\u001b[0m \u001b[32m━━━━━━━━━━━━━━━━━━━\u001b[0m\u001b[37m━\u001b[0m \u001b[1m2s\u001b[0m 440ms/step118/118 - 13s - 113ms/step - accuracy: 0.9010 - loss: 0.3506 - val_accuracy: 0.9088 - val_loss: 0.3241\n",
      "Epoch 5/30\n",
      "\u001b[1m 92/118\u001b[0m \u001b[32m━━━━━━━━━━━━━━━\u001b[0m\u001b[37m━━━━━\u001b[0m \u001b[1m14s\u001b[0m 547ms/step118/118 - 13s - 112ms/step - accuracy: 0.8361 - loss: 0.4738 - val_accuracy: 0.8253 - val_loss: 0.4968\n",
      "Epoch 5/30\n",
      "\u001b[1m118/118\u001b[0m \u001b[32m━━━━━━━━━━━━━━━━━━━━\u001b[0m\u001b[37m\u001b[0m \u001b[1m57s\u001b[0m 449ms/step\n",
      "\u001b[1m118/118\u001b[0m \u001b[32m━━━━━━━━━━━━━━━━━━━━\u001b[0m\u001b[37m\u001b[0m \u001b[1m59s\u001b[0m 463ms/step\n",
      "\u001b[1m118/118\u001b[0m \u001b[32m━━━━━━━━━━━━━━━━━━━━\u001b[0m\u001b[37m\u001b[0m \u001b[1m59s\u001b[0m 466ms/step\n",
      "\u001b[1m118/118\u001b[0m \u001b[32m━━━━━━━━━━━━━━━━━━━━\u001b[0m\u001b[37m\u001b[0m \u001b[1m59s\u001b[0m 465ms/step\n",
      "\u001b[1m115/118\u001b[0m \u001b[32m━━━━━━━━━━━━━━━━━━━\u001b[0m\u001b[37m━\u001b[0m \u001b[1m1s\u001b[0m 510ms/step118/118 - 9s - 78ms/step - accuracy: 0.9061 - loss: 0.3327 - val_accuracy: 0.9112 - val_loss: 0.3122\n",
      "Epoch 6/30\n",
      "\u001b[1m11/20\u001b[0m \u001b[32m━━━━━━━━━━━\u001b[0m\u001b[37m━━━━━━━━━\u001b[0m \u001b[1m3s\u001b[0m 420ms/step118/118 - 9s - 77ms/step - accuracy: 0.8420 - loss: 0.4581 - val_accuracy: 0.8295 - val_loss: 0.4858\n",
      "Epoch 6/30\n",
      "\u001b[1m20/20\u001b[0m \u001b[32m━━━━━━━━━━━━━━━━━━━━\u001b[0m\u001b[37m\u001b[0m \u001b[1m10s\u001b[0m 507ms/step\n",
      "118/118 - 4s - 34ms/step - accuracy: 0.9088 - loss: 0.3208 - val_accuracy: 0.9138 - val_loss: 0.3042\n",
      "Epoch 7/30\n",
      "118/118 - 4s - 31ms/step - accuracy: 0.8455 - loss: 0.4470 - val_accuracy: 0.8315 - val_loss: 0.4780\n",
      "Epoch 7/30\n",
      "Epoch 1/30\n"
     ]
    },
    {
     "name": "stderr",
     "output_type": "stream",
     "text": [
      "2024-07-23 00:23:36.180745: I external/local_tsl/tsl/profiler/lib/profiler_session.cc:104] Profiler session initializing.\n",
      "2024-07-23 00:23:36.180802: I external/local_tsl/tsl/profiler/lib/profiler_session.cc:119] Profiler session started.\n"
     ]
    },
    {
     "name": "stdout",
     "output_type": "stream",
     "text": [
      "118/118 - 1s - 6ms/step - accuracy: 0.9112 - loss: 0.3123 - val_accuracy: 0.9149 - val_loss: 0.2985\n",
      "Epoch 8/30\n",
      "118/118 - 1s - 6ms/step - accuracy: 0.8482 - loss: 0.4387 - val_accuracy: 0.8327 - val_loss: 0.4721\n",
      "Epoch 8/30\n",
      "\u001b[1m118/118\u001b[0m \u001b[32m━━━━━━━━━━━━━━━━━━━━\u001b[0m\u001b[37m\u001b[0m \u001b[1m68s\u001b[0m 544ms/step\n",
      "\u001b[1m118/118\u001b[0m \u001b[32m━━━━━━━━━━━━━━━━━━━━\u001b[0m\u001b[37m\u001b[0m \u001b[1m69s\u001b[0m 541ms/step\n",
      "\u001b[1m20/20\u001b[0m \u001b[32m━━━━━━━━━━━━━━━━━━━━\u001b[0m\u001b[37m\u001b[0m \u001b[1m9s\u001b[0m 493ms/step\n",
      "\u001b[1m 1/20\u001b[0m \u001b[32m━\u001b[0m\u001b[37m━━━━━━━━━━━━━━━━━━━\u001b[0m \u001b[1m0s\u001b[0m 21ms/step"
     ]
    },
    {
     "name": "stderr",
     "output_type": "stream",
     "text": [
      "2024-07-23 00:23:37.199809: I external/local_tsl/tsl/profiler/lib/profiler_session.cc:70] Profiler session collecting data.\n",
      "2024-07-23 00:23:37.206488: I external/local_xla/xla/backends/profiler/gpu/cupti_tracer.cc:1364] CUPTI activity buffer flushed\n",
      "2024-07-23 00:23:37.217984: I external/local_xla/xla/backends/profiler/gpu/cupti_collector.cc:540]  GpuTracer has collected 2047 callback api events and 1706 activity events. \n",
      "2024-07-23 00:23:37.228788: I external/local_tsl/tsl/profiler/lib/profiler_session.cc:131] Profiler session tear down.\n",
      "2024-07-23 00:23:37.230015: I external/local_tsl/tsl/profiler/rpc/client/save_profile.cc:144] Collecting XSpace to repository: /workspaces/QML-QPF/multiprocessing/output/20240723-002227/runs/FASHIONMNIST/FASHIONMNISTqcnot/plugins/profile/2024_07_23_00_23_37/1ba22281c77a.xplane.pb\n"
     ]
    },
    {
     "name": "stdout",
     "output_type": "stream",
     "text": [
      "\u001b[1m20/20\u001b[0m \u001b[32m━━━━━━━━━━━━━━━━━━━━\u001b[0m\u001b[37m\u001b[0m \u001b[1m9s\u001b[0m 481ms/step\n",
      "\u001b[1m20/20\u001b[0m \u001b[32m━━━━━━━━━━━━━━━━━━━━\u001b[0m\u001b[37m\u001b[0m \u001b[1m9s\u001b[0m 482ms/step\n",
      "\u001b[1m 3/20\u001b[0m \u001b[32m━━━\u001b[0m\u001b[37m━━━━━━━━━━━━━━━━━\u001b[0m \u001b[1m2s\u001b[0m 143ms/step118/118 - 1s - 9ms/step - accuracy: 0.9133 - loss: 0.3057 - val_accuracy: 0.9170 - val_loss: 0.2942\n",
      "Epoch 9/30\n",
      "\u001b[1m 5/20\u001b[0m \u001b[32m━━━━━\u001b[0m\u001b[37m━━━━━━━━━━━━━━━\u001b[0m \u001b[1m1s\u001b[0m 123ms/step118/118 - 1s - 11ms/step - accuracy: 0.8506 - loss: 0.4321 - val_accuracy: 0.8335 - val_loss: 0.4676\n",
      "Epoch 9/30\n",
      "\u001b[1m 6/20\u001b[0m \u001b[32m━━━━━━\u001b[0m\u001b[37m━━━━━━━━━━━━━━\u001b[0m \u001b[1m1s\u001b[0m 119ms/stepEpoch 1/30\n",
      "\u001b[1m 9/20\u001b[0m \u001b[32m━━━━━━━━━\u001b[0m\u001b[37m━━━━━━━━━━━\u001b[0m \u001b[1m1s\u001b[0m 113ms/step"
     ]
    },
    {
     "name": "stderr",
     "output_type": "stream",
     "text": [
      "2024-07-23 00:23:38.036250: I external/local_tsl/tsl/profiler/lib/profiler_session.cc:104] Profiler session initializing.\n",
      "2024-07-23 00:23:38.036296: I external/local_tsl/tsl/profiler/lib/profiler_session.cc:119] Profiler session started.\n"
     ]
    },
    {
     "name": "stdout",
     "output_type": "stream",
     "text": [
      "\u001b[1m10/20\u001b[0m \u001b[32m━━━━━━━━━━\u001b[0m\u001b[37m━━━━━━━━━━\u001b[0m \u001b[1m1s\u001b[0m 113ms/stepEpoch 1/30\n",
      "Epoch 1/30\n",
      "\u001b[1m12/20\u001b[0m \u001b[32m━━━━━━━━━━━━\u001b[0m\u001b[37m━━━━━━━━\u001b[0m \u001b[1m0s\u001b[0m 111ms/step"
     ]
    },
    {
     "name": "stderr",
     "output_type": "stream",
     "text": [
      "2024-07-23 00:23:38.383183: I external/local_tsl/tsl/profiler/lib/profiler_session.cc:104] Profiler session initializing.\n",
      "2024-07-23 00:23:38.383224: I external/local_tsl/tsl/profiler/lib/profiler_session.cc:119] Profiler session started.\n",
      "2024-07-23 00:23:38.399575: I external/local_tsl/tsl/profiler/lib/profiler_session.cc:104] Profiler session initializing.\n",
      "2024-07-23 00:23:38.399621: I external/local_tsl/tsl/profiler/lib/profiler_session.cc:119] Profiler session started.\n"
     ]
    },
    {
     "name": "stdout",
     "output_type": "stream",
     "text": [
      "\u001b[1m19/20\u001b[0m \u001b[32m━━━━━━━━━━━━━━━━━━━\u001b[0m\u001b[37m━\u001b[0m \u001b[1m0s\u001b[0m 116ms/step118/118 - 2s - 19ms/step - accuracy: 0.9149 - loss: 0.3005 - val_accuracy: 0.9184 - val_loss: 0.2909\n"
     ]
    },
    {
     "name": "stderr",
     "output_type": "stream",
     "text": [
      "2024-07-23 00:23:39.699670: I external/local_tsl/tsl/profiler/lib/profiler_session.cc:70] Profiler session collecting data.\n",
      "2024-07-23 00:23:39.706118: I external/local_xla/xla/backends/profiler/gpu/cupti_tracer.cc:1364] CUPTI activity buffer flushed\n",
      "2024-07-23 00:23:39.717844: I external/local_xla/xla/backends/profiler/gpu/cupti_collector.cc:540]  GpuTracer has collected 2045 callback api events and 1705 activity events. \n",
      "2024-07-23 00:23:39.731210: I external/local_tsl/tsl/profiler/lib/profiler_session.cc:131] Profiler session tear down.\n",
      "2024-07-23 00:23:39.732312: I external/local_tsl/tsl/profiler/rpc/client/save_profile.cc:144] Collecting XSpace to repository: /workspaces/QML-QPF/multiprocessing/output/20240723-002227/runs/MNIST/MNISTqentcnot/plugins/profile/2024_07_23_00_23_39/1ba22281c77a.xplane.pb\n",
      "2024-07-23 00:23:39.875302: I external/local_tsl/tsl/profiler/lib/profiler_session.cc:70] Profiler session collecting data.\n",
      "2024-07-23 00:23:39.881186: I external/local_xla/xla/backends/profiler/gpu/cupti_tracer.cc:1364] CUPTI activity buffer flushed\n",
      "2024-07-23 00:23:39.892816: I external/local_xla/xla/backends/profiler/gpu/cupti_collector.cc:540]  GpuTracer has collected 2045 callback api events and 1705 activity events. \n"
     ]
    },
    {
     "name": "stdout",
     "output_type": "stream",
     "text": [
      "Epoch 10/30\n",
      "118/118 - 2s - 18ms/step - accuracy: 0.8525 - loss: 0.4267 - val_accuracy: 0.8345 - val_loss: 0.4640\n",
      "Epoch 10/30\n"
     ]
    },
    {
     "name": "stderr",
     "output_type": "stream",
     "text": [
      "2024-07-23 00:23:39.908633: I external/local_tsl/tsl/profiler/lib/profiler_session.cc:131] Profiler session tear down.\n",
      "2024-07-23 00:23:39.909873: I external/local_tsl/tsl/profiler/lib/profiler_session.cc:70] Profiler session collecting data.\n",
      "2024-07-23 00:23:39.910126: I external/local_tsl/tsl/profiler/rpc/client/save_profile.cc:144] Collecting XSpace to repository: /workspaces/QML-QPF/multiprocessing/output/20240723-002227/runs/MNIST/MNISTqcnot/plugins/profile/2024_07_23_00_23_39/1ba22281c77a.xplane.pb\n",
      "2024-07-23 00:23:39.916696: I external/local_xla/xla/backends/profiler/gpu/cupti_tracer.cc:1364] CUPTI activity buffer flushed\n",
      "2024-07-23 00:23:39.929157: I external/local_xla/xla/backends/profiler/gpu/cupti_collector.cc:540]  GpuTracer has collected 2045 callback api events and 1705 activity events. \n",
      "2024-07-23 00:23:39.943228: I external/local_tsl/tsl/profiler/lib/profiler_session.cc:131] Profiler session tear down.\n",
      "2024-07-23 00:23:39.944627: I external/local_tsl/tsl/profiler/rpc/client/save_profile.cc:144] Collecting XSpace to repository: /workspaces/QML-QPF/multiprocessing/output/20240723-002227/runs/FASHIONMNIST/FASHIONMNISTqentcnot/plugins/profile/2024_07_23_00_23_39/1ba22281c77a.xplane.pb\n"
     ]
    },
    {
     "name": "stdout",
     "output_type": "stream",
     "text": [
      "118/118 - 1s - 7ms/step - accuracy: 0.9162 - loss: 0.2963 - val_accuracy: 0.9192 - val_loss: 0.2883\n",
      "Epoch 11/30\n",
      "118/118 - 5s - 39ms/step - accuracy: 0.7103 - loss: 0.8463 - val_accuracy: 0.7866 - val_loss: 0.6174\n",
      "Epoch 2/30\n",
      "118/118 - 1s - 7ms/step - accuracy: 0.8540 - loss: 0.4221 - val_accuracy: 0.8364 - val_loss: 0.4610\n",
      "Epoch 11/30\n",
      "118/118 - 1s - 6ms/step - accuracy: 0.9174 - loss: 0.2927 - val_accuracy: 0.9200 - val_loss: 0.2861\n",
      "Epoch 12/30\n",
      "118/118 - 1s - 7ms/step - accuracy: 0.8079 - loss: 0.5520 - val_accuracy: 0.8085 - val_loss: 0.5471\n",
      "Epoch 3/30\n",
      "118/118 - 1s - 6ms/step - accuracy: 0.8554 - loss: 0.4182 - val_accuracy: 0.8374 - val_loss: 0.4585\n",
      "Epoch 12/30\n",
      "118/118 - 4s - 31ms/step - accuracy: 0.6684 - loss: 1.1613 - val_accuracy: 0.8532 - val_loss: 0.5854\n",
      "Epoch 2/30\n",
      "118/118 - 3s - 29ms/step - accuracy: 0.6785 - loss: 0.9310 - val_accuracy: 0.7784 - val_loss: 0.6279\n",
      "Epoch 2/30\n",
      "118/118 - 3s - 30ms/step - accuracy: 0.6991 - loss: 1.0371 - val_accuracy: 0.8712 - val_loss: 0.5089\n",
      "Epoch 2/30\n",
      "\u001b[1m20/20\u001b[0m \u001b[32m━━━━━━━━━━━━━━━━━━━━\u001b[0m\u001b[37m\u001b[0m \u001b[1m5s\u001b[0m 247ms/step\n",
      "118/118 - 1s - 7ms/step - accuracy: 0.9182 - loss: 0.2896 - val_accuracy: 0.9200 - val_loss: 0.2843\n",
      "Epoch 13/30\n",
      "118/118 - 1s - 7ms/step - accuracy: 0.8244 - loss: 0.5006 - val_accuracy: 0.8184 - val_loss: 0.5170\n",
      "Epoch 4/30\n",
      "118/118 - 1s - 7ms/step - accuracy: 0.8567 - loss: 0.4148 - val_accuracy: 0.8381 - val_loss: 0.4565\n",
      "Epoch 13/30\n",
      "118/118 - 1s - 7ms/step - accuracy: 0.8707 - loss: 0.5013 - val_accuracy: 0.8907 - val_loss: 0.4105\n",
      "Epoch 3/30\n",
      "118/118 - 1s - 7ms/step - accuracy: 0.8071 - loss: 0.5585 - val_accuracy: 0.8041 - val_loss: 0.5451\n",
      "Epoch 3/30\n",
      "118/118 - 1s - 7ms/step - accuracy: 0.8808 - loss: 0.4455 - val_accuracy: 0.9057 - val_loss: 0.3584\n",
      "Epoch 3/30\n",
      "Epoch 1/30\n",
      "118/118 - 1s - 6ms/step - accuracy: 0.9190 - loss: 0.2869 - val_accuracy: 0.9208 - val_loss: 0.2828\n",
      "Epoch 14/30\n"
     ]
    },
    {
     "name": "stderr",
     "output_type": "stream",
     "text": [
      "2024-07-23 00:23:42.980632: I external/local_tsl/tsl/profiler/lib/profiler_session.cc:104] Profiler session initializing.\n",
      "2024-07-23 00:23:42.980766: I external/local_tsl/tsl/profiler/lib/profiler_session.cc:119] Profiler session started.\n"
     ]
    },
    {
     "name": "stdout",
     "output_type": "stream",
     "text": [
      "118/118 - 1s - 7ms/step - accuracy: 0.8941 - loss: 0.3943 - val_accuracy: 0.9058 - val_loss: 0.3459\n",
      "Epoch 4/30\n",
      "118/118 - 1s - 7ms/step - accuracy: 0.8263 - loss: 0.4991 - val_accuracy: 0.8172 - val_loss: 0.5096\n",
      "Epoch 4/30\n",
      "118/118 - 1s - 6ms/step - accuracy: 0.9054 - loss: 0.3480 - val_accuracy: 0.9198 - val_loss: 0.3009\n",
      "Epoch 4/30\n",
      "118/118 - 1s - 10ms/step - accuracy: 0.8329 - loss: 0.4738 - val_accuracy: 0.8243 - val_loss: 0.4995\n",
      "Epoch 5/30\n",
      "118/118 - 1s - 10ms/step - accuracy: 0.8577 - loss: 0.4118 - val_accuracy: 0.8380 - val_loss: 0.4547\n",
      "Epoch 14/30\n",
      "118/118 - 1s - 7ms/step - accuracy: 0.9199 - loss: 0.2846 - val_accuracy: 0.9217 - val_loss: 0.2815\n",
      "Epoch 15/30\n",
      "118/118 - 1s - 7ms/step - accuracy: 0.9048 - loss: 0.3444 - val_accuracy: 0.9134 - val_loss: 0.3113\n",
      "Epoch 5/30\n",
      "118/118 - 1s - 7ms/step - accuracy: 0.8349 - loss: 0.4683 - val_accuracy: 0.8256 - val_loss: 0.4891\n",
      "Epoch 5/30\n",
      "118/118 - 1s - 7ms/step - accuracy: 0.9172 - loss: 0.3012 - val_accuracy: 0.9270 - val_loss: 0.2691\n",
      "Epoch 5/30\n"
     ]
    },
    {
     "name": "stderr",
     "output_type": "stream",
     "text": [
      "2024-07-23 00:23:44.125872: I external/local_tsl/tsl/profiler/lib/profiler_session.cc:70] Profiler session collecting data.\n",
      "2024-07-23 00:23:44.134288: I external/local_xla/xla/backends/profiler/gpu/cupti_tracer.cc:1364] CUPTI activity buffer flushed\n",
      "2024-07-23 00:23:44.146345: I external/local_xla/xla/backends/profiler/gpu/cupti_collector.cc:540]  GpuTracer has collected 2047 callback api events and 1706 activity events. \n",
      "2024-07-23 00:23:44.163172: I external/local_tsl/tsl/profiler/lib/profiler_session.cc:131] Profiler session tear down.\n",
      "2024-07-23 00:23:44.164388: I external/local_tsl/tsl/profiler/rpc/client/save_profile.cc:144] Collecting XSpace to repository: /workspaces/QML-QPF/multiprocessing/output/20240723-002227/runs/MNIST/MNISTqrand/plugins/profile/2024_07_23_00_23_44/1ba22281c77a.xplane.pb\n"
     ]
    },
    {
     "name": "stdout",
     "output_type": "stream",
     "text": [
      "118/118 - 1s - 7ms/step - accuracy: 0.8388 - loss: 0.4565 - val_accuracy: 0.8281 - val_loss: 0.4880\n",
      "Epoch 6/30\n",
      "118/118 - 1s - 7ms/step - accuracy: 0.9203 - loss: 0.2824 - val_accuracy: 0.9219 - val_loss: 0.2803\n",
      "Epoch 16/30\n",
      "118/118 - 1s - 11ms/step - accuracy: 0.8586 - loss: 0.4091 - val_accuracy: 0.8386 - val_loss: 0.4532\n",
      "Epoch 15/30\n",
      "118/118 - 1s - 7ms/step - accuracy: 0.9122 - loss: 0.3143 - val_accuracy: 0.9195 - val_loss: 0.2892\n",
      "Epoch 6/30\n",
      "118/118 - 1s - 7ms/step - accuracy: 0.8419 - loss: 0.4488 - val_accuracy: 0.8306 - val_loss: 0.4756\n",
      "Epoch 6/30\n",
      "118/118 - 1s - 7ms/step - accuracy: 0.9253 - loss: 0.2724 - val_accuracy: 0.9315 - val_loss: 0.2485\n",
      "Epoch 6/30\n",
      "118/118 - 1s - 7ms/step - accuracy: 0.8430 - loss: 0.4442 - val_accuracy: 0.8308 - val_loss: 0.4799\n",
      "Epoch 7/30\n",
      "118/118 - 1s - 7ms/step - accuracy: 0.9210 - loss: 0.2805 - val_accuracy: 0.9215 - val_loss: 0.2793\n",
      "Epoch 17/30\n",
      "118/118 - 1s - 6ms/step - accuracy: 0.8593 - loss: 0.4067 - val_accuracy: 0.8394 - val_loss: 0.4519\n",
      "Epoch 16/30\n",
      "118/118 - 1s - 7ms/step - accuracy: 0.9173 - loss: 0.2936 - val_accuracy: 0.9234 - val_loss: 0.2736\n",
      "Epoch 7/30\n",
      "118/118 - 1s - 7ms/step - accuracy: 0.8469 - loss: 0.4351 - val_accuracy: 0.8344 - val_loss: 0.4660\n",
      "Epoch 7/30\n",
      "118/118 - 1s - 7ms/step - accuracy: 0.8458 - loss: 0.4348 - val_accuracy: 0.8322 - val_loss: 0.4738\n",
      "Epoch 8/30\n",
      "118/118 - 3s - 27ms/step - accuracy: 0.6944 - loss: 1.0878 - val_accuracy: 0.8593 - val_loss: 0.5603\n",
      "Epoch 2/30\n",
      "118/118 - 1s - 7ms/step - accuracy: 0.9216 - loss: 0.2788 - val_accuracy: 0.9216 - val_loss: 0.2784\n",
      "Epoch 18/30\n",
      "118/118 - 1s - 10ms/step - accuracy: 0.9301 - loss: 0.2522 - val_accuracy: 0.9353 - val_loss: 0.2337\n",
      "Epoch 7/30\n",
      "118/118 - 1s - 7ms/step - accuracy: 0.8598 - loss: 0.4045 - val_accuracy: 0.8391 - val_loss: 0.4508\n",
      "118/118 - 1s - 7ms/step - accuracy: 0.9209 - loss: 0.2782 - val_accuracy: 0.9264 - val_loss: 0.2621\n",
      "Epoch 17/30\n",
      "Epoch 8/30\n",
      "118/118 - 1s - 6ms/step - accuracy: 0.8503 - loss: 0.4247 - val_accuracy: 0.8374 - val_loss: 0.4588\n",
      "Epoch 8/30\n",
      "118/118 - 1s - 7ms/step - accuracy: 0.9220 - loss: 0.2772 - val_accuracy: 0.9216 - val_loss: 0.2776\n",
      "Epoch 19/30\n",
      "118/118 - 1s - 7ms/step - accuracy: 0.9340 - loss: 0.2371 - val_accuracy: 0.9371 - val_loss: 0.2226\n",
      "Epoch 8/30\n",
      "118/118 - 1s - 6ms/step - accuracy: 0.9242 - loss: 0.2663 - val_accuracy: 0.9279 - val_loss: 0.2530\n",
      "Epoch 9/30\n",
      "118/118 - 1s - 6ms/step - accuracy: 0.8603 - loss: 0.4025 - val_accuracy: 0.8396 - val_loss: 0.4498\n",
      "Epoch 18/30\n",
      "118/118 - 1s - 10ms/step - accuracy: 0.8483 - loss: 0.4273 - val_accuracy: 0.8347 - val_loss: 0.4692\n",
      "Epoch 9/30\n",
      "118/118 - 1s - 6ms/step - accuracy: 0.8534 - loss: 0.4165 - val_accuracy: 0.8392 - val_loss: 0.4532\n",
      "Epoch 9/30\n",
      "118/118 - 1s - 6ms/step - accuracy: 0.9371 - loss: 0.2253 - val_accuracy: 0.9398 - val_loss: 0.2138\n",
      "Epoch 9/30\n",
      "118/118 - 1s - 6ms/step - accuracy: 0.8608 - loss: 0.4007 - val_accuracy: 0.8406 - val_loss: 0.4490\n",
      "Epoch 19/30\n",
      "118/118 - 1s - 6ms/step - accuracy: 0.8502 - loss: 0.4212 - val_accuracy: 0.8361 - val_loss: 0.4655\n",
      "Epoch 10/30\n",
      "118/118 - 1s - 6ms/step - accuracy: 0.9266 - loss: 0.2566 - val_accuracy: 0.9293 - val_loss: 0.2458\n",
      "Epoch 10/30\n",
      "118/118 - 1s - 6ms/step - accuracy: 0.8551 - loss: 0.4099 - val_accuracy: 0.8401 - val_loss: 0.4488\n",
      "Epoch 10/30\n",
      "118/118 - 1s - 11ms/step - accuracy: 0.9224 - loss: 0.2757 - val_accuracy: 0.9215 - val_loss: 0.2769\n",
      "Epoch 20/30\n",
      "118/118 - 1s - 6ms/step - accuracy: 0.9398 - loss: 0.2156 - val_accuracy: 0.9415 - val_loss: 0.2067\n",
      "Epoch 10/30\n",
      "118/118 - 1s - 6ms/step - accuracy: 0.8613 - loss: 0.3990 - val_accuracy: 0.8403 - val_loss: 0.4482\n",
      "118/118 - 1s - 6ms/step - accuracy: 0.8521 - loss: 0.4160 - val_accuracy: 0.8375 - val_loss: 0.4625\n",
      "Epoch 20/30\n",
      "Epoch 11/30\n",
      "118/118 - 1s - 6ms/step - accuracy: 0.9285 - loss: 0.2487 - val_accuracy: 0.9307 - val_loss: 0.2399\n",
      "Epoch 11/30\n",
      "118/118 - 1s - 6ms/step - accuracy: 0.8574 - loss: 0.4043 - val_accuracy: 0.8418 - val_loss: 0.4452\n",
      "Epoch 11/30\n",
      "118/118 - 1s - 6ms/step - accuracy: 0.9227 - loss: 0.2744 - val_accuracy: 0.9213 - val_loss: 0.2763\n",
      "Epoch 21/30\n",
      "118/118 - 1s - 7ms/step - accuracy: 0.9419 - loss: 0.2075 - val_accuracy: 0.9426 - val_loss: 0.2008\n",
      "Epoch 11/30\n",
      "118/118 - 3s - 28ms/step - accuracy: 0.8662 - loss: 0.4963 - val_accuracy: 0.8927 - val_loss: 0.4061\n",
      "Epoch 3/30\n",
      "118/118 - 1s - 6ms/step - accuracy: 0.8620 - loss: 0.3975 - val_accuracy: 0.8406 - val_loss: 0.4476\n",
      "Epoch 21/30\n",
      "118/118 - 1s - 6ms/step - accuracy: 0.8538 - loss: 0.4116 - val_accuracy: 0.8379 - val_loss: 0.4600\n",
      "Epoch 12/30\n",
      "118/118 - 1s - 7ms/step - accuracy: 0.8587 - loss: 0.3996 - val_accuracy: 0.8435 - val_loss: 0.4422\n",
      "Epoch 12/30\n",
      "118/118 - 1s - 7ms/step - accuracy: 0.9233 - loss: 0.2731 - val_accuracy: 0.9215 - val_loss: 0.2757\n",
      "Epoch 22/30\n",
      "118/118 - 1s - 11ms/step - accuracy: 0.9304 - loss: 0.2420 - val_accuracy: 0.9323 - val_loss: 0.2349\n",
      "Epoch 12/30\n",
      "118/118 - 1s - 7ms/step - accuracy: 0.9436 - loss: 0.2007 - val_accuracy: 0.9437 - val_loss: 0.1958\n",
      "Epoch 12/30\n",
      "118/118 - 1s - 7ms/step - accuracy: 0.8904 - loss: 0.3980 - val_accuracy: 0.9061 - val_loss: 0.3470\n",
      "Epoch 4/30\n",
      "118/118 - 1s - 7ms/step - accuracy: 0.8545 - loss: 0.4078 - val_accuracy: 0.8385 - val_loss: 0.4579\n",
      "118/118 - 1s - 7ms/step - accuracy: 0.8624 - loss: 0.3960 - val_accuracy: 0.8406 - val_loss: 0.4470\n",
      "Epoch 13/30\n",
      "Epoch 22/30\n",
      "118/118 - 1s - 7ms/step - accuracy: 0.8600 - loss: 0.3956 - val_accuracy: 0.8445 - val_loss: 0.4397\n",
      "Epoch 13/30\n",
      "118/118 - 1s - 7ms/step - accuracy: 0.9238 - loss: 0.2719 - val_accuracy: 0.9219 - val_loss: 0.2752\n",
      "Epoch 23/30\n",
      "\u001b[1m 9/20\u001b[0m \u001b[32m━━━━━━━━━\u001b[0m\u001b[37m━━━━━━━━━━━\u001b[0m \u001b[1m1s\u001b[0m 121ms/step118/118 - 1s - 12ms/step - accuracy: 0.9455 - loss: 0.1947 - val_accuracy: 0.9450 - val_loss: 0.1915\n",
      "Epoch 13/30\n",
      "\u001b[1m14/20\u001b[0m \u001b[32m━━━━━━━━━━━━━━\u001b[0m\u001b[37m━━━━━━\u001b[0m \u001b[1m0s\u001b[0m 121ms/step118/118 - 2s - 16ms/step - accuracy: 0.8626 - loss: 0.3946 - val_accuracy: 0.8404 - val_loss: 0.4465\n",
      "Epoch 23/30\n",
      "118/118 - 2s - 17ms/step - accuracy: 0.8556 - loss: 0.4044 - val_accuracy: 0.8382 - val_loss: 0.4561\n",
      "Epoch 14/30\n",
      "\u001b[1m18/20\u001b[0m \u001b[32m━━━━━━━━━━━━━━━━━━\u001b[0m\u001b[37m━━\u001b[0m \u001b[1m0s\u001b[0m 121ms/step118/118 - 2s - 20ms/step - accuracy: 0.8612 - loss: 0.3920 - val_accuracy: 0.8446 - val_loss: 0.4376\n",
      "Epoch 14/30\n",
      "\u001b[1m19/20\u001b[0m \u001b[32m━━━━━━━━━━━━━━━━━━━\u001b[0m\u001b[37m━\u001b[0m \u001b[1m0s\u001b[0m 121ms/step118/118 - 3s - 25ms/step - accuracy: 0.9319 - loss: 0.2362 - val_accuracy: 0.9332 - val_loss: 0.2308\n",
      "Epoch 13/30\n",
      "118/118 - 3s - 22ms/step - accuracy: 0.9242 - loss: 0.2708 - val_accuracy: 0.9217 - val_loss: 0.2747\n",
      "Epoch 24/30\n",
      "118/118 - 3s - 25ms/step - accuracy: 0.9019 - loss: 0.3514 - val_accuracy: 0.9126 - val_loss: 0.3149\n",
      "Epoch 5/30\n",
      "118/118 - 2s - 16ms/step - accuracy: 0.9469 - loss: 0.1895 - val_accuracy: 0.9465 - val_loss: 0.1878\n",
      "Epoch 14/30\n",
      "118/118 - 1s - 12ms/step - accuracy: 0.8629 - loss: 0.3934 - val_accuracy: 0.8400 - val_loss: 0.4461\n",
      "Epoch 24/30\n",
      "118/118 - 1s - 13ms/step - accuracy: 0.8571 - loss: 0.4013 - val_accuracy: 0.8383 - val_loss: 0.4546\n",
      "Epoch 15/30\n",
      "118/118 - 1s - 9ms/step - accuracy: 0.8618 - loss: 0.3889 - val_accuracy: 0.8450 - val_loss: 0.4358\n",
      "Epoch 15/30\n",
      "118/118 - 1s - 8ms/step - accuracy: 0.9332 - loss: 0.2312 - val_accuracy: 0.9339 - val_loss: 0.2272\n",
      "Epoch 14/30\n",
      "118/118 - 1s - 8ms/step - accuracy: 0.9245 - loss: 0.2698 - val_accuracy: 0.9217 - val_loss: 0.2743\n",
      "Epoch 25/30\n",
      "118/118 - 1s - 8ms/step - accuracy: 0.9094 - loss: 0.3232 - val_accuracy: 0.9174 - val_loss: 0.2945\n",
      "Epoch 6/30\n",
      "118/118 - 1s - 7ms/step - accuracy: 0.9481 - loss: 0.1850 - val_accuracy: 0.9468 - val_loss: 0.1846\n",
      "Epoch 15/30\n",
      "118/118 - 1s - 7ms/step - accuracy: 0.8633 - loss: 0.3922 - val_accuracy: 0.8402 - val_loss: 0.4457\n",
      "Epoch 25/30\n",
      "118/118 - 1s - 7ms/step - accuracy: 0.8576 - loss: 0.3986 - val_accuracy: 0.8391 - val_loss: 0.4533\n",
      "Epoch 16/30\n",
      "118/118 - 1s - 7ms/step - accuracy: 0.8626 - loss: 0.3861 - val_accuracy: 0.8454 - val_loss: 0.4342\n",
      "Epoch 16/30\n",
      "118/118 - 1s - 7ms/step - accuracy: 0.9344 - loss: 0.2268 - val_accuracy: 0.9351 - val_loss: 0.2242\n",
      "Epoch 15/30\n",
      "118/118 - 1s - 7ms/step - accuracy: 0.9248 - loss: 0.2688 - val_accuracy: 0.9217 - val_loss: 0.2739\n",
      "Epoch 26/30\n",
      "118/118 - 1s - 7ms/step - accuracy: 0.9491 - loss: 0.1809 - val_accuracy: 0.9476 - val_loss: 0.1818\n",
      "Epoch 16/30\n",
      "118/118 - 1s - 9ms/step - accuracy: 0.9155 - loss: 0.3039 - val_accuracy: 0.9202 - val_loss: 0.2803\n",
      "Epoch 7/30\n",
      "118/118 - 1s - 7ms/step - accuracy: 0.8637 - loss: 0.3910 - val_accuracy: 0.8406 - val_loss: 0.4454\n",
      "Epoch 26/30\n",
      "118/118 - 1s - 7ms/step - accuracy: 0.8586 - loss: 0.3961 - val_accuracy: 0.8396 - val_loss: 0.4521\n",
      "Epoch 17/30\n",
      "\u001b[1m20/20\u001b[0m \u001b[32m━━━━━━━━━━━━━━━━━━━━\u001b[0m\u001b[37m\u001b[0m \u001b[1m5s\u001b[0m 258ms/step\n",
      "118/118 - 1s - 6ms/step - accuracy: 0.9354 - loss: 0.2229 - val_accuracy: 0.9359 - val_loss: 0.2215\n",
      "Epoch 16/30\n",
      "118/118 - 1s - 7ms/step - accuracy: 0.9251 - loss: 0.2679 - val_accuracy: 0.9217 - val_loss: 0.2735\n",
      "Epoch 27/30\n",
      "118/118 - 1s - 11ms/step - accuracy: 0.8636 - loss: 0.3836 - val_accuracy: 0.8456 - val_loss: 0.4329\n",
      "Epoch 17/30\n",
      "118/118 - 1s - 7ms/step - accuracy: 0.9190 - loss: 0.2897 - val_accuracy: 0.9232 - val_loss: 0.2699\n",
      "Epoch 8/30\n",
      "118/118 - 1s - 7ms/step - accuracy: 0.8642 - loss: 0.3900 - val_accuracy: 0.8410 - val_loss: 0.4451\n",
      "Epoch 27/30\n",
      "118/118 - 1s - 7ms/step - accuracy: 0.8593 - loss: 0.3938 - val_accuracy: 0.8393 - val_loss: 0.4511\n",
      "Epoch 18/30\n",
      "118/118 - 1s - 7ms/step - accuracy: 0.9362 - loss: 0.2194 - val_accuracy: 0.9370 - val_loss: 0.2192\n",
      "Epoch 17/30\n",
      "118/118 - 1s - 11ms/step - accuracy: 0.9502 - loss: 0.1773 - val_accuracy: 0.9482 - val_loss: 0.1793\n",
      "Epoch 17/30\n",
      "118/118 - 1s - 7ms/step - accuracy: 0.9254 - loss: 0.2671 - val_accuracy: 0.9219 - val_loss: 0.2732\n",
      "Epoch 28/30\n",
      "Epoch 1/30\n"
     ]
    },
    {
     "name": "stderr",
     "output_type": "stream",
     "text": [
      "2024-07-23 00:23:56.647780: I external/local_tsl/tsl/profiler/lib/profiler_session.cc:104] Profiler session initializing.\n",
      "2024-07-23 00:23:56.647834: I external/local_tsl/tsl/profiler/lib/profiler_session.cc:119] Profiler session started.\n"
     ]
    },
    {
     "name": "stdout",
     "output_type": "stream",
     "text": [
      "118/118 - 1s - 7ms/step - accuracy: 0.8642 - loss: 0.3813 - val_accuracy: 0.8457 - val_loss: 0.4317\n",
      "Epoch 18/30\n",
      "118/118 - 1s - 7ms/step - accuracy: 0.8644 - loss: 0.3890 - val_accuracy: 0.8405 - val_loss: 0.4449\n",
      "Epoch 28/30\n",
      "118/118 - 1s - 7ms/step - accuracy: 0.8600 - loss: 0.3918 - val_accuracy: 0.8394 - val_loss: 0.4503\n",
      "Epoch 19/30\n",
      "118/118 - 1s - 7ms/step - accuracy: 0.9371 - loss: 0.2163 - val_accuracy: 0.9374 - val_loss: 0.2172\n",
      "Epoch 18/30\n",
      "118/118 - 1s - 7ms/step - accuracy: 0.9509 - loss: 0.1740 - val_accuracy: 0.9487 - val_loss: 0.1771\n",
      "Epoch 18/30\n",
      "118/118 - 1s - 10ms/step - accuracy: 0.9218 - loss: 0.2786 - val_accuracy: 0.9249 - val_loss: 0.2618\n",
      "Epoch 9/30\n",
      "118/118 - 1s - 7ms/step - accuracy: 0.8645 - loss: 0.3792 - val_accuracy: 0.8456 - val_loss: 0.4307\n",
      "Epoch 19/30\n",
      "118/118 - 1s - 11ms/step - accuracy: 0.9256 - loss: 0.2662 - val_accuracy: 0.9222 - val_loss: 0.2729\n",
      "Epoch 29/30\n",
      "118/118 - 1s - 7ms/step - accuracy: 0.8647 - loss: 0.3880 - val_accuracy: 0.8402 - val_loss: 0.4447\n",
      "Epoch 29/30\n"
     ]
    },
    {
     "name": "stderr",
     "output_type": "stream",
     "text": [
      "2024-07-23 00:23:57.817371: I external/local_tsl/tsl/profiler/lib/profiler_session.cc:70] Profiler session collecting data.\n",
      "2024-07-23 00:23:57.825621: I external/local_xla/xla/backends/profiler/gpu/cupti_tracer.cc:1364] CUPTI activity buffer flushed\n",
      "2024-07-23 00:23:57.837855: I external/local_xla/xla/backends/profiler/gpu/cupti_collector.cc:540]  GpuTracer has collected 2045 callback api events and 1705 activity events. \n",
      "2024-07-23 00:23:57.853477: I external/local_tsl/tsl/profiler/lib/profiler_session.cc:131] Profiler session tear down.\n",
      "2024-07-23 00:23:57.854682: I external/local_tsl/tsl/profiler/rpc/client/save_profile.cc:144] Collecting XSpace to repository: /workspaces/QML-QPF/multiprocessing/output/20240723-002227/runs/FASHIONMNIST/FASHIONMNISTqrand/plugins/profile/2024_07_23_00_23_57/1ba22281c77a.xplane.pb\n"
     ]
    },
    {
     "name": "stdout",
     "output_type": "stream",
     "text": [
      "118/118 - 1s - 7ms/step - accuracy: 0.9377 - loss: 0.2134 - val_accuracy: 0.9383 - val_loss: 0.2154\n",
      "Epoch 19/30\n",
      "118/118 - 1s - 7ms/step - accuracy: 0.9516 - loss: 0.1710 - val_accuracy: 0.9490 - val_loss: 0.1751\n",
      "Epoch 19/30\n",
      "118/118 - 1s - 7ms/step - accuracy: 0.9236 - loss: 0.2698 - val_accuracy: 0.9265 - val_loss: 0.2555\n",
      "Epoch 10/30\n",
      "118/118 - 1s - 11ms/step - accuracy: 0.8608 - loss: 0.3898 - val_accuracy: 0.8400 - val_loss: 0.4495\n",
      "Epoch 20/30\n",
      "118/118 - 1s - 7ms/step - accuracy: 0.8652 - loss: 0.3773 - val_accuracy: 0.8463 - val_loss: 0.4298\n",
      "Epoch 20/30\n",
      "118/118 - 1s - 7ms/step - accuracy: 0.8650 - loss: 0.3871 - val_accuracy: 0.8399 - val_loss: 0.4445\n",
      "Epoch 30/30\n",
      "118/118 - 1s - 7ms/step - accuracy: 0.9259 - loss: 0.2654 - val_accuracy: 0.9223 - val_loss: 0.2726\n",
      "Epoch 30/30\n",
      "118/118 - 1s - 7ms/step - accuracy: 0.9379 - loss: 0.2108 - val_accuracy: 0.9386 - val_loss: 0.2138\n",
      "Epoch 20/30\n",
      "118/118 - 1s - 7ms/step - accuracy: 0.9522 - loss: 0.1682 - val_accuracy: 0.9494 - val_loss: 0.1734\n",
      "Epoch 20/30\n",
      "118/118 - 1s - 7ms/step - accuracy: 0.9255 - loss: 0.2626 - val_accuracy: 0.9270 - val_loss: 0.2503\n",
      "Epoch 11/30\n",
      "118/118 - 1s - 7ms/step - accuracy: 0.8614 - loss: 0.3881 - val_accuracy: 0.8405 - val_loss: 0.4488\n",
      "Epoch 21/30\n",
      "118/118 - 1s - 7ms/step - accuracy: 0.8658 - loss: 0.3756 - val_accuracy: 0.8465 - val_loss: 0.4291\n",
      "Epoch 21/30\n",
      "118/118 - 1s - 7ms/step - accuracy: 0.9262 - loss: 0.2647 - val_accuracy: 0.9222 - val_loss: 0.2724\n",
      "118/118 - 1s - 7ms/step - accuracy: 0.9530 - loss: 0.1658 - val_accuracy: 0.9500 - val_loss: 0.1718\n",
      "Epoch 21/30\n",
      "118/118 - 1s - 7ms/step - accuracy: 0.9274 - loss: 0.2564 - val_accuracy: 0.9277 - val_loss: 0.2460\n",
      "Epoch 12/30\n",
      "118/118 - 1s - 10ms/step - accuracy: 0.8654 - loss: 0.3863 - val_accuracy: 0.8396 - val_loss: 0.4444\n",
      "118/118 - 3s - 28ms/step - accuracy: 0.6821 - loss: 0.9268 - val_accuracy: 0.7738 - val_loss: 0.6463\n",
      "Epoch 2/30\n",
      "118/118 - 1s - 7ms/step - accuracy: 0.8619 - loss: 0.3864 - val_accuracy: 0.8403 - val_loss: 0.4482\n",
      "Epoch 22/30\n",
      "118/118 - 1s - 10ms/step - accuracy: 0.9385 - loss: 0.2084 - val_accuracy: 0.9384 - val_loss: 0.2124\n",
      "Epoch 21/30\n",
      "118/118 - 1s - 7ms/step - accuracy: 0.8662 - loss: 0.3740 - val_accuracy: 0.8464 - val_loss: 0.4284\n",
      "Epoch 22/30\n",
      "118/118 - 1s - 6ms/step - accuracy: 0.9535 - loss: 0.1635 - val_accuracy: 0.9505 - val_loss: 0.1704\n",
      "Epoch 22/30\n",
      "118/118 - 1s - 7ms/step - accuracy: 0.9289 - loss: 0.2512 - val_accuracy: 0.9288 - val_loss: 0.2424\n",
      "Epoch 13/30\n",
      "118/118 - 1s - 7ms/step - accuracy: 0.8014 - loss: 0.5754 - val_accuracy: 0.8033 - val_loss: 0.5633\n",
      "Epoch 3/30\n",
      "118/118 - 1s - 6ms/step - accuracy: 0.9393 - loss: 0.2062 - val_accuracy: 0.9378 - val_loss: 0.2112\n",
      "Epoch 22/30\n",
      "118/118 - 1s - 6ms/step - accuracy: 0.8666 - loss: 0.3724 - val_accuracy: 0.8466 - val_loss: 0.4278\n",
      "Epoch 23/30\n",
      "118/118 - 1s - 10ms/step - accuracy: 0.8625 - loss: 0.3849 - val_accuracy: 0.8403 - val_loss: 0.4477\n",
      "Epoch 23/30\n",
      "118/118 - 1s - 6ms/step - accuracy: 0.9542 - loss: 0.1613 - val_accuracy: 0.9508 - val_loss: 0.1691\n",
      "Epoch 23/30\n",
      "118/118 - 1s - 6ms/step - accuracy: 0.9299 - loss: 0.2467 - val_accuracy: 0.9297 - val_loss: 0.2394\n",
      "Epoch 14/30\n",
      "118/118 - 1s - 7ms/step - accuracy: 0.8213 - loss: 0.5161 - val_accuracy: 0.8134 - val_loss: 0.5291\n",
      "Epoch 4/30\n",
      "118/118 - 1s - 6ms/step - accuracy: 0.9397 - loss: 0.2042 - val_accuracy: 0.9377 - val_loss: 0.2100\n",
      "Epoch 23/30\n",
      "118/118 - 1s - 6ms/step - accuracy: 0.8670 - loss: 0.3711 - val_accuracy: 0.8469 - val_loss: 0.4272\n",
      "Epoch 24/30\n",
      "118/118 - 1s - 6ms/step - accuracy: 0.9546 - loss: 0.1594 - val_accuracy: 0.9505 - val_loss: 0.1680\n",
      "Epoch 24/30\n",
      "118/118 - 1s - 6ms/step - accuracy: 0.9313 - loss: 0.2427 - val_accuracy: 0.9306 - val_loss: 0.2368\n",
      "Epoch 15/30\n",
      "118/118 - 1s - 7ms/step - accuracy: 0.8316 - loss: 0.4860 - val_accuracy: 0.8211 - val_loss: 0.5094\n",
      "Epoch 5/30\n",
      "118/118 - 1s - 6ms/step - accuracy: 0.9404 - loss: 0.2023 - val_accuracy: 0.9382 - val_loss: 0.2090\n",
      "Epoch 24/30\n",
      "118/118 - 1s - 6ms/step - accuracy: 0.8676 - loss: 0.3697 - val_accuracy: 0.8473 - val_loss: 0.4268\n",
      "Epoch 25/30\n",
      "118/118 - 1s - 11ms/step - accuracy: 0.8630 - loss: 0.3834 - val_accuracy: 0.8404 - val_loss: 0.4472\n",
      "Epoch 24/30\n",
      "118/118 - 1s - 6ms/step - accuracy: 0.9550 - loss: 0.1576 - val_accuracy: 0.9513 - val_loss: 0.1669\n",
      "Epoch 25/30\n",
      "118/118 - 1s - 6ms/step - accuracy: 0.9321 - loss: 0.2392 - val_accuracy: 0.9307 - val_loss: 0.2345\n",
      "Epoch 16/30\n",
      "118/118 - 1s - 6ms/step - accuracy: 0.8370 - loss: 0.4669 - val_accuracy: 0.8250 - val_loss: 0.4963\n",
      "Epoch 6/30\n",
      "118/118 - 1s - 6ms/step - accuracy: 0.9410 - loss: 0.2006 - val_accuracy: 0.9387 - val_loss: 0.2081\n",
      "Epoch 25/30\n",
      "118/118 - 1s - 6ms/step - accuracy: 0.8680 - loss: 0.3685 - val_accuracy: 0.8472 - val_loss: 0.4264\n",
      "Epoch 26/30\n",
      "118/118 - 1s - 6ms/step - accuracy: 0.8632 - loss: 0.3821 - val_accuracy: 0.8401 - val_loss: 0.4468\n",
      "Epoch 25/30\n",
      "118/118 - 1s - 6ms/step - accuracy: 0.9555 - loss: 0.1559 - val_accuracy: 0.9515 - val_loss: 0.1660\n",
      "Epoch 26/30\n",
      "118/118 - 1s - 6ms/step - accuracy: 0.9329 - loss: 0.2360 - val_accuracy: 0.9319 - val_loss: 0.2325\n",
      "Epoch 17/30\n",
      "118/118 - 1s - 6ms/step - accuracy: 0.8420 - loss: 0.4534 - val_accuracy: 0.8271 - val_loss: 0.4868\n",
      "Epoch 7/30\n",
      "118/118 - 1s - 6ms/step - accuracy: 0.9414 - loss: 0.1989 - val_accuracy: 0.9390 - val_loss: 0.2073\n",
      "Epoch 26/30\n",
      "118/118 - 1s - 6ms/step - accuracy: 0.8684 - loss: 0.3674 - val_accuracy: 0.8473 - val_loss: 0.4260\n",
      "Epoch 27/30\n",
      "118/118 - 1s - 6ms/step - accuracy: 0.8635 - loss: 0.3808 - val_accuracy: 0.8400 - val_loss: 0.4464\n",
      "Epoch 26/30\n",
      "118/118 - 1s - 6ms/step - accuracy: 0.9559 - loss: 0.1543 - val_accuracy: 0.9516 - val_loss: 0.1652\n",
      "Epoch 27/30\n",
      "118/118 - 1s - 6ms/step - accuracy: 0.9336 - loss: 0.2332 - val_accuracy: 0.9320 - val_loss: 0.2307\n",
      "Epoch 18/30\n",
      "118/118 - 1s - 6ms/step - accuracy: 0.8454 - loss: 0.4431 - val_accuracy: 0.8287 - val_loss: 0.4797\n",
      "Epoch 8/30\n",
      "118/118 - 1s - 6ms/step - accuracy: 0.9418 - loss: 0.1974 - val_accuracy: 0.9390 - val_loss: 0.2065\n",
      "Epoch 27/30\n",
      "118/118 - 1s - 6ms/step - accuracy: 0.8687 - loss: 0.3663 - val_accuracy: 0.8468 - val_loss: 0.4257\n",
      "Epoch 28/30\n",
      "118/118 - 1s - 6ms/step - accuracy: 0.8638 - loss: 0.3796 - val_accuracy: 0.8401 - val_loss: 0.4461\n",
      "Epoch 27/30\n",
      "118/118 - 1s - 6ms/step - accuracy: 0.9565 - loss: 0.1528 - val_accuracy: 0.9513 - val_loss: 0.1644\n",
      "Epoch 28/30\n",
      "118/118 - 1s - 6ms/step - accuracy: 0.8481 - loss: 0.4349 - val_accuracy: 0.8301 - val_loss: 0.4741\n",
      "Epoch 9/30\n",
      "118/118 - 1s - 6ms/step - accuracy: 0.9421 - loss: 0.1960 - val_accuracy: 0.9395 - val_loss: 0.2058\n",
      "Epoch 28/30\n",
      "118/118 - 1s - 6ms/step - accuracy: 0.8691 - loss: 0.3653 - val_accuracy: 0.8470 - val_loss: 0.4255\n",
      "Epoch 29/30\n",
      "118/118 - 1s - 6ms/step - accuracy: 0.8643 - loss: 0.3785 - val_accuracy: 0.8397 - val_loss: 0.4458\n",
      "Epoch 28/30\n",
      "118/118 - 1s - 11ms/step - accuracy: 0.9347 - loss: 0.2306 - val_accuracy: 0.9326 - val_loss: 0.2292\n",
      "Epoch 19/30\n",
      "118/118 - 1s - 6ms/step - accuracy: 0.9568 - loss: 0.1514 - val_accuracy: 0.9516 - val_loss: 0.1637\n",
      "Epoch 29/30\n",
      "118/118 - 1s - 6ms/step - accuracy: 0.8499 - loss: 0.4283 - val_accuracy: 0.8321 - val_loss: 0.4696\n",
      "Epoch 10/30\n",
      "118/118 - 1s - 6ms/step - accuracy: 0.9423 - loss: 0.1946 - val_accuracy: 0.9400 - val_loss: 0.2052\n",
      "Epoch 29/30\n",
      "118/118 - 1s - 6ms/step - accuracy: 0.8692 - loss: 0.3643 - val_accuracy: 0.8473 - val_loss: 0.4252\n",
      "Epoch 30/30\n",
      "118/118 - 1s - 6ms/step - accuracy: 0.8647 - loss: 0.3774 - val_accuracy: 0.8397 - val_loss: 0.4455\n",
      "Epoch 29/30\n",
      "118/118 - 1s - 6ms/step - accuracy: 0.9354 - loss: 0.2283 - val_accuracy: 0.9329 - val_loss: 0.2278\n",
      "Epoch 20/30\n",
      "118/118 - 1s - 6ms/step - accuracy: 0.9572 - loss: 0.1501 - val_accuracy: 0.9515 - val_loss: 0.1631\n",
      "Epoch 30/30\n",
      "118/118 - 1s - 6ms/step - accuracy: 0.8518 - loss: 0.4227 - val_accuracy: 0.8322 - val_loss: 0.4659\n",
      "Epoch 11/30\n",
      "118/118 - 1s - 6ms/step - accuracy: 0.8694 - loss: 0.3634 - val_accuracy: 0.8471 - val_loss: 0.4250\n",
      "118/118 - 1s - 6ms/step - accuracy: 0.9428 - loss: 0.1934 - val_accuracy: 0.9400 - val_loss: 0.2046\n",
      "Epoch 30/30\n",
      "118/118 - 1s - 6ms/step - accuracy: 0.8651 - loss: 0.3764 - val_accuracy: 0.8402 - val_loss: 0.4452\n",
      "Epoch 30/30\n",
      "118/118 - 1s - 6ms/step - accuracy: 0.9362 - loss: 0.2262 - val_accuracy: 0.9330 - val_loss: 0.2265\n",
      "Epoch 21/30\n",
      "118/118 - 1s - 7ms/step - accuracy: 0.8533 - loss: 0.4180 - val_accuracy: 0.8334 - val_loss: 0.4628\n",
      "Epoch 12/30\n",
      "118/118 - 1s - 6ms/step - accuracy: 0.9431 - loss: 0.1922 - val_accuracy: 0.9403 - val_loss: 0.2041\n",
      "118/118 - 1s - 6ms/step - accuracy: 0.8655 - loss: 0.3754 - val_accuracy: 0.8406 - val_loss: 0.4450\n",
      "118/118 - 1s - 11ms/step - accuracy: 0.9577 - loss: 0.1488 - val_accuracy: 0.9515 - val_loss: 0.1625\n",
      "118/118 - 1s - 7ms/step - accuracy: 0.9367 - loss: 0.2242 - val_accuracy: 0.9334 - val_loss: 0.2254\n",
      "Epoch 22/30\n",
      "118/118 - 1s - 7ms/step - accuracy: 0.8551 - loss: 0.4139 - val_accuracy: 0.8344 - val_loss: 0.4602\n",
      "Epoch 13/30\n",
      "118/118 - 1s - 6ms/step - accuracy: 0.9373 - loss: 0.2224 - val_accuracy: 0.9336 - val_loss: 0.2244\n",
      "Epoch 23/30\n",
      "118/118 - 1s - 6ms/step - accuracy: 0.8566 - loss: 0.4103 - val_accuracy: 0.8353 - val_loss: 0.4580\n",
      "Epoch 14/30\n",
      "118/118 - 1s - 6ms/step - accuracy: 0.9376 - loss: 0.2207 - val_accuracy: 0.9341 - val_loss: 0.2235\n",
      "Epoch 24/30\n",
      "118/118 - 1s - 6ms/step - accuracy: 0.8574 - loss: 0.4071 - val_accuracy: 0.8358 - val_loss: 0.4561\n",
      "Epoch 15/30\n",
      "118/118 - 1s - 6ms/step - accuracy: 0.9381 - loss: 0.2191 - val_accuracy: 0.9340 - val_loss: 0.2227\n",
      "Epoch 25/30\n",
      "118/118 - 1s - 6ms/step - accuracy: 0.8584 - loss: 0.4042 - val_accuracy: 0.8365 - val_loss: 0.4545\n",
      "Epoch 16/30\n",
      "118/118 - 1s - 6ms/step - accuracy: 0.9385 - loss: 0.2177 - val_accuracy: 0.9346 - val_loss: 0.2220\n",
      "Epoch 26/30\n",
      "118/118 - 1s - 7ms/step - accuracy: 0.8592 - loss: 0.4016 - val_accuracy: 0.8376 - val_loss: 0.4531\n",
      "Epoch 17/30\n",
      "118/118 - 1s - 6ms/step - accuracy: 0.9391 - loss: 0.2163 - val_accuracy: 0.9350 - val_loss: 0.2213\n",
      "Epoch 27/30\n",
      "118/118 - 1s - 6ms/step - accuracy: 0.8599 - loss: 0.3992 - val_accuracy: 0.8378 - val_loss: 0.4518\n",
      "Epoch 18/30\n",
      "118/118 - 1s - 6ms/step - accuracy: 0.9393 - loss: 0.2150 - val_accuracy: 0.9351 - val_loss: 0.2207\n",
      "Epoch 28/30\n",
      "118/118 - 1s - 6ms/step - accuracy: 0.8607 - loss: 0.3971 - val_accuracy: 0.8382 - val_loss: 0.4508\n",
      "Epoch 19/30\n",
      "118/118 - 1s - 6ms/step - accuracy: 0.9396 - loss: 0.2138 - val_accuracy: 0.9356 - val_loss: 0.2201\n",
      "Epoch 29/30\n",
      "118/118 - 1s - 6ms/step - accuracy: 0.8615 - loss: 0.3951 - val_accuracy: 0.8392 - val_loss: 0.4498\n",
      "Epoch 20/30\n",
      "118/118 - 1s - 6ms/step - accuracy: 0.9401 - loss: 0.2127 - val_accuracy: 0.9357 - val_loss: 0.2196\n",
      "Epoch 30/30\n",
      "118/118 - 1s - 6ms/step - accuracy: 0.8622 - loss: 0.3933 - val_accuracy: 0.8396 - val_loss: 0.4490\n",
      "Epoch 21/30\n",
      "118/118 - 1s - 6ms/step - accuracy: 0.9403 - loss: 0.2116 - val_accuracy: 0.9359 - val_loss: 0.2191\n",
      "118/118 - 1s - 5ms/step - accuracy: 0.8628 - loss: 0.3916 - val_accuracy: 0.8404 - val_loss: 0.4482\n",
      "Epoch 22/30\n",
      "118/118 - 0s - 4ms/step - accuracy: 0.8631 - loss: 0.3900 - val_accuracy: 0.8408 - val_loss: 0.4476\n",
      "Epoch 23/30\n",
      "118/118 - 0s - 4ms/step - accuracy: 0.8637 - loss: 0.3885 - val_accuracy: 0.8407 - val_loss: 0.4470\n",
      "Epoch 24/30\n",
      "118/118 - 1s - 5ms/step - accuracy: 0.8638 - loss: 0.3871 - val_accuracy: 0.8413 - val_loss: 0.4465\n",
      "Epoch 25/30\n",
      "118/118 - 1s - 5ms/step - accuracy: 0.8640 - loss: 0.3858 - val_accuracy: 0.8414 - val_loss: 0.4460\n",
      "Epoch 26/30\n",
      "118/118 - 1s - 4ms/step - accuracy: 0.8644 - loss: 0.3846 - val_accuracy: 0.8412 - val_loss: 0.4456\n",
      "Epoch 27/30\n",
      "118/118 - 0s - 4ms/step - accuracy: 0.8648 - loss: 0.3835 - val_accuracy: 0.8414 - val_loss: 0.4453\n",
      "Epoch 28/30\n",
      "118/118 - 1s - 4ms/step - accuracy: 0.8652 - loss: 0.3824 - val_accuracy: 0.8412 - val_loss: 0.4450\n",
      "Epoch 29/30\n",
      "118/118 - 1s - 4ms/step - accuracy: 0.8657 - loss: 0.3813 - val_accuracy: 0.8416 - val_loss: 0.4447\n",
      "Epoch 30/30\n",
      "118/118 - 1s - 4ms/step - accuracy: 0.8660 - loss: 0.3803 - val_accuracy: 0.8417 - val_loss: 0.4444\n"
     ]
    }
   ],
   "source": [
    "\n",
    "def frontload_data():\n",
    "    from tensorflow import keras\n",
    "    mnist_dataset = keras.datasets.fashion_mnist\n",
    "    (train_images, train_labels), (test_images, test_labels) = mnist_dataset.load_data()\n",
    "    mnist_dataset = keras.datasets.mnist\n",
    "    (train_images, train_labels), (test_images, test_labels) = mnist_dataset.load_data()\n",
    "\n",
    "def pool_job(input):\n",
    "    this_model = Model(*input)\n",
    "    this_model.set_data()\n",
    "    this_model.prep()\n",
    "    this_model.pre_filter()\n",
    "    this_model.fit()\n",
    "    this_model.save_filtered()\n",
    "\n",
    "frontload_data()\n",
    "#to prevent race condition\n",
    "with ProcessPoolExecutor(8) as executor:\n",
    "    runner = {\n",
    "            executor.submit(pool_job, m): m for m in models\n",
    "        }\n",
    "    for future in as_completed(runner):\n",
    "        runner.pop(future)\n",
    "\n",
    "\n",
    "\n"
   ]
  },
  {
   "cell_type": "code",
   "execution_count": 3,
   "metadata": {},
   "outputs": [
    {
     "name": "stderr",
     "output_type": "stream",
     "text": [
      "2024-07-23 00:24:20.016711: I external/local_tsl/tsl/profiler/lib/profiler_session.cc:104] Profiler session initializing.\n",
      "2024-07-23 00:24:20.016801: I external/local_tsl/tsl/profiler/lib/profiler_session.cc:119] Profiler session started.\n",
      "2024-07-23 00:24:20.017052: I external/local_tsl/tsl/profiler/lib/profiler_session.cc:104] Profiler session initializing.\n",
      "2024-07-23 00:24:20.017230: I external/local_tsl/tsl/profiler/lib/profiler_session.cc:119] Profiler session started.\n",
      "2024-07-23 00:24:20.017199: I external/local_tsl/tsl/profiler/lib/profiler_session.cc:104] Profiler session initializing.\n",
      "2024-07-23 00:24:20.017257: I external/local_tsl/tsl/profiler/lib/profiler_session.cc:104] Profiler session initializing.\n",
      "2024-07-23 00:24:20.017419: I external/local_tsl/tsl/profiler/lib/profiler_session.cc:119] Profiler session started.\n",
      "2024-07-23 00:24:20.017421: I external/local_tsl/tsl/profiler/lib/profiler_session.cc:119] Profiler session started.\n",
      "2024-07-23 00:24:20.017863: I external/local_tsl/tsl/profiler/lib/profiler_session.cc:104] Profiler session initializing.\n",
      "2024-07-23 00:24:20.018019: I external/local_tsl/tsl/profiler/lib/profiler_session.cc:119] Profiler session started.\n",
      "2024-07-23 00:24:20.017932: I external/local_tsl/tsl/profiler/lib/profiler_session.cc:104] Profiler session initializing.\n",
      "2024-07-23 00:24:20.018092: I external/local_tsl/tsl/profiler/lib/profiler_session.cc:119] Profiler session started.\n",
      "2024-07-23 00:24:20.018559: I external/local_tsl/tsl/profiler/lib/profiler_session.cc:104] Profiler session initializing.\n",
      "2024-07-23 00:24:20.018774: I external/local_tsl/tsl/profiler/lib/profiler_session.cc:119] Profiler session started.\n",
      "2024-07-23 00:24:20.020886: I external/local_tsl/tsl/profiler/lib/profiler_session.cc:104] Profiler session initializing.\n",
      "2024-07-23 00:24:20.021089: I external/local_tsl/tsl/profiler/lib/profiler_session.cc:119] Profiler session started.\n",
      "2024-07-23 00:24:20.046364: I external/local_xla/xla/backends/profiler/gpu/cupti_tracer.cc:1239] Profiler found 1 GPUs\n",
      "2024-07-23 00:24:20.047319: I external/local_xla/xla/backends/profiler/gpu/cupti_tracer.cc:1239] Profiler found 1 GPUs\n",
      "2024-07-23 00:24:20.047386: I external/local_xla/xla/backends/profiler/gpu/cupti_tracer.cc:1239] Profiler found 1 GPUs\n",
      "2024-07-23 00:24:20.047727: I external/local_xla/xla/backends/profiler/gpu/cupti_tracer.cc:1239] Profiler found 1 GPUs\n",
      "2024-07-23 00:24:20.048012: I external/local_xla/xla/backends/profiler/gpu/cupti_tracer.cc:1239] Profiler found 1 GPUs\n",
      "2024-07-23 00:24:20.048375: I external/local_xla/xla/backends/profiler/gpu/cupti_tracer.cc:1239] Profiler found 1 GPUs\n",
      "2024-07-23 00:24:20.048622: I external/local_xla/xla/backends/profiler/gpu/cupti_tracer.cc:1239] Profiler found 1 GPUs\n",
      "2024-07-23 00:24:20.048862: I external/local_xla/xla/backends/profiler/gpu/cupti_tracer.cc:1239] Profiler found 1 GPUs\n",
      "2024-07-23 00:24:20.056775: I external/local_tsl/tsl/profiler/lib/profiler_session.cc:131] Profiler session tear down.\n",
      "2024-07-23 00:24:20.056928: I external/local_xla/xla/backends/profiler/gpu/cupti_tracer.cc:1364] CUPTI activity buffer flushed\n",
      "2024-07-23 00:24:20.057025: I external/local_tsl/tsl/profiler/lib/profiler_session.cc:131] Profiler session tear down.\n",
      "2024-07-23 00:24:20.057227: I external/local_xla/xla/backends/profiler/gpu/cupti_tracer.cc:1364] CUPTI activity buffer flushed\n",
      "2024-07-23 00:24:20.057511: I external/local_tsl/tsl/profiler/lib/profiler_session.cc:131] Profiler session tear down.\n",
      "2024-07-23 00:24:20.057698: I external/local_xla/xla/backends/profiler/gpu/cupti_tracer.cc:1364] CUPTI activity buffer flushed\n",
      "2024-07-23 00:24:20.057788: I external/local_tsl/tsl/profiler/lib/profiler_session.cc:131] Profiler session tear down.\n",
      "2024-07-23 00:24:20.057967: I external/local_tsl/tsl/profiler/lib/profiler_session.cc:131] Profiler session tear down.\n",
      "2024-07-23 00:24:20.057991: I external/local_xla/xla/backends/profiler/gpu/cupti_tracer.cc:1364] CUPTI activity buffer flushed\n",
      "2024-07-23 00:24:20.058125: I external/local_xla/xla/backends/profiler/gpu/cupti_tracer.cc:1364] CUPTI activity buffer flushed\n",
      "2024-07-23 00:24:20.060273: I external/local_tsl/tsl/profiler/lib/profiler_session.cc:131] Profiler session tear down.\n",
      "2024-07-23 00:24:20.060424: I external/local_xla/xla/backends/profiler/gpu/cupti_tracer.cc:1364] CUPTI activity buffer flushed\n",
      "2024-07-23 00:24:20.061234: I external/local_tsl/tsl/profiler/lib/profiler_session.cc:131] Profiler session tear down.\n",
      "2024-07-23 00:24:20.061259: I external/local_tsl/tsl/profiler/lib/profiler_session.cc:131] Profiler session tear down.\n",
      "2024-07-23 00:24:20.061392: I external/local_xla/xla/backends/profiler/gpu/cupti_tracer.cc:1364] CUPTI activity buffer flushed\n",
      "2024-07-23 00:24:20.061396: I external/local_xla/xla/backends/profiler/gpu/cupti_tracer.cc:1364] CUPTI activity buffer flushed\n",
      "2024-07-23 00:24:20.369516: I tensorflow/core/common_runtime/gpu/gpu_process_state.cc:238] Using CUDA malloc Async allocator for GPU: 0\n",
      "2024-07-23 00:24:20.369910: I tensorflow/core/common_runtime/gpu/gpu_device.cc:1928] Created device /job:localhost/replica:0/task:0/device:GPU:0 with 6795 MB memory:  -> device: 0, name: NVIDIA GeForce RTX 2080, pci bus id: 0000:b3:00.0, compute capability: 7.5\n",
      "2024-07-23 00:24:20.650900: I tensorflow/core/common_runtime/gpu/gpu_process_state.cc:238] Using CUDA malloc Async allocator for GPU: 0\n",
      "2024-07-23 00:24:20.651391: I tensorflow/core/common_runtime/gpu/gpu_device.cc:1928] Created device /job:localhost/replica:0/task:0/device:GPU:0 with 6559 MB memory:  -> device: 0, name: NVIDIA GeForce RTX 2080, pci bus id: 0000:b3:00.0, compute capability: 7.5\n",
      "2024-07-23 00:24:20.659651: I tensorflow/core/common_runtime/gpu/gpu_process_state.cc:238] Using CUDA malloc Async allocator for GPU: 0\n",
      "2024-07-23 00:24:20.660017: I tensorflow/core/common_runtime/gpu/gpu_device.cc:1928] Created device /job:localhost/replica:0/task:0/device:GPU:0 with 6249 MB memory:  -> device: 0, name: NVIDIA GeForce RTX 2080, pci bus id: 0000:b3:00.0, compute capability: 7.5\n",
      "2024-07-23 00:24:20.660996: I tensorflow/core/common_runtime/gpu/gpu_process_state.cc:238] Using CUDA malloc Async allocator for GPU: 0\n",
      "2024-07-23 00:24:20.661262: I tensorflow/core/common_runtime/gpu/gpu_device.cc:1928] Created device /job:localhost/replica:0/task:0/device:GPU:0 with 6249 MB memory:  -> device: 0, name: NVIDIA GeForce RTX 2080, pci bus id: 0000:b3:00.0, compute capability: 7.5\n",
      "2024-07-23 00:24:20.663231: I tensorflow/core/common_runtime/gpu/gpu_process_state.cc:238] Using CUDA malloc Async allocator for GPU: 0\n",
      "2024-07-23 00:24:20.663691: I tensorflow/core/common_runtime/gpu/gpu_device.cc:1928] Created device /job:localhost/replica:0/task:0/device:GPU:0 with 6249 MB memory:  -> device: 0, name: NVIDIA GeForce RTX 2080, pci bus id: 0000:b3:00.0, compute capability: 7.5\n",
      "2024-07-23 00:24:20.673251: I tensorflow/core/common_runtime/gpu/gpu_process_state.cc:238] Using CUDA malloc Async allocator for GPU: 0\n",
      "2024-07-23 00:24:20.673553: I tensorflow/core/common_runtime/gpu/gpu_device.cc:1928] Created device /job:localhost/replica:0/task:0/device:GPU:0 with 6065 MB memory:  -> device: 0, name: NVIDIA GeForce RTX 2080, pci bus id: 0000:b3:00.0, compute capability: 7.5\n",
      "2024-07-23 00:24:20.682633: I tensorflow/core/common_runtime/gpu/gpu_process_state.cc:238] Using CUDA malloc Async allocator for GPU: 0\n",
      "2024-07-23 00:24:20.683169: I tensorflow/core/common_runtime/gpu/gpu_device.cc:1928] Created device /job:localhost/replica:0/task:0/device:GPU:0 with 6065 MB memory:  -> device: 0, name: NVIDIA GeForce RTX 2080, pci bus id: 0000:b3:00.0, compute capability: 7.5\n",
      "2024-07-23 00:24:20.701340: I tensorflow/core/common_runtime/gpu/gpu_process_state.cc:238] Using CUDA malloc Async allocator for GPU: 0\n",
      "2024-07-23 00:24:20.701972: I tensorflow/core/common_runtime/gpu/gpu_device.cc:1928] Created device /job:localhost/replica:0/task:0/device:GPU:0 with 5897 MB memory:  -> device: 0, name: NVIDIA GeForce RTX 2080, pci bus id: 0000:b3:00.0, compute capability: 7.5\n",
      "WARNING: All log messages before absl::InitializeLog() is called are written to STDERR\n",
      "I0000 00:00:1721694260.818239  170657 service.cc:145] XLA service 0x750a20015170 initialized for platform CUDA (this does not guarantee that XLA will be used). Devices:\n",
      "I0000 00:00:1721694260.818300  170657 service.cc:153]   StreamExecutor device (0): NVIDIA GeForce RTX 2080, Compute Capability 7.5\n",
      "2024-07-23 00:24:20.832076: I tensorflow/compiler/mlir/tensorflow/utils/dump_mlir_util.cc:268] disabling MLIR crash reproducer, set env var `MLIR_CRASH_REPRODUCER_DIRECTORY` to enable.\n"
     ]
    },
    {
     "name": "stdout",
     "output_type": "stream",
     "text": [
      "\u001b[1m 39/313\u001b[0m \u001b[32m━━\u001b[0m\u001b[37m━━━━━━━━━━━━━━━━━━\u001b[0m \u001b[1m0s\u001b[0m 1ms/step    "
     ]
    },
    {
     "name": "stderr",
     "output_type": "stream",
     "text": [
      "2024-07-23 00:24:20.891188: I external/local_xla/xla/stream_executor/cuda/cuda_dnn.cc:465] Loaded cuDNN version 8907\n",
      "I0000 00:00:1721694261.032728  170657 device_compiler.h:188] Compiled cluster using XLA!  This line is logged at most once for the lifetime of the process.\n",
      "WARNING: All log messages before absl::InitializeLog() is called are written to STDERR\n",
      "I0000 00:00:1721694261.057482  170782 service.cc:145] XLA service 0x750a28014140 initialized for platform CUDA (this does not guarantee that XLA will be used). Devices:\n",
      "I0000 00:00:1721694261.057526  170782 service.cc:153]   StreamExecutor device (0): NVIDIA GeForce RTX 2080, Compute Capability 7.5\n",
      "2024-07-23 00:24:21.065470: I tensorflow/compiler/mlir/tensorflow/utils/dump_mlir_util.cc:268] disabling MLIR crash reproducer, set env var `MLIR_CRASH_REPRODUCER_DIRECTORY` to enable.\n",
      "WARNING: All log messages before absl::InitializeLog() is called are written to STDERR\n",
      "I0000 00:00:1721694261.070399  170800 service.cc:145] XLA service 0x750a2c003470 initialized for platform CUDA (this does not guarantee that XLA will be used). Devices:\n",
      "I0000 00:00:1721694261.070432  170800 service.cc:153]   StreamExecutor device (0): NVIDIA GeForce RTX 2080, Compute Capability 7.5\n",
      "2024-07-23 00:24:21.079352: I tensorflow/compiler/mlir/tensorflow/utils/dump_mlir_util.cc:268] disabling MLIR crash reproducer, set env var `MLIR_CRASH_REPRODUCER_DIRECTORY` to enable.\n"
     ]
    },
    {
     "name": "stdout",
     "output_type": "stream",
     "text": [
      "\u001b[1m 47/313\u001b[0m \u001b[32m━━━\u001b[0m\u001b[37m━━━━━━━━━━━━━━━━━\u001b[0m \u001b[1m0s\u001b[0m 1ms/step    "
     ]
    },
    {
     "name": "stderr",
     "output_type": "stream",
     "text": [
      "2024-07-23 00:24:21.103275: I external/local_xla/xla/stream_executor/cuda/cuda_dnn.cc:465] Loaded cuDNN version 8907\n",
      "2024-07-23 00:24:21.112827: I external/local_xla/xla/stream_executor/cuda/cuda_dnn.cc:465] Loaded cuDNN version 8907\n",
      "WARNING: All log messages before absl::InitializeLog() is called are written to STDERR\n",
      "I0000 00:00:1721694261.120011  170828 service.cc:145] XLA service 0x750a34014cb0 initialized for platform CUDA (this does not guarantee that XLA will be used). Devices:\n",
      "I0000 00:00:1721694261.120044  170828 service.cc:153]   StreamExecutor device (0): NVIDIA GeForce RTX 2080, Compute Capability 7.5\n",
      "2024-07-23 00:24:21.126923: I tensorflow/compiler/mlir/tensorflow/utils/dump_mlir_util.cc:268] disabling MLIR crash reproducer, set env var `MLIR_CRASH_REPRODUCER_DIRECTORY` to enable.\n",
      "WARNING: All log messages before absl::InitializeLog() is called are written to STDERR\n",
      "I0000 00:00:1721694261.143421  170874 service.cc:145] XLA service 0x750a30003430 initialized for platform CUDA (this does not guarantee that XLA will be used). Devices:\n",
      "I0000 00:00:1721694261.143464  170874 service.cc:153]   StreamExecutor device (0): NVIDIA GeForce RTX 2080, Compute Capability 7.5\n",
      "2024-07-23 00:24:21.151546: I tensorflow/compiler/mlir/tensorflow/utils/dump_mlir_util.cc:268] disabling MLIR crash reproducer, set env var `MLIR_CRASH_REPRODUCER_DIRECTORY` to enable.\n",
      "WARNING: All log messages before absl::InitializeLog() is called are written to STDERR\n",
      "I0000 00:00:1721694261.160611  170860 service.cc:145] XLA service 0x750a28003f50 initialized for platform CUDA (this does not guarantee that XLA will be used). Devices:\n",
      "I0000 00:00:1721694261.160651  170860 service.cc:153]   StreamExecutor device (0): NVIDIA GeForce RTX 2080, Compute Capability 7.5\n",
      "2024-07-23 00:24:21.165748: I external/local_xla/xla/stream_executor/cuda/cuda_dnn.cc:465] Loaded cuDNN version 8907\n",
      "WARNING: All log messages before absl::InitializeLog() is called are written to STDERR\n",
      "I0000 00:00:1721694261.166537  170814 service.cc:145] XLA service 0x750a34014870 initialized for platform CUDA (this does not guarantee that XLA will be used). Devices:\n",
      "I0000 00:00:1721694261.166577  170814 service.cc:153]   StreamExecutor device (0): NVIDIA GeForce RTX 2080, Compute Capability 7.5\n",
      "2024-07-23 00:24:21.170246: I tensorflow/compiler/mlir/tensorflow/utils/dump_mlir_util.cc:268] disabling MLIR crash reproducer, set env var `MLIR_CRASH_REPRODUCER_DIRECTORY` to enable.\n",
      "2024-07-23 00:24:21.174420: I tensorflow/compiler/mlir/tensorflow/utils/dump_mlir_util.cc:268] disabling MLIR crash reproducer, set env var `MLIR_CRASH_REPRODUCER_DIRECTORY` to enable.\n",
      "WARNING: All log messages before absl::InitializeLog() is called are written to STDERR\n",
      "I0000 00:00:1721694261.188790  170844 service.cc:145] XLA service 0x750a28015330 initialized for platform CUDA (this does not guarantee that XLA will be used). Devices:\n",
      "I0000 00:00:1721694261.188829  170844 service.cc:153]   StreamExecutor device (0): NVIDIA GeForce RTX 2080, Compute Capability 7.5\n",
      "2024-07-23 00:24:21.193825: I external/local_xla/xla/stream_executor/cuda/cuda_dnn.cc:465] Loaded cuDNN version 8907\n",
      "2024-07-23 00:24:21.197533: I tensorflow/compiler/mlir/tensorflow/utils/dump_mlir_util.cc:268] disabling MLIR crash reproducer, set env var `MLIR_CRASH_REPRODUCER_DIRECTORY` to enable.\n",
      "2024-07-23 00:24:21.209791: I external/local_xla/xla/stream_executor/cuda/cuda_dnn.cc:465] Loaded cuDNN version 8907\n",
      "2024-07-23 00:24:21.210894: I external/local_xla/xla/stream_executor/cuda/cuda_dnn.cc:465] Loaded cuDNN version 8907\n",
      "2024-07-23 00:24:21.243326: I external/local_xla/xla/stream_executor/cuda/cuda_dnn.cc:465] Loaded cuDNN version 8907\n",
      "I0000 00:00:1721694261.245548  170782 device_compiler.h:188] Compiled cluster using XLA!  This line is logged at most once for the lifetime of the process.\n",
      "I0000 00:00:1721694261.248716  170800 device_compiler.h:188] Compiled cluster using XLA!  This line is logged at most once for the lifetime of the process.\n",
      "I0000 00:00:1721694261.301663  170828 device_compiler.h:188] Compiled cluster using XLA!  This line is logged at most once for the lifetime of the process.\n"
     ]
    },
    {
     "name": "stdout",
     "output_type": "stream",
     "text": [
      "\u001b[1m 46/313\u001b[0m \u001b[32m━━\u001b[0m\u001b[37m━━━━━━━━━━━━━━━━━━\u001b[0m \u001b[1m0s\u001b[0m 2ms/step  "
     ]
    },
    {
     "name": "stderr",
     "output_type": "stream",
     "text": [
      "I0000 00:00:1721694261.385200  170874 device_compiler.h:188] Compiled cluster using XLA!  This line is logged at most once for the lifetime of the process.\n",
      "I0000 00:00:1721694261.434786  170814 device_compiler.h:188] Compiled cluster using XLA!  This line is logged at most once for the lifetime of the process.\n",
      "I0000 00:00:1721694261.438174  170860 device_compiler.h:188] Compiled cluster using XLA!  This line is logged at most once for the lifetime of the process.\n",
      "I0000 00:00:1721694261.454463  170844 device_compiler.h:188] Compiled cluster using XLA!  This line is logged at most once for the lifetime of the process.\n"
     ]
    },
    {
     "name": "stdout",
     "output_type": "stream",
     "text": [
      "\u001b[1m313/313\u001b[0m \u001b[32m━━━━━━━━━━━━━━━━━━━━\u001b[0m\u001b[37m\u001b[0m \u001b[1m1s\u001b[0m 2ms/step\n",
      "\u001b[1m313/313\u001b[0m \u001b[32m━━━━━━━━━━━━━━━━━━━━\u001b[0m\u001b[37m\u001b[0m \u001b[1m1s\u001b[0m 2ms/step\n",
      "\u001b[1m313/313\u001b[0m \u001b[32m━━━━━━━━━━━━━━━━━━━━\u001b[0m\u001b[37m\u001b[0m \u001b[1m1s\u001b[0m 2ms/step\n",
      "\u001b[1m313/313\u001b[0m \u001b[32m━━━━━━━━━━━━━━━━━━━━\u001b[0m\u001b[37m\u001b[0m \u001b[1m1s\u001b[0m 2ms/step\n"
     ]
    },
    {
     "name": "stderr",
     "output_type": "stream",
     "text": [
      "/opt/conda/envs/QML-QPF/lib/python3.10/site-packages/keras/src/saving/saving_lib.py:576: UserWarning: Skipping variable loading for optimizer 'adam', because it has 2 variables whereas the saved optimizer has 6 variables. \n",
      "  saveable.load_own_variables(weights_store.get(inner_path))\n"
     ]
    },
    {
     "name": "stdout",
     "output_type": "stream",
     "text": [
      "\u001b[1m313/313\u001b[0m \u001b[32m━━━━━━━━━━━━━━━━━━━━\u001b[0m\u001b[37m\u001b[0m \u001b[1m1s\u001b[0m 2ms/step\n",
      "\u001b[1m313/313\u001b[0m \u001b[32m━━━━━━━━━━━━━━━━━━━━\u001b[0m\u001b[37m\u001b[0m \u001b[1m1s\u001b[0m 2ms/step\n",
      "\u001b[1m313/313\u001b[0m \u001b[32m━━━━━━━━━━━━━━━━━━━━\u001b[0m\u001b[37m\u001b[0m \u001b[1m1s\u001b[0m 2ms/step\n",
      "\u001b[1m313/313\u001b[0m \u001b[32m━━━━━━━━━━━━━━━━━━━━\u001b[0m\u001b[37m\u001b[0m \u001b[1m1s\u001b[0m 2ms/step\n"
     ]
    },
    {
     "name": "stderr",
     "output_type": "stream",
     "text": [
      "/opt/conda/envs/QML-QPF/lib/python3.10/site-packages/keras/src/saving/saving_lib.py:576: UserWarning: Skipping variable loading for optimizer 'adam', because it has 2 variables whereas the saved optimizer has 6 variables. \n",
      "  saveable.load_own_variables(weights_store.get(inner_path))\n",
      "/opt/conda/envs/QML-QPF/lib/python3.10/site-packages/keras/src/saving/saving_lib.py:576: UserWarning: Skipping variable loading for optimizer 'adam', because it has 2 variables whereas the saved optimizer has 6 variables. \n",
      "  saveable.load_own_variables(weights_store.get(inner_path))\n",
      "/opt/conda/envs/QML-QPF/lib/python3.10/site-packages/keras/src/saving/saving_lib.py:576: UserWarning: Skipping variable loading for optimizer 'adam', because it has 2 variables whereas the saved optimizer has 6 variables. \n",
      "  saveable.load_own_variables(weights_store.get(inner_path))\n",
      "/opt/conda/envs/QML-QPF/lib/python3.10/site-packages/keras/src/saving/saving_lib.py:576: UserWarning: Skipping variable loading for optimizer 'adam', because it has 2 variables whereas the saved optimizer has 6 variables. \n",
      "  saveable.load_own_variables(weights_store.get(inner_path))\n",
      "/opt/conda/envs/QML-QPF/lib/python3.10/site-packages/keras/src/saving/saving_lib.py:576: UserWarning: Skipping variable loading for optimizer 'adam', because it has 2 variables whereas the saved optimizer has 6 variables. \n",
      "  saveable.load_own_variables(weights_store.get(inner_path))\n"
     ]
    },
    {
     "name": "stdout",
     "output_type": "stream",
     "text": [
      "/workspaces/QML-QPF/multiprocessing/output/20240723-002227/visuals/weights/MNISTMNISTno_filter.gif\n"
     ]
    },
    {
     "name": "stderr",
     "output_type": "stream",
     "text": [
      "/opt/conda/envs/QML-QPF/lib/python3.10/site-packages/keras/src/saving/saving_lib.py:576: UserWarning: Skipping variable loading for optimizer 'adam', because it has 2 variables whereas the saved optimizer has 6 variables. \n",
      "  saveable.load_own_variables(weights_store.get(inner_path))\n"
     ]
    },
    {
     "name": "stdout",
     "output_type": "stream",
     "text": [
      "/workspaces/QML-QPF/multiprocessing/output/20240723-002227/visuals/circuits/FASHIONMNISTFASHIONMNISTqrand.png\n"
     ]
    },
    {
     "name": "stderr",
     "output_type": "stream",
     "text": [
      "/opt/conda/envs/QML-QPF/lib/python3.10/site-packages/keras/src/saving/saving_lib.py:576: UserWarning: Skipping variable loading for optimizer 'adam', because it has 2 variables whereas the saved optimizer has 6 variables. \n",
      "  saveable.load_own_variables(weights_store.get(inner_path))\n"
     ]
    },
    {
     "name": "stdout",
     "output_type": "stream",
     "text": [
      "/workspaces/QML-QPF/multiprocessing/output/20240723-002227/visuals/circuits/MNISTMNISTqentcnot.png\n",
      "/workspaces/QML-QPF/multiprocessing/output/20240723-002227/visuals/circuits/FASHIONMNISTFASHIONMNISTqentcnot.png\n",
      "/workspaces/QML-QPF/multiprocessing/output/20240723-002227/visuals/circuits/MNISTMNISTqrand.png\n",
      "/workspaces/QML-QPF/multiprocessing/output/20240723-002227/visuals/circuits/MNISTMNISTqcnot.png\n",
      "/workspaces/QML-QPF/multiprocessing/output/20240723-002227/visuals/weights/FASHIONMNISTFASHIONMNISTno_filter.gif\n",
      "/workspaces/QML-QPF/multiprocessing/output/20240723-002227/visuals/circuits/FASHIONMNISTFASHIONMNISTqcnot.png\n",
      "/workspaces/QML-QPF/multiprocessing/output/20240723-002227/visuals/weights/MNISTMNISTqentcnot.gif\n",
      "/workspaces/QML-QPF/multiprocessing/output/20240723-002227/visuals/weights/FASHIONMNISTFASHIONMNISTqrand.gif\n",
      "/workspaces/QML-QPF/multiprocessing/output/20240723-002227/visuals/weights/MNISTMNISTqrand.gif\n",
      "/workspaces/QML-QPF/multiprocessing/output/20240723-002227/visuals/weights/FASHIONMNISTFASHIONMNISTqentcnot.gif\n",
      "/workspaces/QML-QPF/multiprocessing/output/20240723-002227/visuals/weights/MNISTMNISTqcnot.gif\n",
      "/workspaces/QML-QPF/multiprocessing/output/20240723-002227/visuals/weights/FASHIONMNISTFASHIONMNISTqcnot.gif\n",
      "WARNING:tensorflow:5 out of the last 5 calls to <function pfor.<locals>.f at 0x750bcc5ea950> triggered tf.function retracing. Tracing is expensive and the excessive number of tracings could be due to (1) creating @tf.function repeatedly in a loop, (2) passing tensors with different shapes, (3) passing Python objects instead of tensors. For (1), please define your @tf.function outside of the loop. For (2), @tf.function has reduce_retracing=True option that can avoid unnecessary retracing. For (3), please refer to https://www.tensorflow.org/guide/function#controlling_retracing and https://www.tensorflow.org/api_docs/python/tf/function for  more details.\n",
      "WARNING:tensorflow:6 out of the last 6 calls to <function pfor.<locals>.f at 0x750ba9598ee0> triggered tf.function retracing. Tracing is expensive and the excessive number of tracings could be due to (1) creating @tf.function repeatedly in a loop, (2) passing tensors with different shapes, (3) passing Python objects instead of tensors. For (1), please define your @tf.function outside of the loop. For (2), @tf.function has reduce_retracing=True option that can avoid unnecessary retracing. For (3), please refer to https://www.tensorflow.org/guide/function#controlling_retracing and https://www.tensorflow.org/api_docs/python/tf/function for  more details.\n",
      "WARNING:tensorflow:5 out of the last 5 calls to <function pfor.<locals>.f at 0x750bcc5e67a0> triggered tf.function retracing. Tracing is expensive and the excessive number of tracings could be due to (1) creating @tf.function repeatedly in a loop, (2) passing tensors with different shapes, (3) passing Python objects instead of tensors. For (1), please define your @tf.function outside of the loop. For (2), @tf.function has reduce_retracing=True option that can avoid unnecessary retracing. For (3), please refer to https://www.tensorflow.org/guide/function#controlling_retracing and https://www.tensorflow.org/api_docs/python/tf/function for  more details.\n",
      "WARNING:tensorflow:6 out of the last 6 calls to <function pfor.<locals>.f at 0x750ba9598b80> triggered tf.function retracing. Tracing is expensive and the excessive number of tracings could be due to (1) creating @tf.function repeatedly in a loop, (2) passing tensors with different shapes, (3) passing Python objects instead of tensors. For (1), please define your @tf.function outside of the loop. For (2), @tf.function has reduce_retracing=True option that can avoid unnecessary retracing. For (3), please refer to https://www.tensorflow.org/guide/function#controlling_retracing and https://www.tensorflow.org/api_docs/python/tf/function for  more details.\n",
      "WARNING:tensorflow:5 out of the last 5 calls to <function pfor.<locals>.f at 0x750ba8b41c60> triggered tf.function retracing. Tracing is expensive and the excessive number of tracings could be due to (1) creating @tf.function repeatedly in a loop, (2) passing tensors with different shapes, (3) passing Python objects instead of tensors. For (1), please define your @tf.function outside of the loop. For (2), @tf.function has reduce_retracing=True option that can avoid unnecessary retracing. For (3), please refer to https://www.tensorflow.org/guide/function#controlling_retracing and https://www.tensorflow.org/api_docs/python/tf/function for  more details.\n",
      "WARNING:tensorflow:6 out of the last 6 calls to <function pfor.<locals>.f at 0x750ba8b77880> triggered tf.function retracing. Tracing is expensive and the excessive number of tracings could be due to (1) creating @tf.function repeatedly in a loop, (2) passing tensors with different shapes, (3) passing Python objects instead of tensors. For (1), please define your @tf.function outside of the loop. For (2), @tf.function has reduce_retracing=True option that can avoid unnecessary retracing. For (3), please refer to https://www.tensorflow.org/guide/function#controlling_retracing and https://www.tensorflow.org/api_docs/python/tf/function for  more details.\n",
      "WARNING:tensorflow:5 out of the last 5 calls to <function pfor.<locals>.f at 0x750ba8b3e5f0> triggered tf.function retracing. Tracing is expensive and the excessive number of tracings could be due to (1) creating @tf.function repeatedly in a loop, (2) passing tensors with different shapes, (3) passing Python objects instead of tensors. For (1), please define your @tf.function outside of the loop. For (2), @tf.function has reduce_retracing=True option that can avoid unnecessary retracing. For (3), please refer to https://www.tensorflow.org/guide/function#controlling_retracing and https://www.tensorflow.org/api_docs/python/tf/function for  more details.\n",
      "WARNING:tensorflow:5 out of the last 5 calls to <function pfor.<locals>.f at 0x750ba8b35c60> triggered tf.function retracing. Tracing is expensive and the excessive number of tracings could be due to (1) creating @tf.function repeatedly in a loop, (2) passing tensors with different shapes, (3) passing Python objects instead of tensors. For (1), please define your @tf.function outside of the loop. For (2), @tf.function has reduce_retracing=True option that can avoid unnecessary retracing. For (3), please refer to https://www.tensorflow.org/guide/function#controlling_retracing and https://www.tensorflow.org/api_docs/python/tf/function for  more details.\n",
      "WARNING:tensorflow:5 out of the last 5 calls to <function pfor.<locals>.f at 0x750ba8b05a20> triggered tf.function retracing. Tracing is expensive and the excessive number of tracings could be due to (1) creating @tf.function repeatedly in a loop, (2) passing tensors with different shapes, (3) passing Python objects instead of tensors. For (1), please define your @tf.function outside of the loop. For (2), @tf.function has reduce_retracing=True option that can avoid unnecessary retracing. For (3), please refer to https://www.tensorflow.org/guide/function#controlling_retracing and https://www.tensorflow.org/api_docs/python/tf/function for  more details.\n",
      "WARNING:tensorflow:6 out of the last 6 calls to <function pfor.<locals>.f at 0x750ba8b6bb50> triggered tf.function retracing. Tracing is expensive and the excessive number of tracings could be due to (1) creating @tf.function repeatedly in a loop, (2) passing tensors with different shapes, (3) passing Python objects instead of tensors. For (1), please define your @tf.function outside of the loop. For (2), @tf.function has reduce_retracing=True option that can avoid unnecessary retracing. For (3), please refer to https://www.tensorflow.org/guide/function#controlling_retracing and https://www.tensorflow.org/api_docs/python/tf/function for  more details.\n",
      "WARNING:tensorflow:5 out of the last 5 calls to <function pfor.<locals>.f at 0x750ba8b36830> triggered tf.function retracing. Tracing is expensive and the excessive number of tracings could be due to (1) creating @tf.function repeatedly in a loop, (2) passing tensors with different shapes, (3) passing Python objects instead of tensors. For (1), please define your @tf.function outside of the loop. For (2), @tf.function has reduce_retracing=True option that can avoid unnecessary retracing. For (3), please refer to https://www.tensorflow.org/guide/function#controlling_retracing and https://www.tensorflow.org/api_docs/python/tf/function for  more details.\n",
      "WARNING:tensorflow:6 out of the last 6 calls to <function pfor.<locals>.f at 0x750ba8b5f010> triggered tf.function retracing. Tracing is expensive and the excessive number of tracings could be due to (1) creating @tf.function repeatedly in a loop, (2) passing tensors with different shapes, (3) passing Python objects instead of tensors. For (1), please define your @tf.function outside of the loop. For (2), @tf.function has reduce_retracing=True option that can avoid unnecessary retracing. For (3), please refer to https://www.tensorflow.org/guide/function#controlling_retracing and https://www.tensorflow.org/api_docs/python/tf/function for  more details.\n",
      "WARNING:tensorflow:5 out of the last 5 calls to <function pfor.<locals>.f at 0x750ba8b0d990> triggered tf.function retracing. Tracing is expensive and the excessive number of tracings could be due to (1) creating @tf.function repeatedly in a loop, (2) passing tensors with different shapes, (3) passing Python objects instead of tensors. For (1), please define your @tf.function outside of the loop. For (2), @tf.function has reduce_retracing=True option that can avoid unnecessary retracing. For (3), please refer to https://www.tensorflow.org/guide/function#controlling_retracing and https://www.tensorflow.org/api_docs/python/tf/function for  more details.\n",
      "WARNING:tensorflow:6 out of the last 6 calls to <function pfor.<locals>.f at 0x750ba8b6b880> triggered tf.function retracing. Tracing is expensive and the excessive number of tracings could be due to (1) creating @tf.function repeatedly in a loop, (2) passing tensors with different shapes, (3) passing Python objects instead of tensors. For (1), please define your @tf.function outside of the loop. For (2), @tf.function has reduce_retracing=True option that can avoid unnecessary retracing. For (3), please refer to https://www.tensorflow.org/guide/function#controlling_retracing and https://www.tensorflow.org/api_docs/python/tf/function for  more details.\n",
      "WARNING:tensorflow:6 out of the last 6 calls to <function pfor.<locals>.f at 0x750ba8b54af0> triggered tf.function retracing. Tracing is expensive and the excessive number of tracings could be due to (1) creating @tf.function repeatedly in a loop, (2) passing tensors with different shapes, (3) passing Python objects instead of tensors. For (1), please define your @tf.function outside of the loop. For (2), @tf.function has reduce_retracing=True option that can avoid unnecessary retracing. For (3), please refer to https://www.tensorflow.org/guide/function#controlling_retracing and https://www.tensorflow.org/api_docs/python/tf/function for  more details.\n",
      "WARNING:tensorflow:6 out of the last 6 calls to <function pfor.<locals>.f at 0x750ba8b6ef80> triggered tf.function retracing. Tracing is expensive and the excessive number of tracings could be due to (1) creating @tf.function repeatedly in a loop, (2) passing tensors with different shapes, (3) passing Python objects instead of tensors. For (1), please define your @tf.function outside of the loop. For (2), @tf.function has reduce_retracing=True option that can avoid unnecessary retracing. For (3), please refer to https://www.tensorflow.org/guide/function#controlling_retracing and https://www.tensorflow.org/api_docs/python/tf/function for  more details.\n",
      "/workspaces/QML-QPF/multiprocessing/output/20240723-002227/visuals/relative_weights/MNISTMNISTno_filter.gif\n",
      "/workspaces/QML-QPF/multiprocessing/output/20240723-002227/visuals/relative_weights/MNISTMNISTqentcnot.gif\n",
      "/workspaces/QML-QPF/multiprocessing/output/20240723-002227/visuals/relative_weights/FASHIONMNISTFASHIONMNISTqentcnot.gif\n",
      "/workspaces/QML-QPF/multiprocessing/output/20240723-002227/visuals/relative_weights/MNISTMNISTqrand.gif\n",
      "/workspaces/QML-QPF/multiprocessing/output/20240723-002227/visuals/relative_weights/FASHIONMNISTFASHIONMNISTqrand.gif\n",
      "/workspaces/QML-QPF/multiprocessing/output/20240723-002227/visuals/relative_weights/FASHIONMNISTFASHIONMNISTno_filter.gif\n",
      "/workspaces/QML-QPF/multiprocessing/output/20240723-002227/visuals/relative_weights/FASHIONMNISTFASHIONMNISTqcnot.gif\n",
      "/workspaces/QML-QPF/multiprocessing/output/20240723-002227/visuals/relative_weights/MNISTMNISTqcnot.gif\n",
      "/workspaces/QML-QPF/multiprocessing/output/20240723-002227/visuals/bias/MNISTMNISTqentcnot.gif\n",
      "/workspaces/QML-QPF/multiprocessing/output/20240723-002227/visuals/bias/MNISTMNISTno_filter.gif\n",
      "/workspaces/QML-QPF/multiprocessing/output/20240723-002227/visuals/bias/MNISTMNISTqrand.gif\n",
      "/workspaces/QML-QPF/multiprocessing/output/20240723-002227/visuals/bias/FASHIONMNISTFASHIONMNISTno_filter.gif\n",
      "/workspaces/QML-QPF/multiprocessing/output/20240723-002227/visuals/bias/FASHIONMNISTFASHIONMNISTqentcnot.gif\n",
      "/workspaces/QML-QPF/multiprocessing/output/20240723-002227/visuals/bias/FASHIONMNISTFASHIONMNISTqcnot.gif\n",
      "/workspaces/QML-QPF/multiprocessing/output/20240723-002227/visuals/bias/FASHIONMNISTFASHIONMNISTqrand.gif\n",
      "/workspaces/QML-QPF/multiprocessing/output/20240723-002227/visuals/bias/MNISTMNISTqcnot.gif\n",
      "/workspaces/QML-QPF/multiprocessing/output/20240723-002227/visuals/relative_bias/MNISTMNISTqentcnot.gif\n",
      "/workspaces/QML-QPF/multiprocessing/output/20240723-002227/visuals/relative_bias/MNISTMNISTno_filter.gif\n",
      "/workspaces/QML-QPF/multiprocessing/output/20240723-002227/visuals/relative_bias/MNISTMNISTqrand.gif\n",
      "/workspaces/QML-QPF/multiprocessing/output/20240723-002227/visuals/relative_bias/FASHIONMNISTFASHIONMNISTno_filter.gif\n",
      "/workspaces/QML-QPF/multiprocessing/output/20240723-002227/visuals/relative_bias/FASHIONMNISTFASHIONMNISTqcnot.gif\n",
      "/workspaces/QML-QPF/multiprocessing/output/20240723-002227/visuals/relative_bias/FASHIONMNISTFASHIONMNISTqentcnot.gif\n",
      "/workspaces/QML-QPF/multiprocessing/output/20240723-002227/visuals/relative_bias/MNISTMNISTqcnot.gif\n",
      "/workspaces/QML-QPF/multiprocessing/output/20240723-002227/visuals/relative_bias/FASHIONMNISTFASHIONMNISTqrand.gif\n",
      "/workspaces/QML-QPF/multiprocessing/output/20240723-002227/visuals/individual_samples/MNISTMNISTqrand.png\n",
      "/workspaces/QML-QPF/multiprocessing/output/20240723-002227/visuals/relative_samples/MNISTMNISTqrand.png\n",
      "/workspaces/QML-QPF/multiprocessing/output/20240723-002227/visuals/individual_samples/MNISTMNISTno_filter.png\n",
      "/workspaces/QML-QPF/multiprocessing/output/20240723-002227/visuals/individual_samples/MNISTMNISTqentcnot.png\n",
      "/workspaces/QML-QPF/multiprocessing/output/20240723-002227/visuals/relative_samples/MNISTMNISTqentcnot.png\n",
      "/workspaces/QML-QPF/multiprocessing/output/20240723-002227/visuals/filter/MNISTMNISTqrand.gif\n",
      "/workspaces/QML-QPF/multiprocessing/output/20240723-002227/visuals/relative_samples/MNISTMNISTno_filter.png\n",
      "/workspaces/QML-QPF/multiprocessing/output/20240723-002227/visuals/filter/MNISTMNISTno_filter.gif\n",
      "/workspaces/QML-QPF/multiprocessing/output/20240723-002227/visuals/individual_samples/FASHIONMNISTFASHIONMNISTno_filter.png\n",
      "/workspaces/QML-QPF/multiprocessing/output/20240723-002227/visuals/filter/MNISTMNISTqentcnot.gif\n",
      "/workspaces/QML-QPF/multiprocessing/output/20240723-002227/visuals/relative_samples/FASHIONMNISTFASHIONMNISTno_filter.png\n",
      "/workspaces/QML-QPF/multiprocessing/output/20240723-002227/visuals/individual_samples/FASHIONMNISTFASHIONMNISTqentcnot.png\n",
      "/workspaces/QML-QPF/multiprocessing/output/20240723-002227/visuals/relative_samples/FASHIONMNISTFASHIONMNISTqentcnot.png\n",
      "/workspaces/QML-QPF/multiprocessing/output/20240723-002227/visuals/filter/FASHIONMNISTFASHIONMNISTno_filter.gif\n",
      "/workspaces/QML-QPF/multiprocessing/output/20240723-002227/visuals/filter/FASHIONMNISTFASHIONMNISTqentcnot.gif\n",
      "/workspaces/QML-QPF/multiprocessing/output/20240723-002227/visuals/individual_samples/MNISTMNISTqcnot.png\n",
      "/workspaces/QML-QPF/multiprocessing/output/20240723-002227/visuals/individual_samples/FASHIONMNISTFASHIONMNISTqcnot.png\n",
      "/workspaces/QML-QPF/multiprocessing/output/20240723-002227/visuals/relative_samples/MNISTMNISTqcnot.png\n",
      "/workspaces/QML-QPF/multiprocessing/output/20240723-002227/visuals/relative_samples/FASHIONMNISTFASHIONMNISTqcnot.png\n",
      "/workspaces/QML-QPF/multiprocessing/output/20240723-002227/visuals/filter/FASHIONMNISTFASHIONMNISTqcnot.gif\n",
      "/workspaces/QML-QPF/multiprocessing/output/20240723-002227/visuals/filter/MNISTMNISTqcnot.gif\n",
      "/workspaces/QML-QPF/multiprocessing/output/20240723-002227/visuals/individual_samples/FASHIONMNISTFASHIONMNISTqrand.png\n",
      "/workspaces/QML-QPF/multiprocessing/output/20240723-002227/visuals/relative_samples/FASHIONMNISTFASHIONMNISTqrand.png\n",
      "/workspaces/QML-QPF/multiprocessing/output/20240723-002227/visuals/filter/FASHIONMNISTFASHIONMNISTqrand.gif\n"
     ]
    }
   ],
   "source": [
    "def pool_job2(detail):\n",
    "    restored_model = Model(*detail)\n",
    "    restored_model.set_data()\n",
    "    restored_model.prep()\n",
    "    restored_model.load_history()\n",
    "    restored_model.visuals.circuit()\n",
    "    restored_model.visuals.weights()\n",
    "    restored_model.visuals.relative_weights()\n",
    "    restored_model.visuals.bias()\n",
    "    restored_model.visuals.relative_bias()\n",
    "    restored_model.visuals.data_samples()\n",
    "    restored_model.visuals.relative_samples()\n",
    "    restored_model.visuals.filtering()\n",
    "\n",
    "\n",
    "with ProcessPoolExecutor(8) as executor:\n",
    "    runner = {\n",
    "            executor.submit(pool_job2, m): m for m in models\n",
    "        }\n",
    "    for future in as_completed(runner):\n",
    "        runner.pop(future) "
   ]
  },
  {
   "cell_type": "code",
   "execution_count": 4,
   "metadata": {},
   "outputs": [
    {
     "name": "stderr",
     "output_type": "stream",
     "text": [
      "2024-07-23 00:31:07.068659: I external/local_tsl/tsl/profiler/lib/profiler_session.cc:104] Profiler session initializing.\n",
      "2024-07-23 00:31:07.068736: I external/local_tsl/tsl/profiler/lib/profiler_session.cc:119] Profiler session started.\n",
      "2024-07-23 00:31:07.098532: I external/local_xla/xla/backends/profiler/gpu/cupti_tracer.cc:1239] Profiler found 1 GPUs\n",
      "2024-07-23 00:31:07.104976: I external/local_tsl/tsl/profiler/lib/profiler_session.cc:131] Profiler session tear down.\n",
      "2024-07-23 00:31:07.105086: I external/local_xla/xla/backends/profiler/gpu/cupti_tracer.cc:1364] CUPTI activity buffer flushed\n",
      "2024-07-23 00:31:07.424751: I tensorflow/core/common_runtime/gpu/gpu_process_state.cc:238] Using CUDA malloc Async allocator for GPU: 0\n",
      "2024-07-23 00:31:07.425074: I tensorflow/core/common_runtime/gpu/gpu_device.cc:1928] Created device /job:localhost/replica:0/task:0/device:GPU:0 with 6795 MB memory:  -> device: 0, name: NVIDIA GeForce RTX 2080, pci bus id: 0000:b3:00.0, compute capability: 7.5\n"
     ]
    },
    {
     "name": "stdout",
     "output_type": "stream",
     "text": [
      "\u001b[1m  1/313\u001b[0m \u001b[37m━━━━━━━━━━━━━━━━━━━━\u001b[0m \u001b[1m1:28\u001b[0m 283ms/step"
     ]
    },
    {
     "name": "stderr",
     "output_type": "stream",
     "text": [
      "WARNING: All log messages before absl::InitializeLog() is called are written to STDERR\n",
      "I0000 00:00:1721694667.747531  173050 service.cc:145] XLA service 0x750a04002ca0 initialized for platform CUDA (this does not guarantee that XLA will be used). Devices:\n",
      "I0000 00:00:1721694667.747599  173050 service.cc:153]   StreamExecutor device (0): NVIDIA GeForce RTX 2080, Compute Capability 7.5\n",
      "2024-07-23 00:31:07.762768: I tensorflow/compiler/mlir/tensorflow/utils/dump_mlir_util.cc:268] disabling MLIR crash reproducer, set env var `MLIR_CRASH_REPRODUCER_DIRECTORY` to enable.\n",
      "2024-07-23 00:31:07.796832: I external/local_xla/xla/stream_executor/cuda/cuda_dnn.cc:465] Loaded cuDNN version 8907\n",
      "I0000 00:00:1721694667.921105  173050 device_compiler.h:188] Compiled cluster using XLA!  This line is logged at most once for the lifetime of the process.\n"
     ]
    },
    {
     "name": "stdout",
     "output_type": "stream",
     "text": [
      "\u001b[1m313/313\u001b[0m \u001b[32m━━━━━━━━━━━━━━━━━━━━\u001b[0m\u001b[37m\u001b[0m \u001b[1m1s\u001b[0m 2ms/step\n"
     ]
    },
    {
     "name": "stderr",
     "output_type": "stream",
     "text": [
      "/opt/conda/envs/QML-QPF/lib/python3.10/site-packages/keras/src/saving/saving_lib.py:576: UserWarning: Skipping variable loading for optimizer 'adam', because it has 2 variables whereas the saved optimizer has 6 variables. \n",
      "  saveable.load_own_variables(weights_store.get(inner_path))\n",
      "/opt/conda/envs/QML-QPF/lib/python3.10/site-packages/tqdm/auto.py:21: TqdmWarning: IProgress not found. Please update jupyter and ipywidgets. See https://ipywidgets.readthedocs.io/en/stable/user_install.html\n",
      "  from .autonotebook import tqdm as notebook_tqdm\n",
      "/opt/conda/envs/QML-QPF/lib/python3.10/site-packages/numba/np/ufunc/dufunc.py:343: NumbaWarning: \u001b[1mCompilation requested for previously compiled argument types ((uint32,)). This has no effect and perhaps indicates a bug in the calling code (compiling a ufunc more than once for the same signature\u001b[0m\n",
      "  warnings.warn(msg, errors.NumbaWarning)\n",
      "/opt/conda/envs/QML-QPF/lib/python3.10/site-packages/numba/np/ufunc/dufunc.py:343: NumbaWarning: \u001b[1mCompilation requested for previously compiled argument types ((uint32,)). This has no effect and perhaps indicates a bug in the calling code (compiling a ufunc more than once for the same signature\u001b[0m\n",
      "  warnings.warn(msg, errors.NumbaWarning)\n",
      "/opt/conda/envs/QML-QPF/lib/python3.10/site-packages/numba/np/ufunc/dufunc.py:343: NumbaWarning: \u001b[1mCompilation requested for previously compiled argument types ((uint32,)). This has no effect and perhaps indicates a bug in the calling code (compiling a ufunc more than once for the same signature\u001b[0m\n",
      "  warnings.warn(msg, errors.NumbaWarning)\n"
     ]
    },
    {
     "name": "stdout",
     "output_type": "stream",
     "text": [
      "\u001b[1m1875/1875\u001b[0m \u001b[32m━━━━━━━━━━━━━━━━━━━━\u001b[0m\u001b[37m\u001b[0m \u001b[1m2s\u001b[0m 804us/step\n",
      "/workspaces/QML-QPF/multiprocessing/output/20240723-002227/visuals/UMAP/MNISTMNISTno_filter.html\n"
     ]
    },
    {
     "name": "stderr",
     "output_type": "stream",
     "text": [
      "BokehDeprecationWarning: 'circle() method with size value' was deprecated in Bokeh 3.4.0 and will be removed, use 'scatter(size=...) instead' instead.\n",
      "2024-07-23 00:31:32.177789: I external/local_tsl/tsl/profiler/lib/profiler_session.cc:104] Profiler session initializing.\n",
      "2024-07-23 00:31:32.177838: I external/local_tsl/tsl/profiler/lib/profiler_session.cc:119] Profiler session started.\n",
      "2024-07-23 00:31:32.198061: I external/local_tsl/tsl/profiler/lib/profiler_session.cc:131] Profiler session tear down.\n",
      "2024-07-23 00:31:32.198565: I external/local_xla/xla/backends/profiler/gpu/cupti_tracer.cc:1364] CUPTI activity buffer flushed\n"
     ]
    },
    {
     "name": "stdout",
     "output_type": "stream",
     "text": [
      "\u001b[1m313/313\u001b[0m \u001b[32m━━━━━━━━━━━━━━━━━━━━\u001b[0m\u001b[37m\u001b[0m \u001b[1m1s\u001b[0m 2ms/step\n"
     ]
    },
    {
     "name": "stderr",
     "output_type": "stream",
     "text": [
      "/opt/conda/envs/QML-QPF/lib/python3.10/site-packages/keras/src/saving/saving_lib.py:576: UserWarning: Skipping variable loading for optimizer 'adam', because it has 2 variables whereas the saved optimizer has 6 variables. \n",
      "  saveable.load_own_variables(weights_store.get(inner_path))\n"
     ]
    },
    {
     "name": "stdout",
     "output_type": "stream",
     "text": [
      "\u001b[1m1875/1875\u001b[0m \u001b[32m━━━━━━━━━━━━━━━━━━━━\u001b[0m\u001b[37m\u001b[0m \u001b[1m2s\u001b[0m 884us/step\n",
      "/workspaces/QML-QPF/multiprocessing/output/20240723-002227/visuals/UMAP/MNISTMNISTqrand.html\n"
     ]
    },
    {
     "name": "stderr",
     "output_type": "stream",
     "text": [
      "BokehDeprecationWarning: 'circle() method with size value' was deprecated in Bokeh 3.4.0 and will be removed, use 'scatter(size=...) instead' instead.\n",
      "2024-07-23 00:31:50.569241: I external/local_tsl/tsl/profiler/lib/profiler_session.cc:104] Profiler session initializing.\n",
      "2024-07-23 00:31:50.569279: I external/local_tsl/tsl/profiler/lib/profiler_session.cc:119] Profiler session started.\n",
      "2024-07-23 00:31:50.589674: I external/local_tsl/tsl/profiler/lib/profiler_session.cc:131] Profiler session tear down.\n",
      "2024-07-23 00:31:50.590570: I external/local_xla/xla/backends/profiler/gpu/cupti_tracer.cc:1364] CUPTI activity buffer flushed\n"
     ]
    },
    {
     "name": "stdout",
     "output_type": "stream",
     "text": [
      "\u001b[1m313/313\u001b[0m \u001b[32m━━━━━━━━━━━━━━━━━━━━\u001b[0m\u001b[37m\u001b[0m \u001b[1m1s\u001b[0m 2ms/step\n"
     ]
    },
    {
     "name": "stderr",
     "output_type": "stream",
     "text": [
      "/opt/conda/envs/QML-QPF/lib/python3.10/site-packages/keras/src/saving/saving_lib.py:576: UserWarning: Skipping variable loading for optimizer 'adam', because it has 2 variables whereas the saved optimizer has 6 variables. \n",
      "  saveable.load_own_variables(weights_store.get(inner_path))\n"
     ]
    },
    {
     "name": "stdout",
     "output_type": "stream",
     "text": [
      "\u001b[1m1875/1875\u001b[0m \u001b[32m━━━━━━━━━━━━━━━━━━━━\u001b[0m\u001b[37m\u001b[0m \u001b[1m2s\u001b[0m 803us/step\n",
      "/workspaces/QML-QPF/multiprocessing/output/20240723-002227/visuals/UMAP/MNISTMNISTqcnot.html\n"
     ]
    },
    {
     "name": "stderr",
     "output_type": "stream",
     "text": [
      "BokehDeprecationWarning: 'circle() method with size value' was deprecated in Bokeh 3.4.0 and will be removed, use 'scatter(size=...) instead' instead.\n",
      "2024-07-23 00:32:08.914753: I external/local_tsl/tsl/profiler/lib/profiler_session.cc:104] Profiler session initializing.\n",
      "2024-07-23 00:32:08.914784: I external/local_tsl/tsl/profiler/lib/profiler_session.cc:119] Profiler session started.\n",
      "2024-07-23 00:32:08.935198: I external/local_tsl/tsl/profiler/lib/profiler_session.cc:131] Profiler session tear down.\n",
      "2024-07-23 00:32:08.936390: I external/local_xla/xla/backends/profiler/gpu/cupti_tracer.cc:1364] CUPTI activity buffer flushed\n"
     ]
    },
    {
     "name": "stdout",
     "output_type": "stream",
     "text": [
      "\u001b[1m313/313\u001b[0m \u001b[32m━━━━━━━━━━━━━━━━━━━━\u001b[0m\u001b[37m\u001b[0m \u001b[1m1s\u001b[0m 2ms/step\n"
     ]
    },
    {
     "name": "stderr",
     "output_type": "stream",
     "text": [
      "/opt/conda/envs/QML-QPF/lib/python3.10/site-packages/keras/src/saving/saving_lib.py:576: UserWarning: Skipping variable loading for optimizer 'adam', because it has 2 variables whereas the saved optimizer has 6 variables. \n",
      "  saveable.load_own_variables(weights_store.get(inner_path))\n"
     ]
    },
    {
     "name": "stdout",
     "output_type": "stream",
     "text": [
      "\u001b[1m1875/1875\u001b[0m \u001b[32m━━━━━━━━━━━━━━━━━━━━\u001b[0m\u001b[37m\u001b[0m \u001b[1m2s\u001b[0m 1ms/step\n",
      "/workspaces/QML-QPF/multiprocessing/output/20240723-002227/visuals/UMAP/MNISTMNISTqentcnot.html\n"
     ]
    },
    {
     "name": "stderr",
     "output_type": "stream",
     "text": [
      "BokehDeprecationWarning: 'circle() method with size value' was deprecated in Bokeh 3.4.0 and will be removed, use 'scatter(size=...) instead' instead.\n",
      "2024-07-23 00:32:27.861504: I external/local_tsl/tsl/profiler/lib/profiler_session.cc:104] Profiler session initializing.\n",
      "2024-07-23 00:32:27.861540: I external/local_tsl/tsl/profiler/lib/profiler_session.cc:119] Profiler session started.\n",
      "2024-07-23 00:32:27.881771: I external/local_tsl/tsl/profiler/lib/profiler_session.cc:131] Profiler session tear down.\n",
      "2024-07-23 00:32:27.883284: I external/local_xla/xla/backends/profiler/gpu/cupti_tracer.cc:1364] CUPTI activity buffer flushed\n"
     ]
    },
    {
     "name": "stdout",
     "output_type": "stream",
     "text": [
      "\u001b[1m313/313\u001b[0m \u001b[32m━━━━━━━━━━━━━━━━━━━━\u001b[0m\u001b[37m\u001b[0m \u001b[1m1s\u001b[0m 1ms/step\n"
     ]
    },
    {
     "name": "stderr",
     "output_type": "stream",
     "text": [
      "/opt/conda/envs/QML-QPF/lib/python3.10/site-packages/keras/src/saving/saving_lib.py:576: UserWarning: Skipping variable loading for optimizer 'adam', because it has 2 variables whereas the saved optimizer has 6 variables. \n",
      "  saveable.load_own_variables(weights_store.get(inner_path))\n"
     ]
    },
    {
     "name": "stdout",
     "output_type": "stream",
     "text": [
      "\u001b[1m1875/1875\u001b[0m \u001b[32m━━━━━━━━━━━━━━━━━━━━\u001b[0m\u001b[37m\u001b[0m \u001b[1m2s\u001b[0m 888us/step\n",
      "/workspaces/QML-QPF/multiprocessing/output/20240723-002227/visuals/UMAP/FASHIONMNISTFASHIONMNISTno_filter.html\n"
     ]
    },
    {
     "name": "stderr",
     "output_type": "stream",
     "text": [
      "BokehDeprecationWarning: 'circle() method with size value' was deprecated in Bokeh 3.4.0 and will be removed, use 'scatter(size=...) instead' instead.\n",
      "2024-07-23 00:32:45.547690: I external/local_tsl/tsl/profiler/lib/profiler_session.cc:104] Profiler session initializing.\n",
      "2024-07-23 00:32:45.547726: I external/local_tsl/tsl/profiler/lib/profiler_session.cc:119] Profiler session started.\n",
      "2024-07-23 00:32:45.567919: I external/local_tsl/tsl/profiler/lib/profiler_session.cc:131] Profiler session tear down.\n",
      "2024-07-23 00:32:45.569669: I external/local_xla/xla/backends/profiler/gpu/cupti_tracer.cc:1364] CUPTI activity buffer flushed\n"
     ]
    },
    {
     "name": "stdout",
     "output_type": "stream",
     "text": [
      "\u001b[1m313/313\u001b[0m \u001b[32m━━━━━━━━━━━━━━━━━━━━\u001b[0m\u001b[37m\u001b[0m \u001b[1m1s\u001b[0m 2ms/step\n"
     ]
    },
    {
     "name": "stderr",
     "output_type": "stream",
     "text": [
      "/opt/conda/envs/QML-QPF/lib/python3.10/site-packages/keras/src/saving/saving_lib.py:576: UserWarning: Skipping variable loading for optimizer 'adam', because it has 2 variables whereas the saved optimizer has 6 variables. \n",
      "  saveable.load_own_variables(weights_store.get(inner_path))\n"
     ]
    },
    {
     "name": "stdout",
     "output_type": "stream",
     "text": [
      "\u001b[1m1875/1875\u001b[0m \u001b[32m━━━━━━━━━━━━━━━━━━━━\u001b[0m\u001b[37m\u001b[0m \u001b[1m2s\u001b[0m 828us/step\n",
      "/workspaces/QML-QPF/multiprocessing/output/20240723-002227/visuals/UMAP/FASHIONMNISTFASHIONMNISTqrand.html\n"
     ]
    },
    {
     "name": "stderr",
     "output_type": "stream",
     "text": [
      "BokehDeprecationWarning: 'circle() method with size value' was deprecated in Bokeh 3.4.0 and will be removed, use 'scatter(size=...) instead' instead.\n",
      "2024-07-23 00:33:03.620671: I external/local_tsl/tsl/profiler/lib/profiler_session.cc:104] Profiler session initializing.\n",
      "2024-07-23 00:33:03.620706: I external/local_tsl/tsl/profiler/lib/profiler_session.cc:119] Profiler session started.\n",
      "2024-07-23 00:33:03.641228: I external/local_tsl/tsl/profiler/lib/profiler_session.cc:131] Profiler session tear down.\n",
      "2024-07-23 00:33:03.643292: I external/local_xla/xla/backends/profiler/gpu/cupti_tracer.cc:1364] CUPTI activity buffer flushed\n"
     ]
    },
    {
     "name": "stdout",
     "output_type": "stream",
     "text": [
      "\u001b[1m313/313\u001b[0m \u001b[32m━━━━━━━━━━━━━━━━━━━━\u001b[0m\u001b[37m\u001b[0m \u001b[1m1s\u001b[0m 1ms/step\n"
     ]
    },
    {
     "name": "stderr",
     "output_type": "stream",
     "text": [
      "/opt/conda/envs/QML-QPF/lib/python3.10/site-packages/keras/src/saving/saving_lib.py:576: UserWarning: Skipping variable loading for optimizer 'adam', because it has 2 variables whereas the saved optimizer has 6 variables. \n",
      "  saveable.load_own_variables(weights_store.get(inner_path))\n"
     ]
    },
    {
     "name": "stdout",
     "output_type": "stream",
     "text": [
      "\u001b[1m1875/1875\u001b[0m \u001b[32m━━━━━━━━━━━━━━━━━━━━\u001b[0m\u001b[37m\u001b[0m \u001b[1m2s\u001b[0m 883us/step\n",
      "/workspaces/QML-QPF/multiprocessing/output/20240723-002227/visuals/UMAP/FASHIONMNISTFASHIONMNISTqcnot.html\n"
     ]
    },
    {
     "name": "stderr",
     "output_type": "stream",
     "text": [
      "BokehDeprecationWarning: 'circle() method with size value' was deprecated in Bokeh 3.4.0 and will be removed, use 'scatter(size=...) instead' instead.\n",
      "2024-07-23 00:33:21.783894: I external/local_tsl/tsl/profiler/lib/profiler_session.cc:104] Profiler session initializing.\n",
      "2024-07-23 00:33:21.783930: I external/local_tsl/tsl/profiler/lib/profiler_session.cc:119] Profiler session started.\n",
      "2024-07-23 00:33:21.804217: I external/local_tsl/tsl/profiler/lib/profiler_session.cc:131] Profiler session tear down.\n",
      "2024-07-23 00:33:21.806781: I external/local_xla/xla/backends/profiler/gpu/cupti_tracer.cc:1364] CUPTI activity buffer flushed\n"
     ]
    },
    {
     "name": "stdout",
     "output_type": "stream",
     "text": [
      "\u001b[1m313/313\u001b[0m \u001b[32m━━━━━━━━━━━━━━━━━━━━\u001b[0m\u001b[37m\u001b[0m \u001b[1m1s\u001b[0m 2ms/step\n"
     ]
    },
    {
     "name": "stderr",
     "output_type": "stream",
     "text": [
      "/opt/conda/envs/QML-QPF/lib/python3.10/site-packages/keras/src/saving/saving_lib.py:576: UserWarning: Skipping variable loading for optimizer 'adam', because it has 2 variables whereas the saved optimizer has 6 variables. \n",
      "  saveable.load_own_variables(weights_store.get(inner_path))\n"
     ]
    },
    {
     "name": "stdout",
     "output_type": "stream",
     "text": [
      "\u001b[1m1875/1875\u001b[0m \u001b[32m━━━━━━━━━━━━━━━━━━━━\u001b[0m\u001b[37m\u001b[0m \u001b[1m2s\u001b[0m 949us/step\n",
      "/workspaces/QML-QPF/multiprocessing/output/20240723-002227/visuals/UMAP/FASHIONMNISTFASHIONMNISTqentcnot.html\n"
     ]
    },
    {
     "name": "stderr",
     "output_type": "stream",
     "text": [
      "BokehDeprecationWarning: 'circle() method with size value' was deprecated in Bokeh 3.4.0 and will be removed, use 'scatter(size=...) instead' instead.\n"
     ]
    },
    {
     "data": {
      "text/plain": [
       "{None: (1, 3, '20240723-002227', '/workspaces/QML-QPF/multiprocessing')}"
      ]
     },
     "execution_count": 4,
     "metadata": {},
     "output_type": "execute_result"
    }
   ],
   "source": [
    "def UMAP_job(detail):\n",
    "    restored_model = Model(*detail)\n",
    "    restored_model.set_data()\n",
    "    restored_model.prep()\n",
    "    restored_model.load_history()\n",
    "    restored_model.visuals.manifold_umap()\n",
    "\n",
    "{UMAP_job(m): m for m in models}  "
   ]
  },
  {
   "cell_type": "code",
   "execution_count": null,
   "metadata": {},
   "outputs": [],
   "source": []
  }
 ],
 "metadata": {
  "kernelspec": {
   "display_name": "QML-QPF",
   "language": "python",
   "name": "python3"
  },
  "language_info": {
   "codemirror_mode": {
    "name": "ipython",
    "version": 3
   },
   "file_extension": ".py",
   "mimetype": "text/x-python",
   "name": "python",
   "nbconvert_exporter": "python",
   "pygments_lexer": "ipython3",
   "version": "3.10.13"
  }
 },
 "nbformat": 4,
 "nbformat_minor": 2
}
