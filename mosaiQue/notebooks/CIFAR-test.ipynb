{
 "cells": [
  {
   "cell_type": "code",
   "execution_count": 1,
   "id": "a3400fd8",
   "metadata": {},
   "outputs": [],
   "source": [
    "#!sudo /opt/conda/bin/conda install conda-build -y"
   ]
  },
  {
   "cell_type": "code",
   "execution_count": 2,
   "id": "32980464",
   "metadata": {
    "ExecuteTime": {
     "end_time": "2024-11-18T15:53:19.909394Z",
     "start_time": "2024-11-18T15:53:18.779242Z"
    }
   },
   "outputs": [],
   "source": [
    "#!sudo /opt/conda/bin/conda-develop -n QML-QPF PATH /workspaces/QML-QPF/mosaiQue"
   ]
  },
  {
   "cell_type": "code",
   "execution_count": 1,
   "id": "cd08081e",
   "metadata": {},
   "outputs": [
    {
     "name": "stderr",
     "output_type": "stream",
     "text": [
      "2024-11-25 16:28:33.684510: I tensorflow/core/platform/cpu_feature_guard.cc:210] This TensorFlow binary is optimized to use available CPU instructions in performance-critical operations.\n",
      "To enable the following instructions: AVX2 AVX512F FMA, in other operations, rebuild TensorFlow with the appropriate compiler flags.\n",
      "2024-11-25 16:28:34.413664: W tensorflow/compiler/tf2tensorrt/utils/py_utils.cc:38] TF-TRT Warning: Could not find TensorRT\n"
     ]
    }
   ],
   "source": [
    "\n",
    "#import tensorflow as tf\n",
    "#from tensorflow import keras\n",
    "import mosaique as mq\n",
    "from concurrent.futures import ProcessPoolExecutor, as_completed\n",
    "import itertools\n",
    "import numpy as np\n",
    "import pennylane as qml\n",
    "import os\n",
    "import time\n",
    "from matplotlib import pyplot as plt\n",
    "from mosaique.models.operation import OperationLayer\n",
    "os.environ['TF_GPU_ALLOCATOR'] = 'cuda_malloc_async'\n",
    "\n",
    "\n",
    "def operation():\n",
    "    dev = qml.device(\"default.qubit.tf\", wires=4)\n",
    "    @qml.qnode(dev, interface='tf')\n",
    "    def cnot(inputs):\n",
    "        inputs = inputs * np.pi\n",
    "        qml.AngleEmbedding(inputs[:,...], wires=range(4), rotation='Y')\n",
    "\n",
    "        qml.CNOT(wires=[0, 1])\n",
    "        qml.CNOT(wires=[2, 3])\n",
    "\n",
    "        # Measurement producing 4 classical output values\n",
    "        return [qml.expval(qml.PauliZ(j)) for j in range(4)]\n",
    "    return cnot"
   ]
  },
  {
   "cell_type": "code",
   "execution_count": 21,
   "id": "3585c58d",
   "metadata": {},
   "outputs": [],
   "source": [
    "def color_merge(dataset):\n",
    "    return np.mean(dataset, axis=-1)\n",
    "      \n",
    "\n",
    "\n",
    "from tensorflow import keras\n",
    "cifar_dataset = keras.datasets.cifar10\n",
    "tr_layer = mq.ConvolutionLayer4x4(\"cifar_train\")\n",
    "te_layer = mq.ConvolutionLayer4x4(\"cifar_test\")\n",
    "(tr_images, tr_labels), (te_images, te_labels) = cifar_dataset.load_data()\n",
    "tr_images = color_merge(tr_images)\n",
    "te_images = color_merge(te_images)\n",
    "\n"
   ]
  },
  {
   "cell_type": "code",
   "execution_count": 22,
   "id": "9c2212f2",
   "metadata": {},
   "outputs": [
    {
     "data": {
      "text/plain": [
       "<matplotlib.image.AxesImage at 0x715e23ded960>"
      ]
     },
     "execution_count": 22,
     "metadata": {},
     "output_type": "execute_result"
    },
    {
     "data": {
      "image/png": "[encoded data removed]",
      "text/plain": [
       "<Figure size 640x480 with 1 Axes>"
      ]
     },
     "metadata": {},
     "output_type": "display_data"
    }
   ],
   "source": [
    "plt.imshow(tr_images[3])"
   ]
  },
  {
   "cell_type": "code",
   "execution_count": null,
   "id": "d3138740",
   "metadata": {},
   "outputs": [],
   "source": [
    "\n",
    "\n",
    "tr_layer.fit(tr_images)\n",
    "te_layer.fit(te_images)\n",
    "tr_images = tr_layer.transform(tr_images)\n",
    "te_images = te_layer.transform(te_images)\n"
   ]
  },
  {
   "cell_type": "code",
   "execution_count": null,
   "id": "007cbeda",
   "metadata": {},
   "outputs": [],
   "source": [
    "print((tr_images[:, 1::2, 1::2]).shape)\n",
    "\n",
    "(tr_images[:, 1::2, 1::2]) = 255\n",
    "\n",
    "print(tr_images.shape)\n",
    "\n",
    "tr_images2 = tr_layer.transform(tr_images)\n",
    "\n",
    "te_images2 = te_layer.transform(te_images)\n",
    "\n",
    "print(tr_images2.shape)\n",
    "\n",
    "plt.imshow(tr_images2[0,:,1].reshape((-1,14)))\n",
    "\n"
   ]
  },
  {
   "cell_type": "code",
   "execution_count": null,
   "id": "a35608b4",
   "metadata": {},
   "outputs": [],
   "source": [
    "permutations = np.asarray(list(itertools.permutations(range(4))))\n",
    "\n",
    "op = OperationLayer(operation())\n",
    "#predict = op.pre_op.predict(tr_images2[:,:,permutations[-1]])\n",
    "predict = op.pre_op.predict(tr_images2,batch_size=5)\n",
    "\n",
    "#print(tr_images2[:,:,permutations[-1]].shape)\n",
    "print(predict.shape)\n",
    "#print(permutations[-1])\n"
   ]
  },
  {
   "cell_type": "code",
   "execution_count": 5,
   "id": "5b3fcbaf",
   "metadata": {},
   "outputs": [],
   "source": [
    "permutations = np.asarray(list(itertools.permutations(range(4))))\n",
    "\n",
    "def pool(x, call, p, l):\n",
    "    #sleep_duration = np.random.randint(1, 5) # Sleep between 1 and 4 seconds\n",
    "    #time.sleep(sleep_duration)\n",
    "    op = OperationLayer(call())\n",
    "    predict = l.post_transform(op.pre_op.predict(x,batch_size=1000))\n",
    "    l.save(predict, p)\n",
    "\n"
   ]
  },
  {
   "cell_type": "code",
   "execution_count": null,
   "id": "ce83b1a6",
   "metadata": {},
   "outputs": [],
   "source": [
    "_min, _max = np.amin(predict), np.amax(predict)\n",
    "fig, axes = plt.subplots(1, 4, figsize=(16, 4))\n",
    "\n",
    "print(_min,_max)\n",
    "\n",
    "# Plot all output channels for quantum cnot\n",
    "for c in range(4):\n",
    "    axes[c].imshow(predict[0,c,:].reshape((14,14)),vmin = _min, vmax = _max)"
   ]
  }
 ],
 "metadata": {
  "kernelspec": {
   "display_name": "QML-QPF",
   "language": "python",
   "name": "python3"
  },
  "language_info": {
   "codemirror_mode": {
    "name": "ipython",
    "version": 3
   },
   "file_extension": ".py",
   "mimetype": "text/x-python",
   "name": "python",
   "nbconvert_exporter": "python",
   "pygments_lexer": "ipython3",
   "version": "3.10.13"
  }
 },
 "nbformat": 4,
 "nbformat_minor": 5
}
