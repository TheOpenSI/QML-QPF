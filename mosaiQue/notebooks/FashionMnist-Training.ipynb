{
 "cells": [
  {
   "cell_type": "code",
   "execution_count": null,
   "id": "32980464",
   "metadata": {
    "ExecuteTime": {
     "end_time": "2024-11-18T15:53:19.909394Z",
     "start_time": "2024-11-18T15:53:18.779242Z"
    }
   },
   "outputs": [],
   "source": [
    "#!sudo /opt/conda/bin/conda-develop -n QML-QPF PATH /workspaces/QML-QPF/mosaiQue"
   ]
  },
  {
   "cell_type": "code",
   "execution_count": null,
   "id": "cd08081e",
   "metadata": {},
   "outputs": [],
   "source": [
    "\n",
    "#import tensorflow as tf\n",
    "#from tensorflow import keras\n",
    "import mosaique as mq\n",
    "from concurrent.futures import ProcessPoolExecutor, as_completed\n",
    "import itertools\n",
    "import numpy as np\n",
    "import pennylane as qml\n",
    "import os\n",
    "import time\n",
    "import datetime\n",
    "from tensorflow import keras\n",
    "from mosaique.models.operation import OperationLayer\n",
    "os.environ['TF_GPU_ALLOCATOR'] = 'cuda_malloc_async'\n",
    "\n",
    "fashionmnist_dataset = keras.datasets.fashion_mnist\n",
    "train_layer = mq.ConvolutionLayer4x4(\"fashionmnist_train\")\n",
    "test_layer = mq.ConvolutionLayer4x4(\"fashionmnist_test\")\n",
    "(train_images, train_labels), (test_images, test_labels) = fashionmnist_dataset.load_data()\n",
    "train_layer.fit(train_images)\n",
    "test_layer.fit(test_images)\n",
    "train_images = train_layer.transform(train_images)\n",
    "test_images = test_layer.transform(test_images)\n",
    "train_images = train_layer.post_transform(train_images.transpose((0,2,1)))\n",
    "test_images = test_layer.post_transform(test_images.transpose((0,2,1)))"
   ]
  },
  {
   "cell_type": "code",
   "execution_count": null,
   "id": "a62fb6d5",
   "metadata": {},
   "outputs": [],
   "source": [
    "def run(tr_images, te_images, label):\n",
    "    log_dir = train_layer.name + \"/run8/\" + label\n",
    "    tensorboard_callback = keras.callbacks.TensorBoard(\n",
    "        log_dir=log_dir,\n",
    "        histogram_freq=1,\n",
    "        write_graph=True,\n",
    "        write_images=True,\n",
    "        write_steps_per_second=True,\n",
    "        update_freq='batch',\n",
    "        profile_batch=1,\n",
    "        embeddings_freq=1,\n",
    "        embeddings_metadata=None\n",
    "    )\n",
    "    q_model = keras.models.Sequential([\n",
    "        keras.layers.Rescaling(scale=-1. / 127.5, offset=1),\n",
    "        keras.layers.Flatten(),\n",
    "        keras.layers.Dense(10, activation=\"softmax\")\n",
    "    ])\n",
    "    q_model.compile(\n",
    "        optimizer='adam',\n",
    "        loss=\"sparse_categorical_crossentropy\",\n",
    "        metrics=[\"accuracy\"],\n",
    "    )\n",
    "\n",
    "    q_history = q_model.fit(\n",
    "        tr_images,\n",
    "        train_labels,\n",
    "        validation_data=(te_images, test_labels),\n",
    "        batch_size=128,\n",
    "        epochs=30,\n",
    "        verbose=2,\n",
    "        callbacks=[tensorboard_callback]\n",
    "    )\n",
    "\n",
    "def model(variant, tr_layer, te_layer):\n",
    "    tr_images = tr_layer.open(variant)\n",
    "    te_images =  te_layer.open(variant)\n",
    "\n",
    "    label = ''.join(map(str,variant))\n",
    "\n",
    "    run(tr_images, te_images, label)"
   ]
  },
  {
   "cell_type": "code",
   "execution_count": null,
   "id": "ab5a65bf",
   "metadata": {},
   "outputs": [],
   "source": [
    "permutations = np.asarray(list(itertools.permutations(range(4))))\n",
    "\n",
    "#[model(variant = p, tr_layer = train_layer, te_layer= test_layer) for p in permutations[:1]]"
   ]
  },
  {
   "cell_type": "code",
   "execution_count": null,
   "id": "80a45f19",
   "metadata": {},
   "outputs": [],
   "source": [
    "from matplotlib import pyplot as plt\n",
    "\n",
    "print(train_layer.open([0,1,2,3]).shape)\n",
    "\n",
    "post = train_layer.open([0,1,2,3])\n",
    "\n",
    "_min, _max = np.amin(post), np.amax(post)\n",
    "fig, axes = plt.subplots(1, 4, figsize=(16, 4))\n",
    "\n",
    "# Plot all output channels for quantum cnot\n",
    "for c in range(4):\n",
    "    axes[c].imshow(post[0,:,:,c],vmin = _min, vmax = _max)"
   ]
  },
  {
   "cell_type": "code",
   "execution_count": null,
   "id": "031c0127",
   "metadata": {},
   "outputs": [],
   "source": [
    "plt.imshow((train_layer.channel_merge(post))[0,:,:],vmin = _min, vmax = _max)"
   ]
  },
  {
   "cell_type": "code",
   "execution_count": null,
   "id": "beb165f6",
   "metadata": {},
   "outputs": [],
   "source": [
    "\n",
    "\n",
    "for j in range(3):\n",
    "    with ProcessPoolExecutor(8) as executor:\n",
    "        runner = {\n",
    "            executor.submit(model,variant = p, tr_layer = train_layer, te_layer= test_layer): p for p in permutations[8*j:8*(j+1)]\n",
    "        }\n",
    "        for future in as_completed(runner):\n",
    "            runner.pop(future)\n",
    "# 1 min 8 sec"
   ]
  },
  {
   "cell_type": "code",
   "execution_count": null,
   "id": "12b2c91c",
   "metadata": {},
   "outputs": [],
   "source": [
    "run(train_images,test_images,\"NO-FILTER\")"
   ]
  }
 ],
 "metadata": {
  "kernelspec": {
   "display_name": "QML-QPF",
   "language": "python",
   "name": "python3"
  },
  "language_info": {
   "codemirror_mode": {
    "name": "ipython",
    "version": 3
   },
   "file_extension": ".py",
   "mimetype": "text/x-python",
   "name": "python",
   "nbconvert_exporter": "python",
   "pygments_lexer": "ipython3",
   "version": "3.10.13"
  }
 },
 "nbformat": 4,
 "nbformat_minor": 5
}
