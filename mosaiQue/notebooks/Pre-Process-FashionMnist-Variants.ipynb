{
 "cells": [
  {
   "cell_type": "code",
   "execution_count": null,
   "id": "a3400fd8",
   "metadata": {},
   "outputs": [],
   "source": [
    "#!sudo /opt/conda/bin/conda install conda-build -y"
   ]
  },
  {
   "cell_type": "code",
   "execution_count": null,
   "id": "32980464",
   "metadata": {
    "ExecuteTime": {
     "end_time": "2024-11-18T15:53:19.909394Z",
     "start_time": "2024-11-18T15:53:18.779242Z"
    }
   },
   "outputs": [],
   "source": [
    "#!sudo /opt/conda/bin/conda-develop -n QML-QPF PATH /workspaces/QML-QPF/mosaiQue"
   ]
  },
  {
   "cell_type": "code",
   "execution_count": null,
   "id": "cd08081e",
   "metadata": {},
   "outputs": [],
   "source": [
    "\n",
    "#import tensorflow as tf\n",
    "#from tensorflow import keras\n",
    "import mosaique as mq\n",
    "from concurrent.futures import ProcessPoolExecutor, as_completed\n",
    "import itertools\n",
    "import numpy as np\n",
    "import pennylane as qml\n",
    "import os\n",
    "import time\n",
    "from mosaique.models.operation import OperationLayer\n",
    "os.environ['TF_GPU_ALLOCATOR'] = 'cuda_malloc_async'\n",
    "\n",
    "\n",
    "def operation():\n",
    "    dev = qml.device(\"default.qubit.tf\", wires=4)\n",
    "    @qml.qnode(dev, interface='tf')\n",
    "    def cnot(inputs):\n",
    "        inputs = inputs * np.pi\n",
    "        qml.AngleEmbedding(inputs[:,...], wires=range(4), rotation='Y')\n",
    "\n",
    "        qml.CNOT(wires=[0, 1])\n",
    "        qml.CNOT(wires=[2, 3])\n",
    "\n",
    "        # Measurement producing 4 classical output values\n",
    "        return [qml.expval(qml.PauliZ(j)) for j in range(4)]\n",
    "    return cnot"
   ]
  },
  {
   "cell_type": "code",
   "execution_count": null,
   "id": "3585c58d",
   "metadata": {},
   "outputs": [],
   "source": [
    "def preset():\n",
    "    from tensorflow import keras\n",
    "    fashion_mnist_dataset = keras.datasets.fashion_mnist\n",
    "    tr_layer = mq.ConvolutionLayer4x4(\"fashionmnist_train\")\n",
    "    te_layer = mq.ConvolutionLayer4x4(\"fashionmnist_test\")\n",
    "    (tr_images, tr_labels), (te_images, te_labels) = fashion_mnist_dataset.load_data()\n",
    "    tr_layer.fit(tr_images)\n",
    "    te_layer.fit(te_images)\n",
    "    tr_images = tr_layer.transform(tr_images)\n",
    "    te_images = te_layer.transform(te_images)\n",
    "    return ((tr_layer, (tr_images, tr_labels)), (te_layer,(te_images, te_labels)))\n",
    "\n",
    "with ProcessPoolExecutor() as executor:\n",
    "    future = executor.submit(preset)\n",
    "\n",
    "((train_layer, (train_images, train_labels)), (test_layer,(test_images, test_labels))) = future.result() #This blocks until the task completes"
   ]
  },
  {
   "cell_type": "code",
   "execution_count": null,
   "id": "5b3fcbaf",
   "metadata": {},
   "outputs": [],
   "source": [
    "permutations = np.asarray(list(itertools.permutations(range(4))))\n",
    "\n",
    "def pool(x, call, p, l):\n",
    "    #sleep_duration = np.random.randint(1, 5) # Sleep between 1 and 4 seconds\n",
    "    #time.sleep(sleep_duration)\n",
    "    op = OperationLayer(call())\n",
    "    predict = l.post_transform(op.pre_op.predict(x,batch_size=1000))\n",
    "    l.save(predict, p)\n",
    "\n"
   ]
  },
  {
   "cell_type": "code",
   "execution_count": null,
   "id": "ce83b1a6",
   "metadata": {},
   "outputs": [],
   "source": [
    "#[pool(x=train_images[:,:,p], call=operation, p=p, l=train_layer) for p in permutations[:1]]\n"
   ]
  },
  {
   "cell_type": "code",
   "execution_count": null,
   "id": "2f3cc1fa",
   "metadata": {},
   "outputs": [],
   "source": [
    " \n",
    "for j in range(3):\n",
    "    with ProcessPoolExecutor(8) as executor:\n",
    "        runner = {\n",
    "            executor.submit(pool, x=train_images[:,:,p], call=operation, p=p, l=train_layer): p for p in permutations[8*j:8*(j+1)]\n",
    "        }\n",
    "        for future in as_completed(runner):\n",
    "            runner.pop(future)\n",
    "#3 min 43 sec"
   ]
  },
  {
   "cell_type": "code",
   "execution_count": null,
   "id": "2e750a18",
   "metadata": {},
   "outputs": [],
   "source": [
    "\n",
    "for j in range(3):\n",
    "    with ProcessPoolExecutor(8) as executor:\n",
    "        runner = {\n",
    "            executor.submit(pool, x=test_images[:,:,p], call=operation, p=p, l=test_layer): p for p in permutations[8*j:8*(j+1)]\n",
    "        }\n",
    "        for future in as_completed(runner):\n",
    "            runner.pop(future)\n",
    "#50 sec"
   ]
  }
 ],
 "metadata": {
  "kernelspec": {
   "display_name": "QML-QPF",
   "language": "python",
   "name": "python3"
  },
  "language_info": {
   "codemirror_mode": {
    "name": "ipython",
    "version": 3
   },
   "file_extension": ".py",
   "mimetype": "text/x-python",
   "name": "python",
   "nbconvert_exporter": "python",
   "pygments_lexer": "ipython3",
   "version": "3.10.13"
  }
 },
 "nbformat": 4,
 "nbformat_minor": 5
}
