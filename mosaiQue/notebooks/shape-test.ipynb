{
 "cells": [
  {
   "cell_type": "code",
   "execution_count": 1,
   "id": "a3400fd8",
   "metadata": {},
   "outputs": [],
   "source": [
    "#!sudo /opt/conda/bin/conda install conda-build -y"
   ]
  },
  {
   "cell_type": "code",
   "execution_count": 2,
   "id": "32980464",
   "metadata": {
    "ExecuteTime": {
     "end_time": "2024-11-18T15:53:19.909394Z",
     "start_time": "2024-11-18T15:53:18.779242Z"
    }
   },
   "outputs": [],
   "source": [
    "#!sudo /opt/conda/bin/conda-develop -n QML-QPF PATH /workspaces/QML-QPF/mosaiQue"
   ]
  },
  {
   "cell_type": "code",
   "execution_count": 3,
   "id": "cd08081e",
   "metadata": {},
   "outputs": [
    {
     "name": "stderr",
     "output_type": "stream",
     "text": [
      "2024-11-21 03:56:35.985765: I tensorflow/core/platform/cpu_feature_guard.cc:210] This TensorFlow binary is optimized to use available CPU instructions in performance-critical operations.\n",
      "To enable the following instructions: AVX2 AVX512F FMA, in other operations, rebuild TensorFlow with the appropriate compiler flags.\n",
      "2024-11-21 03:56:36.709297: W tensorflow/compiler/tf2tensorrt/utils/py_utils.cc:38] TF-TRT Warning: Could not find TensorRT\n"
     ]
    }
   ],
   "source": [
    "\n",
    "#import tensorflow as tf\n",
    "#from tensorflow import keras\n",
    "import mosaique as mq\n",
    "from concurrent.futures import ProcessPoolExecutor, as_completed\n",
    "import itertools\n",
    "import numpy as np\n",
    "import pennylane as qml\n",
    "import os\n",
    "import time\n",
    "from mosaique.models.operation import OperationLayer\n",
    "os.environ['TF_GPU_ALLOCATOR'] = 'cuda_malloc_async'\n",
    "\n",
    "\n",
    "def operation():\n",
    "    dev = qml.device(\"default.qubit.tf\", wires=4)\n",
    "    @qml.qnode(dev, interface='tf')\n",
    "    def cnot(inputs):\n",
    "\n",
    "        qml.AngleEmbedding(inputs[:,...], wires=range(4), rotation='Y')\n",
    "\n",
    "        qml.CNOT(wires=[0, 1])\n",
    "        qml.CNOT(wires=[2, 3])\n",
    "\n",
    "        # Measurement producing 4 classical output values\n",
    "        return [qml.expval(qml.PauliZ(j)) for j in range(4)]\n",
    "    return cnot"
   ]
  },
  {
   "cell_type": "code",
   "execution_count": 4,
   "id": "3585c58d",
   "metadata": {},
   "outputs": [],
   "source": [
    "\n",
    "from tensorflow import keras\n",
    "mnist_dataset = keras.datasets.mnist\n",
    "tr_layer = mq.ConvolutionLayer4x4(\"mnist_train2\")\n",
    "te_layer = mq.ConvolutionLayer4x4(\"mnist_test2\")\n",
    "(tr_images, tr_labels), (te_images, te_labels) = mnist_dataset.load_data()\n",
    "(tr_images, tr_labels), (te_images, te_labels) = (tr_images[:20], tr_labels[:20]), (te_images[:20], te_labels[:20])\n",
    "tr_layer.fit(tr_images)\n",
    "te_layer.fit(te_images)\n",
    "tr_images = tr_layer.transform(tr_images)\n",
    "te_images = te_layer.transform(te_images)\n"
   ]
  },
  {
   "cell_type": "code",
   "execution_count": 5,
   "id": "5b3fcbaf",
   "metadata": {},
   "outputs": [
    {
     "name": "stderr",
     "output_type": "stream",
     "text": [
      "2024-11-21 03:56:37.775884: I tensorflow/core/common_runtime/gpu/gpu_process_state.cc:238] Using CUDA malloc Async allocator for GPU: 0\n",
      "2024-11-21 03:56:37.776176: I tensorflow/core/common_runtime/gpu/gpu_device.cc:1928] Created device /job:localhost/replica:0/task:0/device:GPU:0 with 6795 MB memory:  -> device: 0, name: NVIDIA GeForce RTX 2080, pci bus id: 0000:b3:00.0, compute capability: 7.5\n",
      "WARNING: All log messages before absl::InitializeLog() is called are written to STDERR\n",
      "I0000 00:00:1732161398.481799  944491 service.cc:145] XLA service 0x76aa8c013ea0 initialized for platform CUDA (this does not guarantee that XLA will be used). Devices:\n",
      "I0000 00:00:1732161398.481868  944491 service.cc:153]   StreamExecutor device (0): NVIDIA GeForce RTX 2080, Compute Capability 7.5\n",
      "2024-11-21 03:56:38.519876: I tensorflow/compiler/mlir/tensorflow/utils/dump_mlir_util.cc:268] disabling MLIR crash reproducer, set env var `MLIR_CRASH_REPRODUCER_DIRECTORY` to enable.\n",
      "2024-11-21 03:56:38.590349: I external/local_xla/xla/stream_executor/cuda/cuda_dnn.cc:465] Loaded cuDNN version 8907\n"
     ]
    },
    {
     "name": "stdout",
     "output_type": "stream",
     "text": [
      "\u001b[1m1/1\u001b[0m \u001b[32m━━━━━━━━━━━━━━━━━━━━\u001b[0m\u001b[37m\u001b[0m \u001b[1m1s\u001b[0m 1s/step\n"
     ]
    },
    {
     "name": "stderr",
     "output_type": "stream",
     "text": [
      "I0000 00:00:1732161398.939333  944491 device_compiler.h:188] Compiled cluster using XLA!  This line is logged at most once for the lifetime of the process.\n"
     ]
    },
    {
     "data": {
      "text/plain": [
       "(20, 196, 4)"
      ]
     },
     "execution_count": 5,
     "metadata": {},
     "output_type": "execute_result"
    }
   ],
   "source": [
    "permutations = np.asarray(list(itertools.permutations(range(4))))\n",
    "\n",
    "op = OperationLayer(operation())\n",
    "predict = op.pre_op.predict(tr_images)\n",
    "\n",
    "predict.shape\n"
   ]
  },
  {
   "cell_type": "code",
   "execution_count": 6,
   "id": "d09f89c1",
   "metadata": {},
   "outputs": [
    {
     "data": {
      "text/plain": [
       "<matplotlib.image.AxesImage at 0x76ab8c1b25f0>"
      ]
     },
     "execution_count": 6,
     "metadata": {},
     "output_type": "execute_result"
    },
    {
     "data": {
      "image/png": "[encoded data removed]",
      "text/plain": [
       "<Figure size 640x480 with 1 Axes>"
      ]
     },
     "metadata": {},
     "output_type": "display_data"
    }
   ],
   "source": [
    "from matplotlib import pyplot as plt\n",
    "\n",
    "plt.imshow(tr_layer.post_transform(predict)[0,:,:,1])"
   ]
  },
  {
   "cell_type": "code",
   "execution_count": 7,
   "id": "41d94a75",
   "metadata": {},
   "outputs": [
    {
     "data": {
      "text/plain": [
       "(20, 196, 4)"
      ]
     },
     "execution_count": 7,
     "metadata": {},
     "output_type": "execute_result"
    }
   ],
   "source": [
    "tr_images.shape"
   ]
  },
  {
   "cell_type": "code",
   "execution_count": 8,
   "id": "e78fd149",
   "metadata": {},
   "outputs": [],
   "source": [
    "operate = np.asarray([operation()(tr_images[i,...]/255.) for i in range(20)])"
   ]
  },
  {
   "cell_type": "code",
   "execution_count": 9,
   "id": "0cd35515",
   "metadata": {},
   "outputs": [
    {
     "data": {
      "text/plain": [
       "(20, 4, 196)"
      ]
     },
     "execution_count": 9,
     "metadata": {},
     "output_type": "execute_result"
    }
   ],
   "source": [
    "operate.shape"
   ]
  },
  {
   "cell_type": "code",
   "execution_count": 10,
   "id": "9d8c3654",
   "metadata": {},
   "outputs": [
    {
     "data": {
      "text/plain": [
       "<matplotlib.image.AxesImage at 0x76ab846b0a60>"
      ]
     },
     "execution_count": 10,
     "metadata": {},
     "output_type": "execute_result"
    },
    {
     "data": {
      "image/png": "[encoded data removed]",
      "text/plain": [
       "<Figure size 640x480 with 1 Axes>"
      ]
     },
     "metadata": {},
     "output_type": "display_data"
    }
   ],
   "source": [
    "orz = operate.reshape(20,4,14,14)\n",
    "\n",
    "plt.imshow(orz.transpose((0,2,3,1))[0][:,:,1])"
   ]
  },
  {
   "cell_type": "code",
   "execution_count": null,
   "id": "2117c996",
   "metadata": {},
   "outputs": [],
   "source": []
  },
  {
   "cell_type": "code",
   "execution_count": null,
   "id": "13b32130",
   "metadata": {},
   "outputs": [],
   "source": []
  }
 ],
 "metadata": {
  "kernelspec": {
   "display_name": "QML-QPF",
   "language": "python",
   "name": "python3"
  },
  "language_info": {
   "codemirror_mode": {
    "name": "ipython",
    "version": 3
   },
   "file_extension": ".py",
   "mimetype": "text/x-python",
   "name": "python",
   "nbconvert_exporter": "python",
   "pygments_lexer": "ipython3",
   "version": "3.10.13"
  }
 },
 "nbformat": 4,
 "nbformat_minor": 5
}
