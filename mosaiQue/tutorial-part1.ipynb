{
 "cells": [
  {
   "cell_type": "markdown",
   "metadata": {},
   "source": [
    "### Pre-Instalation\n",
    "\n",
    "While the library is in development the conda build library will help make importing the library easier in projects."
   ]
  },
  {
   "cell_type": "code",
   "execution_count": null,
   "metadata": {},
   "outputs": [],
   "source": [
    "!sudo /opt/conda/bin/conda install conda-build -y"
   ]
  },
  {
   "cell_type": "markdown",
   "metadata": {},
   "source": [
    "### Instalation\n",
    "\n",
    "Conda Build can be used to add the in development mosaiQue library to conda for easy importing."
   ]
  },
  {
   "cell_type": "code",
   "execution_count": null,
   "metadata": {},
   "outputs": [],
   "source": [
    "!sudo /opt/conda/bin/conda-develop -n QML-QPF PATH /workspaces/QML-QPF/mosaiQue"
   ]
  },
  {
   "cell_type": "markdown",
   "metadata": {},
   "source": [
    "### Imports"
   ]
  },
  {
   "cell_type": "code",
   "execution_count": null,
   "metadata": {},
   "outputs": [],
   "source": [
    "import mosaique as mq\n",
    "from concurrent.futures import ProcessPoolExecutor, as_completed\n",
    "import itertools\n",
    "import numpy as np\n",
    "import pennylane as qml\n",
    "import os\n",
    "from mosaique.models.operation import OperationLayer"
   ]
  },
  {
   "cell_type": "code",
   "execution_count": null,
   "metadata": {},
   "outputs": [],
   "source": [
    "\n",
    "# Set the environment for asynchronous GPU usage\n",
    "os.environ['TF_GPU_ALLOCATOR'] = 'cuda_malloc_async'\n"
   ]
  },
  {
   "cell_type": "markdown",
   "metadata": {},
   "source": [
    "### Define the Quantum Circuit\n",
    "\n",
    "Set up a 4 wire quantum node using PennyLane."
   ]
  },
  {
   "cell_type": "code",
   "execution_count": null,
   "metadata": {},
   "outputs": [],
   "source": [
    "\n",
    "def operation():\n",
    "    dev = qml.device(\"default.qubit.tf\", wires=4)\n",
    "    @qml.qnode(dev, interface='tf')\n",
    "    def cnot(inputs):\n",
    "        inputs = inputs * np.pi\n",
    "        qml.AngleEmbedding(inputs[:,...], wires=range(4), rotation='Y')\n",
    "\n",
    "        qml.CNOT(wires=[0, 1])\n",
    "        qml.CNOT(wires=[2, 3])\n",
    "\n",
    "        # Measurement producing 4 classical output values\n",
    "        return [qml.expval(qml.PauliZ(j)) for j in range(4)]\n",
    "    return cnot\n"
   ]
  },
  {
   "cell_type": "markdown",
   "metadata": {},
   "source": [
    "### Prepare the Dataset\n",
    "\n",
    "Load the dataset and fit the convolution layers."
   ]
  },
  {
   "cell_type": "code",
   "execution_count": null,
   "metadata": {},
   "outputs": [],
   "source": [
    "\n",
    "def preset():\n",
    "    from tensorflow import keras\n",
    "    mnist_dataset = keras.datasets.mnist\n",
    "    tr_layer = mq.ConvolutionLayer4x4(\"mnist_train5\")\n",
    "    te_layer = mq.ConvolutionLayer4x4(\"mnist_test5\")\n",
    "    (tr_images, tr_labels), (te_images, te_labels) = mnist_dataset.load_data()\n",
    "    tr_layer.fit(tr_images)\n",
    "    te_layer.fit(te_images)\n",
    "    tr_images = tr_layer.transform(tr_images)\n",
    "    te_images = te_layer.transform(te_images)\n",
    "    return ((tr_layer, (tr_images, tr_labels)), (te_layer,(te_images, te_labels)))\n",
    "\n",
    "with ProcessPoolExecutor() as executor:\n",
    "    future = executor.submit(preset)\n",
    "\n",
    "((train_layer, (train_images, train_labels)), (test_layer,(test_images, test_labels))) = future.result() #This blocks until the task completes\n"
   ]
  },
  {
   "cell_type": "markdown",
   "metadata": {},
   "source": [
    "### Prepare Permutations and Processing Pool\n",
    "\n",
    "Generate process pool and the permutations of the wire assignments."
   ]
  },
  {
   "cell_type": "code",
   "execution_count": null,
   "metadata": {},
   "outputs": [],
   "source": [
    "\n",
    "permutations = np.asarray(list(itertools.permutations(range(4))))\n",
    "\n",
    "def pool(x, call, p, l):\n",
    "    op = OperationLayer(call())\n",
    "    predict = l.post_transform(op.pre_op.predict(x,batch_size=1000))\n",
    "    l.save(predict, p)\n"
   ]
  },
  {
   "cell_type": "markdown",
   "metadata": {},
   "source": [
    "### Process the Train Images in Parallel:\n",
    "\n",
    "Utilize the ProcessPoolExecutor to process the train images concurrently."
   ]
  },
  {
   "cell_type": "code",
   "execution_count": null,
   "metadata": {},
   "outputs": [],
   "source": [
    "\n",
    "for j in range(3):\n",
    "    with ProcessPoolExecutor(8) as executor:\n",
    "        runner = {\n",
    "            executor.submit(pool, x=train_images[:,:,p], call=operation, p=p, l=train_layer): p for p in permutations[8*j:8*(j+1)]\n",
    "        }\n",
    "        for future in as_completed(runner):\n",
    "            runner.pop(future)\n",
    "#3 min 43 sec\n"
   ]
  },
  {
   "cell_type": "markdown",
   "metadata": {},
   "source": [
    "### Process the Test Images in Parallel:\n",
    "\n",
    "Utilize the ProcessPoolExecutor to process the test images concurrently."
   ]
  },
  {
   "cell_type": "code",
   "execution_count": null,
   "metadata": {},
   "outputs": [],
   "source": [
    "\n",
    "for j in range(3):\n",
    "    with ProcessPoolExecutor(8) as executor:\n",
    "        runner = {\n",
    "            executor.submit(pool, x=test_images[:,:,p], call=operation, p=p, l=test_layer): p for p in permutations[8*j:8*(j+1)]\n",
    "        }\n",
    "        for future in as_completed(runner):\n",
    "            runner.pop(future)\n",
    "#50 sec\n"
   ]
  }
 ],
 "metadata": {
  "language_info": {
   "name": "python"
  }
 },
 "nbformat": 4,
 "nbformat_minor": 2
}
