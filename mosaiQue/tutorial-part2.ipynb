{
 "cells": [
  {
   "cell_type": "markdown",
   "metadata": {},
   "source": [
    "### Imports"
   ]
  },
  {
   "cell_type": "code",
   "execution_count": null,
   "metadata": {},
   "outputs": [],
   "source": [
    "\n",
    "import mosaique as mq\n",
    "from concurrent.futures import ProcessPoolExecutor, as_completed\n",
    "import itertools\n",
    "import numpy as np\n",
    "import pennylane as qml\n",
    "import os\n",
    "import time\n",
    "import datetime\n",
    "from tensorflow import keras\n",
    "from mosaique.models.operation import OperationLayer\n",
    "\n"
   ]
  },
  {
   "cell_type": "code",
   "execution_count": null,
   "metadata": {},
   "outputs": [],
   "source": [
    "# Set the environment for asynchronous GPU usage\n",
    "os.environ['TF_GPU_ALLOCATOR'] = 'cuda_malloc_async'\n"
   ]
  },
  {
   "cell_type": "markdown",
   "metadata": {},
   "source": [
    "### Load the Pre-Processed Dataset\n",
    "\n",
    "Load the dataset and fit the convolution layers."
   ]
  },
  {
   "cell_type": "code",
   "execution_count": null,
   "metadata": {},
   "outputs": [],
   "source": [
    "\n",
    "mnist_dataset = keras.datasets.mnist\n",
    "train_layer = mq.ConvolutionLayer4x4(\"mnist_train5\")\n",
    "test_layer = mq.ConvolutionLayer4x4(\"mnist_test5\")\n",
    "(train_images, train_labels), (test_images, test_labels) = mnist_dataset.load_data()\n",
    "train_layer.fit(train_images)\n",
    "test_layer.fit(test_images)\n",
    "train_images = train_layer.transform(train_images)\n",
    "test_images = test_layer.transform(test_images)\n",
    "train_images = train_layer.post_transform(train_images.transpose((0,2,1)))\n",
    "test_images = test_layer.post_transform(test_images.transpose((0,2,1)))"
   ]
  },
  {
   "cell_type": "markdown",
   "metadata": {},
   "source": [
    "### Prepare the Model\n",
    "\n",
    "The model is defined here and an operation for training is prepared here to be pooled later.\n",
    "\n",
    "Set epochs to 60 for long average."
   ]
  },
  {
   "cell_type": "code",
   "execution_count": null,
   "metadata": {},
   "outputs": [],
   "source": [
    "def run(tr_images, te_images, label):\n",
    "    log_dir = train_layer.name + \"/run5/\" + label\n",
    "    tensorboard_callback = keras.callbacks.TensorBoard(\n",
    "        log_dir=log_dir,\n",
    "        histogram_freq=1,\n",
    "        write_graph=True,\n",
    "        write_images=True,\n",
    "        write_steps_per_second=True,\n",
    "        update_freq='batch',\n",
    "        profile_batch=1,\n",
    "        embeddings_freq=1,\n",
    "        embeddings_metadata=None\n",
    "    )\n",
    "    q_model = keras.models.Sequential([\n",
    "        keras.layers.Rescaling(scale=-1. / 127.5, offset=1),\n",
    "        keras.layers.Flatten(),\n",
    "        keras.layers.Dense(10, activation=\"softmax\")\n",
    "    ])\n",
    "    q_model.compile(\n",
    "        optimizer='adam',\n",
    "        loss=\"sparse_categorical_crossentropy\",\n",
    "        metrics=[\"accuracy\"],\n",
    "    )\n",
    "\n",
    "    q_history = q_model.fit(\n",
    "        tr_images,\n",
    "        train_labels,\n",
    "        validation_data=(te_images, test_labels),\n",
    "        batch_size=128,\n",
    "        epochs=60,\n",
    "        verbose=2,\n",
    "        callbacks=[tensorboard_callback]\n",
    "    )\n",
    "\n",
    "def model(variant, tr_layer, te_layer):\n",
    "    tr_images = tr_layer.open(variant)\n",
    "    te_images =  te_layer.open(variant)\n",
    "\n",
    "    label = ''.join(map(str,variant))\n",
    "\n",
    "    run(tr_images, te_images, label)"
   ]
  },
  {
   "cell_type": "markdown",
   "metadata": {},
   "source": [
    "### Prepare Permutations\n",
    "\n",
    "Generate the permutations of the wire assignments."
   ]
  },
  {
   "cell_type": "code",
   "execution_count": null,
   "metadata": {},
   "outputs": [],
   "source": [
    "permutations = np.asarray(list(itertools.permutations(range(4))))"
   ]
  },
  {
   "cell_type": "markdown",
   "metadata": {},
   "source": [
    "### Visual Validation\n",
    "\n",
    "Select a wire assignment to visually review.\n",
    "\n",
    "Display the separate channels visual."
   ]
  },
  {
   "cell_type": "code",
   "execution_count": null,
   "metadata": {},
   "outputs": [],
   "source": [
    "from matplotlib import pyplot as plt\n",
    "\n",
    "print(train_layer.open([0,1,2,3]).shape)\n",
    "\n",
    "post = train_layer.open([0,1,2,3])\n",
    "\n",
    "_min, _max = np.amin(post), np.amax(post)\n",
    "fig, axes = plt.subplots(1, 4, figsize=(16, 4))\n",
    "\n",
    "# Plot all output channels for quantum cnot\n",
    "for c in range(4):\n",
    "    axes[c].imshow(post[0,:,:,c],vmin = _min, vmax = _max)"
   ]
  },
  {
   "cell_type": "markdown",
   "metadata": {},
   "source": [
    "Display the merged channels visual."
   ]
  },
  {
   "cell_type": "code",
   "execution_count": null,
   "metadata": {},
   "outputs": [],
   "source": [
    "plt.imshow((train_layer.channel_merge(post))[0,:,:],vmin = _min, vmax = _max)"
   ]
  },
  {
   "cell_type": "markdown",
   "metadata": {},
   "source": [
    "### Train Permutations In Parallel"
   ]
  },
  {
   "cell_type": "code",
   "execution_count": null,
   "metadata": {},
   "outputs": [],
   "source": [
    "\n",
    "\n",
    "for j in range(3):\n",
    "    with ProcessPoolExecutor(8) as executor:\n",
    "        runner = {\n",
    "            executor.submit(model,variant = p, tr_layer = train_layer, te_layer= test_layer): p for p in permutations[8*j:8*(j+1)]\n",
    "        }\n",
    "        for future in as_completed(runner):\n",
    "            runner.pop(future)\n",
    "# 1 min 8 sec"
   ]
  },
  {
   "cell_type": "markdown",
   "metadata": {},
   "source": [
    "Include the unfiltered control."
   ]
  },
  {
   "cell_type": "code",
   "execution_count": null,
   "metadata": {},
   "outputs": [],
   "source": [
    "run(train_images,test_images,\"NO-FILTER\")"
   ]
  },
  {
   "cell_type": "markdown",
   "metadata": {},
   "source": [
    "### View and Process Data from TensorBoard"
   ]
  },
  {
   "cell_type": "code",
   "execution_count": null,
   "metadata": {},
   "outputs": [],
   "source": [
    "%load_ext tensorboard"
   ]
  },
  {
   "cell_type": "markdown",
   "metadata": {},
   "source": [
    "![image.png](image.png)"
   ]
  }
 ],
 "metadata": {
  "language_info": {
   "name": "python"
  }
 },
 "nbformat": 4,
 "nbformat_minor": 2
}
