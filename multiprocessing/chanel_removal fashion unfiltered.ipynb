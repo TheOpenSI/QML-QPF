{
 "cells": [
  {
   "cell_type": "code",
   "execution_count": 1,
   "metadata": {},
   "outputs": [
    {
     "name": "stderr",
     "output_type": "stream",
     "text": [
      "2024-08-11 10:30:05.703514: I tensorflow/core/platform/cpu_feature_guard.cc:210] This TensorFlow binary is optimized to use available CPU instructions in performance-critical operations.\n",
      "To enable the following instructions: AVX2 AVX512F FMA, in other operations, rebuild TensorFlow with the appropriate compiler flags.\n",
      "2024-08-11 10:30:06.425509: W tensorflow/compiler/tf2tensorrt/utils/py_utils.cc:38] TF-TRT Warning: Could not find TensorRT\n",
      "2024-08-11 10:30:07.123948: I external/local_tsl/tsl/profiler/lib/profiler_session.cc:104] Profiler session initializing.\n",
      "2024-08-11 10:30:07.123987: I external/local_tsl/tsl/profiler/lib/profiler_session.cc:119] Profiler session started.\n",
      "2024-08-11 10:30:07.130106: I external/local_tsl/tsl/profiler/lib/profiler_session.cc:131] Profiler session tear down.\n",
      "2024-08-11 10:30:07.418441: E external/local_xla/xla/stream_executor/cuda/cuda_driver.cc:282] failed call to cuInit: CUDA_ERROR_NO_DEVICE: no CUDA-capable device is detected\n",
      "2024-08-11 10:30:07.418474: I external/local_xla/xla/stream_executor/cuda/cuda_diagnostics.cc:134] retrieving CUDA diagnostic information for host: 1ba22281c77a\n",
      "2024-08-11 10:30:07.418482: I external/local_xla/xla/stream_executor/cuda/cuda_diagnostics.cc:141] hostname: 1ba22281c77a\n",
      "2024-08-11 10:30:07.418647: I external/local_xla/xla/stream_executor/cuda/cuda_diagnostics.cc:165] libcuda reported version is: 550.90.7\n",
      "2024-08-11 10:30:07.418663: I external/local_xla/xla/stream_executor/cuda/cuda_diagnostics.cc:169] kernel reported version is: 550.90.7\n",
      "2024-08-11 10:30:07.418669: I external/local_xla/xla/stream_executor/cuda/cuda_diagnostics.cc:248] kernel version seems to match DSO: 550.90.7\n"
     ]
    }
   ],
   "source": [
    "%load_ext tensorboard\n",
    "import pennylane as qml\n",
    "from pennylane import numpy as np\n",
    "from pennylane.templates import RandomLayers\n",
    "import tensorflow as tf\n",
    "from tensorflow import keras\n",
    "import matplotlib.pyplot as plt\n",
    "import os\n",
    "from datetime import datetime\n",
    "\n",
    "\n",
    "#name of model or experiment\n",
    "model_name = \"CNOT_Model\"\n",
    "log_dir= model_name + \"/runs/\" + datetime.now().strftime(\"%Y%m%d-%H%M%S\")\n",
    "\n",
    "tensorboard_callback = keras.callbacks.TensorBoard(\n",
    "    log_dir=log_dir,\n",
    "    histogram_freq=1,\n",
    "    write_graph=True,\n",
    "    write_images=True,\n",
    "    write_steps_per_second=True,\n",
    "    update_freq='batch',\n",
    "    profile_batch=1,\n",
    "    embeddings_freq=1,\n",
    "    embeddings_metadata=None\n",
    ")\n",
    "\n",
    "n_epochs = 30   # Number of optimization epochs\n",
    "n_layers = 1    # Number of random layers\n",
    "n_batches = 128     # Size of the batches\n",
    "\n",
    "np.random.seed(0)           # Seed for NumPy random number generator\n",
    "tf.random.set_seed(0)       # Seed for TensorFlow random number generator\n",
    "\n",
    "\n",
    "mnist_dataset = keras.datasets.fashion_mnist\n",
    "(train_images, train_labels), (test_images, test_labels) = mnist_dataset.load_data()\n",
    "\n",
    "\n",
    "tf.config.get_visible_devices()\n",
    "\n",
    "\n",
    "n_qubits = 4\n",
    "\n",
    "rand_params = np.random.uniform(high=2 * np.pi, size=(n_layers, 4))\n",
    "\n",
    "dev = qml.device(\"default.qubit.tf\", wires=n_qubits)\n"
   ]
  },
  {
   "cell_type": "code",
   "execution_count": 2,
   "metadata": {},
   "outputs": [],
   "source": [
    "keras.utils.get_custom_objects().clear()\n",
    "\n",
    "@keras.utils.register_keras_serializable(package=(model_name+\"_Layer\"))\n",
    "class BasicLayer(keras.layers.Layer):\n",
    "    \n",
    "\n",
    "    def call(self, inputs):\n",
    "        \"\"\"Preprocessing without quantum network.\n",
    "        splits input in to four channels\n",
    "\n",
    "        Args:\n",
    "            inputs ([type]): [description]\n",
    "\n",
    "        Returns:\n",
    "            [type]: [description]\n",
    "        \"\"\"        \n",
    "\n",
    "        rotate_14x14 = lambda subsection_14x14: tf.vectorized_map(lambda chanel: tf.transpose(chanel),subsection_14x14)\n",
    "\n",
    "        get_subsections_14x14 = lambda im : tf.reshape(tf.unstack(tf.reshape(im,[14,2,14,2]), axis = 2),[14,14,4])\n",
    "\n",
    "        preprocessing = lambda input: tf.vectorized_map(\n",
    "            lambda image:(tf.transpose(rotate_14x14(tf.transpose(get_subsections_14x14(image))))),\n",
    "            input\n",
    "        )\n",
    "\n",
    "        return preprocessing(inputs)\n",
    "qlayer = BasicLayer()\n",
    "\n",
    "qlayer.trainable = False"
   ]
  },
  {
   "cell_type": "code",
   "execution_count": 3,
   "metadata": {},
   "outputs": [],
   "source": [
    "#wrap preprocessing in model\n",
    "\n",
    "@keras.utils.register_keras_serializable(package=(model_name+\"_Pre_Model\"))\n",
    "def Pre_Model():\n",
    "    \"\"\"Initializes and returns a custom Keras model\n",
    "    which is ready to be trained.\"\"\"\n",
    "    model = keras.models.Sequential([\n",
    "        qlayer\n",
    "    ])\n",
    "    model.compile(\n",
    "        optimizer='adam',\n",
    "        loss=\"sparse_categorical_crossentropy\",\n",
    "        metrics=[\"accuracy\"],\n",
    "    )\n",
    "    return model\n",
    "pre_model = Pre_Model()"
   ]
  },
  {
   "cell_type": "code",
   "execution_count": 4,
   "metadata": {},
   "outputs": [
    {
     "name": "stdout",
     "output_type": "stream",
     "text": [
      "\u001b[1m 25/469\u001b[0m \u001b[32m━\u001b[0m\u001b[37m━━━━━━━━━━━━━━━━━━━\u001b[0m \u001b[1m0s\u001b[0m 2ms/step   "
     ]
    },
    {
     "name": "stdout",
     "output_type": "stream",
     "text": [
      "\u001b[1m469/469\u001b[0m \u001b[32m━━━━━━━━━━━━━━━━━━━━\u001b[0m\u001b[37m\u001b[0m \u001b[1m2s\u001b[0m 4ms/step\n",
      "\u001b[1m79/79\u001b[0m \u001b[32m━━━━━━━━━━━━━━━━━━━━\u001b[0m\u001b[37m\u001b[0m \u001b[1m0s\u001b[0m 4ms/step\n"
     ]
    }
   ],
   "source": [
    "#core model\n",
    "\n",
    "@keras.utils.register_keras_serializable(package=(model_name+\"_Core_Model\"))\n",
    "def Q_Model():\n",
    "    \"\"\"Initializes and returns a custom Keras model\n",
    "    which is ready to be trained.\"\"\"\n",
    "    model = keras.models.Sequential([\n",
    "        keras.layers.Rescaling(scale=1./127.5, offset=-1),\n",
    "        keras.layers.Flatten(),\n",
    "        keras.layers.Dense(10, activation=\"softmax\")\n",
    "    ])\n",
    "    model.compile(\n",
    "        optimizer='adam',\n",
    "        loss=\"sparse_categorical_crossentropy\",\n",
    "        metrics=[\"accuracy\"],\n",
    "    )\n",
    "    return model\n",
    "\n",
    "q_model = Q_Model()\n",
    "\n",
    "#preprocessing\n",
    "pre_train_images = pre_model.predict(train_images,batch_size=n_batches)\n",
    "pre_test_images = pre_model.predict(test_images,batch_size=n_batches)\n"
   ]
  },
  {
   "cell_type": "code",
   "execution_count": 5,
   "metadata": {},
   "outputs": [
    {
     "name": "stdout",
     "output_type": "stream",
     "text": [
      "Epoch 1/30\n"
     ]
    },
    {
     "name": "stderr",
     "output_type": "stream",
     "text": [
      "2024-08-11 10:30:10.630471: I external/local_tsl/tsl/profiler/lib/profiler_session.cc:104] Profiler session initializing.\n",
      "2024-08-11 10:30:10.630517: I external/local_tsl/tsl/profiler/lib/profiler_session.cc:119] Profiler session started.\n",
      "2024-08-11 10:30:11.020807: I external/local_tsl/tsl/profiler/lib/profiler_session.cc:70] Profiler session collecting data.\n",
      "2024-08-11 10:30:11.022733: I external/local_tsl/tsl/profiler/lib/profiler_session.cc:131] Profiler session tear down.\n",
      "2024-08-11 10:30:11.023044: I external/local_tsl/tsl/profiler/rpc/client/save_profile.cc:144] Collecting XSpace to repository: CNOT_Model/runs/20240811-103007/plugins/profile/2024_08_11_10_30_11/1ba22281c77a.xplane.pb\n"
     ]
    },
    {
     "name": "stdout",
     "output_type": "stream",
     "text": [
      "469/469 - 2s - 5ms/step - accuracy: 0.7634 - loss: 0.6989 - val_accuracy: 0.8064 - val_loss: 0.5596\n",
      "Epoch 2/30\n",
      "469/469 - 2s - 4ms/step - accuracy: 0.8240 - loss: 0.5049 - val_accuracy: 0.8203 - val_loss: 0.5141\n",
      "Epoch 3/30\n",
      "469/469 - 2s - 4ms/step - accuracy: 0.8361 - loss: 0.4714 - val_accuracy: 0.8277 - val_loss: 0.4948\n",
      "Epoch 4/30\n",
      "469/469 - 2s - 3ms/step - accuracy: 0.8423 - loss: 0.4543 - val_accuracy: 0.8313 - val_loss: 0.4840\n",
      "Epoch 5/30\n",
      "469/469 - 2s - 4ms/step - accuracy: 0.8462 - loss: 0.4436 - val_accuracy: 0.8337 - val_loss: 0.4770\n",
      "Epoch 6/30\n",
      "469/469 - 2s - 4ms/step - accuracy: 0.8487 - loss: 0.4361 - val_accuracy: 0.8359 - val_loss: 0.4722\n",
      "Epoch 7/30\n",
      "469/469 - 2s - 4ms/step - accuracy: 0.8504 - loss: 0.4304 - val_accuracy: 0.8370 - val_loss: 0.4688\n",
      "Epoch 8/30\n",
      "469/469 - 2s - 4ms/step - accuracy: 0.8522 - loss: 0.4260 - val_accuracy: 0.8389 - val_loss: 0.4661\n",
      "Epoch 9/30\n",
      "469/469 - 2s - 4ms/step - accuracy: 0.8533 - loss: 0.4225 - val_accuracy: 0.8385 - val_loss: 0.4641\n",
      "Epoch 10/30\n",
      "469/469 - 2s - 4ms/step - accuracy: 0.8545 - loss: 0.4195 - val_accuracy: 0.8384 - val_loss: 0.4625\n",
      "Epoch 11/30\n",
      "469/469 - 2s - 4ms/step - accuracy: 0.8555 - loss: 0.4170 - val_accuracy: 0.8383 - val_loss: 0.4612\n",
      "Epoch 12/30\n",
      "469/469 - 2s - 4ms/step - accuracy: 0.8561 - loss: 0.4149 - val_accuracy: 0.8386 - val_loss: 0.4602\n",
      "Epoch 13/30\n",
      "469/469 - 2s - 4ms/step - accuracy: 0.8566 - loss: 0.4130 - val_accuracy: 0.8390 - val_loss: 0.4593\n",
      "Epoch 14/30\n",
      "469/469 - 2s - 4ms/step - accuracy: 0.8571 - loss: 0.4114 - val_accuracy: 0.8391 - val_loss: 0.4587\n",
      "Epoch 15/30\n",
      "469/469 - 2s - 4ms/step - accuracy: 0.8576 - loss: 0.4100 - val_accuracy: 0.8404 - val_loss: 0.4581\n",
      "Epoch 16/30\n",
      "469/469 - 2s - 4ms/step - accuracy: 0.8582 - loss: 0.4087 - val_accuracy: 0.8407 - val_loss: 0.4576\n",
      "Epoch 17/30\n",
      "469/469 - 2s - 4ms/step - accuracy: 0.8584 - loss: 0.4075 - val_accuracy: 0.8408 - val_loss: 0.4573\n",
      "Epoch 18/30\n",
      "469/469 - 2s - 4ms/step - accuracy: 0.8587 - loss: 0.4065 - val_accuracy: 0.8405 - val_loss: 0.4569\n",
      "Epoch 19/30\n",
      "469/469 - 2s - 4ms/step - accuracy: 0.8590 - loss: 0.4055 - val_accuracy: 0.8410 - val_loss: 0.4567\n",
      "Epoch 20/30\n",
      "469/469 - 2s - 4ms/step - accuracy: 0.8593 - loss: 0.4046 - val_accuracy: 0.8408 - val_loss: 0.4565\n",
      "Epoch 21/30\n",
      "469/469 - 2s - 4ms/step - accuracy: 0.8592 - loss: 0.4038 - val_accuracy: 0.8409 - val_loss: 0.4563\n",
      "Epoch 22/30\n",
      "469/469 - 2s - 4ms/step - accuracy: 0.8594 - loss: 0.4031 - val_accuracy: 0.8411 - val_loss: 0.4562\n",
      "Epoch 23/30\n",
      "469/469 - 2s - 4ms/step - accuracy: 0.8595 - loss: 0.4024 - val_accuracy: 0.8408 - val_loss: 0.4560\n",
      "Epoch 24/30\n",
      "469/469 - 2s - 4ms/step - accuracy: 0.8595 - loss: 0.4017 - val_accuracy: 0.8411 - val_loss: 0.4560\n",
      "Epoch 25/30\n",
      "469/469 - 2s - 4ms/step - accuracy: 0.8597 - loss: 0.4011 - val_accuracy: 0.8412 - val_loss: 0.4559\n",
      "Epoch 26/30\n",
      "469/469 - 2s - 4ms/step - accuracy: 0.8597 - loss: 0.4006 - val_accuracy: 0.8411 - val_loss: 0.4558\n",
      "Epoch 27/30\n",
      "469/469 - 2s - 4ms/step - accuracy: 0.8599 - loss: 0.4001 - val_accuracy: 0.8414 - val_loss: 0.4558\n",
      "Epoch 28/30\n",
      "469/469 - 2s - 4ms/step - accuracy: 0.8602 - loss: 0.3996 - val_accuracy: 0.8414 - val_loss: 0.4558\n",
      "Epoch 29/30\n",
      "469/469 - 2s - 4ms/step - accuracy: 0.8603 - loss: 0.3991 - val_accuracy: 0.8417 - val_loss: 0.4558\n",
      "Epoch 30/30\n",
      "469/469 - 2s - 4ms/step - accuracy: 0.8604 - loss: 0.3987 - val_accuracy: 0.8415 - val_loss: 0.4558\n"
     ]
    }
   ],
   "source": [
    "\n",
    "#training\n",
    "q_history = q_model.fit(\n",
    "    pre_train_images[:,:,:,[1,2]],\n",
    "    train_labels,\n",
    "    validation_data=(pre_test_images[:,:,:,[1,2]], test_labels),\n",
    "    batch_size = n_batches,\n",
    "    epochs=n_epochs,\n",
    "    verbose=2, callbacks=[tensorboard_callback]\n",
    ")\n"
   ]
  },
  {
   "cell_type": "code",
   "execution_count": 6,
   "metadata": {},
   "outputs": [
    {
     "data": {
      "image/png": "[encoded data removed]",
      "text/plain": [
       "<Figure size 1200x400 with 1 Axes>"
      ]
     },
     "metadata": {},
     "output_type": "display_data"
    }
   ],
   "source": [
    "\n",
    "sample = np.asarray(train_images[19,:,:]).copy()\n",
    "\n",
    "#sample[:,:,[1,2]] = np.NAN\n",
    "\n",
    "compdiffs = (sample)\n",
    "\n",
    "f, ax = plt.subplots(nrows=1, ncols=1, figsize=(12, 4))\n",
    "\n",
    "ax.imshow(compdiffs)\n",
    "ax.axis('off')\n",
    "\n",
    "\n",
    "plt.tight_layout()\n",
    "plt.show()"
   ]
  },
  {
   "cell_type": "code",
   "execution_count": 7,
   "metadata": {},
   "outputs": [
    {
     "data": {
      "image/png": "[encoded data removed]",
      "text/plain": [
       "<Figure size 1200x400 with 4 Axes>"
      ]
     },
     "metadata": {},
     "output_type": "display_data"
    }
   ],
   "source": [
    "#example of quantum preprocessed(filtered) chanels\n",
    "image_titles = ['Nine-Ch1', 'Nine-Ch2', 'Nine-Ch3','Nine-Ch4']\n",
    "f, ax = plt.subplots(nrows=1, ncols=4, figsize=(12, 4))\n",
    "for i, title in enumerate(image_titles):\n",
    "    ax[i].set_title(title, fontsize=16)\n",
    "    ax[i].imshow(pre_train_images[19][:,:,i])\n",
    "    ax[i].axis('off')\n",
    "plt.tight_layout()\n",
    "plt.show()\n"
   ]
  },
  {
   "cell_type": "code",
   "execution_count": 8,
   "metadata": {},
   "outputs": [
    {
     "data": {
      "image/png": "[encoded data removed]",
      "text/plain": [
       "<Figure size 1200x400 with 4 Axes>"
      ]
     },
     "metadata": {},
     "output_type": "display_data"
    }
   ],
   "source": [
    "sample = np.asarray(pre_train_images[19]).copy()\n",
    "\n",
    "sample[:,:,[0,3]] = np.NAN\n",
    "\n",
    "f, ax = plt.subplots(nrows=1, ncols=4, figsize=(12, 4))\n",
    "for i, title in enumerate(image_titles):\n",
    "    ax[i].set_title(title, fontsize=16)\n",
    "    ax[i].imshow(sample[:,:,i])\n",
    "    ax[i].axis('off')\n",
    "plt.tight_layout()\n",
    "plt.show()"
   ]
  },
  {
   "cell_type": "code",
   "execution_count": 9,
   "metadata": {},
   "outputs": [
    {
     "data": {
      "image/png": "[encoded data removed]",
      "text/plain": [
       "<Figure size 1200x400 with 1 Axes>"
      ]
     },
     "metadata": {},
     "output_type": "display_data"
    }
   ],
   "source": [
    "\n",
    "\n",
    "reassembled_pt1 = lambda square: tf.reshape(tf.vectorized_map(lambda inp: tf.transpose(inp),tf.transpose(square)),[2,14,2,14])\n",
    "\n",
    "reassembled = lambda square: tf.reshape(tf.stack(tf.reshape(tf.stack(reassembled_pt1(square),axis=2),[2,28*14]),axis=1),[28,28])\n",
    "\n",
    "compdiffs = reassembled(sample[:,:,[0,1,2,3]])\n",
    "\n",
    "f, ax = plt.subplots(nrows=1, ncols=1, figsize=(12, 4))\n",
    "ax.imshow(compdiffs)\n",
    "ax.axis('off')\n",
    "\n",
    "\n",
    "plt.tight_layout()\n",
    "plt.show()"
   ]
  },
  {
   "cell_type": "code",
   "execution_count": 15,
   "metadata": {},
   "outputs": [
    {
     "data": {
      "image/png": "[encoded data removed]",
      "text/plain": [
       "<Figure size 1200x400 with 1 Axes>"
      ]
     },
     "metadata": {},
     "output_type": "display_data"
    }
   ],
   "source": [
    "\n",
    "sample[:,:,[0]]=0\n",
    "f, ax = plt.subplots(nrows=1, ncols=1, figsize=(12, 4))\n",
    "ax.imshow((sample[:,:,[0,1,2]])/(255))\n",
    "ax.axis('off')\n",
    "\n",
    "\n",
    "plt.tight_layout()\n",
    "plt.show()"
   ]
  },
  {
   "cell_type": "code",
   "execution_count": 13,
   "metadata": {},
   "outputs": [
    {
     "data": {
      "image/png": "[encoded data removed]",
      "text/plain": [
       "<Figure size 1200x400 with 1 Axes>"
      ]
     },
     "metadata": {},
     "output_type": "display_data"
    }
   ],
   "source": [
    "f, ax = plt.subplots(nrows=1, ncols=1, figsize=(12, 4))\n",
    "ax.imshow((sample[:,:,[0,1,2]]/(-255))+1)\n",
    "ax.axis('off')\n",
    "\n",
    "\n",
    "plt.tight_layout()\n",
    "plt.show()"
   ]
  },
  {
   "cell_type": "code",
   "execution_count": null,
   "metadata": {},
   "outputs": [],
   "source": []
  }
 ],
 "metadata": {
  "kernelspec": {
   "display_name": "QML-QPF",
   "language": "python",
   "name": "python3"
  },
  "language_info": {
   "codemirror_mode": {
    "name": "ipython",
    "version": 3
   },
   "file_extension": ".py",
   "mimetype": "text/x-python",
   "name": "python",
   "nbconvert_exporter": "python",
   "pygments_lexer": "ipython3",
   "version": "3.10.13"
  }
 },
 "nbformat": 4,
 "nbformat_minor": 2
}
