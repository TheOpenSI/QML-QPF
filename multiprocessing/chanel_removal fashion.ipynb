{
 "cells": [
  {
   "cell_type": "code",
   "execution_count": 1,
   "metadata": {},
   "outputs": [
    {
     "name": "stderr",
     "output_type": "stream",
     "text": [
      "2024-08-10 22:34:41.806325: I tensorflow/core/platform/cpu_feature_guard.cc:210] This TensorFlow binary is optimized to use available CPU instructions in performance-critical operations.\n",
      "To enable the following instructions: AVX2 AVX512F FMA, in other operations, rebuild TensorFlow with the appropriate compiler flags.\n",
      "2024-08-10 22:34:42.531042: W tensorflow/compiler/tf2tensorrt/utils/py_utils.cc:38] TF-TRT Warning: Could not find TensorRT\n",
      "2024-08-10 22:34:43.188514: I external/local_tsl/tsl/profiler/lib/profiler_session.cc:104] Profiler session initializing.\n",
      "2024-08-10 22:34:43.188545: I external/local_tsl/tsl/profiler/lib/profiler_session.cc:119] Profiler session started.\n",
      "2024-08-10 22:34:43.193847: I external/local_tsl/tsl/profiler/lib/profiler_session.cc:131] Profiler session tear down.\n",
      "2024-08-10 22:34:43.456259: E external/local_xla/xla/stream_executor/cuda/cuda_driver.cc:282] failed call to cuInit: CUDA_ERROR_NO_DEVICE: no CUDA-capable device is detected\n",
      "2024-08-10 22:34:43.456289: I external/local_xla/xla/stream_executor/cuda/cuda_diagnostics.cc:134] retrieving CUDA diagnostic information for host: 1ba22281c77a\n",
      "2024-08-10 22:34:43.456296: I external/local_xla/xla/stream_executor/cuda/cuda_diagnostics.cc:141] hostname: 1ba22281c77a\n",
      "2024-08-10 22:34:43.456516: I external/local_xla/xla/stream_executor/cuda/cuda_diagnostics.cc:165] libcuda reported version is: 550.90.7\n",
      "2024-08-10 22:34:43.456535: I external/local_xla/xla/stream_executor/cuda/cuda_diagnostics.cc:169] kernel reported version is: 550.90.7\n",
      "2024-08-10 22:34:43.456541: I external/local_xla/xla/stream_executor/cuda/cuda_diagnostics.cc:248] kernel version seems to match DSO: 550.90.7\n"
     ]
    }
   ],
   "source": [
    "%load_ext tensorboard\n",
    "import pennylane as qml\n",
    "from pennylane import numpy as np\n",
    "from pennylane.templates import RandomLayers\n",
    "import tensorflow as tf\n",
    "from tensorflow import keras\n",
    "import matplotlib.pyplot as plt\n",
    "import os\n",
    "from datetime import datetime\n",
    "\n",
    "\n",
    "#name of model or experiment\n",
    "model_name = \"CNOT_Model\"\n",
    "log_dir= model_name + \"/runs/\" + datetime.now().strftime(\"%Y%m%d-%H%M%S\")\n",
    "\n",
    "tensorboard_callback = keras.callbacks.TensorBoard(\n",
    "    log_dir=log_dir,\n",
    "    histogram_freq=1,\n",
    "    write_graph=True,\n",
    "    write_images=True,\n",
    "    write_steps_per_second=True,\n",
    "    update_freq='batch',\n",
    "    profile_batch=1,\n",
    "    embeddings_freq=1,\n",
    "    embeddings_metadata=None\n",
    ")\n",
    "\n",
    "n_epochs = 30   # Number of optimization epochs\n",
    "n_layers = 1    # Number of random layers\n",
    "n_batches = 128     # Size of the batches\n",
    "\n",
    "np.random.seed(0)           # Seed for NumPy random number generator\n",
    "tf.random.set_seed(0)       # Seed for TensorFlow random number generator\n",
    "\n",
    "\n",
    "mnist_dataset = keras.datasets.fashion_mnist\n",
    "(train_images, train_labels), (test_images, test_labels) = mnist_dataset.load_data()\n",
    "\n",
    "\n",
    "tf.config.get_visible_devices()\n",
    "\n",
    "\n",
    "n_qubits = 4\n",
    "\n",
    "rand_params = np.random.uniform(high=2 * np.pi, size=(n_layers, 4))\n",
    "\n",
    "dev = qml.device(\"default.qubit.tf\", wires=n_qubits)\n"
   ]
  },
  {
   "cell_type": "code",
   "execution_count": 2,
   "metadata": {},
   "outputs": [],
   "source": [
    "keras.utils.get_custom_objects().clear()\n",
    "\n",
    "@keras.utils.register_keras_serializable(package=(model_name+\"_Layer\"))\n",
    "class ConvQLayer(keras.layers.Layer):\n",
    "    \n",
    "\n",
    "    #replace the contents of qnode with experiment circuit\n",
    "    @qml.qnode(dev, interface='tf')\n",
    "    def q_node(inputs):\n",
    "        inputs *= np.pi\n",
    "\n",
    "\n",
    "        # Encoding of 4 classical input values\n",
    "\n",
    "        for j in range(n_qubits):\n",
    "            qml.RY(inputs[j], wires=j)\n",
    "\n",
    "        #Further testing of the AngleEmbedding function is needed\n",
    "        #qml.AngleEmbedding(inputs, wires=range(n_qubits), rotation='Y')\n",
    "        # Filter from arxiv.org/abs/2308.14930\n",
    "\n",
    "        qml.CNOT(wires=[3, 2])\n",
    "        qml.CNOT(wires=[0, 1])\n",
    "        qml.CNOT(wires=[0, 2])\n",
    "\n",
    "\n",
    "        # Measurement producing 4 classical output values\n",
    "        return [qml.expval(qml.PauliZ(j)) for j in range(n_qubits)]\n",
    "\n",
    "    def call(self, inputs):\n",
    "\n",
    "        #14x14 flattened 2x2 squares\n",
    "        get_subsections_14x14 = lambda im : tf.reshape(tf.unstack(tf.reshape(im,[14,2,14,2]), axis = 2),[14,14,4])\n",
    "        '''\n",
    "        example of sequential flat 28x28 indexes after above shuffle\n",
    "        [\n",
    "            [\n",
    "                [  0,   1,  28,  29],\n",
    "                [ 56,  57,  84,  85],\n",
    "                ...\n",
    "                [672, 673, 700, 701],\n",
    "                [728, 729, 756, 757]\n",
    "            ],\n",
    "            [\n",
    "                [  2,   3,  30,  31],\n",
    "                ...\n",
    "                [730, 731, 758, 759]\n",
    "            ],\n",
    "            ...\n",
    "            [\n",
    "                [ 26,  27,  54,  55],\n",
    "                ...\n",
    "                [754, 755, 782, 783]\n",
    "            ]\n",
    "        '''\n",
    "\n",
    "        #unpack 14x14 row by row\n",
    "        list_squares_2x2 = lambda image_subsections: tf.reshape(tf.unstack(image_subsections, axis = 1), [196,4])\n",
    "\n",
    "\n",
    "        #send 4 values to quantum function\n",
    "        process_square_2x2 = lambda square_2x2 : self.q_node(square_2x2)\n",
    "\n",
    "        #send all squares to the quantum function wrapper\n",
    "        process_subsections = lambda squares: tf.vectorized_map(process_square_2x2,squares)\n",
    "\n",
    "        #recompile the larger square\n",
    "        separate_channels = lambda channel_stack: tf.reshape(channel_stack, [14,14,4])\n",
    "        #each smaller square (channel) can be extracted as [:, :, channel]\n",
    "        \n",
    "        #apply function across batch\n",
    "        preprocessing = lambda input: tf.vectorized_map(\n",
    "            lambda image:(separate_channels(tf.transpose(process_subsections(list_squares_2x2(get_subsections_14x14(image)))))),\n",
    "            input\n",
    "        )\n",
    "\n",
    "        return preprocessing(inputs)\n",
    "\n",
    "qlayer = ConvQLayer()\n",
    "\n",
    "qlayer.trainable = False"
   ]
  },
  {
   "cell_type": "code",
   "execution_count": 3,
   "metadata": {},
   "outputs": [],
   "source": [
    "#wrap preprocessing in model\n",
    "\n",
    "@keras.utils.register_keras_serializable(package=(model_name+\"_Pre_Model\"))\n",
    "def Pre_Model():\n",
    "    \"\"\"Initializes and returns a custom Keras model\n",
    "    which is ready to be trained.\"\"\"\n",
    "    model = keras.models.Sequential([\n",
    "        keras.layers.Rescaling(scale=1./255.0),\n",
    "        qlayer,\n",
    "        keras.layers.Rescaling(scale=127.5, offset=127.5)\n",
    "    ])\n",
    "    model.compile(\n",
    "        optimizer='adam',\n",
    "        loss=\"sparse_categorical_crossentropy\",\n",
    "        metrics=[\"accuracy\"],\n",
    "    )\n",
    "    return model\n",
    "pre_model = Pre_Model()"
   ]
  },
  {
   "cell_type": "code",
   "execution_count": 14,
   "metadata": {},
   "outputs": [],
   "source": [
    "#core model\n",
    "\n",
    "@keras.utils.register_keras_serializable(package=(model_name+\"_Core_Model\"))\n",
    "def Q_Model():\n",
    "    \"\"\"Initializes and returns a custom Keras model\n",
    "    which is ready to be trained.\"\"\"\n",
    "    model = keras.models.Sequential([\n",
    "        keras.layers.Rescaling(scale=1./127.5, offset=-1),\n",
    "        keras.layers.Flatten(),\n",
    "        keras.layers.Dense(10, activation=\"softmax\")\n",
    "    ])\n",
    "    model.compile(\n",
    "        optimizer='adam',\n",
    "        loss=\"sparse_categorical_crossentropy\",\n",
    "        metrics=[\"accuracy\"],\n",
    "    )\n",
    "    return model\n",
    "\n",
    "q_model = Q_Model()\n"
   ]
  },
  {
   "cell_type": "code",
   "execution_count": null,
   "metadata": {},
   "outputs": [],
   "source": [
    "\n",
    "\n",
    "#preprocessing\n",
    "pre_train_images = pre_model.predict(train_images,batch_size=n_batches)\n",
    "pre_test_images = pre_model.predict(test_images,batch_size=n_batches)\n"
   ]
  },
  {
   "cell_type": "code",
   "execution_count": 21,
   "metadata": {},
   "outputs": [
    {
     "name": "stdout",
     "output_type": "stream",
     "text": [
      "Epoch 1/30\n"
     ]
    },
    {
     "name": "stderr",
     "output_type": "stream",
     "text": [
      "2024-08-10 22:46:10.360199: I external/local_tsl/tsl/profiler/lib/profiler_session.cc:104] Profiler session initializing.\n",
      "2024-08-10 22:46:10.360240: I external/local_tsl/tsl/profiler/lib/profiler_session.cc:119] Profiler session started.\n",
      "2024-08-10 22:46:10.375455: I external/local_tsl/tsl/profiler/lib/profiler_session.cc:70] Profiler session collecting data.\n",
      "2024-08-10 22:46:10.376804: I external/local_tsl/tsl/profiler/lib/profiler_session.cc:131] Profiler session tear down.\n",
      "2024-08-10 22:46:10.376953: I external/local_tsl/tsl/profiler/rpc/client/save_profile.cc:144] Collecting XSpace to repository: CNOT_Model/runs/20240810-223443/plugins/profile/2024_08_10_22_46_10/1ba22281c77a.xplane.pb\n"
     ]
    },
    {
     "name": "stdout",
     "output_type": "stream",
     "text": [
      "469/469 - 2s - 4ms/step - accuracy: 0.7700 - loss: 0.7006 - val_accuracy: 0.7939 - val_loss: 0.6140\n",
      "Epoch 2/30\n",
      "469/469 - 2s - 4ms/step - accuracy: 0.8162 - loss: 0.5263 - val_accuracy: 0.8062 - val_loss: 0.5607\n",
      "Epoch 3/30\n",
      "469/469 - 2s - 4ms/step - accuracy: 0.8258 - loss: 0.4926 - val_accuracy: 0.8144 - val_loss: 0.5388\n",
      "Epoch 4/30\n",
      "469/469 - 2s - 4ms/step - accuracy: 0.8306 - loss: 0.4752 - val_accuracy: 0.8176 - val_loss: 0.5267\n",
      "Epoch 5/30\n",
      "469/469 - 2s - 4ms/step - accuracy: 0.8348 - loss: 0.4644 - val_accuracy: 0.8195 - val_loss: 0.5190\n",
      "Epoch 6/30\n",
      "469/469 - 2s - 3ms/step - accuracy: 0.8371 - loss: 0.4568 - val_accuracy: 0.8214 - val_loss: 0.5137\n",
      "Epoch 7/30\n",
      "469/469 - 2s - 3ms/step - accuracy: 0.8393 - loss: 0.4511 - val_accuracy: 0.8225 - val_loss: 0.5098\n",
      "Epoch 8/30\n",
      "469/469 - 2s - 3ms/step - accuracy: 0.8412 - loss: 0.4467 - val_accuracy: 0.8247 - val_loss: 0.5068\n",
      "Epoch 9/30\n",
      "469/469 - 2s - 4ms/step - accuracy: 0.8424 - loss: 0.4432 - val_accuracy: 0.8253 - val_loss: 0.5044\n",
      "Epoch 10/30\n",
      "469/469 - 2s - 3ms/step - accuracy: 0.8433 - loss: 0.4403 - val_accuracy: 0.8249 - val_loss: 0.5025\n",
      "Epoch 11/30\n",
      "469/469 - 2s - 4ms/step - accuracy: 0.8438 - loss: 0.4379 - val_accuracy: 0.8247 - val_loss: 0.5009\n",
      "Epoch 12/30\n",
      "469/469 - 2s - 4ms/step - accuracy: 0.8446 - loss: 0.4359 - val_accuracy: 0.8257 - val_loss: 0.4996\n",
      "Epoch 13/30\n",
      "469/469 - 2s - 4ms/step - accuracy: 0.8452 - loss: 0.4341 - val_accuracy: 0.8254 - val_loss: 0.4985\n",
      "Epoch 14/30\n",
      "469/469 - 2s - 4ms/step - accuracy: 0.8457 - loss: 0.4326 - val_accuracy: 0.8258 - val_loss: 0.4976\n",
      "Epoch 15/30\n",
      "469/469 - 2s - 4ms/step - accuracy: 0.8461 - loss: 0.4312 - val_accuracy: 0.8254 - val_loss: 0.4967\n",
      "Epoch 16/30\n",
      "469/469 - 2s - 3ms/step - accuracy: 0.8468 - loss: 0.4301 - val_accuracy: 0.8255 - val_loss: 0.4960\n",
      "Epoch 17/30\n",
      "469/469 - 2s - 4ms/step - accuracy: 0.8470 - loss: 0.4290 - val_accuracy: 0.8255 - val_loss: 0.4954\n",
      "Epoch 18/30\n",
      "469/469 - 2s - 4ms/step - accuracy: 0.8474 - loss: 0.4281 - val_accuracy: 0.8259 - val_loss: 0.4949\n",
      "Epoch 19/30\n",
      "469/469 - 2s - 4ms/step - accuracy: 0.8475 - loss: 0.4272 - val_accuracy: 0.8255 - val_loss: 0.4944\n",
      "Epoch 20/30\n",
      "469/469 - 2s - 4ms/step - accuracy: 0.8477 - loss: 0.4264 - val_accuracy: 0.8260 - val_loss: 0.4940\n",
      "Epoch 21/30\n",
      "469/469 - 2s - 4ms/step - accuracy: 0.8479 - loss: 0.4257 - val_accuracy: 0.8260 - val_loss: 0.4937\n",
      "Epoch 22/30\n",
      "469/469 - 2s - 4ms/step - accuracy: 0.8482 - loss: 0.4251 - val_accuracy: 0.8266 - val_loss: 0.4933\n",
      "Epoch 23/30\n",
      "469/469 - 2s - 4ms/step - accuracy: 0.8482 - loss: 0.4245 - val_accuracy: 0.8274 - val_loss: 0.4930\n",
      "Epoch 24/30\n",
      "469/469 - 2s - 4ms/step - accuracy: 0.8485 - loss: 0.4240 - val_accuracy: 0.8281 - val_loss: 0.4928\n",
      "Epoch 25/30\n",
      "469/469 - 2s - 4ms/step - accuracy: 0.8488 - loss: 0.4235 - val_accuracy: 0.8285 - val_loss: 0.4925\n",
      "Epoch 26/30\n",
      "469/469 - 2s - 4ms/step - accuracy: 0.8491 - loss: 0.4230 - val_accuracy: 0.8287 - val_loss: 0.4923\n",
      "Epoch 27/30\n",
      "469/469 - 2s - 3ms/step - accuracy: 0.8494 - loss: 0.4226 - val_accuracy: 0.8289 - val_loss: 0.4922\n",
      "Epoch 28/30\n",
      "469/469 - 2s - 4ms/step - accuracy: 0.8496 - loss: 0.4222 - val_accuracy: 0.8279 - val_loss: 0.4920\n",
      "Epoch 29/30\n",
      "469/469 - 2s - 4ms/step - accuracy: 0.8498 - loss: 0.4218 - val_accuracy: 0.8283 - val_loss: 0.4918\n",
      "Epoch 30/30\n",
      "469/469 - 2s - 4ms/step - accuracy: 0.8499 - loss: 0.4214 - val_accuracy: 0.8286 - val_loss: 0.4917\n"
     ]
    }
   ],
   "source": [
    "\n",
    "#training\n",
    "q_history = q_model.fit(\n",
    "    pre_train_images[:,:,:,[0,1]],\n",
    "    train_labels,\n",
    "    validation_data=(pre_test_images[:,:,:,[0,1]], test_labels),\n",
    "    batch_size = n_batches,\n",
    "    epochs=n_epochs,\n",
    "    verbose=2, callbacks=[tensorboard_callback]\n",
    ")\n"
   ]
  },
  {
   "cell_type": "code",
   "execution_count": 6,
   "metadata": {},
   "outputs": [
    {
     "data": {
      "image/png": "[encoded data removed]",
      "text/plain": [
       "<Figure size 1200x400 with 1 Axes>"
      ]
     },
     "metadata": {},
     "output_type": "display_data"
    }
   ],
   "source": [
    "\n",
    "sample = np.asarray(train_images[19,:,:]).copy()\n",
    "\n",
    "#sample[:,:,[1,2]] = np.NAN\n",
    "\n",
    "compdiffs = (-1 * sample)\n",
    "\n",
    "f, ax = plt.subplots(nrows=1, ncols=1, figsize=(12, 4))\n",
    "\n",
    "ax.imshow(compdiffs)\n",
    "ax.axis('off')\n",
    "\n",
    "\n",
    "plt.tight_layout()\n",
    "plt.show()"
   ]
  },
  {
   "cell_type": "code",
   "execution_count": 7,
   "metadata": {},
   "outputs": [
    {
     "data": {
      "image/png": "[encoded data removed]",
      "text/plain": [
       "<Figure size 1200x400 with 4 Axes>"
      ]
     },
     "metadata": {},
     "output_type": "display_data"
    }
   ],
   "source": [
    "#example of quantum preprocessed(filtered) chanels\n",
    "image_titles = ['Nine-Ch1', 'Nine-Ch2', 'Nine-Ch3','Nine-Ch4']\n",
    "f, ax = plt.subplots(nrows=1, ncols=4, figsize=(12, 4))\n",
    "for i, title in enumerate(image_titles):\n",
    "    ax[i].set_title(title, fontsize=16)\n",
    "    ax[i].imshow(pre_train_images[19][:,:,i])\n",
    "    ax[i].axis('off')\n",
    "plt.tight_layout()\n",
    "plt.show()\n"
   ]
  },
  {
   "cell_type": "code",
   "execution_count": 8,
   "metadata": {},
   "outputs": [
    {
     "data": {
      "image/png": "[encoded data removed]",
      "text/plain": [
       "<Figure size 1200x400 with 4 Axes>"
      ]
     },
     "metadata": {},
     "output_type": "display_data"
    }
   ],
   "source": [
    "sample = np.asarray(pre_train_images[19]).copy()\n",
    "\n",
    "sample[:,:,[0]] = np.NAN\n",
    "\n",
    "f, ax = plt.subplots(nrows=1, ncols=4, figsize=(12, 4))\n",
    "for i, title in enumerate(image_titles):\n",
    "    ax[i].set_title(title, fontsize=16)\n",
    "    ax[i].imshow(sample[:,:,i])\n",
    "    ax[i].axis('off')\n",
    "plt.tight_layout()\n",
    "plt.show()"
   ]
  },
  {
   "cell_type": "code",
   "execution_count": 9,
   "metadata": {},
   "outputs": [
    {
     "data": {
      "image/png": "[encoded data removed]",
      "text/plain": [
       "<Figure size 1200x400 with 1 Axes>"
      ]
     },
     "metadata": {},
     "output_type": "display_data"
    }
   ],
   "source": [
    "\n",
    "\n",
    "reassembled_pt1 = lambda square: tf.reshape(tf.vectorized_map(lambda inp: tf.transpose(inp),tf.transpose(square)),[2,14,2,14])\n",
    "\n",
    "reassembled = lambda square: tf.reshape(tf.stack(tf.reshape(tf.stack(reassembled_pt1(square),axis=2),[2,28*14]),axis=1),[28,28])\n",
    "\n",
    "compdiffs = reassembled(sample[:,:,[0,1,2,3]])\n",
    "\n",
    "f, ax = plt.subplots(nrows=1, ncols=1, figsize=(12, 4))\n",
    "ax.imshow(compdiffs)\n",
    "ax.axis('off')\n",
    "\n",
    "\n",
    "plt.tight_layout()\n",
    "plt.show()"
   ]
  },
  {
   "cell_type": "code",
   "execution_count": 10,
   "metadata": {},
   "outputs": [
    {
     "name": "stderr",
     "output_type": "stream",
     "text": [
      "Clipping input data to the valid range for imshow with RGB data ([0..1] for floats or [0..255] for integers). Got range [0.0..1.0000001].\n"
     ]
    },
    {
     "data": {
      "image/png": "[encoded data removed]",
      "text/plain": [
       "<Figure size 1200x400 with 1 Axes>"
      ]
     },
     "metadata": {},
     "output_type": "display_data"
    }
   ],
   "source": [
    "f, ax = plt.subplots(nrows=1, ncols=1, figsize=(12, 4))\n",
    "ax.imshow((sample[:,:,[1,2,3]]/(255)))\n",
    "ax.axis('off')\n",
    "\n",
    "\n",
    "plt.tight_layout()\n",
    "plt.show()"
   ]
  },
  {
   "cell_type": "code",
   "execution_count": 11,
   "metadata": {},
   "outputs": [
    {
     "name": "stderr",
     "output_type": "stream",
     "text": [
      "Clipping input data to the valid range for imshow with RGB data ([0..1] for floats or [0..255] for integers). Got range [-1.1920929e-07..1.0].\n"
     ]
    },
    {
     "data": {
      "image/png": "[encoded data removed]",
      "text/plain": [
       "<Figure size 1200x400 with 1 Axes>"
      ]
     },
     "metadata": {},
     "output_type": "display_data"
    }
   ],
   "source": [
    "f, ax = plt.subplots(nrows=1, ncols=1, figsize=(12, 4))\n",
    "ax.imshow((sample[:,:,[1,2,3]]/(-255))+1.0)\n",
    "ax.axis('off')\n",
    "\n",
    "\n",
    "plt.tight_layout()\n",
    "plt.show()"
   ]
  },
  {
   "cell_type": "code",
   "execution_count": null,
   "metadata": {},
   "outputs": [],
   "source": []
  }
 ],
 "metadata": {
  "kernelspec": {
   "display_name": "QML-QPF",
   "language": "python",
   "name": "python3"
  },
  "language_info": {
   "codemirror_mode": {
    "name": "ipython",
    "version": 3
   },
   "file_extension": ".py",
   "mimetype": "text/x-python",
   "name": "python",
   "nbconvert_exporter": "python",
   "pygments_lexer": "ipython3",
   "version": "3.10.13"
  }
 },
 "nbformat": 4,
 "nbformat_minor": 2
}
