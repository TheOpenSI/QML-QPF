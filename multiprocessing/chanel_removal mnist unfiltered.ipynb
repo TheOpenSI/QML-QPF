{
 "cells": [
  {
   "cell_type": "code",
   "execution_count": 1,
   "metadata": {},
   "outputs": [
    {
     "name": "stderr",
     "output_type": "stream",
     "text": [
      "2024-08-10 23:11:02.235124: I tensorflow/core/platform/cpu_feature_guard.cc:210] This TensorFlow binary is optimized to use available CPU instructions in performance-critical operations.\n",
      "To enable the following instructions: AVX2 AVX512F FMA, in other operations, rebuild TensorFlow with the appropriate compiler flags.\n",
      "2024-08-10 23:11:02.960308: W tensorflow/compiler/tf2tensorrt/utils/py_utils.cc:38] TF-TRT Warning: Could not find TensorRT\n",
      "2024-08-10 23:11:03.623345: I external/local_tsl/tsl/profiler/lib/profiler_session.cc:104] Profiler session initializing.\n",
      "2024-08-10 23:11:03.623378: I external/local_tsl/tsl/profiler/lib/profiler_session.cc:119] Profiler session started.\n",
      "2024-08-10 23:11:03.628767: I external/local_tsl/tsl/profiler/lib/profiler_session.cc:131] Profiler session tear down.\n",
      "2024-08-10 23:11:03.806034: E external/local_xla/xla/stream_executor/cuda/cuda_driver.cc:282] failed call to cuInit: CUDA_ERROR_NO_DEVICE: no CUDA-capable device is detected\n",
      "2024-08-10 23:11:03.806082: I external/local_xla/xla/stream_executor/cuda/cuda_diagnostics.cc:134] retrieving CUDA diagnostic information for host: 1ba22281c77a\n",
      "2024-08-10 23:11:03.806090: I external/local_xla/xla/stream_executor/cuda/cuda_diagnostics.cc:141] hostname: 1ba22281c77a\n",
      "2024-08-10 23:11:03.806264: I external/local_xla/xla/stream_executor/cuda/cuda_diagnostics.cc:165] libcuda reported version is: 550.90.7\n",
      "2024-08-10 23:11:03.806282: I external/local_xla/xla/stream_executor/cuda/cuda_diagnostics.cc:169] kernel reported version is: 550.90.7\n",
      "2024-08-10 23:11:03.806288: I external/local_xla/xla/stream_executor/cuda/cuda_diagnostics.cc:248] kernel version seems to match DSO: 550.90.7\n"
     ]
    }
   ],
   "source": [
    "%load_ext tensorboard\n",
    "import pennylane as qml\n",
    "from pennylane import numpy as np\n",
    "from pennylane.templates import RandomLayers\n",
    "import tensorflow as tf\n",
    "from tensorflow import keras\n",
    "import matplotlib.pyplot as plt\n",
    "import os\n",
    "from datetime import datetime\n",
    "\n",
    "\n",
    "#name of model or experiment\n",
    "model_name = \"CNOT_Model\"\n",
    "log_dir= model_name + \"/runs/\" + datetime.now().strftime(\"%Y%m%d-%H%M%S\")\n",
    "\n",
    "tensorboard_callback = keras.callbacks.TensorBoard(\n",
    "    log_dir=log_dir,\n",
    "    histogram_freq=1,\n",
    "    write_graph=True,\n",
    "    write_images=True,\n",
    "    write_steps_per_second=True,\n",
    "    update_freq='batch',\n",
    "    profile_batch=1,\n",
    "    embeddings_freq=1,\n",
    "    embeddings_metadata=None\n",
    ")\n",
    "\n",
    "n_epochs = 30   # Number of optimization epochs\n",
    "n_layers = 1    # Number of random layers\n",
    "n_batches = 128     # Size of the batches\n",
    "\n",
    "np.random.seed(0)           # Seed for NumPy random number generator\n",
    "tf.random.set_seed(0)       # Seed for TensorFlow random number generator\n",
    "\n",
    "\n",
    "mnist_dataset = keras.datasets.mnist\n",
    "(train_images, train_labels), (test_images, test_labels) = mnist_dataset.load_data()\n",
    "\n",
    "\n",
    "tf.config.get_visible_devices()\n",
    "\n",
    "\n",
    "n_qubits = 4\n",
    "\n",
    "rand_params = np.random.uniform(high=2 * np.pi, size=(n_layers, 4))\n",
    "\n",
    "dev = qml.device(\"default.qubit.tf\", wires=n_qubits)\n"
   ]
  },
  {
   "cell_type": "code",
   "execution_count": 2,
   "metadata": {},
   "outputs": [],
   "source": [
    "keras.utils.get_custom_objects().clear()\n",
    "\n",
    "@keras.utils.register_keras_serializable(package=(model_name+\"_Layer\"))\n",
    "class BasicLayer(keras.layers.Layer):\n",
    "    \n",
    "\n",
    "    def call(self, inputs):\n",
    "        \"\"\"Preprocessing without quantum network.\n",
    "        splits input in to four channels\n",
    "\n",
    "        Args:\n",
    "            inputs ([type]): [description]\n",
    "\n",
    "        Returns:\n",
    "            [type]: [description]\n",
    "        \"\"\"        \n",
    "\n",
    "        rotate_14x14 = lambda subsection_14x14: tf.vectorized_map(lambda chanel: tf.transpose(chanel),subsection_14x14)\n",
    "\n",
    "        get_subsections_14x14 = lambda im : tf.reshape(tf.unstack(tf.reshape(im,[14,2,14,2]), axis = 2),[14,14,4])\n",
    "\n",
    "        preprocessing = lambda input: tf.vectorized_map(\n",
    "            lambda image:(tf.transpose(rotate_14x14(tf.transpose(get_subsections_14x14(image))))),\n",
    "            input\n",
    "        )\n",
    "\n",
    "        return preprocessing(inputs)\n",
    "qlayer = BasicLayer()\n",
    "\n",
    "qlayer.trainable = False"
   ]
  },
  {
   "cell_type": "code",
   "execution_count": 3,
   "metadata": {},
   "outputs": [],
   "source": [
    "#wrap preprocessing in model\n",
    "\n",
    "@keras.utils.register_keras_serializable(package=(model_name+\"_Pre_Model\"))\n",
    "def Pre_Model():\n",
    "    \"\"\"Initializes and returns a custom Keras model\n",
    "    which is ready to be trained.\"\"\"\n",
    "    model = keras.models.Sequential([\n",
    "        qlayer\n",
    "    ])\n",
    "    model.compile(\n",
    "        optimizer='adam',\n",
    "        loss=\"sparse_categorical_crossentropy\",\n",
    "        metrics=[\"accuracy\"],\n",
    "    )\n",
    "    return model\n",
    "pre_model = Pre_Model()"
   ]
  },
  {
   "cell_type": "code",
   "execution_count": 4,
   "metadata": {},
   "outputs": [],
   "source": [
    "#core model\n",
    "\n",
    "@keras.utils.register_keras_serializable(package=(model_name+\"_Core_Model\"))\n",
    "def Q_Model():\n",
    "    \"\"\"Initializes and returns a custom Keras model\n",
    "    which is ready to be trained.\"\"\"\n",
    "    model = keras.models.Sequential([\n",
    "        keras.layers.Rescaling(scale=1./127.5, offset=-1),\n",
    "        keras.layers.Flatten(),\n",
    "        keras.layers.Dense(10, activation=\"softmax\")\n",
    "    ])\n",
    "    model.compile(\n",
    "        optimizer='adam',\n",
    "        loss=\"sparse_categorical_crossentropy\",\n",
    "        metrics=[\"accuracy\"],\n",
    "    )\n",
    "    return model\n",
    "\n",
    "q_model = Q_Model()\n"
   ]
  },
  {
   "cell_type": "code",
   "execution_count": 5,
   "metadata": {},
   "outputs": [
    {
     "name": "stdout",
     "output_type": "stream",
     "text": [
      "\u001b[1m469/469\u001b[0m \u001b[32m━━━━━━━━━━━━━━━━━━━━\u001b[0m\u001b[37m\u001b[0m \u001b[1m2s\u001b[0m 4ms/step\n",
      "\u001b[1m79/79\u001b[0m \u001b[32m━━━━━━━━━━━━━━━━━━━━\u001b[0m\u001b[37m\u001b[0m \u001b[1m0s\u001b[0m 4ms/step\n"
     ]
    }
   ],
   "source": [
    "\n",
    "#preprocessing\n",
    "pre_train_images = pre_model.predict(train_images,batch_size=n_batches)\n",
    "pre_test_images = pre_model.predict(test_images,batch_size=n_batches)\n"
   ]
  },
  {
   "cell_type": "code",
   "execution_count": 6,
   "metadata": {},
   "outputs": [
    {
     "name": "stdout",
     "output_type": "stream",
     "text": [
      "Epoch 1/30\n"
     ]
    },
    {
     "name": "stderr",
     "output_type": "stream",
     "text": [
      "2024-08-10 23:11:06.956556: I external/local_tsl/tsl/profiler/lib/profiler_session.cc:104] Profiler session initializing.\n",
      "2024-08-10 23:11:06.956598: I external/local_tsl/tsl/profiler/lib/profiler_session.cc:119] Profiler session started.\n",
      "2024-08-10 23:11:07.320638: I external/local_tsl/tsl/profiler/lib/profiler_session.cc:70] Profiler session collecting data.\n",
      "2024-08-10 23:11:07.322647: I external/local_tsl/tsl/profiler/lib/profiler_session.cc:131] Profiler session tear down.\n",
      "2024-08-10 23:11:07.322973: I external/local_tsl/tsl/profiler/rpc/client/save_profile.cc:144] Collecting XSpace to repository: CNOT_Model/runs/20240810-231103/plugins/profile/2024_08_10_23_11_07/1ba22281c77a.xplane.pb\n"
     ]
    },
    {
     "name": "stdout",
     "output_type": "stream",
     "text": [
      "469/469 - 3s - 6ms/step - accuracy: 0.8051 - loss: 0.6697 - val_accuracy: 0.8982 - val_loss: 0.3727\n",
      "Epoch 2/30\n",
      "469/469 - 2s - 4ms/step - accuracy: 0.8953 - loss: 0.3680 - val_accuracy: 0.9086 - val_loss: 0.3213\n",
      "Epoch 3/30\n",
      "469/469 - 2s - 4ms/step - accuracy: 0.9051 - loss: 0.3330 - val_accuracy: 0.9124 - val_loss: 0.3041\n",
      "Epoch 4/30\n",
      "469/469 - 2s - 4ms/step - accuracy: 0.9091 - loss: 0.3170 - val_accuracy: 0.9135 - val_loss: 0.2957\n",
      "Epoch 5/30\n",
      "469/469 - 2s - 4ms/step - accuracy: 0.9121 - loss: 0.3074 - val_accuracy: 0.9136 - val_loss: 0.2908\n",
      "Epoch 6/30\n",
      "469/469 - 2s - 4ms/step - accuracy: 0.9140 - loss: 0.3008 - val_accuracy: 0.9144 - val_loss: 0.2876\n",
      "Epoch 7/30\n",
      "469/469 - 2s - 4ms/step - accuracy: 0.9160 - loss: 0.2959 - val_accuracy: 0.9159 - val_loss: 0.2853\n",
      "Epoch 8/30\n",
      "469/469 - 2s - 4ms/step - accuracy: 0.9175 - loss: 0.2921 - val_accuracy: 0.9165 - val_loss: 0.2836\n",
      "Epoch 9/30\n",
      "469/469 - 2s - 4ms/step - accuracy: 0.9183 - loss: 0.2889 - val_accuracy: 0.9168 - val_loss: 0.2823\n",
      "Epoch 10/30\n",
      "469/469 - 2s - 4ms/step - accuracy: 0.9193 - loss: 0.2863 - val_accuracy: 0.9173 - val_loss: 0.2812\n",
      "Epoch 11/30\n",
      "469/469 - 2s - 4ms/step - accuracy: 0.9202 - loss: 0.2841 - val_accuracy: 0.9174 - val_loss: 0.2804\n",
      "Epoch 12/30\n",
      "469/469 - 2s - 3ms/step - accuracy: 0.9209 - loss: 0.2821 - val_accuracy: 0.9178 - val_loss: 0.2796\n",
      "Epoch 13/30\n",
      "469/469 - 2s - 4ms/step - accuracy: 0.9215 - loss: 0.2804 - val_accuracy: 0.9178 - val_loss: 0.2790\n",
      "Epoch 14/30\n",
      "469/469 - 2s - 4ms/step - accuracy: 0.9219 - loss: 0.2788 - val_accuracy: 0.9178 - val_loss: 0.2785\n",
      "Epoch 15/30\n",
      "469/469 - 2s - 4ms/step - accuracy: 0.9222 - loss: 0.2775 - val_accuracy: 0.9186 - val_loss: 0.2781\n",
      "Epoch 16/30\n",
      "469/469 - 2s - 4ms/step - accuracy: 0.9227 - loss: 0.2762 - val_accuracy: 0.9187 - val_loss: 0.2777\n",
      "Epoch 17/30\n",
      "469/469 - 2s - 4ms/step - accuracy: 0.9230 - loss: 0.2751 - val_accuracy: 0.9183 - val_loss: 0.2773\n",
      "Epoch 18/30\n",
      "469/469 - 2s - 4ms/step - accuracy: 0.9233 - loss: 0.2740 - val_accuracy: 0.9185 - val_loss: 0.2770\n",
      "Epoch 19/30\n",
      "469/469 - 2s - 4ms/step - accuracy: 0.9237 - loss: 0.2730 - val_accuracy: 0.9187 - val_loss: 0.2768\n",
      "Epoch 20/30\n",
      "469/469 - 2s - 4ms/step - accuracy: 0.9238 - loss: 0.2722 - val_accuracy: 0.9187 - val_loss: 0.2766\n",
      "Epoch 21/30\n",
      "469/469 - 2s - 4ms/step - accuracy: 0.9242 - loss: 0.2713 - val_accuracy: 0.9188 - val_loss: 0.2764\n",
      "Epoch 22/30\n",
      "469/469 - 2s - 4ms/step - accuracy: 0.9244 - loss: 0.2706 - val_accuracy: 0.9190 - val_loss: 0.2762\n",
      "Epoch 23/30\n",
      "469/469 - 2s - 4ms/step - accuracy: 0.9246 - loss: 0.2698 - val_accuracy: 0.9196 - val_loss: 0.2761\n",
      "Epoch 24/30\n",
      "469/469 - 2s - 4ms/step - accuracy: 0.9248 - loss: 0.2692 - val_accuracy: 0.9197 - val_loss: 0.2759\n",
      "Epoch 25/30\n",
      "469/469 - 2s - 4ms/step - accuracy: 0.9251 - loss: 0.2685 - val_accuracy: 0.9193 - val_loss: 0.2758\n",
      "Epoch 26/30\n",
      "469/469 - 2s - 4ms/step - accuracy: 0.9252 - loss: 0.2679 - val_accuracy: 0.9196 - val_loss: 0.2757\n",
      "Epoch 27/30\n",
      "469/469 - 2s - 4ms/step - accuracy: 0.9254 - loss: 0.2674 - val_accuracy: 0.9196 - val_loss: 0.2757\n",
      "Epoch 28/30\n",
      "469/469 - 2s - 4ms/step - accuracy: 0.9256 - loss: 0.2668 - val_accuracy: 0.9196 - val_loss: 0.2756\n",
      "Epoch 29/30\n",
      "469/469 - 2s - 4ms/step - accuracy: 0.9258 - loss: 0.2663 - val_accuracy: 0.9199 - val_loss: 0.2755\n",
      "Epoch 30/30\n",
      "469/469 - 2s - 4ms/step - accuracy: 0.9260 - loss: 0.2658 - val_accuracy: 0.9199 - val_loss: 0.2755\n"
     ]
    }
   ],
   "source": [
    "\n",
    "#training\n",
    "q_history = q_model.fit(\n",
    "    pre_train_images[:,:,:,[0,1,3]],\n",
    "    train_labels,\n",
    "    validation_data=(pre_test_images[:,:,:,[0,1,3]], test_labels),\n",
    "    batch_size = n_batches,\n",
    "    epochs=n_epochs,\n",
    "    verbose=2, callbacks=[tensorboard_callback]\n",
    ")\n"
   ]
  },
  {
   "cell_type": "code",
   "execution_count": 7,
   "metadata": {},
   "outputs": [
    {
     "data": {
      "image/png": "[encoded data removed]",
      "text/plain": [
       "<Figure size 1200x400 with 1 Axes>"
      ]
     },
     "metadata": {},
     "output_type": "display_data"
    }
   ],
   "source": [
    "\n",
    "sample = np.asarray(train_images[19,:,:]).copy()\n",
    "\n",
    "#sample[:,:,[1,2]] = np.NAN\n",
    "\n",
    "compdiffs = (sample)\n",
    "\n",
    "f, ax = plt.subplots(nrows=1, ncols=1, figsize=(12, 4))\n",
    "\n",
    "ax.imshow(compdiffs)\n",
    "ax.axis('off')\n",
    "\n",
    "\n",
    "plt.tight_layout()\n",
    "plt.show()"
   ]
  },
  {
   "cell_type": "code",
   "execution_count": 8,
   "metadata": {},
   "outputs": [
    {
     "data": {
      "image/png": "[encoded data removed]",
      "text/plain": [
       "<Figure size 1200x400 with 4 Axes>"
      ]
     },
     "metadata": {},
     "output_type": "display_data"
    }
   ],
   "source": [
    "#example of quantum preprocessed(filtered) chanels\n",
    "image_titles = ['Nine-Ch1', 'Nine-Ch2', 'Nine-Ch3','Nine-Ch4']\n",
    "f, ax = plt.subplots(nrows=1, ncols=4, figsize=(12, 4))\n",
    "for i, title in enumerate(image_titles):\n",
    "    ax[i].set_title(title, fontsize=16)\n",
    "    ax[i].imshow(pre_train_images[19][:,:,i])\n",
    "    ax[i].axis('off')\n",
    "plt.tight_layout()\n",
    "plt.show()\n"
   ]
  },
  {
   "cell_type": "code",
   "execution_count": 9,
   "metadata": {},
   "outputs": [
    {
     "data": {
      "image/png": "[encoded data removed]",
      "text/plain": [
       "<Figure size 1200x400 with 4 Axes>"
      ]
     },
     "metadata": {},
     "output_type": "display_data"
    }
   ],
   "source": [
    "sample = np.asarray(pre_train_images[19]).copy()\n",
    "\n",
    "sample[:,:,[2]] = np.NAN\n",
    "\n",
    "f, ax = plt.subplots(nrows=1, ncols=4, figsize=(12, 4))\n",
    "for i, title in enumerate(image_titles):\n",
    "    ax[i].set_title(title, fontsize=16)\n",
    "    ax[i].imshow(sample[:,:,i])\n",
    "    ax[i].axis('off')\n",
    "plt.tight_layout()\n",
    "plt.show()"
   ]
  },
  {
   "cell_type": "code",
   "execution_count": 10,
   "metadata": {},
   "outputs": [
    {
     "data": {
      "image/png": "[encoded data removed]",
      "text/plain": [
       "<Figure size 1200x400 with 1 Axes>"
      ]
     },
     "metadata": {},
     "output_type": "display_data"
    }
   ],
   "source": [
    "\n",
    "\n",
    "reassembled_pt1 = lambda square: tf.reshape(tf.vectorized_map(lambda inp: tf.transpose(inp),tf.transpose(square)),[2,14,2,14])\n",
    "\n",
    "reassembled = lambda square: tf.reshape(tf.stack(tf.reshape(tf.stack(reassembled_pt1(square),axis=2),[2,28*14]),axis=1),[28,28])\n",
    "\n",
    "compdiffs = reassembled(sample[:,:,[0,1,2,3]])\n",
    "\n",
    "f, ax = plt.subplots(nrows=1, ncols=1, figsize=(12, 4))\n",
    "ax.imshow(compdiffs)\n",
    "ax.axis('off')\n",
    "\n",
    "\n",
    "plt.tight_layout()\n",
    "plt.show()"
   ]
  },
  {
   "cell_type": "code",
   "execution_count": 11,
   "metadata": {},
   "outputs": [
    {
     "data": {
      "image/png": "[encoded data removed]",
      "text/plain": [
       "<Figure size 1200x400 with 1 Axes>"
      ]
     },
     "metadata": {},
     "output_type": "display_data"
    }
   ],
   "source": [
    "f, ax = plt.subplots(nrows=1, ncols=1, figsize=(12, 4))\n",
    "ax.imshow((sample[:,:,[0,1,3]])/(255))\n",
    "ax.axis('off')\n",
    "\n",
    "\n",
    "plt.tight_layout()\n",
    "plt.show()"
   ]
  },
  {
   "cell_type": "code",
   "execution_count": 12,
   "metadata": {},
   "outputs": [
    {
     "data": {
      "image/png": "[encoded data removed]",
      "text/plain": [
       "<Figure size 1200x400 with 1 Axes>"
      ]
     },
     "metadata": {},
     "output_type": "display_data"
    }
   ],
   "source": [
    "f, ax = plt.subplots(nrows=1, ncols=1, figsize=(12, 4))\n",
    "ax.imshow((sample[:,:,[0,1,3]]/(-255))+1)\n",
    "ax.axis('off')\n",
    "\n",
    "\n",
    "plt.tight_layout()\n",
    "plt.show()"
   ]
  },
  {
   "cell_type": "code",
   "execution_count": null,
   "metadata": {},
   "outputs": [],
   "source": []
  }
 ],
 "metadata": {
  "kernelspec": {
   "display_name": "QML-QPF",
   "language": "python",
   "name": "python3"
  },
  "language_info": {
   "codemirror_mode": {
    "name": "ipython",
    "version": 3
   },
   "file_extension": ".py",
   "mimetype": "text/x-python",
   "name": "python",
   "nbconvert_exporter": "python",
   "pygments_lexer": "ipython3",
   "version": "3.10.13"
  }
 },
 "nbformat": 4,
 "nbformat_minor": 2
}
