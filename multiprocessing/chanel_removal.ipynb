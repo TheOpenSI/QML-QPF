{
 "cells": [
  {
   "cell_type": "code",
   "execution_count": 1,
   "metadata": {},
   "outputs": [
    {
     "name": "stderr",
     "output_type": "stream",
     "text": [
      "2024-08-10 18:39:52.800773: I tensorflow/core/platform/cpu_feature_guard.cc:210] This TensorFlow binary is optimized to use available CPU instructions in performance-critical operations.\n",
      "To enable the following instructions: AVX2 AVX512F FMA, in other operations, rebuild TensorFlow with the appropriate compiler flags.\n",
      "2024-08-10 18:39:53.525970: W tensorflow/compiler/tf2tensorrt/utils/py_utils.cc:38] TF-TRT Warning: Could not find TensorRT\n",
      "2024-08-10 18:39:54.186737: I external/local_tsl/tsl/profiler/lib/profiler_session.cc:104] Profiler session initializing.\n",
      "2024-08-10 18:39:54.186771: I external/local_tsl/tsl/profiler/lib/profiler_session.cc:119] Profiler session started.\n",
      "2024-08-10 18:39:54.192159: I external/local_tsl/tsl/profiler/lib/profiler_session.cc:131] Profiler session tear down.\n",
      "2024-08-10 18:39:54.369240: E external/local_xla/xla/stream_executor/cuda/cuda_driver.cc:282] failed call to cuInit: CUDA_ERROR_NO_DEVICE: no CUDA-capable device is detected\n",
      "2024-08-10 18:39:54.369287: I external/local_xla/xla/stream_executor/cuda/cuda_diagnostics.cc:134] retrieving CUDA diagnostic information for host: 1ba22281c77a\n",
      "2024-08-10 18:39:54.369295: I external/local_xla/xla/stream_executor/cuda/cuda_diagnostics.cc:141] hostname: 1ba22281c77a\n",
      "2024-08-10 18:39:54.369480: I external/local_xla/xla/stream_executor/cuda/cuda_diagnostics.cc:165] libcuda reported version is: 550.90.7\n",
      "2024-08-10 18:39:54.369498: I external/local_xla/xla/stream_executor/cuda/cuda_diagnostics.cc:169] kernel reported version is: 550.90.7\n",
      "2024-08-10 18:39:54.369504: I external/local_xla/xla/stream_executor/cuda/cuda_diagnostics.cc:248] kernel version seems to match DSO: 550.90.7\n"
     ]
    }
   ],
   "source": [
    "%load_ext tensorboard\n",
    "import pennylane as qml\n",
    "from pennylane import numpy as np\n",
    "from pennylane.templates import RandomLayers\n",
    "import tensorflow as tf\n",
    "from tensorflow import keras\n",
    "import matplotlib.pyplot as plt\n",
    "import os\n",
    "from datetime import datetime\n",
    "\n",
    "\n",
    "#name of model or experiment\n",
    "model_name = \"CNOT_Model\"\n",
    "log_dir= model_name + \"/runs/\" + datetime.now().strftime(\"%Y%m%d-%H%M%S\")\n",
    "\n",
    "tensorboard_callback = keras.callbacks.TensorBoard(\n",
    "    log_dir=log_dir,\n",
    "    histogram_freq=1,\n",
    "    write_graph=True,\n",
    "    write_images=True,\n",
    "    write_steps_per_second=True,\n",
    "    update_freq='batch',\n",
    "    profile_batch=1,\n",
    "    embeddings_freq=1,\n",
    "    embeddings_metadata=None\n",
    ")\n",
    "\n",
    "n_epochs = 30   # Number of optimization epochs\n",
    "n_layers = 1    # Number of random layers\n",
    "n_batches = 128     # Size of the batches\n",
    "\n",
    "np.random.seed(0)           # Seed for NumPy random number generator\n",
    "tf.random.set_seed(0)       # Seed for TensorFlow random number generator\n",
    "\n",
    "\n",
    "mnist_dataset = keras.datasets.mnist\n",
    "(train_images, train_labels), (test_images, test_labels) = mnist_dataset.load_data()\n",
    "\n",
    "\n",
    "tf.config.get_visible_devices()\n",
    "\n",
    "\n",
    "n_qubits = 4\n",
    "\n",
    "rand_params = np.random.uniform(high=2 * np.pi, size=(n_layers, 4))\n",
    "\n",
    "dev = qml.device(\"default.qubit.tf\", wires=n_qubits)\n"
   ]
  },
  {
   "cell_type": "code",
   "execution_count": 2,
   "metadata": {},
   "outputs": [],
   "source": [
    "keras.utils.get_custom_objects().clear()\n",
    "\n",
    "@keras.utils.register_keras_serializable(package=(model_name+\"_Layer\"))\n",
    "class ConvQLayer(keras.layers.Layer):\n",
    "    \n",
    "\n",
    "    #replace the contents of qnode with experiment circuit\n",
    "    @qml.qnode(dev, interface='tf')\n",
    "    def q_node(inputs):\n",
    "        inputs *= np.pi\n",
    "\n",
    "\n",
    "        # Encoding of 4 classical input values\n",
    "\n",
    "        for j in range(n_qubits):\n",
    "            qml.RY(inputs[j], wires=j)\n",
    "\n",
    "        #Further testing of the AngleEmbedding function is needed\n",
    "        #qml.AngleEmbedding(inputs, wires=range(n_qubits), rotation='Y')\n",
    "        # Filter from arxiv.org/abs/2308.14930\n",
    "\n",
    "        qml.CNOT(wires=[0, 3])\n",
    "        qml.CNOT(wires=[2, 1])\n",
    "\n",
    "        # Measurement producing 4 classical output values\n",
    "        return [qml.expval(qml.PauliZ(j)) for j in range(n_qubits)]\n",
    "\n",
    "    def call(self, inputs):\n",
    "\n",
    "        #14x14 flattened 2x2 squares\n",
    "        get_subsections_14x14 = lambda im : tf.reshape(tf.unstack(tf.reshape(im,[14,2,14,2]), axis = 2),[14,14,4])\n",
    "        '''\n",
    "        example of sequential flat 28x28 indexes after above shuffle\n",
    "        [\n",
    "            [\n",
    "                [  0,   1,  28,  29],\n",
    "                [ 56,  57,  84,  85],\n",
    "                ...\n",
    "                [672, 673, 700, 701],\n",
    "                [728, 729, 756, 757]\n",
    "            ],\n",
    "            [\n",
    "                [  2,   3,  30,  31],\n",
    "                ...\n",
    "                [730, 731, 758, 759]\n",
    "            ],\n",
    "            ...\n",
    "            [\n",
    "                [ 26,  27,  54,  55],\n",
    "                ...\n",
    "                [754, 755, 782, 783]\n",
    "            ]\n",
    "        '''\n",
    "\n",
    "        #unpack 14x14 row by row\n",
    "        list_squares_2x2 = lambda image_subsections: tf.reshape(tf.unstack(image_subsections, axis = 1), [196,4])\n",
    "\n",
    "\n",
    "        #send 4 values to quantum function\n",
    "        process_square_2x2 = lambda square_2x2 : self.q_node(square_2x2)\n",
    "\n",
    "        #send all squares to the quantum function wrapper\n",
    "        process_subsections = lambda squares: tf.vectorized_map(process_square_2x2,squares)\n",
    "\n",
    "        #recompile the larger square\n",
    "        separate_channels = lambda channel_stack: tf.reshape(channel_stack, [14,14,4])\n",
    "        #each smaller square (channel) can be extracted as [:, :, channel]\n",
    "        \n",
    "        #apply function across batch\n",
    "        preprocessing = lambda input: tf.vectorized_map(\n",
    "            lambda image:(separate_channels(tf.transpose(process_subsections(list_squares_2x2(get_subsections_14x14(image)))))),\n",
    "            input\n",
    "        )\n",
    "\n",
    "        return preprocessing(inputs)\n",
    "\n",
    "qlayer = ConvQLayer()\n",
    "\n",
    "qlayer.trainable = False"
   ]
  },
  {
   "cell_type": "code",
   "execution_count": 3,
   "metadata": {},
   "outputs": [],
   "source": [
    "#wrap preprocessing in model\n",
    "\n",
    "@keras.utils.register_keras_serializable(package=(model_name+\"_Pre_Model\"))\n",
    "def Pre_Model():\n",
    "    \"\"\"Initializes and returns a custom Keras model\n",
    "    which is ready to be trained.\"\"\"\n",
    "    model = keras.models.Sequential([\n",
    "        keras.layers.Rescaling(scale=1./255.0),\n",
    "        qlayer,\n",
    "        keras.layers.Rescaling(scale=127.5, offset=127.5)\n",
    "    ])\n",
    "    model.compile(\n",
    "        optimizer='adam',\n",
    "        loss=\"sparse_categorical_crossentropy\",\n",
    "        metrics=[\"accuracy\"],\n",
    "    )\n",
    "    return model\n",
    "pre_model = Pre_Model()"
   ]
  },
  {
   "cell_type": "code",
   "execution_count": 4,
   "metadata": {},
   "outputs": [
    {
     "name": "stdout",
     "output_type": "stream",
     "text": [
      "\u001b[1m469/469\u001b[0m \u001b[32m━━━━━━━━━━━━━━━━━━━━\u001b[0m\u001b[37m\u001b[0m \u001b[1m10s\u001b[0m 19ms/step\n",
      "\u001b[1m79/79\u001b[0m \u001b[32m━━━━━━━━━━━━━━━━━━━━\u001b[0m\u001b[37m\u001b[0m \u001b[1m1s\u001b[0m 17ms/step\n",
      "Epoch 1/30\n"
     ]
    },
    {
     "name": "stderr",
     "output_type": "stream",
     "text": [
      "2024-08-10 18:40:06.034261: I external/local_tsl/tsl/profiler/lib/profiler_session.cc:104] Profiler session initializing.\n",
      "2024-08-10 18:40:06.034305: I external/local_tsl/tsl/profiler/lib/profiler_session.cc:119] Profiler session started.\n",
      "2024-08-10 18:40:06.444503: I external/local_tsl/tsl/profiler/lib/profiler_session.cc:70] Profiler session collecting data.\n",
      "2024-08-10 18:40:06.446522: I external/local_tsl/tsl/profiler/lib/profiler_session.cc:131] Profiler session tear down.\n",
      "2024-08-10 18:40:06.446849: I external/local_tsl/tsl/profiler/rpc/client/save_profile.cc:144] Collecting XSpace to repository: CNOT_Model/runs/20240810-183954/plugins/profile/2024_08_10_18_40_06/1ba22281c77a.xplane.pb\n"
     ]
    },
    {
     "name": "stdout",
     "output_type": "stream",
     "text": [
      "469/469 - 2s - 5ms/step - accuracy: 0.8045 - loss: 0.7118 - val_accuracy: 0.9025 - val_loss: 0.3576\n",
      "Epoch 2/30\n",
      "469/469 - 2s - 4ms/step - accuracy: 0.9107 - loss: 0.3198 - val_accuracy: 0.9245 - val_loss: 0.2694\n",
      "Epoch 3/30\n",
      "469/469 - 2s - 4ms/step - accuracy: 0.9256 - loss: 0.2606 - val_accuracy: 0.9333 - val_loss: 0.2344\n",
      "Epoch 4/30\n",
      "469/469 - 2s - 4ms/step - accuracy: 0.9330 - loss: 0.2314 - val_accuracy: 0.9369 - val_loss: 0.2152\n",
      "Epoch 5/30\n",
      "469/469 - 2s - 4ms/step - accuracy: 0.9380 - loss: 0.2134 - val_accuracy: 0.9397 - val_loss: 0.2030\n",
      "Epoch 6/30\n",
      "469/469 - 2s - 4ms/step - accuracy: 0.9413 - loss: 0.2011 - val_accuracy: 0.9414 - val_loss: 0.1945\n",
      "Epoch 7/30\n",
      "469/469 - 2s - 4ms/step - accuracy: 0.9434 - loss: 0.1921 - val_accuracy: 0.9432 - val_loss: 0.1883\n",
      "Epoch 8/30\n",
      "469/469 - 2s - 4ms/step - accuracy: 0.9455 - loss: 0.1851 - val_accuracy: 0.9443 - val_loss: 0.1836\n",
      "Epoch 9/30\n",
      "469/469 - 2s - 4ms/step - accuracy: 0.9471 - loss: 0.1796 - val_accuracy: 0.9449 - val_loss: 0.1799\n",
      "Epoch 10/30\n",
      "469/469 - 2s - 4ms/step - accuracy: 0.9482 - loss: 0.1751 - val_accuracy: 0.9468 - val_loss: 0.1771\n",
      "Epoch 11/30\n",
      "469/469 - 2s - 4ms/step - accuracy: 0.9493 - loss: 0.1714 - val_accuracy: 0.9475 - val_loss: 0.1748\n",
      "Epoch 12/30\n",
      "469/469 - 2s - 4ms/step - accuracy: 0.9500 - loss: 0.1682 - val_accuracy: 0.9479 - val_loss: 0.1729\n",
      "Epoch 13/30\n",
      "469/469 - 2s - 4ms/step - accuracy: 0.9505 - loss: 0.1655 - val_accuracy: 0.9482 - val_loss: 0.1715\n",
      "Epoch 14/30\n",
      "469/469 - 2s - 4ms/step - accuracy: 0.9512 - loss: 0.1632 - val_accuracy: 0.9485 - val_loss: 0.1703\n",
      "Epoch 15/30\n",
      "469/469 - 2s - 4ms/step - accuracy: 0.9517 - loss: 0.1611 - val_accuracy: 0.9491 - val_loss: 0.1693\n",
      "Epoch 16/30\n",
      "469/469 - 2s - 4ms/step - accuracy: 0.9520 - loss: 0.1593 - val_accuracy: 0.9491 - val_loss: 0.1685\n",
      "Epoch 17/30\n",
      "469/469 - 2s - 4ms/step - accuracy: 0.9527 - loss: 0.1577 - val_accuracy: 0.9493 - val_loss: 0.1678\n",
      "Epoch 18/30\n",
      "469/469 - 2s - 4ms/step - accuracy: 0.9530 - loss: 0.1562 - val_accuracy: 0.9494 - val_loss: 0.1673\n",
      "Epoch 19/30\n",
      "469/469 - 2s - 4ms/step - accuracy: 0.9534 - loss: 0.1549 - val_accuracy: 0.9492 - val_loss: 0.1668\n",
      "Epoch 20/30\n",
      "469/469 - 2s - 4ms/step - accuracy: 0.9539 - loss: 0.1537 - val_accuracy: 0.9495 - val_loss: 0.1665\n",
      "Epoch 21/30\n",
      "469/469 - 2s - 4ms/step - accuracy: 0.9542 - loss: 0.1526 - val_accuracy: 0.9495 - val_loss: 0.1662\n",
      "Epoch 22/30\n",
      "469/469 - 2s - 4ms/step - accuracy: 0.9545 - loss: 0.1516 - val_accuracy: 0.9496 - val_loss: 0.1659\n",
      "Epoch 23/30\n",
      "469/469 - 2s - 4ms/step - accuracy: 0.9548 - loss: 0.1507 - val_accuracy: 0.9497 - val_loss: 0.1657\n",
      "Epoch 24/30\n",
      "469/469 - 2s - 4ms/step - accuracy: 0.9549 - loss: 0.1498 - val_accuracy: 0.9498 - val_loss: 0.1656\n",
      "Epoch 25/30\n",
      "469/469 - 2s - 4ms/step - accuracy: 0.9551 - loss: 0.1491 - val_accuracy: 0.9497 - val_loss: 0.1655\n",
      "Epoch 26/30\n",
      "469/469 - 2s - 4ms/step - accuracy: 0.9554 - loss: 0.1483 - val_accuracy: 0.9498 - val_loss: 0.1654\n",
      "Epoch 27/30\n",
      "469/469 - 2s - 4ms/step - accuracy: 0.9554 - loss: 0.1476 - val_accuracy: 0.9498 - val_loss: 0.1654\n",
      "Epoch 28/30\n",
      "469/469 - 2s - 4ms/step - accuracy: 0.9558 - loss: 0.1470 - val_accuracy: 0.9500 - val_loss: 0.1653\n",
      "Epoch 29/30\n",
      "469/469 - 2s - 4ms/step - accuracy: 0.9560 - loss: 0.1464 - val_accuracy: 0.9500 - val_loss: 0.1653\n",
      "Epoch 30/30\n",
      "469/469 - 2s - 4ms/step - accuracy: 0.9562 - loss: 0.1458 - val_accuracy: 0.9503 - val_loss: 0.1653\n"
     ]
    }
   ],
   "source": [
    "#core model\n",
    "\n",
    "@keras.utils.register_keras_serializable(package=(model_name+\"_Core_Model\"))\n",
    "def Q_Model():\n",
    "    \"\"\"Initializes and returns a custom Keras model\n",
    "    which is ready to be trained.\"\"\"\n",
    "    model = keras.models.Sequential([\n",
    "        keras.layers.Rescaling(scale=1./127.5, offset=-1),\n",
    "        keras.layers.Flatten(),\n",
    "        keras.layers.Dense(10, activation=\"softmax\")\n",
    "    ])\n",
    "    model.compile(\n",
    "        optimizer='adam',\n",
    "        loss=\"sparse_categorical_crossentropy\",\n",
    "        metrics=[\"accuracy\"],\n",
    "    )\n",
    "    return model\n",
    "\n",
    "q_model = Q_Model()\n",
    "\n",
    "#preprocessing\n",
    "pre_train_images = pre_model.predict(train_images,batch_size=n_batches)\n",
    "pre_test_images = pre_model.predict(test_images,batch_size=n_batches)\n",
    "\n",
    "#training\n",
    "q_history = q_model.fit(\n",
    "    pre_train_images[:,:,:,[0,1,3]],\n",
    "    train_labels,\n",
    "    validation_data=(pre_test_images[:,:,:,[0,1,3]], test_labels),\n",
    "    batch_size = n_batches,\n",
    "    epochs=n_epochs,\n",
    "    verbose=2, callbacks=[tensorboard_callback]\n",
    ")\n"
   ]
  },
  {
   "cell_type": "code",
   "execution_count": 5,
   "metadata": {},
   "outputs": [
    {
     "data": {
      "image/png": "[encoded data removed]",
      "text/plain": [
       "<Figure size 1200x400 with 1 Axes>"
      ]
     },
     "metadata": {},
     "output_type": "display_data"
    }
   ],
   "source": [
    "\n",
    "sample = np.asarray(train_images[19,:,:]).copy()\n",
    "\n",
    "#sample[:,:,[1,2]] = np.NAN\n",
    "\n",
    "compdiffs = (-1 * sample)\n",
    "\n",
    "f, ax = plt.subplots(nrows=1, ncols=1, figsize=(12, 4))\n",
    "\n",
    "ax.imshow(compdiffs)\n",
    "ax.axis('off')\n",
    "\n",
    "\n",
    "plt.tight_layout()\n",
    "plt.show()"
   ]
  },
  {
   "cell_type": "code",
   "execution_count": 6,
   "metadata": {},
   "outputs": [
    {
     "data": {
      "image/png": "[encoded data removed]",
      "text/plain": [
       "<Figure size 1200x400 with 4 Axes>"
      ]
     },
     "metadata": {},
     "output_type": "display_data"
    }
   ],
   "source": [
    "#example of quantum preprocessed(filtered) chanels\n",
    "image_titles = ['Nine-Ch1', 'Nine-Ch2', 'Nine-Ch3','Nine-Ch4']\n",
    "f, ax = plt.subplots(nrows=1, ncols=4, figsize=(12, 4))\n",
    "for i, title in enumerate(image_titles):\n",
    "    ax[i].set_title(title, fontsize=16)\n",
    "    ax[i].imshow(pre_train_images[19][:,:,i])\n",
    "    ax[i].axis('off')\n",
    "plt.tight_layout()\n",
    "plt.show()\n"
   ]
  },
  {
   "cell_type": "code",
   "execution_count": 7,
   "metadata": {},
   "outputs": [
    {
     "data": {
      "image/png": "[encoded data removed]",
      "text/plain": [
       "<Figure size 1200x400 with 4 Axes>"
      ]
     },
     "metadata": {},
     "output_type": "display_data"
    }
   ],
   "source": [
    "sample = np.asarray(pre_train_images[19]).copy()\n",
    "\n",
    "sample[:,:,[2]] = np.NAN\n",
    "\n",
    "f, ax = plt.subplots(nrows=1, ncols=4, figsize=(12, 4))\n",
    "for i, title in enumerate(image_titles):\n",
    "    ax[i].set_title(title, fontsize=16)\n",
    "    ax[i].imshow(sample[:,:,i])\n",
    "    ax[i].axis('off')\n",
    "plt.tight_layout()\n",
    "plt.show()"
   ]
  },
  {
   "cell_type": "code",
   "execution_count": 8,
   "metadata": {},
   "outputs": [
    {
     "data": {
      "image/png": "[encoded data removed]",
      "text/plain": [
       "<Figure size 1200x400 with 1 Axes>"
      ]
     },
     "metadata": {},
     "output_type": "display_data"
    }
   ],
   "source": [
    "\n",
    "\n",
    "reassembled_pt1 = lambda square: tf.reshape(tf.vectorized_map(lambda inp: tf.transpose(inp),tf.transpose(square)),[2,14,2,14])\n",
    "\n",
    "reassembled = lambda square: tf.reshape(tf.stack(tf.reshape(tf.stack(reassembled_pt1(square),axis=2),[2,28*14]),axis=1),[28,28])\n",
    "\n",
    "compdiffs = reassembled(sample[:,:,[0,1,2,3]])\n",
    "\n",
    "f, ax = plt.subplots(nrows=1, ncols=1, figsize=(12, 4))\n",
    "ax.imshow(compdiffs)\n",
    "ax.axis('off')\n",
    "\n",
    "\n",
    "plt.tight_layout()\n",
    "plt.show()"
   ]
  },
  {
   "cell_type": "code",
   "execution_count": 18,
   "metadata": {},
   "outputs": [
    {
     "name": "stderr",
     "output_type": "stream",
     "text": [
      "Clipping input data to the valid range for imshow with RGB data ([0..1] for floats or [0..255] for integers). Got range [0.00015175015..1.0000001].\n"
     ]
    },
    {
     "data": {
      "image/png": "[encoded data removed]",
      "text/plain": [
       "<Figure size 1200x400 with 1 Axes>"
      ]
     },
     "metadata": {},
     "output_type": "display_data"
    }
   ],
   "source": [
    "f, ax = plt.subplots(nrows=1, ncols=1, figsize=(12, 4))\n",
    "ax.imshow((sample[:,:,[0,1,3]]/(255)))\n",
    "ax.axis('off')\n",
    "\n",
    "\n",
    "plt.tight_layout()\n",
    "plt.show()"
   ]
  },
  {
   "cell_type": "code",
   "execution_count": 17,
   "metadata": {},
   "outputs": [
    {
     "name": "stderr",
     "output_type": "stream",
     "text": [
      "Clipping input data to the valid range for imshow with RGB data ([0..1] for floats or [0..255] for integers). Got range [-1.1920929e-07..0.99984825].\n"
     ]
    },
    {
     "data": {
      "image/png": "[encoded data removed]",
      "text/plain": [
       "<Figure size 1200x400 with 1 Axes>"
      ]
     },
     "metadata": {},
     "output_type": "display_data"
    }
   ],
   "source": [
    "f, ax = plt.subplots(nrows=1, ncols=1, figsize=(12, 4))\n",
    "ax.imshow((sample[:,:,[0,1,3]]/(-255))+1.0)\n",
    "ax.axis('off')\n",
    "\n",
    "\n",
    "plt.tight_layout()\n",
    "plt.show()"
   ]
  },
  {
   "cell_type": "code",
   "execution_count": null,
   "metadata": {},
   "outputs": [],
   "source": []
  }
 ],
 "metadata": {
  "kernelspec": {
   "display_name": "QML-QPF",
   "language": "python",
   "name": "python3"
  },
  "language_info": {
   "codemirror_mode": {
    "name": "ipython",
    "version": 3
   },
   "file_extension": ".py",
   "mimetype": "text/x-python",
   "name": "python",
   "nbconvert_exporter": "python",
   "pygments_lexer": "ipython3",
   "version": "3.10.13"
  }
 },
 "nbformat": 4,
 "nbformat_minor": 2
}
