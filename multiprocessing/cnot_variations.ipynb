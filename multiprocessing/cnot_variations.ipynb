{
 "cells": [
  {
   "cell_type": "code",
   "execution_count": 1,
   "metadata": {},
   "outputs": [
    {
     "name": "stderr",
     "output_type": "stream",
     "text": [
      "2024-07-31 07:50:12.368338: I tensorflow/core/platform/cpu_feature_guard.cc:210] This TensorFlow binary is optimized to use available CPU instructions in performance-critical operations.\n",
      "To enable the following instructions: AVX2 AVX512F FMA, in other operations, rebuild TensorFlow with the appropriate compiler flags.\n",
      "2024-07-31 07:50:13.015148: W tensorflow/compiler/tf2tensorrt/utils/py_utils.cc:38] TF-TRT Warning: Could not find TensorRT\n"
     ]
    }
   ],
   "source": [
    "%load_ext tensorboard\n",
    "\n",
    "from concurrent.futures import ProcessPoolExecutor, as_completed\n",
    "from datetime import datetime\n",
    "import pathlib\n",
    "import os\n",
    "import gc\n",
    "from core import Model\n",
    "import numpy as np\n",
    "import math\n",
    "\n",
    "os.environ['CUDA_​DEVICE_​ORDER'] = 'PCI_BUS_ID'\n",
    "os.environ['TF_GPU_ALLOCATOR'] = 'cuda_malloc_async'\n",
    "clock_start = datetime.now().strftime(\"%Y%m%d-%H%M%S\")\n",
    "#clock_start = \"20240722-085506\"\n",
    "workdir = str(pathlib.Path().resolve())\n",
    "\n",
    "\n",
    "n = 4\n",
    "perms = np.empty((math.factorial(n), n), dtype=np.uint8, order='F')\n",
    "perms[0, 0] = 0\n",
    "\n",
    "rows_to_copy = 1\n",
    "for i in range(1, n):\n",
    "    perms[:rows_to_copy, i] = i\n",
    "    for j in range(1, i + 1):\n",
    "        start_row = rows_to_copy * j\n",
    "        end_row = rows_to_copy * (j + 1)\n",
    "        splitter = i - j\n",
    "        perms[start_row: end_row, splitter] = i\n",
    "        perms[start_row: end_row, :splitter] = perms[:rows_to_copy, :splitter]\n",
    "        perms[start_row: end_row, splitter + 1:i + 1] = perms[:rows_to_copy, splitter:i]\n",
    "\n",
    "    rows_to_copy *= i + 1\n",
    "\n"
   ]
  },
  {
   "cell_type": "code",
   "execution_count": 2,
   "metadata": {},
   "outputs": [
    {
     "name": "stderr",
     "output_type": "stream",
     "text": [
      "2024-07-31 07:50:15.109024: I external/local_tsl/tsl/profiler/lib/profiler_session.cc:104] Profiler session initializing.\n",
      "2024-07-31 07:50:15.109088: I external/local_tsl/tsl/profiler/lib/profiler_session.cc:119] Profiler session started.\n",
      "2024-07-31 07:50:15.109542: I external/local_tsl/tsl/profiler/lib/profiler_session.cc:104] Profiler session initializing.\n",
      "2024-07-31 07:50:15.109731: I external/local_tsl/tsl/profiler/lib/profiler_session.cc:119] Profiler session started.\n",
      "2024-07-31 07:50:15.110187: I external/local_tsl/tsl/profiler/lib/profiler_session.cc:104] Profiler session initializing.\n",
      "2024-07-31 07:50:15.110364: I external/local_tsl/tsl/profiler/lib/profiler_session.cc:119] Profiler session started.\n",
      "2024-07-31 07:50:15.110394: I external/local_tsl/tsl/profiler/lib/profiler_session.cc:104] Profiler session initializing.\n",
      "2024-07-31 07:50:15.110397: I external/local_tsl/tsl/profiler/lib/profiler_session.cc:104] Profiler session initializing.\n",
      "2024-07-31 07:50:15.110530: I external/local_tsl/tsl/profiler/lib/profiler_session.cc:119] Profiler session started.\n",
      "2024-07-31 07:50:15.110544: I external/local_tsl/tsl/profiler/lib/profiler_session.cc:119] Profiler session started.\n",
      "2024-07-31 07:50:15.111339: I external/local_tsl/tsl/profiler/lib/profiler_session.cc:104] Profiler session initializing.\n",
      "2024-07-31 07:50:15.111464: I external/local_tsl/tsl/profiler/lib/profiler_session.cc:119] Profiler session started.\n",
      "2024-07-31 07:50:15.111506: I external/local_tsl/tsl/profiler/lib/profiler_session.cc:104] Profiler session initializing.\n",
      "2024-07-31 07:50:15.111667: I external/local_tsl/tsl/profiler/lib/profiler_session.cc:119] Profiler session started.\n",
      "2024-07-31 07:50:15.111705: I external/local_tsl/tsl/profiler/lib/profiler_session.cc:104] Profiler session initializing.\n",
      "2024-07-31 07:50:15.111867: I external/local_tsl/tsl/profiler/lib/profiler_session.cc:119] Profiler session started.\n",
      "2024-07-31 07:50:15.141400: I external/local_xla/xla/backends/profiler/gpu/cupti_tracer.cc:1239] Profiler found 1 GPUs\n",
      "2024-07-31 07:50:15.141905: I external/local_xla/xla/backends/profiler/gpu/cupti_tracer.cc:1239] Profiler found 1 GPUs\n",
      "2024-07-31 07:50:15.142176: I external/local_xla/xla/backends/profiler/gpu/cupti_tracer.cc:1239] Profiler found 1 GPUs\n",
      "2024-07-31 07:50:15.142513: I external/local_xla/xla/backends/profiler/gpu/cupti_tracer.cc:1239] Profiler found 1 GPUs\n",
      "2024-07-31 07:50:15.142880: I external/local_xla/xla/backends/profiler/gpu/cupti_tracer.cc:1239] Profiler found 1 GPUs\n",
      "2024-07-31 07:50:15.143040: I external/local_xla/xla/backends/profiler/gpu/cupti_tracer.cc:1239] Profiler found 1 GPUs\n",
      "2024-07-31 07:50:15.143464: I external/local_xla/xla/backends/profiler/gpu/cupti_tracer.cc:1239] Profiler found 1 GPUs\n",
      "2024-07-31 07:50:15.143794: I external/local_xla/xla/backends/profiler/gpu/cupti_tracer.cc:1239] Profiler found 1 GPUs\n",
      "2024-07-31 07:50:15.153570: I external/local_tsl/tsl/profiler/lib/profiler_session.cc:131] Profiler session tear down.\n",
      "2024-07-31 07:50:15.153792: I external/local_xla/xla/backends/profiler/gpu/cupti_tracer.cc:1364] CUPTI activity buffer flushed\n",
      "2024-07-31 07:50:15.155004: I external/local_tsl/tsl/profiler/lib/profiler_session.cc:131] Profiler session tear down.\n",
      "2024-07-31 07:50:15.155183: I external/local_tsl/tsl/profiler/lib/profiler_session.cc:131] Profiler session tear down.\n",
      "2024-07-31 07:50:15.155199: I external/local_xla/xla/backends/profiler/gpu/cupti_tracer.cc:1364] CUPTI activity buffer flushed\n",
      "2024-07-31 07:50:15.155352: I external/local_xla/xla/backends/profiler/gpu/cupti_tracer.cc:1364] CUPTI activity buffer flushed\n",
      "2024-07-31 07:50:15.155390: I external/local_tsl/tsl/profiler/lib/profiler_session.cc:131] Profiler session tear down.\n",
      "2024-07-31 07:50:15.155505: I external/local_tsl/tsl/profiler/lib/profiler_session.cc:131] Profiler session tear down.\n",
      "2024-07-31 07:50:15.155600: I external/local_tsl/tsl/profiler/lib/profiler_session.cc:131] Profiler session tear down.\n",
      "2024-07-31 07:50:15.155615: I external/local_xla/xla/backends/profiler/gpu/cupti_tracer.cc:1364] CUPTI activity buffer flushed\n",
      "2024-07-31 07:50:15.155713: I external/local_xla/xla/backends/profiler/gpu/cupti_tracer.cc:1364] CUPTI activity buffer flushed\n",
      "2024-07-31 07:50:15.155784: I external/local_xla/xla/backends/profiler/gpu/cupti_tracer.cc:1364] CUPTI activity buffer flushed\n",
      "2024-07-31 07:50:15.156598: I external/local_tsl/tsl/profiler/lib/profiler_session.cc:131] Profiler session tear down.\n",
      "2024-07-31 07:50:15.156764: I external/local_xla/xla/backends/profiler/gpu/cupti_tracer.cc:1364] CUPTI activity buffer flushed\n",
      "2024-07-31 07:50:15.156986: I external/local_tsl/tsl/profiler/lib/profiler_session.cc:131] Profiler session tear down.\n",
      "2024-07-31 07:50:15.157144: I external/local_xla/xla/backends/profiler/gpu/cupti_tracer.cc:1364] CUPTI activity buffer flushed\n",
      "2024-07-31 07:50:15.737465: I tensorflow/core/common_runtime/gpu/gpu_process_state.cc:238] Using CUDA malloc Async allocator for GPU: 0\n",
      "2024-07-31 07:50:15.742967: I tensorflow/core/common_runtime/gpu/gpu_device.cc:1928] Created device /job:localhost/replica:0/task:0/device:GPU:0 with 6713 MB memory:  -> device: 0, name: NVIDIA GeForce RTX 2080, pci bus id: 0000:b3:00.0, compute capability: 7.5\n",
      "2024-07-31 07:50:15.804454: I tensorflow/core/common_runtime/gpu/gpu_process_state.cc:238] Using CUDA malloc Async allocator for GPU: 0\n",
      "2024-07-31 07:50:15.809079: I tensorflow/core/common_runtime/gpu/gpu_device.cc:1928] Created device /job:localhost/replica:0/task:0/device:GPU:0 with 6619 MB memory:  -> device: 0, name: NVIDIA GeForce RTX 2080, pci bus id: 0000:b3:00.0, compute capability: 7.5\n",
      "2024-07-31 07:50:15.866696: I tensorflow/core/common_runtime/gpu/gpu_process_state.cc:238] Using CUDA malloc Async allocator for GPU: 0\n",
      "2024-07-31 07:50:15.869230: I tensorflow/core/common_runtime/gpu/gpu_device.cc:1928] Created device /job:localhost/replica:0/task:0/device:GPU:0 with 6387 MB memory:  -> device: 0, name: NVIDIA GeForce RTX 2080, pci bus id: 0000:b3:00.0, compute capability: 7.5\n",
      "2024-07-31 07:50:15.870644: I tensorflow/core/common_runtime/gpu/gpu_process_state.cc:238] Using CUDA malloc Async allocator for GPU: 0\n",
      "2024-07-31 07:50:15.873486: I tensorflow/core/common_runtime/gpu/gpu_device.cc:1928] Created device /job:localhost/replica:0/task:0/device:GPU:0 with 6349 MB memory:  -> device: 0, name: NVIDIA GeForce RTX 2080, pci bus id: 0000:b3:00.0, compute capability: 7.5\n",
      "2024-07-31 07:50:15.904547: I tensorflow/core/common_runtime/gpu/gpu_process_state.cc:238] Using CUDA malloc Async allocator for GPU: 0\n",
      "2024-07-31 07:50:15.904856: I tensorflow/core/common_runtime/gpu/gpu_device.cc:1928] Created device /job:localhost/replica:0/task:0/device:GPU:0 with 6125 MB memory:  -> device: 0, name: NVIDIA GeForce RTX 2080, pci bus id: 0000:b3:00.0, compute capability: 7.5\n",
      "2024-07-31 07:50:15.912636: I tensorflow/core/common_runtime/gpu/gpu_process_state.cc:238] Using CUDA malloc Async allocator for GPU: 0\n",
      "2024-07-31 07:50:15.912959: I tensorflow/core/common_runtime/gpu/gpu_device.cc:1928] Created device /job:localhost/replica:0/task:0/device:GPU:0 with 5897 MB memory:  -> device: 0, name: NVIDIA GeForce RTX 2080, pci bus id: 0000:b3:00.0, compute capability: 7.5\n",
      "2024-07-31 07:50:15.924849: I tensorflow/core/common_runtime/gpu/gpu_process_state.cc:238] Using CUDA malloc Async allocator for GPU: 0\n",
      "2024-07-31 07:50:15.925256: I tensorflow/core/common_runtime/gpu/gpu_device.cc:1928] Created device /job:localhost/replica:0/task:0/device:GPU:0 with 5897 MB memory:  -> device: 0, name: NVIDIA GeForce RTX 2080, pci bus id: 0000:b3:00.0, compute capability: 7.5\n",
      "2024-07-31 07:50:15.959130: I tensorflow/core/common_runtime/gpu/gpu_process_state.cc:238] Using CUDA malloc Async allocator for GPU: 0\n",
      "2024-07-31 07:50:15.959660: I tensorflow/core/common_runtime/gpu/gpu_device.cc:1928] Created device /job:localhost/replica:0/task:0/device:GPU:0 with 5897 MB memory:  -> device: 0, name: NVIDIA GeForce RTX 2080, pci bus id: 0000:b3:00.0, compute capability: 7.5\n",
      "WARNING: All log messages before absl::InitializeLog() is called are written to STDERR\n",
      "I0000 00:00:1722412217.590649   88146 service.cc:145] XLA service 0x7d4a50014060 initialized for platform CUDA (this does not guarantee that XLA will be used). Devices:\n",
      "I0000 00:00:1722412217.590695   88146 service.cc:153]   StreamExecutor device (0): NVIDIA GeForce RTX 2080, Compute Capability 7.5\n",
      "WARNING: All log messages before absl::InitializeLog() is called are written to STDERR\n",
      "I0000 00:00:1722412217.606864   88115 service.cc:145] XLA service 0x7d4a50014220 initialized for platform CUDA (this does not guarantee that XLA will be used). Devices:\n",
      "I0000 00:00:1722412217.606898   88115 service.cc:153]   StreamExecutor device (0): NVIDIA GeForce RTX 2080, Compute Capability 7.5\n",
      "2024-07-31 07:50:17.626098: I tensorflow/compiler/mlir/tensorflow/utils/dump_mlir_util.cc:268] disabling MLIR crash reproducer, set env var `MLIR_CRASH_REPRODUCER_DIRECTORY` to enable.\n",
      "2024-07-31 07:50:17.641341: I tensorflow/compiler/mlir/tensorflow/utils/dump_mlir_util.cc:268] disabling MLIR crash reproducer, set env var `MLIR_CRASH_REPRODUCER_DIRECTORY` to enable.\n",
      "WARNING: All log messages before absl::InitializeLog() is called are written to STDERR\n",
      "I0000 00:00:1722412217.685008   88179 service.cc:145] XLA service 0x7d4a54013e70 initialized for platform CUDA (this does not guarantee that XLA will be used). Devices:\n",
      "I0000 00:00:1722412217.685054   88179 service.cc:153]   StreamExecutor device (0): NVIDIA GeForce RTX 2080, Compute Capability 7.5\n",
      "WARNING: All log messages before absl::InitializeLog() is called are written to STDERR\n",
      "I0000 00:00:1722412217.707323   88210 service.cc:145] XLA service 0x7d4a54014060 initialized for platform CUDA (this does not guarantee that XLA will be used). Devices:\n",
      "I0000 00:00:1722412217.707367   88210 service.cc:153]   StreamExecutor device (0): NVIDIA GeForce RTX 2080, Compute Capability 7.5\n",
      "2024-07-31 07:50:17.742307: I tensorflow/compiler/mlir/tensorflow/utils/dump_mlir_util.cc:268] disabling MLIR crash reproducer, set env var `MLIR_CRASH_REPRODUCER_DIRECTORY` to enable.\n",
      "2024-07-31 07:50:17.748107: I external/local_xla/xla/stream_executor/cuda/cuda_dnn.cc:465] Loaded cuDNN version 8907\n",
      "2024-07-31 07:50:17.758699: I external/local_xla/xla/stream_executor/cuda/cuda_dnn.cc:465] Loaded cuDNN version 8907\n",
      "2024-07-31 07:50:17.763992: I tensorflow/compiler/mlir/tensorflow/utils/dump_mlir_util.cc:268] disabling MLIR crash reproducer, set env var `MLIR_CRASH_REPRODUCER_DIRECTORY` to enable.\n",
      "2024-07-31 07:50:17.869414: I external/local_xla/xla/stream_executor/cuda/cuda_dnn.cc:465] Loaded cuDNN version 8907\n",
      "2024-07-31 07:50:17.886683: I external/local_xla/xla/stream_executor/cuda/cuda_dnn.cc:465] Loaded cuDNN version 8907\n",
      "WARNING: All log messages before absl::InitializeLog() is called are written to STDERR\n",
      "I0000 00:00:1722412218.397161   88194 service.cc:145] XLA service 0x7d4a54002350 initialized for platform CUDA (this does not guarantee that XLA will be used). Devices:\n",
      "I0000 00:00:1722412218.397200   88194 service.cc:153]   StreamExecutor device (0): NVIDIA GeForce RTX 2080, Compute Capability 7.5\n",
      "WARNING: All log messages before absl::InitializeLog() is called are written to STDERR\n",
      "I0000 00:00:1722412218.409951   88099 service.cc:145] XLA service 0x7d4a50013e70 initialized for platform CUDA (this does not guarantee that XLA will be used). Devices:\n",
      "I0000 00:00:1722412218.409987   88099 service.cc:153]   StreamExecutor device (0): NVIDIA GeForce RTX 2080, Compute Capability 7.5\n",
      "WARNING: All log messages before absl::InitializeLog() is called are written to STDERR\n",
      "I0000 00:00:1722412218.445822   88132 service.cc:145] XLA service 0x7d4a50013ec0 initialized for platform CUDA (this does not guarantee that XLA will be used). Devices:\n",
      "I0000 00:00:1722412218.445863   88132 service.cc:153]   StreamExecutor device (0): NVIDIA GeForce RTX 2080, Compute Capability 7.5\n",
      "2024-07-31 07:50:18.448012: I tensorflow/compiler/mlir/tensorflow/utils/dump_mlir_util.cc:268] disabling MLIR crash reproducer, set env var `MLIR_CRASH_REPRODUCER_DIRECTORY` to enable.\n",
      "WARNING: All log messages before absl::InitializeLog() is called are written to STDERR\n",
      "I0000 00:00:1722412218.449760   88165 service.cc:145] XLA service 0x7d4a54013ec0 initialized for platform CUDA (this does not guarantee that XLA will be used). Devices:\n",
      "I0000 00:00:1722412218.449794   88165 service.cc:153]   StreamExecutor device (0): NVIDIA GeForce RTX 2080, Compute Capability 7.5\n",
      "2024-07-31 07:50:18.456060: I tensorflow/compiler/mlir/tensorflow/utils/dump_mlir_util.cc:268] disabling MLIR crash reproducer, set env var `MLIR_CRASH_REPRODUCER_DIRECTORY` to enable.\n",
      "2024-07-31 07:50:18.495166: I tensorflow/compiler/mlir/tensorflow/utils/dump_mlir_util.cc:268] disabling MLIR crash reproducer, set env var `MLIR_CRASH_REPRODUCER_DIRECTORY` to enable.\n",
      "2024-07-31 07:50:18.499316: I tensorflow/compiler/mlir/tensorflow/utils/dump_mlir_util.cc:268] disabling MLIR crash reproducer, set env var `MLIR_CRASH_REPRODUCER_DIRECTORY` to enable.\n",
      "2024-07-31 07:50:18.571435: I external/local_xla/xla/stream_executor/cuda/cuda_dnn.cc:465] Loaded cuDNN version 8907\n",
      "2024-07-31 07:50:18.577215: I external/local_xla/xla/stream_executor/cuda/cuda_dnn.cc:465] Loaded cuDNN version 8907\n",
      "2024-07-31 07:50:18.603215: I external/local_xla/xla/stream_executor/cuda/cuda_dnn.cc:465] Loaded cuDNN version 8907\n",
      "2024-07-31 07:50:18.625597: I external/local_xla/xla/stream_executor/cuda/cuda_dnn.cc:465] Loaded cuDNN version 8907\n"
     ]
    },
    {
     "name": "stdout",
     "output_type": "stream",
     "text": [
      "\u001b[1m  3/118\u001b[0m \u001b[37m━━━━━━━━━━━━━━━━━━━━\u001b[0m \u001b[1m7s\u001b[0m 67ms/step"
     ]
    },
    {
     "name": "stderr",
     "output_type": "stream",
     "text": [
      "I0000 00:00:1722412219.775322   88146 device_compiler.h:188] Compiled cluster using XLA!  This line is logged at most once for the lifetime of the process.\n"
     ]
    },
    {
     "name": "stdout",
     "output_type": "stream",
     "text": [
      "\u001b[1m  5/118\u001b[0m \u001b[37m━━━━━━━━━━━━━━━━━━━━\u001b[0m \u001b[1m9s\u001b[0m 81ms/step"
     ]
    },
    {
     "name": "stderr",
     "output_type": "stream",
     "text": [
      "I0000 00:00:1722412220.011794   88179 device_compiler.h:188] Compiled cluster using XLA!  This line is logged at most once for the lifetime of the process.\n",
      "I0000 00:00:1722412220.022236   88115 device_compiler.h:188] Compiled cluster using XLA!  This line is logged at most once for the lifetime of the process.\n",
      "I0000 00:00:1722412220.071062   88210 device_compiler.h:188] Compiled cluster using XLA!  This line is logged at most once for the lifetime of the process.\n"
     ]
    },
    {
     "name": "stdout",
     "output_type": "stream",
     "text": [
      "\u001b[1m  4/118\u001b[0m \u001b[37m━━━━━━━━━━━━━━━━━━━━\u001b[0m \u001b[1m33s\u001b[0m 293ms/step50ms/ste"
     ]
    },
    {
     "name": "stderr",
     "output_type": "stream",
     "text": [
      "I0000 00:00:1722412220.706583   88099 device_compiler.h:188] Compiled cluster using XLA!  This line is logged at most once for the lifetime of the process.\n",
      "I0000 00:00:1722412220.733948   88194 device_compiler.h:188] Compiled cluster using XLA!  This line is logged at most once for the lifetime of the process.\n",
      "I0000 00:00:1722412220.821495   88165 device_compiler.h:188] Compiled cluster using XLA!  This line is logged at most once for the lifetime of the process.\n",
      "I0000 00:00:1722412220.881781   88132 device_compiler.h:188] Compiled cluster using XLA!  This line is logged at most once for the lifetime of the process.\n"
     ]
    },
    {
     "name": "stdout",
     "output_type": "stream",
     "text": [
      "\u001b[1m118/118\u001b[0m \u001b[32m━━━━━━━━━━━━━━━━━━━━\u001b[0m\u001b[37m\u001b[0m \u001b[1m73s\u001b[0m 589ms/step\n",
      "\u001b[1m118/118\u001b[0m \u001b[32m━━━━━━━━━━━━━━━━━━━━\u001b[0m\u001b[37m\u001b[0m \u001b[1m73s\u001b[0m 594ms/step\n",
      "\u001b[1m118/118\u001b[0m \u001b[32m━━━━━━━━━━━━━━━━━━━━\u001b[0m\u001b[37m\u001b[0m \u001b[1m74s\u001b[0m 597ms/step\n",
      "\u001b[1m118/118\u001b[0m \u001b[32m━━━━━━━━━━━━━━━━━━━━\u001b[0m\u001b[37m\u001b[0m \u001b[1m74s\u001b[0m 597ms/step\n",
      "\u001b[1m118/118\u001b[0m \u001b[32m━━━━━━━━━━━━━━━━━━━━\u001b[0m\u001b[37m\u001b[0m \u001b[1m74s\u001b[0m 595ms/step\n",
      "\u001b[1m118/118\u001b[0m \u001b[32m━━━━━━━━━━━━━━━━━━━━\u001b[0m\u001b[37m\u001b[0m \u001b[1m75s\u001b[0m 598ms/step\n",
      "\u001b[1m118/118\u001b[0m \u001b[32m━━━━━━━━━━━━━━━━━━━━\u001b[0m\u001b[37m\u001b[0m \u001b[1m75s\u001b[0m 598ms/step\n",
      "\u001b[1m118/118\u001b[0m \u001b[32m━━━━━━━━━━━━━━━━━━━━\u001b[0m\u001b[37m\u001b[0m \u001b[1m75s\u001b[0m 598ms/step\n",
      "\u001b[1m20/20\u001b[0m \u001b[32m━━━━━━━━━━━━━━━━━━━━\u001b[0m\u001b[37m\u001b[0m \u001b[1m8s\u001b[0m 398ms/step\n",
      "\u001b[1m13/20\u001b[0m \u001b[32m━━━━━━━━━━━━━\u001b[0m\u001b[37m━━━━━━━\u001b[0m \u001b[1m3s\u001b[0m 537ms/stepEpoch 1/30\n",
      "\u001b[1m15/20\u001b[0m \u001b[32m━━━━━━━━━━━━━━━\u001b[0m\u001b[37m━━━━━\u001b[0m \u001b[1m2s\u001b[0m 526ms/step"
     ]
    },
    {
     "name": "stderr",
     "output_type": "stream",
     "text": [
      "2024-07-31 07:51:37.922879: I external/local_tsl/tsl/profiler/lib/profiler_session.cc:104] Profiler session initializing.\n",
      "2024-07-31 07:51:37.922920: I external/local_tsl/tsl/profiler/lib/profiler_session.cc:119] Profiler session started.\n"
     ]
    },
    {
     "name": "stdout",
     "output_type": "stream",
     "text": [
      "\u001b[1m19/20\u001b[0m \u001b[32m━━━━━━━━━━━━━━━━━━━\u001b[0m\u001b[37m━\u001b[0m \u001b[1m0s\u001b[0m 507ms/step"
     ]
    },
    {
     "name": "stderr",
     "output_type": "stream",
     "text": [
      "2024-07-31 07:51:41.258957: I external/local_tsl/tsl/profiler/lib/profiler_session.cc:70] Profiler session collecting data.\n",
      "2024-07-31 07:51:41.264314: I external/local_xla/xla/backends/profiler/gpu/cupti_tracer.cc:1364] CUPTI activity buffer flushed\n",
      "2024-07-31 07:51:41.279097: I external/local_xla/xla/backends/profiler/gpu/cupti_collector.cc:540]  GpuTracer has collected 2045 callback api events and 1705 activity events. \n",
      "2024-07-31 07:51:41.293671: I external/local_tsl/tsl/profiler/lib/profiler_session.cc:131] Profiler session tear down.\n",
      "2024-07-31 07:51:41.294730: I external/local_tsl/tsl/profiler/rpc/client/save_profile.cc:144] Collecting XSpace to repository: /workspaces/QML-QPF/multiprocessing/output/20240731-075014/runs/FASHIONMNIST/FASHIONMNISTqcnot1-0-3-2/plugins/profile/2024_07_31_07_51_41/1ba22281c77a.xplane.pb\n"
     ]
    },
    {
     "name": "stdout",
     "output_type": "stream",
     "text": [
      "\u001b[1m20/20\u001b[0m \u001b[32m━━━━━━━━━━━━━━━━━━━━\u001b[0m\u001b[37m\u001b[0m \u001b[1m12s\u001b[0m 655ms/step\n",
      "\u001b[1m20/20\u001b[0m \u001b[32m━━━━━━━━━━━━━━━━━━━━\u001b[0m\u001b[37m\u001b[0m \u001b[1m12s\u001b[0m 650ms/step\n",
      "\u001b[1m20/20\u001b[0m \u001b[32m━━━━━━━━━━━━━━━━━━━━\u001b[0m\u001b[37m\u001b[0m \u001b[1m12s\u001b[0m 637ms/step\n",
      "\u001b[1m20/20\u001b[0m \u001b[32m━━━━━━━━━━━━━━━━━━━━\u001b[0m\u001b[37m\u001b[0m \u001b[1m13s\u001b[0m 664ms/step\n",
      "\u001b[1m20/20\u001b[0m \u001b[32m━━━━━━━━━━━━━━━━━━━━\u001b[0m\u001b[37m\u001b[0m \u001b[1m12s\u001b[0m 617ms/step\n",
      "118/118 - 5s - 44ms/step - accuracy: 0.6918 - loss: 0.9066 - val_accuracy: 0.7804 - val_loss: 0.6338\n",
      "Epoch 2/30\n",
      "\u001b[1m20/20\u001b[0m \u001b[32m━━━━━━━━━━━━━━━━━━━━\u001b[0m\u001b[37m\u001b[0m \u001b[1m12s\u001b[0m 620ms/step\n",
      "\u001b[1m20/20\u001b[0m \u001b[32m━━━━━━━━━━━━━━━━━━━━\u001b[0m\u001b[37m\u001b[0m \u001b[1m12s\u001b[0m 633ms/step\n",
      "Epoch 1/30\n"
     ]
    },
    {
     "name": "stderr",
     "output_type": "stream",
     "text": [
      "2024-07-31 07:51:43.277556: I external/local_tsl/tsl/profiler/lib/profiler_session.cc:104] Profiler session initializing.\n",
      "2024-07-31 07:51:43.277617: I external/local_tsl/tsl/profiler/lib/profiler_session.cc:119] Profiler session started.\n"
     ]
    },
    {
     "name": "stdout",
     "output_type": "stream",
     "text": [
      "Epoch 1/30\n",
      "118/118 - 1s - 7ms/step - accuracy: 0.8043 - loss: 0.5674 - val_accuracy: 0.8055 - val_loss: 0.5553\n",
      "Epoch 3/30\n",
      "Epoch 1/30\n",
      "Epoch 1/30\n"
     ]
    },
    {
     "name": "stderr",
     "output_type": "stream",
     "text": [
      "2024-07-31 07:51:43.773977: I external/local_tsl/tsl/profiler/lib/profiler_session.cc:104] Profiler session initializing.\n",
      "2024-07-31 07:51:43.774633: I external/local_tsl/tsl/profiler/lib/profiler_session.cc:119] Profiler session started.\n",
      "2024-07-31 07:51:43.916244: I external/local_tsl/tsl/profiler/lib/profiler_session.cc:104] Profiler session initializing.\n",
      "2024-07-31 07:51:43.916244: I external/local_tsl/tsl/profiler/lib/profiler_session.cc:104] Profiler session initializing.\n",
      "2024-07-31 07:51:43.916295: I external/local_tsl/tsl/profiler/lib/profiler_session.cc:119] Profiler session started.\n",
      "2024-07-31 07:51:43.916295: I external/local_tsl/tsl/profiler/lib/profiler_session.cc:119] Profiler session started.\n"
     ]
    },
    {
     "name": "stdout",
     "output_type": "stream",
     "text": [
      "Epoch 1/30\n"
     ]
    },
    {
     "name": "stderr",
     "output_type": "stream",
     "text": [
      "2024-07-31 07:51:44.035600: I external/local_tsl/tsl/profiler/lib/profiler_session.cc:104] Profiler session initializing.\n",
      "2024-07-31 07:51:44.035642: I external/local_tsl/tsl/profiler/lib/profiler_session.cc:119] Profiler session started.\n",
      "2024-07-31 07:51:44.246397: I external/local_tsl/tsl/profiler/lib/profiler_session.cc:70] Profiler session collecting data.\n",
      "2024-07-31 07:51:44.253130: I external/local_xla/xla/backends/profiler/gpu/cupti_tracer.cc:1364] CUPTI activity buffer flushed\n",
      "2024-07-31 07:51:44.264405: I external/local_xla/xla/backends/profiler/gpu/cupti_collector.cc:540]  GpuTracer has collected 2047 callback api events and 1706 activity events. \n",
      "2024-07-31 07:51:44.277942: I external/local_tsl/tsl/profiler/lib/profiler_session.cc:131] Profiler session tear down.\n",
      "2024-07-31 07:51:44.279478: I external/local_tsl/tsl/profiler/rpc/client/save_profile.cc:144] Collecting XSpace to repository: /workspaces/QML-QPF/multiprocessing/output/20240731-075014/runs/FASHIONMNIST/FASHIONMNISTqcnot0-1-2-3/plugins/profile/2024_07_31_07_51_44/1ba22281c77a.xplane.pb\n"
     ]
    },
    {
     "name": "stdout",
     "output_type": "stream",
     "text": [
      "118/118 - 1s - 6ms/step - accuracy: 0.8224 - loss: 0.5112 - val_accuracy: 0.8162 - val_loss: 0.5230\n",
      "Epoch 4/30\n"
     ]
    },
    {
     "name": "stderr",
     "output_type": "stream",
     "text": [
      "2024-07-31 07:51:44.742759: I external/local_tsl/tsl/profiler/lib/profiler_session.cc:70] Profiler session collecting data.\n",
      "2024-07-31 07:51:44.749340: I external/local_xla/xla/backends/profiler/gpu/cupti_tracer.cc:1364] CUPTI activity buffer flushed\n",
      "2024-07-31 07:51:44.761250: I external/local_xla/xla/backends/profiler/gpu/cupti_collector.cc:540]  GpuTracer has collected 2047 callback api events and 1706 activity events. \n",
      "2024-07-31 07:51:44.778077: I external/local_tsl/tsl/profiler/lib/profiler_session.cc:131] Profiler session tear down.\n",
      "2024-07-31 07:51:44.779315: I external/local_tsl/tsl/profiler/rpc/client/save_profile.cc:144] Collecting XSpace to repository: /workspaces/QML-QPF/multiprocessing/output/20240731-075014/runs/FASHIONMNIST/FASHIONMNISTqcnot0-1-3-2/plugins/profile/2024_07_31_07_51_44/1ba22281c77a.xplane.pb\n",
      "2024-07-31 07:51:44.951983: I external/local_tsl/tsl/profiler/lib/profiler_session.cc:70] Profiler session collecting data.\n",
      "2024-07-31 07:51:44.958965: I external/local_xla/xla/backends/profiler/gpu/cupti_tracer.cc:1364] CUPTI activity buffer flushed\n",
      "2024-07-31 07:51:44.970948: I external/local_xla/xla/backends/profiler/gpu/cupti_collector.cc:540]  GpuTracer has collected 2047 callback api events and 1706 activity events. \n",
      "2024-07-31 07:51:44.988543: I external/local_tsl/tsl/profiler/lib/profiler_session.cc:131] Profiler session tear down.\n",
      "2024-07-31 07:51:44.989683: I external/local_tsl/tsl/profiler/rpc/client/save_profile.cc:144] Collecting XSpace to repository: /workspaces/QML-QPF/multiprocessing/output/20240731-075014/runs/FASHIONMNIST/FASHIONMNISTqcnot2-0-1-3/plugins/profile/2024_07_31_07_51_44/1ba22281c77a.xplane.pb\n",
      "2024-07-31 07:51:45.036127: I external/local_tsl/tsl/profiler/lib/profiler_session.cc:70] Profiler session collecting data.\n",
      "2024-07-31 07:51:45.041927: I external/local_tsl/tsl/profiler/lib/profiler_session.cc:70] Profiler session collecting data.\n",
      "2024-07-31 07:51:45.042658: I external/local_xla/xla/backends/profiler/gpu/cupti_tracer.cc:1364] CUPTI activity buffer flushed\n",
      "2024-07-31 07:51:45.048580: I external/local_xla/xla/backends/profiler/gpu/cupti_tracer.cc:1364] CUPTI activity buffer flushed\n",
      "2024-07-31 07:51:45.054377: I external/local_xla/xla/backends/profiler/gpu/cupti_collector.cc:540]  GpuTracer has collected 2045 callback api events and 1705 activity events. \n",
      "2024-07-31 07:51:45.060165: I external/local_xla/xla/backends/profiler/gpu/cupti_collector.cc:540]  GpuTracer has collected 2045 callback api events and 1705 activity events. \n",
      "2024-07-31 07:51:45.070056: I external/local_tsl/tsl/profiler/lib/profiler_session.cc:131] Profiler session tear down.\n",
      "2024-07-31 07:51:45.071229: I external/local_tsl/tsl/profiler/rpc/client/save_profile.cc:144] Collecting XSpace to repository: /workspaces/QML-QPF/multiprocessing/output/20240731-075014/runs/FASHIONMNIST/FASHIONMNISTqcnot1-0-2-3/plugins/profile/2024_07_31_07_51_45/1ba22281c77a.xplane.pb\n",
      "2024-07-31 07:51:45.075147: I external/local_tsl/tsl/profiler/lib/profiler_session.cc:131] Profiler session tear down.\n",
      "2024-07-31 07:51:45.076431: I external/local_tsl/tsl/profiler/rpc/client/save_profile.cc:144] Collecting XSpace to repository: /workspaces/QML-QPF/multiprocessing/output/20240731-075014/runs/FASHIONMNIST/FASHIONMNISTqcnot0-2-1-3/plugins/profile/2024_07_31_07_51_45/1ba22281c77a.xplane.pb\n"
     ]
    },
    {
     "name": "stdout",
     "output_type": "stream",
     "text": [
      "118/118 - 1s - 7ms/step - accuracy: 0.8319 - loss: 0.4829 - val_accuracy: 0.8229 - val_loss: 0.5047\n",
      "Epoch 5/30\n",
      "118/118 - 3s - 25ms/step - accuracy: 0.6969 - loss: 0.8905 - val_accuracy: 0.7866 - val_loss: 0.6239\n",
      "118/118 - 1s - 6ms/step - accuracy: 0.8381 - loss: 0.4652 - val_accuracy: 0.8269 - val_loss: 0.4928\n",
      "Epoch 2/30\n",
      "Epoch 6/30\n",
      "118/118 - 3s - 24ms/step - accuracy: 0.6770 - loss: 0.9379 - val_accuracy: 0.7820 - val_loss: 0.6359\n",
      "Epoch 2/30\n",
      "118/118 - 3s - 24ms/step - accuracy: 0.6817 - loss: 0.9413 - val_accuracy: 0.7697 - val_loss: 0.6580\n",
      "Epoch 2/30\n",
      "118/118 - 3s - 26ms/step - accuracy: 0.6859 - loss: 0.9228 - val_accuracy: 0.7775 - val_loss: 0.6328\n",
      "Epoch 2/30\n",
      "118/118 - 3s - 25ms/step - accuracy: 0.6673 - loss: 0.9782 - val_accuracy: 0.7663 - val_loss: 0.6656\n",
      "118/118 - 1s - 6ms/step - accuracy: 0.8422 - loss: 0.4527 - val_accuracy: 0.8298 - val_loss: 0.4844\n",
      "Epoch 2/30\n",
      "Epoch 7/30\n",
      "118/118 - 1s - 7ms/step - accuracy: 0.8087 - loss: 0.5592 - val_accuracy: 0.8110 - val_loss: 0.5472\n",
      "Epoch 3/30\n",
      "118/118 - 1s - 7ms/step - accuracy: 0.8051 - loss: 0.5669 - val_accuracy: 0.8081 - val_loss: 0.5505\n",
      "Epoch 3/30\n",
      "118/118 - 1s - 7ms/step - accuracy: 0.7976 - loss: 0.5809 - val_accuracy: 0.7968 - val_loss: 0.5731\n",
      "Epoch 3/30\n",
      "118/118 - 1s - 7ms/step - accuracy: 0.8075 - loss: 0.5609 - val_accuracy: 0.8072 - val_loss: 0.5486\n",
      "Epoch 3/30\n",
      "118/118 - 1s - 7ms/step - accuracy: 0.8455 - loss: 0.4433 - val_accuracy: 0.8323 - val_loss: 0.4782\n",
      "Epoch 8/30\n",
      "118/118 - 1s - 7ms/step - accuracy: 0.7952 - loss: 0.5895 - val_accuracy: 0.7968 - val_loss: 0.5792\n",
      "Epoch 3/30\n",
      "118/118 - 1s - 7ms/step - accuracy: 0.8251 - loss: 0.5043 - val_accuracy: 0.8209 - val_loss: 0.5160\n",
      "Epoch 4/30\n",
      "118/118 - 1s - 7ms/step - accuracy: 0.8252 - loss: 0.5055 - val_accuracy: 0.8231 - val_loss: 0.5152\n",
      "Epoch 4/30\n",
      "118/118 - 1s - 7ms/step - accuracy: 0.8175 - loss: 0.5204 - val_accuracy: 0.8097 - val_loss: 0.5369\n",
      "Epoch 4/30\n",
      "118/118 - 1s - 6ms/step - accuracy: 0.8252 - loss: 0.5017 - val_accuracy: 0.8194 - val_loss: 0.5141\n",
      "Epoch 4/30\n",
      "118/118 - 1s - 7ms/step - accuracy: 0.8482 - loss: 0.4359 - val_accuracy: 0.8333 - val_loss: 0.4735\n",
      "Epoch 9/30\n",
      "118/118 - 1s - 6ms/step - accuracy: 0.8143 - loss: 0.5294 - val_accuracy: 0.8082 - val_loss: 0.5441\n",
      "Epoch 4/30\n",
      "118/118 - 1s - 6ms/step - accuracy: 0.8340 - loss: 0.4770 - val_accuracy: 0.8254 - val_loss: 0.4986\n",
      "Epoch 5/30\n",
      "118/118 - 1s - 6ms/step - accuracy: 0.8291 - loss: 0.4893 - val_accuracy: 0.8165 - val_loss: 0.5160\n",
      "Epoch 5/30\n",
      "118/118 - 1s - 7ms/step - accuracy: 0.8360 - loss: 0.4719 - val_accuracy: 0.8261 - val_loss: 0.4949\n",
      "Epoch 5/30\n",
      "118/118 - 1s - 6ms/step - accuracy: 0.8504 - loss: 0.4298 - val_accuracy: 0.8350 - val_loss: 0.4699\n",
      "Epoch 10/30\n",
      "118/118 - 1s - 6ms/step - accuracy: 0.8242 - loss: 0.4991 - val_accuracy: 0.8140 - val_loss: 0.5243\n",
      "Epoch 5/30\n",
      "118/118 - 1s - 7ms/step - accuracy: 0.8396 - loss: 0.4599 - val_accuracy: 0.8280 - val_loss: 0.4871\n",
      "Epoch 6/30\n",
      "118/118 - 1s - 11ms/step - accuracy: 0.8350 - loss: 0.4747 - val_accuracy: 0.8292 - val_loss: 0.4956\n",
      "Epoch 5/30\n",
      "118/118 - 1s - 7ms/step - accuracy: 0.8349 - loss: 0.4695 - val_accuracy: 0.8213 - val_loss: 0.5022\n",
      "Epoch 6/30\n",
      "118/118 - 1s - 7ms/step - accuracy: 0.8426 - loss: 0.4532 - val_accuracy: 0.8293 - val_loss: 0.4825\n",
      "Epoch 6/30\n",
      "118/118 - 1s - 6ms/step - accuracy: 0.8519 - loss: 0.4248 - val_accuracy: 0.8356 - val_loss: 0.4670\n",
      "Epoch 11/30\n",
      "118/118 - 1s - 7ms/step - accuracy: 0.8309 - loss: 0.4800 - val_accuracy: 0.8195 - val_loss: 0.5115\n",
      "Epoch 6/30\n",
      "118/118 - 1s - 7ms/step - accuracy: 0.8436 - loss: 0.4478 - val_accuracy: 0.8292 - val_loss: 0.4790\n",
      "Epoch 7/30\n",
      "118/118 - 1s - 6ms/step - accuracy: 0.8415 - loss: 0.4554 - val_accuracy: 0.8333 - val_loss: 0.4830\n",
      "Epoch 6/30\n",
      "118/118 - 1s - 6ms/step - accuracy: 0.8396 - loss: 0.4555 - val_accuracy: 0.8266 - val_loss: 0.4924\n",
      "Epoch 7/30\n",
      "118/118 - 1s - 6ms/step - accuracy: 0.8471 - loss: 0.4401 - val_accuracy: 0.8312 - val_loss: 0.4739\n",
      "Epoch 7/30\n",
      "118/118 - 1s - 6ms/step - accuracy: 0.8536 - loss: 0.4205 - val_accuracy: 0.8359 - val_loss: 0.4646\n",
      "Epoch 12/30\n",
      "118/118 - 1s - 6ms/step - accuracy: 0.8465 - loss: 0.4386 - val_accuracy: 0.8312 - val_loss: 0.4729\n",
      "Epoch 8/30\n",
      "118/118 - 1s - 6ms/step - accuracy: 0.8465 - loss: 0.4419 - val_accuracy: 0.8355 - val_loss: 0.4740\n",
      "Epoch 7/30\n",
      "118/118 - 1s - 11ms/step - accuracy: 0.8352 - loss: 0.4664 - val_accuracy: 0.8225 - val_loss: 0.5024\n",
      "Epoch 7/30\n",
      "118/118 - 1s - 7ms/step - accuracy: 0.8433 - loss: 0.4448 - val_accuracy: 0.8297 - val_loss: 0.4850\n",
      "Epoch 8/30\n",
      "118/118 - 1s - 7ms/step - accuracy: 0.8503 - loss: 0.4302 - val_accuracy: 0.8327 - val_loss: 0.4675\n",
      "Epoch 8/30\n",
      "Epoch 1/30\n",
      "118/118 - 1s - 7ms/step - accuracy: 0.8546 - loss: 0.4168 - val_accuracy: 0.8365 - val_loss: 0.4627\n",
      "Epoch 13/30\n",
      "118/118 - 1s - 7ms/step - accuracy: 0.8490 - loss: 0.4314 - val_accuracy: 0.8332 - val_loss: 0.4682\n",
      "Epoch 9/30\n",
      "118/118 - 1s - 7ms/step - accuracy: 0.8502 - loss: 0.4317 - val_accuracy: 0.8378 - val_loss: 0.4673\n",
      "Epoch 8/30\n"
     ]
    },
    {
     "name": "stderr",
     "output_type": "stream",
     "text": [
      "2024-07-31 07:51:51.618030: I external/local_tsl/tsl/profiler/lib/profiler_session.cc:104] Profiler session initializing.\n",
      "2024-07-31 07:51:51.618081: I external/local_tsl/tsl/profiler/lib/profiler_session.cc:119] Profiler session started.\n"
     ]
    },
    {
     "name": "stdout",
     "output_type": "stream",
     "text": [
      "118/118 - 1s - 7ms/step - accuracy: 0.8390 - loss: 0.4562 - val_accuracy: 0.8239 - val_loss: 0.4957\n",
      "Epoch 8/30\n",
      "118/118 - 1s - 7ms/step - accuracy: 0.8461 - loss: 0.4365 - val_accuracy: 0.8315 - val_loss: 0.4793\n",
      "Epoch 9/30\n",
      "118/118 - 1s - 7ms/step - accuracy: 0.8529 - loss: 0.4225 - val_accuracy: 0.8341 - val_loss: 0.4626\n",
      "Epoch 9/30\n",
      "118/118 - 1s - 7ms/step - accuracy: 0.8557 - loss: 0.4135 - val_accuracy: 0.8359 - val_loss: 0.4611\n",
      "Epoch 14/30\n",
      "118/118 - 1s - 7ms/step - accuracy: 0.8513 - loss: 0.4255 - val_accuracy: 0.8343 - val_loss: 0.4644\n",
      "Epoch 10/30\n",
      "Epoch 1/30\n",
      "118/118 - 1s - 7ms/step - accuracy: 0.8530 - loss: 0.4237 - val_accuracy: 0.8389 - val_loss: 0.4621\n",
      "Epoch 9/30\n"
     ]
    },
    {
     "name": "stderr",
     "output_type": "stream",
     "text": [
      "2024-07-31 07:51:52.603019: I external/local_tsl/tsl/profiler/lib/profiler_session.cc:104] Profiler session initializing.\n",
      "2024-07-31 07:51:52.603070: I external/local_tsl/tsl/profiler/lib/profiler_session.cc:119] Profiler session started.\n",
      "2024-07-31 07:51:52.808990: I external/local_tsl/tsl/profiler/lib/profiler_session.cc:70] Profiler session collecting data.\n",
      "2024-07-31 07:51:52.815712: I external/local_xla/xla/backends/profiler/gpu/cupti_tracer.cc:1364] CUPTI activity buffer flushed\n",
      "2024-07-31 07:51:52.828230: I external/local_xla/xla/backends/profiler/gpu/cupti_collector.cc:540]  GpuTracer has collected 2045 callback api events and 1705 activity events. \n",
      "2024-07-31 07:51:52.843883: I external/local_tsl/tsl/profiler/lib/profiler_session.cc:131] Profiler session tear down.\n",
      "2024-07-31 07:51:52.845255: I external/local_tsl/tsl/profiler/rpc/client/save_profile.cc:144] Collecting XSpace to repository: /workspaces/QML-QPF/multiprocessing/output/20240731-075014/runs/FASHIONMNIST/FASHIONMNISTqcnot2-1-0-3/plugins/profile/2024_07_31_07_51_52/1ba22281c77a.xplane.pb\n"
     ]
    },
    {
     "name": "stdout",
     "output_type": "stream",
     "text": [
      "118/118 - 1s - 7ms/step - accuracy: 0.8423 - loss: 0.4481 - val_accuracy: 0.8249 - val_loss: 0.4905\n",
      "Epoch 9/30\n",
      "118/118 - 1s - 7ms/step - accuracy: 0.8555 - loss: 0.4161 - val_accuracy: 0.8349 - val_loss: 0.4587\n",
      "Epoch 10/30\n",
      "118/118 - 1s - 7ms/step - accuracy: 0.8569 - loss: 0.4106 - val_accuracy: 0.8357 - val_loss: 0.4598\n",
      "Epoch 15/30\n",
      "118/118 - 1s - 7ms/step - accuracy: 0.8531 - loss: 0.4206 - val_accuracy: 0.8350 - val_loss: 0.4613\n",
      "Epoch 11/30\n",
      "118/118 - 1s - 7ms/step - accuracy: 0.8554 - loss: 0.4172 - val_accuracy: 0.8401 - val_loss: 0.4579\n",
      "Epoch 10/30\n",
      "118/118 - 1s - 11ms/step - accuracy: 0.8487 - loss: 0.4297 - val_accuracy: 0.8318 - val_loss: 0.4747\n",
      "Epoch 10/30\n"
     ]
    },
    {
     "name": "stderr",
     "output_type": "stream",
     "text": [
      "2024-07-31 07:51:53.708176: I external/local_tsl/tsl/profiler/lib/profiler_session.cc:70] Profiler session collecting data.\n",
      "2024-07-31 07:51:53.715124: I external/local_xla/xla/backends/profiler/gpu/cupti_tracer.cc:1364] CUPTI activity buffer flushed\n",
      "2024-07-31 07:51:53.732443: I external/local_xla/xla/backends/profiler/gpu/cupti_collector.cc:540]  GpuTracer has collected 2045 callback api events and 1705 activity events. \n",
      "2024-07-31 07:51:53.748926: I external/local_tsl/tsl/profiler/lib/profiler_session.cc:131] Profiler session tear down.\n",
      "2024-07-31 07:51:53.750314: I external/local_tsl/tsl/profiler/rpc/client/save_profile.cc:144] Collecting XSpace to repository: /workspaces/QML-QPF/multiprocessing/output/20240731-075014/runs/FASHIONMNIST/FASHIONMNISTqcnot1-2-0-3/plugins/profile/2024_07_31_07_51_53/1ba22281c77a.xplane.pb\n"
     ]
    },
    {
     "name": "stdout",
     "output_type": "stream",
     "text": [
      "118/118 - 1s - 7ms/step - accuracy: 0.8543 - loss: 0.4163 - val_accuracy: 0.8362 - val_loss: 0.4588\n",
      "Epoch 12/30\n",
      "118/118 - 1s - 7ms/step - accuracy: 0.8570 - loss: 0.4117 - val_accuracy: 0.8418 - val_loss: 0.4546\n",
      "Epoch 11/30\n",
      "118/118 - 1s - 11ms/step - accuracy: 0.8445 - loss: 0.4416 - val_accuracy: 0.8269 - val_loss: 0.4864\n",
      "Epoch 10/30\n",
      "118/118 - 1s - 7ms/step - accuracy: 0.8512 - loss: 0.4240 - val_accuracy: 0.8323 - val_loss: 0.4710\n",
      "Epoch 11/30\n",
      "118/118 - 1s - 11ms/step - accuracy: 0.8574 - loss: 0.4108 - val_accuracy: 0.8366 - val_loss: 0.4555\n",
      "Epoch 11/30\n",
      "118/118 - 1s - 11ms/step - accuracy: 0.8575 - loss: 0.4081 - val_accuracy: 0.8363 - val_loss: 0.4587\n",
      "Epoch 16/30\n",
      "118/118 - 3s - 28ms/step - accuracy: 0.6849 - loss: 0.9233 - val_accuracy: 0.7752 - val_loss: 0.6410\n",
      "Epoch 2/30\n",
      "118/118 - 1s - 7ms/step - accuracy: 0.8557 - loss: 0.4127 - val_accuracy: 0.8369 - val_loss: 0.4567\n",
      "Epoch 13/30\n",
      "118/118 - 1s - 7ms/step - accuracy: 0.8586 - loss: 0.4071 - val_accuracy: 0.8430 - val_loss: 0.4518\n",
      "Epoch 12/30\n",
      "118/118 - 1s - 7ms/step - accuracy: 0.8464 - loss: 0.4361 - val_accuracy: 0.8275 - val_loss: 0.4831\n",
      "Epoch 11/30\n",
      "118/118 - 1s - 7ms/step - accuracy: 0.8530 - loss: 0.4191 - val_accuracy: 0.8337 - val_loss: 0.4680\n",
      "Epoch 12/30\n",
      "118/118 - 1s - 7ms/step - accuracy: 0.8588 - loss: 0.4063 - val_accuracy: 0.8372 - val_loss: 0.4530\n",
      "Epoch 12/30\n",
      "118/118 - 1s - 7ms/step - accuracy: 0.8580 - loss: 0.4057 - val_accuracy: 0.8363 - val_loss: 0.4577\n",
      "Epoch 17/30\n",
      "118/118 - 1s - 7ms/step - accuracy: 0.7992 - loss: 0.5735 - val_accuracy: 0.8010 - val_loss: 0.5624\n",
      "Epoch 3/30\n",
      "118/118 - 3s - 27ms/step - accuracy: 0.6743 - loss: 0.9367 - val_accuracy: 0.7744 - val_loss: 0.6411\n",
      "Epoch 2/30\n",
      "118/118 - 1s - 7ms/step - accuracy: 0.8567 - loss: 0.4095 - val_accuracy: 0.8378 - val_loss: 0.4549\n",
      "Epoch 14/30\n",
      "118/118 - 1s - 7ms/step - accuracy: 0.8480 - loss: 0.4314 - val_accuracy: 0.8283 - val_loss: 0.4804\n",
      "Epoch 12/30\n",
      "118/118 - 1s - 7ms/step - accuracy: 0.8542 - loss: 0.4150 - val_accuracy: 0.8351 - val_loss: 0.4654\n",
      "Epoch 13/30\n",
      "118/118 - 1s - 7ms/step - accuracy: 0.8601 - loss: 0.4024 - val_accuracy: 0.8382 - val_loss: 0.4508\n",
      "Epoch 13/30\n",
      "118/118 - 1s - 7ms/step - accuracy: 0.8586 - loss: 0.4036 - val_accuracy: 0.8365 - val_loss: 0.4569\n",
      "Epoch 18/30\n",
      "118/118 - 1s - 11ms/step - accuracy: 0.8598 - loss: 0.4031 - val_accuracy: 0.8445 - val_loss: 0.4494\n",
      "Epoch 13/30\n",
      "118/118 - 1s - 7ms/step - accuracy: 0.8196 - loss: 0.5154 - val_accuracy: 0.8153 - val_loss: 0.5284\n",
      "Epoch 4/30\n",
      "118/118 - 1s - 7ms/step - accuracy: 0.8015 - loss: 0.5728 - val_accuracy: 0.8024 - val_loss: 0.5579\n",
      "Epoch 3/30\n",
      "118/118 - 1s - 7ms/step - accuracy: 0.8579 - loss: 0.4066 - val_accuracy: 0.8388 - val_loss: 0.4533\n",
      "Epoch 15/30\n",
      "118/118 - 1s - 7ms/step - accuracy: 0.8553 - loss: 0.4113 - val_accuracy: 0.8358 - val_loss: 0.4632\n",
      "Epoch 14/30\n",
      "118/118 - 1s - 7ms/step - accuracy: 0.8611 - loss: 0.3990 - val_accuracy: 0.8382 - val_loss: 0.4490\n",
      "Epoch 14/30\n",
      "118/118 - 1s - 7ms/step - accuracy: 0.8608 - loss: 0.3996 - val_accuracy: 0.8452 - val_loss: 0.4474\n",
      "Epoch 14/30\n",
      "118/118 - 1s - 10ms/step - accuracy: 0.8493 - loss: 0.4274 - val_accuracy: 0.8286 - val_loss: 0.4781\n",
      "Epoch 13/30\n",
      "118/118 - 1s - 7ms/step - accuracy: 0.8301 - loss: 0.4853 - val_accuracy: 0.8218 - val_loss: 0.5088\n",
      "Epoch 5/30\n",
      "118/118 - 1s - 7ms/step - accuracy: 0.8207 - loss: 0.5128 - val_accuracy: 0.8140 - val_loss: 0.5234\n",
      "Epoch 4/30\n",
      "118/118 - 1s - 7ms/step - accuracy: 0.8587 - loss: 0.4041 - val_accuracy: 0.8396 - val_loss: 0.4520\n",
      "Epoch 16/30\n",
      "118/118 - 1s - 10ms/step - accuracy: 0.8593 - loss: 0.4017 - val_accuracy: 0.8371 - val_loss: 0.4562\n",
      "Epoch 19/30\n",
      "118/118 - 1s - 7ms/step - accuracy: 0.8620 - loss: 0.3965 - val_accuracy: 0.8453 - val_loss: 0.4457\n",
      "Epoch 15/30\n",
      "118/118 - 1s - 7ms/step - accuracy: 0.8505 - loss: 0.4239 - val_accuracy: 0.8295 - val_loss: 0.4762\n",
      "Epoch 14/30\n",
      "118/118 - 1s - 11ms/step - accuracy: 0.8566 - loss: 0.4081 - val_accuracy: 0.8364 - val_loss: 0.4614\n",
      "Epoch 15/30\n",
      "118/118 - 1s - 7ms/step - accuracy: 0.8366 - loss: 0.4661 - val_accuracy: 0.8259 - val_loss: 0.4958\n",
      "Epoch 6/30\n",
      "118/118 - 1s - 11ms/step - accuracy: 0.8619 - loss: 0.3959 - val_accuracy: 0.8377 - val_loss: 0.4474\n",
      "118/118 - 1s - 7ms/step - accuracy: 0.8314 - loss: 0.4822 - val_accuracy: 0.8195 - val_loss: 0.5039\n",
      "Epoch 15/30\n",
      "Epoch 5/30\n",
      "118/118 - 1s - 7ms/step - accuracy: 0.8594 - loss: 0.4018 - val_accuracy: 0.8403 - val_loss: 0.4508\n",
      "Epoch 17/30\n",
      "118/118 - 1s - 7ms/step - accuracy: 0.8598 - loss: 0.3999 - val_accuracy: 0.8372 - val_loss: 0.4557\n",
      "Epoch 20/30\n",
      "118/118 - 1s - 7ms/step - accuracy: 0.8517 - loss: 0.4208 - val_accuracy: 0.8308 - val_loss: 0.4746\n",
      "Epoch 15/30\n",
      "118/118 - 1s - 7ms/step - accuracy: 0.8407 - loss: 0.4525 - val_accuracy: 0.8294 - val_loss: 0.4866\n",
      "Epoch 7/30\n",
      "118/118 - 1s - 7ms/step - accuracy: 0.8603 - loss: 0.3997 - val_accuracy: 0.8409 - val_loss: 0.4498\n",
      "Epoch 18/30\n",
      "118/118 - 1s - 7ms/step - accuracy: 0.8602 - loss: 0.3983 - val_accuracy: 0.8378 - val_loss: 0.4552\n",
      "Epoch 21/30\n",
      "118/118 - 1s - 11ms/step - accuracy: 0.8629 - loss: 0.3937 - val_accuracy: 0.8449 - val_loss: 0.4442\n",
      "Epoch 16/30\n",
      "118/118 - 1s - 11ms/step - accuracy: 0.8574 - loss: 0.4052 - val_accuracy: 0.8366 - val_loss: 0.4598\n",
      "Epoch 16/30\n",
      "118/118 - 1s - 11ms/step - accuracy: 0.8377 - loss: 0.4629 - val_accuracy: 0.8248 - val_loss: 0.4912\n",
      "Epoch 6/30\n",
      "118/118 - 1s - 11ms/step - accuracy: 0.8632 - loss: 0.3932 - val_accuracy: 0.8379 - val_loss: 0.4461\n",
      "Epoch 16/30\n",
      "118/118 - 1s - 7ms/step - accuracy: 0.8526 - loss: 0.4180 - val_accuracy: 0.8318 - val_loss: 0.4732\n",
      "Epoch 16/30\n",
      "118/118 - 1s - 7ms/step - accuracy: 0.8442 - loss: 0.4422 - val_accuracy: 0.8309 - val_loss: 0.4796\n",
      "Epoch 8/30\n",
      "118/118 - 1s - 7ms/step - accuracy: 0.8610 - loss: 0.3978 - val_accuracy: 0.8410 - val_loss: 0.4489\n",
      "Epoch 19/30\n",
      "118/118 - 1s - 7ms/step - accuracy: 0.8606 - loss: 0.3968 - val_accuracy: 0.8378 - val_loss: 0.4548\n",
      "Epoch 22/30\n",
      "118/118 - 1s - 7ms/step - accuracy: 0.8637 - loss: 0.3912 - val_accuracy: 0.8450 - val_loss: 0.4429\n",
      "Epoch 17/30\n",
      "118/118 - 1s - 7ms/step - accuracy: 0.8582 - loss: 0.4026 - val_accuracy: 0.8367 - val_loss: 0.4585\n",
      "Epoch 17/30\n",
      "118/118 - 1s - 7ms/step - accuracy: 0.8428 - loss: 0.4493 - val_accuracy: 0.8282 - val_loss: 0.4823\n",
      "Epoch 7/30\n",
      "118/118 - 1s - 7ms/step - accuracy: 0.8537 - loss: 0.4154 - val_accuracy: 0.8325 - val_loss: 0.4720\n",
      "Epoch 17/30\n",
      "118/118 - 1s - 10ms/step - accuracy: 0.8640 - loss: 0.3907 - val_accuracy: 0.8386 - val_loss: 0.4449\n",
      "Epoch 17/30\n",
      "118/118 - 1s - 7ms/step - accuracy: 0.8612 - loss: 0.3954 - val_accuracy: 0.8381 - val_loss: 0.4544\n",
      "Epoch 23/30\n",
      "118/118 - 1s - 7ms/step - accuracy: 0.8646 - loss: 0.3889 - val_accuracy: 0.8455 - val_loss: 0.4418\n",
      "Epoch 18/30\n",
      "118/118 - 1s - 7ms/step - accuracy: 0.8589 - loss: 0.4002 - val_accuracy: 0.8374 - val_loss: 0.4573\n",
      "Epoch 18/30\n",
      "118/118 - 1s - 7ms/step - accuracy: 0.8460 - loss: 0.4391 - val_accuracy: 0.8303 - val_loss: 0.4757\n",
      "Epoch 8/30\n",
      "118/118 - 1s - 10ms/step - accuracy: 0.8468 - loss: 0.4339 - val_accuracy: 0.8319 - val_loss: 0.4741\n",
      "Epoch 9/30\n",
      "118/118 - 1s - 10ms/step - accuracy: 0.8615 - loss: 0.3960 - val_accuracy: 0.8416 - val_loss: 0.4481\n",
      "Epoch 20/30\n",
      "118/118 - 1s - 7ms/step - accuracy: 0.8546 - loss: 0.4131 - val_accuracy: 0.8326 - val_loss: 0.4710\n",
      "Epoch 18/30\n",
      "118/118 - 1s - 7ms/step - accuracy: 0.8652 - loss: 0.3868 - val_accuracy: 0.8455 - val_loss: 0.4408\n",
      "Epoch 19/30\n",
      "118/118 - 1s - 7ms/step - accuracy: 0.8595 - loss: 0.3981 - val_accuracy: 0.8370 - val_loss: 0.4563\n",
      "Epoch 19/30\n",
      "118/118 - 1s - 7ms/step - accuracy: 0.8621 - loss: 0.3944 - val_accuracy: 0.8422 - val_loss: 0.4474\n",
      "Epoch 21/30\n",
      "118/118 - 1s - 7ms/step - accuracy: 0.8492 - loss: 0.4272 - val_accuracy: 0.8335 - val_loss: 0.4697\n",
      "Epoch 10/30\n",
      "118/118 - 1s - 11ms/step - accuracy: 0.8649 - loss: 0.3884 - val_accuracy: 0.8390 - val_loss: 0.4439\n",
      "Epoch 18/30\n",
      "118/118 - 1s - 11ms/step - accuracy: 0.8616 - loss: 0.3941 - val_accuracy: 0.8378 - val_loss: 0.4541\n",
      "Epoch 24/30\n",
      "118/118 - 1s - 7ms/step - accuracy: 0.8554 - loss: 0.4110 - val_accuracy: 0.8328 - val_loss: 0.4702\n",
      "Epoch 19/30\n",
      "118/118 - 1s - 11ms/step - accuracy: 0.8484 - loss: 0.4310 - val_accuracy: 0.8318 - val_loss: 0.4706\n",
      "Epoch 9/30\n",
      "118/118 - 1s - 7ms/step - accuracy: 0.8601 - loss: 0.3961 - val_accuracy: 0.8370 - val_loss: 0.4554\n",
      "Epoch 20/30\n",
      "118/118 - 1s - 7ms/step - accuracy: 0.8625 - loss: 0.3928 - val_accuracy: 0.8425 - val_loss: 0.4467\n",
      "Epoch 22/30\n",
      "118/118 - 1s - 8ms/step - accuracy: 0.8511 - loss: 0.4215 - val_accuracy: 0.8348 - val_loss: 0.4660\n",
      "118/118 - 1s - 7ms/step - accuracy: 0.8657 - loss: 0.3863 - val_accuracy: 0.8390 - val_loss: 0.4430\n",
      "Epoch 11/30\n",
      "Epoch 19/30\n",
      "118/118 - 1s - 8ms/step - accuracy: 0.8619 - loss: 0.3928 - val_accuracy: 0.8375 - val_loss: 0.4539\n",
      "Epoch 25/30\n",
      "118/118 - 1s - 8ms/step - accuracy: 0.8559 - loss: 0.4091 - val_accuracy: 0.8331 - val_loss: 0.4694\n",
      "Epoch 20/30\n",
      "118/118 - 1s - 11ms/step - accuracy: 0.8659 - loss: 0.3849 - val_accuracy: 0.8454 - val_loss: 0.4400\n",
      "Epoch 20/30\n",
      "118/118 - 1s - 7ms/step - accuracy: 0.8509 - loss: 0.4243 - val_accuracy: 0.8334 - val_loss: 0.4665\n",
      "Epoch 10/30\n",
      "118/118 - 1s - 7ms/step - accuracy: 0.8607 - loss: 0.3943 - val_accuracy: 0.8371 - val_loss: 0.4546\n",
      "Epoch 21/30\n",
      "118/118 - 1s - 7ms/step - accuracy: 0.8628 - loss: 0.3914 - val_accuracy: 0.8424 - val_loss: 0.4462\n",
      "Epoch 23/30\n",
      "118/118 - 1s - 7ms/step - accuracy: 0.8661 - loss: 0.3844 - val_accuracy: 0.8395 - val_loss: 0.4422\n",
      "Epoch 20/30\n",
      "118/118 - 1s - 7ms/step - accuracy: 0.8526 - loss: 0.4167 - val_accuracy: 0.8364 - val_loss: 0.4630\n",
      "Epoch 12/30\n",
      "118/118 - 1s - 7ms/step - accuracy: 0.8624 - loss: 0.3917 - val_accuracy: 0.8377 - val_loss: 0.4537\n",
      "Epoch 26/30\n",
      "118/118 - 1s - 7ms/step - accuracy: 0.8563 - loss: 0.4073 - val_accuracy: 0.8337 - val_loss: 0.4688\n",
      "Epoch 21/30\n",
      "118/118 - 1s - 7ms/step - accuracy: 0.8531 - loss: 0.4188 - val_accuracy: 0.8344 - val_loss: 0.4632\n",
      "Epoch 11/30\n",
      "118/118 - 1s - 10ms/step - accuracy: 0.8664 - loss: 0.3832 - val_accuracy: 0.8452 - val_loss: 0.4392\n",
      "Epoch 21/30\n",
      "118/118 - 1s - 7ms/step - accuracy: 0.8613 - loss: 0.3926 - val_accuracy: 0.8385 - val_loss: 0.4540\n",
      "Epoch 22/30\n",
      "118/118 - 1s - 7ms/step - accuracy: 0.8632 - loss: 0.3901 - val_accuracy: 0.8423 - val_loss: 0.4457\n",
      "Epoch 24/30\n",
      "118/118 - 1s - 7ms/step - accuracy: 0.8542 - loss: 0.4124 - val_accuracy: 0.8370 - val_loss: 0.4604\n",
      "Epoch 13/30\n",
      "118/118 - 1s - 7ms/step - accuracy: 0.8627 - loss: 0.3906 - val_accuracy: 0.8374 - val_loss: 0.4535\n",
      "Epoch 27/30\n",
      "118/118 - 1s - 7ms/step - accuracy: 0.8567 - loss: 0.4056 - val_accuracy: 0.8342 - val_loss: 0.4682\n",
      "Epoch 22/30\n",
      "118/118 - 1s - 11ms/step - accuracy: 0.8666 - loss: 0.3827 - val_accuracy: 0.8401 - val_loss: 0.4416\n",
      "Epoch 21/30\n",
      "118/118 - 1s - 7ms/step - accuracy: 0.8543 - loss: 0.4140 - val_accuracy: 0.8364 - val_loss: 0.4604\n",
      "Epoch 12/30\n",
      "118/118 - 1s - 7ms/step - accuracy: 0.8669 - loss: 0.3815 - val_accuracy: 0.8450 - val_loss: 0.4385\n",
      "Epoch 22/30\n",
      "118/118 - 1s - 7ms/step - accuracy: 0.8634 - loss: 0.3889 - val_accuracy: 0.8425 - val_loss: 0.4452\n",
      "Epoch 25/30\n",
      "118/118 - 1s - 7ms/step - accuracy: 0.8630 - loss: 0.3896 - val_accuracy: 0.8375 - val_loss: 0.4534\n",
      "118/118 - 1s - 7ms/step - accuracy: 0.8552 - loss: 0.4087 - val_accuracy: 0.8375 - val_loss: 0.4581\n",
      "Epoch 28/30\n",
      "Epoch 14/30\n",
      "118/118 - 1s - 7ms/step - accuracy: 0.8571 - loss: 0.4041 - val_accuracy: 0.8338 - val_loss: 0.4678\n",
      "Epoch 23/30\n",
      "118/118 - 1s - 11ms/step - accuracy: 0.8618 - loss: 0.3910 - val_accuracy: 0.8388 - val_loss: 0.4534\n",
      "Epoch 23/30\n",
      "118/118 - 1s - 7ms/step - accuracy: 0.8671 - loss: 0.3810 - val_accuracy: 0.8407 - val_loss: 0.4410\n",
      "Epoch 22/30\n",
      "118/118 - 1s - 7ms/step - accuracy: 0.8559 - loss: 0.4099 - val_accuracy: 0.8372 - val_loss: 0.4581\n",
      "Epoch 13/30\n",
      "118/118 - 1s - 7ms/step - accuracy: 0.8673 - loss: 0.3800 - val_accuracy: 0.8448 - val_loss: 0.4379\n",
      "Epoch 23/30\n",
      "118/118 - 1s - 7ms/step - accuracy: 0.8639 - loss: 0.3877 - val_accuracy: 0.8429 - val_loss: 0.4448\n",
      "Epoch 26/30\n",
      "118/118 - 1s - 7ms/step - accuracy: 0.8634 - loss: 0.3886 - val_accuracy: 0.8375 - val_loss: 0.4533\n",
      "Epoch 29/30\n",
      "118/118 - 1s - 7ms/step - accuracy: 0.8575 - loss: 0.4026 - val_accuracy: 0.8341 - val_loss: 0.4674\n",
      "Epoch 24/30\n",
      "118/118 - 1s - 7ms/step - accuracy: 0.8624 - loss: 0.3896 - val_accuracy: 0.8394 - val_loss: 0.4529\n",
      "Epoch 24/30\n",
      "118/118 - 1s - 7ms/step - accuracy: 0.8676 - loss: 0.3795 - val_accuracy: 0.8409 - val_loss: 0.4405\n",
      "Epoch 23/30\n",
      "118/118 - 1s - 10ms/step - accuracy: 0.8565 - loss: 0.4054 - val_accuracy: 0.8382 - val_loss: 0.4562\n",
      "Epoch 15/30\n",
      "118/118 - 1s - 7ms/step - accuracy: 0.8566 - loss: 0.4062 - val_accuracy: 0.8382 - val_loss: 0.4561\n",
      "Epoch 14/30\n",
      "118/118 - 1s - 7ms/step - accuracy: 0.8640 - loss: 0.3866 - val_accuracy: 0.8431 - val_loss: 0.4445\n",
      "Epoch 27/30\n",
      "118/118 - 1s - 7ms/step - accuracy: 0.8581 - loss: 0.4013 - val_accuracy: 0.8338 - val_loss: 0.4670\n",
      "Epoch 25/30\n",
      "118/118 - 1s - 10ms/step - accuracy: 0.8678 - loss: 0.3786 - val_accuracy: 0.8451 - val_loss: 0.4374\n",
      "Epoch 24/30\n",
      "118/118 - 1s - 7ms/step - accuracy: 0.8628 - loss: 0.3882 - val_accuracy: 0.8394 - val_loss: 0.4525\n",
      "Epoch 25/30\n",
      "118/118 - 1s - 7ms/step - accuracy: 0.8575 - loss: 0.4024 - val_accuracy: 0.8391 - val_loss: 0.4545\n",
      "Epoch 16/30\n",
      "118/118 - 1s - 7ms/step - accuracy: 0.8575 - loss: 0.4030 - val_accuracy: 0.8374 - val_loss: 0.4544\n",
      "Epoch 15/30\n",
      "118/118 - 1s - 11ms/step - accuracy: 0.8637 - loss: 0.3877 - val_accuracy: 0.8379 - val_loss: 0.4532\n",
      "Epoch 30/30\n",
      "118/118 - 1s - 7ms/step - accuracy: 0.8642 - loss: 0.3856 - val_accuracy: 0.8436 - val_loss: 0.4441\n",
      "Epoch 28/30\n",
      "118/118 - 1s - 7ms/step - accuracy: 0.8585 - loss: 0.4000 - val_accuracy: 0.8336 - val_loss: 0.4668\n",
      "118/118 - 1s - 11ms/step - accuracy: 0.8680 - loss: 0.3781 - val_accuracy: 0.8414 - val_loss: 0.4400\n",
      "Epoch 26/30\n",
      "Epoch 24/30\n",
      "118/118 - 1s - 7ms/step - accuracy: 0.8633 - loss: 0.3869 - val_accuracy: 0.8395 - val_loss: 0.4521\n",
      "Epoch 26/30\n",
      "118/118 - 1s - 7ms/step - accuracy: 0.8584 - loss: 0.3997 - val_accuracy: 0.8398 - val_loss: 0.4530\n",
      "Epoch 17/30\n",
      "118/118 - 1s - 7ms/step - accuracy: 0.8583 - loss: 0.4001 - val_accuracy: 0.8379 - val_loss: 0.4529\n",
      "Epoch 16/30\n",
      "118/118 - 1s - 7ms/step - accuracy: 0.8640 - loss: 0.3868 - val_accuracy: 0.8385 - val_loss: 0.4532\n",
      "118/118 - 1s - 11ms/step - accuracy: 0.8681 - loss: 0.3773 - val_accuracy: 0.8453 - val_loss: 0.4370\n",
      "Epoch 25/30\n",
      "118/118 - 1s - 7ms/step - accuracy: 0.8644 - loss: 0.3846 - val_accuracy: 0.8437 - val_loss: 0.4439\n",
      "Epoch 29/30\n",
      "118/118 - 1s - 7ms/step - accuracy: 0.8685 - loss: 0.3768 - val_accuracy: 0.8418 - val_loss: 0.4396\n",
      "Epoch 25/30\n",
      "118/118 - 1s - 7ms/step - accuracy: 0.8639 - loss: 0.3858 - val_accuracy: 0.8396 - val_loss: 0.4518\n",
      "Epoch 27/30\n",
      "118/118 - 1s - 7ms/step - accuracy: 0.8594 - loss: 0.3974 - val_accuracy: 0.8378 - val_loss: 0.4517\n",
      "Epoch 17/30\n",
      "118/118 - 1s - 7ms/step - accuracy: 0.8592 - loss: 0.3972 - val_accuracy: 0.8403 - val_loss: 0.4517\n",
      "Epoch 18/30\n",
      "118/118 - 1s - 11ms/step - accuracy: 0.8589 - loss: 0.3988 - val_accuracy: 0.8336 - val_loss: 0.4666\n",
      "Epoch 27/30\n"
     ]
    },
    {
     "name": "stderr",
     "output_type": "stream",
     "text": [
      "2024-07-31 07:52:09.062523: I external/local_tsl/tsl/profiler/lib/profiler_session.cc:104] Profiler session initializing.\n",
      "2024-07-31 07:52:09.062564: I external/local_tsl/tsl/profiler/lib/profiler_session.cc:119] Profiler session started.\n",
      "2024-07-31 07:52:09.072786: I external/local_tsl/tsl/profiler/lib/profiler_session.cc:131] Profiler session tear down.\n",
      "2024-07-31 07:52:09.085111: I external/local_xla/xla/backends/profiler/gpu/cupti_tracer.cc:1364] CUPTI activity buffer flushed\n"
     ]
    },
    {
     "name": "stdout",
     "output_type": "stream",
     "text": [
      "118/118 - 1s - 7ms/step - accuracy: 0.8687 - loss: 0.3760 - val_accuracy: 0.8455 - val_loss: 0.4365\n",
      "Epoch 26/30\n",
      "118/118 - 1s - 7ms/step - accuracy: 0.8648 - loss: 0.3837 - val_accuracy: 0.8437 - val_loss: 0.4436\n",
      "Epoch 30/30\n",
      "118/118 - 1s - 7ms/step - accuracy: 0.8691 - loss: 0.3755 - val_accuracy: 0.8419 - val_loss: 0.4393\n",
      "Epoch 26/30\n",
      "118/118 - 1s - 7ms/step - accuracy: 0.8641 - loss: 0.3846 - val_accuracy: 0.8400 - val_loss: 0.4515\n",
      "Epoch 28/30\n",
      "118/118 - 1s - 7ms/step - accuracy: 0.8606 - loss: 0.3950 - val_accuracy: 0.8388 - val_loss: 0.4506\n",
      "Epoch 18/30\n",
      "118/118 - 1s - 7ms/step - accuracy: 0.8600 - loss: 0.3949 - val_accuracy: 0.8404 - val_loss: 0.4506\n",
      "Epoch 19/30\n",
      "118/118 - 1s - 7ms/step - accuracy: 0.8591 - loss: 0.3977 - val_accuracy: 0.8338 - val_loss: 0.4664\n",
      "Epoch 28/30\n",
      "118/118 - 1s - 7ms/step - accuracy: 0.8691 - loss: 0.3748 - val_accuracy: 0.8457 - val_loss: 0.4362\n",
      "Epoch 27/30\n",
      "118/118 - 1s - 7ms/step - accuracy: 0.8651 - loss: 0.3828 - val_accuracy: 0.8438 - val_loss: 0.4434\n",
      "118/118 - 1s - 7ms/step - accuracy: 0.8695 - loss: 0.3743 - val_accuracy: 0.8418 - val_loss: 0.4390\n",
      "Epoch 27/30\n",
      "118/118 - 1s - 6ms/step - accuracy: 0.8644 - loss: 0.3836 - val_accuracy: 0.8405 - val_loss: 0.4513\n",
      "Epoch 29/30\n"
     ]
    },
    {
     "name": "stderr",
     "output_type": "stream",
     "text": [
      "2024-07-31 07:52:10.437909: I external/local_tsl/tsl/profiler/lib/profiler_session.cc:104] Profiler session initializing.\n",
      "2024-07-31 07:52:10.437950: I external/local_tsl/tsl/profiler/lib/profiler_session.cc:119] Profiler session started.\n",
      "2024-07-31 07:52:10.444169: I external/local_tsl/tsl/profiler/lib/profiler_session.cc:131] Profiler session tear down.\n",
      "2024-07-31 07:52:10.455784: I external/local_xla/xla/backends/profiler/gpu/cupti_tracer.cc:1364] CUPTI activity buffer flushed\n"
     ]
    },
    {
     "name": "stdout",
     "output_type": "stream",
     "text": [
      "118/118 - 1s - 7ms/step - accuracy: 0.8596 - loss: 0.3966 - val_accuracy: 0.8345 - val_loss: 0.4663\n",
      "Epoch 29/30\n",
      "118/118 - 1s - 6ms/step - accuracy: 0.8692 - loss: 0.3737 - val_accuracy: 0.8457 - val_loss: 0.4359\n",
      "Epoch 28/30\n",
      "118/118 - 1s - 6ms/step - accuracy: 0.8700 - loss: 0.3732 - val_accuracy: 0.8419 - val_loss: 0.4387\n",
      "Epoch 28/30\n",
      "118/118 - 1s - 10ms/step - accuracy: 0.8608 - loss: 0.3929 - val_accuracy: 0.8401 - val_loss: 0.4495\n",
      "Epoch 20/30\n",
      "118/118 - 1s - 10ms/step - accuracy: 0.8610 - loss: 0.3928 - val_accuracy: 0.8388 - val_loss: 0.4496\n",
      "Epoch 19/30\n",
      "118/118 - 1s - 7ms/step - accuracy: 0.8647 - loss: 0.3826 - val_accuracy: 0.8405 - val_loss: 0.4511\n",
      "Epoch 30/30\n",
      "118/118 - 1s - 6ms/step - accuracy: 0.8599 - loss: 0.3956 - val_accuracy: 0.8346 - val_loss: 0.4662\n",
      "Epoch 30/30\n",
      "118/118 - 1s - 6ms/step - accuracy: 0.8701 - loss: 0.3722 - val_accuracy: 0.8420 - val_loss: 0.4385\n",
      "Epoch 29/30\n",
      "118/118 - 1s - 6ms/step - accuracy: 0.8615 - loss: 0.3908 - val_accuracy: 0.8391 - val_loss: 0.4488\n",
      "Epoch 20/30\n",
      "118/118 - 1s - 6ms/step - accuracy: 0.8650 - loss: 0.3816 - val_accuracy: 0.8405 - val_loss: 0.4509\n",
      "118/118 - 1s - 11ms/step - accuracy: 0.8696 - loss: 0.3727 - val_accuracy: 0.8455 - val_loss: 0.4356\n",
      "Epoch 29/30\n"
     ]
    },
    {
     "name": "stderr",
     "output_type": "stream",
     "text": [
      "2024-07-31 07:52:12.201292: I external/local_tsl/tsl/profiler/lib/profiler_session.cc:104] Profiler session initializing.\n",
      "2024-07-31 07:52:12.201347: I external/local_tsl/tsl/profiler/lib/profiler_session.cc:119] Profiler session started.\n",
      "2024-07-31 07:52:12.207439: I external/local_tsl/tsl/profiler/lib/profiler_session.cc:131] Profiler session tear down.\n",
      "2024-07-31 07:52:12.219773: I external/local_xla/xla/backends/profiler/gpu/cupti_tracer.cc:1364] CUPTI activity buffer flushed\n"
     ]
    },
    {
     "name": "stdout",
     "output_type": "stream",
     "text": [
      "118/118 - 1s - 7ms/step - accuracy: 0.8602 - loss: 0.3947 - val_accuracy: 0.8346 - val_loss: 0.4661\n",
      "118/118 - 1s - 11ms/step - accuracy: 0.8613 - loss: 0.3909 - val_accuracy: 0.8408 - val_loss: 0.4486\n",
      "Epoch 21/30\n",
      "118/118 - 1s - 7ms/step - accuracy: 0.8705 - loss: 0.3712 - val_accuracy: 0.8426 - val_loss: 0.4383\n",
      "Epoch 30/30\n",
      "118/118 - 1s - 7ms/step - accuracy: 0.8619 - loss: 0.3890 - val_accuracy: 0.8387 - val_loss: 0.4480\n",
      "Epoch 21/30\n",
      "118/118 - 1s - 7ms/step - accuracy: 0.8699 - loss: 0.3717 - val_accuracy: 0.8458 - val_loss: 0.4353\n",
      "Epoch 30/30\n"
     ]
    },
    {
     "name": "stderr",
     "output_type": "stream",
     "text": [
      "2024-07-31 07:52:13.075900: I external/local_tsl/tsl/profiler/lib/profiler_session.cc:104] Profiler session initializing.\n",
      "2024-07-31 07:52:13.075941: I external/local_tsl/tsl/profiler/lib/profiler_session.cc:119] Profiler session started.\n",
      "2024-07-31 07:52:13.081803: I external/local_tsl/tsl/profiler/lib/profiler_session.cc:131] Profiler session tear down.\n",
      "2024-07-31 07:52:13.092013: I external/local_xla/xla/backends/profiler/gpu/cupti_tracer.cc:1364] CUPTI activity buffer flushed\n"
     ]
    },
    {
     "name": "stdout",
     "output_type": "stream",
     "text": [
      "118/118 - 1s - 6ms/step - accuracy: 0.8618 - loss: 0.3891 - val_accuracy: 0.8405 - val_loss: 0.4478\n",
      "Epoch 22/30\n",
      "118/118 - 1s - 6ms/step - accuracy: 0.8708 - loss: 0.3702 - val_accuracy: 0.8428 - val_loss: 0.4381\n",
      "118/118 - 1s - 7ms/step - accuracy: 0.8628 - loss: 0.3872 - val_accuracy: 0.8392 - val_loss: 0.4474\n",
      "Epoch 22/30\n"
     ]
    },
    {
     "name": "stderr",
     "output_type": "stream",
     "text": [
      "2024-07-31 07:52:13.634252: I external/local_tsl/tsl/profiler/lib/profiler_session.cc:104] Profiler session initializing.\n",
      "2024-07-31 07:52:13.634316: I external/local_tsl/tsl/profiler/lib/profiler_session.cc:119] Profiler session started.\n",
      "2024-07-31 07:52:13.639874: I external/local_tsl/tsl/profiler/lib/profiler_session.cc:131] Profiler session tear down.\n",
      "2024-07-31 07:52:13.651656: I external/local_xla/xla/backends/profiler/gpu/cupti_tracer.cc:1364] CUPTI activity buffer flushed\n"
     ]
    },
    {
     "name": "stdout",
     "output_type": "stream",
     "text": [
      "\u001b[1m  6/118\u001b[0m \u001b[32m━\u001b[0m\u001b[37m━━━━━━━━━━━━━━━━━━━\u001b[0m \u001b[1m9s\u001b[0m 82ms/step118/118 - 1s - 9ms/step - accuracy: 0.8623 - loss: 0.3875 - val_accuracy: 0.8403 - val_loss: 0.4470\n",
      "Epoch 23/30\n",
      "\u001b[1m 14/118\u001b[0m \u001b[32m━━\u001b[0m\u001b[37m━━━━━━━━━━━━━━━━━━\u001b[0m \u001b[1m8s\u001b[0m 83ms/step118/118 - 2s - 17ms/step - accuracy: 0.8702 - loss: 0.3707 - val_accuracy: 0.8462 - val_loss: 0.4351\n",
      "\u001b[1m 17/118\u001b[0m \u001b[32m━━\u001b[0m\u001b[37m━━━━━━━━━━━━━━━━━━\u001b[0m \u001b[1m9s\u001b[0m 92ms/step"
     ]
    },
    {
     "name": "stderr",
     "output_type": "stream",
     "text": [
      "2024-07-31 07:52:15.227068: I external/local_tsl/tsl/profiler/lib/profiler_session.cc:104] Profiler session initializing.\n",
      "2024-07-31 07:52:15.227110: I external/local_tsl/tsl/profiler/lib/profiler_session.cc:119] Profiler session started.\n",
      "2024-07-31 07:52:15.266914: I external/local_tsl/tsl/profiler/lib/profiler_session.cc:131] Profiler session tear down.\n",
      "2024-07-31 07:52:15.277641: I external/local_xla/xla/backends/profiler/gpu/cupti_tracer.cc:1364] CUPTI activity buffer flushed\n"
     ]
    },
    {
     "name": "stdout",
     "output_type": "stream",
     "text": [
      "\u001b[1m 21/118\u001b[0m \u001b[32m━━━\u001b[0m\u001b[37m━━━━━━━━━━━━━━━━━\u001b[0m \u001b[1m10s\u001b[0m 105ms/step118/118 - 2s - 20ms/step - accuracy: 0.8631 - loss: 0.3856 - val_accuracy: 0.8393 - val_loss: 0.4468\n",
      "Epoch 23/30\n",
      "\u001b[1m 22/118\u001b[0m \u001b[32m━━━\u001b[0m\u001b[37m━━━━━━━━━━━━━━━━━\u001b[0m \u001b[1m24s\u001b[0m 253ms/step118/118 - 6s - 52ms/step - accuracy: 0.8629 - loss: 0.3859 - val_accuracy: 0.8399 - val_loss: 0.4464\n",
      "Epoch 24/30\n",
      "\u001b[1m 50/118\u001b[0m \u001b[32m━━━━━━━━\u001b[0m\u001b[37m━━━━━━━━━━━━\u001b[0m \u001b[1m17s\u001b[0m 262ms/step118/118 - 11s - 92ms/step - accuracy: 0.8635 - loss: 0.3841 - val_accuracy: 0.8391 - val_loss: 0.4463\n",
      "Epoch 24/30\n",
      "\u001b[1m 65/118\u001b[0m \u001b[32m━━━━━━━━━━━\u001b[0m\u001b[37m━━━━━━━━━\u001b[0m \u001b[1m16s\u001b[0m 306ms/step118/118 - 13s - 111ms/step - accuracy: 0.8633 - loss: 0.3845 - val_accuracy: 0.8399 - val_loss: 0.4457\n",
      "Epoch 25/30\n",
      "\u001b[1m 51/118\u001b[0m \u001b[32m━━━━━━━━\u001b[0m\u001b[37m━━━━━━━━━━━━\u001b[0m \u001b[1m29s\u001b[0m 443ms/step118/118 - 13s - 111ms/step - accuracy: 0.8640 - loss: 0.3827 - val_accuracy: 0.8397 - val_loss: 0.4459\n",
      "Epoch 25/30\n",
      "\u001b[1m 62/118\u001b[0m \u001b[32m━━━━━━━━━━\u001b[0m\u001b[37m━━━━━━━━━━\u001b[0m \u001b[1m25s\u001b[0m 449ms/step118/118 - 13s - 111ms/step - accuracy: 0.8639 - loss: 0.3831 - val_accuracy: 0.8399 - val_loss: 0.4452\n",
      "Epoch 26/30\n",
      "\u001b[1m 94/118\u001b[0m \u001b[32m━━━━━━━━━━━━━━━\u001b[0m\u001b[37m━━━━━\u001b[0m \u001b[1m9s\u001b[0m 405ms/step 118/118 - 13s - 109ms/step - accuracy: 0.8644 - loss: 0.3814 - val_accuracy: 0.8396 - val_loss: 0.4455\n",
      "Epoch 26/30\n",
      "\u001b[1m109/118\u001b[0m \u001b[32m━━━━━━━━━━━━━━━━━━\u001b[0m\u001b[37m━━\u001b[0m \u001b[1m3s\u001b[0m 408ms/step118/118 - 13s - 107ms/step - accuracy: 0.8644 - loss: 0.3818 - val_accuracy: 0.8408 - val_loss: 0.4447\n",
      "Epoch 27/30\n",
      "\u001b[1m118/118\u001b[0m \u001b[32m━━━━━━━━━━━━━━━━━━━━\u001b[0m\u001b[37m\u001b[0m \u001b[1m51s\u001b[0m 396ms/step\n",
      "\u001b[1m110/118\u001b[0m \u001b[32m━━━━━━━━━━━━━━━━━━\u001b[0m\u001b[37m━━\u001b[0m \u001b[1m3s\u001b[0m 436ms/step118/118 - 12s - 103ms/step - accuracy: 0.8648 - loss: 0.3802 - val_accuracy: 0.8399 - val_loss: 0.4451\n",
      "Epoch 27/30\n",
      "\u001b[1m118/118\u001b[0m \u001b[32m━━━━━━━━━━━━━━━━━━━━\u001b[0m\u001b[37m\u001b[0m \u001b[1m55s\u001b[0m 434ms/step\n",
      "\u001b[1m13/20\u001b[0m \u001b[32m━━━━━━━━━━━━━\u001b[0m\u001b[37m━━━━━━━\u001b[0m \u001b[1m1s\u001b[0m 252ms/step118/118 - 10s - 84ms/step - accuracy: 0.8645 - loss: 0.3806 - val_accuracy: 0.8409 - val_loss: 0.4443\n",
      "Epoch 28/30\n",
      "\u001b[1m19/20\u001b[0m \u001b[32m━━━━━━━━━━━━━━━━━━━\u001b[0m\u001b[37m━\u001b[0m \u001b[1m0s\u001b[0m 195ms/step118/118 - 5s - 43ms/step - accuracy: 0.8651 - loss: 0.3790 - val_accuracy: 0.8397 - val_loss: 0.4448\n",
      "Epoch 28/30\n",
      "\u001b[1m118/118\u001b[0m \u001b[32m━━━━━━━━━━━━━━━━━━━━\u001b[0m\u001b[37m\u001b[0m \u001b[1m57s\u001b[0m 457ms/step\n",
      "118/118 - 1s - 10ms/step - accuracy: 0.8650 - loss: 0.3794 - val_accuracy: 0.8414 - val_loss: 0.4439\n",
      "Epoch 29/30\n",
      "\u001b[1m20/20\u001b[0m \u001b[32m━━━━━━━━━━━━━━━━━━━━\u001b[0m\u001b[37m\u001b[0m \u001b[1m10s\u001b[0m 518ms/step\n",
      "\u001b[1m 7/20\u001b[0m \u001b[32m━━━━━━━\u001b[0m\u001b[37m━━━━━━━━━━━━━\u001b[0m \u001b[1m1s\u001b[0m 87ms/stepEpoch 1/30\n",
      "\u001b[1m118/118\u001b[0m \u001b[32m━━━━━━━━━━━━━━━━━━━━\u001b[0m\u001b[37m\u001b[0m \u001b[1m58s\u001b[0m 460ms/step\n",
      "\u001b[1m10/20\u001b[0m \u001b[32m━━━━━━━━━━\u001b[0m\u001b[37m━━━━━━━━━━\u001b[0m \u001b[1m0s\u001b[0m 86ms/step"
     ]
    },
    {
     "name": "stderr",
     "output_type": "stream",
     "text": [
      "2024-07-31 07:53:10.949512: I external/local_tsl/tsl/profiler/lib/profiler_session.cc:104] Profiler session initializing.\n",
      "2024-07-31 07:53:10.949568: I external/local_tsl/tsl/profiler/lib/profiler_session.cc:119] Profiler session started.\n"
     ]
    },
    {
     "name": "stdout",
     "output_type": "stream",
     "text": [
      "\u001b[1m20/20\u001b[0m \u001b[32m━━━━━━━━━━━━━━━━━━━━\u001b[0m\u001b[37m\u001b[0m \u001b[1m6s\u001b[0m 297ms/step\n",
      "\u001b[1m16/20\u001b[0m \u001b[32m━━━━━━━━━━━━━━━━\u001b[0m\u001b[37m━━━━\u001b[0m \u001b[1m0s\u001b[0m 100ms/step118/118 - 2s - 17ms/step - accuracy: 0.8655 - loss: 0.3779 - val_accuracy: 0.8391 - val_loss: 0.4446\n",
      "Epoch 29/30\n",
      "\u001b[1m118/118\u001b[0m \u001b[32m━━━━━━━━━━━━━━━━━━━━\u001b[0m\u001b[37m\u001b[0m \u001b[1m58s\u001b[0m 464ms/step\n",
      "\u001b[1m17/20\u001b[0m \u001b[32m━━━━━━━━━━━━━━━━━\u001b[0m\u001b[37m━━━\u001b[0m \u001b[1m0s\u001b[0m 105ms/step"
     ]
    },
    {
     "name": "stderr",
     "output_type": "stream",
     "text": [
      "2024-07-31 07:53:11.889670: I external/local_tsl/tsl/profiler/lib/profiler_session.cc:70] Profiler session collecting data.\n",
      "2024-07-31 07:53:11.903689: I external/local_xla/xla/backends/profiler/gpu/cupti_tracer.cc:1364] CUPTI activity buffer flushed\n",
      "2024-07-31 07:53:11.920927: I external/local_xla/xla/backends/profiler/gpu/cupti_collector.cc:540]  GpuTracer has collected 75 callback api events and 62 activity events. \n",
      "2024-07-31 07:53:11.924317: I external/local_tsl/tsl/profiler/lib/profiler_session.cc:131] Profiler session tear down.\n",
      "2024-07-31 07:53:11.924508: I external/local_tsl/tsl/profiler/rpc/client/save_profile.cc:144] Collecting XSpace to repository: /workspaces/QML-QPF/multiprocessing/output/20240731-075014/runs/FASHIONMNIST/FASHIONMNISTqcnot0-2-3-1/plugins/profile/2024_07_31_07_53_11/1ba22281c77a.xplane.pb\n"
     ]
    },
    {
     "name": "stdout",
     "output_type": "stream",
     "text": [
      "\u001b[1m 1/20\u001b[0m \u001b[32m━\u001b[0m\u001b[37m━━━━━━━━━━━━━━━━━━━\u001b[0m \u001b[1m0s\u001b[0m 20ms/steppEpoch 1/30\n",
      "\u001b[1m118/118\u001b[0m \u001b[32m━━━━━━━━━━━━━━━━━━━━\u001b[0m\u001b[37m\u001b[0m \u001b[1m57s\u001b[0m 454ms/step\n",
      "\u001b[1m19/20\u001b[0m \u001b[32m━━━━━━━━━━━━━━━━━━━\u001b[0m\u001b[37m━\u001b[0m \u001b[1m0s\u001b[0m 114ms/step"
     ]
    },
    {
     "name": "stderr",
     "output_type": "stream",
     "text": [
      "2024-07-31 07:53:12.302188: I external/local_tsl/tsl/profiler/lib/profiler_session.cc:104] Profiler session initializing.\n",
      "2024-07-31 07:53:12.302234: I external/local_tsl/tsl/profiler/lib/profiler_session.cc:119] Profiler session started.\n"
     ]
    },
    {
     "name": "stdout",
     "output_type": "stream",
     "text": [
      "\u001b[1m 4/20\u001b[0m \u001b[32m━━━━\u001b[0m\u001b[37m━━━━━━━━━━━━━━━━\u001b[0m \u001b[1m3s\u001b[0m 234ms/step"
     ]
    },
    {
     "name": "stderr",
     "output_type": "stream",
     "text": [
      "2024-07-31 07:53:13.214020: I external/local_tsl/tsl/profiler/lib/profiler_session.cc:70] Profiler session collecting data.\n",
      "2024-07-31 07:53:13.229971: I external/local_xla/xla/backends/profiler/gpu/cupti_tracer.cc:1364] CUPTI activity buffer flushed\n",
      "2024-07-31 07:53:13.247683: I external/local_xla/xla/backends/profiler/gpu/cupti_collector.cc:540]  GpuTracer has collected 77 callback api events and 63 activity events. \n",
      "2024-07-31 07:53:13.251325: I external/local_tsl/tsl/profiler/lib/profiler_session.cc:131] Profiler session tear down.\n",
      "2024-07-31 07:53:13.251547: I external/local_tsl/tsl/profiler/rpc/client/save_profile.cc:144] Collecting XSpace to repository: /workspaces/QML-QPF/multiprocessing/output/20240731-075014/runs/FASHIONMNIST/FASHIONMNISTqcnot1-2-3-0/plugins/profile/2024_07_31_07_53_13/1ba22281c77a.xplane.pb\n"
     ]
    },
    {
     "name": "stdout",
     "output_type": "stream",
     "text": [
      "\u001b[1m20/20\u001b[0m \u001b[32m━━━━━━━━━━━━━━━━━━━━\u001b[0m\u001b[37m\u001b[0m \u001b[1m4s\u001b[0m 225ms/step\n",
      "\u001b[1m17/20\u001b[0m \u001b[32m━━━━━━━━━━━━━━━━━\u001b[0m\u001b[37m━━━\u001b[0m \u001b[1m0s\u001b[0m 219ms/step118/118 - 5s - 40ms/step - accuracy: 0.8650 - loss: 0.3784 - val_accuracy: 0.8411 - val_loss: 0.4435\n",
      "Epoch 30/30\n",
      "\u001b[1m19/20\u001b[0m \u001b[32m━━━━━━━━━━━━━━━━━━━\u001b[0m\u001b[37m━\u001b[0m \u001b[1m0s\u001b[0m 221ms/stepEpoch 1/30\n",
      "\u001b[1m15/20\u001b[0m \u001b[32m━━━━━━━━━━━━━━━\u001b[0m\u001b[37m━━━━━\u001b[0m \u001b[1m1s\u001b[0m 241ms/step"
     ]
    },
    {
     "name": "stderr",
     "output_type": "stream",
     "text": [
      "2024-07-31 07:53:15.447962: I external/local_tsl/tsl/profiler/lib/profiler_session.cc:104] Profiler session initializing.\n",
      "2024-07-31 07:53:15.448011: I external/local_tsl/tsl/profiler/lib/profiler_session.cc:119] Profiler session started.\n"
     ]
    },
    {
     "name": "stdout",
     "output_type": "stream",
     "text": [
      "\u001b[1m18/20\u001b[0m \u001b[32m━━━━━━━━━━━━━━━━━━\u001b[0m\u001b[37m━━\u001b[0m \u001b[1m0s\u001b[0m 220ms/step"
     ]
    },
    {
     "name": "stderr",
     "output_type": "stream",
     "text": [
      "2024-07-31 07:53:16.306047: I external/local_tsl/tsl/profiler/lib/profiler_session.cc:70] Profiler session collecting data.\n",
      "2024-07-31 07:53:16.320875: I external/local_xla/xla/backends/profiler/gpu/cupti_tracer.cc:1364] CUPTI activity buffer flushed\n",
      "2024-07-31 07:53:16.339129: I external/local_xla/xla/backends/profiler/gpu/cupti_collector.cc:540]  GpuTracer has collected 77 callback api events and 63 activity events. \n",
      "2024-07-31 07:53:16.342840: I external/local_tsl/tsl/profiler/lib/profiler_session.cc:131] Profiler session tear down.\n",
      "2024-07-31 07:53:16.343032: I external/local_tsl/tsl/profiler/rpc/client/save_profile.cc:144] Collecting XSpace to repository: /workspaces/QML-QPF/multiprocessing/output/20240731-075014/runs/FASHIONMNIST/FASHIONMNISTqcnot2-0-3-1/plugins/profile/2024_07_31_07_53_16/1ba22281c77a.xplane.pb\n"
     ]
    },
    {
     "name": "stdout",
     "output_type": "stream",
     "text": [
      "\u001b[1m19/20\u001b[0m \u001b[32m━━━━━━━━━━━━━━━━━━━\u001b[0m\u001b[37m━\u001b[0m \u001b[1m0s\u001b[0m 213ms/step118/118 - 5s - 42ms/step - accuracy: 0.8655 - loss: 0.3768 - val_accuracy: 0.8395 - val_loss: 0.4443\n",
      "Epoch 30/30\n",
      "118/118 - 2s - 18ms/step - accuracy: 0.8656 - loss: 0.3773 - val_accuracy: 0.8413 - val_loss: 0.4432\n"
     ]
    },
    {
     "name": "stderr",
     "output_type": "stream",
     "text": [
      "2024-07-31 07:53:17.361684: I external/local_tsl/tsl/profiler/lib/profiler_session.cc:104] Profiler session initializing.\n",
      "2024-07-31 07:53:17.361734: I external/local_tsl/tsl/profiler/lib/profiler_session.cc:119] Profiler session started.\n",
      "2024-07-31 07:53:17.366958: I external/local_tsl/tsl/profiler/lib/profiler_session.cc:131] Profiler session tear down.\n",
      "2024-07-31 07:53:17.378830: I external/local_xla/xla/backends/profiler/gpu/cupti_tracer.cc:1364] CUPTI activity buffer flushed\n"
     ]
    },
    {
     "name": "stdout",
     "output_type": "stream",
     "text": [
      "118/118 - 1s - 6ms/step - accuracy: 0.8658 - loss: 0.3758 - val_accuracy: 0.8393 - val_loss: 0.4441\n",
      "118/118 - 7s - 56ms/step - accuracy: 0.6865 - loss: 0.9161 - val_accuracy: 0.7763 - val_loss: 0.6468\n",
      "Epoch 2/30\n",
      "118/118 - 5s - 46ms/step - accuracy: 0.6931 - loss: 0.8918 - val_accuracy: 0.7829 - val_loss: 0.6268\n",
      "Epoch 2/30\n"
     ]
    },
    {
     "name": "stderr",
     "output_type": "stream",
     "text": [
      "2024-07-31 07:53:17.767501: I external/local_tsl/tsl/profiler/lib/profiler_session.cc:104] Profiler session initializing.\n",
      "2024-07-31 07:53:17.767567: I external/local_tsl/tsl/profiler/lib/profiler_session.cc:119] Profiler session started.\n",
      "2024-07-31 07:53:17.773824: I external/local_tsl/tsl/profiler/lib/profiler_session.cc:131] Profiler session tear down.\n",
      "2024-07-31 07:53:17.786727: I external/local_xla/xla/backends/profiler/gpu/cupti_tracer.cc:1364] CUPTI activity buffer flushed\n"
     ]
    },
    {
     "name": "stdout",
     "output_type": "stream",
     "text": [
      "\u001b[1m20/20\u001b[0m \u001b[32m━━━━━━━━━━━━━━━━━━━━\u001b[0m\u001b[37m\u001b[0m \u001b[1m7s\u001b[0m 345ms/step\n",
      "118/118 - 3s - 23ms/step - accuracy: 0.6783 - loss: 0.9363 - val_accuracy: 0.7694 - val_loss: 0.6496\n",
      "Epoch 2/30\n",
      "118/118 - 1s - 7ms/step - accuracy: 0.7997 - loss: 0.5765 - val_accuracy: 0.7997 - val_loss: 0.5682\n",
      "Epoch 3/30\n",
      "Epoch 1/30\n",
      "118/118 - 1s - 7ms/step - accuracy: 0.8084 - loss: 0.5605 - val_accuracy: 0.8054 - val_loss: 0.5546\n",
      "Epoch 3/30\n"
     ]
    },
    {
     "name": "stderr",
     "output_type": "stream",
     "text": [
      "2024-07-31 07:53:18.508012: I external/local_tsl/tsl/profiler/lib/profiler_session.cc:104] Profiler session initializing.\n",
      "2024-07-31 07:53:18.508211: I external/local_tsl/tsl/profiler/lib/profiler_session.cc:119] Profiler session started.\n"
     ]
    },
    {
     "name": "stdout",
     "output_type": "stream",
     "text": [
      "\u001b[1m20/20\u001b[0m \u001b[32m━━━━━━━━━━━━━━━━━━━━\u001b[0m\u001b[37m\u001b[0m \u001b[1m7s\u001b[0m 341ms/step\n",
      "\u001b[1m20/20\u001b[0m \u001b[32m━━━━━━━━━━━━━━━━━━━━\u001b[0m\u001b[37m\u001b[0m \u001b[1m6s\u001b[0m 326ms/step\n",
      "118/118 - 1s - 7ms/step - accuracy: 0.8005 - loss: 0.5755 - val_accuracy: 0.7958 - val_loss: 0.5692\n",
      "Epoch 3/30\n",
      "118/118 - 1s - 7ms/step - accuracy: 0.8177 - loss: 0.5191 - val_accuracy: 0.8126 - val_loss: 0.5351\n",
      "Epoch 4/30\n",
      "118/118 - 1s - 7ms/step - accuracy: 0.8245 - loss: 0.5081 - val_accuracy: 0.8166 - val_loss: 0.5247\n",
      "Epoch 1/30\n",
      "Epoch 4/30\n"
     ]
    },
    {
     "name": "stderr",
     "output_type": "stream",
     "text": [
      "2024-07-31 07:53:19.385595: I external/local_tsl/tsl/profiler/lib/profiler_session.cc:70] Profiler session collecting data.\n",
      "2024-07-31 07:53:19.398328: I external/local_xla/xla/backends/profiler/gpu/cupti_tracer.cc:1364] CUPTI activity buffer flushed\n",
      "2024-07-31 07:53:19.400049: I external/local_tsl/tsl/profiler/lib/profiler_session.cc:104] Profiler session initializing.\n",
      "2024-07-31 07:53:19.400182: I external/local_tsl/tsl/profiler/lib/profiler_session.cc:119] Profiler session started.\n",
      "2024-07-31 07:53:19.417648: I external/local_xla/xla/backends/profiler/gpu/cupti_collector.cc:540]  GpuTracer has collected 75 callback api events and 62 activity events. \n",
      "2024-07-31 07:53:19.421858: I external/local_tsl/tsl/profiler/lib/profiler_session.cc:131] Profiler session tear down.\n",
      "2024-07-31 07:53:19.422061: I external/local_tsl/tsl/profiler/rpc/client/save_profile.cc:144] Collecting XSpace to repository: /workspaces/QML-QPF/multiprocessing/output/20240731-075014/runs/FASHIONMNIST/FASHIONMNISTqcnot2-1-3-0/plugins/profile/2024_07_31_07_53_19/1ba22281c77a.xplane.pb\n"
     ]
    },
    {
     "name": "stdout",
     "output_type": "stream",
     "text": [
      "118/118 - 1s - 6ms/step - accuracy: 0.8180 - loss: 0.5192 - val_accuracy: 0.8078 - val_loss: 0.5367\n",
      "Epoch 4/30\n",
      "118/118 - 1s - 6ms/step - accuracy: 0.8277 - loss: 0.4893 - val_accuracy: 0.8167 - val_loss: 0.5159\n",
      "Epoch 5/30\n",
      "118/118 - 1s - 6ms/step - accuracy: 0.8340 - loss: 0.4810 - val_accuracy: 0.8229 - val_loss: 0.5074\n",
      "Epoch 5/30\n"
     ]
    },
    {
     "name": "stderr",
     "output_type": "stream",
     "text": [
      "2024-07-31 07:53:20.239521: I external/local_tsl/tsl/profiler/lib/profiler_session.cc:70] Profiler session collecting data.\n",
      "2024-07-31 07:53:20.253124: I external/local_xla/xla/backends/profiler/gpu/cupti_tracer.cc:1364] CUPTI activity buffer flushed\n",
      "2024-07-31 07:53:20.273353: I external/local_xla/xla/backends/profiler/gpu/cupti_collector.cc:540]  GpuTracer has collected 77 callback api events and 63 activity events. \n",
      "2024-07-31 07:53:20.277172: I external/local_tsl/tsl/profiler/lib/profiler_session.cc:131] Profiler session tear down.\n",
      "2024-07-31 07:53:20.277383: I external/local_tsl/tsl/profiler/rpc/client/save_profile.cc:144] Collecting XSpace to repository: /workspaces/QML-QPF/multiprocessing/output/20240731-075014/runs/FASHIONMNIST/FASHIONMNISTqcnot1-3-0-2/plugins/profile/2024_07_31_07_53_20/1ba22281c77a.xplane.pb\n"
     ]
    },
    {
     "name": "stdout",
     "output_type": "stream",
     "text": [
      "118/118 - 1s - 6ms/step - accuracy: 0.8276 - loss: 0.4908 - val_accuracy: 0.8118 - val_loss: 0.5183\n",
      "Epoch 5/30\n",
      "118/118 - 1s - 6ms/step - accuracy: 0.8343 - loss: 0.4702 - val_accuracy: 0.8204 - val_loss: 0.5031\n",
      "Epoch 6/30\n",
      "118/118 - 2s - 20ms/step - accuracy: 0.6950 - loss: 0.8834 - val_accuracy: 0.7817 - val_loss: 0.6211\n",
      "Epoch 2/30\n",
      "118/118 - 1s - 6ms/step - accuracy: 0.8393 - loss: 0.4634 - val_accuracy: 0.8261 - val_loss: 0.4959\n",
      "Epoch 6/30\n",
      "118/118 - 1s - 6ms/step - accuracy: 0.8395 - loss: 0.4565 - val_accuracy: 0.8232 - val_loss: 0.4941\n",
      "Epoch 7/30\n",
      "118/118 - 1s - 6ms/step - accuracy: 0.8064 - loss: 0.5580 - val_accuracy: 0.8101 - val_loss: 0.5478\n",
      "Epoch 3/30\n",
      "118/118 - 1s - 6ms/step - accuracy: 0.8434 - loss: 0.4508 - val_accuracy: 0.8289 - val_loss: 0.4876\n",
      "Epoch 7/30\n",
      "118/118 - 1s - 10ms/step - accuracy: 0.8335 - loss: 0.4727 - val_accuracy: 0.8171 - val_loss: 0.5063\n",
      "Epoch 6/30\n",
      "\u001b[1m  3/118\u001b[0m \u001b[37m━━━━━━━━━━━━━━━━━━━━\u001b[0m \u001b[1m9s\u001b[0m 79ms/step118/118 - 3s - 23ms/step - accuracy: 0.6720 - loss: 0.9574 - val_accuracy: 0.7657 - val_loss: 0.6608\n",
      "Epoch 2/30\n",
      "\u001b[1m  8/118\u001b[0m \u001b[32m━\u001b[0m\u001b[37m━━━━━━━━━━━━━━━━━━━\u001b[0m \u001b[1m13s\u001b[0m 118ms/stepEpoch 1/30\n",
      "\u001b[1m 10/118\u001b[0m \u001b[32m━\u001b[0m\u001b[37m━━━━━━━━━━━━━━━━━━━\u001b[0m \u001b[1m13s\u001b[0m 129ms/step"
     ]
    },
    {
     "name": "stderr",
     "output_type": "stream",
     "text": [
      "2024-07-31 07:53:22.878427: I external/local_tsl/tsl/profiler/lib/profiler_session.cc:104] Profiler session initializing.\n",
      "2024-07-31 07:53:22.878472: I external/local_tsl/tsl/profiler/lib/profiler_session.cc:119] Profiler session started.\n"
     ]
    },
    {
     "name": "stdout",
     "output_type": "stream",
     "text": [
      "\u001b[1m 13/118\u001b[0m \u001b[32m━━\u001b[0m\u001b[37m━━━━━━━━━━━━━━━━━━\u001b[0m \u001b[1m14s\u001b[0m 138ms/step118/118 - 2s - 18ms/step - accuracy: 0.8434 - loss: 0.4461 - val_accuracy: 0.8253 - val_loss: 0.4873\n",
      "Epoch 8/30\n",
      "\u001b[1m 15/118\u001b[0m \u001b[32m━━\u001b[0m\u001b[37m━━━━━━━━━━━━━━━━━━\u001b[0m \u001b[1m14s\u001b[0m 142ms/step"
     ]
    },
    {
     "name": "stderr",
     "output_type": "stream",
     "text": [
      "2024-07-31 07:53:23.770517: I external/local_tsl/tsl/profiler/lib/profiler_session.cc:70] Profiler session collecting data.\n",
      "2024-07-31 07:53:23.785198: I external/local_xla/xla/backends/profiler/gpu/cupti_tracer.cc:1364] CUPTI activity buffer flushed\n",
      "2024-07-31 07:53:23.801214: I external/local_xla/xla/backends/profiler/gpu/cupti_collector.cc:540]  GpuTracer has collected 75 callback api events and 62 activity events. \n",
      "2024-07-31 07:53:23.804327: I external/local_tsl/tsl/profiler/lib/profiler_session.cc:131] Profiler session tear down.\n",
      "2024-07-31 07:53:23.804520: I external/local_tsl/tsl/profiler/rpc/client/save_profile.cc:144] Collecting XSpace to repository: /workspaces/QML-QPF/multiprocessing/output/20240731-075014/runs/FASHIONMNIST/FASHIONMNISTqcnot0-3-1-2/plugins/profile/2024_07_31_07_53_23/1ba22281c77a.xplane.pb\n"
     ]
    },
    {
     "name": "stdout",
     "output_type": "stream",
     "text": [
      "\u001b[1m 19/118\u001b[0m \u001b[32m━━━\u001b[0m\u001b[37m━━━━━━━━━━━━━━━━━\u001b[0m \u001b[1m14s\u001b[0m 148ms/step118/118 - 3s - 25ms/step - accuracy: 0.8239 - loss: 0.5036 - val_accuracy: 0.8216 - val_loss: 0.5170\n",
      "Epoch 4/30\n",
      "\u001b[1m 23/118\u001b[0m \u001b[32m━━━\u001b[0m\u001b[37m━━━━━━━━━━━━━━━━━\u001b[0m \u001b[1m14s\u001b[0m 152ms/step118/118 - 4s - 31ms/step - accuracy: 0.8382 - loss: 0.4600 - val_accuracy: 0.8193 - val_loss: 0.4978\n",
      "Epoch 7/30\n",
      "\u001b[1m 33/118\u001b[0m \u001b[32m━━━━━\u001b[0m\u001b[37m━━━━━━━━━━━━━━━\u001b[0m \u001b[1m13s\u001b[0m 157ms/step118/118 - 5s - 42ms/step - accuracy: 0.7947 - loss: 0.5877 - val_accuracy: 0.7954 - val_loss: 0.5754\n",
      "Epoch 3/30\n",
      "118/118 - 5s - 46ms/step - accuracy: 0.8461 - loss: 0.4410 - val_accuracy: 0.8324 - val_loss: 0.4814\n",
      "Epoch 8/30\n",
      "\u001b[1m 42/118\u001b[0m \u001b[32m━━━━━━━\u001b[0m\u001b[37m━━━━━━━━━━━━━\u001b[0m \u001b[1m12s\u001b[0m 160ms/step118/118 - 5s - 42ms/step - accuracy: 0.8464 - loss: 0.4379 - val_accuracy: 0.8275 - val_loss: 0.4820\n",
      "Epoch 9/30\n",
      "\u001b[1m 48/118\u001b[0m \u001b[32m━━━━━━━━\u001b[0m\u001b[37m━━━━━━━━━━━━\u001b[0m \u001b[1m11s\u001b[0m 161ms/step118/118 - 7s - 57ms/step - accuracy: 0.6651 - loss: 0.9849 - val_accuracy: 0.7773 - val_loss: 0.6445\n",
      "Epoch 2/30\n",
      "118/118 - 5s - 43ms/step - accuracy: 0.8338 - loss: 0.4755 - val_accuracy: 0.8264 - val_loss: 0.4994\n",
      "Epoch 5/30\n",
      "\u001b[1m 53/118\u001b[0m \u001b[32m━━━━━━━━\u001b[0m\u001b[37m━━━━━━━━━━━━\u001b[0m \u001b[1m10s\u001b[0m 161ms/step118/118 - 5s - 42ms/step - accuracy: 0.8420 - loss: 0.4503 - val_accuracy: 0.8224 - val_loss: 0.4915\n",
      "Epoch 8/30\n",
      "\u001b[1m 62/118\u001b[0m \u001b[32m━━━━━━━━━━\u001b[0m\u001b[37m━━━━━━━━━━\u001b[0m \u001b[1m9s\u001b[0m 162ms/step118/118 - 5s - 41ms/step - accuracy: 0.8487 - loss: 0.4332 - val_accuracy: 0.8335 - val_loss: 0.4765\n",
      "Epoch 9/30\n",
      "118/118 - 5s - 42ms/step - accuracy: 0.8149 - loss: 0.5269 - val_accuracy: 0.8070 - val_loss: 0.5404\n",
      "Epoch 4/30\n",
      "\u001b[1m 72/118\u001b[0m \u001b[32m━━━━━━━━━━━━\u001b[0m\u001b[37m━━━━━━━━\u001b[0m \u001b[1m7s\u001b[0m 163ms/step118/118 - 5s - 42ms/step - accuracy: 0.8487 - loss: 0.4312 - val_accuracy: 0.8303 - val_loss: 0.4778\n",
      "Epoch 10/30\n",
      "\u001b[1m 78/118\u001b[0m \u001b[32m━━━━━━━━━━━━━\u001b[0m\u001b[37m━━━━━━━\u001b[0m \u001b[1m6s\u001b[0m 164ms/step118/118 - 5s - 43ms/step - accuracy: 0.8026 - loss: 0.5746 - val_accuracy: 0.8054 - val_loss: 0.5592\n",
      "Epoch 3/30\n",
      "118/118 - 5s - 42ms/step - accuracy: 0.8401 - loss: 0.4575 - val_accuracy: 0.8286 - val_loss: 0.4880\n",
      "Epoch 6/30\n",
      "\u001b[1m 82/118\u001b[0m \u001b[32m━━━━━━━━━━━━━\u001b[0m\u001b[37m━━━━━━━\u001b[0m \u001b[1m5s\u001b[0m 164ms/step118/118 - 5s - 42ms/step - accuracy: 0.8444 - loss: 0.4427 - val_accuracy: 0.8238 - val_loss: 0.4867\n",
      "Epoch 9/30\n",
      "\u001b[1m 91/118\u001b[0m \u001b[32m━━━━━━━━━━━━━━━\u001b[0m\u001b[37m━━━━━\u001b[0m \u001b[1m4s\u001b[0m 165ms/step118/118 - 5s - 41ms/step - accuracy: 0.8506 - loss: 0.4268 - val_accuracy: 0.8339 - val_loss: 0.4726\n",
      "Epoch 10/30\n",
      "\u001b[1m 92/118\u001b[0m \u001b[32m━━━━━━━━━━━━━━━\u001b[0m\u001b[37m━━━━━\u001b[0m \u001b[1m4s\u001b[0m 165ms/step118/118 - 5s - 42ms/step - accuracy: 0.8252 - loss: 0.4964 - val_accuracy: 0.8133 - val_loss: 0.5209\n",
      "Epoch 5/30\n",
      "\u001b[1m101/118\u001b[0m \u001b[32m━━━━━━━━━━━━━━━━━\u001b[0m\u001b[37m━━━\u001b[0m \u001b[1m2s\u001b[0m 165ms/step118/118 - 5s - 41ms/step - accuracy: 0.8509 - loss: 0.4255 - val_accuracy: 0.8316 - val_loss: 0.4744\n",
      "Epoch 11/30\n",
      "\u001b[1m108/118\u001b[0m \u001b[32m━━━━━━━━━━━━━━━━━━\u001b[0m\u001b[37m━━\u001b[0m \u001b[1m1s\u001b[0m 165ms/step118/118 - 5s - 43ms/step - accuracy: 0.8220 - loss: 0.5139 - val_accuracy: 0.8169 - val_loss: 0.5245\n",
      "118/118 - 5s - 42ms/step - accuracy: 0.8444 - loss: 0.4447 - val_accuracy: 0.8301 - val_loss: 0.4799\n",
      "Epoch 4/30\n",
      "Epoch 7/30\n",
      "\u001b[1m111/118\u001b[0m \u001b[32m━━━━━━━━━━━━━━━━━━\u001b[0m\u001b[37m━━\u001b[0m \u001b[1m1s\u001b[0m 165ms/step118/118 - 5s - 41ms/step - accuracy: 0.8468 - loss: 0.4365 - val_accuracy: 0.8254 - val_loss: 0.4829\n",
      "Epoch 10/30\n",
      "\u001b[1m116/118\u001b[0m \u001b[32m━━━━━━━━━━━━━━━━━━━\u001b[0m\u001b[37m━\u001b[0m \u001b[1m0s\u001b[0m 167ms/step118/118 - 5s - 40ms/step - accuracy: 0.8522 - loss: 0.4213 - val_accuracy: 0.8354 - val_loss: 0.4694\n",
      "Epoch 11/30\n",
      "\u001b[1m117/118\u001b[0m \u001b[32m━━━━━━━━━━━━━━━━━━━\u001b[0m\u001b[37m━\u001b[0m \u001b[1m0s\u001b[0m 166ms/step118/118 - 5s - 40ms/step - accuracy: 0.8324 - loss: 0.4773 - val_accuracy: 0.8162 - val_loss: 0.5084\n",
      "Epoch 6/30\n",
      "118/118 - 3s - 29ms/step - accuracy: 0.8527 - loss: 0.4207 - val_accuracy: 0.8320 - val_loss: 0.4716\n",
      "Epoch 12/30\n",
      "118/118 - 2s - 21ms/step - accuracy: 0.8476 - loss: 0.4350 - val_accuracy: 0.8328 - val_loss: 0.4738\n",
      "Epoch 8/30\n",
      "118/118 - 2s - 21ms/step - accuracy: 0.8318 - loss: 0.4834 - val_accuracy: 0.8200 - val_loss: 0.5052\n",
      "Epoch 5/30\n",
      "118/118 - 2s - 17ms/step - accuracy: 0.8485 - loss: 0.4312 - val_accuracy: 0.8278 - val_loss: 0.4798\n",
      "Epoch 11/30\n",
      "118/118 - 1s - 7ms/step - accuracy: 0.8536 - loss: 0.4166 - val_accuracy: 0.8361 - val_loss: 0.4667\n",
      "Epoch 12/30\n",
      "118/118 - 1s - 7ms/step - accuracy: 0.8371 - loss: 0.4639 - val_accuracy: 0.8190 - val_loss: 0.4995\n",
      "Epoch 7/30\n",
      "118/118 - 1s - 6ms/step - accuracy: 0.8541 - loss: 0.4165 - val_accuracy: 0.8328 - val_loss: 0.4693\n",
      "Epoch 13/30\n",
      "118/118 - 1s - 6ms/step - accuracy: 0.8500 - loss: 0.4273 - val_accuracy: 0.8342 - val_loss: 0.4692\n",
      "Epoch 9/30\n",
      "118/118 - 1s - 6ms/step - accuracy: 0.8378 - loss: 0.4643 - val_accuracy: 0.8235 - val_loss: 0.4927\n",
      "Epoch 6/30\n",
      "118/118 - 1s - 7ms/step - accuracy: 0.8550 - loss: 0.4124 - val_accuracy: 0.8364 - val_loss: 0.4644\n",
      "Epoch 13/30\n",
      "118/118 - 1s - 7ms/step - accuracy: 0.8405 - loss: 0.4539 - val_accuracy: 0.8225 - val_loss: 0.4930\n",
      "Epoch 8/30\n",
      "118/118 - 1s - 7ms/step - accuracy: 0.8556 - loss: 0.4128 - val_accuracy: 0.8334 - val_loss: 0.4673\n",
      "Epoch 14/30\n",
      "118/118 - 1s - 12ms/step - accuracy: 0.8496 - loss: 0.4268 - val_accuracy: 0.8289 - val_loss: 0.4773\n",
      "Epoch 12/30\n",
      "118/118 - 1s - 7ms/step - accuracy: 0.8522 - loss: 0.4209 - val_accuracy: 0.8346 - val_loss: 0.4655\n",
      "Epoch 10/30\n",
      "118/118 - 1s - 7ms/step - accuracy: 0.8425 - loss: 0.4508 - val_accuracy: 0.8267 - val_loss: 0.4840\n",
      "Epoch 7/30\n",
      "118/118 - 1s - 7ms/step - accuracy: 0.8564 - loss: 0.4088 - val_accuracy: 0.8371 - val_loss: 0.4625\n",
      "Epoch 14/30\n",
      "118/118 - 1s - 7ms/step - accuracy: 0.8433 - loss: 0.4459 - val_accuracy: 0.8247 - val_loss: 0.4879\n",
      "Epoch 9/30\n",
      "118/118 - 1s - 7ms/step - accuracy: 0.8563 - loss: 0.4096 - val_accuracy: 0.8340 - val_loss: 0.4656\n",
      "Epoch 15/30\n",
      "118/118 - 1s - 7ms/step - accuracy: 0.8512 - loss: 0.4229 - val_accuracy: 0.8293 - val_loss: 0.4752\n",
      "Epoch 13/30\n",
      "118/118 - 1s - 6ms/step - accuracy: 0.8460 - loss: 0.4407 - val_accuracy: 0.8289 - val_loss: 0.4775\n",
      "Epoch 8/30\n",
      "118/118 - 1s - 7ms/step - accuracy: 0.8575 - loss: 0.4055 - val_accuracy: 0.8378 - val_loss: 0.4608\n",
      "Epoch 15/30\n",
      "118/118 - 1s - 10ms/step - accuracy: 0.8540 - loss: 0.4155 - val_accuracy: 0.8355 - val_loss: 0.4624\n",
      "Epoch 11/30\n",
      "118/118 - 1s - 7ms/step - accuracy: 0.8453 - loss: 0.4395 - val_accuracy: 0.8271 - val_loss: 0.4839\n",
      "Epoch 10/30\n",
      "118/118 - 1s - 6ms/step - accuracy: 0.8570 - loss: 0.4066 - val_accuracy: 0.8344 - val_loss: 0.4642\n",
      "Epoch 16/30\n",
      "\u001b[1m118/118\u001b[0m \u001b[32m━━━━━━━━━━━━━━━━━━━━\u001b[0m\u001b[37m\u001b[0m \u001b[1m27s\u001b[0m 198ms/step\n",
      "118/118 - 1s - 6ms/step - accuracy: 0.8525 - loss: 0.4195 - val_accuracy: 0.8288 - val_loss: 0.4734\n",
      "Epoch 14/30\n",
      "118/118 - 1s - 7ms/step - accuracy: 0.8486 - loss: 0.4327 - val_accuracy: 0.8314 - val_loss: 0.4724\n",
      "Epoch 9/30\n",
      "\u001b[1m118/118\u001b[0m \u001b[32m━━━━━━━━━━━━━━━━━━━━\u001b[0m\u001b[37m\u001b[0m \u001b[1m27s\u001b[0m 199ms/step\n",
      "\u001b[1m 8/20\u001b[0m \u001b[32m━━━━━━━━\u001b[0m\u001b[37m━━━━━━━━━━━━\u001b[0m \u001b[1m1s\u001b[0m 112ms/step118/118 - 1s - 12ms/step - accuracy: 0.8556 - loss: 0.4109 - val_accuracy: 0.8364 - val_loss: 0.4599\n",
      "Epoch 12/30\n",
      "\u001b[1m 3/20\u001b[0m \u001b[32m━━━\u001b[0m\u001b[37m━━━━━━━━━━━━━━━━━\u001b[0m \u001b[1m2s\u001b[0m 169ms/step118/118 - 1s - 12ms/step - accuracy: 0.8472 - loss: 0.4340 - val_accuracy: 0.8279 - val_loss: 0.4806\n",
      "Epoch 11/30\n",
      "\u001b[1m15/20\u001b[0m \u001b[32m━━━━━━━━━━━━━━━\u001b[0m\u001b[37m━━━━━\u001b[0m \u001b[1m0s\u001b[0m 141ms/step118/118 - 2s - 20ms/step - accuracy: 0.8578 - loss: 0.4040 - val_accuracy: 0.8351 - val_loss: 0.4629\n",
      "Epoch 17/30\n",
      "\u001b[1m12/20\u001b[0m \u001b[32m━━━━━━━━━━━━\u001b[0m\u001b[37m━━━━━━━━\u001b[0m \u001b[1m1s\u001b[0m 169ms/step118/118 - 3s - 23ms/step - accuracy: 0.8535 - loss: 0.4165 - val_accuracy: 0.8301 - val_loss: 0.4720\n",
      "Epoch 15/30\n",
      "\u001b[1m19/20\u001b[0m \u001b[32m━━━━━━━━━━━━━━━━━━━\u001b[0m\u001b[37m━\u001b[0m \u001b[1m0s\u001b[0m 151ms/step118/118 - 4s - 33ms/step - accuracy: 0.8584 - loss: 0.4026 - val_accuracy: 0.8389 - val_loss: 0.4594\n",
      "Epoch 16/30\n",
      "118/118 - 4s - 32ms/step - accuracy: 0.8507 - loss: 0.4261 - val_accuracy: 0.8325 - val_loss: 0.4684\n",
      "Epoch 10/30\n",
      "118/118 - 3s - 24ms/step - accuracy: 0.8572 - loss: 0.4069 - val_accuracy: 0.8372 - val_loss: 0.4578\n",
      "Epoch 13/30\n",
      "118/118 - 3s - 24ms/step - accuracy: 0.8489 - loss: 0.4294 - val_accuracy: 0.8289 - val_loss: 0.4779\n",
      "Epoch 12/30\n",
      "118/118 - 2s - 16ms/step - accuracy: 0.8587 - loss: 0.4016 - val_accuracy: 0.8357 - val_loss: 0.4619\n",
      "Epoch 18/30\n",
      "118/118 - 2s - 13ms/step - accuracy: 0.8548 - loss: 0.4138 - val_accuracy: 0.8310 - val_loss: 0.4707\n",
      "Epoch 16/30\n",
      "118/118 - 1s - 7ms/step - accuracy: 0.8592 - loss: 0.3999 - val_accuracy: 0.8392 - val_loss: 0.4581\n",
      "Epoch 17/30\n",
      "118/118 - 1s - 7ms/step - accuracy: 0.8526 - loss: 0.4206 - val_accuracy: 0.8339 - val_loss: 0.4652\n",
      "Epoch 11/30\n",
      "118/118 - 1s - 6ms/step - accuracy: 0.8585 - loss: 0.4033 - val_accuracy: 0.8379 - val_loss: 0.4559\n",
      "Epoch 14/30\n",
      "118/118 - 1s - 6ms/step - accuracy: 0.8506 - loss: 0.4255 - val_accuracy: 0.8296 - val_loss: 0.4757\n",
      "Epoch 13/30\n",
      "118/118 - 1s - 6ms/step - accuracy: 0.8597 - loss: 0.3994 - val_accuracy: 0.8354 - val_loss: 0.4610\n",
      "Epoch 19/30\n",
      "118/118 - 1s - 6ms/step - accuracy: 0.8600 - loss: 0.3975 - val_accuracy: 0.8400 - val_loss: 0.4569\n",
      "Epoch 18/30\n",
      "\u001b[1m20/20\u001b[0m \u001b[32m━━━━━━━━━━━━━━━━━━━━\u001b[0m\u001b[37m\u001b[0m \u001b[1m5s\u001b[0m 268ms/step\n",
      "118/118 - 1s - 7ms/step - accuracy: 0.8538 - loss: 0.4159 - val_accuracy: 0.8355 - val_loss: 0.4624\n",
      "Epoch 12/30\n",
      "118/118 - 1s - 7ms/step - accuracy: 0.8595 - loss: 0.4002 - val_accuracy: 0.8390 - val_loss: 0.4544\n",
      "Epoch 15/30\n",
      "118/118 - 1s - 6ms/step - accuracy: 0.8516 - loss: 0.4220 - val_accuracy: 0.8294 - val_loss: 0.4739\n",
      "Epoch 14/30\n",
      "118/118 - 1s - 7ms/step - accuracy: 0.8607 - loss: 0.3974 - val_accuracy: 0.8357 - val_loss: 0.4602\n",
      "Epoch 20/30\n",
      "118/118 - 1s - 7ms/step - accuracy: 0.8605 - loss: 0.3952 - val_accuracy: 0.8404 - val_loss: 0.4560\n",
      "Epoch 19/30\n",
      "\u001b[1m20/20\u001b[0m \u001b[32m━━━━━━━━━━━━━━━━━━━━\u001b[0m\u001b[37m\u001b[0m \u001b[1m5s\u001b[0m 270ms/step\n",
      "118/118 - 2s - 16ms/step - accuracy: 0.8557 - loss: 0.4113 - val_accuracy: 0.8312 - val_loss: 0.4697\n",
      "Epoch 17/30\n",
      "118/118 - 1s - 7ms/step - accuracy: 0.8555 - loss: 0.4117 - val_accuracy: 0.8366 - val_loss: 0.4601\n",
      "Epoch 13/30\n",
      "118/118 - 1s - 7ms/step - accuracy: 0.8609 - loss: 0.3973 - val_accuracy: 0.8395 - val_loss: 0.4530\n",
      "Epoch 16/30\n",
      "Epoch 1/30\n",
      "118/118 - 1s - 7ms/step - accuracy: 0.8612 - loss: 0.3955 - val_accuracy: 0.8363 - val_loss: 0.4596\n",
      "Epoch 21/30\n"
     ]
    },
    {
     "name": "stderr",
     "output_type": "stream",
     "text": [
      "2024-07-31 07:53:51.581775: I external/local_tsl/tsl/profiler/lib/profiler_session.cc:104] Profiler session initializing.\n",
      "2024-07-31 07:53:51.581823: I external/local_tsl/tsl/profiler/lib/profiler_session.cc:119] Profiler session started.\n"
     ]
    },
    {
     "name": "stdout",
     "output_type": "stream",
     "text": [
      "118/118 - 1s - 7ms/step - accuracy: 0.8614 - loss: 0.3932 - val_accuracy: 0.8401 - val_loss: 0.4551\n",
      "Epoch 20/30\n",
      "118/118 - 1s - 11ms/step - accuracy: 0.8526 - loss: 0.4189 - val_accuracy: 0.8308 - val_loss: 0.4723\n",
      "Epoch 15/30\n",
      "118/118 - 1s - 6ms/step - accuracy: 0.8564 - loss: 0.4091 - val_accuracy: 0.8318 - val_loss: 0.4688\n",
      "Epoch 18/30\n",
      "118/118 - 1s - 6ms/step - accuracy: 0.8563 - loss: 0.4081 - val_accuracy: 0.8366 - val_loss: 0.4581\n",
      "Epoch 14/30\n",
      "118/118 - 1s - 6ms/step - accuracy: 0.8615 - loss: 0.3947 - val_accuracy: 0.8394 - val_loss: 0.4518\n",
      "Epoch 17/30\n",
      "118/118 - 1s - 6ms/step - accuracy: 0.8619 - loss: 0.3938 - val_accuracy: 0.8368 - val_loss: 0.4590\n",
      "Epoch 22/30\n",
      "118/118 - 1s - 6ms/step - accuracy: 0.8617 - loss: 0.3913 - val_accuracy: 0.8396 - val_loss: 0.4543\n",
      "Epoch 21/30\n",
      "118/118 - 1s - 6ms/step - accuracy: 0.8533 - loss: 0.4161 - val_accuracy: 0.8311 - val_loss: 0.4710\n",
      "Epoch 16/30\n"
     ]
    },
    {
     "name": "stderr",
     "output_type": "stream",
     "text": [
      "2024-07-31 07:53:52.449024: I external/local_tsl/tsl/profiler/lib/profiler_session.cc:70] Profiler session collecting data.\n",
      "2024-07-31 07:53:52.465602: I external/local_xla/xla/backends/profiler/gpu/cupti_tracer.cc:1364] CUPTI activity buffer flushed\n",
      "2024-07-31 07:53:52.485652: I external/local_xla/xla/backends/profiler/gpu/cupti_collector.cc:540]  GpuTracer has collected 75 callback api events and 62 activity events. \n",
      "2024-07-31 07:53:52.489815: I external/local_tsl/tsl/profiler/lib/profiler_session.cc:131] Profiler session tear down.\n",
      "2024-07-31 07:53:52.490246: I external/local_tsl/tsl/profiler/rpc/client/save_profile.cc:144] Collecting XSpace to repository: /workspaces/QML-QPF/multiprocessing/output/20240731-075014/runs/FASHIONMNIST/FASHIONMNISTqcnot1-3-2-0/plugins/profile/2024_07_31_07_53_52/1ba22281c77a.xplane.pb\n"
     ]
    },
    {
     "name": "stdout",
     "output_type": "stream",
     "text": [
      "118/118 - 1s - 6ms/step - accuracy: 0.8573 - loss: 0.4071 - val_accuracy: 0.8319 - val_loss: 0.4681\n",
      "Epoch 19/30\n",
      "118/118 - 1s - 7ms/step - accuracy: 0.8574 - loss: 0.4048 - val_accuracy: 0.8377 - val_loss: 0.4564\n",
      "Epoch 15/30\n",
      "118/118 - 1s - 7ms/step - accuracy: 0.8620 - loss: 0.3924 - val_accuracy: 0.8397 - val_loss: 0.4508\n",
      "Epoch 18/30\n",
      "118/118 - 1s - 7ms/step - accuracy: 0.8626 - loss: 0.3922 - val_accuracy: 0.8371 - val_loss: 0.4585\n",
      "Epoch 23/30\n",
      "118/118 - 1s - 6ms/step - accuracy: 0.8622 - loss: 0.3895 - val_accuracy: 0.8400 - val_loss: 0.4536\n",
      "Epoch 22/30\n",
      "118/118 - 1s - 7ms/step - accuracy: 0.8542 - loss: 0.4136 - val_accuracy: 0.8318 - val_loss: 0.4699\n",
      "Epoch 17/30\n",
      "118/118 - 1s - 6ms/step - accuracy: 0.8581 - loss: 0.4053 - val_accuracy: 0.8311 - val_loss: 0.4674\n",
      "Epoch 20/30\n",
      "118/118 - 1s - 6ms/step - accuracy: 0.8585 - loss: 0.4019 - val_accuracy: 0.8377 - val_loss: 0.4550\n",
      "Epoch 16/30\n",
      "118/118 - 1s - 6ms/step - accuracy: 0.8628 - loss: 0.3902 - val_accuracy: 0.8401 - val_loss: 0.4499\n",
      "Epoch 19/30\n",
      "118/118 - 1s - 7ms/step - accuracy: 0.8630 - loss: 0.3907 - val_accuracy: 0.8370 - val_loss: 0.4581\n",
      "Epoch 24/30\n",
      "118/118 - 2s - 20ms/step - accuracy: 0.6826 - loss: 0.9294 - val_accuracy: 0.7713 - val_loss: 0.6500\n",
      "Epoch 2/30\n",
      "118/118 - 1s - 7ms/step - accuracy: 0.8629 - loss: 0.3879 - val_accuracy: 0.8404 - val_loss: 0.4530\n",
      "Epoch 23/30\n",
      "118/118 - 1s - 7ms/step - accuracy: 0.8552 - loss: 0.4113 - val_accuracy: 0.8318 - val_loss: 0.4690\n",
      "Epoch 18/30\n",
      "118/118 - 1s - 6ms/step - accuracy: 0.8584 - loss: 0.4036 - val_accuracy: 0.8317 - val_loss: 0.4669\n",
      "Epoch 21/30\n",
      "118/118 - 1s - 6ms/step - accuracy: 0.8589 - loss: 0.3992 - val_accuracy: 0.8381 - val_loss: 0.4537\n",
      "Epoch 17/30\n",
      "118/118 - 1s - 6ms/step - accuracy: 0.8636 - loss: 0.3882 - val_accuracy: 0.8411 - val_loss: 0.4491\n",
      "Epoch 20/30\n",
      "118/118 - 1s - 6ms/step - accuracy: 0.8635 - loss: 0.3893 - val_accuracy: 0.8372 - val_loss: 0.4578\n",
      "Epoch 25/30\n",
      "118/118 - 1s - 6ms/step - accuracy: 0.7998 - loss: 0.5785 - val_accuracy: 0.7995 - val_loss: 0.5689\n",
      "Epoch 3/30\n",
      "118/118 - 1s - 6ms/step - accuracy: 0.8559 - loss: 0.4093 - val_accuracy: 0.8320 - val_loss: 0.4682\n",
      "Epoch 19/30\n",
      "118/118 - 1s - 6ms/step - accuracy: 0.8590 - loss: 0.4020 - val_accuracy: 0.8319 - val_loss: 0.4665\n",
      "Epoch 22/30\n",
      "118/118 - 1s - 6ms/step - accuracy: 0.8596 - loss: 0.3968 - val_accuracy: 0.8385 - val_loss: 0.4525\n",
      "Epoch 18/30\n",
      "118/118 - 1s - 6ms/step - accuracy: 0.8642 - loss: 0.3864 - val_accuracy: 0.8410 - val_loss: 0.4484\n",
      "Epoch 21/30\n",
      "118/118 - 1s - 11ms/step - accuracy: 0.8633 - loss: 0.3863 - val_accuracy: 0.8408 - val_loss: 0.4524\n",
      "Epoch 24/30\n",
      "118/118 - 1s - 6ms/step - accuracy: 0.8638 - loss: 0.3880 - val_accuracy: 0.8369 - val_loss: 0.4575\n",
      "Epoch 26/30\n",
      "118/118 - 1s - 6ms/step - accuracy: 0.8178 - loss: 0.5207 - val_accuracy: 0.8112 - val_loss: 0.5354\n",
      "Epoch 4/30\n",
      "118/118 - 1s - 6ms/step - accuracy: 0.8595 - loss: 0.4005 - val_accuracy: 0.8316 - val_loss: 0.4661\n",
      "Epoch 23/30\n",
      "118/118 - 1s - 6ms/step - accuracy: 0.8604 - loss: 0.3946 - val_accuracy: 0.8388 - val_loss: 0.4515\n",
      "Epoch 19/30\n",
      "118/118 - 1s - 6ms/step - accuracy: 0.8649 - loss: 0.3847 - val_accuracy: 0.8413 - val_loss: 0.4477\n",
      "Epoch 22/30\n",
      "Epoch 1/30\n",
      "118/118 - 1s - 6ms/step - accuracy: 0.8642 - loss: 0.3867 - val_accuracy: 0.8368 - val_loss: 0.4573\n",
      "Epoch 27/30\n",
      "118/118 - 1s - 11ms/step - accuracy: 0.8566 - loss: 0.4074 - val_accuracy: 0.8322 - val_loss: 0.4675\n",
      "Epoch 20/30\n"
     ]
    },
    {
     "name": "stderr",
     "output_type": "stream",
     "text": [
      "2024-07-31 07:53:56.045652: I external/local_tsl/tsl/profiler/lib/profiler_session.cc:104] Profiler session initializing.\n",
      "2024-07-31 07:53:56.045816: I external/local_tsl/tsl/profiler/lib/profiler_session.cc:119] Profiler session started.\n"
     ]
    },
    {
     "name": "stdout",
     "output_type": "stream",
     "text": [
      "118/118 - 1s - 7ms/step - accuracy: 0.8286 - loss: 0.4910 - val_accuracy: 0.8192 - val_loss: 0.5159\n",
      "Epoch 5/30\n",
      "118/118 - 1s - 6ms/step - accuracy: 0.8599 - loss: 0.3991 - val_accuracy: 0.8319 - val_loss: 0.4658\n",
      "Epoch 24/30\n",
      "118/118 - 1s - 11ms/step - accuracy: 0.8638 - loss: 0.3849 - val_accuracy: 0.8403 - val_loss: 0.4519\n",
      "Epoch 25/30\n",
      "118/118 - 1s - 7ms/step - accuracy: 0.8612 - loss: 0.3925 - val_accuracy: 0.8388 - val_loss: 0.4506\n",
      "Epoch 20/30\n",
      "118/118 - 1s - 7ms/step - accuracy: 0.8645 - loss: 0.3856 - val_accuracy: 0.8371 - val_loss: 0.4571\n",
      "Epoch 28/30\n",
      "118/118 - 1s - 7ms/step - accuracy: 0.8571 - loss: 0.4056 - val_accuracy: 0.8328 - val_loss: 0.4670\n",
      "Epoch 21/30\n",
      "118/118 - 1s - 7ms/step - accuracy: 0.8350 - loss: 0.4718 - val_accuracy: 0.8236 - val_loss: 0.5028\n",
      "Epoch 6/30\n"
     ]
    },
    {
     "name": "stderr",
     "output_type": "stream",
     "text": [
      "2024-07-31 07:53:56.904107: I external/local_tsl/tsl/profiler/lib/profiler_session.cc:70] Profiler session collecting data.\n",
      "2024-07-31 07:53:56.919771: I external/local_xla/xla/backends/profiler/gpu/cupti_tracer.cc:1364] CUPTI activity buffer flushed\n",
      "2024-07-31 07:53:56.941417: I external/local_xla/xla/backends/profiler/gpu/cupti_collector.cc:540]  GpuTracer has collected 75 callback api events and 62 activity events. \n",
      "2024-07-31 07:53:56.946374: I external/local_tsl/tsl/profiler/lib/profiler_session.cc:131] Profiler session tear down.\n",
      "2024-07-31 07:53:56.946886: I external/local_tsl/tsl/profiler/rpc/client/save_profile.cc:144] Collecting XSpace to repository: /workspaces/QML-QPF/multiprocessing/output/20240731-075014/runs/FASHIONMNIST/FASHIONMNISTqcnot0-3-2-1/plugins/profile/2024_07_31_07_53_56/1ba22281c77a.xplane.pb\n"
     ]
    },
    {
     "name": "stdout",
     "output_type": "stream",
     "text": [
      "118/118 - 1s - 7ms/step - accuracy: 0.8604 - loss: 0.3978 - val_accuracy: 0.8320 - val_loss: 0.4655\n",
      "Epoch 25/30\n",
      "118/118 - 1s - 11ms/step - accuracy: 0.8656 - loss: 0.3831 - val_accuracy: 0.8418 - val_loss: 0.4472\n",
      "Epoch 23/30\n",
      "118/118 - 1s - 7ms/step - accuracy: 0.8642 - loss: 0.3835 - val_accuracy: 0.8401 - val_loss: 0.4515\n",
      "Epoch 26/30\n",
      "118/118 - 1s - 7ms/step - accuracy: 0.8617 - loss: 0.3906 - val_accuracy: 0.8394 - val_loss: 0.4498\n",
      "Epoch 21/30\n",
      "118/118 - 1s - 7ms/step - accuracy: 0.8647 - loss: 0.3845 - val_accuracy: 0.8379 - val_loss: 0.4570\n",
      "Epoch 29/30\n",
      "118/118 - 1s - 7ms/step - accuracy: 0.8575 - loss: 0.4040 - val_accuracy: 0.8327 - val_loss: 0.4665\n",
      "Epoch 22/30\n",
      "118/118 - 1s - 7ms/step - accuracy: 0.8392 - loss: 0.4580 - val_accuracy: 0.8259 - val_loss: 0.4934\n",
      "Epoch 7/30\n",
      "118/118 - 1s - 7ms/step - accuracy: 0.8663 - loss: 0.3816 - val_accuracy: 0.8424 - val_loss: 0.4467\n",
      "Epoch 24/30\n",
      "118/118 - 1s - 6ms/step - accuracy: 0.8649 - loss: 0.3822 - val_accuracy: 0.8404 - val_loss: 0.4511\n",
      "Epoch 27/30\n",
      "118/118 - 1s - 7ms/step - accuracy: 0.8622 - loss: 0.3888 - val_accuracy: 0.8395 - val_loss: 0.4491\n",
      "Epoch 22/30\n",
      "118/118 - 1s - 7ms/step - accuracy: 0.8651 - loss: 0.3834 - val_accuracy: 0.8381 - val_loss: 0.4569\n",
      "Epoch 30/30\n",
      "118/118 - 1s - 10ms/step - accuracy: 0.8609 - loss: 0.3966 - val_accuracy: 0.8320 - val_loss: 0.4653\n",
      "Epoch 26/30\n",
      "118/118 - 1s - 7ms/step - accuracy: 0.8430 - loss: 0.4475 - val_accuracy: 0.8274 - val_loss: 0.4862\n",
      "Epoch 8/30\n",
      "118/118 - 3s - 23ms/step - accuracy: 0.6812 - loss: 0.9257 - val_accuracy: 0.7773 - val_loss: 0.6344\n",
      "Epoch 2/30\n",
      "118/118 - 1s - 6ms/step - accuracy: 0.8666 - loss: 0.3802 - val_accuracy: 0.8424 - val_loss: 0.4462\n",
      "Epoch 25/30\n",
      "118/118 - 1s - 6ms/step - accuracy: 0.8653 - loss: 0.3810 - val_accuracy: 0.8405 - val_loss: 0.4507\n",
      "Epoch 28/30\n",
      "118/118 - 1s - 10ms/step - accuracy: 0.8581 - loss: 0.4025 - val_accuracy: 0.8332 - val_loss: 0.4661\n",
      "Epoch 23/30\n",
      "118/118 - 1s - 7ms/step - accuracy: 0.8624 - loss: 0.3871 - val_accuracy: 0.8397 - val_loss: 0.4485\n",
      "Epoch 23/30\n",
      "118/118 - 1s - 7ms/step - accuracy: 0.8610 - loss: 0.3955 - val_accuracy: 0.8317 - val_loss: 0.4652\n",
      "Epoch 27/30\n",
      "118/118 - 1s - 7ms/step - accuracy: 0.8457 - loss: 0.4391 - val_accuracy: 0.8288 - val_loss: 0.4806\n",
      "Epoch 9/30\n",
      "118/118 - 1s - 7ms/step - accuracy: 0.8037 - loss: 0.5664 - val_accuracy: 0.8085 - val_loss: 0.5554\n",
      "Epoch 3/30\n",
      "118/118 - 1s - 7ms/step - accuracy: 0.8668 - loss: 0.3789 - val_accuracy: 0.8426 - val_loss: 0.4458\n",
      "Epoch 26/30\n",
      "118/118 - 1s - 11ms/step - accuracy: 0.8654 - loss: 0.3825 - val_accuracy: 0.8382 - val_loss: 0.4568\n",
      "118/118 - 1s - 7ms/step - accuracy: 0.8656 - loss: 0.3799 - val_accuracy: 0.8407 - val_loss: 0.4504\n",
      "Epoch 29/30\n",
      "118/118 - 1s - 6ms/step - accuracy: 0.8627 - loss: 0.3856 - val_accuracy: 0.8392 - val_loss: 0.4479\n",
      "Epoch 24/30\n",
      "118/118 - 1s - 6ms/step - accuracy: 0.8615 - loss: 0.3945 - val_accuracy: 0.8318 - val_loss: 0.4650\n",
      "Epoch 28/30\n",
      "118/118 - 1s - 10ms/step - accuracy: 0.8583 - loss: 0.4011 - val_accuracy: 0.8335 - val_loss: 0.4658\n",
      "Epoch 24/30\n",
      "118/118 - 1s - 7ms/step - accuracy: 0.8221 - loss: 0.5099 - val_accuracy: 0.8181 - val_loss: 0.5228\n",
      "Epoch 4/30\n",
      "118/118 - 1s - 7ms/step - accuracy: 0.8671 - loss: 0.3777 - val_accuracy: 0.8425 - val_loss: 0.4455\n",
      "Epoch 27/30\n",
      "118/118 - 1s - 7ms/step - accuracy: 0.8661 - loss: 0.3788 - val_accuracy: 0.8406 - val_loss: 0.4501\n",
      "Epoch 30/30\n",
      "118/118 - 1s - 7ms/step - accuracy: 0.8631 - loss: 0.3841 - val_accuracy: 0.8388 - val_loss: 0.4474\n",
      "Epoch 25/30\n"
     ]
    },
    {
     "name": "stderr",
     "output_type": "stream",
     "text": [
      "2024-07-31 07:54:00.470569: I external/local_tsl/tsl/profiler/lib/profiler_session.cc:104] Profiler session initializing.\n",
      "2024-07-31 07:54:00.470620: I external/local_tsl/tsl/profiler/lib/profiler_session.cc:119] Profiler session started.\n",
      "2024-07-31 07:54:00.480059: I external/local_tsl/tsl/profiler/lib/profiler_session.cc:131] Profiler session tear down.\n",
      "2024-07-31 07:54:00.502244: I external/local_xla/xla/backends/profiler/gpu/cupti_tracer.cc:1364] CUPTI activity buffer flushed\n"
     ]
    },
    {
     "name": "stdout",
     "output_type": "stream",
     "text": [
      "118/118 - 1s - 11ms/step - accuracy: 0.8475 - loss: 0.4322 - val_accuracy: 0.8298 - val_loss: 0.4760\n",
      "Epoch 10/30\n",
      "118/118 - 1s - 7ms/step - accuracy: 0.8616 - loss: 0.3935 - val_accuracy: 0.8323 - val_loss: 0.4650\n",
      "Epoch 29/30\n",
      "118/118 - 1s - 7ms/step - accuracy: 0.8588 - loss: 0.3998 - val_accuracy: 0.8335 - val_loss: 0.4656\n",
      "Epoch 25/30\n",
      "118/118 - 1s - 7ms/step - accuracy: 0.8316 - loss: 0.4810 - val_accuracy: 0.8241 - val_loss: 0.5044\n",
      "Epoch 5/30\n",
      "118/118 - 1s - 7ms/step - accuracy: 0.8666 - loss: 0.3777 - val_accuracy: 0.8410 - val_loss: 0.4499\n",
      "118/118 - 1s - 7ms/step - accuracy: 0.8636 - loss: 0.3828 - val_accuracy: 0.8391 - val_loss: 0.4470\n",
      "Epoch 26/30\n",
      "118/118 - 1s - 7ms/step - accuracy: 0.8496 - loss: 0.4264 - val_accuracy: 0.8302 - val_loss: 0.4723\n",
      "Epoch 11/30\n",
      "118/118 - 1s - 7ms/step - accuracy: 0.8618 - loss: 0.3925 - val_accuracy: 0.8327 - val_loss: 0.4649\n",
      "Epoch 30/30\n",
      "118/118 - 1s - 11ms/step - accuracy: 0.8676 - loss: 0.3765 - val_accuracy: 0.8425 - val_loss: 0.4452\n",
      "Epoch 28/30\n"
     ]
    },
    {
     "name": "stderr",
     "output_type": "stream",
     "text": [
      "2024-07-31 07:54:01.561663: I external/local_tsl/tsl/profiler/lib/profiler_session.cc:104] Profiler session initializing.\n",
      "2024-07-31 07:54:01.561712: I external/local_tsl/tsl/profiler/lib/profiler_session.cc:119] Profiler session started.\n",
      "2024-07-31 07:54:01.567668: I external/local_tsl/tsl/profiler/lib/profiler_session.cc:131] Profiler session tear down.\n",
      "2024-07-31 07:54:01.589801: I external/local_xla/xla/backends/profiler/gpu/cupti_tracer.cc:1364] CUPTI activity buffer flushed\n"
     ]
    },
    {
     "name": "stdout",
     "output_type": "stream",
     "text": [
      "118/118 - 1s - 6ms/step - accuracy: 0.8591 - loss: 0.3986 - val_accuracy: 0.8335 - val_loss: 0.4654\n",
      "Epoch 26/30\n",
      "118/118 - 1s - 7ms/step - accuracy: 0.8382 - loss: 0.4628 - val_accuracy: 0.8281 - val_loss: 0.4923\n",
      "Epoch 6/30\n",
      "118/118 - 1s - 6ms/step - accuracy: 0.8517 - loss: 0.4215 - val_accuracy: 0.8314 - val_loss: 0.4692\n",
      "Epoch 12/30\n",
      "118/118 - 1s - 7ms/step - accuracy: 0.8680 - loss: 0.3754 - val_accuracy: 0.8429 - val_loss: 0.4449\n",
      "Epoch 29/30\n",
      "118/118 - 1s - 6ms/step - accuracy: 0.8595 - loss: 0.3975 - val_accuracy: 0.8335 - val_loss: 0.4653\n",
      "Epoch 27/30\n",
      "118/118 - 1s - 10ms/step - accuracy: 0.8638 - loss: 0.3815 - val_accuracy: 0.8394 - val_loss: 0.4466\n",
      "Epoch 27/30\n",
      "118/118 - 1s - 7ms/step - accuracy: 0.8426 - loss: 0.4498 - val_accuracy: 0.8307 - val_loss: 0.4837\n",
      "Epoch 7/30\n",
      "118/118 - 1s - 11ms/step - accuracy: 0.8621 - loss: 0.3916 - val_accuracy: 0.8331 - val_loss: 0.4648\n",
      "118/118 - 1s - 6ms/step - accuracy: 0.8532 - loss: 0.4172 - val_accuracy: 0.8329 - val_loss: 0.4666\n",
      "Epoch 13/30\n",
      "118/118 - 1s - 6ms/step - accuracy: 0.8683 - loss: 0.3743 - val_accuracy: 0.8430 - val_loss: 0.4446\n",
      "Epoch 30/30\n"
     ]
    },
    {
     "name": "stderr",
     "output_type": "stream",
     "text": [
      "2024-07-31 07:54:03.082870: I external/local_tsl/tsl/profiler/lib/profiler_session.cc:104] Profiler session initializing.\n",
      "2024-07-31 07:54:03.082919: I external/local_tsl/tsl/profiler/lib/profiler_session.cc:119] Profiler session started.\n",
      "2024-07-31 07:54:03.090706: I external/local_tsl/tsl/profiler/lib/profiler_session.cc:131] Profiler session tear down.\n",
      "2024-07-31 07:54:03.112766: I external/local_xla/xla/backends/profiler/gpu/cupti_tracer.cc:1364] CUPTI activity buffer flushed\n"
     ]
    },
    {
     "name": "stdout",
     "output_type": "stream",
     "text": [
      "118/118 - 1s - 6ms/step - accuracy: 0.8598 - loss: 0.3964 - val_accuracy: 0.8341 - val_loss: 0.4652\n",
      "Epoch 28/30\n",
      "118/118 - 1s - 6ms/step - accuracy: 0.8455 - loss: 0.4400 - val_accuracy: 0.8323 - val_loss: 0.4772\n",
      "Epoch 8/30\n",
      "118/118 - 1s - 6ms/step - accuracy: 0.8544 - loss: 0.4134 - val_accuracy: 0.8331 - val_loss: 0.4643\n",
      "Epoch 14/30\n",
      "118/118 - 1s - 11ms/step - accuracy: 0.8642 - loss: 0.3803 - val_accuracy: 0.8399 - val_loss: 0.4462\n",
      "Epoch 28/30\n",
      "118/118 - 1s - 6ms/step - accuracy: 0.8687 - loss: 0.3733 - val_accuracy: 0.8437 - val_loss: 0.4444\n",
      "118/118 - 1s - 6ms/step - accuracy: 0.8600 - loss: 0.3954 - val_accuracy: 0.8342 - val_loss: 0.4651\n",
      "Epoch 29/30\n"
     ]
    },
    {
     "name": "stderr",
     "output_type": "stream",
     "text": [
      "2024-07-31 07:54:04.187971: I external/local_tsl/tsl/profiler/lib/profiler_session.cc:104] Profiler session initializing.\n",
      "2024-07-31 07:54:04.188129: I external/local_tsl/tsl/profiler/lib/profiler_session.cc:119] Profiler session started.\n",
      "2024-07-31 07:54:04.195814: I external/local_tsl/tsl/profiler/lib/profiler_session.cc:131] Profiler session tear down.\n",
      "2024-07-31 07:54:04.218893: I external/local_xla/xla/backends/profiler/gpu/cupti_tracer.cc:1364] CUPTI activity buffer flushed\n"
     ]
    },
    {
     "name": "stdout",
     "output_type": "stream",
     "text": [
      "118/118 - 1s - 6ms/step - accuracy: 0.8557 - loss: 0.4101 - val_accuracy: 0.8340 - val_loss: 0.4624\n",
      "Epoch 15/30\n",
      "118/118 - 1s - 6ms/step - accuracy: 0.8645 - loss: 0.3791 - val_accuracy: 0.8401 - val_loss: 0.4459\n",
      "Epoch 29/30\n",
      "118/118 - 1s - 10ms/step - accuracy: 0.8479 - loss: 0.4321 - val_accuracy: 0.8339 - val_loss: 0.4721\n",
      "Epoch 9/30\n",
      "\u001b[1m  8/118\u001b[0m \u001b[32m━\u001b[0m\u001b[37m━━━━━━━━━━━━━━━━━━━\u001b[0m \u001b[1m9s\u001b[0m 85ms/step118/118 - 2s - 14ms/step - accuracy: 0.8603 - loss: 0.3944 - val_accuracy: 0.8344 - val_loss: 0.4651\n",
      "Epoch 30/30\n",
      "\u001b[1m 13/118\u001b[0m \u001b[32m━━\u001b[0m\u001b[37m━━━━━━━━━━━━━━━━━━\u001b[0m \u001b[1m9s\u001b[0m 93ms/step118/118 - 2s - 14ms/step - accuracy: 0.8651 - loss: 0.3780 - val_accuracy: 0.8399 - val_loss: 0.4456\n",
      "Epoch 30/30\n",
      "118/118 - 2s - 14ms/step - accuracy: 0.8501 - loss: 0.4257 - val_accuracy: 0.8349 - val_loss: 0.4680\n",
      "Epoch 10/30\n",
      "\u001b[1m 31/118\u001b[0m \u001b[32m━━━━━\u001b[0m\u001b[37m━━━━━━━━━━━━━━━\u001b[0m \u001b[1m15s\u001b[0m 181ms/step118/118 - 6s - 51ms/step - accuracy: 0.8566 - loss: 0.4071 - val_accuracy: 0.8342 - val_loss: 0.4607\n",
      "Epoch 16/30\n",
      "\u001b[1m 37/118\u001b[0m \u001b[32m━━━━━━\u001b[0m\u001b[37m━━━━━━━━━━━━━━\u001b[0m \u001b[1m16s\u001b[0m 203ms/step118/118 - 7s - 57ms/step - accuracy: 0.8605 - loss: 0.3935 - val_accuracy: 0.8344 - val_loss: 0.4651\n",
      "\u001b[1m 16/118\u001b[0m \u001b[32m━━\u001b[0m\u001b[37m━━━━━━━━━━━━━━━━━━\u001b[0m \u001b[1m31s\u001b[0m 310ms/step"
     ]
    },
    {
     "name": "stderr",
     "output_type": "stream",
     "text": [
      "2024-07-31 07:54:12.718668: I external/local_tsl/tsl/profiler/lib/profiler_session.cc:104] Profiler session initializing.\n",
      "2024-07-31 07:54:12.718701: I external/local_tsl/tsl/profiler/lib/profiler_session.cc:119] Profiler session started.\n",
      "2024-07-31 07:54:12.790278: I external/local_tsl/tsl/profiler/lib/profiler_session.cc:131] Profiler session tear down.\n",
      "2024-07-31 07:54:12.811671: I external/local_xla/xla/backends/profiler/gpu/cupti_tracer.cc:1364] CUPTI activity buffer flushed\n"
     ]
    },
    {
     "name": "stdout",
     "output_type": "stream",
     "text": [
      "\u001b[1m 42/118\u001b[0m \u001b[32m━━━━━━━\u001b[0m\u001b[37m━━━━━━━━━━━━━\u001b[0m \u001b[1m16s\u001b[0m 216ms/step118/118 - 8s - 65ms/step - accuracy: 0.8656 - loss: 0.3770 - val_accuracy: 0.8404 - val_loss: 0.4453\n",
      "\u001b[1m 20/118\u001b[0m \u001b[32m━━━\u001b[0m\u001b[37m━━━━━━━━━━━━━━━━━\u001b[0m \u001b[1m30s\u001b[0m 309ms/step118/118 - 8s - 66ms/step - accuracy: 0.8518 - loss: 0.4202 - val_accuracy: 0.8362 - val_loss: 0.4647\n",
      "Epoch 11/30\n",
      "\u001b[1m 43/118\u001b[0m \u001b[32m━━━━━━━\u001b[0m\u001b[37m━━━━━━━━━━━━━\u001b[0m \u001b[1m16s\u001b[0m 218ms/step"
     ]
    },
    {
     "name": "stderr",
     "output_type": "stream",
     "text": [
      "2024-07-31 07:54:14.159016: I external/local_tsl/tsl/profiler/lib/profiler_session.cc:104] Profiler session initializing.\n",
      "2024-07-31 07:54:14.159056: I external/local_tsl/tsl/profiler/lib/profiler_session.cc:119] Profiler session started.\n",
      "2024-07-31 07:54:14.228265: I external/local_tsl/tsl/profiler/lib/profiler_session.cc:131] Profiler session tear down.\n",
      "2024-07-31 07:54:14.249843: I external/local_xla/xla/backends/profiler/gpu/cupti_tracer.cc:1364] CUPTI activity buffer flushed\n"
     ]
    },
    {
     "name": "stdout",
     "output_type": "stream",
     "text": [
      "\u001b[1m 37/118\u001b[0m \u001b[32m━━━━━━\u001b[0m\u001b[37m━━━━━━━━━━━━━━\u001b[0m \u001b[1m27s\u001b[0m 334ms/step118/118 - 10s - 82ms/step - accuracy: 0.8577 - loss: 0.4044 - val_accuracy: 0.8349 - val_loss: 0.4593\n",
      "Epoch 17/30\n",
      "\u001b[1m 21/118\u001b[0m \u001b[32m━━━\u001b[0m\u001b[37m━━━━━━━━━━━━━━━━━\u001b[0m \u001b[1m42s\u001b[0m 442ms/step118/118 - 12s - 98ms/step - accuracy: 0.8533 - loss: 0.4155 - val_accuracy: 0.8370 - val_loss: 0.4618\n",
      "Epoch 12/30\n",
      "\u001b[1m 34/118\u001b[0m \u001b[32m━━━━━\u001b[0m\u001b[37m━━━━━━━━━━━━━━━\u001b[0m \u001b[1m38s\u001b[0m 455ms/step118/118 - 13s - 109ms/step - accuracy: 0.8586 - loss: 0.4019 - val_accuracy: 0.8350 - val_loss: 0.4581\n",
      "Epoch 18/30\n",
      "\u001b[1m 81/118\u001b[0m \u001b[32m━━━━━━━━━━━━━\u001b[0m\u001b[37m━━━━━━━\u001b[0m \u001b[1m14s\u001b[0m 391ms/step118/118 - 13s - 110ms/step - accuracy: 0.8545 - loss: 0.4115 - val_accuracy: 0.8380 - val_loss: 0.4594\n",
      "Epoch 13/30\n",
      "\u001b[1m105/118\u001b[0m \u001b[32m━━━━━━━━━━━━━━━━━\u001b[0m\u001b[37m━━━\u001b[0m \u001b[1m4s\u001b[0m 384ms/step118/118 - 13s - 109ms/step - accuracy: 0.8591 - loss: 0.3997 - val_accuracy: 0.8358 - val_loss: 0.4570\n",
      "Epoch 19/30\n",
      "\u001b[1m118/118\u001b[0m \u001b[32m━━━━━━━━━━━━━━━━━━━━\u001b[0m\u001b[37m\u001b[0m \u001b[1m49s\u001b[0m 379ms/step\n",
      "\u001b[1m 4/20\u001b[0m \u001b[32m━━━━\u001b[0m\u001b[37m━━━━━━━━━━━━━━━━\u001b[0m \u001b[1m7s\u001b[0m 457ms/step118/118 - 13s - 106ms/step - accuracy: 0.8556 - loss: 0.4079 - val_accuracy: 0.8388 - val_loss: 0.4574\n",
      "Epoch 14/30\n",
      "\u001b[1m118/118\u001b[0m \u001b[32m━━━━━━━━━━━━━━━━━━━━\u001b[0m\u001b[37m\u001b[0m \u001b[1m52s\u001b[0m 410ms/step\n",
      "\u001b[1m 8/20\u001b[0m \u001b[32m━━━━━━━━\u001b[0m\u001b[37m━━━━━━━━━━━━\u001b[0m \u001b[1m4s\u001b[0m 343ms/stept118/118 - 11s - 92ms/step - accuracy: 0.8598 - loss: 0.3976 - val_accuracy: 0.8365 - val_loss: 0.4560\n",
      "Epoch 20/30\n",
      "\u001b[1m118/118\u001b[0m \u001b[32m━━━━━━━━━━━━━━━━━━━━\u001b[0m\u001b[37m\u001b[0m \u001b[1m54s\u001b[0m 426ms/step\n",
      "\u001b[1m118/118\u001b[0m \u001b[32m━━━━━━━━━━━━━━━━━━━━\u001b[0m\u001b[37m\u001b[0m \u001b[1m54s\u001b[0m 431ms/step\n",
      "\u001b[1m20/20\u001b[0m \u001b[32m━━━━━━━━━━━━━━━━━━━━\u001b[0m\u001b[37m\u001b[0m \u001b[1m9s\u001b[0m 481ms/step\n",
      "\u001b[1m 99/118\u001b[0m \u001b[32m━━━━━━━━━━━━━━━━\u001b[0m\u001b[37m━━━━\u001b[0m \u001b[1m8s\u001b[0m 423ms/stepEpoch 1/30\n",
      "\u001b[1m103/118\u001b[0m \u001b[32m━━━━━━━━━━━━━━━━━\u001b[0m\u001b[37m━━━\u001b[0m \u001b[1m6s\u001b[0m 422ms/step"
     ]
    },
    {
     "name": "stderr",
     "output_type": "stream",
     "text": [
      "2024-07-31 07:54:59.701478: I external/local_tsl/tsl/profiler/lib/profiler_session.cc:104] Profiler session initializing.\n",
      "2024-07-31 07:54:59.701519: I external/local_tsl/tsl/profiler/lib/profiler_session.cc:119] Profiler session started.\n"
     ]
    },
    {
     "name": "stdout",
     "output_type": "stream",
     "text": [
      "\u001b[1m102/118\u001b[0m \u001b[32m━━━━━━━━━━━━━━━━━\u001b[0m\u001b[37m━━━\u001b[0m \u001b[1m6s\u001b[0m 422ms/step"
     ]
    },
    {
     "name": "stderr",
     "output_type": "stream",
     "text": [
      "2024-07-31 07:55:00.716564: I external/local_tsl/tsl/profiler/lib/profiler_session.cc:70] Profiler session collecting data.\n",
      "2024-07-31 07:55:00.734577: I external/local_xla/xla/backends/profiler/gpu/cupti_tracer.cc:1364] CUPTI activity buffer flushed\n",
      "2024-07-31 07:55:00.753120: I external/local_xla/xla/backends/profiler/gpu/cupti_collector.cc:540]  GpuTracer has collected 75 callback api events and 62 activity events. \n",
      "2024-07-31 07:55:00.756323: I external/local_tsl/tsl/profiler/lib/profiler_session.cc:131] Profiler session tear down.\n",
      "2024-07-31 07:55:00.756523: I external/local_tsl/tsl/profiler/rpc/client/save_profile.cc:144] Collecting XSpace to repository: /workspaces/QML-QPF/multiprocessing/output/20240731-075014/runs/FASHIONMNIST/FASHIONMNISTqcnot2-3-0-1/plugins/profile/2024_07_31_07_55_00/1ba22281c77a.xplane.pb\n"
     ]
    },
    {
     "name": "stdout",
     "output_type": "stream",
     "text": [
      "\u001b[1m12/20\u001b[0m \u001b[32m━━━━━━━━━━━━\u001b[0m\u001b[37m━━━━━━━━\u001b[0m \u001b[1m2s\u001b[0m 344ms/step118/118 - 10s - 86ms/step - accuracy: 0.8572 - loss: 0.4046 - val_accuracy: 0.8393 - val_loss: 0.4556\n",
      "Epoch 15/30\n",
      "\u001b[1m20/20\u001b[0m \u001b[32m━━━━━━━━━━━━━━━━━━━━\u001b[0m\u001b[37m\u001b[0m \u001b[1m8s\u001b[0m 441ms/step\n",
      "\u001b[1m114/118\u001b[0m \u001b[32m━━━━━━━━━━━━━━━━━━━\u001b[0m\u001b[37m━\u001b[0m \u001b[1m1s\u001b[0m 413ms/stepEpoch 1/30\n",
      "\u001b[1m111/118\u001b[0m \u001b[32m━━━━━━━━━━━━━━━━━━\u001b[0m\u001b[37m━━\u001b[0m \u001b[1m2s\u001b[0m 413ms/step"
     ]
    },
    {
     "name": "stderr",
     "output_type": "stream",
     "text": [
      "2024-07-31 07:55:03.519570: I external/local_tsl/tsl/profiler/lib/profiler_session.cc:104] Profiler session initializing.\n",
      "2024-07-31 07:55:03.519616: I external/local_tsl/tsl/profiler/lib/profiler_session.cc:119] Profiler session started.\n"
     ]
    },
    {
     "name": "stdout",
     "output_type": "stream",
     "text": [
      "\u001b[1m19/20\u001b[0m \u001b[32m━━━━━━━━━━━━━━━━━━━\u001b[0m\u001b[37m━\u001b[0m \u001b[1m0s\u001b[0m 314ms/step"
     ]
    },
    {
     "name": "stderr",
     "output_type": "stream",
     "text": [
      "2024-07-31 07:55:04.454224: I external/local_tsl/tsl/profiler/lib/profiler_session.cc:70] Profiler session collecting data.\n",
      "2024-07-31 07:55:04.472061: I external/local_xla/xla/backends/profiler/gpu/cupti_tracer.cc:1364] CUPTI activity buffer flushed\n",
      "2024-07-31 07:55:04.494017: I external/local_xla/xla/backends/profiler/gpu/cupti_collector.cc:540]  GpuTracer has collected 77 callback api events and 63 activity events. \n",
      "2024-07-31 07:55:04.497809: I external/local_tsl/tsl/profiler/lib/profiler_session.cc:131] Profiler session tear down.\n",
      "2024-07-31 07:55:04.498001: I external/local_tsl/tsl/profiler/rpc/client/save_profile.cc:144] Collecting XSpace to repository: /workspaces/QML-QPF/multiprocessing/output/20240731-075014/runs/FASHIONMNIST/FASHIONMNISTqcnot2-3-1-0/plugins/profile/2024_07_31_07_55_04/1ba22281c77a.xplane.pb\n"
     ]
    },
    {
     "name": "stdout",
     "output_type": "stream",
     "text": [
      "\u001b[1m117/118\u001b[0m \u001b[32m━━━━━━━━━━━━━━━━━━━\u001b[0m\u001b[37m━\u001b[0m \u001b[1m0s\u001b[0m 403ms/step118/118 - 8s - 68ms/step - accuracy: 0.8603 - loss: 0.3957 - val_accuracy: 0.8371 - val_loss: 0.4552\n",
      "Epoch 21/30\n",
      "118/118 - 4s - 34ms/step - accuracy: 0.8583 - loss: 0.4018 - val_accuracy: 0.8389 - val_loss: 0.4541\n",
      "Epoch 16/30\n",
      "118/118 - 1s - 7ms/step - accuracy: 0.8609 - loss: 0.3940 - val_accuracy: 0.8374 - val_loss: 0.4545\n",
      "Epoch 22/30\n",
      "118/118 - 6s - 54ms/step - accuracy: 0.6922 - loss: 0.8995 - val_accuracy: 0.7844 - val_loss: 0.6224\n",
      "Epoch 2/30\n",
      "118/118 - 1s - 6ms/step - accuracy: 0.8591 - loss: 0.3991 - val_accuracy: 0.8394 - val_loss: 0.4527\n",
      "Epoch 17/30\n",
      "\u001b[1m20/20\u001b[0m \u001b[32m━━━━━━━━━━━━━━━━━━━━\u001b[0m\u001b[37m\u001b[0m \u001b[1m9s\u001b[0m 455ms/step\n",
      "118/118 - 3s - 24ms/step - accuracy: 0.6925 - loss: 0.8994 - val_accuracy: 0.7815 - val_loss: 0.6279\n",
      "Epoch 2/30\n",
      "118/118 - 1s - 7ms/step - accuracy: 0.8614 - loss: 0.3923 - val_accuracy: 0.8379 - val_loss: 0.4538\n",
      "Epoch 23/30\n",
      "Epoch 1/30\n",
      "118/118 - 1s - 7ms/step - accuracy: 0.8067 - loss: 0.5571 - val_accuracy: 0.8105 - val_loss: 0.5453\n",
      "Epoch 3/30\n"
     ]
    },
    {
     "name": "stderr",
     "output_type": "stream",
     "text": [
      "2024-07-31 07:55:06.734740: I external/local_tsl/tsl/profiler/lib/profiler_session.cc:104] Profiler session initializing.\n",
      "2024-07-31 07:55:06.734786: I external/local_tsl/tsl/profiler/lib/profiler_session.cc:119] Profiler session started.\n"
     ]
    },
    {
     "name": "stdout",
     "output_type": "stream",
     "text": [
      "118/118 - 1s - 7ms/step - accuracy: 0.8599 - loss: 0.3967 - val_accuracy: 0.8397 - val_loss: 0.4515\n",
      "Epoch 18/30\n",
      "\u001b[1m20/20\u001b[0m \u001b[32m━━━━━━━━━━━━━━━━━━━━\u001b[0m\u001b[37m\u001b[0m \u001b[1m8s\u001b[0m 425ms/step\n",
      "118/118 - 1s - 7ms/step - accuracy: 0.8057 - loss: 0.5603 - val_accuracy: 0.8094 - val_loss: 0.5459\n",
      "Epoch 3/30\n",
      "Epoch 1/30\n",
      "118/118 - 1s - 7ms/step - accuracy: 0.8251 - loss: 0.5028 - val_accuracy: 0.8208 - val_loss: 0.5138\n",
      "Epoch 4/30\n",
      "\u001b[1m118/118\u001b[0m \u001b[32m━━━━━━━━━━━━━━━━━━━━\u001b[0m\u001b[37m\u001b[0m \u001b[1m55s\u001b[0m 435ms/step\n"
     ]
    },
    {
     "name": "stderr",
     "output_type": "stream",
     "text": [
      "2024-07-31 07:55:07.560615: I external/local_tsl/tsl/profiler/lib/profiler_session.cc:104] Profiler session initializing.\n",
      "2024-07-31 07:55:07.560667: I external/local_tsl/tsl/profiler/lib/profiler_session.cc:119] Profiler session started.\n",
      "2024-07-31 07:55:07.563531: I external/local_tsl/tsl/profiler/lib/profiler_session.cc:70] Profiler session collecting data.\n",
      "2024-07-31 07:55:07.583949: I external/local_xla/xla/backends/profiler/gpu/cupti_tracer.cc:1364] CUPTI activity buffer flushed\n",
      "2024-07-31 07:55:07.608558: I external/local_xla/xla/backends/profiler/gpu/cupti_collector.cc:540]  GpuTracer has collected 77 callback api events and 63 activity events. \n",
      "2024-07-31 07:55:07.613580: I external/local_tsl/tsl/profiler/lib/profiler_session.cc:131] Profiler session tear down.\n",
      "2024-07-31 07:55:07.613821: I external/local_tsl/tsl/profiler/rpc/client/save_profile.cc:144] Collecting XSpace to repository: /workspaces/QML-QPF/multiprocessing/output/20240731-075014/runs/FASHIONMNIST/FASHIONMNISTqcnot3-0-1-2/plugins/profile/2024_07_31_07_55_07/1ba22281c77a.xplane.pb\n"
     ]
    },
    {
     "name": "stdout",
     "output_type": "stream",
     "text": [
      "118/118 - 1s - 7ms/step - accuracy: 0.8608 - loss: 0.3945 - val_accuracy: 0.8394 - val_loss: 0.4504\n",
      "Epoch 19/30\n",
      "118/118 - 1s - 10ms/step - accuracy: 0.8617 - loss: 0.3908 - val_accuracy: 0.8379 - val_loss: 0.4533\n",
      "Epoch 24/30\n",
      "\u001b[1m118/118\u001b[0m \u001b[32m━━━━━━━━━━━━━━━━━━━━\u001b[0m\u001b[37m\u001b[0m \u001b[1m54s\u001b[0m 429ms/step\n",
      "\u001b[1m 7/20\u001b[0m \u001b[32m━━━━━━━\u001b[0m\u001b[37m━━━━━━━━━━━━━\u001b[0m \u001b[1m1s\u001b[0m 95ms/step"
     ]
    },
    {
     "name": "stderr",
     "output_type": "stream",
     "text": [
      "2024-07-31 07:55:08.479226: I external/local_tsl/tsl/profiler/lib/profiler_session.cc:70] Profiler session collecting data.\n",
      "2024-07-31 07:55:08.501538: I external/local_xla/xla/backends/profiler/gpu/cupti_tracer.cc:1364] CUPTI activity buffer flushed\n",
      "2024-07-31 07:55:08.524965: I external/local_xla/xla/backends/profiler/gpu/cupti_collector.cc:540]  GpuTracer has collected 75 callback api events and 62 activity events. \n",
      "2024-07-31 07:55:08.528825: I external/local_tsl/tsl/profiler/lib/profiler_session.cc:131] Profiler session tear down.\n",
      "2024-07-31 07:55:08.529019: I external/local_tsl/tsl/profiler/rpc/client/save_profile.cc:144] Collecting XSpace to repository: /workspaces/QML-QPF/multiprocessing/output/20240731-075014/runs/FASHIONMNIST/FASHIONMNISTqcnot3-1-0-2/plugins/profile/2024_07_31_07_55_08/1ba22281c77a.xplane.pb\n"
     ]
    },
    {
     "name": "stdout",
     "output_type": "stream",
     "text": [
      "\u001b[1m 7/20\u001b[0m \u001b[32m━━━━━━━\u001b[0m\u001b[37m━━━━━━━━━━━━━\u001b[0m \u001b[1m2s\u001b[0m 169ms/step118/118 - 3s - 22ms/step - accuracy: 0.8256 - loss: 0.5017 - val_accuracy: 0.8211 - val_loss: 0.5119\n",
      "Epoch 4/30\n",
      "\u001b[1m10/20\u001b[0m \u001b[32m━━━━━━━━━━\u001b[0m\u001b[37m━━━━━━━━━━\u001b[0m \u001b[1m1s\u001b[0m 169ms/step118/118 - 4s - 30ms/step - accuracy: 0.6652 - loss: 0.9765 - val_accuracy: 0.7723 - val_loss: 0.6505\n",
      "Epoch 2/30\n",
      "118/118 - 3s - 22ms/step - accuracy: 0.8342 - loss: 0.4755 - val_accuracy: 0.8263 - val_loss: 0.4961\n",
      "Epoch 5/30\n",
      "\u001b[1m15/20\u001b[0m \u001b[32m━━━━━━━━━━━━━━━\u001b[0m\u001b[37m━━━━━\u001b[0m \u001b[1m0s\u001b[0m 161ms/step118/118 - 3s - 27ms/step - accuracy: 0.8614 - loss: 0.3925 - val_accuracy: 0.8395 - val_loss: 0.4495\n",
      "Epoch 20/30\n",
      "\u001b[1m17/20\u001b[0m \u001b[32m━━━━━━━━━━━━━━━━━\u001b[0m\u001b[37m━━━\u001b[0m \u001b[1m0s\u001b[0m 153ms/step118/118 - 3s - 28ms/step - accuracy: 0.8622 - loss: 0.3894 - val_accuracy: 0.8381 - val_loss: 0.4528\n",
      "Epoch 25/30\n",
      "\u001b[1m19/20\u001b[0m \u001b[32m━━━━━━━━━━━━━━━━━━━\u001b[0m\u001b[37m━\u001b[0m \u001b[1m0s\u001b[0m 146ms/step118/118 - 2s - 18ms/step - accuracy: 0.8361 - loss: 0.4720 - val_accuracy: 0.8282 - val_loss: 0.4927\n",
      "Epoch 5/30\n",
      "118/118 - 2s - 14ms/step - accuracy: 0.8020 - loss: 0.5777 - val_accuracy: 0.8021 - val_loss: 0.5660\n",
      "118/118 - 2s - 14ms/step - accuracy: 0.8403 - loss: 0.4584 - val_accuracy: 0.8297 - val_loss: 0.4847\n",
      "Epoch 6/30\n",
      "Epoch 3/30\n",
      "118/118 - 1s - 7ms/step - accuracy: 0.8627 - loss: 0.3881 - val_accuracy: 0.8381 - val_loss: 0.4524\n",
      "Epoch 26/30\n",
      "118/118 - 5s - 40ms/step - accuracy: 0.6817 - loss: 0.9345 - val_accuracy: 0.7647 - val_loss: 0.6601\n",
      "Epoch 2/30\n",
      "118/118 - 1s - 6ms/step - accuracy: 0.8424 - loss: 0.4533 - val_accuracy: 0.8317 - val_loss: 0.4802\n",
      "Epoch 6/30\n",
      "118/118 - 1s - 6ms/step - accuracy: 0.8207 - loss: 0.5184 - val_accuracy: 0.8130 - val_loss: 0.5313\n",
      "Epoch 4/30\n",
      "118/118 - 1s - 6ms/step - accuracy: 0.8443 - loss: 0.4463 - val_accuracy: 0.8315 - val_loss: 0.4766\n",
      "Epoch 7/30\n",
      "118/118 - 1s - 6ms/step - accuracy: 0.8633 - loss: 0.3868 - val_accuracy: 0.8379 - val_loss: 0.4520\n",
      "Epoch 27/30\n",
      "118/118 - 1s - 6ms/step - accuracy: 0.7994 - loss: 0.5807 - val_accuracy: 0.7933 - val_loss: 0.5740\n",
      "Epoch 3/30\n",
      "\u001b[1m20/20\u001b[0m \u001b[32m━━━━━━━━━━━━━━━━━━━━\u001b[0m\u001b[37m\u001b[0m \u001b[1m5s\u001b[0m 265ms/step\n",
      "118/118 - 1s - 7ms/step - accuracy: 0.8476 - loss: 0.4401 - val_accuracy: 0.8327 - val_loss: 0.4715\n",
      "Epoch 7/30\n",
      "118/118 - 1s - 7ms/step - accuracy: 0.8314 - loss: 0.4884 - val_accuracy: 0.8221 - val_loss: 0.5117\n",
      "Epoch 5/30\n",
      "118/118 - 1s - 7ms/step - accuracy: 0.8473 - loss: 0.4372 - val_accuracy: 0.8338 - val_loss: 0.4707\n",
      "Epoch 8/30\n",
      "Epoch 1/30\n",
      "118/118 - 1s - 7ms/step - accuracy: 0.8636 - loss: 0.3856 - val_accuracy: 0.8381 - val_loss: 0.4517\n",
      "Epoch 28/30\n",
      "\u001b[1m20/20\u001b[0m \u001b[32m━━━━━━━━━━━━━━━━━━━━\u001b[0m\u001b[37m\u001b[0m \u001b[1m5s\u001b[0m 266ms/step\n",
      "118/118 - 3s - 24ms/step - accuracy: 0.8620 - loss: 0.3906 - val_accuracy: 0.8401 - val_loss: 0.4486\n",
      "Epoch 21/30\n"
     ]
    },
    {
     "name": "stderr",
     "output_type": "stream",
     "text": [
      "2024-07-31 07:55:13.623777: I external/local_tsl/tsl/profiler/lib/profiler_session.cc:104] Profiler session initializing.\n",
      "2024-07-31 07:55:13.623999: I external/local_tsl/tsl/profiler/lib/profiler_session.cc:119] Profiler session started.\n"
     ]
    },
    {
     "name": "stdout",
     "output_type": "stream",
     "text": [
      "118/118 - 1s - 7ms/step - accuracy: 0.8176 - loss: 0.5203 - val_accuracy: 0.8075 - val_loss: 0.5386\n",
      "Epoch 4/30\n",
      "118/118 - 1s - 7ms/step - accuracy: 0.8515 - loss: 0.4301 - val_accuracy: 0.8345 - val_loss: 0.4650\n",
      "Epoch 8/30\n",
      "Epoch 1/30\n",
      "118/118 - 1s - 7ms/step - accuracy: 0.8380 - loss: 0.4693 - val_accuracy: 0.8261 - val_loss: 0.4987\n",
      "Epoch 6/30\n",
      "118/118 - 1s - 7ms/step - accuracy: 0.8499 - loss: 0.4301 - val_accuracy: 0.8364 - val_loss: 0.4661\n",
      "Epoch 9/30\n",
      "118/118 - 1s - 7ms/step - accuracy: 0.8640 - loss: 0.3845 - val_accuracy: 0.8378 - val_loss: 0.4515\n",
      "Epoch 29/30\n"
     ]
    },
    {
     "name": "stderr",
     "output_type": "stream",
     "text": [
      "2024-07-31 07:55:14.247123: I external/local_tsl/tsl/profiler/lib/profiler_session.cc:104] Profiler session initializing.\n",
      "2024-07-31 07:55:14.247177: I external/local_tsl/tsl/profiler/lib/profiler_session.cc:119] Profiler session started.\n",
      "2024-07-31 07:55:14.486653: I external/local_tsl/tsl/profiler/lib/profiler_session.cc:70] Profiler session collecting data.\n",
      "2024-07-31 07:55:14.509327: I external/local_xla/xla/backends/profiler/gpu/cupti_tracer.cc:1364] CUPTI activity buffer flushed\n",
      "2024-07-31 07:55:14.534653: I external/local_xla/xla/backends/profiler/gpu/cupti_collector.cc:540]  GpuTracer has collected 77 callback api events and 63 activity events. \n",
      "2024-07-31 07:55:14.539391: I external/local_tsl/tsl/profiler/lib/profiler_session.cc:131] Profiler session tear down.\n",
      "2024-07-31 07:55:14.539643: I external/local_tsl/tsl/profiler/rpc/client/save_profile.cc:144] Collecting XSpace to repository: /workspaces/QML-QPF/multiprocessing/output/20240731-075014/runs/FASHIONMNIST/FASHIONMNISTqcnot3-0-2-1/plugins/profile/2024_07_31_07_55_14/1ba22281c77a.xplane.pb\n"
     ]
    },
    {
     "name": "stdout",
     "output_type": "stream",
     "text": [
      "118/118 - 1s - 6ms/step - accuracy: 0.8272 - loss: 0.4899 - val_accuracy: 0.8132 - val_loss: 0.5187\n",
      "Epoch 5/30\n",
      "118/118 - 1s - 10ms/step - accuracy: 0.8629 - loss: 0.3889 - val_accuracy: 0.8402 - val_loss: 0.4479\n",
      "Epoch 22/30\n",
      "118/118 - 1s - 6ms/step - accuracy: 0.8423 - loss: 0.4557 - val_accuracy: 0.8289 - val_loss: 0.4895\n",
      "Epoch 7/30\n",
      "118/118 - 1s - 6ms/step - accuracy: 0.8521 - loss: 0.4242 - val_accuracy: 0.8371 - val_loss: 0.4624\n",
      "Epoch 10/30\n",
      "118/118 - 1s - 6ms/step - accuracy: 0.8643 - loss: 0.3835 - val_accuracy: 0.8379 - val_loss: 0.4512\n",
      "Epoch 30/30\n"
     ]
    },
    {
     "name": "stderr",
     "output_type": "stream",
     "text": [
      "2024-07-31 07:55:15.145660: I external/local_tsl/tsl/profiler/lib/profiler_session.cc:70] Profiler session collecting data.\n",
      "2024-07-31 07:55:15.168799: I external/local_xla/xla/backends/profiler/gpu/cupti_tracer.cc:1364] CUPTI activity buffer flushed\n",
      "2024-07-31 07:55:15.194266: I external/local_xla/xla/backends/profiler/gpu/cupti_collector.cc:540]  GpuTracer has collected 75 callback api events and 62 activity events. \n",
      "2024-07-31 07:55:15.199104: I external/local_tsl/tsl/profiler/lib/profiler_session.cc:131] Profiler session tear down.\n",
      "2024-07-31 07:55:15.199456: I external/local_tsl/tsl/profiler/rpc/client/save_profile.cc:144] Collecting XSpace to repository: /workspaces/QML-QPF/multiprocessing/output/20240731-075014/runs/FASHIONMNIST/FASHIONMNISTqcnot3-1-2-0/plugins/profile/2024_07_31_07_55_15/1ba22281c77a.xplane.pb\n"
     ]
    },
    {
     "name": "stdout",
     "output_type": "stream",
     "text": [
      "118/118 - 1s - 10ms/step - accuracy: 0.8541 - loss: 0.4223 - val_accuracy: 0.8358 - val_loss: 0.4601\n",
      "Epoch 9/30\n",
      "118/118 - 1s - 7ms/step - accuracy: 0.8633 - loss: 0.3873 - val_accuracy: 0.8404 - val_loss: 0.4472\n",
      "Epoch 23/30\n",
      "118/118 - 1s - 7ms/step - accuracy: 0.8461 - loss: 0.4453 - val_accuracy: 0.8308 - val_loss: 0.4826\n",
      "Epoch 8/30\n",
      "118/118 - 1s - 7ms/step - accuracy: 0.8534 - loss: 0.4193 - val_accuracy: 0.8385 - val_loss: 0.4594\n",
      "Epoch 11/30\n",
      "118/118 - 2s - 20ms/step - accuracy: 0.6742 - loss: 0.9536 - val_accuracy: 0.7750 - val_loss: 0.6408\n",
      "Epoch 2/30\n",
      "118/118 - 1s - 7ms/step - accuracy: 0.8644 - loss: 0.3825 - val_accuracy: 0.8379 - val_loss: 0.4511\n",
      "118/118 - 1s - 11ms/step - accuracy: 0.8339 - loss: 0.4706 - val_accuracy: 0.8178 - val_loss: 0.5056\n",
      "Epoch 6/30\n",
      "118/118 - 1s - 7ms/step - accuracy: 0.8564 - loss: 0.4159 - val_accuracy: 0.8359 - val_loss: 0.4562\n",
      "Epoch 10/30\n"
     ]
    },
    {
     "name": "stderr",
     "output_type": "stream",
     "text": [
      "2024-07-31 07:55:16.185384: I external/local_tsl/tsl/profiler/lib/profiler_session.cc:104] Profiler session initializing.\n",
      "2024-07-31 07:55:16.185438: I external/local_tsl/tsl/profiler/lib/profiler_session.cc:119] Profiler session started.\n",
      "2024-07-31 07:55:16.193808: I external/local_tsl/tsl/profiler/lib/profiler_session.cc:131] Profiler session tear down.\n",
      "2024-07-31 07:55:16.218162: I external/local_xla/xla/backends/profiler/gpu/cupti_tracer.cc:1364] CUPTI activity buffer flushed\n"
     ]
    },
    {
     "name": "stdout",
     "output_type": "stream",
     "text": [
      "118/118 - 1s - 7ms/step - accuracy: 0.8638 - loss: 0.3857 - val_accuracy: 0.8406 - val_loss: 0.4466\n",
      "Epoch 24/30\n",
      "118/118 - 1s - 7ms/step - accuracy: 0.8483 - loss: 0.4370 - val_accuracy: 0.8335 - val_loss: 0.4772\n",
      "Epoch 9/30\n",
      "118/118 - 1s - 7ms/step - accuracy: 0.8547 - loss: 0.4151 - val_accuracy: 0.8394 - val_loss: 0.4570\n",
      "Epoch 12/30\n",
      "118/118 - 1s - 7ms/step - accuracy: 0.8019 - loss: 0.5705 - val_accuracy: 0.8058 - val_loss: 0.5558\n",
      "118/118 - 1s - 7ms/step - accuracy: 0.8391 - loss: 0.4570 - val_accuracy: 0.8205 - val_loss: 0.4964\n",
      "Epoch 3/30\n",
      "Epoch 7/30\n",
      "118/118 - 3s - 24ms/step - accuracy: 0.6783 - loss: 0.9319 - val_accuracy: 0.7698 - val_loss: 0.6494\n",
      "Epoch 2/30\n",
      "118/118 - 1s - 7ms/step - accuracy: 0.8583 - loss: 0.4106 - val_accuracy: 0.8376 - val_loss: 0.4531\n",
      "Epoch 11/30\n",
      "118/118 - 1s - 7ms/step - accuracy: 0.8643 - loss: 0.3843 - val_accuracy: 0.8409 - val_loss: 0.4460\n",
      "Epoch 25/30\n",
      "118/118 - 1s - 7ms/step - accuracy: 0.8501 - loss: 0.4302 - val_accuracy: 0.8345 - val_loss: 0.4728\n",
      "Epoch 10/30\n",
      "118/118 - 1s - 7ms/step - accuracy: 0.8559 - loss: 0.4115 - val_accuracy: 0.8398 - val_loss: 0.4549\n",
      "Epoch 13/30\n",
      "118/118 - 1s - 7ms/step - accuracy: 0.8432 - loss: 0.4467 - val_accuracy: 0.8235 - val_loss: 0.4894\n",
      "118/118 - 1s - 7ms/step - accuracy: 0.8221 - loss: 0.5108 - val_accuracy: 0.8171 - val_loss: 0.5217\n",
      "Epoch 8/30\n",
      "Epoch 4/30\n",
      "118/118 - 1s - 7ms/step - accuracy: 0.8593 - loss: 0.4061 - val_accuracy: 0.8393 - val_loss: 0.4505\n",
      "Epoch 12/30\n",
      "118/118 - 1s - 7ms/step - accuracy: 0.7995 - loss: 0.5754 - val_accuracy: 0.7952 - val_loss: 0.5719\n",
      "Epoch 3/30\n",
      "118/118 - 1s - 6ms/step - accuracy: 0.8646 - loss: 0.3830 - val_accuracy: 0.8414 - val_loss: 0.4455\n",
      "Epoch 26/30\n",
      "118/118 - 1s - 7ms/step - accuracy: 0.8518 - loss: 0.4244 - val_accuracy: 0.8360 - val_loss: 0.4693\n",
      "Epoch 11/30\n",
      "118/118 - 1s - 6ms/step - accuracy: 0.8325 - loss: 0.4804 - val_accuracy: 0.8239 - val_loss: 0.5025\n",
      "Epoch 5/30\n",
      "118/118 - 1s - 7ms/step - accuracy: 0.8170 - loss: 0.5198 - val_accuracy: 0.8050 - val_loss: 0.5397\n",
      "Epoch 4/30\n",
      "118/118 - 1s - 10ms/step - accuracy: 0.8570 - loss: 0.4084 - val_accuracy: 0.8399 - val_loss: 0.4532\n",
      "Epoch 14/30\n",
      "118/118 - 1s - 10ms/step - accuracy: 0.8457 - loss: 0.4385 - val_accuracy: 0.8266 - val_loss: 0.4839\n",
      "Epoch 9/30\n",
      "118/118 - 1s - 6ms/step - accuracy: 0.8650 - loss: 0.3817 - val_accuracy: 0.8416 - val_loss: 0.4451\n",
      "Epoch 27/30\n",
      "118/118 - 1s - 7ms/step - accuracy: 0.8531 - loss: 0.4195 - val_accuracy: 0.8365 - val_loss: 0.4663\n",
      "Epoch 12/30\n",
      "118/118 - 1s - 11ms/step - accuracy: 0.8608 - loss: 0.4021 - val_accuracy: 0.8397 - val_loss: 0.4484\n",
      "Epoch 13/30\n",
      "118/118 - 1s - 7ms/step - accuracy: 0.8265 - loss: 0.4913 - val_accuracy: 0.8098 - val_loss: 0.5212\n",
      "Epoch 5/30\n",
      "118/118 - 1s - 7ms/step - accuracy: 0.8581 - loss: 0.4055 - val_accuracy: 0.8416 - val_loss: 0.4517\n",
      "Epoch 15/30\n",
      "118/118 - 1s - 7ms/step - accuracy: 0.8482 - loss: 0.4318 - val_accuracy: 0.8284 - val_loss: 0.4795\n",
      "Epoch 10/30\n",
      "118/118 - 1s - 11ms/step - accuracy: 0.8395 - loss: 0.4611 - val_accuracy: 0.8274 - val_loss: 0.4901\n",
      "Epoch 6/30\n",
      "118/118 - 1s - 7ms/step - accuracy: 0.8653 - loss: 0.3805 - val_accuracy: 0.8420 - val_loss: 0.4447\n",
      "Epoch 28/30\n",
      "118/118 - 1s - 7ms/step - accuracy: 0.8540 - loss: 0.4151 - val_accuracy: 0.8377 - val_loss: 0.4638\n",
      "Epoch 13/30\n",
      "118/118 - 1s - 7ms/step - accuracy: 0.8614 - loss: 0.3987 - val_accuracy: 0.8407 - val_loss: 0.4467\n",
      "Epoch 14/30\n",
      "118/118 - 1s - 7ms/step - accuracy: 0.8340 - loss: 0.4731 - val_accuracy: 0.8156 - val_loss: 0.5089\n",
      "Epoch 6/30\n",
      "118/118 - 1s - 7ms/step - accuracy: 0.8591 - loss: 0.4030 - val_accuracy: 0.8417 - val_loss: 0.4504\n",
      "Epoch 16/30\n",
      "118/118 - 1s - 7ms/step - accuracy: 0.8502 - loss: 0.4261 - val_accuracy: 0.8294 - val_loss: 0.4760\n",
      "Epoch 11/30\n",
      "118/118 - 1s - 7ms/step - accuracy: 0.8440 - loss: 0.4475 - val_accuracy: 0.8304 - val_loss: 0.4814\n",
      "Epoch 7/30\n",
      "118/118 - 1s - 7ms/step - accuracy: 0.8657 - loss: 0.3794 - val_accuracy: 0.8420 - val_loss: 0.4443\n",
      "Epoch 29/30\n",
      "118/118 - 1s - 7ms/step - accuracy: 0.8554 - loss: 0.4113 - val_accuracy: 0.8381 - val_loss: 0.4617\n",
      "Epoch 14/30\n",
      "118/118 - 1s - 7ms/step - accuracy: 0.8621 - loss: 0.3956 - val_accuracy: 0.8408 - val_loss: 0.4451\n",
      "Epoch 15/30\n",
      "\u001b[1m  1/118\u001b[0m \u001b[37m━━━━━━━━━━━━━━━━━━━━\u001b[0m \u001b[1m8:37\u001b[0m 4s/step118/118 - 1s - 7ms/step - accuracy: 0.8386 - loss: 0.4601 - val_accuracy: 0.8184 - val_loss: 0.5002\n",
      "Epoch 7/30\n",
      "\u001b[1m  5/118\u001b[0m \u001b[37m━━━━━━━━━━━━━━━━━━━━\u001b[0m \u001b[1m10s\u001b[0m 96ms/step118/118 - 1s - 9ms/step - accuracy: 0.8520 - loss: 0.4212 - val_accuracy: 0.8304 - val_loss: 0.4730\n",
      "Epoch 12/30\n",
      "\u001b[1m  7/118\u001b[0m \u001b[32m━\u001b[0m\u001b[37m━━━━━━━━━━━━━━━━━━━\u001b[0m \u001b[1m10s\u001b[0m 96ms/step118/118 - 1s - 10ms/step - accuracy: 0.8473 - loss: 0.4372 - val_accuracy: 0.8321 - val_loss: 0.4750\n",
      "Epoch 8/30\n",
      "\u001b[1m  9/118\u001b[0m \u001b[32m━\u001b[0m\u001b[37m━━━━━━━━━━━━━━━━━━━\u001b[0m \u001b[1m10s\u001b[0m 97ms/step118/118 - 1s - 11ms/step - accuracy: 0.8659 - loss: 0.3783 - val_accuracy: 0.8422 - val_loss: 0.4440\n",
      "Epoch 30/30\n",
      "\u001b[1m 12/118\u001b[0m \u001b[32m━━\u001b[0m\u001b[37m━━━━━━━━━━━━━━━━━━\u001b[0m \u001b[1m10s\u001b[0m 97ms/step118/118 - 2s - 13ms/step - accuracy: 0.8565 - loss: 0.4079 - val_accuracy: 0.8390 - val_loss: 0.4599\n",
      "Epoch 15/30\n",
      "\u001b[1m 14/118\u001b[0m \u001b[32m━━\u001b[0m\u001b[37m━━━━━━━━━━━━━━━━━━\u001b[0m \u001b[1m10s\u001b[0m 97ms/step118/118 - 2s - 15ms/step - accuracy: 0.8626 - loss: 0.3929 - val_accuracy: 0.8414 - val_loss: 0.4439\n",
      "Epoch 16/30\n",
      "\u001b[1m 17/118\u001b[0m \u001b[32m━━\u001b[0m\u001b[37m━━━━━━━━━━━━━━━━━━\u001b[0m \u001b[1m9s\u001b[0m 97ms/step118/118 - 2s - 20ms/step - accuracy: 0.8599 - loss: 0.4008 - val_accuracy: 0.8421 - val_loss: 0.4493\n",
      "Epoch 17/30\n",
      "\u001b[1m 33/118\u001b[0m \u001b[32m━━━━━\u001b[0m\u001b[37m━━━━━━━━━━━━━━━\u001b[0m \u001b[1m8s\u001b[0m 98ms/step118/118 - 3s - 27ms/step - accuracy: 0.8416 - loss: 0.4504 - val_accuracy: 0.8210 - val_loss: 0.4938\n",
      "Epoch 8/30\n",
      "\u001b[1m 34/118\u001b[0m \u001b[32m━━━━━\u001b[0m\u001b[37m━━━━━━━━━━━━━━━\u001b[0m \u001b[1m8s\u001b[0m 98ms/step118/118 - 3s - 24ms/step - accuracy: 0.8533 - loss: 0.4170 - val_accuracy: 0.8314 - val_loss: 0.4705\n",
      "Epoch 13/30\n",
      "\u001b[1m 38/118\u001b[0m \u001b[32m━━━━━━\u001b[0m\u001b[37m━━━━━━━━━━━━━━\u001b[0m \u001b[1m7s\u001b[0m 98ms/step118/118 - 3s - 25ms/step - accuracy: 0.8500 - loss: 0.4291 - val_accuracy: 0.8336 - val_loss: 0.4701\n",
      "Epoch 9/30\n",
      "118/118 - 3s - 24ms/step - accuracy: 0.8662 - loss: 0.3773 - val_accuracy: 0.8418 - val_loss: 0.4437\n",
      "\u001b[1m 41/118\u001b[0m \u001b[32m━━━━━━\u001b[0m\u001b[37m━━━━━━━━━━━━━━\u001b[0m \u001b[1m7s\u001b[0m 98ms/step118/118 - 3s - 24ms/step - accuracy: 0.8572 - loss: 0.4048 - val_accuracy: 0.8397 - val_loss: 0.4583\n",
      "Epoch 16/30\n",
      "\u001b[1m 42/118\u001b[0m \u001b[32m━━━━━━━\u001b[0m\u001b[37m━━━━━━━━━━━━━\u001b[0m \u001b[1m7s\u001b[0m 97ms/step"
     ]
    },
    {
     "name": "stderr",
     "output_type": "stream",
     "text": [
      "2024-07-31 07:55:24.953327: I external/local_tsl/tsl/profiler/lib/profiler_session.cc:104] Profiler session initializing.\n",
      "2024-07-31 07:55:24.953372: I external/local_tsl/tsl/profiler/lib/profiler_session.cc:119] Profiler session started.\n",
      "2024-07-31 07:55:24.980559: I external/local_tsl/tsl/profiler/lib/profiler_session.cc:131] Profiler session tear down.\n",
      "2024-07-31 07:55:25.002128: I external/local_xla/xla/backends/profiler/gpu/cupti_tracer.cc:1364] CUPTI activity buffer flushed\n"
     ]
    },
    {
     "name": "stdout",
     "output_type": "stream",
     "text": [
      "\u001b[1m 43/118\u001b[0m \u001b[32m━━━━━━━\u001b[0m\u001b[37m━━━━━━━━━━━━━\u001b[0m \u001b[1m7s\u001b[0m 97ms/step118/118 - 3s - 24ms/step - accuracy: 0.8636 - loss: 0.3904 - val_accuracy: 0.8423 - val_loss: 0.4428\n",
      "Epoch 17/30\n",
      "\u001b[1m 46/118\u001b[0m \u001b[32m━━━━━━━\u001b[0m\u001b[37m━━━━━━━━━━━━━\u001b[0m \u001b[1m7s\u001b[0m 97ms/step118/118 - 3s - 24ms/step - accuracy: 0.8606 - loss: 0.3987 - val_accuracy: 0.8429 - val_loss: 0.4483\n",
      "Epoch 18/30\n",
      "\u001b[1m 64/118\u001b[0m \u001b[32m━━━━━━━━━━\u001b[0m\u001b[37m━━━━━━━━━━\u001b[0m \u001b[1m5s\u001b[0m 97ms/step118/118 - 3s - 24ms/step - accuracy: 0.8546 - loss: 0.4133 - val_accuracy: 0.8322 - val_loss: 0.4684\n",
      "Epoch 14/30\n",
      "\u001b[1m 66/118\u001b[0m \u001b[32m━━━━━━━━━━━\u001b[0m\u001b[37m━━━━━━━━━\u001b[0m \u001b[1m5s\u001b[0m 96ms/step118/118 - 3s - 26ms/step - accuracy: 0.8447 - loss: 0.4427 - val_accuracy: 0.8223 - val_loss: 0.4888\n",
      "Epoch 9/30\n",
      "\u001b[1m 68/118\u001b[0m \u001b[32m━━━━━━━━━━━\u001b[0m\u001b[37m━━━━━━━━━\u001b[0m \u001b[1m4s\u001b[0m 96ms/step118/118 - 3s - 24ms/step - accuracy: 0.8521 - loss: 0.4225 - val_accuracy: 0.8348 - val_loss: 0.4662\n",
      "Epoch 10/30\n",
      "\u001b[1m 70/118\u001b[0m \u001b[32m━━━━━━━━━━━\u001b[0m\u001b[37m━━━━━━━━━\u001b[0m \u001b[1m4s\u001b[0m 96ms/step118/118 - 3s - 23ms/step - accuracy: 0.8580 - loss: 0.4020 - val_accuracy: 0.8396 - val_loss: 0.4570\n",
      "Epoch 17/30\n",
      "\u001b[1m 73/118\u001b[0m \u001b[32m━━━━━━━━━━━━\u001b[0m\u001b[37m━━━━━━━━\u001b[0m \u001b[1m4s\u001b[0m 96ms/step118/118 - 3s - 24ms/step - accuracy: 0.8643 - loss: 0.3882 - val_accuracy: 0.8422 - val_loss: 0.4418\n",
      "Epoch 18/30\n",
      "\u001b[1m 75/118\u001b[0m \u001b[32m━━━━━━━━━━━━\u001b[0m\u001b[37m━━━━━━━━\u001b[0m \u001b[1m4s\u001b[0m 96ms/step118/118 - 3s - 23ms/step - accuracy: 0.8614 - loss: 0.3968 - val_accuracy: 0.8433 - val_loss: 0.4475\n",
      "Epoch 19/30\n",
      "\u001b[1m 93/118\u001b[0m \u001b[32m━━━━━━━━━━━━━━━\u001b[0m\u001b[37m━━━━━\u001b[0m \u001b[1m2s\u001b[0m 104ms/step118/118 - 3s - 29ms/step - accuracy: 0.8554 - loss: 0.4100 - val_accuracy: 0.8333 - val_loss: 0.4666\n",
      "Epoch 15/30\n",
      "\u001b[1m 97/118\u001b[0m \u001b[32m━━━━━━━━━━━━━━━━\u001b[0m\u001b[37m━━━━\u001b[0m \u001b[1m2s\u001b[0m 107ms/step118/118 - 4s - 34ms/step - accuracy: 0.8468 - loss: 0.4364 - val_accuracy: 0.8240 - val_loss: 0.4848\n",
      "Epoch 10/30\n",
      "\u001b[1m 98/118\u001b[0m \u001b[32m━━━━━━━━━━━━━━━━\u001b[0m\u001b[37m━━━━\u001b[0m \u001b[1m2s\u001b[0m 108ms/step118/118 - 4s - 33ms/step - accuracy: 0.8543 - loss: 0.4169 - val_accuracy: 0.8354 - val_loss: 0.4631\n",
      "Epoch 11/30\n",
      "118/118 - 4s - 32ms/step - accuracy: 0.8588 - loss: 0.3994 - val_accuracy: 0.8405 - val_loss: 0.4558\n",
      "Epoch 18/30\n",
      "\u001b[1m101/118\u001b[0m \u001b[32m━━━━━━━━━━━━━━━━━\u001b[0m\u001b[37m━━━\u001b[0m \u001b[1m1s\u001b[0m 109ms/step118/118 - 4s - 34ms/step - accuracy: 0.8650 - loss: 0.3861 - val_accuracy: 0.8424 - val_loss: 0.4410\n",
      "Epoch 19/30\n",
      "\u001b[1m103/118\u001b[0m \u001b[32m━━━━━━━━━━━━━━━━━\u001b[0m\u001b[37m━━━\u001b[0m \u001b[1m1s\u001b[0m 111ms/step118/118 - 4s - 36ms/step - accuracy: 0.8617 - loss: 0.3951 - val_accuracy: 0.8433 - val_loss: 0.4467\n",
      "Epoch 20/30\n",
      "\u001b[1m 39/118\u001b[0m \u001b[32m━━━━━━\u001b[0m\u001b[37m━━━━━━━━━━━━━━\u001b[0m \u001b[1m12s\u001b[0m 164ms/step118/118 - 5s - 39ms/step - accuracy: 0.8563 - loss: 0.4070 - val_accuracy: 0.8340 - val_loss: 0.4651\n",
      "Epoch 16/30\n",
      "\u001b[1m 44/118\u001b[0m \u001b[32m━━━━━━━\u001b[0m\u001b[37m━━━━━━━━━━━━━\u001b[0m \u001b[1m11s\u001b[0m 156ms/step118/118 - 4s - 36ms/step - accuracy: 0.8558 - loss: 0.4122 - val_accuracy: 0.8371 - val_loss: 0.4605\n",
      "Epoch 12/30\n",
      "118/118 - 4s - 37ms/step - accuracy: 0.8484 - loss: 0.4312 - val_accuracy: 0.8263 - val_loss: 0.4816\n",
      "Epoch 11/30\n",
      "\u001b[1m 45/118\u001b[0m \u001b[32m━━━━━━━\u001b[0m\u001b[37m━━━━━━━━━━━━━\u001b[0m \u001b[1m11s\u001b[0m 155ms/step118/118 - 4s - 36ms/step - accuracy: 0.8595 - loss: 0.3971 - val_accuracy: 0.8409 - val_loss: 0.4547\n",
      "Epoch 19/30\n",
      "\u001b[1m 47/118\u001b[0m \u001b[32m━━━━━━━\u001b[0m\u001b[37m━━━━━━━━━━━━━\u001b[0m \u001b[1m10s\u001b[0m 152ms/step118/118 - 4s - 34ms/step - accuracy: 0.8653 - loss: 0.3842 - val_accuracy: 0.8428 - val_loss: 0.4403\n",
      "Epoch 20/30\n",
      "\u001b[1m 49/118\u001b[0m \u001b[32m━━━━━━━━\u001b[0m\u001b[37m━━━━━━━━━━━━\u001b[0m \u001b[1m10s\u001b[0m 150ms/step118/118 - 4s - 32ms/step - accuracy: 0.8623 - loss: 0.3935 - val_accuracy: 0.8433 - val_loss: 0.4461\n",
      "Epoch 21/30\n",
      "\u001b[1m118/118\u001b[0m \u001b[32m━━━━━━━━━━━━━━━━━━━━\u001b[0m\u001b[37m\u001b[0m \u001b[1m21s\u001b[0m 143ms/step\n",
      "\u001b[1m 2/20\u001b[0m \u001b[32m━━\u001b[0m\u001b[37m━━━━━━━━━━━━━━━━━━\u001b[0m \u001b[1m3s\u001b[0m 170ms/stepe118/118 - 3s - 26ms/step - accuracy: 0.8574 - loss: 0.4043 - val_accuracy: 0.8347 - val_loss: 0.4638\n",
      "Epoch 17/30\n",
      "\u001b[1m 73/118\u001b[0m \u001b[32m━━━━━━━━━━━━\u001b[0m\u001b[37m━━━━━━━━\u001b[0m \u001b[1m6s\u001b[0m 135ms/step118/118 - 3s - 25ms/step - accuracy: 0.8570 - loss: 0.4080 - val_accuracy: 0.8382 - val_loss: 0.4584\n",
      "Epoch 13/30\n",
      "\u001b[1m 74/118\u001b[0m \u001b[32m━━━━━━━━━━━━\u001b[0m\u001b[37m━━━━━━━━\u001b[0m \u001b[1m5s\u001b[0m 135ms/step118/118 - 3s - 26ms/step - accuracy: 0.8499 - loss: 0.4267 - val_accuracy: 0.8278 - val_loss: 0.4790\n",
      "Epoch 12/30\n",
      "118/118 - 3s - 26ms/step - accuracy: 0.8603 - loss: 0.3949 - val_accuracy: 0.8415 - val_loss: 0.4538\n",
      "Epoch 20/30\n",
      "\u001b[1m 76/118\u001b[0m \u001b[32m━━━━━━━━━━━━\u001b[0m\u001b[37m━━━━━━━━\u001b[0m \u001b[1m5s\u001b[0m 136ms/step118/118 - 3s - 27ms/step - accuracy: 0.8659 - loss: 0.3824 - val_accuracy: 0.8431 - val_loss: 0.4396\n",
      "Epoch 21/30\n",
      "\u001b[1m 78/118\u001b[0m \u001b[32m━━━━━━━━━━━━━\u001b[0m\u001b[37m━━━━━━━\u001b[0m \u001b[1m5s\u001b[0m 137ms/step118/118 - 3s - 29ms/step - accuracy: 0.8627 - loss: 0.3920 - val_accuracy: 0.8434 - val_loss: 0.4455\n",
      "Epoch 22/30\n",
      "\u001b[1m100/118\u001b[0m \u001b[32m━━━━━━━━━━━━━━━━\u001b[0m\u001b[37m━━━━\u001b[0m \u001b[1m2s\u001b[0m 136ms/step118/118 - 4s - 35ms/step - accuracy: 0.8584 - loss: 0.4019 - val_accuracy: 0.8351 - val_loss: 0.4627\n",
      "Epoch 18/30\n",
      "\u001b[1m101/118\u001b[0m \u001b[32m━━━━━━━━━━━━━━━━━\u001b[0m\u001b[37m━━━\u001b[0m \u001b[1m2s\u001b[0m 136ms/step118/118 - 4s - 33ms/step - accuracy: 0.8582 - loss: 0.4043 - val_accuracy: 0.8386 - val_loss: 0.4566\n",
      "Epoch 14/30\n",
      "\u001b[1m102/118\u001b[0m \u001b[32m━━━━━━━━━━━━━━━━━\u001b[0m\u001b[37m━━━\u001b[0m \u001b[1m2s\u001b[0m 135ms/step118/118 - 4s - 32ms/step - accuracy: 0.8515 - loss: 0.4229 - val_accuracy: 0.8287 - val_loss: 0.4768\n",
      "Epoch 13/30\n",
      "\u001b[1m103/118\u001b[0m \u001b[32m━━━━━━━━━━━━━━━━━\u001b[0m\u001b[37m━━━\u001b[0m \u001b[1m2s\u001b[0m 135ms/step118/118 - 4s - 33ms/step - accuracy: 0.8610 - loss: 0.3930 - val_accuracy: 0.8415 - val_loss: 0.4530\n",
      "Epoch 21/30\n",
      "\u001b[1m105/118\u001b[0m \u001b[32m━━━━━━━━━━━━━━━━━\u001b[0m\u001b[37m━━━\u001b[0m \u001b[1m1s\u001b[0m 134ms/step118/118 - 4s - 31ms/step - accuracy: 0.8664 - loss: 0.3808 - val_accuracy: 0.8431 - val_loss: 0.4391\n",
      "Epoch 22/30\n",
      "\u001b[1m106/118\u001b[0m \u001b[32m━━━━━━━━━━━━━━━━━\u001b[0m\u001b[37m━━━\u001b[0m \u001b[1m1s\u001b[0m 134ms/step118/118 - 3s - 29ms/step - accuracy: 0.8630 - loss: 0.3906 - val_accuracy: 0.8437 - val_loss: 0.4450\n",
      "Epoch 23/30\n",
      "\u001b[1m20/20\u001b[0m \u001b[32m━━━━━━━━━━━━━━━━━━━━\u001b[0m\u001b[37m\u001b[0m \u001b[1m5s\u001b[0m 277ms/step\n",
      "\u001b[1m115/118\u001b[0m \u001b[32m━━━━━━━━━━━━━━━━━━━\u001b[0m\u001b[37m━\u001b[0m \u001b[1m0s\u001b[0m 131ms/stepEpoch 1/30\n",
      "\u001b[1m117/118\u001b[0m \u001b[32m━━━━━━━━━━━━━━━━━━━\u001b[0m\u001b[37m━\u001b[0m \u001b[1m0s\u001b[0m 131ms/step"
     ]
    },
    {
     "name": "stderr",
     "output_type": "stream",
     "text": [
      "2024-07-31 07:55:44.040821: I external/local_tsl/tsl/profiler/lib/profiler_session.cc:104] Profiler session initializing.\n",
      "2024-07-31 07:55:44.040873: I external/local_tsl/tsl/profiler/lib/profiler_session.cc:119] Profiler session started.\n"
     ]
    },
    {
     "name": "stdout",
     "output_type": "stream",
     "text": [
      "118/118 - 2s - 18ms/step - accuracy: 0.8592 - loss: 0.3996 - val_accuracy: 0.8350 - val_loss: 0.4617\n",
      "Epoch 19/30\n",
      "118/118 - 2s - 17ms/step - accuracy: 0.8589 - loss: 0.4011 - val_accuracy: 0.8390 - val_loss: 0.4550\n",
      "Epoch 15/30\n",
      "118/118 - 2s - 16ms/step - accuracy: 0.8526 - loss: 0.4195 - val_accuracy: 0.8295 - val_loss: 0.4749\n",
      "Epoch 14/30\n",
      "118/118 - 2s - 16ms/step - accuracy: 0.8615 - loss: 0.3911 - val_accuracy: 0.8415 - val_loss: 0.4522\n",
      "Epoch 22/30\n",
      "118/118 - 2s - 15ms/step - accuracy: 0.8669 - loss: 0.3793 - val_accuracy: 0.8429 - val_loss: 0.4386\n",
      "Epoch 23/30\n",
      "118/118 - 2s - 14ms/step - accuracy: 0.8634 - loss: 0.3893 - val_accuracy: 0.8436 - val_loss: 0.4445\n",
      "Epoch 24/30\n"
     ]
    },
    {
     "name": "stderr",
     "output_type": "stream",
     "text": [
      "2024-07-31 07:55:44.900201: I external/local_tsl/tsl/profiler/lib/profiler_session.cc:70] Profiler session collecting data.\n",
      "2024-07-31 07:55:44.924041: I external/local_xla/xla/backends/profiler/gpu/cupti_tracer.cc:1364] CUPTI activity buffer flushed\n",
      "2024-07-31 07:55:44.949996: I external/local_xla/xla/backends/profiler/gpu/cupti_collector.cc:540]  GpuTracer has collected 72 callback api events and 60 activity events. \n",
      "2024-07-31 07:55:44.955185: I external/local_tsl/tsl/profiler/lib/profiler_session.cc:131] Profiler session tear down.\n",
      "2024-07-31 07:55:44.955524: I external/local_tsl/tsl/profiler/rpc/client/save_profile.cc:144] Collecting XSpace to repository: /workspaces/QML-QPF/multiprocessing/output/20240731-075014/runs/FASHIONMNIST/FASHIONMNISTqcnot3-2-0-1/plugins/profile/2024_07_31_07_55_44/1ba22281c77a.xplane.pb\n"
     ]
    },
    {
     "name": "stdout",
     "output_type": "stream",
     "text": [
      "118/118 - 1s - 7ms/step - accuracy: 0.8601 - loss: 0.3976 - val_accuracy: 0.8362 - val_loss: 0.4609\n",
      "Epoch 20/30\n",
      "118/118 - 1s - 7ms/step - accuracy: 0.8620 - loss: 0.3894 - val_accuracy: 0.8411 - val_loss: 0.4516\n",
      "118/118 - 1s - 7ms/step - accuracy: 0.8600 - loss: 0.3981 - val_accuracy: 0.8395 - val_loss: 0.4536\n",
      "Epoch 23/30\n",
      "Epoch 16/30\n",
      "118/118 - 1s - 7ms/step - accuracy: 0.8535 - loss: 0.4165 - val_accuracy: 0.8299 - val_loss: 0.4734\n",
      "Epoch 15/30\n",
      "118/118 - 1s - 7ms/step - accuracy: 0.8674 - loss: 0.3779 - val_accuracy: 0.8428 - val_loss: 0.4382\n",
      "Epoch 24/30\n",
      "118/118 - 1s - 7ms/step - accuracy: 0.8637 - loss: 0.3881 - val_accuracy: 0.8438 - val_loss: 0.4441\n",
      "Epoch 25/30\n",
      "118/118 - 1s - 6ms/step - accuracy: 0.8610 - loss: 0.3955 - val_accuracy: 0.8405 - val_loss: 0.4525\n",
      "Epoch 17/30\n",
      "118/118 - 1s - 6ms/step - accuracy: 0.8678 - loss: 0.3766 - val_accuracy: 0.8431 - val_loss: 0.4379\n",
      "Epoch 25/30\n",
      "118/118 - 1s - 6ms/step - accuracy: 0.8641 - loss: 0.3869 - val_accuracy: 0.8439 - val_loss: 0.4438\n",
      "118/118 - 1s - 7ms/step - accuracy: 0.8543 - loss: 0.4138 - val_accuracy: 0.8299 - val_loss: 0.4721\n",
      "Epoch 26/30\n",
      "Epoch 16/30\n",
      "118/118 - 2s - 20ms/step - accuracy: 0.6943 - loss: 0.8867 - val_accuracy: 0.7859 - val_loss: 0.6176\n",
      "Epoch 2/30\n",
      "118/118 - 1s - 10ms/step - accuracy: 0.8608 - loss: 0.3957 - val_accuracy: 0.8372 - val_loss: 0.4602\n",
      "Epoch 21/30\n",
      "118/118 - 1s - 10ms/step - accuracy: 0.8626 - loss: 0.3878 - val_accuracy: 0.8410 - val_loss: 0.4510\n",
      "Epoch 24/30\n",
      "118/118 - 1s - 6ms/step - accuracy: 0.8619 - loss: 0.3930 - val_accuracy: 0.8407 - val_loss: 0.4514\n",
      "Epoch 18/30\n",
      "118/118 - 1s - 6ms/step - accuracy: 0.8682 - loss: 0.3753 - val_accuracy: 0.8430 - val_loss: 0.4376\n",
      "Epoch 26/30\n",
      "118/118 - 1s - 6ms/step - accuracy: 0.8097 - loss: 0.5527 - val_accuracy: 0.8107 - val_loss: 0.5397\n",
      "Epoch 3/30\n",
      "118/118 - 1s - 7ms/step - accuracy: 0.8614 - loss: 0.3940 - val_accuracy: 0.8371 - val_loss: 0.4596\n",
      "Epoch 22/30\n",
      "118/118 - 1s - 7ms/step - accuracy: 0.8632 - loss: 0.3862 - val_accuracy: 0.8413 - val_loss: 0.4505\n",
      "Epoch 25/30\n",
      "118/118 - 1s - 11ms/step - accuracy: 0.8552 - loss: 0.4113 - val_accuracy: 0.8306 - val_loss: 0.4710\n",
      "Epoch 17/30\n",
      "118/118 - 1s - 11ms/step - accuracy: 0.8643 - loss: 0.3859 - val_accuracy: 0.8442 - val_loss: 0.4434\n",
      "Epoch 27/30\n",
      "118/118 - 1s - 7ms/step - accuracy: 0.8625 - loss: 0.3908 - val_accuracy: 0.8413 - val_loss: 0.4505\n",
      "Epoch 19/30\n",
      "\u001b[1m118/118\u001b[0m \u001b[32m━━━━━━━━━━━━━━━━━━━━\u001b[0m\u001b[37m\u001b[0m \u001b[1m22s\u001b[0m 161ms/step\n",
      "118/118 - 1s - 7ms/step - accuracy: 0.8686 - loss: 0.3742 - val_accuracy: 0.8425 - val_loss: 0.4373\n",
      "Epoch 27/30\n",
      "118/118 - 1s - 7ms/step - accuracy: 0.8281 - loss: 0.4967 - val_accuracy: 0.8215 - val_loss: 0.5075\n",
      "Epoch 4/30\n",
      "\u001b[1m 3/20\u001b[0m \u001b[32m━━━\u001b[0m\u001b[37m━━━━━━━━━━━━━━━━━\u001b[0m \u001b[1m1s\u001b[0m 96ms/step118/118 - 1s - 8ms/step - accuracy: 0.8623 - loss: 0.3923 - val_accuracy: 0.8370 - val_loss: 0.4591\n",
      "Epoch 23/30\n",
      "\u001b[1m 6/20\u001b[0m \u001b[32m━━━━━━\u001b[0m\u001b[37m━━━━━━━━━━━━━━\u001b[0m \u001b[1m1s\u001b[0m 97ms/step118/118 - 1s - 10ms/step - accuracy: 0.8635 - loss: 0.3848 - val_accuracy: 0.8415 - val_loss: 0.4500\n",
      "Epoch 26/30\n",
      "\u001b[1m 9/20\u001b[0m \u001b[32m━━━━━━━━━\u001b[0m\u001b[37m━━━━━━━━━━━\u001b[0m \u001b[1m1s\u001b[0m 98ms/step118/118 - 1s - 12ms/step - accuracy: 0.8559 - loss: 0.4091 - val_accuracy: 0.8302 - val_loss: 0.4700\n",
      "Epoch 18/30\n",
      "\u001b[1m10/20\u001b[0m \u001b[32m━━━━━━━━━━\u001b[0m\u001b[37m━━━━━━━━━━\u001b[0m \u001b[1m0s\u001b[0m 98ms/step118/118 - 1s - 12ms/step - accuracy: 0.8646 - loss: 0.3849 - val_accuracy: 0.8440 - val_loss: 0.4432\n",
      "Epoch 28/30\n",
      "\u001b[1m18/20\u001b[0m \u001b[32m━━━━━━━━━━━━━━━━━━\u001b[0m\u001b[37m━━\u001b[0m \u001b[1m0s\u001b[0m 98ms/step118/118 - 2s - 17ms/step - accuracy: 0.8692 - loss: 0.3731 - val_accuracy: 0.8421 - val_loss: 0.4371\n",
      "Epoch 28/30\n",
      "\u001b[1m19/20\u001b[0m \u001b[32m━━━━━━━━━━━━━━━━━━━\u001b[0m\u001b[37m━\u001b[0m \u001b[1m0s\u001b[0m 98ms/step118/118 - 2s - 19ms/step - accuracy: 0.8374 - loss: 0.4684 - val_accuracy: 0.8276 - val_loss: 0.4892\n",
      "Epoch 5/30\n",
      "118/118 - 3s - 22ms/step - accuracy: 0.8636 - loss: 0.3888 - val_accuracy: 0.8412 - val_loss: 0.4498\n",
      "Epoch 20/30\n",
      "118/118 - 2s - 17ms/step - accuracy: 0.8626 - loss: 0.3908 - val_accuracy: 0.8368 - val_loss: 0.4587\n",
      "Epoch 24/30\n",
      "118/118 - 2s - 15ms/step - accuracy: 0.8640 - loss: 0.3835 - val_accuracy: 0.8416 - val_loss: 0.4496\n",
      "Epoch 27/30\n",
      "118/118 - 1s - 12ms/step - accuracy: 0.8648 - loss: 0.3839 - val_accuracy: 0.8442 - val_loss: 0.4429\n",
      "Epoch 29/30\n",
      "118/118 - 2s - 13ms/step - accuracy: 0.8566 - loss: 0.4071 - val_accuracy: 0.8303 - val_loss: 0.4692\n",
      "Epoch 19/30\n",
      "118/118 - 1s - 7ms/step - accuracy: 0.8696 - loss: 0.3720 - val_accuracy: 0.8422 - val_loss: 0.4369\n",
      "Epoch 29/30\n",
      "118/118 - 1s - 6ms/step - accuracy: 0.8645 - loss: 0.3869 - val_accuracy: 0.8417 - val_loss: 0.4491\n",
      "Epoch 21/30\n",
      "118/118 - 1s - 6ms/step - accuracy: 0.8634 - loss: 0.3894 - val_accuracy: 0.8379 - val_loss: 0.4583\n",
      "Epoch 25/30\n",
      "118/118 - 1s - 6ms/step - accuracy: 0.8644 - loss: 0.3822 - val_accuracy: 0.8420 - val_loss: 0.4493\n",
      "Epoch 28/30\n",
      "118/118 - 1s - 6ms/step - accuracy: 0.8574 - loss: 0.4053 - val_accuracy: 0.8304 - val_loss: 0.4685\n",
      "Epoch 20/30\n",
      "118/118 - 1s - 9ms/step - accuracy: 0.8427 - loss: 0.4505 - val_accuracy: 0.8314 - val_loss: 0.4773\n",
      "Epoch 6/30\n",
      "118/118 - 1s - 6ms/step - accuracy: 0.8698 - loss: 0.3710 - val_accuracy: 0.8428 - val_loss: 0.4367\n",
      "Epoch 30/30\n",
      "118/118 - 1s - 6ms/step - accuracy: 0.8649 - loss: 0.3851 - val_accuracy: 0.8424 - val_loss: 0.4484\n",
      "Epoch 22/30\n",
      "118/118 - 1s - 6ms/step - accuracy: 0.8639 - loss: 0.3881 - val_accuracy: 0.8383 - val_loss: 0.4580\n",
      "Epoch 26/30\n",
      "118/118 - 1s - 6ms/step - accuracy: 0.8651 - loss: 0.3810 - val_accuracy: 0.8419 - val_loss: 0.4490\n",
      "Epoch 29/30\n",
      "118/118 - 1s - 6ms/step - accuracy: 0.8582 - loss: 0.4036 - val_accuracy: 0.8311 - val_loss: 0.4679\n",
      "Epoch 21/30\n",
      "118/118 - 1s - 6ms/step - accuracy: 0.8473 - loss: 0.4379 - val_accuracy: 0.8335 - val_loss: 0.4689\n",
      "Epoch 7/30\n",
      "\u001b[1m20/20\u001b[0m \u001b[32m━━━━━━━━━━━━━━━━━━━━\u001b[0m\u001b[37m\u001b[0m \u001b[1m4s\u001b[0m 220ms/step\n",
      "118/118 - 2s - 16ms/step - accuracy: 0.8652 - loss: 0.3830 - val_accuracy: 0.8447 - val_loss: 0.4427\n",
      "Epoch 30/30\n",
      "118/118 - 1s - 7ms/step - accuracy: 0.8643 - loss: 0.3868 - val_accuracy: 0.8382 - val_loss: 0.4578\n",
      "Epoch 27/30\n",
      "118/118 - 1s - 7ms/step - accuracy: 0.8655 - loss: 0.3799 - val_accuracy: 0.8418 - val_loss: 0.4487\n",
      "Epoch 30/30\n",
      "Epoch 1/30\n",
      "118/118 - 1s - 11ms/step - accuracy: 0.8702 - loss: 0.3701 - val_accuracy: 0.8429 - val_loss: 0.4366\n",
      "118/118 - 1s - 7ms/step - accuracy: 0.8588 - loss: 0.4020 - val_accuracy: 0.8308 - val_loss: 0.4674\n",
      "Epoch 22/30\n",
      "118/118 - 1s - 7ms/step - accuracy: 0.8505 - loss: 0.4284 - val_accuracy: 0.8362 - val_loss: 0.4628\n",
      "Epoch 8/30\n"
     ]
    },
    {
     "name": "stderr",
     "output_type": "stream",
     "text": [
      "2024-07-31 07:55:52.819093: I external/local_tsl/tsl/profiler/lib/profiler_session.cc:104] Profiler session initializing.\n",
      "2024-07-31 07:55:52.819144: I external/local_tsl/tsl/profiler/lib/profiler_session.cc:119] Profiler session started.\n"
     ]
    },
    {
     "name": "stdout",
     "output_type": "stream",
     "text": [
      "118/118 - 1s - 11ms/step - accuracy: 0.8653 - loss: 0.3835 - val_accuracy: 0.8428 - val_loss: 0.4479\n",
      "Epoch 23/30\n",
      "118/118 - 1s - 7ms/step - accuracy: 0.8656 - loss: 0.3821 - val_accuracy: 0.8443 - val_loss: 0.4425\n",
      "118/118 - 1s - 6ms/step - accuracy: 0.8648 - loss: 0.3857 - val_accuracy: 0.8388 - val_loss: 0.4576\n",
      "Epoch 28/30\n",
      "118/118 - 1s - 6ms/step - accuracy: 0.8658 - loss: 0.3788 - val_accuracy: 0.8419 - val_loss: 0.4484\n",
      "118/118 - 1s - 7ms/step - accuracy: 0.8534 - loss: 0.4209 - val_accuracy: 0.8380 - val_loss: 0.4580\n",
      "Epoch 9/30\n"
     ]
    },
    {
     "name": "stderr",
     "output_type": "stream",
     "text": [
      "2024-07-31 07:55:53.663102: I external/local_tsl/tsl/profiler/lib/profiler_session.cc:70] Profiler session collecting data.\n",
      "2024-07-31 07:55:53.685513: I external/local_xla/xla/backends/profiler/gpu/cupti_tracer.cc:1364] CUPTI activity buffer flushed\n",
      "2024-07-31 07:55:53.709372: I external/local_xla/xla/backends/profiler/gpu/cupti_collector.cc:540]  GpuTracer has collected 75 callback api events and 62 activity events. \n",
      "2024-07-31 07:55:53.713922: I external/local_tsl/tsl/profiler/lib/profiler_session.cc:131] Profiler session tear down.\n",
      "2024-07-31 07:55:53.714170: I external/local_tsl/tsl/profiler/rpc/client/save_profile.cc:144] Collecting XSpace to repository: /workspaces/QML-QPF/multiprocessing/output/20240731-075014/runs/FASHIONMNIST/FASHIONMNISTqcnot3-2-1-0/plugins/profile/2024_07_31_07_55_53/1ba22281c77a.xplane.pb\n"
     ]
    },
    {
     "name": "stdout",
     "output_type": "stream",
     "text": [
      "118/118 - 1s - 7ms/step - accuracy: 0.8658 - loss: 0.3820 - val_accuracy: 0.8419 - val_loss: 0.4474\n",
      "Epoch 24/30\n",
      "118/118 - 1s - 10ms/step - accuracy: 0.8590 - loss: 0.4005 - val_accuracy: 0.8313 - val_loss: 0.4670\n",
      "Epoch 23/30\n",
      "118/118 - 1s - 6ms/step - accuracy: 0.8652 - loss: 0.3846 - val_accuracy: 0.8386 - val_loss: 0.4574\n",
      "Epoch 29/30\n",
      "118/118 - 1s - 6ms/step - accuracy: 0.8557 - loss: 0.4148 - val_accuracy: 0.8397 - val_loss: 0.4543\n",
      "Epoch 10/30\n",
      "118/118 - 1s - 6ms/step - accuracy: 0.8663 - loss: 0.3805 - val_accuracy: 0.8419 - val_loss: 0.4469\n",
      "Epoch 25/30\n",
      "118/118 - 1s - 6ms/step - accuracy: 0.8594 - loss: 0.3992 - val_accuracy: 0.8315 - val_loss: 0.4666\n",
      "Epoch 24/30\n",
      "118/118 - 1s - 6ms/step - accuracy: 0.8655 - loss: 0.3835 - val_accuracy: 0.8384 - val_loss: 0.4573\n",
      "Epoch 30/30\n",
      "118/118 - 2s - 19ms/step - accuracy: 0.6746 - loss: 0.9472 - val_accuracy: 0.7726 - val_loss: 0.6441\n",
      "Epoch 2/30\n",
      "118/118 - 1s - 6ms/step - accuracy: 0.8575 - loss: 0.4096 - val_accuracy: 0.8416 - val_loss: 0.4513\n",
      "Epoch 11/30\n",
      "118/118 - 1s - 6ms/step - accuracy: 0.8668 - loss: 0.3792 - val_accuracy: 0.8421 - val_loss: 0.4465\n",
      "Epoch 26/30\n",
      "118/118 - 1s - 6ms/step - accuracy: 0.8598 - loss: 0.3979 - val_accuracy: 0.8313 - val_loss: 0.4663\n",
      "Epoch 25/30\n",
      "118/118 - 1s - 6ms/step - accuracy: 0.8659 - loss: 0.3825 - val_accuracy: 0.8383 - val_loss: 0.4572\n",
      "118/118 - 1s - 6ms/step - accuracy: 0.8022 - loss: 0.5745 - val_accuracy: 0.8038 - val_loss: 0.5599\n",
      "Epoch 3/30\n",
      "118/118 - 1s - 6ms/step - accuracy: 0.8592 - loss: 0.4052 - val_accuracy: 0.8424 - val_loss: 0.4488\n",
      "Epoch 12/30\n",
      "118/118 - 1s - 7ms/step - accuracy: 0.8673 - loss: 0.3779 - val_accuracy: 0.8424 - val_loss: 0.4462\n",
      "Epoch 27/30\n",
      "118/118 - 1s - 7ms/step - accuracy: 0.8601 - loss: 0.3967 - val_accuracy: 0.8318 - val_loss: 0.4661\n",
      "Epoch 26/30\n",
      "118/118 - 1s - 7ms/step - accuracy: 0.8216 - loss: 0.5153 - val_accuracy: 0.8148 - val_loss: 0.5258\n",
      "Epoch 4/30\n",
      "118/118 - 1s - 7ms/step - accuracy: 0.8604 - loss: 0.4014 - val_accuracy: 0.8434 - val_loss: 0.4467\n",
      "Epoch 13/30\n",
      "118/118 - 1s - 7ms/step - accuracy: 0.8679 - loss: 0.3767 - val_accuracy: 0.8424 - val_loss: 0.4459\n",
      "Epoch 28/30\n",
      "118/118 - 1s - 7ms/step - accuracy: 0.8605 - loss: 0.3956 - val_accuracy: 0.8327 - val_loss: 0.4658\n",
      "Epoch 27/30\n",
      "118/118 - 1s - 7ms/step - accuracy: 0.8311 - loss: 0.4857 - val_accuracy: 0.8214 - val_loss: 0.5068\n",
      "Epoch 5/30\n",
      "118/118 - 1s - 7ms/step - accuracy: 0.8612 - loss: 0.3981 - val_accuracy: 0.8446 - val_loss: 0.4449\n",
      "Epoch 14/30\n",
      "118/118 - 1s - 7ms/step - accuracy: 0.8681 - loss: 0.3756 - val_accuracy: 0.8421 - val_loss: 0.4456\n",
      "Epoch 29/30\n",
      "118/118 - 1s - 7ms/step - accuracy: 0.8610 - loss: 0.3945 - val_accuracy: 0.8327 - val_loss: 0.4657\n",
      "Epoch 28/30\n",
      "118/118 - 1s - 7ms/step - accuracy: 0.8372 - loss: 0.4673 - val_accuracy: 0.8250 - val_loss: 0.4946\n",
      "Epoch 6/30\n",
      "118/118 - 1s - 7ms/step - accuracy: 0.8627 - loss: 0.3951 - val_accuracy: 0.8446 - val_loss: 0.4434\n",
      "Epoch 15/30\n",
      "118/118 - 1s - 7ms/step - accuracy: 0.8683 - loss: 0.3745 - val_accuracy: 0.8419 - val_loss: 0.4453\n",
      "Epoch 30/30\n",
      "118/118 - 1s - 7ms/step - accuracy: 0.8614 - loss: 0.3935 - val_accuracy: 0.8327 - val_loss: 0.4655\n",
      "Epoch 29/30\n",
      "118/118 - 1s - 7ms/step - accuracy: 0.8423 - loss: 0.4545 - val_accuracy: 0.8280 - val_loss: 0.4861\n",
      "Epoch 7/30\n",
      "118/118 - 1s - 7ms/step - accuracy: 0.8634 - loss: 0.3924 - val_accuracy: 0.8451 - val_loss: 0.4421\n",
      "Epoch 16/30\n",
      "118/118 - 1s - 7ms/step - accuracy: 0.8687 - loss: 0.3735 - val_accuracy: 0.8419 - val_loss: 0.4451\n",
      "118/118 - 1s - 7ms/step - accuracy: 0.8616 - loss: 0.3925 - val_accuracy: 0.8331 - val_loss: 0.4654\n",
      "Epoch 30/30\n",
      "118/118 - 1s - 7ms/step - accuracy: 0.8452 - loss: 0.4448 - val_accuracy: 0.8294 - val_loss: 0.4797\n",
      "Epoch 8/30\n",
      "118/118 - 1s - 6ms/step - accuracy: 0.8639 - loss: 0.3900 - val_accuracy: 0.8455 - val_loss: 0.4410\n",
      "Epoch 17/30\n",
      "118/118 - 1s - 7ms/step - accuracy: 0.8620 - loss: 0.3916 - val_accuracy: 0.8337 - val_loss: 0.4653\n",
      "118/118 - 1s - 6ms/step - accuracy: 0.8477 - loss: 0.4371 - val_accuracy: 0.8320 - val_loss: 0.4749\n",
      "Epoch 9/30\n",
      "118/118 - 1s - 7ms/step - accuracy: 0.8648 - loss: 0.3878 - val_accuracy: 0.8455 - val_loss: 0.4400\n",
      "Epoch 18/30\n",
      "118/118 - 1s - 6ms/step - accuracy: 0.8502 - loss: 0.4309 - val_accuracy: 0.8331 - val_loss: 0.4711\n",
      "Epoch 10/30\n",
      "118/118 - 1s - 5ms/step - accuracy: 0.8653 - loss: 0.3858 - val_accuracy: 0.8454 - val_loss: 0.4392\n",
      "Epoch 19/30\n",
      "118/118 - 1s - 6ms/step - accuracy: 0.8658 - loss: 0.3840 - val_accuracy: 0.8448 - val_loss: 0.4384\n",
      "Epoch 20/30\n",
      "118/118 - 1s - 6ms/step - accuracy: 0.8518 - loss: 0.4257 - val_accuracy: 0.8342 - val_loss: 0.4681\n",
      "Epoch 11/30\n",
      "118/118 - 1s - 6ms/step - accuracy: 0.8664 - loss: 0.3823 - val_accuracy: 0.8443 - val_loss: 0.4378\n",
      "Epoch 21/30\n",
      "118/118 - 1s - 6ms/step - accuracy: 0.8532 - loss: 0.4213 - val_accuracy: 0.8348 - val_loss: 0.4656\n",
      "Epoch 12/30\n",
      "118/118 - 1s - 6ms/step - accuracy: 0.8544 - loss: 0.4175 - val_accuracy: 0.8359 - val_loss: 0.4635\n",
      "Epoch 13/30\n",
      "118/118 - 1s - 6ms/step - accuracy: 0.8668 - loss: 0.3807 - val_accuracy: 0.8449 - val_loss: 0.4372\n",
      "Epoch 22/30\n",
      "118/118 - 1s - 6ms/step - accuracy: 0.8554 - loss: 0.4142 - val_accuracy: 0.8354 - val_loss: 0.4618\n",
      "Epoch 14/30\n",
      "118/118 - 1s - 6ms/step - accuracy: 0.8673 - loss: 0.3792 - val_accuracy: 0.8453 - val_loss: 0.4367\n",
      "Epoch 23/30\n",
      "118/118 - 1s - 6ms/step - accuracy: 0.8564 - loss: 0.4112 - val_accuracy: 0.8356 - val_loss: 0.4604\n",
      "Epoch 15/30\n",
      "118/118 - 1s - 6ms/step - accuracy: 0.8676 - loss: 0.3778 - val_accuracy: 0.8453 - val_loss: 0.4362\n",
      "Epoch 24/30\n",
      "118/118 - 1s - 5ms/step - accuracy: 0.8570 - loss: 0.4086 - val_accuracy: 0.8362 - val_loss: 0.4592\n",
      "Epoch 16/30\n",
      "118/118 - 1s - 5ms/step - accuracy: 0.8682 - loss: 0.3765 - val_accuracy: 0.8457 - val_loss: 0.4358\n",
      "Epoch 25/30\n",
      "118/118 - 1s - 6ms/step - accuracy: 0.8576 - loss: 0.4062 - val_accuracy: 0.8367 - val_loss: 0.4582\n",
      "Epoch 17/30\n",
      "118/118 - 1s - 7ms/step - accuracy: 0.8687 - loss: 0.3753 - val_accuracy: 0.8453 - val_loss: 0.4355\n",
      "Epoch 26/30\n",
      "118/118 - 1s - 6ms/step - accuracy: 0.8583 - loss: 0.4040 - val_accuracy: 0.8369 - val_loss: 0.4574\n",
      "Epoch 18/30\n",
      "118/118 - 1s - 6ms/step - accuracy: 0.8689 - loss: 0.3742 - val_accuracy: 0.8457 - val_loss: 0.4352\n",
      "Epoch 27/30\n",
      "118/118 - 1s - 5ms/step - accuracy: 0.8590 - loss: 0.4021 - val_accuracy: 0.8372 - val_loss: 0.4566\n",
      "Epoch 19/30\n",
      "118/118 - 1s - 5ms/step - accuracy: 0.8692 - loss: 0.3731 - val_accuracy: 0.8457 - val_loss: 0.4349\n",
      "Epoch 28/30\n",
      "118/118 - 1s - 6ms/step - accuracy: 0.8596 - loss: 0.4003 - val_accuracy: 0.8379 - val_loss: 0.4560\n",
      "Epoch 20/30\n",
      "118/118 - 1s - 6ms/step - accuracy: 0.8692 - loss: 0.3721 - val_accuracy: 0.8456 - val_loss: 0.4346\n",
      "Epoch 29/30\n",
      "118/118 - 1s - 5ms/step - accuracy: 0.8601 - loss: 0.3986 - val_accuracy: 0.8379 - val_loss: 0.4555\n",
      "Epoch 21/30\n",
      "118/118 - 1s - 6ms/step - accuracy: 0.8696 - loss: 0.3711 - val_accuracy: 0.8455 - val_loss: 0.4344\n",
      "Epoch 30/30\n",
      "118/118 - 1s - 5ms/step - accuracy: 0.8605 - loss: 0.3971 - val_accuracy: 0.8381 - val_loss: 0.4550\n",
      "Epoch 22/30\n",
      "118/118 - 1s - 5ms/step - accuracy: 0.8698 - loss: 0.3702 - val_accuracy: 0.8461 - val_loss: 0.4342\n",
      "118/118 - 1s - 6ms/step - accuracy: 0.8609 - loss: 0.3956 - val_accuracy: 0.8385 - val_loss: 0.4547\n",
      "Epoch 23/30\n",
      "118/118 - 1s - 4ms/step - accuracy: 0.8611 - loss: 0.3943 - val_accuracy: 0.8391 - val_loss: 0.4543\n",
      "Epoch 24/30\n",
      "118/118 - 1s - 5ms/step - accuracy: 0.8615 - loss: 0.3930 - val_accuracy: 0.8391 - val_loss: 0.4541\n",
      "Epoch 25/30\n",
      "118/118 - 0s - 4ms/step - accuracy: 0.8619 - loss: 0.3919 - val_accuracy: 0.8388 - val_loss: 0.4538\n",
      "Epoch 26/30\n",
      "118/118 - 1s - 5ms/step - accuracy: 0.8622 - loss: 0.3908 - val_accuracy: 0.8393 - val_loss: 0.4537\n",
      "Epoch 27/30\n",
      "118/118 - 1s - 4ms/step - accuracy: 0.8627 - loss: 0.3897 - val_accuracy: 0.8394 - val_loss: 0.4535\n",
      "Epoch 28/30\n",
      "118/118 - 1s - 4ms/step - accuracy: 0.8632 - loss: 0.3887 - val_accuracy: 0.8397 - val_loss: 0.4534\n",
      "Epoch 29/30\n",
      "118/118 - 1s - 4ms/step - accuracy: 0.8637 - loss: 0.3878 - val_accuracy: 0.8395 - val_loss: 0.4533\n",
      "Epoch 30/30\n",
      "118/118 - 1s - 4ms/step - accuracy: 0.8640 - loss: 0.3869 - val_accuracy: 0.8392 - val_loss: 0.4533\n"
     ]
    }
   ],
   "source": [
    "\n",
    "def frontload_data():\n",
    "    from tensorflow import keras\n",
    "    mnist_dataset = keras.datasets.fashion_mnist\n",
    "    (train_images, train_labels), (test_images, test_labels) = mnist_dataset.load_data()\n",
    "    mnist_dataset = keras.datasets.mnist\n",
    "    (train_images, train_labels), (test_images, test_labels) = mnist_dataset.load_data()\n",
    "\n",
    "def pool_job(input):\n",
    "    this_model = Model(*input)\n",
    "    this_model.set_data()\n",
    "    #this_model.prep()\n",
    "    this_model.prep_variant(input[-1])\n",
    "    this_model.pre_filter()\n",
    "    this_model.fit()\n",
    "    this_model.save_filtered()\n",
    "\n",
    "frontload_data()\n",
    "#to prevent race condition\n",
    "with ProcessPoolExecutor(8) as executor:\n",
    "    runner = {\n",
    "            executor.submit(pool_job, (1,2,clock_start,workdir,m)): m for m in perms\n",
    "        }\n",
    "    for future in as_completed(runner):\n",
    "        runner.pop(future)\n",
    "\n",
    "\n",
    "\n",
    "\n"
   ]
  },
  {
   "cell_type": "code",
   "execution_count": 3,
   "metadata": {},
   "outputs": [],
   "source": [
    "\n",
    "#{pool_job((0,2,clock_start,workdir,m)): m for m in [perms[0]]}"
   ]
  },
  {
   "cell_type": "code",
   "execution_count": 4,
   "metadata": {},
   "outputs": [
    {
     "name": "stderr",
     "output_type": "stream",
     "text": [
      "2024-07-31 07:56:15.168148: I external/local_tsl/tsl/profiler/lib/profiler_session.cc:104] Profiler session initializing.\n",
      "2024-07-31 07:56:15.168318: I external/local_tsl/tsl/profiler/lib/profiler_session.cc:119] Profiler session started.\n",
      "2024-07-31 07:56:15.168884: I external/local_tsl/tsl/profiler/lib/profiler_session.cc:104] Profiler session initializing.\n",
      "2024-07-31 07:56:15.168948: I external/local_tsl/tsl/profiler/lib/profiler_session.cc:119] Profiler session started.\n",
      "2024-07-31 07:56:15.169009: I external/local_tsl/tsl/profiler/lib/profiler_session.cc:104] Profiler session initializing.\n",
      "2024-07-31 07:56:15.169200: I external/local_tsl/tsl/profiler/lib/profiler_session.cc:119] Profiler session started.\n",
      "2024-07-31 07:56:15.169248: I external/local_tsl/tsl/profiler/lib/profiler_session.cc:104] Profiler session initializing.\n",
      "2024-07-31 07:56:15.169427: I external/local_tsl/tsl/profiler/lib/profiler_session.cc:119] Profiler session started.\n",
      "2024-07-31 07:56:15.169840: I external/local_tsl/tsl/profiler/lib/profiler_session.cc:104] Profiler session initializing.\n",
      "2024-07-31 07:56:15.170041: I external/local_tsl/tsl/profiler/lib/profiler_session.cc:119] Profiler session started.\n",
      "2024-07-31 07:56:15.170201: I external/local_tsl/tsl/profiler/lib/profiler_session.cc:104] Profiler session initializing.\n",
      "2024-07-31 07:56:15.170398: I external/local_tsl/tsl/profiler/lib/profiler_session.cc:119] Profiler session started.\n",
      "2024-07-31 07:56:15.170565: I external/local_tsl/tsl/profiler/lib/profiler_session.cc:104] Profiler session initializing.\n",
      "2024-07-31 07:56:15.170611: I external/local_tsl/tsl/profiler/lib/profiler_session.cc:104] Profiler session initializing.\n",
      "2024-07-31 07:56:15.170744: I external/local_tsl/tsl/profiler/lib/profiler_session.cc:119] Profiler session started.\n",
      "2024-07-31 07:56:15.170784: I external/local_tsl/tsl/profiler/lib/profiler_session.cc:119] Profiler session started.\n",
      "2024-07-31 07:56:15.194869: I external/local_xla/xla/backends/profiler/gpu/cupti_tracer.cc:1239] Profiler found 1 GPUs\n",
      "2024-07-31 07:56:15.195613: I external/local_xla/xla/backends/profiler/gpu/cupti_tracer.cc:1239] Profiler found 1 GPUs\n",
      "2024-07-31 07:56:15.196850: I external/local_xla/xla/backends/profiler/gpu/cupti_tracer.cc:1239] Profiler found 1 GPUs\n",
      "2024-07-31 07:56:15.197269: I external/local_xla/xla/backends/profiler/gpu/cupti_tracer.cc:1239] Profiler found 1 GPUs\n",
      "2024-07-31 07:56:15.198249: I external/local_xla/xla/backends/profiler/gpu/cupti_tracer.cc:1239] Profiler found 1 GPUs\n",
      "2024-07-31 07:56:15.198473: I external/local_xla/xla/backends/profiler/gpu/cupti_tracer.cc:1239] Profiler found 1 GPUs\n",
      "2024-07-31 07:56:15.198947: I external/local_xla/xla/backends/profiler/gpu/cupti_tracer.cc:1239] Profiler found 1 GPUs\n",
      "2024-07-31 07:56:15.199225: I external/local_xla/xla/backends/profiler/gpu/cupti_tracer.cc:1239] Profiler found 1 GPUs\n",
      "2024-07-31 07:56:15.205031: I external/local_tsl/tsl/profiler/lib/profiler_session.cc:131] Profiler session tear down.\n",
      "2024-07-31 07:56:15.205031: I external/local_tsl/tsl/profiler/lib/profiler_session.cc:131] Profiler session tear down.\n",
      "2024-07-31 07:56:15.205225: I external/local_xla/xla/backends/profiler/gpu/cupti_tracer.cc:1364] CUPTI activity buffer flushed\n",
      "2024-07-31 07:56:15.205238: I external/local_xla/xla/backends/profiler/gpu/cupti_tracer.cc:1364] CUPTI activity buffer flushed\n",
      "2024-07-31 07:56:15.206168: I external/local_tsl/tsl/profiler/lib/profiler_session.cc:131] Profiler session tear down.\n",
      "2024-07-31 07:56:15.206346: I external/local_xla/xla/backends/profiler/gpu/cupti_tracer.cc:1364] CUPTI activity buffer flushed\n",
      "2024-07-31 07:56:15.208155: I external/local_tsl/tsl/profiler/lib/profiler_session.cc:131] Profiler session tear down.\n",
      "2024-07-31 07:56:15.208295: I external/local_xla/xla/backends/profiler/gpu/cupti_tracer.cc:1364] CUPTI activity buffer flushed\n",
      "2024-07-31 07:56:15.211215: I external/local_tsl/tsl/profiler/lib/profiler_session.cc:131] Profiler session tear down.\n",
      "2024-07-31 07:56:15.211215: I external/local_tsl/tsl/profiler/lib/profiler_session.cc:131] Profiler session tear down.\n",
      "2024-07-31 07:56:15.211413: I external/local_xla/xla/backends/profiler/gpu/cupti_tracer.cc:1364] CUPTI activity buffer flushed\n",
      "2024-07-31 07:56:15.211452: I external/local_tsl/tsl/profiler/lib/profiler_session.cc:131] Profiler session tear down.\n",
      "2024-07-31 07:56:15.211486: I external/local_xla/xla/backends/profiler/gpu/cupti_tracer.cc:1364] CUPTI activity buffer flushed\n",
      "2024-07-31 07:56:15.211614: I external/local_tsl/tsl/profiler/lib/profiler_session.cc:131] Profiler session tear down.\n",
      "2024-07-31 07:56:15.211638: I external/local_xla/xla/backends/profiler/gpu/cupti_tracer.cc:1364] CUPTI activity buffer flushed\n",
      "2024-07-31 07:56:15.211776: I external/local_xla/xla/backends/profiler/gpu/cupti_tracer.cc:1364] CUPTI activity buffer flushed\n",
      "2024-07-31 07:56:15.703534: I tensorflow/core/common_runtime/gpu/gpu_process_state.cc:238] Using CUDA malloc Async allocator for GPU: 0\n",
      "2024-07-31 07:56:15.706941: I tensorflow/core/common_runtime/gpu/gpu_device.cc:1928] Created device /job:localhost/replica:0/task:0/device:GPU:0 with 6757 MB memory:  -> device: 0, name: NVIDIA GeForce RTX 2080, pci bus id: 0000:b3:00.0, compute capability: 7.5\n",
      "2024-07-31 07:56:15.732695: I tensorflow/core/common_runtime/gpu/gpu_process_state.cc:238] Using CUDA malloc Async allocator for GPU: 0\n",
      "2024-07-31 07:56:15.734443: I tensorflow/core/common_runtime/gpu/gpu_device.cc:1928] Created device /job:localhost/replica:0/task:0/device:GPU:0 with 6655 MB memory:  -> device: 0, name: NVIDIA GeForce RTX 2080, pci bus id: 0000:b3:00.0, compute capability: 7.5\n",
      "2024-07-31 07:56:15.853092: I tensorflow/core/common_runtime/gpu/gpu_process_state.cc:238] Using CUDA malloc Async allocator for GPU: 0\n",
      "2024-07-31 07:56:15.854675: I tensorflow/core/common_runtime/gpu/gpu_device.cc:1928] Created device /job:localhost/replica:0/task:0/device:GPU:0 with 6453 MB memory:  -> device: 0, name: NVIDIA GeForce RTX 2080, pci bus id: 0000:b3:00.0, compute capability: 7.5\n",
      "2024-07-31 07:56:15.866210: I tensorflow/core/common_runtime/gpu/gpu_process_state.cc:238] Using CUDA malloc Async allocator for GPU: 0\n",
      "2024-07-31 07:56:15.867368: I tensorflow/core/common_runtime/gpu/gpu_device.cc:1928] Created device /job:localhost/replica:0/task:0/device:GPU:0 with 6359 MB memory:  -> device: 0, name: NVIDIA GeForce RTX 2080, pci bus id: 0000:b3:00.0, compute capability: 7.5\n",
      "2024-07-31 07:56:15.918275: I tensorflow/core/common_runtime/gpu/gpu_process_state.cc:238] Using CUDA malloc Async allocator for GPU: 0\n",
      "2024-07-31 07:56:15.918761: I tensorflow/core/common_runtime/gpu/gpu_device.cc:1928] Created device /job:localhost/replica:0/task:0/device:GPU:0 with 5969 MB memory:  -> device: 0, name: NVIDIA GeForce RTX 2080, pci bus id: 0000:b3:00.0, compute capability: 7.5\n",
      "2024-07-31 07:56:15.929263: I tensorflow/core/common_runtime/gpu/gpu_process_state.cc:238] Using CUDA malloc Async allocator for GPU: 0\n",
      "2024-07-31 07:56:15.929727: I tensorflow/core/common_runtime/gpu/gpu_device.cc:1928] Created device /job:localhost/replica:0/task:0/device:GPU:0 with 5969 MB memory:  -> device: 0, name: NVIDIA GeForce RTX 2080, pci bus id: 0000:b3:00.0, compute capability: 7.5\n",
      "2024-07-31 07:56:15.965785: I tensorflow/core/common_runtime/gpu/gpu_process_state.cc:238] Using CUDA malloc Async allocator for GPU: 0\n",
      "2024-07-31 07:56:15.966393: I tensorflow/core/common_runtime/gpu/gpu_device.cc:1928] Created device /job:localhost/replica:0/task:0/device:GPU:0 with 5865 MB memory:  -> device: 0, name: NVIDIA GeForce RTX 2080, pci bus id: 0000:b3:00.0, compute capability: 7.5\n",
      "2024-07-31 07:56:15.975508: I tensorflow/core/common_runtime/gpu/gpu_process_state.cc:238] Using CUDA malloc Async allocator for GPU: 0\n",
      "2024-07-31 07:56:15.976323: I tensorflow/core/common_runtime/gpu/gpu_device.cc:1928] Created device /job:localhost/replica:0/task:0/device:GPU:0 with 5969 MB memory:  -> device: 0, name: NVIDIA GeForce RTX 2080, pci bus id: 0000:b3:00.0, compute capability: 7.5\n"
     ]
    },
    {
     "name": "stdout",
     "output_type": "stream",
     "text": [
      "\u001b[1m  1/313\u001b[0m \u001b[37m━━━━━━━━━━━━━━━━━━━━\u001b[0m \u001b[1m1:34\u001b[0m 304ms/step"
     ]
    },
    {
     "name": "stderr",
     "output_type": "stream",
     "text": [
      "WARNING: All log messages before absl::InitializeLog() is called are written to STDERR\n",
      "I0000 00:00:1722412576.179143  125211 service.cc:145] XLA service 0x7d4a58003470 initialized for platform CUDA (this does not guarantee that XLA will be used). Devices:\n",
      "I0000 00:00:1722412576.179182  125211 service.cc:153]   StreamExecutor device (0): NVIDIA GeForce RTX 2080, Compute Capability 7.5\n",
      "2024-07-31 07:56:16.187688: I tensorflow/compiler/mlir/tensorflow/utils/dump_mlir_util.cc:268] disabling MLIR crash reproducer, set env var `MLIR_CRASH_REPRODUCER_DIRECTORY` to enable.\n",
      "2024-07-31 07:56:16.232920: I external/local_xla/xla/stream_executor/cuda/cuda_dnn.cc:465] Loaded cuDNN version 8907\n",
      "WARNING: All log messages before absl::InitializeLog() is called are written to STDERR\n",
      "I0000 00:00:1722412576.250519  125285 service.cc:145] XLA service 0x7d4a4c014d80 initialized for platform CUDA (this does not guarantee that XLA will be used). Devices:\n",
      "I0000 00:00:1722412576.250563  125285 service.cc:153]   StreamExecutor device (0): NVIDIA GeForce RTX 2080, Compute Capability 7.5\n",
      "WARNING: All log messages before absl::InitializeLog() is called are written to STDERR\n",
      "I0000 00:00:1722412576.257136  125253 service.cc:145] XLA service 0x7d4a4c003d60 initialized for platform CUDA (this does not guarantee that XLA will be used). Devices:\n",
      "I0000 00:00:1722412576.257173  125253 service.cc:153]   StreamExecutor device (0): NVIDIA GeForce RTX 2080, Compute Capability 7.5\n",
      "2024-07-31 07:56:16.259703: I tensorflow/compiler/mlir/tensorflow/utils/dump_mlir_util.cc:268] disabling MLIR crash reproducer, set env var `MLIR_CRASH_REPRODUCER_DIRECTORY` to enable.\n",
      "2024-07-31 07:56:16.263817: I tensorflow/compiler/mlir/tensorflow/utils/dump_mlir_util.cc:268] disabling MLIR crash reproducer, set env var `MLIR_CRASH_REPRODUCER_DIRECTORY` to enable.\n",
      "2024-07-31 07:56:16.307836: I external/local_xla/xla/stream_executor/cuda/cuda_dnn.cc:465] Loaded cuDNN version 8907\n",
      "2024-07-31 07:56:16.310035: I external/local_xla/xla/stream_executor/cuda/cuda_dnn.cc:465] Loaded cuDNN version 8907\n",
      "I0000 00:00:1722412576.346009  125211 device_compiler.h:188] Compiled cluster using XLA!  This line is logged at most once for the lifetime of the process.\n",
      "WARNING: All log messages before absl::InitializeLog() is called are written to STDERR\n",
      "I0000 00:00:1722412576.362500  125299 service.cc:145] XLA service 0x7d4a4c015590 initialized for platform CUDA (this does not guarantee that XLA will be used). Devices:\n",
      "I0000 00:00:1722412576.362541  125299 service.cc:153]   StreamExecutor device (0): NVIDIA GeForce RTX 2080, Compute Capability 7.5\n",
      "2024-07-31 07:56:16.370517: I tensorflow/compiler/mlir/tensorflow/utils/dump_mlir_util.cc:268] disabling MLIR crash reproducer, set env var `MLIR_CRASH_REPRODUCER_DIRECTORY` to enable.\n"
     ]
    },
    {
     "name": "stdout",
     "output_type": "stream",
     "text": [
      "\u001b[1m216/313\u001b[0m \u001b[32m━━━━━━━━━━━━━\u001b[0m\u001b[37m━━━━━━━\u001b[0m \u001b[1m0s\u001b[0m 1ms/step  "
     ]
    },
    {
     "name": "stderr",
     "output_type": "stream",
     "text": [
      "WARNING: All log messages before absl::InitializeLog() is called are written to STDERR\n",
      "I0000 00:00:1722412576.405675  125317 service.cc:145] XLA service 0x7d4a58003f60 initialized for platform CUDA (this does not guarantee that XLA will be used). Devices:\n",
      "I0000 00:00:1722412576.405717  125317 service.cc:153]   StreamExecutor device (0): NVIDIA GeForce RTX 2080, Compute Capability 7.5\n",
      "2024-07-31 07:56:16.413378: I external/local_xla/xla/stream_executor/cuda/cuda_dnn.cc:465] Loaded cuDNN version 8907\n",
      "2024-07-31 07:56:16.417724: I tensorflow/compiler/mlir/tensorflow/utils/dump_mlir_util.cc:268] disabling MLIR crash reproducer, set env var `MLIR_CRASH_REPRODUCER_DIRECTORY` to enable.\n",
      "WARNING: All log messages before absl::InitializeLog() is called are written to STDERR\n",
      "I0000 00:00:1722412576.421481  125348 service.cc:145] XLA service 0x7d4a4c014b80 initialized for platform CUDA (this does not guarantee that XLA will be used). Devices:\n",
      "I0000 00:00:1722412576.421523  125348 service.cc:153]   StreamExecutor device (0): NVIDIA GeForce RTX 2080, Compute Capability 7.5\n",
      "WARNING: All log messages before absl::InitializeLog() is called are written to STDERR\n",
      "I0000 00:00:1722412576.422153  125331 service.cc:145] XLA service 0x7d4a58003a10 initialized for platform CUDA (this does not guarantee that XLA will be used). Devices:\n",
      "I0000 00:00:1722412576.422201  125331 service.cc:153]   StreamExecutor device (0): NVIDIA GeForce RTX 2080, Compute Capability 7.5\n",
      "2024-07-31 07:56:16.429200: I tensorflow/compiler/mlir/tensorflow/utils/dump_mlir_util.cc:268] disabling MLIR crash reproducer, set env var `MLIR_CRASH_REPRODUCER_DIRECTORY` to enable.\n",
      "WARNING: All log messages before absl::InitializeLog() is called are written to STDERR\n",
      "I0000 00:00:1722412576.429255  125362 service.cc:145] XLA service 0x7d4a4c015110 initialized for platform CUDA (this does not guarantee that XLA will be used). Devices:\n",
      "I0000 00:00:1722412576.429280  125362 service.cc:153]   StreamExecutor device (0): NVIDIA GeForce RTX 2080, Compute Capability 7.5\n",
      "2024-07-31 07:56:16.431310: I tensorflow/compiler/mlir/tensorflow/utils/dump_mlir_util.cc:268] disabling MLIR crash reproducer, set env var `MLIR_CRASH_REPRODUCER_DIRECTORY` to enable.\n",
      "2024-07-31 07:56:16.436408: I tensorflow/compiler/mlir/tensorflow/utils/dump_mlir_util.cc:268] disabling MLIR crash reproducer, set env var `MLIR_CRASH_REPRODUCER_DIRECTORY` to enable.\n",
      "2024-07-31 07:56:16.461424: I external/local_xla/xla/stream_executor/cuda/cuda_dnn.cc:465] Loaded cuDNN version 8907\n",
      "2024-07-31 07:56:16.470517: I external/local_xla/xla/stream_executor/cuda/cuda_dnn.cc:465] Loaded cuDNN version 8907\n",
      "I0000 00:00:1722412576.471251  125253 device_compiler.h:188] Compiled cluster using XLA!  This line is logged at most once for the lifetime of the process.\n",
      "2024-07-31 07:56:16.473451: I external/local_xla/xla/stream_executor/cuda/cuda_dnn.cc:465] Loaded cuDNN version 8907\n",
      "I0000 00:00:1722412576.475148  125285 device_compiler.h:188] Compiled cluster using XLA!  This line is logged at most once for the lifetime of the process.\n",
      "2024-07-31 07:56:16.475375: I external/local_xla/xla/stream_executor/cuda/cuda_dnn.cc:465] Loaded cuDNN version 8907\n",
      "I0000 00:00:1722412576.533876  125299 device_compiler.h:188] Compiled cluster using XLA!  This line is logged at most once for the lifetime of the process.\n"
     ]
    },
    {
     "name": "stdout",
     "output_type": "stream",
     "text": [
      "\u001b[1m260/313\u001b[0m \u001b[32m━━━━━━━━━━━━━━━━\u001b[0m\u001b[37m━━━━\u001b[0m \u001b[1m0s\u001b[0m 1ms/step"
     ]
    },
    {
     "name": "stderr",
     "output_type": "stream",
     "text": [
      "I0000 00:00:1722412576.644580  125317 device_compiler.h:188] Compiled cluster using XLA!  This line is logged at most once for the lifetime of the process.\n",
      "I0000 00:00:1722412576.708844  125331 device_compiler.h:188] Compiled cluster using XLA!  This line is logged at most once for the lifetime of the process.\n",
      "I0000 00:00:1722412576.708844  125348 device_compiler.h:188] Compiled cluster using XLA!  This line is logged at most once for the lifetime of the process.\n",
      "I0000 00:00:1722412576.711241  125362 device_compiler.h:188] Compiled cluster using XLA!  This line is logged at most once for the lifetime of the process.\n"
     ]
    },
    {
     "name": "stdout",
     "output_type": "stream",
     "text": [
      "\u001b[1m313/313\u001b[0m \u001b[32m━━━━━━━━━━━━━━━━━━━━\u001b[0m\u001b[37m\u001b[0m \u001b[1m1s\u001b[0m 2ms/step\n",
      "\u001b[1m313/313\u001b[0m \u001b[32m━━━━━━━━━━━━━━━━━━━━\u001b[0m\u001b[37m\u001b[0m \u001b[1m1s\u001b[0m 2ms/step\n",
      "\u001b[1m313/313\u001b[0m \u001b[32m━━━━━━━━━━━━━━━━━━━━\u001b[0m\u001b[37m\u001b[0m \u001b[1m1s\u001b[0m 2ms/step\n"
     ]
    },
    {
     "name": "stderr",
     "output_type": "stream",
     "text": [
      "/opt/conda/envs/QML-QPF/lib/python3.10/site-packages/keras/src/saving/saving_lib.py:576: UserWarning: Skipping variable loading for optimizer 'adam', because it has 2 variables whereas the saved optimizer has 6 variables. \n",
      "  saveable.load_own_variables(weights_store.get(inner_path))\n"
     ]
    },
    {
     "name": "stdout",
     "output_type": "stream",
     "text": [
      "\u001b[1m313/313\u001b[0m \u001b[32m━━━━━━━━━━━━━━━━━━━━\u001b[0m\u001b[37m\u001b[0m \u001b[1m1s\u001b[0m 2ms/step\n",
      "\u001b[1m313/313\u001b[0m \u001b[32m━━━━━━━━━━━━━━━━━━━━\u001b[0m\u001b[37m\u001b[0m \u001b[1m1s\u001b[0m 2ms/step\n",
      "\u001b[1m313/313\u001b[0m \u001b[32m━━━━━━━━━━━━━━━━━━━━\u001b[0m\u001b[37m\u001b[0m \u001b[1m1s\u001b[0m 2ms/step\n",
      "\u001b[1m313/313\u001b[0m \u001b[32m━━━━━━━━━━━━━━━━━━━━\u001b[0m\u001b[37m\u001b[0m \u001b[1m1s\u001b[0m 2ms/step\n"
     ]
    },
    {
     "name": "stderr",
     "output_type": "stream",
     "text": [
      "/opt/conda/envs/QML-QPF/lib/python3.10/site-packages/keras/src/saving/saving_lib.py:576: UserWarning: Skipping variable loading for optimizer 'adam', because it has 2 variables whereas the saved optimizer has 6 variables. \n",
      "  saveable.load_own_variables(weights_store.get(inner_path))\n"
     ]
    },
    {
     "name": "stdout",
     "output_type": "stream",
     "text": [
      "\u001b[1m313/313\u001b[0m \u001b[32m━━━━━━━━━━━━━━━━━━━━\u001b[0m\u001b[37m\u001b[0m \u001b[1m1s\u001b[0m 2ms/step\n"
     ]
    },
    {
     "name": "stderr",
     "output_type": "stream",
     "text": [
      "/opt/conda/envs/QML-QPF/lib/python3.10/site-packages/keras/src/saving/saving_lib.py:576: UserWarning: Skipping variable loading for optimizer 'adam', because it has 2 variables whereas the saved optimizer has 6 variables. \n",
      "  saveable.load_own_variables(weights_store.get(inner_path))\n",
      "/opt/conda/envs/QML-QPF/lib/python3.10/site-packages/keras/src/saving/saving_lib.py:576: UserWarning: Skipping variable loading for optimizer 'adam', because it has 2 variables whereas the saved optimizer has 6 variables. \n",
      "  saveable.load_own_variables(weights_store.get(inner_path))\n",
      "/opt/conda/envs/QML-QPF/lib/python3.10/site-packages/keras/src/saving/saving_lib.py:576: UserWarning: Skipping variable loading for optimizer 'adam', because it has 2 variables whereas the saved optimizer has 6 variables. \n",
      "  saveable.load_own_variables(weights_store.get(inner_path))\n"
     ]
    },
    {
     "name": "stdout",
     "output_type": "stream",
     "text": [
      "/workspaces/QML-QPF/multiprocessing/output/20240731-075014/visuals/circuits/FASHIONMNISTFASHIONMNISTqcnot2-0-1-3.png\n"
     ]
    },
    {
     "name": "stderr",
     "output_type": "stream",
     "text": [
      "/opt/conda/envs/QML-QPF/lib/python3.10/site-packages/keras/src/saving/saving_lib.py:576: UserWarning: Skipping variable loading for optimizer 'adam', because it has 2 variables whereas the saved optimizer has 6 variables. \n",
      "  saveable.load_own_variables(weights_store.get(inner_path))\n",
      "/opt/conda/envs/QML-QPF/lib/python3.10/site-packages/keras/src/saving/saving_lib.py:576: UserWarning: Skipping variable loading for optimizer 'adam', because it has 2 variables whereas the saved optimizer has 6 variables. \n",
      "  saveable.load_own_variables(weights_store.get(inner_path))\n",
      "/opt/conda/envs/QML-QPF/lib/python3.10/site-packages/keras/src/saving/saving_lib.py:576: UserWarning: Skipping variable loading for optimizer 'adam', because it has 2 variables whereas the saved optimizer has 6 variables. \n",
      "  saveable.load_own_variables(weights_store.get(inner_path))\n"
     ]
    },
    {
     "name": "stdout",
     "output_type": "stream",
     "text": [
      "/workspaces/QML-QPF/multiprocessing/output/20240731-075014/visuals/circuits/FASHIONMNISTFASHIONMNISTqcnot1-2-0-3.png\n",
      "/workspaces/QML-QPF/multiprocessing/output/20240731-075014/visuals/circuits/FASHIONMNISTFASHIONMNISTqcnot0-2-1-3.png\n",
      "/workspaces/QML-QPF/multiprocessing/output/20240731-075014/visuals/circuits/FASHIONMNISTFASHIONMNISTqcnot0-1-2-3.png\n",
      "/workspaces/QML-QPF/multiprocessing/output/20240731-075014/visuals/circuits/FASHIONMNISTFASHIONMNISTqcnot1-0-2-3.png\n",
      "/workspaces/QML-QPF/multiprocessing/output/20240731-075014/visuals/weights/FASHIONMNISTFASHIONMNISTqcnot2-0-1-3.gif\n",
      "/workspaces/QML-QPF/multiprocessing/output/20240731-075014/visuals/circuits/FASHIONMNISTFASHIONMNISTqcnot1-0-3-2.png\n",
      "/workspaces/QML-QPF/multiprocessing/output/20240731-075014/visuals/weights/FASHIONMNISTFASHIONMNISTqcnot1-2-0-3.gif/workspaces/QML-QPF/multiprocessing/output/20240731-075014/visuals/circuits/FASHIONMNISTFASHIONMNISTqcnot2-1-0-3.png\n",
      "\n",
      "/workspaces/QML-QPF/multiprocessing/output/20240731-075014/visuals/circuits/FASHIONMNISTFASHIONMNISTqcnot0-1-3-2.png\n",
      "/workspaces/QML-QPF/multiprocessing/output/20240731-075014/visuals/weights/FASHIONMNISTFASHIONMNISTqcnot1-0-2-3.gif\n",
      "/workspaces/QML-QPF/multiprocessing/output/20240731-075014/visuals/weights/FASHIONMNISTFASHIONMNISTqcnot0-2-1-3.gif\n",
      "/workspaces/QML-QPF/multiprocessing/output/20240731-075014/visuals/weights/FASHIONMNISTFASHIONMNISTqcnot0-1-2-3.gif\n",
      "/workspaces/QML-QPF/multiprocessing/output/20240731-075014/visuals/weights/FASHIONMNISTFASHIONMNISTqcnot2-1-0-3.gif\n",
      "/workspaces/QML-QPF/multiprocessing/output/20240731-075014/visuals/weights/FASHIONMNISTFASHIONMNISTqcnot0-1-3-2.gif\n",
      "/workspaces/QML-QPF/multiprocessing/output/20240731-075014/visuals/weights/FASHIONMNISTFASHIONMNISTqcnot1-0-3-2.gif\n",
      "WARNING:tensorflow:5 out of the last 5 calls to <function pfor.<locals>.f at 0x7d4bd021d750> triggered tf.function retracing. Tracing is expensive and the excessive number of tracings could be due to (1) creating @tf.function repeatedly in a loop, (2) passing tensors with different shapes, (3) passing Python objects instead of tensors. For (1), please define your @tf.function outside of the loop. For (2), @tf.function has reduce_retracing=True option that can avoid unnecessary retracing. For (3), please refer to https://www.tensorflow.org/guide/function#controlling_retracing and https://www.tensorflow.org/api_docs/python/tf/function for  more details.\n",
      "WARNING:tensorflow:6 out of the last 6 calls to <function pfor.<locals>.f at 0x7d4bd0253520> triggered tf.function retracing. Tracing is expensive and the excessive number of tracings could be due to (1) creating @tf.function repeatedly in a loop, (2) passing tensors with different shapes, (3) passing Python objects instead of tensors. For (1), please define your @tf.function outside of the loop. For (2), @tf.function has reduce_retracing=True option that can avoid unnecessary retracing. For (3), please refer to https://www.tensorflow.org/guide/function#controlling_retracing and https://www.tensorflow.org/api_docs/python/tf/function for  more details.\n",
      "WARNING:tensorflow:5 out of the last 5 calls to <function pfor.<locals>.f at 0x7d4bd0221750> triggered tf.function retracing. Tracing is expensive and the excessive number of tracings could be due to (1) creating @tf.function repeatedly in a loop, (2) passing tensors with different shapes, (3) passing Python objects instead of tensors. For (1), please define your @tf.function outside of the loop. For (2), @tf.function has reduce_retracing=True option that can avoid unnecessary retracing. For (3), please refer to https://www.tensorflow.org/guide/function#controlling_retracing and https://www.tensorflow.org/api_docs/python/tf/function for  more details.\n",
      "WARNING:tensorflow:5 out of the last 5 calls to <function pfor.<locals>.f at 0x7d4bd021d6c0> triggered tf.function retracing. Tracing is expensive and the excessive number of tracings could be due to (1) creating @tf.function repeatedly in a loop, (2) passing tensors with different shapes, (3) passing Python objects instead of tensors. For (1), please define your @tf.function outside of the loop. For (2), @tf.function has reduce_retracing=True option that can avoid unnecessary retracing. For (3), please refer to https://www.tensorflow.org/guide/function#controlling_retracing and https://www.tensorflow.org/api_docs/python/tf/function for  more details.\n",
      "WARNING:tensorflow:6 out of the last 6 calls to <function pfor.<locals>.f at 0x7d4bd0253520> triggered tf.function retracing. Tracing is expensive and the excessive number of tracings could be due to (1) creating @tf.function repeatedly in a loop, (2) passing tensors with different shapes, (3) passing Python objects instead of tensors. For (1), please define your @tf.function outside of the loop. For (2), @tf.function has reduce_retracing=True option that can avoid unnecessary retracing. For (3), please refer to https://www.tensorflow.org/guide/function#controlling_retracing and https://www.tensorflow.org/api_docs/python/tf/function for  more details.\n",
      "WARNING:tensorflow:6 out of the last 6 calls to <function pfor.<locals>.f at 0x7d4bd0253490> triggered tf.function retracing. Tracing is expensive and the excessive number of tracings could be due to (1) creating @tf.function repeatedly in a loop, (2) passing tensors with different shapes, (3) passing Python objects instead of tensors. For (1), please define your @tf.function outside of the loop. For (2), @tf.function has reduce_retracing=True option that can avoid unnecessary retracing. For (3), please refer to https://www.tensorflow.org/guide/function#controlling_retracing and https://www.tensorflow.org/api_docs/python/tf/function for  more details.\n",
      "WARNING:tensorflow:5 out of the last 5 calls to <function pfor.<locals>.f at 0x7d4bd021d6c0> triggered tf.function retracing. Tracing is expensive and the excessive number of tracings could be due to (1) creating @tf.function repeatedly in a loop, (2) passing tensors with different shapes, (3) passing Python objects instead of tensors. For (1), please define your @tf.function outside of the loop. For (2), @tf.function has reduce_retracing=True option that can avoid unnecessary retracing. For (3), please refer to https://www.tensorflow.org/guide/function#controlling_retracing and https://www.tensorflow.org/api_docs/python/tf/function for  more details.\n",
      "WARNING:tensorflow:5 out of the last 5 calls to <function pfor.<locals>.f at 0x7d4bd021d6c0> triggered tf.function retracing. Tracing is expensive and the excessive number of tracings could be due to (1) creating @tf.function repeatedly in a loop, (2) passing tensors with different shapes, (3) passing Python objects instead of tensors. For (1), please define your @tf.function outside of the loop. For (2), @tf.function has reduce_retracing=True option that can avoid unnecessary retracing. For (3), please refer to https://www.tensorflow.org/guide/function#controlling_retracing and https://www.tensorflow.org/api_docs/python/tf/function for  more details.\n",
      "WARNING:tensorflow:6 out of the last 6 calls to <function pfor.<locals>.f at 0x7d4bd0253490> triggered tf.function retracing. Tracing is expensive and the excessive number of tracings could be due to (1) creating @tf.function repeatedly in a loop, (2) passing tensors with different shapes, (3) passing Python objects instead of tensors. For (1), please define your @tf.function outside of the loop. For (2), @tf.function has reduce_retracing=True option that can avoid unnecessary retracing. For (3), please refer to https://www.tensorflow.org/guide/function#controlling_retracing and https://www.tensorflow.org/api_docs/python/tf/function for  more details.\n",
      "WARNING:tensorflow:6 out of the last 6 calls to <function pfor.<locals>.f at 0x7d4bd0253490> triggered tf.function retracing. Tracing is expensive and the excessive number of tracings could be due to (1) creating @tf.function repeatedly in a loop, (2) passing tensors with different shapes, (3) passing Python objects instead of tensors. For (1), please define your @tf.function outside of the loop. For (2), @tf.function has reduce_retracing=True option that can avoid unnecessary retracing. For (3), please refer to https://www.tensorflow.org/guide/function#controlling_retracing and https://www.tensorflow.org/api_docs/python/tf/function for  more details.\n",
      "WARNING:tensorflow:5 out of the last 5 calls to <function pfor.<locals>.f at 0x7d4bd021d6c0> triggered tf.function retracing. Tracing is expensive and the excessive number of tracings could be due to (1) creating @tf.function repeatedly in a loop, (2) passing tensors with different shapes, (3) passing Python objects instead of tensors. For (1), please define your @tf.function outside of the loop. For (2), @tf.function has reduce_retracing=True option that can avoid unnecessary retracing. For (3), please refer to https://www.tensorflow.org/guide/function#controlling_retracing and https://www.tensorflow.org/api_docs/python/tf/function for  more details.\n",
      "WARNING:tensorflow:5 out of the last 5 calls to <function pfor.<locals>.f at 0x7d4bd021d6c0> triggered tf.function retracing. Tracing is expensive and the excessive number of tracings could be due to (1) creating @tf.function repeatedly in a loop, (2) passing tensors with different shapes, (3) passing Python objects instead of tensors. For (1), please define your @tf.function outside of the loop. For (2), @tf.function has reduce_retracing=True option that can avoid unnecessary retracing. For (3), please refer to https://www.tensorflow.org/guide/function#controlling_retracing and https://www.tensorflow.org/api_docs/python/tf/function for  more details.\n",
      "WARNING:tensorflow:6 out of the last 6 calls to <function pfor.<locals>.f at 0x7d4bd0253490> triggered tf.function retracing. Tracing is expensive and the excessive number of tracings could be due to (1) creating @tf.function repeatedly in a loop, (2) passing tensors with different shapes, (3) passing Python objects instead of tensors. For (1), please define your @tf.function outside of the loop. For (2), @tf.function has reduce_retracing=True option that can avoid unnecessary retracing. For (3), please refer to https://www.tensorflow.org/guide/function#controlling_retracing and https://www.tensorflow.org/api_docs/python/tf/function for  more details.\n",
      "WARNING:tensorflow:6 out of the last 6 calls to <function pfor.<locals>.f at 0x7d4bd0253490> triggered tf.function retracing. Tracing is expensive and the excessive number of tracings could be due to (1) creating @tf.function repeatedly in a loop, (2) passing tensors with different shapes, (3) passing Python objects instead of tensors. For (1), please define your @tf.function outside of the loop. For (2), @tf.function has reduce_retracing=True option that can avoid unnecessary retracing. For (3), please refer to https://www.tensorflow.org/guide/function#controlling_retracing and https://www.tensorflow.org/api_docs/python/tf/function for  more details.\n",
      "WARNING:tensorflow:5 out of the last 5 calls to <function pfor.<locals>.f at 0x7d4bd02216c0> triggered tf.function retracing. Tracing is expensive and the excessive number of tracings could be due to (1) creating @tf.function repeatedly in a loop, (2) passing tensors with different shapes, (3) passing Python objects instead of tensors. For (1), please define your @tf.function outside of the loop. For (2), @tf.function has reduce_retracing=True option that can avoid unnecessary retracing. For (3), please refer to https://www.tensorflow.org/guide/function#controlling_retracing and https://www.tensorflow.org/api_docs/python/tf/function for  more details.\n",
      "WARNING:tensorflow:6 out of the last 6 calls to <function pfor.<locals>.f at 0x7d4bd0257490> triggered tf.function retracing. Tracing is expensive and the excessive number of tracings could be due to (1) creating @tf.function repeatedly in a loop, (2) passing tensors with different shapes, (3) passing Python objects instead of tensors. For (1), please define your @tf.function outside of the loop. For (2), @tf.function has reduce_retracing=True option that can avoid unnecessary retracing. For (3), please refer to https://www.tensorflow.org/guide/function#controlling_retracing and https://www.tensorflow.org/api_docs/python/tf/function for  more details.\n",
      "/workspaces/QML-QPF/multiprocessing/output/20240731-075014/visuals/relative_weights/FASHIONMNISTFASHIONMNISTqcnot0-1-3-2.gif\n",
      "/workspaces/QML-QPF/multiprocessing/output/20240731-075014/visuals/relative_weights/FASHIONMNISTFASHIONMNISTqcnot0-2-1-3.gif\n",
      "/workspaces/QML-QPF/multiprocessing/output/20240731-075014/visuals/relative_weights/FASHIONMNISTFASHIONMNISTqcnot1-2-0-3.gif\n",
      "/workspaces/QML-QPF/multiprocessing/output/20240731-075014/visuals/relative_weights/FASHIONMNISTFASHIONMNISTqcnot2-1-0-3.gif\n",
      "/workspaces/QML-QPF/multiprocessing/output/20240731-075014/visuals/relative_weights/FASHIONMNISTFASHIONMNISTqcnot0-1-2-3.gif\n",
      "/workspaces/QML-QPF/multiprocessing/output/20240731-075014/visuals/relative_weights/FASHIONMNISTFASHIONMNISTqcnot1-0-3-2.gif\n",
      "/workspaces/QML-QPF/multiprocessing/output/20240731-075014/visuals/relative_weights/FASHIONMNISTFASHIONMNISTqcnot1-0-2-3.gif\n",
      "/workspaces/QML-QPF/multiprocessing/output/20240731-075014/visuals/relative_weights/FASHIONMNISTFASHIONMNISTqcnot2-0-1-3.gif\n",
      "/workspaces/QML-QPF/multiprocessing/output/20240731-075014/visuals/bias/FASHIONMNISTFASHIONMNISTqcnot2-1-0-3.gif\n",
      "/workspaces/QML-QPF/multiprocessing/output/20240731-075014/visuals/bias/FASHIONMNISTFASHIONMNISTqcnot0-1-3-2.gif\n",
      "/workspaces/QML-QPF/multiprocessing/output/20240731-075014/visuals/bias/FASHIONMNISTFASHIONMNISTqcnot0-2-1-3.gif\n",
      "/workspaces/QML-QPF/multiprocessing/output/20240731-075014/visuals/bias/FASHIONMNISTFASHIONMNISTqcnot0-1-2-3.gif\n",
      "/workspaces/QML-QPF/multiprocessing/output/20240731-075014/visuals/bias/FASHIONMNISTFASHIONMNISTqcnot1-2-0-3.gif\n",
      "/workspaces/QML-QPF/multiprocessing/output/20240731-075014/visuals/bias/FASHIONMNISTFASHIONMNISTqcnot1-0-3-2.gif\n",
      "/workspaces/QML-QPF/multiprocessing/output/20240731-075014/visuals/bias/FASHIONMNISTFASHIONMNISTqcnot2-0-1-3.gif\n",
      "/workspaces/QML-QPF/multiprocessing/output/20240731-075014/visuals/bias/FASHIONMNISTFASHIONMNISTqcnot1-0-2-3.gif\n",
      "/workspaces/QML-QPF/multiprocessing/output/20240731-075014/visuals/relative_bias/FASHIONMNISTFASHIONMNISTqcnot0-1-3-2.gif\n",
      "/workspaces/QML-QPF/multiprocessing/output/20240731-075014/visuals/relative_bias/FASHIONMNISTFASHIONMNISTqcnot2-1-0-3.gif\n",
      "/workspaces/QML-QPF/multiprocessing/output/20240731-075014/visuals/relative_bias/FASHIONMNISTFASHIONMNISTqcnot0-1-2-3.gif\n",
      "/workspaces/QML-QPF/multiprocessing/output/20240731-075014/visuals/relative_bias/FASHIONMNISTFASHIONMNISTqcnot0-2-1-3.gif\n",
      "/workspaces/QML-QPF/multiprocessing/output/20240731-075014/visuals/relative_bias/FASHIONMNISTFASHIONMNISTqcnot1-2-0-3.gif\n",
      "/workspaces/QML-QPF/multiprocessing/output/20240731-075014/visuals/relative_bias/FASHIONMNISTFASHIONMNISTqcnot1-0-3-2.gif\n",
      "/workspaces/QML-QPF/multiprocessing/output/20240731-075014/visuals/relative_bias/FASHIONMNISTFASHIONMNISTqcnot2-0-1-3.gif\n",
      "/workspaces/QML-QPF/multiprocessing/output/20240731-075014/visuals/relative_bias/FASHIONMNISTFASHIONMNISTqcnot1-0-2-3.gif\n",
      "/workspaces/QML-QPF/multiprocessing/output/20240731-075014/visuals/individual_samples/FASHIONMNISTFASHIONMNISTqcnot0-1-3-2.png\n",
      "/workspaces/QML-QPF/multiprocessing/output/20240731-075014/visuals/relative_samples/FASHIONMNISTFASHIONMNISTqcnot0-1-3-2.png\n",
      "/workspaces/QML-QPF/multiprocessing/output/20240731-075014/visuals/individual_samples/FASHIONMNISTFASHIONMNISTqcnot2-1-0-3.png\n",
      "/workspaces/QML-QPF/multiprocessing/output/20240731-075014/visuals/relative_samples/FASHIONMNISTFASHIONMNISTqcnot2-1-0-3.png\n",
      "/workspaces/QML-QPF/multiprocessing/output/20240731-075014/visuals/filter/FASHIONMNISTFASHIONMNISTqcnot0-1-3-2.gif\n",
      "/workspaces/QML-QPF/multiprocessing/output/20240731-075014/visuals/filter/FASHIONMNISTFASHIONMNISTqcnot2-1-0-3.gif\n",
      "/workspaces/QML-QPF/multiprocessing/output/20240731-075014/visuals/individual_samples/FASHIONMNISTFASHIONMNISTqcnot0-1-2-3.png\n",
      "/workspaces/QML-QPF/multiprocessing/output/20240731-075014/visuals/relative_samples/FASHIONMNISTFASHIONMNISTqcnot0-1-2-3.png\n",
      "/workspaces/QML-QPF/multiprocessing/output/20240731-075014/visuals/individual_samples/FASHIONMNISTFASHIONMNISTqcnot1-2-0-3.png\n",
      "/workspaces/QML-QPF/multiprocessing/output/20240731-075014/visuals/relative_samples/FASHIONMNISTFASHIONMNISTqcnot1-2-0-3.png\n",
      "/workspaces/QML-QPF/multiprocessing/output/20240731-075014/visuals/filter/FASHIONMNISTFASHIONMNISTqcnot0-1-2-3.gif\n",
      "/workspaces/QML-QPF/multiprocessing/output/20240731-075014/visuals/individual_samples/FASHIONMNISTFASHIONMNISTqcnot0-2-1-3.png\n",
      "/workspaces/QML-QPF/multiprocessing/output/20240731-075014/visuals/relative_samples/FASHIONMNISTFASHIONMNISTqcnot0-2-1-3.png\n",
      "/workspaces/QML-QPF/multiprocessing/output/20240731-075014/visuals/filter/FASHIONMNISTFASHIONMNISTqcnot1-2-0-3.gif\n",
      "/workspaces/QML-QPF/multiprocessing/output/20240731-075014/visuals/filter/FASHIONMNISTFASHIONMNISTqcnot0-2-1-3.gif\n",
      "/workspaces/QML-QPF/multiprocessing/output/20240731-075014/visuals/individual_samples/FASHIONMNISTFASHIONMNISTqcnot1-0-3-2.png\n",
      "/workspaces/QML-QPF/multiprocessing/output/20240731-075014/visuals/relative_samples/FASHIONMNISTFASHIONMNISTqcnot1-0-3-2.png\n",
      "/workspaces/QML-QPF/multiprocessing/output/20240731-075014/visuals/individual_samples/FASHIONMNISTFASHIONMNISTqcnot2-0-1-3.png\n",
      "/workspaces/QML-QPF/multiprocessing/output/20240731-075014/visuals/filter/FASHIONMNISTFASHIONMNISTqcnot1-0-3-2.gif\n",
      "/workspaces/QML-QPF/multiprocessing/output/20240731-075014/visuals/relative_samples/FASHIONMNISTFASHIONMNISTqcnot2-0-1-3.png\n",
      "/workspaces/QML-QPF/multiprocessing/output/20240731-075014/visuals/filter/FASHIONMNISTFASHIONMNISTqcnot2-0-1-3.gif\n",
      "/workspaces/QML-QPF/multiprocessing/output/20240731-075014/visuals/individual_samples/FASHIONMNISTFASHIONMNISTqcnot1-0-2-3.png\n",
      "/workspaces/QML-QPF/multiprocessing/output/20240731-075014/visuals/relative_samples/FASHIONMNISTFASHIONMNISTqcnot1-0-2-3.png\n",
      "/workspaces/QML-QPF/multiprocessing/output/20240731-075014/visuals/filter/FASHIONMNISTFASHIONMNISTqcnot1-0-2-3.gif\n"
     ]
    },
    {
     "name": "stderr",
     "output_type": "stream",
     "text": [
      "2024-07-31 08:00:41.938132: I external/local_tsl/tsl/profiler/lib/profiler_session.cc:104] Profiler session initializing.\n",
      "2024-07-31 08:00:41.938201: I external/local_tsl/tsl/profiler/lib/profiler_session.cc:119] Profiler session started.\n",
      "2024-07-31 08:00:41.962819: I external/local_tsl/tsl/profiler/lib/profiler_session.cc:131] Profiler session tear down.\n",
      "2024-07-31 08:00:41.963607: I external/local_xla/xla/backends/profiler/gpu/cupti_tracer.cc:1364] CUPTI activity buffer flushed\n",
      "2024-07-31 08:00:42.134019: I external/local_tsl/tsl/profiler/lib/profiler_session.cc:104] Profiler session initializing.\n",
      "2024-07-31 08:00:42.134072: I external/local_tsl/tsl/profiler/lib/profiler_session.cc:119] Profiler session started.\n",
      "2024-07-31 08:00:42.146441: I external/local_tsl/tsl/profiler/lib/profiler_session.cc:131] Profiler session tear down.\n",
      "2024-07-31 08:00:42.147049: I external/local_xla/xla/backends/profiler/gpu/cupti_tracer.cc:1364] CUPTI activity buffer flushed\n"
     ]
    },
    {
     "name": "stdout",
     "output_type": "stream",
     "text": [
      "\u001b[1m313/313\u001b[0m \u001b[32m━━━━━━━━━━━━━━━━━━━━\u001b[0m\u001b[37m\u001b[0m \u001b[1m1s\u001b[0m 2ms/step\n",
      "\u001b[1m278/313\u001b[0m \u001b[32m━━━━━━━━━━━━━━━━━\u001b[0m\u001b[37m━━━\u001b[0m \u001b[1m0s\u001b[0m 1ms/step"
     ]
    },
    {
     "name": "stderr",
     "output_type": "stream",
     "text": [
      "/opt/conda/envs/QML-QPF/lib/python3.10/site-packages/keras/src/saving/saving_lib.py:576: UserWarning: Skipping variable loading for optimizer 'adam', because it has 2 variables whereas the saved optimizer has 6 variables. \n",
      "  saveable.load_own_variables(weights_store.get(inner_path))\n"
     ]
    },
    {
     "name": "stdout",
     "output_type": "stream",
     "text": [
      "\u001b[1m313/313\u001b[0m \u001b[32m━━━━━━━━━━━━━━━━━━━━\u001b[0m\u001b[37m\u001b[0m \u001b[1m1s\u001b[0m 2ms/step\n"
     ]
    },
    {
     "name": "stderr",
     "output_type": "stream",
     "text": [
      "/opt/conda/envs/QML-QPF/lib/python3.10/site-packages/keras/src/saving/saving_lib.py:576: UserWarning: Skipping variable loading for optimizer 'adam', because it has 2 variables whereas the saved optimizer has 6 variables. \n",
      "  saveable.load_own_variables(weights_store.get(inner_path))\n"
     ]
    },
    {
     "name": "stdout",
     "output_type": "stream",
     "text": [
      "/workspaces/QML-QPF/multiprocessing/output/20240731-075014/visuals/circuits/FASHIONMNISTFASHIONMNISTqcnot0-2-3-1.png\n",
      "/workspaces/QML-QPF/multiprocessing/output/20240731-075014/visuals/circuits/FASHIONMNISTFASHIONMNISTqcnot1-2-3-0.png\n",
      "/workspaces/QML-QPF/multiprocessing/output/20240731-075014/visuals/weights/FASHIONMNISTFASHIONMNISTqcnot0-2-3-1.gif\n",
      "/workspaces/QML-QPF/multiprocessing/output/20240731-075014/visuals/weights/FASHIONMNISTFASHIONMNISTqcnot1-2-3-0.gif\n"
     ]
    },
    {
     "name": "stderr",
     "output_type": "stream",
     "text": [
      "2024-07-31 08:00:50.889192: I external/local_tsl/tsl/profiler/lib/profiler_session.cc:104] Profiler session initializing.\n",
      "2024-07-31 08:00:50.889240: I external/local_tsl/tsl/profiler/lib/profiler_session.cc:119] Profiler session started.\n",
      "2024-07-31 08:00:50.901558: I external/local_tsl/tsl/profiler/lib/profiler_session.cc:131] Profiler session tear down.\n",
      "2024-07-31 08:00:50.902135: I external/local_xla/xla/backends/profiler/gpu/cupti_tracer.cc:1364] CUPTI activity buffer flushed\n"
     ]
    },
    {
     "name": "stdout",
     "output_type": "stream",
     "text": [
      "\u001b[1m313/313\u001b[0m \u001b[32m━━━━━━━━━━━━━━━━━━━━\u001b[0m\u001b[37m\u001b[0m \u001b[1m1s\u001b[0m 2ms/step\n"
     ]
    },
    {
     "name": "stderr",
     "output_type": "stream",
     "text": [
      "/opt/conda/envs/QML-QPF/lib/python3.10/site-packages/keras/src/saving/saving_lib.py:576: UserWarning: Skipping variable loading for optimizer 'adam', because it has 2 variables whereas the saved optimizer has 6 variables. \n",
      "  saveable.load_own_variables(weights_store.get(inner_path))\n"
     ]
    },
    {
     "name": "stdout",
     "output_type": "stream",
     "text": [
      "/workspaces/QML-QPF/multiprocessing/output/20240731-075014/visuals/circuits/FASHIONMNISTFASHIONMNISTqcnot2-0-3-1.png\n",
      "/workspaces/QML-QPF/multiprocessing/output/20240731-075014/visuals/weights/FASHIONMNISTFASHIONMNISTqcnot2-0-3-1.gif\n"
     ]
    },
    {
     "name": "stderr",
     "output_type": "stream",
     "text": [
      "2024-07-31 08:00:58.591491: I external/local_tsl/tsl/profiler/lib/profiler_session.cc:104] Profiler session initializing.\n",
      "2024-07-31 08:00:58.591536: I external/local_tsl/tsl/profiler/lib/profiler_session.cc:119] Profiler session started.\n",
      "2024-07-31 08:00:58.604464: I external/local_tsl/tsl/profiler/lib/profiler_session.cc:131] Profiler session tear down.\n",
      "2024-07-31 08:00:58.605280: I external/local_xla/xla/backends/profiler/gpu/cupti_tracer.cc:1364] CUPTI activity buffer flushed\n"
     ]
    },
    {
     "name": "stdout",
     "output_type": "stream",
     "text": [
      "\u001b[1m313/313\u001b[0m \u001b[32m━━━━━━━━━━━━━━━━━━━━\u001b[0m\u001b[37m\u001b[0m \u001b[1m1s\u001b[0m 2ms/step\n"
     ]
    },
    {
     "name": "stderr",
     "output_type": "stream",
     "text": [
      "/opt/conda/envs/QML-QPF/lib/python3.10/site-packages/keras/src/saving/saving_lib.py:576: UserWarning: Skipping variable loading for optimizer 'adam', because it has 2 variables whereas the saved optimizer has 6 variables. \n",
      "  saveable.load_own_variables(weights_store.get(inner_path))\n"
     ]
    },
    {
     "name": "stdout",
     "output_type": "stream",
     "text": [
      "/workspaces/QML-QPF/multiprocessing/output/20240731-075014/visuals/circuits/FASHIONMNISTFASHIONMNISTqcnot2-1-3-0.png\n",
      "/workspaces/QML-QPF/multiprocessing/output/20240731-075014/visuals/weights/FASHIONMNISTFASHIONMNISTqcnot2-1-3-0.gif\n"
     ]
    },
    {
     "name": "stderr",
     "output_type": "stream",
     "text": [
      "2024-07-31 08:01:02.292877: I external/local_tsl/tsl/profiler/lib/profiler_session.cc:104] Profiler session initializing.\n",
      "2024-07-31 08:01:02.292917: I external/local_tsl/tsl/profiler/lib/profiler_session.cc:119] Profiler session started.\n",
      "2024-07-31 08:01:02.305188: I external/local_tsl/tsl/profiler/lib/profiler_session.cc:131] Profiler session tear down.\n",
      "2024-07-31 08:01:02.305919: I external/local_xla/xla/backends/profiler/gpu/cupti_tracer.cc:1364] CUPTI activity buffer flushed\n"
     ]
    },
    {
     "name": "stdout",
     "output_type": "stream",
     "text": [
      "\u001b[1m313/313\u001b[0m \u001b[32m━━━━━━━━━━━━━━━━━━━━\u001b[0m\u001b[37m\u001b[0m \u001b[1m1s\u001b[0m 1ms/step\n"
     ]
    },
    {
     "name": "stderr",
     "output_type": "stream",
     "text": [
      "/opt/conda/envs/QML-QPF/lib/python3.10/site-packages/keras/src/saving/saving_lib.py:576: UserWarning: Skipping variable loading for optimizer 'adam', because it has 2 variables whereas the saved optimizer has 6 variables. \n",
      "  saveable.load_own_variables(weights_store.get(inner_path))\n"
     ]
    },
    {
     "name": "stdout",
     "output_type": "stream",
     "text": [
      "/workspaces/QML-QPF/multiprocessing/output/20240731-075014/visuals/circuits/FASHIONMNISTFASHIONMNISTqcnot0-3-1-2.png\n",
      "/workspaces/QML-QPF/multiprocessing/output/20240731-075014/visuals/weights/FASHIONMNISTFASHIONMNISTqcnot0-3-1-2.gif\n"
     ]
    },
    {
     "name": "stderr",
     "output_type": "stream",
     "text": [
      "2024-07-31 08:01:08.545588: I external/local_tsl/tsl/profiler/lib/profiler_session.cc:104] Profiler session initializing.\n",
      "2024-07-31 08:01:08.545625: I external/local_tsl/tsl/profiler/lib/profiler_session.cc:119] Profiler session started.\n",
      "2024-07-31 08:01:08.557865: I external/local_tsl/tsl/profiler/lib/profiler_session.cc:131] Profiler session tear down.\n",
      "2024-07-31 08:01:08.558428: I external/local_xla/xla/backends/profiler/gpu/cupti_tracer.cc:1364] CUPTI activity buffer flushed\n"
     ]
    },
    {
     "name": "stdout",
     "output_type": "stream",
     "text": [
      "\u001b[1m313/313\u001b[0m \u001b[32m━━━━━━━━━━━━━━━━━━━━\u001b[0m\u001b[37m\u001b[0m \u001b[1m1s\u001b[0m 1ms/step\n"
     ]
    },
    {
     "name": "stderr",
     "output_type": "stream",
     "text": [
      "/opt/conda/envs/QML-QPF/lib/python3.10/site-packages/keras/src/saving/saving_lib.py:576: UserWarning: Skipping variable loading for optimizer 'adam', because it has 2 variables whereas the saved optimizer has 6 variables. \n",
      "  saveable.load_own_variables(weights_store.get(inner_path))\n"
     ]
    },
    {
     "name": "stdout",
     "output_type": "stream",
     "text": [
      "/workspaces/QML-QPF/multiprocessing/output/20240731-075014/visuals/circuits/FASHIONMNISTFASHIONMNISTqcnot1-3-0-2.png\n",
      "/workspaces/QML-QPF/multiprocessing/output/20240731-075014/visuals/weights/FASHIONMNISTFASHIONMNISTqcnot1-3-0-2.gif\n"
     ]
    },
    {
     "name": "stderr",
     "output_type": "stream",
     "text": [
      "2024-07-31 08:01:11.195473: I external/local_tsl/tsl/profiler/lib/profiler_session.cc:104] Profiler session initializing.\n",
      "2024-07-31 08:01:11.195528: I external/local_tsl/tsl/profiler/lib/profiler_session.cc:119] Profiler session started.\n",
      "2024-07-31 08:01:11.209049: I external/local_tsl/tsl/profiler/lib/profiler_session.cc:131] Profiler session tear down.\n",
      "2024-07-31 08:01:11.209682: I external/local_xla/xla/backends/profiler/gpu/cupti_tracer.cc:1364] CUPTI activity buffer flushed\n"
     ]
    },
    {
     "name": "stdout",
     "output_type": "stream",
     "text": [
      "\u001b[1m313/313\u001b[0m \u001b[32m━━━━━━━━━━━━━━━━━━━━\u001b[0m\u001b[37m\u001b[0m \u001b[1m1s\u001b[0m 1ms/step\n"
     ]
    },
    {
     "name": "stderr",
     "output_type": "stream",
     "text": [
      "/opt/conda/envs/QML-QPF/lib/python3.10/site-packages/keras/src/saving/saving_lib.py:576: UserWarning: Skipping variable loading for optimizer 'adam', because it has 2 variables whereas the saved optimizer has 6 variables. \n",
      "  saveable.load_own_variables(weights_store.get(inner_path))\n"
     ]
    },
    {
     "name": "stdout",
     "output_type": "stream",
     "text": [
      "/workspaces/QML-QPF/multiprocessing/output/20240731-075014/visuals/circuits/FASHIONMNISTFASHIONMNISTqcnot0-3-2-1.png\n",
      "/workspaces/QML-QPF/multiprocessing/output/20240731-075014/visuals/weights/FASHIONMNISTFASHIONMNISTqcnot0-3-2-1.gif\n"
     ]
    },
    {
     "name": "stderr",
     "output_type": "stream",
     "text": [
      "2024-07-31 08:01:19.252070: I external/local_tsl/tsl/profiler/lib/profiler_session.cc:104] Profiler session initializing.\n",
      "2024-07-31 08:01:19.252127: I external/local_tsl/tsl/profiler/lib/profiler_session.cc:119] Profiler session started.\n",
      "2024-07-31 08:01:19.272526: I external/local_tsl/tsl/profiler/lib/profiler_session.cc:131] Profiler session tear down.\n",
      "2024-07-31 08:01:19.273352: I external/local_xla/xla/backends/profiler/gpu/cupti_tracer.cc:1364] CUPTI activity buffer flushed\n"
     ]
    },
    {
     "name": "stdout",
     "output_type": "stream",
     "text": [
      "\u001b[1m313/313\u001b[0m \u001b[32m━━━━━━━━━━━━━━━━━━━━\u001b[0m\u001b[37m\u001b[0m \u001b[1m1s\u001b[0m 2ms/step\n"
     ]
    },
    {
     "name": "stderr",
     "output_type": "stream",
     "text": [
      "/opt/conda/envs/QML-QPF/lib/python3.10/site-packages/keras/src/saving/saving_lib.py:576: UserWarning: Skipping variable loading for optimizer 'adam', because it has 2 variables whereas the saved optimizer has 6 variables. \n",
      "  saveable.load_own_variables(weights_store.get(inner_path))\n"
     ]
    },
    {
     "name": "stdout",
     "output_type": "stream",
     "text": [
      "/workspaces/QML-QPF/multiprocessing/output/20240731-075014/visuals/circuits/FASHIONMNISTFASHIONMNISTqcnot1-3-2-0.png\n",
      "/workspaces/QML-QPF/multiprocessing/output/20240731-075014/visuals/weights/FASHIONMNISTFASHIONMNISTqcnot1-3-2-0.gif\n",
      "/workspaces/QML-QPF/multiprocessing/output/20240731-075014/visuals/relative_weights/FASHIONMNISTFASHIONMNISTqcnot1-2-3-0.gif\n",
      "/workspaces/QML-QPF/multiprocessing/output/20240731-075014/visuals/relative_weights/FASHIONMNISTFASHIONMNISTqcnot0-2-3-1.gif\n",
      "/workspaces/QML-QPF/multiprocessing/output/20240731-075014/visuals/relative_weights/FASHIONMNISTFASHIONMNISTqcnot2-0-3-1.gif\n",
      "/workspaces/QML-QPF/multiprocessing/output/20240731-075014/visuals/relative_weights/FASHIONMNISTFASHIONMNISTqcnot2-1-3-0.gif\n",
      "/workspaces/QML-QPF/multiprocessing/output/20240731-075014/visuals/relative_weights/FASHIONMNISTFASHIONMNISTqcnot0-3-1-2.gif\n",
      "/workspaces/QML-QPF/multiprocessing/output/20240731-075014/visuals/relative_weights/FASHIONMNISTFASHIONMNISTqcnot1-3-0-2.gif\n",
      "/workspaces/QML-QPF/multiprocessing/output/20240731-075014/visuals/relative_weights/FASHIONMNISTFASHIONMNISTqcnot0-3-2-1.gif\n",
      "/workspaces/QML-QPF/multiprocessing/output/20240731-075014/visuals/relative_weights/FASHIONMNISTFASHIONMNISTqcnot1-3-2-0.gif\n",
      "/workspaces/QML-QPF/multiprocessing/output/20240731-075014/visuals/bias/FASHIONMNISTFASHIONMNISTqcnot0-2-3-1.gif\n",
      "/workspaces/QML-QPF/multiprocessing/output/20240731-075014/visuals/bias/FASHIONMNISTFASHIONMNISTqcnot1-2-3-0.gif\n",
      "/workspaces/QML-QPF/multiprocessing/output/20240731-075014/visuals/bias/FASHIONMNISTFASHIONMNISTqcnot2-0-3-1.gif\n",
      "/workspaces/QML-QPF/multiprocessing/output/20240731-075014/visuals/bias/FASHIONMNISTFASHIONMNISTqcnot0-3-1-2.gif\n",
      "/workspaces/QML-QPF/multiprocessing/output/20240731-075014/visuals/bias/FASHIONMNISTFASHIONMNISTqcnot2-1-3-0.gif\n",
      "/workspaces/QML-QPF/multiprocessing/output/20240731-075014/visuals/bias/FASHIONMNISTFASHIONMNISTqcnot1-3-0-2.gif\n",
      "/workspaces/QML-QPF/multiprocessing/output/20240731-075014/visuals/bias/FASHIONMNISTFASHIONMNISTqcnot0-3-2-1.gif\n",
      "/workspaces/QML-QPF/multiprocessing/output/20240731-075014/visuals/bias/FASHIONMNISTFASHIONMNISTqcnot1-3-2-0.gif\n",
      "/workspaces/QML-QPF/multiprocessing/output/20240731-075014/visuals/relative_bias/FASHIONMNISTFASHIONMNISTqcnot1-2-3-0.gif\n",
      "/workspaces/QML-QPF/multiprocessing/output/20240731-075014/visuals/relative_bias/FASHIONMNISTFASHIONMNISTqcnot0-2-3-1.gif\n",
      "/workspaces/QML-QPF/multiprocessing/output/20240731-075014/visuals/relative_bias/FASHIONMNISTFASHIONMNISTqcnot2-0-3-1.gif\n",
      "/workspaces/QML-QPF/multiprocessing/output/20240731-075014/visuals/relative_bias/FASHIONMNISTFASHIONMNISTqcnot0-3-1-2.gif\n",
      "/workspaces/QML-QPF/multiprocessing/output/20240731-075014/visuals/relative_bias/FASHIONMNISTFASHIONMNISTqcnot2-1-3-0.gif\n",
      "/workspaces/QML-QPF/multiprocessing/output/20240731-075014/visuals/relative_bias/FASHIONMNISTFASHIONMNISTqcnot0-3-2-1.gif\n",
      "/workspaces/QML-QPF/multiprocessing/output/20240731-075014/visuals/relative_bias/FASHIONMNISTFASHIONMNISTqcnot1-3-0-2.gif\n",
      "/workspaces/QML-QPF/multiprocessing/output/20240731-075014/visuals/individual_samples/FASHIONMNISTFASHIONMNISTqcnot1-2-3-0.png\n",
      "/workspaces/QML-QPF/multiprocessing/output/20240731-075014/visuals/relative_samples/FASHIONMNISTFASHIONMNISTqcnot1-2-3-0.png\n",
      "/workspaces/QML-QPF/multiprocessing/output/20240731-075014/visuals/relative_bias/FASHIONMNISTFASHIONMNISTqcnot1-3-2-0.gif\n",
      "/workspaces/QML-QPF/multiprocessing/output/20240731-075014/visuals/filter/FASHIONMNISTFASHIONMNISTqcnot1-2-3-0.gif\n",
      "/workspaces/QML-QPF/multiprocessing/output/20240731-075014/visuals/individual_samples/FASHIONMNISTFASHIONMNISTqcnot0-2-3-1.png\n",
      "/workspaces/QML-QPF/multiprocessing/output/20240731-075014/visuals/relative_samples/FASHIONMNISTFASHIONMNISTqcnot0-2-3-1.png\n",
      "/workspaces/QML-QPF/multiprocessing/output/20240731-075014/visuals/individual_samples/FASHIONMNISTFASHIONMNISTqcnot2-0-3-1.png\n",
      "/workspaces/QML-QPF/multiprocessing/output/20240731-075014/visuals/filter/FASHIONMNISTFASHIONMNISTqcnot0-2-3-1.gif\n",
      "/workspaces/QML-QPF/multiprocessing/output/20240731-075014/visuals/relative_samples/FASHIONMNISTFASHIONMNISTqcnot2-0-3-1.png\n",
      "/workspaces/QML-QPF/multiprocessing/output/20240731-075014/visuals/filter/FASHIONMNISTFASHIONMNISTqcnot2-0-3-1.gif\n",
      "/workspaces/QML-QPF/multiprocessing/output/20240731-075014/visuals/individual_samples/FASHIONMNISTFASHIONMNISTqcnot0-3-1-2.png\n",
      "/workspaces/QML-QPF/multiprocessing/output/20240731-075014/visuals/relative_samples/FASHIONMNISTFASHIONMNISTqcnot0-3-1-2.png\n",
      "/workspaces/QML-QPF/multiprocessing/output/20240731-075014/visuals/filter/FASHIONMNISTFASHIONMNISTqcnot0-3-1-2.gif\n",
      "/workspaces/QML-QPF/multiprocessing/output/20240731-075014/visuals/individual_samples/FASHIONMNISTFASHIONMNISTqcnot2-1-3-0.png\n",
      "/workspaces/QML-QPF/multiprocessing/output/20240731-075014/visuals/individual_samples/FASHIONMNISTFASHIONMNISTqcnot1-3-0-2.png\n",
      "/workspaces/QML-QPF/multiprocessing/output/20240731-075014/visuals/relative_samples/FASHIONMNISTFASHIONMNISTqcnot1-3-0-2.png\n",
      "/workspaces/QML-QPF/multiprocessing/output/20240731-075014/visuals/relative_samples/FASHIONMNISTFASHIONMNISTqcnot2-1-3-0.png\n",
      "/workspaces/QML-QPF/multiprocessing/output/20240731-075014/visuals/filter/FASHIONMNISTFASHIONMNISTqcnot2-1-3-0.gif\n",
      "/workspaces/QML-QPF/multiprocessing/output/20240731-075014/visuals/filter/FASHIONMNISTFASHIONMNISTqcnot1-3-0-2.gif\n",
      "/workspaces/QML-QPF/multiprocessing/output/20240731-075014/visuals/individual_samples/FASHIONMNISTFASHIONMNISTqcnot0-3-2-1.png\n",
      "/workspaces/QML-QPF/multiprocessing/output/20240731-075014/visuals/relative_samples/FASHIONMNISTFASHIONMNISTqcnot0-3-2-1.png\n",
      "/workspaces/QML-QPF/multiprocessing/output/20240731-075014/visuals/filter/FASHIONMNISTFASHIONMNISTqcnot0-3-2-1.gif\n",
      "/workspaces/QML-QPF/multiprocessing/output/20240731-075014/visuals/individual_samples/FASHIONMNISTFASHIONMNISTqcnot1-3-2-0.png\n",
      "/workspaces/QML-QPF/multiprocessing/output/20240731-075014/visuals/relative_samples/FASHIONMNISTFASHIONMNISTqcnot1-3-2-0.png\n",
      "/workspaces/QML-QPF/multiprocessing/output/20240731-075014/visuals/filter/FASHIONMNISTFASHIONMNISTqcnot1-3-2-0.gif\n"
     ]
    },
    {
     "name": "stderr",
     "output_type": "stream",
     "text": [
      "2024-07-31 08:05:12.242411: I external/local_tsl/tsl/profiler/lib/profiler_session.cc:104] Profiler session initializing.\n",
      "2024-07-31 08:05:12.242469: I external/local_tsl/tsl/profiler/lib/profiler_session.cc:119] Profiler session started.\n",
      "2024-07-31 08:05:12.251315: I external/local_tsl/tsl/profiler/lib/profiler_session.cc:131] Profiler session tear down.\n",
      "2024-07-31 08:05:12.252063: I external/local_xla/xla/backends/profiler/gpu/cupti_tracer.cc:1364] CUPTI activity buffer flushed\n"
     ]
    },
    {
     "name": "stdout",
     "output_type": "stream",
     "text": [
      "\u001b[1m313/313\u001b[0m \u001b[32m━━━━━━━━━━━━━━━━━━━━\u001b[0m\u001b[37m\u001b[0m \u001b[1m1s\u001b[0m 2ms/step\n"
     ]
    },
    {
     "name": "stderr",
     "output_type": "stream",
     "text": [
      "/opt/conda/envs/QML-QPF/lib/python3.10/site-packages/keras/src/saving/saving_lib.py:576: UserWarning: Skipping variable loading for optimizer 'adam', because it has 2 variables whereas the saved optimizer has 6 variables. \n",
      "  saveable.load_own_variables(weights_store.get(inner_path))\n"
     ]
    },
    {
     "name": "stdout",
     "output_type": "stream",
     "text": [
      "/workspaces/QML-QPF/multiprocessing/output/20240731-075014/visuals/circuits/FASHIONMNISTFASHIONMNISTqcnot2-3-0-1.png\n",
      "/workspaces/QML-QPF/multiprocessing/output/20240731-075014/visuals/weights/FASHIONMNISTFASHIONMNISTqcnot2-3-0-1.gif\n"
     ]
    },
    {
     "name": "stderr",
     "output_type": "stream",
     "text": [
      "2024-07-31 08:05:23.005898: I external/local_tsl/tsl/profiler/lib/profiler_session.cc:104] Profiler session initializing.\n",
      "2024-07-31 08:05:23.005953: I external/local_tsl/tsl/profiler/lib/profiler_session.cc:119] Profiler session started.\n",
      "2024-07-31 08:05:23.018198: I external/local_tsl/tsl/profiler/lib/profiler_session.cc:131] Profiler session tear down.\n",
      "2024-07-31 08:05:23.019518: I external/local_xla/xla/backends/profiler/gpu/cupti_tracer.cc:1364] CUPTI activity buffer flushed\n"
     ]
    },
    {
     "name": "stdout",
     "output_type": "stream",
     "text": [
      "\u001b[1m313/313\u001b[0m \u001b[32m━━━━━━━━━━━━━━━━━━━━\u001b[0m\u001b[37m\u001b[0m \u001b[1m1s\u001b[0m 1ms/step\n"
     ]
    },
    {
     "name": "stderr",
     "output_type": "stream",
     "text": [
      "/opt/conda/envs/QML-QPF/lib/python3.10/site-packages/keras/src/saving/saving_lib.py:576: UserWarning: Skipping variable loading for optimizer 'adam', because it has 2 variables whereas the saved optimizer has 6 variables. \n",
      "  saveable.load_own_variables(weights_store.get(inner_path))\n"
     ]
    },
    {
     "name": "stdout",
     "output_type": "stream",
     "text": [
      "/workspaces/QML-QPF/multiprocessing/output/20240731-075014/visuals/circuits/FASHIONMNISTFASHIONMNISTqcnot2-3-1-0.png\n",
      "/workspaces/QML-QPF/multiprocessing/output/20240731-075014/visuals/weights/FASHIONMNISTFASHIONMNISTqcnot2-3-1-0.gif\n"
     ]
    },
    {
     "name": "stderr",
     "output_type": "stream",
     "text": [
      "2024-07-31 08:05:28.270961: I external/local_tsl/tsl/profiler/lib/profiler_session.cc:104] Profiler session initializing.\n",
      "2024-07-31 08:05:28.271005: I external/local_tsl/tsl/profiler/lib/profiler_session.cc:119] Profiler session started.\n",
      "2024-07-31 08:05:28.287400: I external/local_tsl/tsl/profiler/lib/profiler_session.cc:131] Profiler session tear down.\n",
      "2024-07-31 08:05:28.288528: I external/local_xla/xla/backends/profiler/gpu/cupti_tracer.cc:1364] CUPTI activity buffer flushed\n"
     ]
    },
    {
     "name": "stdout",
     "output_type": "stream",
     "text": [
      "\u001b[1m313/313\u001b[0m \u001b[32m━━━━━━━━━━━━━━━━━━━━\u001b[0m\u001b[37m\u001b[0m \u001b[1m1s\u001b[0m 2ms/step\n"
     ]
    },
    {
     "name": "stderr",
     "output_type": "stream",
     "text": [
      "/opt/conda/envs/QML-QPF/lib/python3.10/site-packages/keras/src/saving/saving_lib.py:576: UserWarning: Skipping variable loading for optimizer 'adam', because it has 2 variables whereas the saved optimizer has 6 variables. \n",
      "  saveable.load_own_variables(weights_store.get(inner_path))\n"
     ]
    },
    {
     "name": "stdout",
     "output_type": "stream",
     "text": [
      "/workspaces/QML-QPF/multiprocessing/output/20240731-075014/visuals/circuits/FASHIONMNISTFASHIONMNISTqcnot3-0-1-2.png\n",
      "/workspaces/QML-QPF/multiprocessing/output/20240731-075014/visuals/weights/FASHIONMNISTFASHIONMNISTqcnot3-0-1-2.gif\n"
     ]
    },
    {
     "name": "stderr",
     "output_type": "stream",
     "text": [
      "2024-07-31 08:05:37.999992: I external/local_tsl/tsl/profiler/lib/profiler_session.cc:104] Profiler session initializing.\n",
      "2024-07-31 08:05:38.000037: I external/local_tsl/tsl/profiler/lib/profiler_session.cc:119] Profiler session started.\n",
      "2024-07-31 08:05:38.017745: I external/local_tsl/tsl/profiler/lib/profiler_session.cc:131] Profiler session tear down.\n",
      "2024-07-31 08:05:38.018815: I external/local_xla/xla/backends/profiler/gpu/cupti_tracer.cc:1364] CUPTI activity buffer flushed\n"
     ]
    },
    {
     "name": "stdout",
     "output_type": "stream",
     "text": [
      "\u001b[1m313/313\u001b[0m \u001b[32m━━━━━━━━━━━━━━━━━━━━\u001b[0m\u001b[37m\u001b[0m \u001b[1m1s\u001b[0m 2ms/step\n"
     ]
    },
    {
     "name": "stderr",
     "output_type": "stream",
     "text": [
      "/opt/conda/envs/QML-QPF/lib/python3.10/site-packages/keras/src/saving/saving_lib.py:576: UserWarning: Skipping variable loading for optimizer 'adam', because it has 2 variables whereas the saved optimizer has 6 variables. \n",
      "  saveable.load_own_variables(weights_store.get(inner_path))\n"
     ]
    },
    {
     "name": "stdout",
     "output_type": "stream",
     "text": [
      "/workspaces/QML-QPF/multiprocessing/output/20240731-075014/visuals/circuits/FASHIONMNISTFASHIONMNISTqcnot3-1-0-2.png\n",
      "/workspaces/QML-QPF/multiprocessing/output/20240731-075014/visuals/weights/FASHIONMNISTFASHIONMNISTqcnot3-1-0-2.gif\n"
     ]
    },
    {
     "name": "stderr",
     "output_type": "stream",
     "text": [
      "2024-07-31 08:05:43.913572: I external/local_tsl/tsl/profiler/lib/profiler_session.cc:104] Profiler session initializing.\n",
      "2024-07-31 08:05:43.913655: I external/local_tsl/tsl/profiler/lib/profiler_session.cc:119] Profiler session started.\n",
      "2024-07-31 08:05:43.933473: I external/local_tsl/tsl/profiler/lib/profiler_session.cc:131] Profiler session tear down.\n",
      "2024-07-31 08:05:43.934734: I external/local_xla/xla/backends/profiler/gpu/cupti_tracer.cc:1364] CUPTI activity buffer flushed\n"
     ]
    },
    {
     "name": "stdout",
     "output_type": "stream",
     "text": [
      "\u001b[1m313/313\u001b[0m \u001b[32m━━━━━━━━━━━━━━━━━━━━\u001b[0m\u001b[37m\u001b[0m \u001b[1m1s\u001b[0m 1ms/step\n"
     ]
    },
    {
     "name": "stderr",
     "output_type": "stream",
     "text": [
      "/opt/conda/envs/QML-QPF/lib/python3.10/site-packages/keras/src/saving/saving_lib.py:576: UserWarning: Skipping variable loading for optimizer 'adam', because it has 2 variables whereas the saved optimizer has 6 variables. \n",
      "  saveable.load_own_variables(weights_store.get(inner_path))\n"
     ]
    },
    {
     "name": "stdout",
     "output_type": "stream",
     "text": [
      "/workspaces/QML-QPF/multiprocessing/output/20240731-075014/visuals/circuits/FASHIONMNISTFASHIONMNISTqcnot3-0-2-1.png\n",
      "/workspaces/QML-QPF/multiprocessing/output/20240731-075014/visuals/weights/FASHIONMNISTFASHIONMNISTqcnot3-0-2-1.gif\n"
     ]
    },
    {
     "name": "stderr",
     "output_type": "stream",
     "text": [
      "2024-07-31 08:05:51.369300: I external/local_tsl/tsl/profiler/lib/profiler_session.cc:104] Profiler session initializing.\n",
      "2024-07-31 08:05:51.369373: I external/local_tsl/tsl/profiler/lib/profiler_session.cc:119] Profiler session started.\n",
      "2024-07-31 08:05:51.385178: I external/local_tsl/tsl/profiler/lib/profiler_session.cc:131] Profiler session tear down.\n",
      "2024-07-31 08:05:51.386435: I external/local_xla/xla/backends/profiler/gpu/cupti_tracer.cc:1364] CUPTI activity buffer flushed\n"
     ]
    },
    {
     "name": "stdout",
     "output_type": "stream",
     "text": [
      "\u001b[1m313/313\u001b[0m \u001b[32m━━━━━━━━━━━━━━━━━━━━\u001b[0m\u001b[37m\u001b[0m \u001b[1m1s\u001b[0m 2ms/step\n"
     ]
    },
    {
     "name": "stderr",
     "output_type": "stream",
     "text": [
      "/opt/conda/envs/QML-QPF/lib/python3.10/site-packages/keras/src/saving/saving_lib.py:576: UserWarning: Skipping variable loading for optimizer 'adam', because it has 2 variables whereas the saved optimizer has 6 variables. \n",
      "  saveable.load_own_variables(weights_store.get(inner_path))\n"
     ]
    },
    {
     "name": "stdout",
     "output_type": "stream",
     "text": [
      "/workspaces/QML-QPF/multiprocessing/output/20240731-075014/visuals/circuits/FASHIONMNISTFASHIONMNISTqcnot3-1-2-0.png\n",
      "/workspaces/QML-QPF/multiprocessing/output/20240731-075014/visuals/weights/FASHIONMNISTFASHIONMNISTqcnot3-1-2-0.gif\n"
     ]
    },
    {
     "name": "stderr",
     "output_type": "stream",
     "text": [
      "2024-07-31 08:05:56.916570: I external/local_tsl/tsl/profiler/lib/profiler_session.cc:104] Profiler session initializing.\n",
      "2024-07-31 08:05:56.916617: I external/local_tsl/tsl/profiler/lib/profiler_session.cc:119] Profiler session started.\n",
      "2024-07-31 08:05:56.933913: I external/local_tsl/tsl/profiler/lib/profiler_session.cc:131] Profiler session tear down.\n",
      "2024-07-31 08:05:56.934838: I external/local_xla/xla/backends/profiler/gpu/cupti_tracer.cc:1364] CUPTI activity buffer flushed\n"
     ]
    },
    {
     "name": "stdout",
     "output_type": "stream",
     "text": [
      "\u001b[1m313/313\u001b[0m \u001b[32m━━━━━━━━━━━━━━━━━━━━\u001b[0m\u001b[37m\u001b[0m \u001b[1m1s\u001b[0m 2ms/step\n"
     ]
    },
    {
     "name": "stderr",
     "output_type": "stream",
     "text": [
      "/opt/conda/envs/QML-QPF/lib/python3.10/site-packages/keras/src/saving/saving_lib.py:576: UserWarning: Skipping variable loading for optimizer 'adam', because it has 2 variables whereas the saved optimizer has 6 variables. \n",
      "  saveable.load_own_variables(weights_store.get(inner_path))\n"
     ]
    },
    {
     "name": "stdout",
     "output_type": "stream",
     "text": [
      "/workspaces/QML-QPF/multiprocessing/output/20240731-075014/visuals/circuits/FASHIONMNISTFASHIONMNISTqcnot3-2-0-1.png\n",
      "/workspaces/QML-QPF/multiprocessing/output/20240731-075014/visuals/weights/FASHIONMNISTFASHIONMNISTqcnot3-2-0-1.gif\n"
     ]
    },
    {
     "name": "stderr",
     "output_type": "stream",
     "text": [
      "2024-07-31 08:06:13.150389: I external/local_tsl/tsl/profiler/lib/profiler_session.cc:104] Profiler session initializing.\n",
      "2024-07-31 08:06:13.150453: I external/local_tsl/tsl/profiler/lib/profiler_session.cc:119] Profiler session started.\n",
      "2024-07-31 08:06:13.166742: I external/local_tsl/tsl/profiler/lib/profiler_session.cc:131] Profiler session tear down.\n",
      "2024-07-31 08:06:13.168152: I external/local_xla/xla/backends/profiler/gpu/cupti_tracer.cc:1364] CUPTI activity buffer flushed\n"
     ]
    },
    {
     "name": "stdout",
     "output_type": "stream",
     "text": [
      "\u001b[1m164/313\u001b[0m \u001b[32m━━━━━━━━━━\u001b[0m\u001b[37m━━━━━━━━━━\u001b[0m \u001b[1m0s\u001b[0m 1ms/step/workspaces/QML-QPF/multiprocessing/output/20240731-075014/visuals/relative_weights/FASHIONMNISTFASHIONMNISTqcnot2-3-0-1.gif\n",
      "\u001b[1m313/313\u001b[0m \u001b[32m━━━━━━━━━━━━━━━━━━━━\u001b[0m\u001b[37m\u001b[0m \u001b[1m1s\u001b[0m 2ms/step\n"
     ]
    },
    {
     "name": "stderr",
     "output_type": "stream",
     "text": [
      "/opt/conda/envs/QML-QPF/lib/python3.10/site-packages/keras/src/saving/saving_lib.py:576: UserWarning: Skipping variable loading for optimizer 'adam', because it has 2 variables whereas the saved optimizer has 6 variables. \n",
      "  saveable.load_own_variables(weights_store.get(inner_path))\n"
     ]
    },
    {
     "name": "stdout",
     "output_type": "stream",
     "text": [
      "/workspaces/QML-QPF/multiprocessing/output/20240731-075014/visuals/circuits/FASHIONMNISTFASHIONMNISTqcnot3-2-1-0.png\n",
      "/workspaces/QML-QPF/multiprocessing/output/20240731-075014/visuals/weights/FASHIONMNISTFASHIONMNISTqcnot3-2-1-0.gif\n",
      "/workspaces/QML-QPF/multiprocessing/output/20240731-075014/visuals/relative_weights/FASHIONMNISTFASHIONMNISTqcnot2-3-1-0.gif\n",
      "/workspaces/QML-QPF/multiprocessing/output/20240731-075014/visuals/relative_weights/FASHIONMNISTFASHIONMNISTqcnot3-0-1-2.gif\n",
      "/workspaces/QML-QPF/multiprocessing/output/20240731-075014/visuals/relative_weights/FASHIONMNISTFASHIONMNISTqcnot3-1-0-2.gif\n",
      "/workspaces/QML-QPF/multiprocessing/output/20240731-075014/visuals/relative_weights/FASHIONMNISTFASHIONMNISTqcnot3-0-2-1.gif\n",
      "/workspaces/QML-QPF/multiprocessing/output/20240731-075014/visuals/relative_weights/FASHIONMNISTFASHIONMNISTqcnot3-1-2-0.gif\n",
      "/workspaces/QML-QPF/multiprocessing/output/20240731-075014/visuals/relative_weights/FASHIONMNISTFASHIONMNISTqcnot3-2-0-1.gif\n",
      "/workspaces/QML-QPF/multiprocessing/output/20240731-075014/visuals/bias/FASHIONMNISTFASHIONMNISTqcnot2-3-0-1.gif\n",
      "/workspaces/QML-QPF/multiprocessing/output/20240731-075014/visuals/bias/FASHIONMNISTFASHIONMNISTqcnot2-3-1-0.gif\n",
      "/workspaces/QML-QPF/multiprocessing/output/20240731-075014/visuals/bias/FASHIONMNISTFASHIONMNISTqcnot3-0-1-2.gif\n",
      "/workspaces/QML-QPF/multiprocessing/output/20240731-075014/visuals/relative_weights/FASHIONMNISTFASHIONMNISTqcnot3-2-1-0.gif\n",
      "/workspaces/QML-QPF/multiprocessing/output/20240731-075014/visuals/bias/FASHIONMNISTFASHIONMNISTqcnot3-1-0-2.gif\n",
      "/workspaces/QML-QPF/multiprocessing/output/20240731-075014/visuals/bias/FASHIONMNISTFASHIONMNISTqcnot3-0-2-1.gif\n",
      "/workspaces/QML-QPF/multiprocessing/output/20240731-075014/visuals/bias/FASHIONMNISTFASHIONMNISTqcnot3-1-2-0.gif\n",
      "/workspaces/QML-QPF/multiprocessing/output/20240731-075014/visuals/bias/FASHIONMNISTFASHIONMNISTqcnot3-2-0-1.gif\n"
     ]
    },
    {
     "name": "stderr",
     "output_type": "stream",
     "text": [
      "/workspaces/QML-QPF/multiprocessing/visuals.py:74: RuntimeWarning: More than 20 figures have been opened. Figures created through the pyplot interface (`matplotlib.pyplot.figure`) are retained until explicitly closed and may consume too much memory. (To control this warning, see the rcParam `figure.max_open_warning`). Consider using `matplotlib.pyplot.close()`.\n",
      "  figure, ax = plt.subplots(nrows=1, ncols=1, figsize=(12, 12))\n"
     ]
    },
    {
     "name": "stdout",
     "output_type": "stream",
     "text": [
      "/workspaces/QML-QPF/multiprocessing/output/20240731-075014/visuals/relative_bias/FASHIONMNISTFASHIONMNISTqcnot2-3-0-1.gif\n",
      "/workspaces/QML-QPF/multiprocessing/output/20240731-075014/visuals/bias/FASHIONMNISTFASHIONMNISTqcnot3-2-1-0.gif\n"
     ]
    },
    {
     "name": "stderr",
     "output_type": "stream",
     "text": [
      "/workspaces/QML-QPF/multiprocessing/visuals.py:74: RuntimeWarning: More than 20 figures have been opened. Figures created through the pyplot interface (`matplotlib.pyplot.figure`) are retained until explicitly closed and may consume too much memory. (To control this warning, see the rcParam `figure.max_open_warning`). Consider using `matplotlib.pyplot.close()`.\n",
      "  figure, ax = plt.subplots(nrows=1, ncols=1, figsize=(12, 12))\n"
     ]
    },
    {
     "name": "stdout",
     "output_type": "stream",
     "text": [
      "/workspaces/QML-QPF/multiprocessing/output/20240731-075014/visuals/relative_bias/FASHIONMNISTFASHIONMNISTqcnot2-3-1-0.gif\n"
     ]
    },
    {
     "name": "stderr",
     "output_type": "stream",
     "text": [
      "/workspaces/QML-QPF/multiprocessing/visuals.py:74: RuntimeWarning: More than 20 figures have been opened. Figures created through the pyplot interface (`matplotlib.pyplot.figure`) are retained until explicitly closed and may consume too much memory. (To control this warning, see the rcParam `figure.max_open_warning`). Consider using `matplotlib.pyplot.close()`.\n",
      "  figure, ax = plt.subplots(nrows=1, ncols=1, figsize=(12, 12))\n"
     ]
    },
    {
     "name": "stdout",
     "output_type": "stream",
     "text": [
      "/workspaces/QML-QPF/multiprocessing/output/20240731-075014/visuals/relative_bias/FASHIONMNISTFASHIONMNISTqcnot3-0-1-2.gif\n"
     ]
    },
    {
     "name": "stderr",
     "output_type": "stream",
     "text": [
      "/workspaces/QML-QPF/multiprocessing/visuals.py:74: RuntimeWarning: More than 20 figures have been opened. Figures created through the pyplot interface (`matplotlib.pyplot.figure`) are retained until explicitly closed and may consume too much memory. (To control this warning, see the rcParam `figure.max_open_warning`). Consider using `matplotlib.pyplot.close()`.\n",
      "  figure, ax = plt.subplots(nrows=1, ncols=1, figsize=(12, 12))\n"
     ]
    },
    {
     "name": "stdout",
     "output_type": "stream",
     "text": [
      "/workspaces/QML-QPF/multiprocessing/output/20240731-075014/visuals/relative_bias/FASHIONMNISTFASHIONMNISTqcnot3-1-0-2.gif\n"
     ]
    },
    {
     "name": "stderr",
     "output_type": "stream",
     "text": [
      "/workspaces/QML-QPF/multiprocessing/visuals.py:74: RuntimeWarning: More than 20 figures have been opened. Figures created through the pyplot interface (`matplotlib.pyplot.figure`) are retained until explicitly closed and may consume too much memory. (To control this warning, see the rcParam `figure.max_open_warning`). Consider using `matplotlib.pyplot.close()`.\n",
      "  figure, ax = plt.subplots(nrows=1, ncols=1, figsize=(12, 12))\n"
     ]
    },
    {
     "name": "stdout",
     "output_type": "stream",
     "text": [
      "/workspaces/QML-QPF/multiprocessing/output/20240731-075014/visuals/relative_bias/FASHIONMNISTFASHIONMNISTqcnot3-0-2-1.gif\n"
     ]
    },
    {
     "name": "stderr",
     "output_type": "stream",
     "text": [
      "/workspaces/QML-QPF/multiprocessing/visuals.py:74: RuntimeWarning: More than 20 figures have been opened. Figures created through the pyplot interface (`matplotlib.pyplot.figure`) are retained until explicitly closed and may consume too much memory. (To control this warning, see the rcParam `figure.max_open_warning`). Consider using `matplotlib.pyplot.close()`.\n",
      "  figure, ax = plt.subplots(nrows=1, ncols=1, figsize=(12, 12))\n"
     ]
    },
    {
     "name": "stdout",
     "output_type": "stream",
     "text": [
      "/workspaces/QML-QPF/multiprocessing/output/20240731-075014/visuals/relative_bias/FASHIONMNISTFASHIONMNISTqcnot3-1-2-0.gif\n",
      "/workspaces/QML-QPF/multiprocessing/output/20240731-075014/visuals/individual_samples/FASHIONMNISTFASHIONMNISTqcnot2-3-0-1.png\n",
      "/workspaces/QML-QPF/multiprocessing/output/20240731-075014/visuals/relative_samples/FASHIONMNISTFASHIONMNISTqcnot2-3-0-1.png\n"
     ]
    },
    {
     "name": "stderr",
     "output_type": "stream",
     "text": [
      "/workspaces/QML-QPF/multiprocessing/visuals.py:74: RuntimeWarning: More than 20 figures have been opened. Figures created through the pyplot interface (`matplotlib.pyplot.figure`) are retained until explicitly closed and may consume too much memory. (To control this warning, see the rcParam `figure.max_open_warning`). Consider using `matplotlib.pyplot.close()`.\n",
      "  figure, ax = plt.subplots(nrows=1, ncols=1, figsize=(12, 12))\n"
     ]
    },
    {
     "name": "stdout",
     "output_type": "stream",
     "text": [
      "/workspaces/QML-QPF/multiprocessing/output/20240731-075014/visuals/relative_bias/FASHIONMNISTFASHIONMNISTqcnot3-2-0-1.gif\n",
      "/workspaces/QML-QPF/multiprocessing/output/20240731-075014/visuals/filter/FASHIONMNISTFASHIONMNISTqcnot2-3-0-1.gif\n"
     ]
    },
    {
     "name": "stderr",
     "output_type": "stream",
     "text": [
      "/workspaces/QML-QPF/multiprocessing/visuals.py:74: RuntimeWarning: More than 20 figures have been opened. Figures created through the pyplot interface (`matplotlib.pyplot.figure`) are retained until explicitly closed and may consume too much memory. (To control this warning, see the rcParam `figure.max_open_warning`). Consider using `matplotlib.pyplot.close()`.\n",
      "  figure, ax = plt.subplots(nrows=1, ncols=1, figsize=(12, 12))\n"
     ]
    },
    {
     "name": "stdout",
     "output_type": "stream",
     "text": [
      "/workspaces/QML-QPF/multiprocessing/output/20240731-075014/visuals/relative_bias/FASHIONMNISTFASHIONMNISTqcnot3-2-1-0.gif\n",
      "/workspaces/QML-QPF/multiprocessing/output/20240731-075014/visuals/individual_samples/FASHIONMNISTFASHIONMNISTqcnot2-3-1-0.png\n",
      "/workspaces/QML-QPF/multiprocessing/output/20240731-075014/visuals/relative_samples/FASHIONMNISTFASHIONMNISTqcnot2-3-1-0.png\n",
      "/workspaces/QML-QPF/multiprocessing/output/20240731-075014/visuals/filter/FASHIONMNISTFASHIONMNISTqcnot2-3-1-0.gif\n",
      "/workspaces/QML-QPF/multiprocessing/output/20240731-075014/visuals/individual_samples/FASHIONMNISTFASHIONMNISTqcnot3-0-1-2.png\n",
      "/workspaces/QML-QPF/multiprocessing/output/20240731-075014/visuals/individual_samples/FASHIONMNISTFASHIONMNISTqcnot3-1-0-2.png\n",
      "/workspaces/QML-QPF/multiprocessing/output/20240731-075014/visuals/relative_samples/FASHIONMNISTFASHIONMNISTqcnot3-1-0-2.png\n",
      "/workspaces/QML-QPF/multiprocessing/output/20240731-075014/visuals/relative_samples/FASHIONMNISTFASHIONMNISTqcnot3-0-1-2.png\n",
      "/workspaces/QML-QPF/multiprocessing/output/20240731-075014/visuals/filter/FASHIONMNISTFASHIONMNISTqcnot3-1-0-2.gif\n",
      "/workspaces/QML-QPF/multiprocessing/output/20240731-075014/visuals/filter/FASHIONMNISTFASHIONMNISTqcnot3-0-1-2.gif\n",
      "/workspaces/QML-QPF/multiprocessing/output/20240731-075014/visuals/individual_samples/FASHIONMNISTFASHIONMNISTqcnot3-0-2-1.png\n",
      "/workspaces/QML-QPF/multiprocessing/output/20240731-075014/visuals/relative_samples/FASHIONMNISTFASHIONMNISTqcnot3-0-2-1.png\n",
      "/workspaces/QML-QPF/multiprocessing/output/20240731-075014/visuals/filter/FASHIONMNISTFASHIONMNISTqcnot3-0-2-1.gif\n",
      "/workspaces/QML-QPF/multiprocessing/output/20240731-075014/visuals/individual_samples/FASHIONMNISTFASHIONMNISTqcnot3-1-2-0.png\n",
      "/workspaces/QML-QPF/multiprocessing/output/20240731-075014/visuals/relative_samples/FASHIONMNISTFASHIONMNISTqcnot3-1-2-0.png\n",
      "/workspaces/QML-QPF/multiprocessing/output/20240731-075014/visuals/filter/FASHIONMNISTFASHIONMNISTqcnot3-1-2-0.gif\n",
      "/workspaces/QML-QPF/multiprocessing/output/20240731-075014/visuals/individual_samples/FASHIONMNISTFASHIONMNISTqcnot3-2-0-1.png\n",
      "/workspaces/QML-QPF/multiprocessing/output/20240731-075014/visuals/relative_samples/FASHIONMNISTFASHIONMNISTqcnot3-2-0-1.png\n",
      "/workspaces/QML-QPF/multiprocessing/output/20240731-075014/visuals/filter/FASHIONMNISTFASHIONMNISTqcnot3-2-0-1.gif\n",
      "/workspaces/QML-QPF/multiprocessing/output/20240731-075014/visuals/individual_samples/FASHIONMNISTFASHIONMNISTqcnot3-2-1-0.png\n",
      "/workspaces/QML-QPF/multiprocessing/output/20240731-075014/visuals/relative_samples/FASHIONMNISTFASHIONMNISTqcnot3-2-1-0.png\n",
      "/workspaces/QML-QPF/multiprocessing/output/20240731-075014/visuals/filter/FASHIONMNISTFASHIONMNISTqcnot3-2-1-0.gif\n"
     ]
    }
   ],
   "source": [
    "\n",
    "def pool_job2(detail):\n",
    "    restored_model = Model(*detail)\n",
    "    restored_model.set_data()\n",
    "    #restored_model.prep()\n",
    "    restored_model.prep_variant(detail[-1])\n",
    "    restored_model.load_history()\n",
    "    restored_model.visuals.circuit()\n",
    "    restored_model.visuals.weights()\n",
    "    restored_model.visuals.relative_weights()\n",
    "    restored_model.visuals.bias()\n",
    "    restored_model.visuals.relative_bias()\n",
    "    restored_model.visuals.data_samples()\n",
    "    restored_model.visuals.relative_samples()\n",
    "    restored_model.visuals.filtering()\n",
    "\n",
    "\n",
    "with ProcessPoolExecutor(8) as executor:\n",
    "    runner = {\n",
    "            executor.submit(pool_job2, (1,2,clock_start,workdir,m)): m for m in perms\n",
    "        }\n",
    "    for future in as_completed(runner):\n",
    "        runner.pop(future) "
   ]
  },
  {
   "cell_type": "code",
   "execution_count": 5,
   "metadata": {},
   "outputs": [
    {
     "name": "stderr",
     "output_type": "stream",
     "text": [
      "2024-07-31 08:10:47.530694: I external/local_tsl/tsl/profiler/lib/profiler_session.cc:104] Profiler session initializing.\n",
      "2024-07-31 08:10:47.530746: I external/local_tsl/tsl/profiler/lib/profiler_session.cc:119] Profiler session started.\n",
      "2024-07-31 08:10:47.551672: I external/local_xla/xla/backends/profiler/gpu/cupti_tracer.cc:1239] Profiler found 1 GPUs\n",
      "2024-07-31 08:10:47.557477: I external/local_tsl/tsl/profiler/lib/profiler_session.cc:131] Profiler session tear down.\n",
      "2024-07-31 08:10:47.557610: I external/local_xla/xla/backends/profiler/gpu/cupti_tracer.cc:1364] CUPTI activity buffer flushed\n",
      "2024-07-31 08:10:47.953448: I tensorflow/core/common_runtime/gpu/gpu_process_state.cc:238] Using CUDA malloc Async allocator for GPU: 0\n",
      "2024-07-31 08:10:47.953745: I tensorflow/core/common_runtime/gpu/gpu_device.cc:1928] Created device /job:localhost/replica:0/task:0/device:GPU:0 with 6795 MB memory:  -> device: 0, name: NVIDIA GeForce RTX 2080, pci bus id: 0000:b3:00.0, compute capability: 7.5\n"
     ]
    },
    {
     "name": "stdout",
     "output_type": "stream",
     "text": [
      "\u001b[1m  1/313\u001b[0m \u001b[37m━━━━━━━━━━━━━━━━━━━━\u001b[0m \u001b[1m1:25\u001b[0m 273ms/step"
     ]
    },
    {
     "name": "stderr",
     "output_type": "stream",
     "text": [
      "WARNING: All log messages before absl::InitializeLog() is called are written to STDERR\n",
      "I0000 00:00:1722413448.271162  130955 service.cc:145] XLA service 0x7d4a1c003890 initialized for platform CUDA (this does not guarantee that XLA will be used). Devices:\n",
      "I0000 00:00:1722413448.271191  130955 service.cc:153]   StreamExecutor device (0): NVIDIA GeForce RTX 2080, Compute Capability 7.5\n",
      "2024-07-31 08:10:48.278107: I tensorflow/compiler/mlir/tensorflow/utils/dump_mlir_util.cc:268] disabling MLIR crash reproducer, set env var `MLIR_CRASH_REPRODUCER_DIRECTORY` to enable.\n",
      "2024-07-31 08:10:48.305147: I external/local_xla/xla/stream_executor/cuda/cuda_dnn.cc:465] Loaded cuDNN version 8907\n",
      "I0000 00:00:1722413448.432857  130955 device_compiler.h:188] Compiled cluster using XLA!  This line is logged at most once for the lifetime of the process.\n"
     ]
    },
    {
     "name": "stdout",
     "output_type": "stream",
     "text": [
      "\u001b[1m313/313\u001b[0m \u001b[32m━━━━━━━━━━━━━━━━━━━━\u001b[0m\u001b[37m\u001b[0m \u001b[1m1s\u001b[0m 2ms/step\n"
     ]
    },
    {
     "name": "stderr",
     "output_type": "stream",
     "text": [
      "/opt/conda/envs/QML-QPF/lib/python3.10/site-packages/keras/src/saving/saving_lib.py:576: UserWarning: Skipping variable loading for optimizer 'adam', because it has 2 variables whereas the saved optimizer has 6 variables. \n",
      "  saveable.load_own_variables(weights_store.get(inner_path))\n",
      "/opt/conda/envs/QML-QPF/lib/python3.10/site-packages/tqdm/auto.py:21: TqdmWarning: IProgress not found. Please update jupyter and ipywidgets. See https://ipywidgets.readthedocs.io/en/stable/user_install.html\n",
      "  from .autonotebook import tqdm as notebook_tqdm\n",
      "/opt/conda/envs/QML-QPF/lib/python3.10/site-packages/numba/np/ufunc/dufunc.py:343: NumbaWarning: \u001b[1mCompilation requested for previously compiled argument types ((uint32,)). This has no effect and perhaps indicates a bug in the calling code (compiling a ufunc more than once for the same signature\u001b[0m\n",
      "  warnings.warn(msg, errors.NumbaWarning)\n",
      "/opt/conda/envs/QML-QPF/lib/python3.10/site-packages/numba/np/ufunc/dufunc.py:343: NumbaWarning: \u001b[1mCompilation requested for previously compiled argument types ((uint32,)). This has no effect and perhaps indicates a bug in the calling code (compiling a ufunc more than once for the same signature\u001b[0m\n",
      "  warnings.warn(msg, errors.NumbaWarning)\n",
      "/opt/conda/envs/QML-QPF/lib/python3.10/site-packages/numba/np/ufunc/dufunc.py:343: NumbaWarning: \u001b[1mCompilation requested for previously compiled argument types ((uint32,)). This has no effect and perhaps indicates a bug in the calling code (compiling a ufunc more than once for the same signature\u001b[0m\n",
      "  warnings.warn(msg, errors.NumbaWarning)\n"
     ]
    },
    {
     "name": "stdout",
     "output_type": "stream",
     "text": [
      "\u001b[1m1875/1875\u001b[0m \u001b[32m━━━━━━━━━━━━━━━━━━━━\u001b[0m\u001b[37m\u001b[0m \u001b[1m2s\u001b[0m 1ms/step\n",
      "/workspaces/QML-QPF/multiprocessing/output/20240731-075014/visuals/UMAP/FASHIONMNISTFASHIONMNISTqcnot0-1-2-3.html\n"
     ]
    },
    {
     "name": "stderr",
     "output_type": "stream",
     "text": [
      "BokehDeprecationWarning: 'circle() method with size value' was deprecated in Bokeh 3.4.0 and will be removed, use 'scatter(size=...) instead' instead.\n",
      "2024-07-31 08:11:13.596819: I external/local_tsl/tsl/profiler/lib/profiler_session.cc:104] Profiler session initializing.\n",
      "2024-07-31 08:11:13.596855: I external/local_tsl/tsl/profiler/lib/profiler_session.cc:119] Profiler session started.\n",
      "2024-07-31 08:11:13.617364: I external/local_tsl/tsl/profiler/lib/profiler_session.cc:131] Profiler session tear down.\n",
      "2024-07-31 08:11:13.617869: I external/local_xla/xla/backends/profiler/gpu/cupti_tracer.cc:1364] CUPTI activity buffer flushed\n"
     ]
    },
    {
     "name": "stdout",
     "output_type": "stream",
     "text": [
      "\u001b[1m313/313\u001b[0m \u001b[32m━━━━━━━━━━━━━━━━━━━━\u001b[0m\u001b[37m\u001b[0m \u001b[1m1s\u001b[0m 2ms/step\n"
     ]
    },
    {
     "name": "stderr",
     "output_type": "stream",
     "text": [
      "/opt/conda/envs/QML-QPF/lib/python3.10/site-packages/keras/src/saving/saving_lib.py:576: UserWarning: Skipping variable loading for optimizer 'adam', because it has 2 variables whereas the saved optimizer has 6 variables. \n",
      "  saveable.load_own_variables(weights_store.get(inner_path))\n"
     ]
    },
    {
     "name": "stdout",
     "output_type": "stream",
     "text": [
      "\u001b[1m1875/1875\u001b[0m \u001b[32m━━━━━━━━━━━━━━━━━━━━\u001b[0m\u001b[37m\u001b[0m \u001b[1m1s\u001b[0m 760us/step\n",
      "/workspaces/QML-QPF/multiprocessing/output/20240731-075014/visuals/UMAP/FASHIONMNISTFASHIONMNISTqcnot1-0-2-3.html\n"
     ]
    },
    {
     "name": "stderr",
     "output_type": "stream",
     "text": [
      "BokehDeprecationWarning: 'circle() method with size value' was deprecated in Bokeh 3.4.0 and will be removed, use 'scatter(size=...) instead' instead.\n",
      "2024-07-31 08:11:31.765609: I external/local_tsl/tsl/profiler/lib/profiler_session.cc:104] Profiler session initializing.\n",
      "2024-07-31 08:11:31.765644: I external/local_tsl/tsl/profiler/lib/profiler_session.cc:119] Profiler session started.\n",
      "2024-07-31 08:11:31.786156: I external/local_tsl/tsl/profiler/lib/profiler_session.cc:131] Profiler session tear down.\n",
      "2024-07-31 08:11:31.787071: I external/local_xla/xla/backends/profiler/gpu/cupti_tracer.cc:1364] CUPTI activity buffer flushed\n"
     ]
    },
    {
     "name": "stdout",
     "output_type": "stream",
     "text": [
      "\u001b[1m313/313\u001b[0m \u001b[32m━━━━━━━━━━━━━━━━━━━━\u001b[0m\u001b[37m\u001b[0m \u001b[1m1s\u001b[0m 2ms/step\n"
     ]
    },
    {
     "name": "stderr",
     "output_type": "stream",
     "text": [
      "/opt/conda/envs/QML-QPF/lib/python3.10/site-packages/keras/src/saving/saving_lib.py:576: UserWarning: Skipping variable loading for optimizer 'adam', because it has 2 variables whereas the saved optimizer has 6 variables. \n",
      "  saveable.load_own_variables(weights_store.get(inner_path))\n"
     ]
    },
    {
     "name": "stdout",
     "output_type": "stream",
     "text": [
      "\u001b[1m1875/1875\u001b[0m \u001b[32m━━━━━━━━━━━━━━━━━━━━\u001b[0m\u001b[37m\u001b[0m \u001b[1m2s\u001b[0m 1000us/step\n",
      "/workspaces/QML-QPF/multiprocessing/output/20240731-075014/visuals/UMAP/FASHIONMNISTFASHIONMNISTqcnot0-2-1-3.html\n"
     ]
    },
    {
     "name": "stderr",
     "output_type": "stream",
     "text": [
      "BokehDeprecationWarning: 'circle() method with size value' was deprecated in Bokeh 3.4.0 and will be removed, use 'scatter(size=...) instead' instead.\n",
      "2024-07-31 08:11:50.260784: I external/local_tsl/tsl/profiler/lib/profiler_session.cc:104] Profiler session initializing.\n",
      "2024-07-31 08:11:50.260819: I external/local_tsl/tsl/profiler/lib/profiler_session.cc:119] Profiler session started.\n",
      "2024-07-31 08:11:50.281283: I external/local_tsl/tsl/profiler/lib/profiler_session.cc:131] Profiler session tear down.\n",
      "2024-07-31 08:11:50.282459: I external/local_xla/xla/backends/profiler/gpu/cupti_tracer.cc:1364] CUPTI activity buffer flushed\n"
     ]
    },
    {
     "name": "stdout",
     "output_type": "stream",
     "text": [
      "\u001b[1m313/313\u001b[0m \u001b[32m━━━━━━━━━━━━━━━━━━━━\u001b[0m\u001b[37m\u001b[0m \u001b[1m1s\u001b[0m 1ms/step\n"
     ]
    },
    {
     "name": "stderr",
     "output_type": "stream",
     "text": [
      "/opt/conda/envs/QML-QPF/lib/python3.10/site-packages/keras/src/saving/saving_lib.py:576: UserWarning: Skipping variable loading for optimizer 'adam', because it has 2 variables whereas the saved optimizer has 6 variables. \n",
      "  saveable.load_own_variables(weights_store.get(inner_path))\n"
     ]
    },
    {
     "name": "stdout",
     "output_type": "stream",
     "text": [
      "\u001b[1m1875/1875\u001b[0m \u001b[32m━━━━━━━━━━━━━━━━━━━━\u001b[0m\u001b[37m\u001b[0m \u001b[1m1s\u001b[0m 736us/step\n",
      "/workspaces/QML-QPF/multiprocessing/output/20240731-075014/visuals/UMAP/FASHIONMNISTFASHIONMNISTqcnot1-2-0-3.html\n"
     ]
    },
    {
     "name": "stderr",
     "output_type": "stream",
     "text": [
      "BokehDeprecationWarning: 'circle() method with size value' was deprecated in Bokeh 3.4.0 and will be removed, use 'scatter(size=...) instead' instead.\n",
      "2024-07-31 08:12:08.159330: I external/local_tsl/tsl/profiler/lib/profiler_session.cc:104] Profiler session initializing.\n",
      "2024-07-31 08:12:08.159362: I external/local_tsl/tsl/profiler/lib/profiler_session.cc:119] Profiler session started.\n",
      "2024-07-31 08:12:08.179843: I external/local_tsl/tsl/profiler/lib/profiler_session.cc:131] Profiler session tear down.\n",
      "2024-07-31 08:12:08.181303: I external/local_xla/xla/backends/profiler/gpu/cupti_tracer.cc:1364] CUPTI activity buffer flushed\n"
     ]
    },
    {
     "name": "stdout",
     "output_type": "stream",
     "text": [
      "\u001b[1m313/313\u001b[0m \u001b[32m━━━━━━━━━━━━━━━━━━━━\u001b[0m\u001b[37m\u001b[0m \u001b[1m1s\u001b[0m 2ms/step\n"
     ]
    },
    {
     "name": "stderr",
     "output_type": "stream",
     "text": [
      "/opt/conda/envs/QML-QPF/lib/python3.10/site-packages/keras/src/saving/saving_lib.py:576: UserWarning: Skipping variable loading for optimizer 'adam', because it has 2 variables whereas the saved optimizer has 6 variables. \n",
      "  saveable.load_own_variables(weights_store.get(inner_path))\n"
     ]
    },
    {
     "name": "stdout",
     "output_type": "stream",
     "text": [
      "\u001b[1m1875/1875\u001b[0m \u001b[32m━━━━━━━━━━━━━━━━━━━━\u001b[0m\u001b[37m\u001b[0m \u001b[1m1s\u001b[0m 766us/step\n",
      "/workspaces/QML-QPF/multiprocessing/output/20240731-075014/visuals/UMAP/FASHIONMNISTFASHIONMNISTqcnot2-0-1-3.html\n"
     ]
    },
    {
     "name": "stderr",
     "output_type": "stream",
     "text": [
      "BokehDeprecationWarning: 'circle() method with size value' was deprecated in Bokeh 3.4.0 and will be removed, use 'scatter(size=...) instead' instead.\n",
      "2024-07-31 08:12:26.171961: I external/local_tsl/tsl/profiler/lib/profiler_session.cc:104] Profiler session initializing.\n",
      "2024-07-31 08:12:26.171996: I external/local_tsl/tsl/profiler/lib/profiler_session.cc:119] Profiler session started.\n",
      "2024-07-31 08:12:26.192386: I external/local_tsl/tsl/profiler/lib/profiler_session.cc:131] Profiler session tear down.\n",
      "2024-07-31 08:12:26.194118: I external/local_xla/xla/backends/profiler/gpu/cupti_tracer.cc:1364] CUPTI activity buffer flushed\n"
     ]
    },
    {
     "name": "stdout",
     "output_type": "stream",
     "text": [
      "\u001b[1m313/313\u001b[0m \u001b[32m━━━━━━━━━━━━━━━━━━━━\u001b[0m\u001b[37m\u001b[0m \u001b[1m1s\u001b[0m 2ms/step\n"
     ]
    },
    {
     "name": "stderr",
     "output_type": "stream",
     "text": [
      "/opt/conda/envs/QML-QPF/lib/python3.10/site-packages/keras/src/saving/saving_lib.py:576: UserWarning: Skipping variable loading for optimizer 'adam', because it has 2 variables whereas the saved optimizer has 6 variables. \n",
      "  saveable.load_own_variables(weights_store.get(inner_path))\n"
     ]
    },
    {
     "name": "stdout",
     "output_type": "stream",
     "text": [
      "\u001b[1m1875/1875\u001b[0m \u001b[32m━━━━━━━━━━━━━━━━━━━━\u001b[0m\u001b[37m\u001b[0m \u001b[1m2s\u001b[0m 852us/step\n",
      "/workspaces/QML-QPF/multiprocessing/output/20240731-075014/visuals/UMAP/FASHIONMNISTFASHIONMNISTqcnot2-1-0-3.html\n"
     ]
    },
    {
     "name": "stderr",
     "output_type": "stream",
     "text": [
      "BokehDeprecationWarning: 'circle() method with size value' was deprecated in Bokeh 3.4.0 and will be removed, use 'scatter(size=...) instead' instead.\n",
      "2024-07-31 08:12:44.491332: I external/local_tsl/tsl/profiler/lib/profiler_session.cc:104] Profiler session initializing.\n",
      "2024-07-31 08:12:44.491367: I external/local_tsl/tsl/profiler/lib/profiler_session.cc:119] Profiler session started.\n",
      "2024-07-31 08:12:44.511680: I external/local_tsl/tsl/profiler/lib/profiler_session.cc:131] Profiler session tear down.\n",
      "2024-07-31 08:12:44.513775: I external/local_xla/xla/backends/profiler/gpu/cupti_tracer.cc:1364] CUPTI activity buffer flushed\n"
     ]
    },
    {
     "name": "stdout",
     "output_type": "stream",
     "text": [
      "\u001b[1m313/313\u001b[0m \u001b[32m━━━━━━━━━━━━━━━━━━━━\u001b[0m\u001b[37m\u001b[0m \u001b[1m1s\u001b[0m 2ms/step\n"
     ]
    },
    {
     "name": "stderr",
     "output_type": "stream",
     "text": [
      "/opt/conda/envs/QML-QPF/lib/python3.10/site-packages/keras/src/saving/saving_lib.py:576: UserWarning: Skipping variable loading for optimizer 'adam', because it has 2 variables whereas the saved optimizer has 6 variables. \n",
      "  saveable.load_own_variables(weights_store.get(inner_path))\n"
     ]
    },
    {
     "name": "stdout",
     "output_type": "stream",
     "text": [
      "\u001b[1m1875/1875\u001b[0m \u001b[32m━━━━━━━━━━━━━━━━━━━━\u001b[0m\u001b[37m\u001b[0m \u001b[1m2s\u001b[0m 1ms/step\n",
      "/workspaces/QML-QPF/multiprocessing/output/20240731-075014/visuals/UMAP/FASHIONMNISTFASHIONMNISTqcnot0-1-3-2.html\n"
     ]
    },
    {
     "name": "stderr",
     "output_type": "stream",
     "text": [
      "BokehDeprecationWarning: 'circle() method with size value' was deprecated in Bokeh 3.4.0 and will be removed, use 'scatter(size=...) instead' instead.\n",
      "2024-07-31 08:13:03.308080: I external/local_tsl/tsl/profiler/lib/profiler_session.cc:104] Profiler session initializing.\n",
      "2024-07-31 08:13:03.308116: I external/local_tsl/tsl/profiler/lib/profiler_session.cc:119] Profiler session started.\n",
      "2024-07-31 08:13:03.328402: I external/local_tsl/tsl/profiler/lib/profiler_session.cc:131] Profiler session tear down.\n",
      "2024-07-31 08:13:03.330770: I external/local_xla/xla/backends/profiler/gpu/cupti_tracer.cc:1364] CUPTI activity buffer flushed\n"
     ]
    },
    {
     "name": "stdout",
     "output_type": "stream",
     "text": [
      "\u001b[1m313/313\u001b[0m \u001b[32m━━━━━━━━━━━━━━━━━━━━\u001b[0m\u001b[37m\u001b[0m \u001b[1m1s\u001b[0m 2ms/step\n"
     ]
    },
    {
     "name": "stderr",
     "output_type": "stream",
     "text": [
      "/opt/conda/envs/QML-QPF/lib/python3.10/site-packages/keras/src/saving/saving_lib.py:576: UserWarning: Skipping variable loading for optimizer 'adam', because it has 2 variables whereas the saved optimizer has 6 variables. \n",
      "  saveable.load_own_variables(weights_store.get(inner_path))\n"
     ]
    },
    {
     "name": "stdout",
     "output_type": "stream",
     "text": [
      "\u001b[1m1875/1875\u001b[0m \u001b[32m━━━━━━━━━━━━━━━━━━━━\u001b[0m\u001b[37m\u001b[0m \u001b[1m2s\u001b[0m 865us/step\n",
      "/workspaces/QML-QPF/multiprocessing/output/20240731-075014/visuals/UMAP/FASHIONMNISTFASHIONMNISTqcnot1-0-3-2.html\n"
     ]
    },
    {
     "name": "stderr",
     "output_type": "stream",
     "text": [
      "BokehDeprecationWarning: 'circle() method with size value' was deprecated in Bokeh 3.4.0 and will be removed, use 'scatter(size=...) instead' instead.\n",
      "2024-07-31 08:13:21.559219: I external/local_tsl/tsl/profiler/lib/profiler_session.cc:104] Profiler session initializing.\n",
      "2024-07-31 08:13:21.559254: I external/local_tsl/tsl/profiler/lib/profiler_session.cc:119] Profiler session started.\n",
      "2024-07-31 08:13:21.579594: I external/local_tsl/tsl/profiler/lib/profiler_session.cc:131] Profiler session tear down.\n",
      "2024-07-31 08:13:21.582264: I external/local_xla/xla/backends/profiler/gpu/cupti_tracer.cc:1364] CUPTI activity buffer flushed\n"
     ]
    },
    {
     "name": "stdout",
     "output_type": "stream",
     "text": [
      "\u001b[1m313/313\u001b[0m \u001b[32m━━━━━━━━━━━━━━━━━━━━\u001b[0m\u001b[37m\u001b[0m \u001b[1m1s\u001b[0m 2ms/step\n"
     ]
    },
    {
     "name": "stderr",
     "output_type": "stream",
     "text": [
      "/opt/conda/envs/QML-QPF/lib/python3.10/site-packages/keras/src/saving/saving_lib.py:576: UserWarning: Skipping variable loading for optimizer 'adam', because it has 2 variables whereas the saved optimizer has 6 variables. \n",
      "  saveable.load_own_variables(weights_store.get(inner_path))\n"
     ]
    },
    {
     "name": "stdout",
     "output_type": "stream",
     "text": [
      "\u001b[1m1875/1875\u001b[0m \u001b[32m━━━━━━━━━━━━━━━━━━━━\u001b[0m\u001b[37m\u001b[0m \u001b[1m2s\u001b[0m 1ms/step\n",
      "/workspaces/QML-QPF/multiprocessing/output/20240731-075014/visuals/UMAP/FASHIONMNISTFASHIONMNISTqcnot0-2-3-1.html\n"
     ]
    },
    {
     "name": "stderr",
     "output_type": "stream",
     "text": [
      "BokehDeprecationWarning: 'circle() method with size value' was deprecated in Bokeh 3.4.0 and will be removed, use 'scatter(size=...) instead' instead.\n",
      "2024-07-31 08:13:40.339203: I external/local_tsl/tsl/profiler/lib/profiler_session.cc:104] Profiler session initializing.\n",
      "2024-07-31 08:13:40.339234: I external/local_tsl/tsl/profiler/lib/profiler_session.cc:119] Profiler session started.\n",
      "2024-07-31 08:13:40.359868: I external/local_tsl/tsl/profiler/lib/profiler_session.cc:131] Profiler session tear down.\n",
      "2024-07-31 08:13:40.362806: I external/local_xla/xla/backends/profiler/gpu/cupti_tracer.cc:1364] CUPTI activity buffer flushed\n"
     ]
    },
    {
     "name": "stdout",
     "output_type": "stream",
     "text": [
      "\u001b[1m313/313\u001b[0m \u001b[32m━━━━━━━━━━━━━━━━━━━━\u001b[0m\u001b[37m\u001b[0m \u001b[1m1s\u001b[0m 2ms/step\n"
     ]
    },
    {
     "name": "stderr",
     "output_type": "stream",
     "text": [
      "/opt/conda/envs/QML-QPF/lib/python3.10/site-packages/keras/src/saving/saving_lib.py:576: UserWarning: Skipping variable loading for optimizer 'adam', because it has 2 variables whereas the saved optimizer has 6 variables. \n",
      "  saveable.load_own_variables(weights_store.get(inner_path))\n"
     ]
    },
    {
     "name": "stdout",
     "output_type": "stream",
     "text": [
      "\u001b[1m1875/1875\u001b[0m \u001b[32m━━━━━━━━━━━━━━━━━━━━\u001b[0m\u001b[37m\u001b[0m \u001b[1m2s\u001b[0m 953us/step\n",
      "/workspaces/QML-QPF/multiprocessing/output/20240731-075014/visuals/UMAP/FASHIONMNISTFASHIONMNISTqcnot1-2-3-0.html\n"
     ]
    },
    {
     "name": "stderr",
     "output_type": "stream",
     "text": [
      "BokehDeprecationWarning: 'circle() method with size value' was deprecated in Bokeh 3.4.0 and will be removed, use 'scatter(size=...) instead' instead.\n",
      "2024-07-31 08:13:58.900226: I external/local_tsl/tsl/profiler/lib/profiler_session.cc:104] Profiler session initializing.\n",
      "2024-07-31 08:13:58.900262: I external/local_tsl/tsl/profiler/lib/profiler_session.cc:119] Profiler session started.\n",
      "2024-07-31 08:13:58.920710: I external/local_tsl/tsl/profiler/lib/profiler_session.cc:131] Profiler session tear down.\n",
      "2024-07-31 08:13:58.923958: I external/local_xla/xla/backends/profiler/gpu/cupti_tracer.cc:1364] CUPTI activity buffer flushed\n"
     ]
    },
    {
     "name": "stdout",
     "output_type": "stream",
     "text": [
      "\u001b[1m313/313\u001b[0m \u001b[32m━━━━━━━━━━━━━━━━━━━━\u001b[0m\u001b[37m\u001b[0m \u001b[1m1s\u001b[0m 2ms/step\n"
     ]
    },
    {
     "name": "stderr",
     "output_type": "stream",
     "text": [
      "/opt/conda/envs/QML-QPF/lib/python3.10/site-packages/keras/src/saving/saving_lib.py:576: UserWarning: Skipping variable loading for optimizer 'adam', because it has 2 variables whereas the saved optimizer has 6 variables. \n",
      "  saveable.load_own_variables(weights_store.get(inner_path))\n"
     ]
    },
    {
     "name": "stdout",
     "output_type": "stream",
     "text": [
      "\u001b[1m1875/1875\u001b[0m \u001b[32m━━━━━━━━━━━━━━━━━━━━\u001b[0m\u001b[37m\u001b[0m \u001b[1m2s\u001b[0m 820us/step\n",
      "/workspaces/QML-QPF/multiprocessing/output/20240731-075014/visuals/UMAP/FASHIONMNISTFASHIONMNISTqcnot2-0-3-1.html\n"
     ]
    },
    {
     "name": "stderr",
     "output_type": "stream",
     "text": [
      "BokehDeprecationWarning: 'circle() method with size value' was deprecated in Bokeh 3.4.0 and will be removed, use 'scatter(size=...) instead' instead.\n",
      "2024-07-31 08:14:17.058777: I external/local_tsl/tsl/profiler/lib/profiler_session.cc:104] Profiler session initializing.\n",
      "2024-07-31 08:14:17.058811: I external/local_tsl/tsl/profiler/lib/profiler_session.cc:119] Profiler session started.\n",
      "2024-07-31 08:14:17.079390: I external/local_tsl/tsl/profiler/lib/profiler_session.cc:131] Profiler session tear down.\n",
      "2024-07-31 08:14:17.083038: I external/local_xla/xla/backends/profiler/gpu/cupti_tracer.cc:1364] CUPTI activity buffer flushed\n"
     ]
    },
    {
     "name": "stdout",
     "output_type": "stream",
     "text": [
      "\u001b[1m313/313\u001b[0m \u001b[32m━━━━━━━━━━━━━━━━━━━━\u001b[0m\u001b[37m\u001b[0m \u001b[1m1s\u001b[0m 2ms/step\n"
     ]
    },
    {
     "name": "stderr",
     "output_type": "stream",
     "text": [
      "/opt/conda/envs/QML-QPF/lib/python3.10/site-packages/keras/src/saving/saving_lib.py:576: UserWarning: Skipping variable loading for optimizer 'adam', because it has 2 variables whereas the saved optimizer has 6 variables. \n",
      "  saveable.load_own_variables(weights_store.get(inner_path))\n"
     ]
    },
    {
     "name": "stdout",
     "output_type": "stream",
     "text": [
      "\u001b[1m1875/1875\u001b[0m \u001b[32m━━━━━━━━━━━━━━━━━━━━\u001b[0m\u001b[37m\u001b[0m \u001b[1m2s\u001b[0m 958us/step\n",
      "/workspaces/QML-QPF/multiprocessing/output/20240731-075014/visuals/UMAP/FASHIONMNISTFASHIONMNISTqcnot2-1-3-0.html\n"
     ]
    },
    {
     "name": "stderr",
     "output_type": "stream",
     "text": [
      "BokehDeprecationWarning: 'circle() method with size value' was deprecated in Bokeh 3.4.0 and will be removed, use 'scatter(size=...) instead' instead.\n",
      "2024-07-31 08:14:35.545195: I external/local_tsl/tsl/profiler/lib/profiler_session.cc:104] Profiler session initializing.\n",
      "2024-07-31 08:14:35.545231: I external/local_tsl/tsl/profiler/lib/profiler_session.cc:119] Profiler session started.\n",
      "2024-07-31 08:14:35.565910: I external/local_tsl/tsl/profiler/lib/profiler_session.cc:131] Profiler session tear down.\n",
      "2024-07-31 08:14:35.569796: I external/local_xla/xla/backends/profiler/gpu/cupti_tracer.cc:1364] CUPTI activity buffer flushed\n"
     ]
    },
    {
     "name": "stdout",
     "output_type": "stream",
     "text": [
      "\u001b[1m313/313\u001b[0m \u001b[32m━━━━━━━━━━━━━━━━━━━━\u001b[0m\u001b[37m\u001b[0m \u001b[1m1s\u001b[0m 2ms/step\n"
     ]
    },
    {
     "name": "stderr",
     "output_type": "stream",
     "text": [
      "/opt/conda/envs/QML-QPF/lib/python3.10/site-packages/keras/src/saving/saving_lib.py:576: UserWarning: Skipping variable loading for optimizer 'adam', because it has 2 variables whereas the saved optimizer has 6 variables. \n",
      "  saveable.load_own_variables(weights_store.get(inner_path))\n"
     ]
    },
    {
     "name": "stdout",
     "output_type": "stream",
     "text": [
      "\u001b[1m1875/1875\u001b[0m \u001b[32m━━━━━━━━━━━━━━━━━━━━\u001b[0m\u001b[37m\u001b[0m \u001b[1m2s\u001b[0m 1ms/step\n",
      "/workspaces/QML-QPF/multiprocessing/output/20240731-075014/visuals/UMAP/FASHIONMNISTFASHIONMNISTqcnot0-3-1-2.html\n"
     ]
    },
    {
     "name": "stderr",
     "output_type": "stream",
     "text": [
      "BokehDeprecationWarning: 'circle() method with size value' was deprecated in Bokeh 3.4.0 and will be removed, use 'scatter(size=...) instead' instead.\n",
      "2024-07-31 08:14:54.269209: I external/local_tsl/tsl/profiler/lib/profiler_session.cc:104] Profiler session initializing.\n",
      "2024-07-31 08:14:54.269242: I external/local_tsl/tsl/profiler/lib/profiler_session.cc:119] Profiler session started.\n",
      "2024-07-31 08:14:54.289616: I external/local_tsl/tsl/profiler/lib/profiler_session.cc:131] Profiler session tear down.\n",
      "2024-07-31 08:14:54.293742: I external/local_xla/xla/backends/profiler/gpu/cupti_tracer.cc:1364] CUPTI activity buffer flushed\n"
     ]
    },
    {
     "name": "stdout",
     "output_type": "stream",
     "text": [
      "\u001b[1m313/313\u001b[0m \u001b[32m━━━━━━━━━━━━━━━━━━━━\u001b[0m\u001b[37m\u001b[0m \u001b[1m1s\u001b[0m 2ms/step\n"
     ]
    },
    {
     "name": "stderr",
     "output_type": "stream",
     "text": [
      "/opt/conda/envs/QML-QPF/lib/python3.10/site-packages/keras/src/saving/saving_lib.py:576: UserWarning: Skipping variable loading for optimizer 'adam', because it has 2 variables whereas the saved optimizer has 6 variables. \n",
      "  saveable.load_own_variables(weights_store.get(inner_path))\n"
     ]
    },
    {
     "name": "stdout",
     "output_type": "stream",
     "text": [
      "\u001b[1m1875/1875\u001b[0m \u001b[32m━━━━━━━━━━━━━━━━━━━━\u001b[0m\u001b[37m\u001b[0m \u001b[1m1s\u001b[0m 763us/step\n",
      "/workspaces/QML-QPF/multiprocessing/output/20240731-075014/visuals/UMAP/FASHIONMNISTFASHIONMNISTqcnot1-3-0-2.html\n"
     ]
    },
    {
     "name": "stderr",
     "output_type": "stream",
     "text": [
      "BokehDeprecationWarning: 'circle() method with size value' was deprecated in Bokeh 3.4.0 and will be removed, use 'scatter(size=...) instead' instead.\n",
      "2024-07-31 08:15:12.171186: I external/local_tsl/tsl/profiler/lib/profiler_session.cc:104] Profiler session initializing.\n",
      "2024-07-31 08:15:12.171221: I external/local_tsl/tsl/profiler/lib/profiler_session.cc:119] Profiler session started.\n",
      "2024-07-31 08:15:12.191706: I external/local_tsl/tsl/profiler/lib/profiler_session.cc:131] Profiler session tear down.\n",
      "2024-07-31 08:15:12.196005: I external/local_xla/xla/backends/profiler/gpu/cupti_tracer.cc:1364] CUPTI activity buffer flushed\n"
     ]
    },
    {
     "name": "stdout",
     "output_type": "stream",
     "text": [
      "\u001b[1m313/313\u001b[0m \u001b[32m━━━━━━━━━━━━━━━━━━━━\u001b[0m\u001b[37m\u001b[0m \u001b[1m1s\u001b[0m 2ms/step\n"
     ]
    },
    {
     "name": "stderr",
     "output_type": "stream",
     "text": [
      "/opt/conda/envs/QML-QPF/lib/python3.10/site-packages/keras/src/saving/saving_lib.py:576: UserWarning: Skipping variable loading for optimizer 'adam', because it has 2 variables whereas the saved optimizer has 6 variables. \n",
      "  saveable.load_own_variables(weights_store.get(inner_path))\n"
     ]
    },
    {
     "name": "stdout",
     "output_type": "stream",
     "text": [
      "\u001b[1m1875/1875\u001b[0m \u001b[32m━━━━━━━━━━━━━━━━━━━━\u001b[0m\u001b[37m\u001b[0m \u001b[1m2s\u001b[0m 1ms/step\n",
      "/workspaces/QML-QPF/multiprocessing/output/20240731-075014/visuals/UMAP/FASHIONMNISTFASHIONMNISTqcnot0-3-2-1.html\n"
     ]
    },
    {
     "name": "stderr",
     "output_type": "stream",
     "text": [
      "BokehDeprecationWarning: 'circle() method with size value' was deprecated in Bokeh 3.4.0 and will be removed, use 'scatter(size=...) instead' instead.\n",
      "2024-07-31 08:15:30.835464: I external/local_tsl/tsl/profiler/lib/profiler_session.cc:104] Profiler session initializing.\n",
      "2024-07-31 08:15:30.835498: I external/local_tsl/tsl/profiler/lib/profiler_session.cc:119] Profiler session started.\n",
      "2024-07-31 08:15:30.856135: I external/local_tsl/tsl/profiler/lib/profiler_session.cc:131] Profiler session tear down.\n",
      "2024-07-31 08:15:30.860781: I external/local_xla/xla/backends/profiler/gpu/cupti_tracer.cc:1364] CUPTI activity buffer flushed\n"
     ]
    },
    {
     "name": "stdout",
     "output_type": "stream",
     "text": [
      "\u001b[1m313/313\u001b[0m \u001b[32m━━━━━━━━━━━━━━━━━━━━\u001b[0m\u001b[37m\u001b[0m \u001b[1m1s\u001b[0m 2ms/step\n"
     ]
    },
    {
     "name": "stderr",
     "output_type": "stream",
     "text": [
      "/opt/conda/envs/QML-QPF/lib/python3.10/site-packages/keras/src/saving/saving_lib.py:576: UserWarning: Skipping variable loading for optimizer 'adam', because it has 2 variables whereas the saved optimizer has 6 variables. \n",
      "  saveable.load_own_variables(weights_store.get(inner_path))\n"
     ]
    },
    {
     "name": "stdout",
     "output_type": "stream",
     "text": [
      "\u001b[1m1875/1875\u001b[0m \u001b[32m━━━━━━━━━━━━━━━━━━━━\u001b[0m\u001b[37m\u001b[0m \u001b[1m2s\u001b[0m 923us/step\n",
      "/workspaces/QML-QPF/multiprocessing/output/20240731-075014/visuals/UMAP/FASHIONMNISTFASHIONMNISTqcnot1-3-2-0.html\n"
     ]
    },
    {
     "name": "stderr",
     "output_type": "stream",
     "text": [
      "BokehDeprecationWarning: 'circle() method with size value' was deprecated in Bokeh 3.4.0 and will be removed, use 'scatter(size=...) instead' instead.\n",
      "2024-07-31 08:15:49.161635: I external/local_tsl/tsl/profiler/lib/profiler_session.cc:104] Profiler session initializing.\n",
      "2024-07-31 08:15:49.161670: I external/local_tsl/tsl/profiler/lib/profiler_session.cc:119] Profiler session started.\n",
      "2024-07-31 08:15:49.182037: I external/local_tsl/tsl/profiler/lib/profiler_session.cc:131] Profiler session tear down.\n",
      "2024-07-31 08:15:49.186935: I external/local_xla/xla/backends/profiler/gpu/cupti_tracer.cc:1364] CUPTI activity buffer flushed\n"
     ]
    },
    {
     "name": "stdout",
     "output_type": "stream",
     "text": [
      "\u001b[1m313/313\u001b[0m \u001b[32m━━━━━━━━━━━━━━━━━━━━\u001b[0m\u001b[37m\u001b[0m \u001b[1m1s\u001b[0m 1ms/step\n"
     ]
    },
    {
     "name": "stderr",
     "output_type": "stream",
     "text": [
      "/opt/conda/envs/QML-QPF/lib/python3.10/site-packages/keras/src/saving/saving_lib.py:576: UserWarning: Skipping variable loading for optimizer 'adam', because it has 2 variables whereas the saved optimizer has 6 variables. \n",
      "  saveable.load_own_variables(weights_store.get(inner_path))\n"
     ]
    },
    {
     "name": "stdout",
     "output_type": "stream",
     "text": [
      "\u001b[1m1875/1875\u001b[0m \u001b[32m━━━━━━━━━━━━━━━━━━━━\u001b[0m\u001b[37m\u001b[0m \u001b[1m2s\u001b[0m 809us/step\n",
      "/workspaces/QML-QPF/multiprocessing/output/20240731-075014/visuals/UMAP/FASHIONMNISTFASHIONMNISTqcnot2-3-0-1.html\n"
     ]
    },
    {
     "name": "stderr",
     "output_type": "stream",
     "text": [
      "BokehDeprecationWarning: 'circle() method with size value' was deprecated in Bokeh 3.4.0 and will be removed, use 'scatter(size=...) instead' instead.\n",
      "2024-07-31 08:16:07.295761: I external/local_tsl/tsl/profiler/lib/profiler_session.cc:104] Profiler session initializing.\n",
      "2024-07-31 08:16:07.295797: I external/local_tsl/tsl/profiler/lib/profiler_session.cc:119] Profiler session started.\n",
      "2024-07-31 08:16:07.316280: I external/local_tsl/tsl/profiler/lib/profiler_session.cc:131] Profiler session tear down.\n",
      "2024-07-31 08:16:07.321521: I external/local_xla/xla/backends/profiler/gpu/cupti_tracer.cc:1364] CUPTI activity buffer flushed\n"
     ]
    },
    {
     "name": "stdout",
     "output_type": "stream",
     "text": [
      "\u001b[1m313/313\u001b[0m \u001b[32m━━━━━━━━━━━━━━━━━━━━\u001b[0m\u001b[37m\u001b[0m \u001b[1m1s\u001b[0m 1ms/step\n"
     ]
    },
    {
     "name": "stderr",
     "output_type": "stream",
     "text": [
      "/opt/conda/envs/QML-QPF/lib/python3.10/site-packages/keras/src/saving/saving_lib.py:576: UserWarning: Skipping variable loading for optimizer 'adam', because it has 2 variables whereas the saved optimizer has 6 variables. \n",
      "  saveable.load_own_variables(weights_store.get(inner_path))\n"
     ]
    },
    {
     "name": "stdout",
     "output_type": "stream",
     "text": [
      "\u001b[1m1875/1875\u001b[0m \u001b[32m━━━━━━━━━━━━━━━━━━━━\u001b[0m\u001b[37m\u001b[0m \u001b[1m2s\u001b[0m 1ms/step\n",
      "/workspaces/QML-QPF/multiprocessing/output/20240731-075014/visuals/UMAP/FASHIONMNISTFASHIONMNISTqcnot2-3-1-0.html\n"
     ]
    },
    {
     "name": "stderr",
     "output_type": "stream",
     "text": [
      "BokehDeprecationWarning: 'circle() method with size value' was deprecated in Bokeh 3.4.0 and will be removed, use 'scatter(size=...) instead' instead.\n",
      "2024-07-31 08:16:25.918835: I external/local_tsl/tsl/profiler/lib/profiler_session.cc:104] Profiler session initializing.\n",
      "2024-07-31 08:16:25.918869: I external/local_tsl/tsl/profiler/lib/profiler_session.cc:119] Profiler session started.\n",
      "2024-07-31 08:16:25.939566: I external/local_tsl/tsl/profiler/lib/profiler_session.cc:131] Profiler session tear down.\n",
      "2024-07-31 08:16:25.945105: I external/local_xla/xla/backends/profiler/gpu/cupti_tracer.cc:1364] CUPTI activity buffer flushed\n"
     ]
    },
    {
     "name": "stdout",
     "output_type": "stream",
     "text": [
      "\u001b[1m313/313\u001b[0m \u001b[32m━━━━━━━━━━━━━━━━━━━━\u001b[0m\u001b[37m\u001b[0m \u001b[1m1s\u001b[0m 2ms/step\n"
     ]
    },
    {
     "name": "stderr",
     "output_type": "stream",
     "text": [
      "/opt/conda/envs/QML-QPF/lib/python3.10/site-packages/keras/src/saving/saving_lib.py:576: UserWarning: Skipping variable loading for optimizer 'adam', because it has 2 variables whereas the saved optimizer has 6 variables. \n",
      "  saveable.load_own_variables(weights_store.get(inner_path))\n"
     ]
    },
    {
     "name": "stdout",
     "output_type": "stream",
     "text": [
      "\u001b[1m1875/1875\u001b[0m \u001b[32m━━━━━━━━━━━━━━━━━━━━\u001b[0m\u001b[37m\u001b[0m \u001b[1m1s\u001b[0m 734us/step\n",
      "/workspaces/QML-QPF/multiprocessing/output/20240731-075014/visuals/UMAP/FASHIONMNISTFASHIONMNISTqcnot3-0-1-2.html\n"
     ]
    },
    {
     "name": "stderr",
     "output_type": "stream",
     "text": [
      "BokehDeprecationWarning: 'circle() method with size value' was deprecated in Bokeh 3.4.0 and will be removed, use 'scatter(size=...) instead' instead.\n",
      "2024-07-31 08:16:44.049971: I external/local_tsl/tsl/profiler/lib/profiler_session.cc:104] Profiler session initializing.\n",
      "2024-07-31 08:16:44.050007: I external/local_tsl/tsl/profiler/lib/profiler_session.cc:119] Profiler session started.\n",
      "2024-07-31 08:16:44.070565: I external/local_tsl/tsl/profiler/lib/profiler_session.cc:131] Profiler session tear down.\n",
      "2024-07-31 08:16:44.078092: I external/local_xla/xla/backends/profiler/gpu/cupti_tracer.cc:1364] CUPTI activity buffer flushed\n"
     ]
    },
    {
     "name": "stdout",
     "output_type": "stream",
     "text": [
      "\u001b[1m313/313\u001b[0m \u001b[32m━━━━━━━━━━━━━━━━━━━━\u001b[0m\u001b[37m\u001b[0m \u001b[1m1s\u001b[0m 2ms/step\n"
     ]
    },
    {
     "name": "stderr",
     "output_type": "stream",
     "text": [
      "/opt/conda/envs/QML-QPF/lib/python3.10/site-packages/keras/src/saving/saving_lib.py:576: UserWarning: Skipping variable loading for optimizer 'adam', because it has 2 variables whereas the saved optimizer has 6 variables. \n",
      "  saveable.load_own_variables(weights_store.get(inner_path))\n"
     ]
    },
    {
     "name": "stdout",
     "output_type": "stream",
     "text": [
      "\u001b[1m1875/1875\u001b[0m \u001b[32m━━━━━━━━━━━━━━━━━━━━\u001b[0m\u001b[37m\u001b[0m \u001b[1m2s\u001b[0m 790us/step\n",
      "/workspaces/QML-QPF/multiprocessing/output/20240731-075014/visuals/UMAP/FASHIONMNISTFASHIONMNISTqcnot3-1-0-2.html\n"
     ]
    },
    {
     "name": "stderr",
     "output_type": "stream",
     "text": [
      "BokehDeprecationWarning: 'circle() method with size value' was deprecated in Bokeh 3.4.0 and will be removed, use 'scatter(size=...) instead' instead.\n",
      "2024-07-31 08:17:02.129148: I external/local_tsl/tsl/profiler/lib/profiler_session.cc:104] Profiler session initializing.\n",
      "2024-07-31 08:17:02.129183: I external/local_tsl/tsl/profiler/lib/profiler_session.cc:119] Profiler session started.\n",
      "2024-07-31 08:17:02.149735: I external/local_tsl/tsl/profiler/lib/profiler_session.cc:131] Profiler session tear down.\n",
      "2024-07-31 08:17:02.155844: I external/local_xla/xla/backends/profiler/gpu/cupti_tracer.cc:1364] CUPTI activity buffer flushed\n"
     ]
    },
    {
     "name": "stdout",
     "output_type": "stream",
     "text": [
      "\u001b[1m313/313\u001b[0m \u001b[32m━━━━━━━━━━━━━━━━━━━━\u001b[0m\u001b[37m\u001b[0m \u001b[1m1s\u001b[0m 2ms/step\n"
     ]
    },
    {
     "name": "stderr",
     "output_type": "stream",
     "text": [
      "/opt/conda/envs/QML-QPF/lib/python3.10/site-packages/keras/src/saving/saving_lib.py:576: UserWarning: Skipping variable loading for optimizer 'adam', because it has 2 variables whereas the saved optimizer has 6 variables. \n",
      "  saveable.load_own_variables(weights_store.get(inner_path))\n"
     ]
    },
    {
     "name": "stdout",
     "output_type": "stream",
     "text": [
      "\u001b[1m1875/1875\u001b[0m \u001b[32m━━━━━━━━━━━━━━━━━━━━\u001b[0m\u001b[37m\u001b[0m \u001b[1m2s\u001b[0m 983us/step\n",
      "/workspaces/QML-QPF/multiprocessing/output/20240731-075014/visuals/UMAP/FASHIONMNISTFASHIONMNISTqcnot3-0-2-1.html\n"
     ]
    },
    {
     "name": "stderr",
     "output_type": "stream",
     "text": [
      "BokehDeprecationWarning: 'circle() method with size value' was deprecated in Bokeh 3.4.0 and will be removed, use 'scatter(size=...) instead' instead.\n",
      "2024-07-31 08:17:20.604094: I external/local_tsl/tsl/profiler/lib/profiler_session.cc:104] Profiler session initializing.\n",
      "2024-07-31 08:17:20.604129: I external/local_tsl/tsl/profiler/lib/profiler_session.cc:119] Profiler session started.\n",
      "2024-07-31 08:17:20.624502: I external/local_tsl/tsl/profiler/lib/profiler_session.cc:131] Profiler session tear down.\n",
      "2024-07-31 08:17:20.630875: I external/local_xla/xla/backends/profiler/gpu/cupti_tracer.cc:1364] CUPTI activity buffer flushed\n"
     ]
    },
    {
     "name": "stdout",
     "output_type": "stream",
     "text": [
      "\u001b[1m313/313\u001b[0m \u001b[32m━━━━━━━━━━━━━━━━━━━━\u001b[0m\u001b[37m\u001b[0m \u001b[1m1s\u001b[0m 2ms/step\n"
     ]
    },
    {
     "name": "stderr",
     "output_type": "stream",
     "text": [
      "/opt/conda/envs/QML-QPF/lib/python3.10/site-packages/keras/src/saving/saving_lib.py:576: UserWarning: Skipping variable loading for optimizer 'adam', because it has 2 variables whereas the saved optimizer has 6 variables. \n",
      "  saveable.load_own_variables(weights_store.get(inner_path))\n"
     ]
    },
    {
     "name": "stdout",
     "output_type": "stream",
     "text": [
      "\u001b[1m1875/1875\u001b[0m \u001b[32m━━━━━━━━━━━━━━━━━━━━\u001b[0m\u001b[37m\u001b[0m \u001b[1m2s\u001b[0m 980us/step\n",
      "/workspaces/QML-QPF/multiprocessing/output/20240731-075014/visuals/UMAP/FASHIONMNISTFASHIONMNISTqcnot3-1-2-0.html\n"
     ]
    },
    {
     "name": "stderr",
     "output_type": "stream",
     "text": [
      "BokehDeprecationWarning: 'circle() method with size value' was deprecated in Bokeh 3.4.0 and will be removed, use 'scatter(size=...) instead' instead.\n",
      "2024-07-31 08:17:39.107897: I external/local_tsl/tsl/profiler/lib/profiler_session.cc:104] Profiler session initializing.\n",
      "2024-07-31 08:17:39.107932: I external/local_tsl/tsl/profiler/lib/profiler_session.cc:119] Profiler session started.\n",
      "2024-07-31 08:17:39.128636: I external/local_tsl/tsl/profiler/lib/profiler_session.cc:131] Profiler session tear down.\n",
      "2024-07-31 08:17:39.135281: I external/local_xla/xla/backends/profiler/gpu/cupti_tracer.cc:1364] CUPTI activity buffer flushed\n"
     ]
    },
    {
     "name": "stdout",
     "output_type": "stream",
     "text": [
      "\u001b[1m313/313\u001b[0m \u001b[32m━━━━━━━━━━━━━━━━━━━━\u001b[0m\u001b[37m\u001b[0m \u001b[1m1s\u001b[0m 1ms/step\n"
     ]
    },
    {
     "name": "stderr",
     "output_type": "stream",
     "text": [
      "/opt/conda/envs/QML-QPF/lib/python3.10/site-packages/keras/src/saving/saving_lib.py:576: UserWarning: Skipping variable loading for optimizer 'adam', because it has 2 variables whereas the saved optimizer has 6 variables. \n",
      "  saveable.load_own_variables(weights_store.get(inner_path))\n"
     ]
    },
    {
     "name": "stdout",
     "output_type": "stream",
     "text": [
      "\u001b[1m1875/1875\u001b[0m \u001b[32m━━━━━━━━━━━━━━━━━━━━\u001b[0m\u001b[37m\u001b[0m \u001b[1m1s\u001b[0m 732us/step\n",
      "/workspaces/QML-QPF/multiprocessing/output/20240731-075014/visuals/UMAP/FASHIONMNISTFASHIONMNISTqcnot3-2-0-1.html\n"
     ]
    },
    {
     "name": "stderr",
     "output_type": "stream",
     "text": [
      "BokehDeprecationWarning: 'circle() method with size value' was deprecated in Bokeh 3.4.0 and will be removed, use 'scatter(size=...) instead' instead.\n",
      "2024-07-31 08:17:57.067149: I external/local_tsl/tsl/profiler/lib/profiler_session.cc:104] Profiler session initializing.\n",
      "2024-07-31 08:17:57.067185: I external/local_tsl/tsl/profiler/lib/profiler_session.cc:119] Profiler session started.\n",
      "2024-07-31 08:17:57.087569: I external/local_tsl/tsl/profiler/lib/profiler_session.cc:131] Profiler session tear down.\n",
      "2024-07-31 08:17:57.094617: I external/local_xla/xla/backends/profiler/gpu/cupti_tracer.cc:1364] CUPTI activity buffer flushed\n"
     ]
    },
    {
     "name": "stdout",
     "output_type": "stream",
     "text": [
      "\u001b[1m313/313\u001b[0m \u001b[32m━━━━━━━━━━━━━━━━━━━━\u001b[0m\u001b[37m\u001b[0m \u001b[1m1s\u001b[0m 1ms/step\n"
     ]
    },
    {
     "name": "stderr",
     "output_type": "stream",
     "text": [
      "/opt/conda/envs/QML-QPF/lib/python3.10/site-packages/keras/src/saving/saving_lib.py:576: UserWarning: Skipping variable loading for optimizer 'adam', because it has 2 variables whereas the saved optimizer has 6 variables. \n",
      "  saveable.load_own_variables(weights_store.get(inner_path))\n"
     ]
    },
    {
     "name": "stdout",
     "output_type": "stream",
     "text": [
      "\u001b[1m1875/1875\u001b[0m \u001b[32m━━━━━━━━━━━━━━━━━━━━\u001b[0m\u001b[37m\u001b[0m \u001b[1m2s\u001b[0m 1ms/step\n",
      "/workspaces/QML-QPF/multiprocessing/output/20240731-075014/visuals/UMAP/FASHIONMNISTFASHIONMNISTqcnot3-2-1-0.html\n"
     ]
    },
    {
     "name": "stderr",
     "output_type": "stream",
     "text": [
      "BokehDeprecationWarning: 'circle() method with size value' was deprecated in Bokeh 3.4.0 and will be removed, use 'scatter(size=...) instead' instead.\n"
     ]
    },
    {
     "data": {
      "text/plain": [
       "{None: array([3, 2, 1, 0], dtype=uint8)}"
      ]
     },
     "execution_count": 5,
     "metadata": {},
     "output_type": "execute_result"
    }
   ],
   "source": [
    "\n",
    "def UMAP_job(detail):\n",
    "    restored_model = Model(*detail)\n",
    "    restored_model.set_data()\n",
    "    restored_model.prep()\n",
    "    restored_model.load_history()\n",
    "    restored_model.visuals.manifold_umap()\n",
    "\n",
    "{UMAP_job((1,2,clock_start,workdir,m)): m for m in perms}"
   ]
  },
  {
   "cell_type": "code",
   "execution_count": null,
   "metadata": {},
   "outputs": [],
   "source": []
  }
 ],
 "metadata": {
  "kernelspec": {
   "display_name": "QML-QPF",
   "language": "python",
   "name": "python3"
  },
  "language_info": {
   "codemirror_mode": {
    "name": "ipython",
    "version": 3
   },
   "file_extension": ".py",
   "mimetype": "text/x-python",
   "name": "python",
   "nbconvert_exporter": "python",
   "pygments_lexer": "ipython3",
   "version": "3.10.13"
  }
 },
 "nbformat": 4,
 "nbformat_minor": 2
}
