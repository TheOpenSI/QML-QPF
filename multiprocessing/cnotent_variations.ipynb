{
 "cells": [
  {
   "cell_type": "code",
   "execution_count": null,
   "metadata": {},
   "outputs": [],
   "source": [
    "%load_ext tensorboard\n",
    "\n",
    "from concurrent.futures import ProcessPoolExecutor, as_completed\n",
    "from datetime import datetime\n",
    "import pathlib\n",
    "import os\n",
    "import gc\n",
    "from core import Model\n",
    "import numpy as np\n",
    "import math\n",
    "from itertools import permutations\n",
    "\n",
    "os.environ['CUDA_​DEVICE_​ORDER'] = 'PCI_BUS_ID'\n",
    "os.environ['TF_GPU_ALLOCATOR'] = 'cuda_malloc_async'\n",
    "clock_start = datetime.now().strftime(\"%Y%m%d-%H%M%S\")\n",
    "#clock_start = \"20240722-085506\"\n",
    "workdir = str(pathlib.Path().resolve())\n",
    "\n",
    "\n",
    "n = 4\n",
    "cnot_variations = np.empty((math.factorial(n), n), dtype=np.uint8, order='F')\n",
    "cnot_variations[0, 0] = 0\n",
    "\n",
    "rows_to_copy = 1\n",
    "for i in range(1, n):\n",
    "    cnot_variations[:rows_to_copy, i] = i\n",
    "    for j in range(1, i + 1):\n",
    "        start_row = rows_to_copy * j\n",
    "        end_row = rows_to_copy * (j + 1)\n",
    "        splitter = i - j\n",
    "        cnot_variations[start_row: end_row, splitter] = i\n",
    "        cnot_variations[start_row: end_row, :splitter] = cnot_variations[:rows_to_copy, :splitter]\n",
    "        cnot_variations[start_row: end_row, splitter + 1:i + 1] = cnot_variations[:rows_to_copy, splitter:i]\n",
    "\n",
    "    rows_to_copy *= i + 1\n",
    "\n",
    "ent_variations = list(permutations(np.arange(4), 2))"
   ]
  },
  {
   "cell_type": "code",
   "execution_count": null,
   "metadata": {},
   "outputs": [],
   "source": [
    "\n",
    "def frontload_data():\n",
    "    from tensorflow import keras\n",
    "    mnist_dataset = keras.datasets.fashion_mnist\n",
    "    (train_images, train_labels), (test_images, test_labels) = mnist_dataset.load_data()\n",
    "    mnist_dataset = keras.datasets.mnist\n",
    "    (train_images, train_labels), (test_images, test_labels) = mnist_dataset.load_data()\n",
    "\n",
    "def pool_job(input):\n",
    "    this_model = Model(*input)\n",
    "    this_model.set_data()\n",
    "    #this_model.prep()\n",
    "    this_model.prep_ent_cnot_variant(input[-2],input[-1])\n",
    "    this_model.pre_filter()\n",
    "    this_model.fit()\n",
    "    this_model.save_filtered()\n",
    "\n",
    "#to prevent race condition\n",
    "frontload_data()\n",
    "\n",
    "for cnot_var in cnot_variations:\n",
    "    with ProcessPoolExecutor(8) as executor:\n",
    "        runner = {\n",
    "                executor.submit(pool_job, (0,2,clock_start,workdir,cnot_var,m)): m for m in ent_variations\n",
    "            }\n",
    "        for future in as_completed(runner):\n",
    "            runner.pop(future)\n"
   ]
  },
  {
   "cell_type": "code",
   "execution_count": null,
   "metadata": {},
   "outputs": [],
   "source": [
    "\n",
    "#pool_job((0,2,clock_start,workdir,cnot_variations[0],ent_variations[0]))"
   ]
  },
  {
   "cell_type": "code",
   "execution_count": null,
   "metadata": {},
   "outputs": [],
   "source": [
    "\n",
    "def pool_job2(detail):\n",
    "    restored_model = Model(*detail)\n",
    "    restored_model.set_data()\n",
    "    #restored_model.prep()\n",
    "    restored_model.prep_ent_cnot_variant(detail[-2],detail[-1])\n",
    "    restored_model.load_history()\n",
    "    restored_model.visuals.circuit()\n",
    "    restored_model.visuals.weights()\n",
    "    restored_model.visuals.relative_weights()\n",
    "    restored_model.visuals.bias()\n",
    "    restored_model.visuals.relative_bias()\n",
    "    restored_model.visuals.data_samples()\n",
    "    restored_model.visuals.relative_samples()\n",
    "    restored_model.visuals.filtering()\n",
    "\n",
    "\n",
    "for cnot_var in cnot_variations:\n",
    "    with ProcessPoolExecutor(8) as executor:\n",
    "        runner = {\n",
    "                executor.submit(pool_job2, (0,2,clock_start,workdir,cnot_var,m)): m for m in ent_variations\n",
    "            }\n",
    "        for future in as_completed(runner):\n",
    "            runner.pop(future) "
   ]
  },
  {
   "cell_type": "code",
   "execution_count": null,
   "metadata": {},
   "outputs": [],
   "source": [
    "\n",
    "def UMAP_job(detail):\n",
    "    restored_model = Model(*detail)\n",
    "    restored_model.set_data()\n",
    "    restored_model.prep()\n",
    "    restored_model.load_history()\n",
    "    restored_model.visuals.manifold_umap()\n",
    "\n",
    "for cnot_var in cnot_variations:\n",
    "    {UMAP_job((0,2,clock_start,workdir,cnot_var,m)): m for m in ent_variations}"
   ]
  },
  {
   "cell_type": "code",
   "execution_count": null,
   "metadata": {},
   "outputs": [],
   "source": []
  }
 ],
 "metadata": {
  "kernelspec": {
   "display_name": "QML-QPF",
   "language": "python",
   "name": "python3"
  },
  "language_info": {
   "codemirror_mode": {
    "name": "ipython",
    "version": 3
   },
   "file_extension": ".py",
   "mimetype": "text/x-python",
   "name": "python",
   "nbconvert_exporter": "python",
   "pygments_lexer": "ipython3",
   "version": "3.10.13"
  }
 },
 "nbformat": 4,
 "nbformat_minor": 2
}
