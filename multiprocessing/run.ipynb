{
 "cells": [
  {
   "cell_type": "code",
   "execution_count": 1,
   "metadata": {},
   "outputs": [
    {
     "name": "stderr",
     "output_type": "stream",
     "text": [
      "2024-07-22 08:55:04.598661: I tensorflow/core/platform/cpu_feature_guard.cc:210] This TensorFlow binary is optimized to use available CPU instructions in performance-critical operations.\n",
      "To enable the following instructions: AVX2 AVX512F FMA, in other operations, rebuild TensorFlow with the appropriate compiler flags.\n",
      "2024-07-22 08:55:05.262840: W tensorflow/compiler/tf2tensorrt/utils/py_utils.cc:38] TF-TRT Warning: Could not find TensorRT\n"
     ]
    }
   ],
   "source": [
    "%load_ext tensorboard\n",
    "\n",
    "from concurrent.futures import ProcessPoolExecutor, as_completed\n",
    "from datetime import datetime\n",
    "import pathlib\n",
    "import os\n",
    "import gc\n",
    "from core import Model\n",
    "\n",
    "os.environ['CUDA_​DEVICE_​ORDER'] = 'PCI_BUS_ID'\n",
    "os.environ['TF_GPU_ALLOCATOR'] = 'cuda_malloc_async'\n",
    "clock_start = datetime.now().strftime(\"%Y%m%d-%H%M%S\")\n",
    "#clock_start = \"20240722-082650\"\n",
    "workdir = str(pathlib.Path().resolve())\n",
    "\n",
    "models =  [\n",
    "    (0,0, clock_start, workdir),\n",
    "    (0,1,clock_start, workdir),\n",
    "    (0,2,clock_start, workdir),\n",
    "    (0,3,clock_start, workdir),\n",
    "    (1,0,clock_start, workdir),\n",
    "    (1,1,clock_start, workdir),\n",
    "    (1,2,clock_start, workdir),\n",
    "    (1,3,clock_start, workdir)\n",
    "    ]\n"
   ]
  },
  {
   "cell_type": "code",
   "execution_count": 2,
   "metadata": {},
   "outputs": [
    {
     "name": "stderr",
     "output_type": "stream",
     "text": [
      "2024-07-22 08:55:07.364727: I external/local_tsl/tsl/profiler/lib/profiler_session.cc:104] Profiler session initializing.\n",
      "2024-07-22 08:55:07.364991: I external/local_tsl/tsl/profiler/lib/profiler_session.cc:119] Profiler session started.\n",
      "2024-07-22 08:55:07.364895: I external/local_tsl/tsl/profiler/lib/profiler_session.cc:104] Profiler session initializing.\n",
      "2024-07-22 08:55:07.365085: I external/local_tsl/tsl/profiler/lib/profiler_session.cc:119] Profiler session started.\n",
      "2024-07-22 08:55:07.365208: I external/local_tsl/tsl/profiler/lib/profiler_session.cc:104] Profiler session initializing.\n",
      "2024-07-22 08:55:07.365284: I external/local_tsl/tsl/profiler/lib/profiler_session.cc:119] Profiler session started.\n",
      "2024-07-22 08:55:07.365615: I external/local_tsl/tsl/profiler/lib/profiler_session.cc:104] Profiler session initializing.\n",
      "2024-07-22 08:55:07.365669: I external/local_tsl/tsl/profiler/lib/profiler_session.cc:119] Profiler session started.\n",
      "2024-07-22 08:55:07.365716: I external/local_tsl/tsl/profiler/lib/profiler_session.cc:104] Profiler session initializing.\n",
      "2024-07-22 08:55:07.365883: I external/local_tsl/tsl/profiler/lib/profiler_session.cc:119] Profiler session started.\n",
      "2024-07-22 08:55:07.365760: I external/local_tsl/tsl/profiler/lib/profiler_session.cc:104] Profiler session initializing.\n",
      "2024-07-22 08:55:07.365951: I external/local_tsl/tsl/profiler/lib/profiler_session.cc:119] Profiler session started.\n",
      "2024-07-22 08:55:07.366487: I external/local_tsl/tsl/profiler/lib/profiler_session.cc:104] Profiler session initializing.\n",
      "2024-07-22 08:55:07.366686: I external/local_tsl/tsl/profiler/lib/profiler_session.cc:119] Profiler session started.\n",
      "2024-07-22 08:55:07.367072: I external/local_tsl/tsl/profiler/lib/profiler_session.cc:104] Profiler session initializing.\n",
      "2024-07-22 08:55:07.367265: I external/local_tsl/tsl/profiler/lib/profiler_session.cc:119] Profiler session started.\n",
      "2024-07-22 08:55:07.394751: I external/local_xla/xla/backends/profiler/gpu/cupti_tracer.cc:1239] Profiler found 1 GPUs\n",
      "2024-07-22 08:55:07.396001: I external/local_xla/xla/backends/profiler/gpu/cupti_tracer.cc:1239] Profiler found 1 GPUs\n",
      "2024-07-22 08:55:07.396436: I external/local_xla/xla/backends/profiler/gpu/cupti_tracer.cc:1239] Profiler found 1 GPUs\n",
      "2024-07-22 08:55:07.396685: I external/local_xla/xla/backends/profiler/gpu/cupti_tracer.cc:1239] Profiler found 1 GPUs\n",
      "2024-07-22 08:55:07.397244: I external/local_xla/xla/backends/profiler/gpu/cupti_tracer.cc:1239] Profiler found 1 GPUs\n",
      "2024-07-22 08:55:07.397717: I external/local_xla/xla/backends/profiler/gpu/cupti_tracer.cc:1239] Profiler found 1 GPUs\n",
      "2024-07-22 08:55:07.398196: I external/local_xla/xla/backends/profiler/gpu/cupti_tracer.cc:1239] Profiler found 1 GPUs\n",
      "2024-07-22 08:55:07.398368: I external/local_xla/xla/backends/profiler/gpu/cupti_tracer.cc:1239] Profiler found 1 GPUs\n",
      "2024-07-22 08:55:07.417367: I external/local_tsl/tsl/profiler/lib/profiler_session.cc:131] Profiler session tear down.\n",
      "2024-07-22 08:55:07.417509: I external/local_xla/xla/backends/profiler/gpu/cupti_tracer.cc:1364] CUPTI activity buffer flushed\n",
      "2024-07-22 08:55:07.419140: I external/local_tsl/tsl/profiler/lib/profiler_session.cc:131] Profiler session tear down.\n",
      "2024-07-22 08:55:07.419354: I external/local_xla/xla/backends/profiler/gpu/cupti_tracer.cc:1364] CUPTI activity buffer flushed\n",
      "2024-07-22 08:55:07.420109: I external/local_tsl/tsl/profiler/lib/profiler_session.cc:131] Profiler session tear down.\n",
      "2024-07-22 08:55:07.420255: I external/local_xla/xla/backends/profiler/gpu/cupti_tracer.cc:1364] CUPTI activity buffer flushed\n",
      "2024-07-22 08:55:07.420383: I external/local_tsl/tsl/profiler/lib/profiler_session.cc:131] Profiler session tear down.\n",
      "2024-07-22 08:55:07.420574: I external/local_xla/xla/backends/profiler/gpu/cupti_tracer.cc:1364] CUPTI activity buffer flushed\n",
      "2024-07-22 08:55:07.425893: I external/local_tsl/tsl/profiler/lib/profiler_session.cc:131] Profiler session tear down.\n",
      "2024-07-22 08:55:07.426108: I external/local_xla/xla/backends/profiler/gpu/cupti_tracer.cc:1364] CUPTI activity buffer flushed\n",
      "2024-07-22 08:55:07.427093: I external/local_tsl/tsl/profiler/lib/profiler_session.cc:131] Profiler session tear down.\n",
      "2024-07-22 08:55:07.427104: I external/local_tsl/tsl/profiler/lib/profiler_session.cc:131] Profiler session tear down.\n",
      "2024-07-22 08:55:07.427144: I external/local_tsl/tsl/profiler/lib/profiler_session.cc:131] Profiler session tear down.\n",
      "2024-07-22 08:55:07.427237: I external/local_xla/xla/backends/profiler/gpu/cupti_tracer.cc:1364] CUPTI activity buffer flushed\n",
      "2024-07-22 08:55:07.427255: I external/local_xla/xla/backends/profiler/gpu/cupti_tracer.cc:1364] CUPTI activity buffer flushed\n",
      "2024-07-22 08:55:07.427318: I external/local_xla/xla/backends/profiler/gpu/cupti_tracer.cc:1364] CUPTI activity buffer flushed\n",
      "2024-07-22 08:55:07.968218: I tensorflow/core/common_runtime/gpu/gpu_process_state.cc:238] Using CUDA malloc Async allocator for GPU: 0\n",
      "2024-07-22 08:55:07.970675: I tensorflow/core/common_runtime/gpu/gpu_device.cc:1928] Created device /job:localhost/replica:0/task:0/device:GPU:0 with 6707 MB memory:  -> device: 0, name: NVIDIA GeForce RTX 2080, pci bus id: 0000:b3:00.0, compute capability: 7.5\n",
      "2024-07-22 08:55:08.027250: I tensorflow/core/common_runtime/gpu/gpu_process_state.cc:238] Using CUDA malloc Async allocator for GPU: 0\n",
      "2024-07-22 08:55:08.030065: I tensorflow/core/common_runtime/gpu/gpu_device.cc:1928] Created device /job:localhost/replica:0/task:0/device:GPU:0 with 6617 MB memory:  -> device: 0, name: NVIDIA GeForce RTX 2080, pci bus id: 0000:b3:00.0, compute capability: 7.5\n",
      "2024-07-22 08:55:08.085039: I tensorflow/core/common_runtime/gpu/gpu_process_state.cc:238] Using CUDA malloc Async allocator for GPU: 0\n",
      "2024-07-22 08:55:08.085890: I tensorflow/core/common_runtime/gpu/gpu_process_state.cc:238] Using CUDA malloc Async allocator for GPU: 0\n",
      "2024-07-22 08:55:08.085899: I tensorflow/core/common_runtime/gpu/gpu_device.cc:1928] Created device /job:localhost/replica:0/task:0/device:GPU:0 with 6335 MB memory:  -> device: 0, name: NVIDIA GeForce RTX 2080, pci bus id: 0000:b3:00.0, compute capability: 7.5\n",
      "2024-07-22 08:55:08.087367: I tensorflow/core/common_runtime/gpu/gpu_device.cc:1928] Created device /job:localhost/replica:0/task:0/device:GPU:0 with 6333 MB memory:  -> device: 0, name: NVIDIA GeForce RTX 2080, pci bus id: 0000:b3:00.0, compute capability: 7.5\n",
      "2024-07-22 08:55:08.096672: I tensorflow/core/common_runtime/gpu/gpu_process_state.cc:238] Using CUDA malloc Async allocator for GPU: 0\n",
      "2024-07-22 08:55:08.096810: I tensorflow/core/common_runtime/gpu/gpu_process_state.cc:238] Using CUDA malloc Async allocator for GPU: 0\n",
      "2024-07-22 08:55:08.097056: I tensorflow/core/common_runtime/gpu/gpu_device.cc:1928] Created device /job:localhost/replica:0/task:0/device:GPU:0 with 6145 MB memory:  -> device: 0, name: NVIDIA GeForce RTX 2080, pci bus id: 0000:b3:00.0, compute capability: 7.5\n",
      "2024-07-22 08:55:08.097174: I tensorflow/core/common_runtime/gpu/gpu_device.cc:1928] Created device /job:localhost/replica:0/task:0/device:GPU:0 with 6145 MB memory:  -> device: 0, name: NVIDIA GeForce RTX 2080, pci bus id: 0000:b3:00.0, compute capability: 7.5\n",
      "2024-07-22 08:55:08.157346: I tensorflow/core/common_runtime/gpu/gpu_process_state.cc:238] Using CUDA malloc Async allocator for GPU: 0\n",
      "2024-07-22 08:55:08.157829: I tensorflow/core/common_runtime/gpu/gpu_device.cc:1928] Created device /job:localhost/replica:0/task:0/device:GPU:0 with 5961 MB memory:  -> device: 0, name: NVIDIA GeForce RTX 2080, pci bus id: 0000:b3:00.0, compute capability: 7.5\n",
      "2024-07-22 08:55:08.183114: I tensorflow/core/common_runtime/gpu/gpu_process_state.cc:238] Using CUDA malloc Async allocator for GPU: 0\n",
      "2024-07-22 08:55:08.184004: I tensorflow/core/common_runtime/gpu/gpu_device.cc:1928] Created device /job:localhost/replica:0/task:0/device:GPU:0 with 5833 MB memory:  -> device: 0, name: NVIDIA GeForce RTX 2080, pci bus id: 0000:b3:00.0, compute capability: 7.5\n",
      "/opt/conda/envs/QML-QPF/lib/python3.10/site-packages/pennylane/math/utils.py:227: UserWarning: Contains tensors of types {'tensorflow', 'autograd'}; dispatch will prioritize TensorFlow, PyTorch, and  Jax over Autograd. Consider replacing Autograd with vanilla NumPy.\n",
      "  warnings.warn(\n",
      "/opt/conda/envs/QML-QPF/lib/python3.10/site-packages/pennylane/math/utils.py:227: UserWarning: Contains tensors of types {'tensorflow', 'autograd'}; dispatch will prioritize TensorFlow, PyTorch, and  Jax over Autograd. Consider replacing Autograd with vanilla NumPy.\n",
      "  warnings.warn(\n"
     ]
    },
    {
     "name": "stdout",
     "output_type": "stream",
     "text": [
      "\u001b[1m 38/118\u001b[0m \u001b[32m━━━━━━\u001b[0m\u001b[37m━━━━━━━━━━━━━━\u001b[0m \u001b[1m0s\u001b[0m 1ms/step   "
     ]
    },
    {
     "name": "stderr",
     "output_type": "stream",
     "text": [
      "WARNING: All log messages before absl::InitializeLog() is called are written to STDERR\n",
      "I0000 00:00:1721638508.649082    1435 service.cc:145] XLA service 0x7c14e8014410 initialized for platform CUDA (this does not guarantee that XLA will be used). Devices:\n",
      "I0000 00:00:1721638508.649137    1435 service.cc:153]   StreamExecutor device (0): NVIDIA GeForce RTX 2080, Compute Capability 7.5\n",
      "2024-07-22 08:55:08.698100: I external/local_xla/xla/stream_executor/cuda/cuda_dnn.cc:465] Loaded cuDNN version 8907\n",
      "WARNING: All log messages before absl::InitializeLog() is called are written to STDERR\n",
      "I0000 00:00:1721638508.721546    1390 service.cc:145] XLA service 0x7c14ec014060 initialized for platform CUDA (this does not guarantee that XLA will be used). Devices:\n",
      "I0000 00:00:1721638508.721592    1390 service.cc:153]   StreamExecutor device (0): NVIDIA GeForce RTX 2080, Compute Capability 7.5\n",
      "2024-07-22 08:55:08.770029: I external/local_xla/xla/stream_executor/cuda/cuda_dnn.cc:465] Loaded cuDNN version 8907\n",
      "I0000 00:00:1721638508.786126    1435 device_compiler.h:188] Compiled cluster using XLA!  This line is logged at most once for the lifetime of the process.\n",
      "I0000 00:00:1721638508.848608    1390 device_compiler.h:188] Compiled cluster using XLA!  This line is logged at most once for the lifetime of the process.\n"
     ]
    },
    {
     "name": "stdout",
     "output_type": "stream",
     "text": [
      "\u001b[1m118/118\u001b[0m \u001b[32m━━━━━━━━━━━━━━━━━━━━\u001b[0m\u001b[37m\u001b[0m \u001b[1m1s\u001b[0m 3ms/step\n",
      "\u001b[1m118/118\u001b[0m \u001b[32m━━━━━━━━━━━━━━━━━━━━\u001b[0m\u001b[37m\u001b[0m \u001b[1m1s\u001b[0m 3ms/step\n",
      "\u001b[1m20/20\u001b[0m \u001b[32m━━━━━━━━━━━━━━━━━━━━\u001b[0m\u001b[37m\u001b[0m \u001b[1m0s\u001b[0m 6ms/step\n",
      "\u001b[1m20/20\u001b[0m \u001b[32m━━━━━━━━━━━━━━━━━━━━\u001b[0m\u001b[37m\u001b[0m \u001b[1m0s\u001b[0m 6ms/step\n"
     ]
    },
    {
     "name": "stderr",
     "output_type": "stream",
     "text": [
      "WARNING: All log messages before absl::InitializeLog() is called are written to STDERR\n",
      "I0000 00:00:1721638510.098674    1450 service.cc:145] XLA service 0x7c14f0013e40 initialized for platform CUDA (this does not guarantee that XLA will be used). Devices:\n",
      "I0000 00:00:1721638510.098723    1450 service.cc:153]   StreamExecutor device (0): NVIDIA GeForce RTX 2080, Compute Capability 7.5\n",
      "WARNING: All log messages before absl::InitializeLog() is called are written to STDERR\n",
      "I0000 00:00:1721638510.113484    1408 service.cc:145] XLA service 0x7c14f8013e80 initialized for platform CUDA (this does not guarantee that XLA will be used). Devices:\n",
      "I0000 00:00:1721638510.113521    1408 service.cc:153]   StreamExecutor device (0): NVIDIA GeForce RTX 2080, Compute Capability 7.5\n",
      "2024-07-22 08:55:10.150092: I tensorflow/compiler/mlir/tensorflow/utils/dump_mlir_util.cc:268] disabling MLIR crash reproducer, set env var `MLIR_CRASH_REPRODUCER_DIRECTORY` to enable.\n",
      "2024-07-22 08:55:10.150813: I tensorflow/compiler/mlir/tensorflow/utils/dump_mlir_util.cc:268] disabling MLIR crash reproducer, set env var `MLIR_CRASH_REPRODUCER_DIRECTORY` to enable.\n",
      "WARNING: All log messages before absl::InitializeLog() is called are written to STDERR\n",
      "I0000 00:00:1721638510.256102    1421 service.cc:145] XLA service 0x7c14f4013e70 initialized for platform CUDA (this does not guarantee that XLA will be used). Devices:\n",
      "I0000 00:00:1721638510.256150    1421 service.cc:153]   StreamExecutor device (0): NVIDIA GeForce RTX 2080, Compute Capability 7.5\n",
      "2024-07-22 08:55:10.262981: I external/local_xla/xla/stream_executor/cuda/cuda_dnn.cc:465] Loaded cuDNN version 8907\n",
      "2024-07-22 08:55:10.300060: I external/local_xla/xla/stream_executor/cuda/cuda_dnn.cc:465] Loaded cuDNN version 8907\n",
      "2024-07-22 08:55:10.313249: I tensorflow/compiler/mlir/tensorflow/utils/dump_mlir_util.cc:268] disabling MLIR crash reproducer, set env var `MLIR_CRASH_REPRODUCER_DIRECTORY` to enable.\n",
      "WARNING: All log messages before absl::InitializeLog() is called are written to STDERR\n",
      "I0000 00:00:1721638510.355578    1467 service.cc:145] XLA service 0x7c14f8014060 initialized for platform CUDA (this does not guarantee that XLA will be used). Devices:\n",
      "I0000 00:00:1721638510.355624    1467 service.cc:153]   StreamExecutor device (0): NVIDIA GeForce RTX 2080, Compute Capability 7.5\n",
      "2024-07-22 08:55:10.393751: I tensorflow/compiler/mlir/tensorflow/utils/dump_mlir_util.cc:268] disabling MLIR crash reproducer, set env var `MLIR_CRASH_REPRODUCER_DIRECTORY` to enable.\n",
      "2024-07-22 08:55:10.452173: I external/local_xla/xla/stream_executor/cuda/cuda_dnn.cc:465] Loaded cuDNN version 8907\n",
      "WARNING: All log messages before absl::InitializeLog() is called are written to STDERR\n",
      "I0000 00:00:1721638510.460525    1373 service.cc:145] XLA service 0x7c14f4002700 initialized for platform CUDA (this does not guarantee that XLA will be used). Devices:\n",
      "I0000 00:00:1721638510.460572    1373 service.cc:153]   StreamExecutor device (0): NVIDIA GeForce RTX 2080, Compute Capability 7.5\n",
      "2024-07-22 08:55:10.502996: I external/local_xla/xla/stream_executor/cuda/cuda_dnn.cc:465] Loaded cuDNN version 8907\n"
     ]
    },
    {
     "name": "stdout",
     "output_type": "stream",
     "text": [
      "Epoch 1/30\n",
      "Epoch 1/30\n"
     ]
    },
    {
     "name": "stderr",
     "output_type": "stream",
     "text": [
      "2024-07-22 08:55:10.520087: I tensorflow/compiler/mlir/tensorflow/utils/dump_mlir_util.cc:268] disabling MLIR crash reproducer, set env var `MLIR_CRASH_REPRODUCER_DIRECTORY` to enable.\n",
      "2024-07-22 08:55:10.540470: I external/local_tsl/tsl/profiler/lib/profiler_session.cc:104] Profiler session initializing.\n",
      "2024-07-22 08:55:10.540519: I external/local_tsl/tsl/profiler/lib/profiler_session.cc:119] Profiler session started.\n",
      "2024-07-22 08:55:10.552433: I external/local_tsl/tsl/profiler/lib/profiler_session.cc:104] Profiler session initializing.\n",
      "2024-07-22 08:55:10.552483: I external/local_tsl/tsl/profiler/lib/profiler_session.cc:119] Profiler session started.\n",
      "2024-07-22 08:55:10.613019: I external/local_xla/xla/stream_executor/cuda/cuda_dnn.cc:465] Loaded cuDNN version 8907\n",
      "WARNING: All log messages before absl::InitializeLog() is called are written to STDERR\n",
      "I0000 00:00:1721638510.658810    1482 service.cc:145] XLA service 0x7c14f8013eb0 initialized for platform CUDA (this does not guarantee that XLA will be used). Devices:\n",
      "I0000 00:00:1721638510.658893    1482 service.cc:153]   StreamExecutor device (0): NVIDIA GeForce RTX 2080, Compute Capability 7.5\n",
      "2024-07-22 08:55:10.706800: I tensorflow/compiler/mlir/tensorflow/utils/dump_mlir_util.cc:268] disabling MLIR crash reproducer, set env var `MLIR_CRASH_REPRODUCER_DIRECTORY` to enable.\n",
      "2024-07-22 08:55:10.804486: I external/local_xla/xla/stream_executor/cuda/cuda_dnn.cc:465] Loaded cuDNN version 8907\n",
      "2024-07-22 08:55:11.104877: I tensorflow/compiler/mlir/tensorflow/utils/dump_mlir_util.cc:268] disabling MLIR crash reproducer, set env var `MLIR_CRASH_REPRODUCER_DIRECTORY` to enable.\n",
      "2024-07-22 08:55:11.111697: I tensorflow/compiler/mlir/tensorflow/utils/dump_mlir_util.cc:268] disabling MLIR crash reproducer, set env var `MLIR_CRASH_REPRODUCER_DIRECTORY` to enable.\n"
     ]
    },
    {
     "name": "stdout",
     "output_type": "stream",
     "text": [
      "\u001b[1m  2/118\u001b[0m \u001b[37m━━━━━━━━━━━━━━━━━━━━\u001b[0m \u001b[1m9s\u001b[0m 78ms/step"
     ]
    },
    {
     "name": "stderr",
     "output_type": "stream",
     "text": [
      "2024-07-22 08:55:12.057265: I external/local_tsl/tsl/profiler/lib/profiler_session.cc:70] Profiler session collecting data.\n",
      "2024-07-22 08:55:12.059455: I external/local_xla/xla/backends/profiler/gpu/cupti_tracer.cc:1364] CUPTI activity buffer flushed\n",
      "2024-07-22 08:55:12.069393: I external/local_xla/xla/backends/profiler/gpu/cupti_collector.cc:540]  GpuTracer has collected 2049 callback api events and 1705 activity events. \n",
      "2024-07-22 08:55:12.083018: I external/local_tsl/tsl/profiler/lib/profiler_session.cc:131] Profiler session tear down.\n",
      "2024-07-22 08:55:12.084939: I external/local_tsl/tsl/profiler/rpc/client/save_profile.cc:144] Collecting XSpace to repository: /workspaces/QML-QPF/multiprocessing/output/20240722-085506/runs/FASHIONMNIST/FASHIONMNISTno_filter/plugins/profile/2024_07_22_08_55_12/1ba22281c77a.xplane.pb\n",
      "2024-07-22 08:55:12.091842: I external/local_tsl/tsl/profiler/lib/profiler_session.cc:70] Profiler session collecting data.\n",
      "2024-07-22 08:55:12.094124: I external/local_xla/xla/backends/profiler/gpu/cupti_tracer.cc:1364] CUPTI activity buffer flushed\n",
      "I0000 00:00:1721638512.097421    1408 device_compiler.h:188] Compiled cluster using XLA!  This line is logged at most once for the lifetime of the process.\n",
      "2024-07-22 08:55:12.103808: I external/local_xla/xla/backends/profiler/gpu/cupti_collector.cc:540]  GpuTracer has collected 2049 callback api events and 1705 activity events. \n",
      "2024-07-22 08:55:12.118144: I external/local_tsl/tsl/profiler/lib/profiler_session.cc:131] Profiler session tear down.\n",
      "2024-07-22 08:55:12.119419: I external/local_tsl/tsl/profiler/rpc/client/save_profile.cc:144] Collecting XSpace to repository: /workspaces/QML-QPF/multiprocessing/output/20240722-085506/runs/MNIST/MNISTno_filter/plugins/profile/2024_07_22_08_55_12/1ba22281c77a.xplane.pb\n"
     ]
    },
    {
     "name": "stdout",
     "output_type": "stream",
     "text": [
      "\u001b[1m  1/118\u001b[0m \u001b[37m━━━━━━━━━━━━━━━━━━━━\u001b[0m \u001b[1m8:58\u001b[0m 5s/step79ms/step"
     ]
    },
    {
     "name": "stderr",
     "output_type": "stream",
     "text": [
      "I0000 00:00:1721638512.867891    1450 device_compiler.h:188] Compiled cluster using XLA!  This line is logged at most once for the lifetime of the process.\n",
      "I0000 00:00:1721638512.903250    1421 device_compiler.h:188] Compiled cluster using XLA!  This line is logged at most once for the lifetime of the process.\n",
      "I0000 00:00:1721638513.021019    1373 device_compiler.h:188] Compiled cluster using XLA!  This line is logged at most once for the lifetime of the process.\n"
     ]
    },
    {
     "name": "stdout",
     "output_type": "stream",
     "text": [
      "\u001b[1m  1/118\u001b[0m \u001b[37m━━━━━━━━━━━━━━━━━━━━\u001b[0m \u001b[1m9:31\u001b[0m 5s/stepepms/st"
     ]
    },
    {
     "name": "stderr",
     "output_type": "stream",
     "text": [
      "I0000 00:00:1721638513.144390    1482 device_compiler.h:188] Compiled cluster using XLA!  This line is logged at most once for the lifetime of the process.\n",
      "I0000 00:00:1721638513.195498    1467 device_compiler.h:188] Compiled cluster using XLA!  This line is logged at most once for the lifetime of the process.\n"
     ]
    },
    {
     "name": "stdout",
     "output_type": "stream",
     "text": [
      "\u001b[1m 34/118\u001b[0m \u001b[32m━━━━━\u001b[0m\u001b[37m━━━━━━━━━━━━━━━\u001b[0m \u001b[1m36s\u001b[0m 438ms/step118/118 - 17s - 143ms/step - accuracy: 0.7249 - loss: 0.8064 - val_accuracy: 0.7882 - val_loss: 0.6023\n",
      "Epoch 2/30\n",
      "\u001b[1m 29/118\u001b[0m \u001b[32m━━━━\u001b[0m\u001b[37m━━━━━━━━━━━━━━━━\u001b[0m \u001b[1m48s\u001b[0m 542ms/step118/118 - 18s - 149ms/step - accuracy: 0.7241 - loss: 0.9368 - val_accuracy: 0.8735 - val_loss: 0.4821\n",
      "Epoch 2/30\n",
      "\u001b[1m 52/118\u001b[0m \u001b[32m━━━━━━━━\u001b[0m\u001b[37m━━━━━━━━━━━━\u001b[0m \u001b[1m36s\u001b[0m 547ms/step118/118 - 13s - 114ms/step - accuracy: 0.8138 - loss: 0.5409 - val_accuracy: 0.8113 - val_loss: 0.5381\n",
      "\u001b[1m 64/118\u001b[0m \u001b[32m━━━━━━━━━━\u001b[0m\u001b[37m━━━━━━━━━━\u001b[0m \u001b[1m23s\u001b[0m 443ms/stepEpoch 3/30\n",
      "\u001b[1m 66/118\u001b[0m \u001b[32m━━━━━━━━━━━\u001b[0m\u001b[37m━━━━━━━━━\u001b[0m \u001b[1m22s\u001b[0m 441ms/step118/118 - 13s - 114ms/step - accuracy: 0.8762 - loss: 0.4480 - val_accuracy: 0.8960 - val_loss: 0.3787\n",
      "Epoch 3/30\n",
      "\u001b[1m 94/118\u001b[0m \u001b[32m━━━━━━━━━━━━━━━\u001b[0m\u001b[37m━━━━━\u001b[0m \u001b[1m10s\u001b[0m 444ms/step118/118 - 14s - 114ms/step - accuracy: 0.8290 - loss: 0.4949 - val_accuracy: 0.8208 - val_loss: 0.5101\n",
      "Epoch 4/30\n",
      "\u001b[1m 96/118\u001b[0m \u001b[32m━━━━━━━━━━━━━━━━\u001b[0m\u001b[37m━━━━\u001b[0m \u001b[1m9s\u001b[0m 442ms/step 118/118 - 13s - 114ms/step - accuracy: 0.8926 - loss: 0.3816 - val_accuracy: 0.9043 - val_loss: 0.3414\n",
      "Epoch 4/30\n",
      "\u001b[1m118/118\u001b[0m \u001b[32m━━━━━━━━━━━━━━━━━━━━\u001b[0m\u001b[37m\u001b[0m \u001b[1m56s\u001b[0m 442ms/step\n",
      "\u001b[1m101/118\u001b[0m \u001b[32m━━━━━━━━━━━━━━━━━\u001b[0m\u001b[37m━━━\u001b[0m \u001b[1m8s\u001b[0m 529ms/step118/118 - 11s - 97ms/step - accuracy: 0.8374 - loss: 0.4708 - val_accuracy: 0.8267 - val_loss: 0.4937\n",
      "Epoch 5/30\n",
      "\u001b[1m102/118\u001b[0m \u001b[32m━━━━━━━━━━━━━━━━━\u001b[0m\u001b[37m━━━\u001b[0m \u001b[1m8s\u001b[0m 527ms/step118/118 - 11s - 94ms/step - accuracy: 0.9003 - loss: 0.3514 - val_accuracy: 0.9077 - val_loss: 0.3221\n",
      "Epoch 5/30\n",
      "\u001b[1m118/118\u001b[0m \u001b[32m━━━━━━━━━━━━━━━━━━━━\u001b[0m\u001b[37m\u001b[0m \u001b[1m59s\u001b[0m 465ms/step\n",
      "\u001b[1m118/118\u001b[0m \u001b[32m━━━━━━━━━━━━━━━━━━━━\u001b[0m\u001b[37m\u001b[0m \u001b[1m59s\u001b[0m 465ms/step\n",
      "\u001b[1m118/118\u001b[0m \u001b[32m━━━━━━━━━━━━━━━━━━━━\u001b[0m\u001b[37m\u001b[0m \u001b[1m59s\u001b[0m 465ms/step\n",
      "\u001b[1m20/20\u001b[0m \u001b[32m━━━━━━━━━━━━━━━━━━━━\u001b[0m\u001b[37m\u001b[0m \u001b[1m9s\u001b[0m 458ms/step\n",
      "\u001b[1m17/20\u001b[0m \u001b[32m━━━━━━━━━━━━━━━━━\u001b[0m\u001b[37m━━━\u001b[0m \u001b[1m1s\u001b[0m 380ms/stepEpoch 1/30\n",
      "\u001b[1m17/20\u001b[0m \u001b[32m━━━━━━━━━━━━━━━━━\u001b[0m\u001b[37m━━━\u001b[0m \u001b[1m1s\u001b[0m 379ms/step"
     ]
    },
    {
     "name": "stderr",
     "output_type": "stream",
     "text": [
      "2024-07-22 08:56:13.945100: I external/local_tsl/tsl/profiler/lib/profiler_session.cc:104] Profiler session initializing.\n",
      "2024-07-22 08:56:13.945149: I external/local_tsl/tsl/profiler/lib/profiler_session.cc:119] Profiler session started.\n"
     ]
    },
    {
     "name": "stdout",
     "output_type": "stream",
     "text": [
      "\u001b[1m19/20\u001b[0m \u001b[32m━━━━━━━━━━━━━━━━━━━\u001b[0m\u001b[37m━\u001b[0m \u001b[1m0s\u001b[0m 364ms/step118/118 - 9s - 76ms/step - accuracy: 0.8430 - loss: 0.4555 - val_accuracy: 0.8308 - val_loss: 0.4830\n",
      "Epoch 6/30\n",
      "118/118 - 9s - 75ms/step - accuracy: 0.9053 - loss: 0.3335 - val_accuracy: 0.9117 - val_loss: 0.3102\n",
      "Epoch 6/30\n"
     ]
    },
    {
     "name": "stderr",
     "output_type": "stream",
     "text": [
      "2024-07-22 08:56:15.097753: I external/local_tsl/tsl/profiler/lib/profiler_session.cc:70] Profiler session collecting data.\n",
      "2024-07-22 08:56:15.104031: I external/local_xla/xla/backends/profiler/gpu/cupti_tracer.cc:1364] CUPTI activity buffer flushed\n",
      "2024-07-22 08:56:15.115185: I external/local_xla/xla/backends/profiler/gpu/cupti_collector.cc:540]  GpuTracer has collected 2047 callback api events and 1706 activity events. \n",
      "2024-07-22 08:56:15.127470: I external/local_tsl/tsl/profiler/lib/profiler_session.cc:131] Profiler session tear down.\n",
      "2024-07-22 08:56:15.128304: I external/local_tsl/tsl/profiler/rpc/client/save_profile.cc:144] Collecting XSpace to repository: /workspaces/QML-QPF/multiprocessing/output/20240722-085506/runs/FASHIONMNIST/FASHIONMNISTqentcnot/plugins/profile/2024_07_22_08_56_15/1ba22281c77a.xplane.pb\n"
     ]
    },
    {
     "name": "stdout",
     "output_type": "stream",
     "text": [
      "118/118 - 1s - 9ms/step - accuracy: 0.8470 - loss: 0.4446 - val_accuracy: 0.8339 - val_loss: 0.4754\n",
      "Epoch 7/30\n",
      "\u001b[1m118/118\u001b[0m \u001b[32m━━━━━━━━━━━━━━━━━━━━\u001b[0m\u001b[37m\u001b[0m \u001b[1m68s\u001b[0m 544ms/step\n",
      "118/118 - 1s - 6ms/step - accuracy: 0.8496 - loss: 0.4364 - val_accuracy: 0.8360 - val_loss: 0.4697\n",
      "Epoch 8/30\n",
      "\u001b[1m20/20\u001b[0m \u001b[32m━━━━━━━━━━━━━━━━━━━━\u001b[0m\u001b[37m\u001b[0m \u001b[1m9s\u001b[0m 485ms/step\n",
      "\u001b[1m20/20\u001b[0m \u001b[32m━━━━━━━━━━━━━━━━━━━━\u001b[0m\u001b[37m\u001b[0m \u001b[1m9s\u001b[0m 490ms/step\n",
      "\u001b[1m20/20\u001b[0m \u001b[32m━━━━━━━━━━━━━━━━━━━━\u001b[0m\u001b[37m\u001b[0m \u001b[1m9s\u001b[0m 480ms/step\n",
      "\u001b[1m 3/20\u001b[0m \u001b[32m━━━\u001b[0m\u001b[37m━━━━━━━━━━━━━━━━━\u001b[0m \u001b[1m2s\u001b[0m 138ms/step118/118 - 3s - 28ms/step - accuracy: 0.6936 - loss: 0.9008 - val_accuracy: 0.7801 - val_loss: 0.6278\n",
      "Epoch 2/30\n",
      "\u001b[1m118/118\u001b[0m \u001b[32m━━━━━━━━━━━━━━━━━━━━\u001b[0m\u001b[37m\u001b[0m \u001b[1m69s\u001b[0m 547ms/step\n",
      "\u001b[1m 8/20\u001b[0m \u001b[32m━━━━━━━━\u001b[0m\u001b[37m━━━━━━━━━━━━\u001b[0m \u001b[1m1s\u001b[0m 138ms/step118/118 - 3s - 26ms/step - accuracy: 0.9087 - loss: 0.3216 - val_accuracy: 0.9146 - val_loss: 0.3023\n",
      "Epoch 7/30\n",
      "\u001b[1m 3/20\u001b[0m \u001b[32m━━━\u001b[0m\u001b[37m━━━━━━━━━━━━━━━━━\u001b[0m \u001b[1m3s\u001b[0m 194ms/stepEpoch 1/30\n",
      "Epoch 1/30\n",
      "\u001b[1m 9/20\u001b[0m \u001b[32m━━━━━━━━━\u001b[0m\u001b[37m━━━━━━━━━━━\u001b[0m \u001b[1m1s\u001b[0m 145ms/stepEpoch 1/30\n",
      "\u001b[1m 4/20\u001b[0m \u001b[32m━━━━\u001b[0m\u001b[37m━━━━━━━━━━━━━━━━\u001b[0m \u001b[1m3s\u001b[0m 196ms/step"
     ]
    },
    {
     "name": "stderr",
     "output_type": "stream",
     "text": [
      "2024-07-22 08:56:18.038730: I external/local_tsl/tsl/profiler/lib/profiler_session.cc:104] Profiler session initializing.\n",
      "2024-07-22 08:56:18.038780: I external/local_tsl/tsl/profiler/lib/profiler_session.cc:119] Profiler session started.\n",
      "2024-07-22 08:56:18.050099: I external/local_tsl/tsl/profiler/lib/profiler_session.cc:104] Profiler session initializing.\n",
      "2024-07-22 08:56:18.050152: I external/local_tsl/tsl/profiler/lib/profiler_session.cc:119] Profiler session started.\n",
      "2024-07-22 08:56:18.069722: I external/local_tsl/tsl/profiler/lib/profiler_session.cc:104] Profiler session initializing.\n",
      "2024-07-22 08:56:18.069757: I external/local_tsl/tsl/profiler/lib/profiler_session.cc:119] Profiler session started.\n"
     ]
    },
    {
     "name": "stdout",
     "output_type": "stream",
     "text": [
      "\u001b[1m16/20\u001b[0m \u001b[32m━━━━━━━━━━━━━━━━\u001b[0m\u001b[37m━━━━\u001b[0m \u001b[1m0s\u001b[0m 178ms/step118/118 - 3s - 26ms/step - accuracy: 0.8518 - loss: 0.4300 - val_accuracy: 0.8367 - val_loss: 0.4654\n",
      "Epoch 9/30\n",
      "\u001b[1m15/20\u001b[0m \u001b[32m━━━━━━━━━━━━━━━\u001b[0m\u001b[37m━━━━━\u001b[0m \u001b[1m1s\u001b[0m 206ms/step"
     ]
    },
    {
     "name": "stderr",
     "output_type": "stream",
     "text": [
      "2024-07-22 08:56:20.345439: I external/local_tsl/tsl/profiler/lib/profiler_session.cc:70] Profiler session collecting data.\n",
      "2024-07-22 08:56:20.350629: I external/local_xla/xla/backends/profiler/gpu/cupti_tracer.cc:1364] CUPTI activity buffer flushed\n",
      "2024-07-22 08:56:20.362081: I external/local_xla/xla/backends/profiler/gpu/cupti_collector.cc:540]  GpuTracer has collected 2045 callback api events and 1705 activity events. \n",
      "2024-07-22 08:56:20.373293: I external/local_tsl/tsl/profiler/lib/profiler_session.cc:131] Profiler session tear down.\n",
      "2024-07-22 08:56:20.374122: I external/local_tsl/tsl/profiler/rpc/client/save_profile.cc:144] Collecting XSpace to repository: /workspaces/QML-QPF/multiprocessing/output/20240722-085506/runs/MNIST/MNISTqentcnot/plugins/profile/2024_07_22_08_56_20/1ba22281c77a.xplane.pb\n",
      "2024-07-22 08:56:20.375052: I external/local_tsl/tsl/profiler/lib/profiler_session.cc:70] Profiler session collecting data.\n",
      "2024-07-22 08:56:20.381296: I external/local_xla/xla/backends/profiler/gpu/cupti_tracer.cc:1364] CUPTI activity buffer flushed\n",
      "2024-07-22 08:56:20.385834: I external/local_tsl/tsl/profiler/lib/profiler_session.cc:70] Profiler session collecting data.\n",
      "2024-07-22 08:56:20.391571: I external/local_xla/xla/backends/profiler/gpu/cupti_tracer.cc:1364] CUPTI activity buffer flushed\n",
      "2024-07-22 08:56:20.392793: I external/local_xla/xla/backends/profiler/gpu/cupti_collector.cc:540]  GpuTracer has collected 2045 callback api events and 1705 activity events. \n",
      "2024-07-22 08:56:20.400678: I external/local_xla/xla/backends/profiler/gpu/cupti_collector.cc:540]  GpuTracer has collected 2045 callback api events and 1705 activity events. \n",
      "2024-07-22 08:56:20.407357: I external/local_tsl/tsl/profiler/lib/profiler_session.cc:131] Profiler session tear down.\n",
      "2024-07-22 08:56:20.408243: I external/local_tsl/tsl/profiler/rpc/client/save_profile.cc:144] Collecting XSpace to repository: /workspaces/QML-QPF/multiprocessing/output/20240722-085506/runs/MNIST/MNISTqcnot/plugins/profile/2024_07_22_08_56_20/1ba22281c77a.xplane.pb\n",
      "2024-07-22 08:56:20.411174: I external/local_tsl/tsl/profiler/lib/profiler_session.cc:131] Profiler session tear down.\n",
      "2024-07-22 08:56:20.412385: I external/local_tsl/tsl/profiler/rpc/client/save_profile.cc:144] Collecting XSpace to repository: /workspaces/QML-QPF/multiprocessing/output/20240722-085506/runs/FASHIONMNIST/FASHIONMNISTqcnot/plugins/profile/2024_07_22_08_56_20/1ba22281c77a.xplane.pb\n"
     ]
    },
    {
     "name": "stdout",
     "output_type": "stream",
     "text": [
      "\u001b[1m19/20\u001b[0m \u001b[32m━━━━━━━━━━━━━━━━━━━\u001b[0m\u001b[37m━\u001b[0m \u001b[1m0s\u001b[0m 194ms/step118/118 - 4s - 35ms/step - accuracy: 0.8069 - loss: 0.5587 - val_accuracy: 0.8082 - val_loss: 0.5433\n",
      "Epoch 3/30\n",
      "118/118 - 4s - 31ms/step - accuracy: 0.9113 - loss: 0.3130 - val_accuracy: 0.9165 - val_loss: 0.2967\n",
      "Epoch 8/30\n",
      "118/118 - 2s - 19ms/step - accuracy: 0.8535 - loss: 0.4247 - val_accuracy: 0.8371 - val_loss: 0.4619\n",
      "Epoch 10/30\n",
      "118/118 - 1s - 9ms/step - accuracy: 0.8251 - loss: 0.4989 - val_accuracy: 0.8216 - val_loss: 0.5067\n",
      "Epoch 4/30\n",
      "118/118 - 1s - 8ms/step - accuracy: 0.9132 - loss: 0.3064 - val_accuracy: 0.9181 - val_loss: 0.2925\n",
      "Epoch 9/30\n",
      "118/118 - 1s - 7ms/step - accuracy: 0.8551 - loss: 0.4202 - val_accuracy: 0.8376 - val_loss: 0.4590\n",
      "Epoch 11/30\n",
      "118/118 - 1s - 7ms/step - accuracy: 0.8355 - loss: 0.4676 - val_accuracy: 0.8280 - val_loss: 0.4856\n",
      "Epoch 5/30\n",
      "118/118 - 5s - 44ms/step - accuracy: 0.6669 - loss: 1.1400 - val_accuracy: 0.8512 - val_loss: 0.5844\n",
      "118/118 - 5s - 45ms/step - accuracy: 0.7050 - loss: 1.0165 - val_accuracy: 0.8729 - val_loss: 0.5007\n",
      "Epoch 2/30\n",
      "Epoch 2/30\n",
      "\u001b[1m20/20\u001b[0m \u001b[32m━━━━━━━━━━━━━━━━━━━━\u001b[0m\u001b[37m\u001b[0m \u001b[1m6s\u001b[0m 337ms/step\n",
      "118/118 - 1s - 7ms/step - accuracy: 0.9147 - loss: 0.3012 - val_accuracy: 0.9191 - val_loss: 0.2892\n",
      "Epoch 10/30\n",
      "118/118 - 5s - 45ms/step - accuracy: 0.6739 - loss: 0.9590 - val_accuracy: 0.7775 - val_loss: 0.6396\n",
      "Epoch 2/30\n",
      "118/118 - 1s - 7ms/step - accuracy: 0.8562 - loss: 0.4164 - val_accuracy: 0.8379 - val_loss: 0.4567\n",
      "Epoch 12/30\n",
      "\u001b[1m20/20\u001b[0m \u001b[32m━━━━━━━━━━━━━━━━━━━━\u001b[0m\u001b[37m\u001b[0m \u001b[1m6s\u001b[0m 330ms/step\n",
      "118/118 - 1s - 8ms/step - accuracy: 0.8425 - loss: 0.4478 - val_accuracy: 0.8336 - val_loss: 0.4718\n",
      "Epoch 6/30\n",
      "118/118 - 1s - 7ms/step - accuracy: 0.9161 - loss: 0.2969 - val_accuracy: 0.9202 - val_loss: 0.2867\n",
      "118/118 - 1s - 8ms/step - accuracy: 0.8844 - loss: 0.4363 - val_accuracy: 0.9048 - val_loss: 0.3534\n",
      "Epoch 11/30\n",
      "Epoch 3/30\n",
      "118/118 - 1s - 8ms/step - accuracy: 0.8673 - loss: 0.5004 - val_accuracy: 0.8931 - val_loss: 0.4084\n",
      "Epoch 3/30\n",
      "Epoch 1/30\n"
     ]
    },
    {
     "name": "stderr",
     "output_type": "stream",
     "text": [
      "2024-07-22 08:56:24.294733: I external/local_tsl/tsl/profiler/lib/profiler_session.cc:104] Profiler session initializing.\n",
      "2024-07-22 08:56:24.294787: I external/local_tsl/tsl/profiler/lib/profiler_session.cc:119] Profiler session started.\n"
     ]
    },
    {
     "name": "stdout",
     "output_type": "stream",
     "text": [
      "118/118 - 1s - 7ms/step - accuracy: 0.8572 - loss: 0.4131 - val_accuracy: 0.8389 - val_loss: 0.4547\n",
      "Epoch 13/30\n",
      "118/118 - 1s - 11ms/step - accuracy: 0.8019 - loss: 0.5735 - val_accuracy: 0.8044 - val_loss: 0.5555\n",
      "Epoch 3/30\n",
      "Epoch 1/30\n",
      "118/118 - 1s - 7ms/step - accuracy: 0.8476 - loss: 0.4339 - val_accuracy: 0.8366 - val_loss: 0.4622\n",
      "Epoch 7/30\n"
     ]
    },
    {
     "name": "stderr",
     "output_type": "stream",
     "text": [
      "2024-07-22 08:56:24.822238: I external/local_tsl/tsl/profiler/lib/profiler_session.cc:104] Profiler session initializing.\n",
      "2024-07-22 08:56:24.822282: I external/local_tsl/tsl/profiler/lib/profiler_session.cc:119] Profiler session started.\n"
     ]
    },
    {
     "name": "stdout",
     "output_type": "stream",
     "text": [
      "118/118 - 1s - 7ms/step - accuracy: 0.9073 - loss: 0.3418 - val_accuracy: 0.9199 - val_loss: 0.2967\n",
      "118/118 - 1s - 7ms/step - accuracy: 0.9173 - loss: 0.2932 - val_accuracy: 0.9198 - val_loss: 0.2846\n",
      "Epoch 4/30\n",
      "Epoch 12/30\n",
      "118/118 - 1s - 7ms/step - accuracy: 0.8931 - loss: 0.3907 - val_accuracy: 0.9077 - val_loss: 0.3433\n",
      "Epoch 4/30\n",
      "118/118 - 1s - 7ms/step - accuracy: 0.8581 - loss: 0.4102 - val_accuracy: 0.8400 - val_loss: 0.4531\n",
      "Epoch 14/30\n",
      "118/118 - 1s - 7ms/step - accuracy: 0.8212 - loss: 0.5130 - val_accuracy: 0.8155 - val_loss: 0.5210\n",
      "Epoch 4/30\n"
     ]
    },
    {
     "name": "stderr",
     "output_type": "stream",
     "text": [
      "2024-07-22 08:56:25.515174: I external/local_tsl/tsl/profiler/lib/profiler_session.cc:70] Profiler session collecting data.\n",
      "2024-07-22 08:56:25.524537: I external/local_xla/xla/backends/profiler/gpu/cupti_tracer.cc:1364] CUPTI activity buffer flushed\n",
      "2024-07-22 08:56:25.538329: I external/local_xla/xla/backends/profiler/gpu/cupti_collector.cc:540]  GpuTracer has collected 2047 callback api events and 1706 activity events. \n",
      "2024-07-22 08:56:25.555848: I external/local_tsl/tsl/profiler/lib/profiler_session.cc:131] Profiler session tear down.\n",
      "2024-07-22 08:56:25.557155: I external/local_tsl/tsl/profiler/rpc/client/save_profile.cc:144] Collecting XSpace to repository: /workspaces/QML-QPF/multiprocessing/output/20240722-085506/runs/MNIST/MNISTqrand/plugins/profile/2024_07_22_08_56_25/1ba22281c77a.xplane.pb\n"
     ]
    },
    {
     "name": "stdout",
     "output_type": "stream",
     "text": [
      "118/118 - 1s - 8ms/step - accuracy: 0.8514 - loss: 0.4235 - val_accuracy: 0.8386 - val_loss: 0.4550\n",
      "Epoch 8/30\n",
      "118/118 - 1s - 8ms/step - accuracy: 0.9182 - loss: 0.2901 - val_accuracy: 0.9199 - val_loss: 0.2828\n",
      "Epoch 13/30\n",
      "118/118 - 1s - 8ms/step - accuracy: 0.9049 - loss: 0.3403 - val_accuracy: 0.9150 - val_loss: 0.3086\n",
      "Epoch 5/30\n",
      "118/118 - 1s - 8ms/step - accuracy: 0.9181 - loss: 0.2962 - val_accuracy: 0.9274 - val_loss: 0.2654\n",
      "Epoch 5/30\n"
     ]
    },
    {
     "name": "stderr",
     "output_type": "stream",
     "text": [
      "2024-07-22 08:56:26.057657: I external/local_tsl/tsl/profiler/lib/profiler_session.cc:70] Profiler session collecting data.\n",
      "2024-07-22 08:56:26.065918: I external/local_xla/xla/backends/profiler/gpu/cupti_tracer.cc:1364] CUPTI activity buffer flushed\n",
      "2024-07-22 08:56:26.079210: I external/local_xla/xla/backends/profiler/gpu/cupti_collector.cc:540]  GpuTracer has collected 2045 callback api events and 1705 activity events. \n",
      "2024-07-22 08:56:26.095139: I external/local_tsl/tsl/profiler/lib/profiler_session.cc:131] Profiler session tear down.\n",
      "2024-07-22 08:56:26.096517: I external/local_tsl/tsl/profiler/rpc/client/save_profile.cc:144] Collecting XSpace to repository: /workspaces/QML-QPF/multiprocessing/output/20240722-085506/runs/FASHIONMNIST/FASHIONMNISTqrand/plugins/profile/2024_07_22_08_56_26/1ba22281c77a.xplane.pb\n"
     ]
    },
    {
     "name": "stdout",
     "output_type": "stream",
     "text": [
      "118/118 - 1s - 8ms/step - accuracy: 0.8592 - loss: 0.4076 - val_accuracy: 0.8402 - val_loss: 0.4517\n",
      "Epoch 15/30\n",
      "118/118 - 1s - 8ms/step - accuracy: 0.8312 - loss: 0.4825 - val_accuracy: 0.8253 - val_loss: 0.5017\n",
      "Epoch 5/30\n",
      "118/118 - 1s - 8ms/step - accuracy: 0.8538 - loss: 0.4154 - val_accuracy: 0.8398 - val_loss: 0.4495\n",
      "Epoch 9/30\n",
      "118/118 - 1s - 8ms/step - accuracy: 0.9191 - loss: 0.2874 - val_accuracy: 0.9204 - val_loss: 0.2814\n",
      "Epoch 14/30\n",
      "118/118 - 1s - 8ms/step - accuracy: 0.9132 - loss: 0.3102 - val_accuracy: 0.9205 - val_loss: 0.2868\n",
      "Epoch 6/30\n",
      "118/118 - 1s - 8ms/step - accuracy: 0.9257 - loss: 0.2680 - val_accuracy: 0.9314 - val_loss: 0.2451\n",
      "Epoch 6/30\n",
      "118/118 - 1s - 7ms/step - accuracy: 0.8599 - loss: 0.4053 - val_accuracy: 0.8404 - val_loss: 0.4505\n",
      "Epoch 16/30\n",
      "118/118 - 1s - 7ms/step - accuracy: 0.8379 - loss: 0.4632 - val_accuracy: 0.8285 - val_loss: 0.4893\n",
      "Epoch 6/30\n",
      "118/118 - 1s - 7ms/step - accuracy: 0.8559 - loss: 0.4088 - val_accuracy: 0.8425 - val_loss: 0.4451\n",
      "Epoch 10/30\n",
      "118/118 - 3s - 29ms/step - accuracy: 0.6886 - loss: 1.0971 - val_accuracy: 0.8634 - val_loss: 0.5520\n",
      "Epoch 2/30\n",
      "118/118 - 1s - 7ms/step - accuracy: 0.9183 - loss: 0.2898 - val_accuracy: 0.9233 - val_loss: 0.2716\n",
      "Epoch 7/30\n",
      "118/118 - 1s - 7ms/step - accuracy: 0.8605 - loss: 0.4031 - val_accuracy: 0.8404 - val_loss: 0.4494\n",
      "Epoch 17/30\n",
      "118/118 - 1s - 10ms/step - accuracy: 0.9200 - loss: 0.2850 - val_accuracy: 0.9203 - val_loss: 0.2801\n",
      "Epoch 15/30\n",
      "118/118 - 1s - 10ms/step - accuracy: 0.9308 - loss: 0.2483 - val_accuracy: 0.9339 - val_loss: 0.2307\n",
      "Epoch 7/30\n",
      "118/118 - 1s - 7ms/step - accuracy: 0.8425 - loss: 0.4496 - val_accuracy: 0.8302 - val_loss: 0.4806\n",
      "118/118 - 3s - 28ms/step - accuracy: 0.6747 - loss: 0.9460 - val_accuracy: 0.7702 - val_loss: 0.6536\n",
      "Epoch 7/30\n",
      "Epoch 2/30\n",
      "118/118 - 1s - 7ms/step - accuracy: 0.8583 - loss: 0.4033 - val_accuracy: 0.8447 - val_loss: 0.4416\n",
      "Epoch 11/30\n",
      "118/118 - 1s - 7ms/step - accuracy: 0.9221 - loss: 0.2748 - val_accuracy: 0.9265 - val_loss: 0.2603\n",
      "Epoch 8/30\n",
      "118/118 - 1s - 7ms/step - accuracy: 0.8610 - loss: 0.4012 - val_accuracy: 0.8409 - val_loss: 0.4485\n",
      "Epoch 18/30\n",
      "118/118 - 1s - 7ms/step - accuracy: 0.9205 - loss: 0.2828 - val_accuracy: 0.9202 - val_loss: 0.2790\n",
      "Epoch 16/30\n",
      "118/118 - 1s - 7ms/step - accuracy: 0.9341 - loss: 0.2336 - val_accuracy: 0.9373 - val_loss: 0.2199\n",
      "Epoch 8/30\n",
      "118/118 - 1s - 7ms/step - accuracy: 0.7994 - loss: 0.5824 - val_accuracy: 0.8006 - val_loss: 0.5671\n",
      "Epoch 3/30\n",
      "118/118 - 1s - 7ms/step - accuracy: 0.8455 - loss: 0.4394 - val_accuracy: 0.8317 - val_loss: 0.4741\n",
      "Epoch 8/30\n",
      "118/118 - 1s - 7ms/step - accuracy: 0.8594 - loss: 0.3986 - val_accuracy: 0.8465 - val_loss: 0.4387\n",
      "Epoch 12/30\n",
      "118/118 - 1s - 7ms/step - accuracy: 0.9248 - loss: 0.2632 - val_accuracy: 0.9290 - val_loss: 0.2516\n",
      "Epoch 9/30\n",
      "118/118 - 1s - 7ms/step - accuracy: 0.9213 - loss: 0.2809 - val_accuracy: 0.9209 - val_loss: 0.2781\n",
      "Epoch 17/30\n",
      "118/118 - 1s - 6ms/step - accuracy: 0.9376 - loss: 0.2220 - val_accuracy: 0.9398 - val_loss: 0.2115\n",
      "Epoch 9/30\n",
      "118/118 - 1s - 7ms/step - accuracy: 0.8483 - loss: 0.4312 - val_accuracy: 0.8324 - val_loss: 0.4692\n",
      "Epoch 9/30\n",
      "118/118 - 1s - 7ms/step - accuracy: 0.8187 - loss: 0.5205 - val_accuracy: 0.8134 - val_loss: 0.5307\n",
      "Epoch 4/30\n",
      "118/118 - 1s - 6ms/step - accuracy: 0.8610 - loss: 0.3946 - val_accuracy: 0.8471 - val_loss: 0.4363\n",
      "Epoch 13/30\n",
      "118/118 - 1s - 10ms/step - accuracy: 0.8614 - loss: 0.3994 - val_accuracy: 0.8418 - val_loss: 0.4478\n",
      "Epoch 19/30\n",
      "118/118 - 1s - 7ms/step - accuracy: 0.9218 - loss: 0.2791 - val_accuracy: 0.9212 - val_loss: 0.2772\n",
      "Epoch 18/30\n",
      "118/118 - 1s - 7ms/step - accuracy: 0.9399 - loss: 0.2127 - val_accuracy: 0.9422 - val_loss: 0.2046\n",
      "Epoch 10/30\n",
      "118/118 - 1s - 7ms/step - accuracy: 0.8300 - loss: 0.4890 - val_accuracy: 0.8204 - val_loss: 0.5099\n",
      "Epoch 5/30\n",
      "118/118 - 1s - 11ms/step - accuracy: 0.9273 - loss: 0.2539 - val_accuracy: 0.9307 - val_loss: 0.2446\n",
      "Epoch 10/30\n",
      "118/118 - 3s - 27ms/step - accuracy: 0.8740 - loss: 0.4879 - val_accuracy: 0.8981 - val_loss: 0.3976\n",
      "Epoch 3/30\n",
      "118/118 - 1s - 7ms/step - accuracy: 0.8616 - loss: 0.3978 - val_accuracy: 0.8420 - val_loss: 0.4471\n",
      "Epoch 20/30\n",
      "118/118 - 1s - 7ms/step - accuracy: 0.8622 - loss: 0.3911 - val_accuracy: 0.8479 - val_loss: 0.4343\n",
      "Epoch 14/30\n",
      "118/118 - 1s - 11ms/step - accuracy: 0.8511 - loss: 0.4246 - val_accuracy: 0.8342 - val_loss: 0.4653\n",
      "Epoch 10/30\n",
      "118/118 - 1s - 7ms/step - accuracy: 0.9223 - loss: 0.2775 - val_accuracy: 0.9210 - val_loss: 0.2765\n",
      "Epoch 19/30\n",
      "118/118 - 1s - 7ms/step - accuracy: 0.8363 - loss: 0.4691 - val_accuracy: 0.8244 - val_loss: 0.4962\n",
      "Epoch 6/30\n",
      "118/118 - 1s - 7ms/step - accuracy: 0.9289 - loss: 0.2462 - val_accuracy: 0.9321 - val_loss: 0.2389\n",
      "Epoch 11/30\n",
      "118/118 - 1s - 7ms/step - accuracy: 0.8621 - loss: 0.3963 - val_accuracy: 0.8421 - val_loss: 0.4465\n",
      "Epoch 21/30\n",
      "118/118 - 1s - 7ms/step - accuracy: 0.8627 - loss: 0.3880 - val_accuracy: 0.8482 - val_loss: 0.4326\n",
      "Epoch 15/30\n",
      "118/118 - 1s - 7ms/step - accuracy: 0.8955 - loss: 0.3904 - val_accuracy: 0.9096 - val_loss: 0.3407\n",
      "Epoch 4/30\n",
      "118/118 - 1s - 11ms/step - accuracy: 0.9423 - loss: 0.2049 - val_accuracy: 0.9429 - val_loss: 0.1990\n",
      "Epoch 11/30\n",
      "118/118 - 1s - 7ms/step - accuracy: 0.9230 - loss: 0.2761 - val_accuracy: 0.9213 - val_loss: 0.2758\n",
      "Epoch 20/30\n",
      "118/118 - 1s - 8ms/step - accuracy: 0.8410 - loss: 0.4551 - val_accuracy: 0.8268 - val_loss: 0.4864\n",
      "Epoch 7/30\n",
      "118/118 - 1s - 8ms/step - accuracy: 0.9305 - loss: 0.2397 - val_accuracy: 0.9334 - val_loss: 0.2342\n",
      "Epoch 12/30\n",
      "118/118 - 1s - 11ms/step - accuracy: 0.8524 - loss: 0.4190 - val_accuracy: 0.8362 - val_loss: 0.4621\n",
      "Epoch 11/30\n",
      "118/118 - 1s - 7ms/step - accuracy: 0.8625 - loss: 0.3949 - val_accuracy: 0.8421 - val_loss: 0.4460\n",
      "Epoch 22/30\n",
      "118/118 - 1s - 7ms/step - accuracy: 0.8638 - loss: 0.3852 - val_accuracy: 0.8484 - val_loss: 0.4312\n",
      "Epoch 16/30\n",
      "118/118 - 1s - 7ms/step - accuracy: 0.9058 - loss: 0.3456 - val_accuracy: 0.9151 - val_loss: 0.3102\n",
      "Epoch 5/30\n",
      "118/118 - 1s - 7ms/step - accuracy: 0.9437 - loss: 0.1983 - val_accuracy: 0.9435 - val_loss: 0.1942\n",
      "Epoch 12/30\n",
      "118/118 - 1s - 7ms/step - accuracy: 0.9236 - loss: 0.2747 - val_accuracy: 0.9210 - val_loss: 0.2752\n",
      "Epoch 21/30\n",
      "118/118 - 1s - 7ms/step - accuracy: 0.8442 - loss: 0.4445 - val_accuracy: 0.8300 - val_loss: 0.4791\n",
      "Epoch 8/30\n",
      "118/118 - 1s - 7ms/step - accuracy: 0.8630 - loss: 0.3936 - val_accuracy: 0.8417 - val_loss: 0.4456\n",
      "Epoch 23/30\n",
      "118/118 - 1s - 7ms/step - accuracy: 0.8644 - loss: 0.3828 - val_accuracy: 0.8481 - val_loss: 0.4299\n",
      "Epoch 17/30\n",
      "118/118 - 1s - 7ms/step - accuracy: 0.9123 - loss: 0.3186 - val_accuracy: 0.9208 - val_loss: 0.2909\n",
      "Epoch 6/30\n",
      "118/118 - 1s - 7ms/step - accuracy: 0.9453 - loss: 0.1926 - val_accuracy: 0.9446 - val_loss: 0.1901\n",
      "Epoch 13/30\n",
      "118/118 - 1s - 10ms/step - accuracy: 0.9317 - loss: 0.2342 - val_accuracy: 0.9346 - val_loss: 0.2302\n",
      "Epoch 13/30\n",
      "118/118 - 1s - 10ms/step - accuracy: 0.8543 - loss: 0.4142 - val_accuracy: 0.8370 - val_loss: 0.4595\n",
      "Epoch 12/30\n",
      "118/118 - 1s - 7ms/step - accuracy: 0.9238 - loss: 0.2734 - val_accuracy: 0.9210 - val_loss: 0.2747\n",
      "Epoch 22/30\n",
      "118/118 - 1s - 7ms/step - accuracy: 0.8474 - loss: 0.4361 - val_accuracy: 0.8320 - val_loss: 0.4735\n",
      "Epoch 9/30\n",
      "118/118 - 1s - 7ms/step - accuracy: 0.8650 - loss: 0.3805 - val_accuracy: 0.8486 - val_loss: 0.4288\n",
      "Epoch 18/30\n",
      "118/118 - 1s - 7ms/step - accuracy: 0.9169 - loss: 0.3002 - val_accuracy: 0.9232 - val_loss: 0.2775\n",
      "Epoch 7/30\n",
      "118/118 - 1s - 7ms/step - accuracy: 0.9469 - loss: 0.1876 - val_accuracy: 0.9450 - val_loss: 0.1866\n",
      "Epoch 14/30\n",
      "118/118 - 1s - 7ms/step - accuracy: 0.8557 - loss: 0.4100 - val_accuracy: 0.8370 - val_loss: 0.4574\n",
      "Epoch 13/30\n",
      "118/118 - 1s - 10ms/step - accuracy: 0.8634 - loss: 0.3923 - val_accuracy: 0.8416 - val_loss: 0.4452\n",
      "Epoch 24/30\n",
      "118/118 - 1s - 7ms/step - accuracy: 0.9240 - loss: 0.2722 - val_accuracy: 0.9211 - val_loss: 0.2742\n",
      "Epoch 23/30\n",
      "118/118 - 1s - 10ms/step - accuracy: 0.9331 - loss: 0.2293 - val_accuracy: 0.9353 - val_loss: 0.2268\n",
      "Epoch 14/30\n",
      "118/118 - 1s - 7ms/step - accuracy: 0.8654 - loss: 0.3785 - val_accuracy: 0.8484 - val_loss: 0.4279\n",
      "Epoch 19/30\n",
      "118/118 - 1s - 7ms/step - accuracy: 0.9205 - loss: 0.2867 - val_accuracy: 0.9250 - val_loss: 0.2677\n",
      "Epoch 8/30\n",
      "118/118 - 1s - 7ms/step - accuracy: 0.9481 - loss: 0.1832 - val_accuracy: 0.9456 - val_loss: 0.1836\n",
      "Epoch 15/30\n",
      "118/118 - 1s - 7ms/step - accuracy: 0.8570 - loss: 0.4064 - val_accuracy: 0.8379 - val_loss: 0.4555\n",
      "Epoch 14/30\n",
      "118/118 - 1s - 11ms/step - accuracy: 0.8491 - loss: 0.4293 - val_accuracy: 0.8329 - val_loss: 0.4689\n",
      "Epoch 10/30\n",
      "118/118 - 1s - 7ms/step - accuracy: 0.8641 - loss: 0.3912 - val_accuracy: 0.8418 - val_loss: 0.4449\n",
      "Epoch 25/30\n",
      "118/118 - 1s - 7ms/step - accuracy: 0.9244 - loss: 0.2711 - val_accuracy: 0.9212 - val_loss: 0.2738\n",
      "Epoch 24/30\n",
      "118/118 - 1s - 7ms/step - accuracy: 0.9342 - loss: 0.2251 - val_accuracy: 0.9356 - val_loss: 0.2238\n",
      "Epoch 15/30\n",
      "118/118 - 1s - 7ms/step - accuracy: 0.8657 - loss: 0.3766 - val_accuracy: 0.8480 - val_loss: 0.4271\n",
      "Epoch 20/30\n",
      "118/118 - 1s - 7ms/step - accuracy: 0.9233 - loss: 0.2762 - val_accuracy: 0.9276 - val_loss: 0.2602\n",
      "Epoch 9/30\n",
      "118/118 - 1s - 7ms/step - accuracy: 0.8579 - loss: 0.4031 - val_accuracy: 0.8381 - val_loss: 0.4539\n",
      "Epoch 15/30\n",
      "118/118 - 1s - 7ms/step - accuracy: 0.8512 - loss: 0.4236 - val_accuracy: 0.8341 - val_loss: 0.4652\n",
      "Epoch 11/30\n",
      "118/118 - 1s - 7ms/step - accuracy: 0.9245 - loss: 0.2701 - val_accuracy: 0.9213 - val_loss: 0.2734\n",
      "Epoch 25/30\n",
      "118/118 - 1s - 10ms/step - accuracy: 0.9491 - loss: 0.1793 - val_accuracy: 0.9462 - val_loss: 0.1809\n",
      "Epoch 16/30\n",
      "118/118 - 1s - 7ms/step - accuracy: 0.9351 - loss: 0.2213 - val_accuracy: 0.9366 - val_loss: 0.2212\n",
      "Epoch 16/30\n",
      "118/118 - 1s - 7ms/step - accuracy: 0.8661 - loss: 0.3749 - val_accuracy: 0.8484 - val_loss: 0.4264\n",
      "Epoch 21/30\n",
      "118/118 - 1s - 10ms/step - accuracy: 0.8646 - loss: 0.3901 - val_accuracy: 0.8417 - val_loss: 0.4446\n",
      "Epoch 26/30\n",
      "118/118 - 1s - 7ms/step - accuracy: 0.9254 - loss: 0.2678 - val_accuracy: 0.9285 - val_loss: 0.2543\n",
      "Epoch 10/30\n",
      "118/118 - 1s - 7ms/step - accuracy: 0.8532 - loss: 0.4188 - val_accuracy: 0.8353 - val_loss: 0.4621\n",
      "Epoch 12/30\n",
      "118/118 - 1s - 7ms/step - accuracy: 0.9249 - loss: 0.2691 - val_accuracy: 0.9212 - val_loss: 0.2730\n",
      "Epoch 26/30\n",
      "118/118 - 1s - 7ms/step - accuracy: 0.9361 - loss: 0.2180 - val_accuracy: 0.9378 - val_loss: 0.2190\n",
      "Epoch 17/30\n",
      "118/118 - 1s - 11ms/step - accuracy: 0.8586 - loss: 0.4002 - val_accuracy: 0.8385 - val_loss: 0.4526\n",
      "Epoch 16/30\n",
      "118/118 - 1s - 7ms/step - accuracy: 0.8666 - loss: 0.3733 - val_accuracy: 0.8488 - val_loss: 0.4258\n",
      "Epoch 22/30\n",
      "118/118 - 1s - 7ms/step - accuracy: 0.8649 - loss: 0.3891 - val_accuracy: 0.8416 - val_loss: 0.4443\n",
      "Epoch 27/30\n",
      "118/118 - 1s - 7ms/step - accuracy: 0.9272 - loss: 0.2609 - val_accuracy: 0.9292 - val_loss: 0.2495\n",
      "Epoch 11/30\n",
      "118/118 - 1s - 10ms/step - accuracy: 0.9502 - loss: 0.1758 - val_accuracy: 0.9476 - val_loss: 0.1786\n",
      "Epoch 17/30\n",
      "118/118 - 1s - 7ms/step - accuracy: 0.9251 - loss: 0.2682 - val_accuracy: 0.9214 - val_loss: 0.2727\n",
      "Epoch 27/30\n",
      "118/118 - 1s - 7ms/step - accuracy: 0.8595 - loss: 0.3976 - val_accuracy: 0.8391 - val_loss: 0.4514\n",
      "Epoch 17/30\n",
      "118/118 - 1s - 11ms/step - accuracy: 0.8548 - loss: 0.4146 - val_accuracy: 0.8349 - val_loss: 0.4595\n",
      "Epoch 13/30\n",
      "118/118 - 1s - 7ms/step - accuracy: 0.8670 - loss: 0.3718 - val_accuracy: 0.8483 - val_loss: 0.4253\n",
      "118/118 - 1s - 7ms/step - accuracy: 0.8652 - loss: 0.3881 - val_accuracy: 0.8417 - val_loss: 0.4441\n",
      "Epoch 23/30\n",
      "Epoch 28/30\n",
      "118/118 - 1s - 7ms/step - accuracy: 0.9283 - loss: 0.2550 - val_accuracy: 0.9299 - val_loss: 0.2455\n",
      "Epoch 12/30\n",
      "118/118 - 1s - 7ms/step - accuracy: 0.9509 - loss: 0.1726 - val_accuracy: 0.9483 - val_loss: 0.1765\n",
      "Epoch 18/30\n",
      "118/118 - 1s - 11ms/step - accuracy: 0.9369 - loss: 0.2149 - val_accuracy: 0.9386 - val_loss: 0.2170\n",
      "Epoch 18/30\n",
      "118/118 - 1s - 7ms/step - accuracy: 0.9252 - loss: 0.2673 - val_accuracy: 0.9218 - val_loss: 0.2724\n",
      "Epoch 28/30\n",
      "118/118 - 1s - 7ms/step - accuracy: 0.8559 - loss: 0.4110 - val_accuracy: 0.8364 - val_loss: 0.4573\n",
      "Epoch 14/30\n",
      "118/118 - 1s - 7ms/step - accuracy: 0.8654 - loss: 0.3872 - val_accuracy: 0.8421 - val_loss: 0.4439\n",
      "118/118 - 1s - 7ms/step - accuracy: 0.8672 - loss: 0.3705 - val_accuracy: 0.8480 - val_loss: 0.4248\n",
      "Epoch 29/30\n",
      "Epoch 24/30\n",
      "118/118 - 1s - 7ms/step - accuracy: 0.9292 - loss: 0.2500 - val_accuracy: 0.9302 - val_loss: 0.2422\n",
      "Epoch 13/30\n",
      "118/118 - 1s - 7ms/step - accuracy: 0.9517 - loss: 0.1697 - val_accuracy: 0.9491 - val_loss: 0.1746\n",
      "Epoch 19/30\n",
      "118/118 - 1s - 7ms/step - accuracy: 0.9376 - loss: 0.2122 - val_accuracy: 0.9385 - val_loss: 0.2153\n",
      "Epoch 19/30\n",
      "118/118 - 1s - 11ms/step - accuracy: 0.8604 - loss: 0.3951 - val_accuracy: 0.8394 - val_loss: 0.4504\n",
      "Epoch 18/30\n",
      "118/118 - 1s - 7ms/step - accuracy: 0.9254 - loss: 0.2665 - val_accuracy: 0.9219 - val_loss: 0.2721\n",
      "Epoch 29/30\n",
      "118/118 - 1s - 7ms/step - accuracy: 0.8570 - loss: 0.4077 - val_accuracy: 0.8366 - val_loss: 0.4554\n",
      "Epoch 15/30\n",
      "118/118 - 1s - 7ms/step - accuracy: 0.8657 - loss: 0.3863 - val_accuracy: 0.8424 - val_loss: 0.4438\n",
      "Epoch 30/30\n",
      "118/118 - 1s - 7ms/step - accuracy: 0.9303 - loss: 0.2457 - val_accuracy: 0.9306 - val_loss: 0.2393\n",
      "Epoch 14/30\n",
      "118/118 - 1s - 7ms/step - accuracy: 0.9522 - loss: 0.1671 - val_accuracy: 0.9499 - val_loss: 0.1729\n",
      "Epoch 20/30\n",
      "118/118 - 1s - 7ms/step - accuracy: 0.9383 - loss: 0.2096 - val_accuracy: 0.9382 - val_loss: 0.2137\n",
      "Epoch 20/30\n",
      "118/118 - 1s - 7ms/step - accuracy: 0.8610 - loss: 0.3929 - val_accuracy: 0.8396 - val_loss: 0.4495\n",
      "Epoch 19/30\n",
      "118/118 - 1s - 10ms/step - accuracy: 0.8677 - loss: 0.3692 - val_accuracy: 0.8484 - val_loss: 0.4244\n",
      "Epoch 25/30\n",
      "118/118 - 1s - 7ms/step - accuracy: 0.9258 - loss: 0.2657 - val_accuracy: 0.9221 - val_loss: 0.2719\n",
      "Epoch 30/30\n",
      "118/118 - 1s - 7ms/step - accuracy: 0.8577 - loss: 0.4048 - val_accuracy: 0.8368 - val_loss: 0.4537\n",
      "Epoch 16/30\n",
      "118/118 - 1s - 7ms/step - accuracy: 0.9530 - loss: 0.1647 - val_accuracy: 0.9496 - val_loss: 0.1714\n",
      "Epoch 21/30\n",
      "118/118 - 1s - 7ms/step - accuracy: 0.9388 - loss: 0.2073 - val_accuracy: 0.9383 - val_loss: 0.2124\n",
      "Epoch 21/30\n",
      "118/118 - 1s - 7ms/step - accuracy: 0.8614 - loss: 0.3909 - val_accuracy: 0.8404 - val_loss: 0.4487\n",
      "Epoch 20/30\n",
      "118/118 - 1s - 7ms/step - accuracy: 0.9262 - loss: 0.2649 - val_accuracy: 0.9216 - val_loss: 0.2716\n",
      "118/118 - 1s - 11ms/step - accuracy: 0.8659 - loss: 0.3855 - val_accuracy: 0.8424 - val_loss: 0.4437\n",
      "118/118 - 1s - 7ms/step - accuracy: 0.8681 - loss: 0.3680 - val_accuracy: 0.8486 - val_loss: 0.4241\n",
      "Epoch 26/30\n",
      "118/118 - 1s - 11ms/step - accuracy: 0.9313 - loss: 0.2419 - val_accuracy: 0.9311 - val_loss: 0.2369\n",
      "Epoch 15/30\n",
      "118/118 - 1s - 7ms/step - accuracy: 0.8584 - loss: 0.4022 - val_accuracy: 0.8377 - val_loss: 0.4523\n",
      "Epoch 17/30\n",
      "118/118 - 1s - 7ms/step - accuracy: 0.9535 - loss: 0.1625 - val_accuracy: 0.9503 - val_loss: 0.1701\n",
      "Epoch 22/30\n",
      "118/118 - 1s - 6ms/step - accuracy: 0.8620 - loss: 0.3891 - val_accuracy: 0.8401 - val_loss: 0.4480\n",
      "Epoch 21/30\n",
      "118/118 - 1s - 7ms/step - accuracy: 0.8684 - loss: 0.3668 - val_accuracy: 0.8483 - val_loss: 0.4238\n",
      "Epoch 27/30\n",
      "118/118 - 1s - 6ms/step - accuracy: 0.9324 - loss: 0.2385 - val_accuracy: 0.9318 - val_loss: 0.2348\n",
      "Epoch 16/30\n",
      "118/118 - 1s - 10ms/step - accuracy: 0.9394 - loss: 0.2052 - val_accuracy: 0.9385 - val_loss: 0.2111\n",
      "Epoch 22/30\n",
      "118/118 - 1s - 6ms/step - accuracy: 0.9538 - loss: 0.1605 - val_accuracy: 0.9504 - val_loss: 0.1688\n",
      "Epoch 23/30\n",
      "118/118 - 1s - 6ms/step - accuracy: 0.8624 - loss: 0.3873 - val_accuracy: 0.8404 - val_loss: 0.4474\n",
      "Epoch 22/30\n",
      "118/118 - 1s - 10ms/step - accuracy: 0.8591 - loss: 0.3998 - val_accuracy: 0.8388 - val_loss: 0.4511\n",
      "Epoch 18/30\n",
      "118/118 - 1s - 6ms/step - accuracy: 0.8686 - loss: 0.3658 - val_accuracy: 0.8483 - val_loss: 0.4236\n",
      "Epoch 28/30\n",
      "118/118 - 1s - 6ms/step - accuracy: 0.9333 - loss: 0.2355 - val_accuracy: 0.9319 - val_loss: 0.2329\n",
      "Epoch 17/30\n",
      "118/118 - 1s - 6ms/step - accuracy: 0.9398 - loss: 0.2033 - val_accuracy: 0.9387 - val_loss: 0.2100\n",
      "Epoch 23/30\n",
      "118/118 - 1s - 6ms/step - accuracy: 0.9544 - loss: 0.1586 - val_accuracy: 0.9507 - val_loss: 0.1677\n",
      "Epoch 24/30\n",
      "118/118 - 1s - 7ms/step - accuracy: 0.8597 - loss: 0.3976 - val_accuracy: 0.8393 - val_loss: 0.4500\n",
      "Epoch 19/30\n",
      "118/118 - 1s - 6ms/step - accuracy: 0.8688 - loss: 0.3648 - val_accuracy: 0.8487 - val_loss: 0.4234\n",
      "Epoch 29/30\n",
      "118/118 - 1s - 6ms/step - accuracy: 0.9341 - loss: 0.2327 - val_accuracy: 0.9324 - val_loss: 0.2312\n",
      "Epoch 18/30\n",
      "118/118 - 1s - 6ms/step - accuracy: 0.9401 - loss: 0.2014 - val_accuracy: 0.9387 - val_loss: 0.2090\n",
      "Epoch 24/30\n",
      "118/118 - 1s - 11ms/step - accuracy: 0.8630 - loss: 0.3857 - val_accuracy: 0.8405 - val_loss: 0.4468\n",
      "Epoch 23/30\n",
      "118/118 - 1s - 6ms/step - accuracy: 0.9548 - loss: 0.1568 - val_accuracy: 0.9511 - val_loss: 0.1667\n",
      "Epoch 25/30\n",
      "118/118 - 1s - 6ms/step - accuracy: 0.8607 - loss: 0.3956 - val_accuracy: 0.8398 - val_loss: 0.4490\n",
      "Epoch 20/30\n",
      "118/118 - 1s - 6ms/step - accuracy: 0.8690 - loss: 0.3638 - val_accuracy: 0.8486 - val_loss: 0.4232\n",
      "Epoch 30/30\n",
      "118/118 - 1s - 6ms/step - accuracy: 0.9350 - loss: 0.2303 - val_accuracy: 0.9325 - val_loss: 0.2298\n",
      "Epoch 19/30\n",
      "118/118 - 1s - 6ms/step - accuracy: 0.9406 - loss: 0.1997 - val_accuracy: 0.9385 - val_loss: 0.2081\n",
      "Epoch 25/30\n",
      "118/118 - 1s - 6ms/step - accuracy: 0.8636 - loss: 0.3842 - val_accuracy: 0.8408 - val_loss: 0.4464\n",
      "Epoch 24/30\n",
      "118/118 - 1s - 6ms/step - accuracy: 0.9554 - loss: 0.1552 - val_accuracy: 0.9512 - val_loss: 0.1658\n",
      "Epoch 26/30\n",
      "118/118 - 1s - 6ms/step - accuracy: 0.8615 - loss: 0.3937 - val_accuracy: 0.8403 - val_loss: 0.4482\n",
      "Epoch 21/30\n",
      "118/118 - 1s - 6ms/step - accuracy: 0.8694 - loss: 0.3629 - val_accuracy: 0.8489 - val_loss: 0.4230\n",
      "118/118 - 1s - 6ms/step - accuracy: 0.9357 - loss: 0.2280 - val_accuracy: 0.9332 - val_loss: 0.2285\n",
      "Epoch 20/30\n",
      "118/118 - 1s - 6ms/step - accuracy: 0.9409 - loss: 0.1981 - val_accuracy: 0.9387 - val_loss: 0.2073\n",
      "Epoch 26/30\n",
      "118/118 - 1s - 6ms/step - accuracy: 0.8641 - loss: 0.3828 - val_accuracy: 0.8414 - val_loss: 0.4459\n",
      "Epoch 25/30\n",
      "118/118 - 1s - 6ms/step - accuracy: 0.9557 - loss: 0.1536 - val_accuracy: 0.9515 - val_loss: 0.1650\n",
      "Epoch 27/30\n",
      "118/118 - 1s - 6ms/step - accuracy: 0.8621 - loss: 0.3920 - val_accuracy: 0.8407 - val_loss: 0.4474\n",
      "Epoch 22/30\n",
      "118/118 - 1s - 6ms/step - accuracy: 0.9363 - loss: 0.2259 - val_accuracy: 0.9336 - val_loss: 0.2273\n",
      "Epoch 21/30\n",
      "118/118 - 1s - 6ms/step - accuracy: 0.9413 - loss: 0.1967 - val_accuracy: 0.9390 - val_loss: 0.2065\n",
      "Epoch 27/30\n",
      "118/118 - 1s - 6ms/step - accuracy: 0.8643 - loss: 0.3815 - val_accuracy: 0.8417 - val_loss: 0.4456\n",
      "Epoch 26/30\n",
      "118/118 - 1s - 6ms/step - accuracy: 0.9562 - loss: 0.1522 - val_accuracy: 0.9514 - val_loss: 0.1643\n",
      "Epoch 28/30\n",
      "118/118 - 1s - 6ms/step - accuracy: 0.8628 - loss: 0.3904 - val_accuracy: 0.8415 - val_loss: 0.4468\n",
      "Epoch 23/30\n",
      "118/118 - 1s - 6ms/step - accuracy: 0.9370 - loss: 0.2240 - val_accuracy: 0.9341 - val_loss: 0.2262\n",
      "Epoch 22/30\n",
      "118/118 - 1s - 6ms/step - accuracy: 0.9418 - loss: 0.1953 - val_accuracy: 0.9394 - val_loss: 0.2058\n",
      "Epoch 28/30\n",
      "118/118 - 1s - 6ms/step - accuracy: 0.8647 - loss: 0.3802 - val_accuracy: 0.8418 - val_loss: 0.4452\n",
      "Epoch 27/30\n",
      "118/118 - 1s - 6ms/step - accuracy: 0.9566 - loss: 0.1508 - val_accuracy: 0.9515 - val_loss: 0.1636\n",
      "Epoch 29/30\n",
      "118/118 - 1s - 6ms/step - accuracy: 0.8634 - loss: 0.3889 - val_accuracy: 0.8420 - val_loss: 0.4462\n",
      "Epoch 24/30\n",
      "118/118 - 1s - 6ms/step - accuracy: 0.9373 - loss: 0.2222 - val_accuracy: 0.9347 - val_loss: 0.2252\n",
      "Epoch 23/30\n",
      "118/118 - 1s - 6ms/step - accuracy: 0.9421 - loss: 0.1940 - val_accuracy: 0.9390 - val_loss: 0.2052\n",
      "Epoch 29/30\n",
      "118/118 - 1s - 6ms/step - accuracy: 0.8649 - loss: 0.3790 - val_accuracy: 0.8417 - val_loss: 0.4449\n",
      "Epoch 28/30\n",
      "118/118 - 1s - 6ms/step - accuracy: 0.9570 - loss: 0.1496 - val_accuracy: 0.9515 - val_loss: 0.1630\n",
      "Epoch 30/30\n",
      "118/118 - 1s - 6ms/step - accuracy: 0.8637 - loss: 0.3875 - val_accuracy: 0.8422 - val_loss: 0.4457\n",
      "Epoch 25/30\n",
      "118/118 - 1s - 6ms/step - accuracy: 0.9376 - loss: 0.2206 - val_accuracy: 0.9350 - val_loss: 0.2244\n",
      "Epoch 24/30\n",
      "118/118 - 1s - 6ms/step - accuracy: 0.9425 - loss: 0.1927 - val_accuracy: 0.9393 - val_loss: 0.2046\n",
      "Epoch 30/30\n",
      "118/118 - 1s - 6ms/step - accuracy: 0.8654 - loss: 0.3779 - val_accuracy: 0.8418 - val_loss: 0.4447\n",
      "Epoch 29/30\n",
      "118/118 - 1s - 6ms/step - accuracy: 0.9574 - loss: 0.1484 - val_accuracy: 0.9518 - val_loss: 0.1624\n",
      "118/118 - 1s - 6ms/step - accuracy: 0.8638 - loss: 0.3862 - val_accuracy: 0.8426 - val_loss: 0.4452\n",
      "Epoch 26/30\n",
      "118/118 - 1s - 7ms/step - accuracy: 0.9380 - loss: 0.2190 - val_accuracy: 0.9351 - val_loss: 0.2235\n",
      "Epoch 25/30\n",
      "118/118 - 1s - 6ms/step - accuracy: 0.9429 - loss: 0.1916 - val_accuracy: 0.9393 - val_loss: 0.2041\n",
      "118/118 - 1s - 7ms/step - accuracy: 0.8656 - loss: 0.3769 - val_accuracy: 0.8415 - val_loss: 0.4444\n",
      "Epoch 30/30\n",
      "118/118 - 1s - 7ms/step - accuracy: 0.8642 - loss: 0.3850 - val_accuracy: 0.8425 - val_loss: 0.4448\n",
      "Epoch 27/30\n",
      "118/118 - 1s - 7ms/step - accuracy: 0.9384 - loss: 0.2176 - val_accuracy: 0.9353 - val_loss: 0.2228\n",
      "Epoch 26/30\n",
      "118/118 - 1s - 7ms/step - accuracy: 0.8660 - loss: 0.3759 - val_accuracy: 0.8411 - val_loss: 0.4442\n",
      "118/118 - 1s - 6ms/step - accuracy: 0.8646 - loss: 0.3838 - val_accuracy: 0.8427 - val_loss: 0.4445\n",
      "Epoch 28/30\n",
      "118/118 - 1s - 6ms/step - accuracy: 0.9387 - loss: 0.2162 - val_accuracy: 0.9355 - val_loss: 0.2221\n",
      "Epoch 27/30\n",
      "118/118 - 1s - 6ms/step - accuracy: 0.8649 - loss: 0.3827 - val_accuracy: 0.8430 - val_loss: 0.4442\n",
      "Epoch 29/30\n",
      "118/118 - 1s - 6ms/step - accuracy: 0.9391 - loss: 0.2150 - val_accuracy: 0.9358 - val_loss: 0.2215\n",
      "Epoch 28/30\n",
      "118/118 - 1s - 6ms/step - accuracy: 0.8653 - loss: 0.3817 - val_accuracy: 0.8434 - val_loss: 0.4439\n",
      "Epoch 30/30\n",
      "118/118 - 1s - 6ms/step - accuracy: 0.9393 - loss: 0.2138 - val_accuracy: 0.9358 - val_loss: 0.2210\n",
      "Epoch 29/30\n",
      "118/118 - 1s - 6ms/step - accuracy: 0.8654 - loss: 0.3807 - val_accuracy: 0.8431 - val_loss: 0.4437\n",
      "118/118 - 1s - 6ms/step - accuracy: 0.9397 - loss: 0.2127 - val_accuracy: 0.9361 - val_loss: 0.2204\n",
      "Epoch 30/30\n",
      "118/118 - 1s - 5ms/step - accuracy: 0.9401 - loss: 0.2116 - val_accuracy: 0.9368 - val_loss: 0.2200\n"
     ]
    }
   ],
   "source": [
    "\n",
    "def frontload_data():\n",
    "    from tensorflow import keras\n",
    "    mnist_dataset = keras.datasets.fashion_mnist\n",
    "    (train_images, train_labels), (test_images, test_labels) = mnist_dataset.load_data()\n",
    "    mnist_dataset = keras.datasets.mnist\n",
    "    (train_images, train_labels), (test_images, test_labels) = mnist_dataset.load_data()\n",
    "\n",
    "def pool_job(input):\n",
    "    this_model = Model(*input)\n",
    "    this_model.set_data()\n",
    "    this_model.prep()\n",
    "    this_model.pre_filter()\n",
    "    this_model.fit()\n",
    "    this_model.save_filtered()\n",
    "\n",
    "frontload_data()\n",
    "#to prevent race condition\n",
    "with ProcessPoolExecutor(8) as executor:\n",
    "    runner = {\n",
    "            executor.submit(pool_job, m): m for m in models\n",
    "        }\n",
    "    for future in as_completed(runner):\n",
    "        runner.pop(future)\n",
    "\n",
    "\n",
    "\n"
   ]
  },
  {
   "cell_type": "code",
   "execution_count": 3,
   "metadata": {},
   "outputs": [
    {
     "name": "stderr",
     "output_type": "stream",
     "text": [
      "2024-07-22 08:56:53.896511: I external/local_tsl/tsl/profiler/lib/profiler_session.cc:104] Profiler session initializing.\n",
      "2024-07-22 08:56:53.896604: I external/local_tsl/tsl/profiler/lib/profiler_session.cc:119] Profiler session started.\n",
      "2024-07-22 08:56:53.897191: I external/local_tsl/tsl/profiler/lib/profiler_session.cc:104] Profiler session initializing.\n",
      "2024-07-22 08:56:53.897397: I external/local_tsl/tsl/profiler/lib/profiler_session.cc:119] Profiler session started.\n",
      "2024-07-22 08:56:53.897674: I external/local_tsl/tsl/profiler/lib/profiler_session.cc:104] Profiler session initializing.\n",
      "2024-07-22 08:56:53.897757: I external/local_tsl/tsl/profiler/lib/profiler_session.cc:119] Profiler session started.\n",
      "2024-07-22 08:56:53.897613: I external/local_tsl/tsl/profiler/lib/profiler_session.cc:104] Profiler session initializing.\n",
      "2024-07-22 08:56:53.897821: I external/local_tsl/tsl/profiler/lib/profiler_session.cc:119] Profiler session started.\n",
      "2024-07-22 08:56:53.897900: I external/local_tsl/tsl/profiler/lib/profiler_session.cc:104] Profiler session initializing.\n",
      "2024-07-22 08:56:53.897888: I external/local_tsl/tsl/profiler/lib/profiler_session.cc:104] Profiler session initializing.\n",
      "2024-07-22 08:56:53.898043: I external/local_tsl/tsl/profiler/lib/profiler_session.cc:119] Profiler session started.\n",
      "2024-07-22 08:56:53.898077: I external/local_tsl/tsl/profiler/lib/profiler_session.cc:119] Profiler session started.\n",
      "2024-07-22 08:56:53.898704: I external/local_tsl/tsl/profiler/lib/profiler_session.cc:104] Profiler session initializing.\n",
      "2024-07-22 08:56:53.898887: I external/local_tsl/tsl/profiler/lib/profiler_session.cc:119] Profiler session started.\n",
      "2024-07-22 08:56:53.898912: I external/local_tsl/tsl/profiler/lib/profiler_session.cc:104] Profiler session initializing.\n",
      "2024-07-22 08:56:53.899107: I external/local_tsl/tsl/profiler/lib/profiler_session.cc:119] Profiler session started.\n",
      "2024-07-22 08:56:53.931248: I external/local_xla/xla/backends/profiler/gpu/cupti_tracer.cc:1239] Profiler found 1 GPUs\n",
      "2024-07-22 08:56:53.931310: I external/local_xla/xla/backends/profiler/gpu/cupti_tracer.cc:1239] Profiler found 1 GPUs\n",
      "2024-07-22 08:56:53.931404: I external/local_xla/xla/backends/profiler/gpu/cupti_tracer.cc:1239] Profiler found 1 GPUs\n",
      "2024-07-22 08:56:53.931614: I external/local_xla/xla/backends/profiler/gpu/cupti_tracer.cc:1239] Profiler found 1 GPUs\n",
      "2024-07-22 08:56:53.931952: I external/local_xla/xla/backends/profiler/gpu/cupti_tracer.cc:1239] Profiler found 1 GPUs\n",
      "2024-07-22 08:56:53.932234: I external/local_xla/xla/backends/profiler/gpu/cupti_tracer.cc:1239] Profiler found 1 GPUs\n",
      "2024-07-22 08:56:53.932510: I external/local_xla/xla/backends/profiler/gpu/cupti_tracer.cc:1239] Profiler found 1 GPUs\n",
      "2024-07-22 08:56:53.932876: I external/local_xla/xla/backends/profiler/gpu/cupti_tracer.cc:1239] Profiler found 1 GPUs\n",
      "2024-07-22 08:56:53.950670: I external/local_tsl/tsl/profiler/lib/profiler_session.cc:131] Profiler session tear down.\n",
      "2024-07-22 08:56:53.950795: I external/local_xla/xla/backends/profiler/gpu/cupti_tracer.cc:1364] CUPTI activity buffer flushed\n",
      "2024-07-22 08:56:53.952967: I external/local_tsl/tsl/profiler/lib/profiler_session.cc:131] Profiler session tear down.\n",
      "2024-07-22 08:56:53.953124: I external/local_xla/xla/backends/profiler/gpu/cupti_tracer.cc:1364] CUPTI activity buffer flushed\n",
      "2024-07-22 08:56:53.954525: I external/local_tsl/tsl/profiler/lib/profiler_session.cc:131] Profiler session tear down.\n",
      "2024-07-22 08:56:53.954673: I external/local_xla/xla/backends/profiler/gpu/cupti_tracer.cc:1364] CUPTI activity buffer flushed\n",
      "2024-07-22 08:56:53.956089: I external/local_tsl/tsl/profiler/lib/profiler_session.cc:131] Profiler session tear down.\n",
      "2024-07-22 08:56:53.956269: I external/local_xla/xla/backends/profiler/gpu/cupti_tracer.cc:1364] CUPTI activity buffer flushed\n",
      "2024-07-22 08:56:53.958849: I external/local_tsl/tsl/profiler/lib/profiler_session.cc:131] Profiler session tear down.\n",
      "2024-07-22 08:56:53.959005: I external/local_xla/xla/backends/profiler/gpu/cupti_tracer.cc:1364] CUPTI activity buffer flushed\n",
      "2024-07-22 08:56:53.959896: I external/local_tsl/tsl/profiler/lib/profiler_session.cc:131] Profiler session tear down.\n",
      "2024-07-22 08:56:53.960049: I external/local_xla/xla/backends/profiler/gpu/cupti_tracer.cc:1364] CUPTI activity buffer flushed\n",
      "2024-07-22 08:56:53.961667: I external/local_tsl/tsl/profiler/lib/profiler_session.cc:131] Profiler session tear down.\n",
      "2024-07-22 08:56:53.961669: I external/local_tsl/tsl/profiler/lib/profiler_session.cc:131] Profiler session tear down.\n",
      "2024-07-22 08:56:53.961807: I external/local_xla/xla/backends/profiler/gpu/cupti_tracer.cc:1364] CUPTI activity buffer flushed\n",
      "2024-07-22 08:56:53.961806: I external/local_xla/xla/backends/profiler/gpu/cupti_tracer.cc:1364] CUPTI activity buffer flushed\n",
      "2024-07-22 08:56:54.293150: I tensorflow/core/common_runtime/gpu/gpu_process_state.cc:238] Using CUDA malloc Async allocator for GPU: 0\n",
      "2024-07-22 08:56:54.293672: I tensorflow/core/common_runtime/gpu/gpu_device.cc:1928] Created device /job:localhost/replica:0/task:0/device:GPU:0 with 6769 MB memory:  -> device: 0, name: NVIDIA GeForce RTX 2080, pci bus id: 0000:b3:00.0, compute capability: 7.5\n",
      "2024-07-22 08:56:54.363785: I tensorflow/core/common_runtime/gpu/gpu_process_state.cc:238] Using CUDA malloc Async allocator for GPU: 0\n",
      "2024-07-22 08:56:54.365234: I tensorflow/core/common_runtime/gpu/gpu_device.cc:1928] Created device /job:localhost/replica:0/task:0/device:GPU:0 with 6651 MB memory:  -> device: 0, name: NVIDIA GeForce RTX 2080, pci bus id: 0000:b3:00.0, compute capability: 7.5\n",
      "2024-07-22 08:56:54.435277: I tensorflow/core/common_runtime/gpu/gpu_process_state.cc:238] Using CUDA malloc Async allocator for GPU: 0\n",
      "2024-07-22 08:56:54.437173: I tensorflow/core/common_runtime/gpu/gpu_device.cc:1928] Created device /job:localhost/replica:0/task:0/device:GPU:0 with 6457 MB memory:  -> device: 0, name: NVIDIA GeForce RTX 2080, pci bus id: 0000:b3:00.0, compute capability: 7.5\n",
      "2024-07-22 08:56:54.485654: I tensorflow/core/common_runtime/gpu/gpu_process_state.cc:238] Using CUDA malloc Async allocator for GPU: 0\n",
      "2024-07-22 08:56:54.486396: I tensorflow/core/common_runtime/gpu/gpu_device.cc:1928] Created device /job:localhost/replica:0/task:0/device:GPU:0 with 6129 MB memory:  -> device: 0, name: NVIDIA GeForce RTX 2080, pci bus id: 0000:b3:00.0, compute capability: 7.5\n",
      "2024-07-22 08:56:54.490126: I tensorflow/core/common_runtime/gpu/gpu_process_state.cc:238] Using CUDA malloc Async allocator for GPU: 0\n",
      "2024-07-22 08:56:54.502034: I tensorflow/core/common_runtime/gpu/gpu_device.cc:1928] Created device /job:localhost/replica:0/task:0/device:GPU:0 with 6129 MB memory:  -> device: 0, name: NVIDIA GeForce RTX 2080, pci bus id: 0000:b3:00.0, compute capability: 7.5\n",
      "2024-07-22 08:56:54.503598: I tensorflow/core/common_runtime/gpu/gpu_process_state.cc:238] Using CUDA malloc Async allocator for GPU: 0\n",
      "2024-07-22 08:56:54.505139: I tensorflow/core/common_runtime/gpu/gpu_device.cc:1928] Created device /job:localhost/replica:0/task:0/device:GPU:0 with 6127 MB memory:  -> device: 0, name: NVIDIA GeForce RTX 2080, pci bus id: 0000:b3:00.0, compute capability: 7.5\n",
      "2024-07-22 08:56:54.571783: I tensorflow/core/common_runtime/gpu/gpu_process_state.cc:238] Using CUDA malloc Async allocator for GPU: 0\n",
      "2024-07-22 08:56:54.572459: I tensorflow/core/common_runtime/gpu/gpu_device.cc:1928] Created device /job:localhost/replica:0/task:0/device:GPU:0 with 5833 MB memory:  -> device: 0, name: NVIDIA GeForce RTX 2080, pci bus id: 0000:b3:00.0, compute capability: 7.5\n",
      "2024-07-22 08:56:54.582236: I tensorflow/core/common_runtime/gpu/gpu_process_state.cc:238] Using CUDA malloc Async allocator for GPU: 0\n",
      "2024-07-22 08:56:54.583436: I tensorflow/core/common_runtime/gpu/gpu_device.cc:1928] Created device /job:localhost/replica:0/task:0/device:GPU:0 with 5937 MB memory:  -> device: 0, name: NVIDIA GeForce RTX 2080, pci bus id: 0000:b3:00.0, compute capability: 7.5\n",
      "WARNING: All log messages before absl::InitializeLog() is called are written to STDERR\n",
      "I0000 00:00:1721638614.757524   13850 service.cc:145] XLA service 0x7c14f8002790 initialized for platform CUDA (this does not guarantee that XLA will be used). Devices:\n",
      "I0000 00:00:1721638614.757576   13850 service.cc:153]   StreamExecutor device (0): NVIDIA GeForce RTX 2080, Compute Capability 7.5\n",
      "2024-07-22 08:56:54.767606: I tensorflow/compiler/mlir/tensorflow/utils/dump_mlir_util.cc:268] disabling MLIR crash reproducer, set env var `MLIR_CRASH_REPRODUCER_DIRECTORY` to enable.\n",
      "WARNING: All log messages before absl::InitializeLog() is called are written to STDERR\n",
      "I0000 00:00:1721638614.816238   13893 service.cc:145] XLA service 0x7c14f4003d00 initialized for platform CUDA (this does not guarantee that XLA will be used). Devices:\n",
      "I0000 00:00:1721638614.816277   13893 service.cc:153]   StreamExecutor device (0): NVIDIA GeForce RTX 2080, Compute Capability 7.5\n",
      "2024-07-22 08:56:54.823374: I external/local_xla/xla/stream_executor/cuda/cuda_dnn.cc:465] Loaded cuDNN version 8907\n",
      "2024-07-22 08:56:54.823887: I tensorflow/compiler/mlir/tensorflow/utils/dump_mlir_util.cc:268] disabling MLIR crash reproducer, set env var `MLIR_CRASH_REPRODUCER_DIRECTORY` to enable.\n",
      "2024-07-22 08:56:54.857098: I external/local_xla/xla/stream_executor/cuda/cuda_dnn.cc:465] Loaded cuDNN version 8907\n",
      "WARNING: All log messages before absl::InitializeLog() is called are written to STDERR\n",
      "I0000 00:00:1721638614.887870   13952 service.cc:145] XLA service 0x7c14f40037e0 initialized for platform CUDA (this does not guarantee that XLA will be used). Devices:\n",
      "I0000 00:00:1721638614.887915   13952 service.cc:153]   StreamExecutor device (0): NVIDIA GeForce RTX 2080, Compute Capability 7.5\n",
      "2024-07-22 08:56:54.896978: I tensorflow/compiler/mlir/tensorflow/utils/dump_mlir_util.cc:268] disabling MLIR crash reproducer, set env var `MLIR_CRASH_REPRODUCER_DIRECTORY` to enable.\n",
      "WARNING: All log messages before absl::InitializeLog() is called are written to STDERR\n",
      "I0000 00:00:1721638614.939023   13937 service.cc:145] XLA service 0x7c14f8003f60 initialized for platform CUDA (this does not guarantee that XLA will be used). Devices:\n",
      "I0000 00:00:1721638614.939058   13937 service.cc:153]   StreamExecutor device (0): NVIDIA GeForce RTX 2080, Compute Capability 7.5\n",
      "2024-07-22 08:56:54.945336: I external/local_xla/xla/stream_executor/cuda/cuda_dnn.cc:465] Loaded cuDNN version 8907\n",
      "2024-07-22 08:56:54.946994: I tensorflow/compiler/mlir/tensorflow/utils/dump_mlir_util.cc:268] disabling MLIR crash reproducer, set env var `MLIR_CRASH_REPRODUCER_DIRECTORY` to enable.\n",
      "I0000 00:00:1721638614.954175   13850 device_compiler.h:188] Compiled cluster using XLA!  This line is logged at most once for the lifetime of the process.\n",
      "WARNING: All log messages before absl::InitializeLog() is called are written to STDERR\n",
      "I0000 00:00:1721638614.955406   13982 service.cc:145] XLA service 0x7c14f40141c0 initialized for platform CUDA (this does not guarantee that XLA will be used). Devices:\n",
      "I0000 00:00:1721638614.955462   13982 service.cc:153]   StreamExecutor device (0): NVIDIA GeForce RTX 2080, Compute Capability 7.5\n"
     ]
    },
    {
     "name": "stdout",
     "output_type": "stream",
     "text": [
      "\u001b[1m159/313\u001b[0m \u001b[32m━━━━━━━━━━\u001b[0m\u001b[37m━━━━━━━━━━\u001b[0m \u001b[1m0s\u001b[0m 1ms/step"
     ]
    },
    {
     "name": "stderr",
     "output_type": "stream",
     "text": [
      "2024-07-22 08:56:54.967207: I tensorflow/compiler/mlir/tensorflow/utils/dump_mlir_util.cc:268] disabling MLIR crash reproducer, set env var `MLIR_CRASH_REPRODUCER_DIRECTORY` to enable.\n",
      "I0000 00:00:1721638614.980486   13893 device_compiler.h:188] Compiled cluster using XLA!  This line is logged at most once for the lifetime of the process.\n",
      "2024-07-22 08:56:54.981085: I external/local_xla/xla/stream_executor/cuda/cuda_dnn.cc:465] Loaded cuDNN version 8907\n",
      "WARNING: All log messages before absl::InitializeLog() is called are written to STDERR\n",
      "I0000 00:00:1721638614.996912   13969 service.cc:145] XLA service 0x7c14ec014cc0 initialized for platform CUDA (this does not guarantee that XLA will be used). Devices:\n",
      "I0000 00:00:1721638614.996963   13969 service.cc:153]   StreamExecutor device (0): NVIDIA GeForce RTX 2080, Compute Capability 7.5\n",
      "2024-07-22 08:56:55.004923: I tensorflow/compiler/mlir/tensorflow/utils/dump_mlir_util.cc:268] disabling MLIR crash reproducer, set env var `MLIR_CRASH_REPRODUCER_DIRECTORY` to enable.\n",
      "2024-07-22 08:56:55.007973: I external/local_xla/xla/stream_executor/cuda/cuda_dnn.cc:465] Loaded cuDNN version 8907\n",
      "WARNING: All log messages before absl::InitializeLog() is called are written to STDERR\n",
      "I0000 00:00:1721638615.016355   13997 service.cc:145] XLA service 0x7c14fc003d70 initialized for platform CUDA (this does not guarantee that XLA will be used). Devices:\n",
      "I0000 00:00:1721638615.016394   13997 service.cc:153]   StreamExecutor device (0): NVIDIA GeForce RTX 2080, Compute Capability 7.5\n",
      "2024-07-22 08:56:55.025326: I tensorflow/compiler/mlir/tensorflow/utils/dump_mlir_util.cc:268] disabling MLIR crash reproducer, set env var `MLIR_CRASH_REPRODUCER_DIRECTORY` to enable.\n",
      "2024-07-22 08:56:55.050890: I external/local_xla/xla/stream_executor/cuda/cuda_dnn.cc:465] Loaded cuDNN version 8907\n",
      "WARNING: All log messages before absl::InitializeLog() is called are written to STDERR\n",
      "I0000 00:00:1721638615.068429   14012 service.cc:145] XLA service 0x7c14f0004110 initialized for platform CUDA (this does not guarantee that XLA will be used). Devices:\n",
      "I0000 00:00:1721638615.068479   14012 service.cc:153]   StreamExecutor device (0): NVIDIA GeForce RTX 2080, Compute Capability 7.5\n",
      "I0000 00:00:1721638615.069825   13952 device_compiler.h:188] Compiled cluster using XLA!  This line is logged at most once for the lifetime of the process.\n",
      "2024-07-22 08:56:55.077076: I external/local_xla/xla/stream_executor/cuda/cuda_dnn.cc:465] Loaded cuDNN version 8907\n",
      "2024-07-22 08:56:55.077393: I tensorflow/compiler/mlir/tensorflow/utils/dump_mlir_util.cc:268] disabling MLIR crash reproducer, set env var `MLIR_CRASH_REPRODUCER_DIRECTORY` to enable.\n",
      "I0000 00:00:1721638615.121497   13937 device_compiler.h:188] Compiled cluster using XLA!  This line is logged at most once for the lifetime of the process.\n",
      "2024-07-22 08:56:55.121953: I external/local_xla/xla/stream_executor/cuda/cuda_dnn.cc:465] Loaded cuDNN version 8907\n",
      "I0000 00:00:1721638615.167330   13982 device_compiler.h:188] Compiled cluster using XLA!  This line is logged at most once for the lifetime of the process.\n"
     ]
    },
    {
     "name": "stdout",
     "output_type": "stream",
     "text": [
      "\u001b[1m231/313\u001b[0m \u001b[32m━━━━━━━━━━━━━━\u001b[0m\u001b[37m━━━━━━\u001b[0m \u001b[1m0s\u001b[0m 1ms/step"
     ]
    },
    {
     "name": "stderr",
     "output_type": "stream",
     "text": [
      "I0000 00:00:1721638615.210528   13969 device_compiler.h:188] Compiled cluster using XLA!  This line is logged at most once for the lifetime of the process.\n",
      "I0000 00:00:1721638615.272852   13997 device_compiler.h:188] Compiled cluster using XLA!  This line is logged at most once for the lifetime of the process.\n",
      "I0000 00:00:1721638615.308152   14012 device_compiler.h:188] Compiled cluster using XLA!  This line is logged at most once for the lifetime of the process.\n"
     ]
    },
    {
     "name": "stdout",
     "output_type": "stream",
     "text": [
      "\u001b[1m313/313\u001b[0m \u001b[32m━━━━━━━━━━━━━━━━━━━━\u001b[0m\u001b[37m\u001b[0m \u001b[1m1s\u001b[0m 2ms/step\n",
      "\u001b[1m313/313\u001b[0m \u001b[32m━━━━━━━━━━━━━━━━━━━━\u001b[0m\u001b[37m\u001b[0m \u001b[1m1s\u001b[0m 2ms/step\n",
      "\u001b[1m313/313\u001b[0m \u001b[32m━━━━━━━━━━━━━━━━━━━━\u001b[0m\u001b[37m\u001b[0m \u001b[1m1s\u001b[0m 2ms/step\n",
      "\u001b[1m313/313\u001b[0m \u001b[32m━━━━━━━━━━━━━━━━━━━━\u001b[0m\u001b[37m\u001b[0m \u001b[1m1s\u001b[0m 2ms/step\n",
      "\u001b[1m313/313\u001b[0m \u001b[32m━━━━━━━━━━━━━━━━━━━━\u001b[0m\u001b[37m\u001b[0m \u001b[1m1s\u001b[0m 2ms/step\n",
      "\u001b[1m313/313\u001b[0m \u001b[32m━━━━━━━━━━━━━━━━━━━━\u001b[0m\u001b[37m\u001b[0m \u001b[1m1s\u001b[0m 2ms/step\n"
     ]
    },
    {
     "name": "stderr",
     "output_type": "stream",
     "text": [
      "/opt/conda/envs/QML-QPF/lib/python3.10/site-packages/keras/src/saving/saving_lib.py:576: UserWarning: Skipping variable loading for optimizer 'adam', because it has 2 variables whereas the saved optimizer has 6 variables. \n",
      "  saveable.load_own_variables(weights_store.get(inner_path))\n"
     ]
    },
    {
     "name": "stdout",
     "output_type": "stream",
     "text": [
      "\u001b[1m313/313\u001b[0m \u001b[32m━━━━━━━━━━━━━━━━━━━━\u001b[0m\u001b[37m\u001b[0m \u001b[1m1s\u001b[0m 2ms/step\n"
     ]
    },
    {
     "name": "stderr",
     "output_type": "stream",
     "text": [
      "/opt/conda/envs/QML-QPF/lib/python3.10/site-packages/keras/src/saving/saving_lib.py:576: UserWarning: Skipping variable loading for optimizer 'adam', because it has 2 variables whereas the saved optimizer has 6 variables. \n",
      "  saveable.load_own_variables(weights_store.get(inner_path))\n"
     ]
    },
    {
     "name": "stdout",
     "output_type": "stream",
     "text": [
      "\u001b[1m313/313\u001b[0m \u001b[32m━━━━━━━━━━━━━━━━━━━━\u001b[0m\u001b[37m\u001b[0m \u001b[1m1s\u001b[0m 2ms/step\n"
     ]
    },
    {
     "name": "stderr",
     "output_type": "stream",
     "text": [
      "/opt/conda/envs/QML-QPF/lib/python3.10/site-packages/keras/src/saving/saving_lib.py:576: UserWarning: Skipping variable loading for optimizer 'adam', because it has 2 variables whereas the saved optimizer has 6 variables. \n",
      "  saveable.load_own_variables(weights_store.get(inner_path))\n",
      "/opt/conda/envs/QML-QPF/lib/python3.10/site-packages/keras/src/saving/saving_lib.py:576: UserWarning: Skipping variable loading for optimizer 'adam', because it has 2 variables whereas the saved optimizer has 6 variables. \n",
      "  saveable.load_own_variables(weights_store.get(inner_path))\n",
      "/opt/conda/envs/QML-QPF/lib/python3.10/site-packages/keras/src/saving/saving_lib.py:576: UserWarning: Skipping variable loading for optimizer 'adam', because it has 2 variables whereas the saved optimizer has 6 variables. \n",
      "  saveable.load_own_variables(weights_store.get(inner_path))\n",
      "/opt/conda/envs/QML-QPF/lib/python3.10/site-packages/keras/src/saving/saving_lib.py:576: UserWarning: Skipping variable loading for optimizer 'adam', because it has 2 variables whereas the saved optimizer has 6 variables. \n",
      "  saveable.load_own_variables(weights_store.get(inner_path))\n",
      "/opt/conda/envs/QML-QPF/lib/python3.10/site-packages/keras/src/saving/saving_lib.py:576: UserWarning: Skipping variable loading for optimizer 'adam', because it has 2 variables whereas the saved optimizer has 6 variables. \n",
      "  saveable.load_own_variables(weights_store.get(inner_path))\n",
      "/opt/conda/envs/QML-QPF/lib/python3.10/site-packages/keras/src/saving/saving_lib.py:576: UserWarning: Skipping variable loading for optimizer 'adam', because it has 2 variables whereas the saved optimizer has 6 variables. \n",
      "  saveable.load_own_variables(weights_store.get(inner_path))\n"
     ]
    },
    {
     "name": "stdout",
     "output_type": "stream",
     "text": [
      "/workspaces/QML-QPF/multiprocessing/output/20240722-085506/visuals/weights/MNISTMNISTqentcnot.gif\n",
      "/workspaces/QML-QPF/multiprocessing/output/20240722-085506/visuals/weights/MNISTMNISTqcnot.gif\n",
      "/workspaces/QML-QPF/multiprocessing/output/20240722-085506/visuals/weights/MNISTMNISTqrand.gif\n",
      "/workspaces/QML-QPF/multiprocessing/output/20240722-085506/visuals/weights/FASHIONMNISTFASHIONMNISTno_filter.gif\n",
      "/workspaces/QML-QPF/multiprocessing/output/20240722-085506/visuals/weights/FASHIONMNISTFASHIONMNISTqcnot.gif\n",
      "/workspaces/QML-QPF/multiprocessing/output/20240722-085506/visuals/weights/MNISTMNISTno_filter.gif\n",
      "/workspaces/QML-QPF/multiprocessing/output/20240722-085506/visuals/weights/FASHIONMNISTFASHIONMNISTqentcnot.gif\n",
      "/workspaces/QML-QPF/multiprocessing/output/20240722-085506/visuals/weights/FASHIONMNISTFASHIONMNISTqrand.gif\n",
      "WARNING:tensorflow:5 out of the last 5 calls to <function pfor.<locals>.f at 0x7c166e1276d0> triggered tf.function retracing. Tracing is expensive and the excessive number of tracings could be due to (1) creating @tf.function repeatedly in a loop, (2) passing tensors with different shapes, (3) passing Python objects instead of tensors. For (1), please define your @tf.function outside of the loop. For (2), @tf.function has reduce_retracing=True option that can avoid unnecessary retracing. For (3), please refer to https://www.tensorflow.org/guide/function#controlling_retracing and https://www.tensorflow.org/api_docs/python/tf/function for  more details.\n",
      "WARNING:tensorflow:6 out of the last 6 calls to <function pfor.<locals>.f at 0x7c166e169510> triggered tf.function retracing. Tracing is expensive and the excessive number of tracings could be due to (1) creating @tf.function repeatedly in a loop, (2) passing tensors with different shapes, (3) passing Python objects instead of tensors. For (1), please define your @tf.function outside of the loop. For (2), @tf.function has reduce_retracing=True option that can avoid unnecessary retracing. For (3), please refer to https://www.tensorflow.org/guide/function#controlling_retracing and https://www.tensorflow.org/api_docs/python/tf/function for  more details.\n",
      "WARNING:tensorflow:5 out of the last 5 calls to <function pfor.<locals>.f at 0x7c166e127640> triggered tf.function retracing. Tracing is expensive and the excessive number of tracings could be due to (1) creating @tf.function repeatedly in a loop, (2) passing tensors with different shapes, (3) passing Python objects instead of tensors. For (1), please define your @tf.function outside of the loop. For (2), @tf.function has reduce_retracing=True option that can avoid unnecessary retracing. For (3), please refer to https://www.tensorflow.org/guide/function#controlling_retracing and https://www.tensorflow.org/api_docs/python/tf/function for  more details.\n",
      "WARNING:tensorflow:6 out of the last 6 calls to <function pfor.<locals>.f at 0x7c166e169630> triggered tf.function retracing. Tracing is expensive and the excessive number of tracings could be due to (1) creating @tf.function repeatedly in a loop, (2) passing tensors with different shapes, (3) passing Python objects instead of tensors. For (1), please define your @tf.function outside of the loop. For (2), @tf.function has reduce_retracing=True option that can avoid unnecessary retracing. For (3), please refer to https://www.tensorflow.org/guide/function#controlling_retracing and https://www.tensorflow.org/api_docs/python/tf/function for  more details.\n",
      "WARNING:tensorflow:5 out of the last 5 calls to <function pfor.<locals>.f at 0x7c166e1375b0> triggered tf.function retracing. Tracing is expensive and the excessive number of tracings could be due to (1) creating @tf.function repeatedly in a loop, (2) passing tensors with different shapes, (3) passing Python objects instead of tensors. For (1), please define your @tf.function outside of the loop. For (2), @tf.function has reduce_retracing=True option that can avoid unnecessary retracing. For (3), please refer to https://www.tensorflow.org/guide/function#controlling_retracing and https://www.tensorflow.org/api_docs/python/tf/function for  more details.\n",
      "WARNING:tensorflow:5 out of the last 5 calls to <function pfor.<locals>.f at 0x7c166e11a710> triggered tf.function retracing. Tracing is expensive and the excessive number of tracings could be due to (1) creating @tf.function repeatedly in a loop, (2) passing tensors with different shapes, (3) passing Python objects instead of tensors. For (1), please define your @tf.function outside of the loop. For (2), @tf.function has reduce_retracing=True option that can avoid unnecessary retracing. For (3), please refer to https://www.tensorflow.org/guide/function#controlling_retracing and https://www.tensorflow.org/api_docs/python/tf/function for  more details.\n",
      "WARNING:tensorflow:6 out of the last 6 calls to <function pfor.<locals>.f at 0x7c166e149bd0> triggered tf.function retracing. Tracing is expensive and the excessive number of tracings could be due to (1) creating @tf.function repeatedly in a loop, (2) passing tensors with different shapes, (3) passing Python objects instead of tensors. For (1), please define your @tf.function outside of the loop. For (2), @tf.function has reduce_retracing=True option that can avoid unnecessary retracing. For (3), please refer to https://www.tensorflow.org/guide/function#controlling_retracing and https://www.tensorflow.org/api_docs/python/tf/function for  more details.\n",
      "WARNING:tensorflow:5 out of the last 5 calls to <function pfor.<locals>.f at 0x7c166e127640> triggered tf.function retracing. Tracing is expensive and the excessive number of tracings could be due to (1) creating @tf.function repeatedly in a loop, (2) passing tensors with different shapes, (3) passing Python objects instead of tensors. For (1), please define your @tf.function outside of the loop. For (2), @tf.function has reduce_retracing=True option that can avoid unnecessary retracing. For (3), please refer to https://www.tensorflow.org/guide/function#controlling_retracing and https://www.tensorflow.org/api_docs/python/tf/function for  more details.\n",
      "WARNING:tensorflow:6 out of the last 6 calls to <function pfor.<locals>.f at 0x7c166e130a60> triggered tf.function retracing. Tracing is expensive and the excessive number of tracings could be due to (1) creating @tf.function repeatedly in a loop, (2) passing tensors with different shapes, (3) passing Python objects instead of tensors. For (1), please define your @tf.function outside of the loop. For (2), @tf.function has reduce_retracing=True option that can avoid unnecessary retracing. For (3), please refer to https://www.tensorflow.org/guide/function#controlling_retracing and https://www.tensorflow.org/api_docs/python/tf/function for  more details.\n",
      "WARNING:tensorflow:6 out of the last 6 calls to <function pfor.<locals>.f at 0x7c166e169630> triggered tf.function retracing. Tracing is expensive and the excessive number of tracings could be due to (1) creating @tf.function repeatedly in a loop, (2) passing tensors with different shapes, (3) passing Python objects instead of tensors. For (1), please define your @tf.function outside of the loop. For (2), @tf.function has reduce_retracing=True option that can avoid unnecessary retracing. For (3), please refer to https://www.tensorflow.org/guide/function#controlling_retracing and https://www.tensorflow.org/api_docs/python/tf/function for  more details.\n",
      "WARNING:tensorflow:5 out of the last 5 calls to <function pfor.<locals>.f at 0x7c166e1168c0> triggered tf.function retracing. Tracing is expensive and the excessive number of tracings could be due to (1) creating @tf.function repeatedly in a loop, (2) passing tensors with different shapes, (3) passing Python objects instead of tensors. For (1), please define your @tf.function outside of the loop. For (2), @tf.function has reduce_retracing=True option that can avoid unnecessary retracing. For (3), please refer to https://www.tensorflow.org/guide/function#controlling_retracing and https://www.tensorflow.org/api_docs/python/tf/function for  more details.\n",
      "WARNING:tensorflow:6 out of the last 6 calls to <function pfor.<locals>.f at 0x7c166e130dc0> triggered tf.function retracing. Tracing is expensive and the excessive number of tracings could be due to (1) creating @tf.function repeatedly in a loop, (2) passing tensors with different shapes, (3) passing Python objects instead of tensors. For (1), please define your @tf.function outside of the loop. For (2), @tf.function has reduce_retracing=True option that can avoid unnecessary retracing. For (3), please refer to https://www.tensorflow.org/guide/function#controlling_retracing and https://www.tensorflow.org/api_docs/python/tf/function for  more details.\n",
      "WARNING:tensorflow:5 out of the last 5 calls to <function pfor.<locals>.f at 0x7c166e137520> triggered tf.function retracing. Tracing is expensive and the excessive number of tracings could be due to (1) creating @tf.function repeatedly in a loop, (2) passing tensors with different shapes, (3) passing Python objects instead of tensors. For (1), please define your @tf.function outside of the loop. For (2), @tf.function has reduce_retracing=True option that can avoid unnecessary retracing. For (3), please refer to https://www.tensorflow.org/guide/function#controlling_retracing and https://www.tensorflow.org/api_docs/python/tf/function for  more details.\n",
      "WARNING:tensorflow:6 out of the last 6 calls to <function pfor.<locals>.f at 0x7c166e14db40> triggered tf.function retracing. Tracing is expensive and the excessive number of tracings could be due to (1) creating @tf.function repeatedly in a loop, (2) passing tensors with different shapes, (3) passing Python objects instead of tensors. For (1), please define your @tf.function outside of the loop. For (2), @tf.function has reduce_retracing=True option that can avoid unnecessary retracing. For (3), please refer to https://www.tensorflow.org/guide/function#controlling_retracing and https://www.tensorflow.org/api_docs/python/tf/function for  more details.\n",
      "WARNING:tensorflow:5 out of the last 5 calls to <function pfor.<locals>.f at 0x7c166e137640> triggered tf.function retracing. Tracing is expensive and the excessive number of tracings could be due to (1) creating @tf.function repeatedly in a loop, (2) passing tensors with different shapes, (3) passing Python objects instead of tensors. For (1), please define your @tf.function outside of the loop. For (2), @tf.function has reduce_retracing=True option that can avoid unnecessary retracing. For (3), please refer to https://www.tensorflow.org/guide/function#controlling_retracing and https://www.tensorflow.org/api_docs/python/tf/function for  more details.\n",
      "WARNING:tensorflow:6 out of the last 6 calls to <function pfor.<locals>.f at 0x7c166e17d630> triggered tf.function retracing. Tracing is expensive and the excessive number of tracings could be due to (1) creating @tf.function repeatedly in a loop, (2) passing tensors with different shapes, (3) passing Python objects instead of tensors. For (1), please define your @tf.function outside of the loop. For (2), @tf.function has reduce_retracing=True option that can avoid unnecessary retracing. For (3), please refer to https://www.tensorflow.org/guide/function#controlling_retracing and https://www.tensorflow.org/api_docs/python/tf/function for  more details.\n",
      "/workspaces/QML-QPF/multiprocessing/output/20240722-085506/visuals/relative_weights/FASHIONMNISTFASHIONMNISTno_filter.gif\n",
      "/workspaces/QML-QPF/multiprocessing/output/20240722-085506/visuals/relative_weights/MNISTMNISTqentcnot.gif\n",
      "/workspaces/QML-QPF/multiprocessing/output/20240722-085506/visuals/relative_weights/MNISTMNISTqcnot.gif\n",
      "/workspaces/QML-QPF/multiprocessing/output/20240722-085506/visuals/relative_weights/MNISTMNISTno_filter.gif\n",
      "/workspaces/QML-QPF/multiprocessing/output/20240722-085506/visuals/relative_weights/FASHIONMNISTFASHIONMNISTqentcnot.gif\n",
      "/workspaces/QML-QPF/multiprocessing/output/20240722-085506/visuals/relative_weights/MNISTMNISTqrand.gif\n",
      "/workspaces/QML-QPF/multiprocessing/output/20240722-085506/visuals/relative_weights/FASHIONMNISTFASHIONMNISTqcnot.gif\n",
      "/workspaces/QML-QPF/multiprocessing/output/20240722-085506/visuals/relative_weights/FASHIONMNISTFASHIONMNISTqrand.gif\n",
      "/workspaces/QML-QPF/multiprocessing/output/20240722-085506/visuals/bias/MNISTMNISTqentcnot.gif\n",
      "/workspaces/QML-QPF/multiprocessing/output/20240722-085506/visuals/bias/MNISTMNISTqcnot.gif\n",
      "/workspaces/QML-QPF/multiprocessing/output/20240722-085506/visuals/bias/FASHIONMNISTFASHIONMNISTqentcnot.gif\n",
      "/workspaces/QML-QPF/multiprocessing/output/20240722-085506/visuals/bias/FASHIONMNISTFASHIONMNISTno_filter.gif\n",
      "/workspaces/QML-QPF/multiprocessing/output/20240722-085506/visuals/bias/FASHIONMNISTFASHIONMNISTqrand.gif\n",
      "/workspaces/QML-QPF/multiprocessing/output/20240722-085506/visuals/bias/MNISTMNISTqrand.gif\n",
      "/workspaces/QML-QPF/multiprocessing/output/20240722-085506/visuals/bias/MNISTMNISTno_filter.gif\n",
      "/workspaces/QML-QPF/multiprocessing/output/20240722-085506/visuals/bias/FASHIONMNISTFASHIONMNISTqcnot.gif\n",
      "/workspaces/QML-QPF/multiprocessing/output/20240722-085506/visuals/relative_bias/MNISTMNISTqentcnot.gif\n",
      "/workspaces/QML-QPF/multiprocessing/output/20240722-085506/visuals/relative_bias/MNISTMNISTqcnot.gif\n",
      "/workspaces/QML-QPF/multiprocessing/output/20240722-085506/visuals/relative_bias/FASHIONMNISTFASHIONMNISTqentcnot.gif\n",
      "/workspaces/QML-QPF/multiprocessing/output/20240722-085506/visuals/relative_bias/FASHIONMNISTFASHIONMNISTno_filter.gif\n",
      "/workspaces/QML-QPF/multiprocessing/output/20240722-085506/visuals/relative_bias/MNISTMNISTqrand.gif\n",
      "/workspaces/QML-QPF/multiprocessing/output/20240722-085506/visuals/relative_bias/MNISTMNISTno_filter.gif\n",
      "/workspaces/QML-QPF/multiprocessing/output/20240722-085506/visuals/relative_bias/FASHIONMNISTFASHIONMNISTqrand.gif\n",
      "/workspaces/QML-QPF/multiprocessing/output/20240722-085506/visuals/relative_bias/FASHIONMNISTFASHIONMNISTqcnot.gif\n",
      "/workspaces/QML-QPF/multiprocessing/output/20240722-085506/visuals/individual_samples/MNISTMNISTqentcnot.png\n",
      "/workspaces/QML-QPF/multiprocessing/output/20240722-085506/visuals/relative_samples/MNISTMNISTqentcnot.png\n",
      "/workspaces/QML-QPF/multiprocessing/output/20240722-085506/visuals/filter/MNISTMNISTqentcnot.gif\n",
      "/workspaces/QML-QPF/multiprocessing/output/20240722-085506/visuals/individual_samples/FASHIONMNISTFASHIONMNISTno_filter.png\n",
      "/workspaces/QML-QPF/multiprocessing/output/20240722-085506/visuals/relative_samples/FASHIONMNISTFASHIONMNISTno_filter.png\n",
      "/workspaces/QML-QPF/multiprocessing/output/20240722-085506/visuals/individual_samples/MNISTMNISTqcnot.png\n",
      "/workspaces/QML-QPF/multiprocessing/output/20240722-085506/visuals/individual_samples/FASHIONMNISTFASHIONMNISTqentcnot.png\n",
      "/workspaces/QML-QPF/multiprocessing/output/20240722-085506/visuals/relative_samples/MNISTMNISTqcnot.png\n",
      "/workspaces/QML-QPF/multiprocessing/output/20240722-085506/visuals/relative_samples/FASHIONMNISTFASHIONMNISTqentcnot.png\n",
      "/workspaces/QML-QPF/multiprocessing/output/20240722-085506/visuals/filter/FASHIONMNISTFASHIONMNISTno_filter.gif\n",
      "/workspaces/QML-QPF/multiprocessing/output/20240722-085506/visuals/filter/MNISTMNISTqcnot.gif\n",
      "/workspaces/QML-QPF/multiprocessing/output/20240722-085506/visuals/individual_samples/MNISTMNISTno_filter.png\n",
      "/workspaces/QML-QPF/multiprocessing/output/20240722-085506/visuals/relative_samples/MNISTMNISTno_filter.png\n",
      "/workspaces/QML-QPF/multiprocessing/output/20240722-085506/visuals/filter/FASHIONMNISTFASHIONMNISTqentcnot.gif\n",
      "/workspaces/QML-QPF/multiprocessing/output/20240722-085506/visuals/filter/MNISTMNISTno_filter.gif\n",
      "/workspaces/QML-QPF/multiprocessing/output/20240722-085506/visuals/individual_samples/FASHIONMNISTFASHIONMNISTqrand.png\n",
      "/workspaces/QML-QPF/multiprocessing/output/20240722-085506/visuals/individual_samples/FASHIONMNISTFASHIONMNISTqcnot.png\n",
      "/workspaces/QML-QPF/multiprocessing/output/20240722-085506/visuals/individual_samples/MNISTMNISTqrand.png\n",
      "/workspaces/QML-QPF/multiprocessing/output/20240722-085506/visuals/relative_samples/FASHIONMNISTFASHIONMNISTqrand.png\n",
      "/workspaces/QML-QPF/multiprocessing/output/20240722-085506/visuals/relative_samples/FASHIONMNISTFASHIONMNISTqcnot.png\n",
      "/workspaces/QML-QPF/multiprocessing/output/20240722-085506/visuals/relative_samples/MNISTMNISTqrand.png\n",
      "/workspaces/QML-QPF/multiprocessing/output/20240722-085506/visuals/filter/FASHIONMNISTFASHIONMNISTqrand.gif\n",
      "/workspaces/QML-QPF/multiprocessing/output/20240722-085506/visuals/filter/FASHIONMNISTFASHIONMNISTqcnot.gif\n",
      "/workspaces/QML-QPF/multiprocessing/output/20240722-085506/visuals/filter/MNISTMNISTqrand.gif\n"
     ]
    }
   ],
   "source": [
    "def pool_job2(detail):\n",
    "    restored_model = Model(*detail)\n",
    "    restored_model.set_data()\n",
    "    restored_model.prep()\n",
    "    restored_model.load_history()\n",
    "    restored_model.visuals.weights()\n",
    "    restored_model.visuals.relative_weights()\n",
    "    restored_model.visuals.bias()\n",
    "    restored_model.visuals.relative_bias()\n",
    "    restored_model.visuals.data_samples()\n",
    "    restored_model.visuals.relative_samples()\n",
    "    restored_model.visuals.filtering()\n",
    "\n",
    "\n",
    "with ProcessPoolExecutor(8) as executor:\n",
    "    runner = {\n",
    "            executor.submit(pool_job2, m): m for m in models\n",
    "        }\n",
    "    for future in as_completed(runner):\n",
    "        runner.pop(future) "
   ]
  },
  {
   "cell_type": "code",
   "execution_count": 4,
   "metadata": {},
   "outputs": [
    {
     "name": "stderr",
     "output_type": "stream",
     "text": [
      "2024-07-22 09:03:44.772411: I external/local_tsl/tsl/profiler/lib/profiler_session.cc:104] Profiler session initializing.\n",
      "2024-07-22 09:03:44.772456: I external/local_tsl/tsl/profiler/lib/profiler_session.cc:119] Profiler session started.\n",
      "2024-07-22 09:03:44.791129: I external/local_xla/xla/backends/profiler/gpu/cupti_tracer.cc:1239] Profiler found 1 GPUs\n",
      "2024-07-22 09:03:44.804940: I external/local_tsl/tsl/profiler/lib/profiler_session.cc:131] Profiler session tear down.\n",
      "2024-07-22 09:03:44.805047: I external/local_xla/xla/backends/profiler/gpu/cupti_tracer.cc:1364] CUPTI activity buffer flushed\n",
      "2024-07-22 09:03:45.114811: I tensorflow/core/common_runtime/gpu/gpu_process_state.cc:238] Using CUDA malloc Async allocator for GPU: 0\n",
      "2024-07-22 09:03:45.115125: I tensorflow/core/common_runtime/gpu/gpu_device.cc:1928] Created device /job:localhost/replica:0/task:0/device:GPU:0 with 6795 MB memory:  -> device: 0, name: NVIDIA GeForce RTX 2080, pci bus id: 0000:b3:00.0, compute capability: 7.5\n"
     ]
    },
    {
     "name": "stdout",
     "output_type": "stream",
     "text": [
      "\u001b[1m  1/313\u001b[0m \u001b[37m━━━━━━━━━━━━━━━━━━━━\u001b[0m \u001b[1m1:29\u001b[0m 286ms/step"
     ]
    },
    {
     "name": "stderr",
     "output_type": "stream",
     "text": [
      "WARNING: All log messages before absl::InitializeLog() is called are written to STDERR\n",
      "I0000 00:00:1721639025.420349   17432 service.cc:145] XLA service 0x7c14c4014bf0 initialized for platform CUDA (this does not guarantee that XLA will be used). Devices:\n",
      "I0000 00:00:1721639025.420418   17432 service.cc:153]   StreamExecutor device (0): NVIDIA GeForce RTX 2080, Compute Capability 7.5\n",
      "2024-07-22 09:03:45.437295: I tensorflow/compiler/mlir/tensorflow/utils/dump_mlir_util.cc:268] disabling MLIR crash reproducer, set env var `MLIR_CRASH_REPRODUCER_DIRECTORY` to enable.\n",
      "2024-07-22 09:03:45.472127: I external/local_xla/xla/stream_executor/cuda/cuda_dnn.cc:465] Loaded cuDNN version 8907\n",
      "I0000 00:00:1721639025.608949   17432 device_compiler.h:188] Compiled cluster using XLA!  This line is logged at most once for the lifetime of the process.\n"
     ]
    },
    {
     "name": "stdout",
     "output_type": "stream",
     "text": [
      "\u001b[1m313/313\u001b[0m \u001b[32m━━━━━━━━━━━━━━━━━━━━\u001b[0m\u001b[37m\u001b[0m \u001b[1m1s\u001b[0m 2ms/step\n"
     ]
    },
    {
     "name": "stderr",
     "output_type": "stream",
     "text": [
      "/opt/conda/envs/QML-QPF/lib/python3.10/site-packages/keras/src/saving/saving_lib.py:576: UserWarning: Skipping variable loading for optimizer 'adam', because it has 2 variables whereas the saved optimizer has 6 variables. \n",
      "  saveable.load_own_variables(weights_store.get(inner_path))\n",
      "/opt/conda/envs/QML-QPF/lib/python3.10/site-packages/tqdm/auto.py:21: TqdmWarning: IProgress not found. Please update jupyter and ipywidgets. See https://ipywidgets.readthedocs.io/en/stable/user_install.html\n",
      "  from .autonotebook import tqdm as notebook_tqdm\n",
      "/opt/conda/envs/QML-QPF/lib/python3.10/site-packages/numba/np/ufunc/dufunc.py:343: NumbaWarning: \u001b[1mCompilation requested for previously compiled argument types ((uint32,)). This has no effect and perhaps indicates a bug in the calling code (compiling a ufunc more than once for the same signature\u001b[0m\n",
      "  warnings.warn(msg, errors.NumbaWarning)\n",
      "/opt/conda/envs/QML-QPF/lib/python3.10/site-packages/numba/np/ufunc/dufunc.py:343: NumbaWarning: \u001b[1mCompilation requested for previously compiled argument types ((uint32,)). This has no effect and perhaps indicates a bug in the calling code (compiling a ufunc more than once for the same signature\u001b[0m\n",
      "  warnings.warn(msg, errors.NumbaWarning)\n",
      "/opt/conda/envs/QML-QPF/lib/python3.10/site-packages/numba/np/ufunc/dufunc.py:343: NumbaWarning: \u001b[1mCompilation requested for previously compiled argument types ((uint32,)). This has no effect and perhaps indicates a bug in the calling code (compiling a ufunc more than once for the same signature\u001b[0m\n",
      "  warnings.warn(msg, errors.NumbaWarning)\n"
     ]
    },
    {
     "name": "stdout",
     "output_type": "stream",
     "text": [
      "\u001b[1m1875/1875\u001b[0m \u001b[32m━━━━━━━━━━━━━━━━━━━━\u001b[0m\u001b[37m\u001b[0m \u001b[1m2s\u001b[0m 850us/step\n",
      "/workspaces/QML-QPF/multiprocessing/output/20240722-085506/visuals/UMAP/MNISTMNISTno_filter.html\n"
     ]
    },
    {
     "name": "stderr",
     "output_type": "stream",
     "text": [
      "BokehDeprecationWarning: 'circle() method with size value' was deprecated in Bokeh 3.4.0 and will be removed, use 'scatter(size=...) instead' instead.\n",
      "2024-07-22 09:04:09.700169: I external/local_tsl/tsl/profiler/lib/profiler_session.cc:104] Profiler session initializing.\n",
      "2024-07-22 09:04:09.700204: I external/local_tsl/tsl/profiler/lib/profiler_session.cc:119] Profiler session started.\n",
      "2024-07-22 09:04:09.729460: I external/local_tsl/tsl/profiler/lib/profiler_session.cc:131] Profiler session tear down.\n",
      "2024-07-22 09:04:09.729975: I external/local_xla/xla/backends/profiler/gpu/cupti_tracer.cc:1364] CUPTI activity buffer flushed\n"
     ]
    },
    {
     "name": "stdout",
     "output_type": "stream",
     "text": [
      "\u001b[1m313/313\u001b[0m \u001b[32m━━━━━━━━━━━━━━━━━━━━\u001b[0m\u001b[37m\u001b[0m \u001b[1m1s\u001b[0m 2ms/step\n"
     ]
    },
    {
     "name": "stderr",
     "output_type": "stream",
     "text": [
      "/opt/conda/envs/QML-QPF/lib/python3.10/site-packages/keras/src/saving/saving_lib.py:576: UserWarning: Skipping variable loading for optimizer 'adam', because it has 2 variables whereas the saved optimizer has 6 variables. \n",
      "  saveable.load_own_variables(weights_store.get(inner_path))\n"
     ]
    },
    {
     "name": "stdout",
     "output_type": "stream",
     "text": [
      "\u001b[1m1875/1875\u001b[0m \u001b[32m━━━━━━━━━━━━━━━━━━━━\u001b[0m\u001b[37m\u001b[0m \u001b[1m2s\u001b[0m 783us/step\n",
      "/workspaces/QML-QPF/multiprocessing/output/20240722-085506/visuals/UMAP/MNISTMNISTqrand.html\n"
     ]
    },
    {
     "name": "stderr",
     "output_type": "stream",
     "text": [
      "BokehDeprecationWarning: 'circle() method with size value' was deprecated in Bokeh 3.4.0 and will be removed, use 'scatter(size=...) instead' instead.\n",
      "2024-07-22 09:04:28.056012: I external/local_tsl/tsl/profiler/lib/profiler_session.cc:104] Profiler session initializing.\n",
      "2024-07-22 09:04:28.056049: I external/local_tsl/tsl/profiler/lib/profiler_session.cc:119] Profiler session started.\n",
      "2024-07-22 09:04:28.085673: I external/local_tsl/tsl/profiler/lib/profiler_session.cc:131] Profiler session tear down.\n",
      "2024-07-22 09:04:28.086538: I external/local_xla/xla/backends/profiler/gpu/cupti_tracer.cc:1364] CUPTI activity buffer flushed\n"
     ]
    },
    {
     "name": "stdout",
     "output_type": "stream",
     "text": [
      "\u001b[1m313/313\u001b[0m \u001b[32m━━━━━━━━━━━━━━━━━━━━\u001b[0m\u001b[37m\u001b[0m \u001b[1m1s\u001b[0m 1ms/step\n"
     ]
    },
    {
     "name": "stderr",
     "output_type": "stream",
     "text": [
      "/opt/conda/envs/QML-QPF/lib/python3.10/site-packages/keras/src/saving/saving_lib.py:576: UserWarning: Skipping variable loading for optimizer 'adam', because it has 2 variables whereas the saved optimizer has 6 variables. \n",
      "  saveable.load_own_variables(weights_store.get(inner_path))\n"
     ]
    },
    {
     "name": "stdout",
     "output_type": "stream",
     "text": [
      "\u001b[1m1875/1875\u001b[0m \u001b[32m━━━━━━━━━━━━━━━━━━━━\u001b[0m\u001b[37m\u001b[0m \u001b[1m2s\u001b[0m 911us/step\n",
      "/workspaces/QML-QPF/multiprocessing/output/20240722-085506/visuals/UMAP/MNISTMNISTqcnot.html\n"
     ]
    },
    {
     "name": "stderr",
     "output_type": "stream",
     "text": [
      "BokehDeprecationWarning: 'circle() method with size value' was deprecated in Bokeh 3.4.0 and will be removed, use 'scatter(size=...) instead' instead.\n",
      "2024-07-22 09:04:46.868527: I external/local_tsl/tsl/profiler/lib/profiler_session.cc:104] Profiler session initializing.\n",
      "2024-07-22 09:04:46.868565: I external/local_tsl/tsl/profiler/lib/profiler_session.cc:119] Profiler session started.\n",
      "2024-07-22 09:04:46.897942: I external/local_tsl/tsl/profiler/lib/profiler_session.cc:131] Profiler session tear down.\n",
      "2024-07-22 09:04:46.899477: I external/local_xla/xla/backends/profiler/gpu/cupti_tracer.cc:1364] CUPTI activity buffer flushed\n"
     ]
    },
    {
     "name": "stdout",
     "output_type": "stream",
     "text": [
      "\u001b[1m313/313\u001b[0m \u001b[32m━━━━━━━━━━━━━━━━━━━━\u001b[0m\u001b[37m\u001b[0m \u001b[1m1s\u001b[0m 2ms/step\n"
     ]
    },
    {
     "name": "stderr",
     "output_type": "stream",
     "text": [
      "/opt/conda/envs/QML-QPF/lib/python3.10/site-packages/keras/src/saving/saving_lib.py:576: UserWarning: Skipping variable loading for optimizer 'adam', because it has 2 variables whereas the saved optimizer has 6 variables. \n",
      "  saveable.load_own_variables(weights_store.get(inner_path))\n"
     ]
    },
    {
     "name": "stdout",
     "output_type": "stream",
     "text": [
      "\u001b[1m1875/1875\u001b[0m \u001b[32m━━━━━━━━━━━━━━━━━━━━\u001b[0m\u001b[37m\u001b[0m \u001b[1m2s\u001b[0m 961us/step\n",
      "/workspaces/QML-QPF/multiprocessing/output/20240722-085506/visuals/UMAP/MNISTMNISTqentcnot.html\n"
     ]
    },
    {
     "name": "stderr",
     "output_type": "stream",
     "text": [
      "BokehDeprecationWarning: 'circle() method with size value' was deprecated in Bokeh 3.4.0 and will be removed, use 'scatter(size=...) instead' instead.\n",
      "2024-07-22 09:05:05.883973: I external/local_tsl/tsl/profiler/lib/profiler_session.cc:104] Profiler session initializing.\n",
      "2024-07-22 09:05:05.884009: I external/local_tsl/tsl/profiler/lib/profiler_session.cc:119] Profiler session started.\n",
      "2024-07-22 09:05:05.913144: I external/local_tsl/tsl/profiler/lib/profiler_session.cc:131] Profiler session tear down.\n",
      "2024-07-22 09:05:05.914695: I external/local_xla/xla/backends/profiler/gpu/cupti_tracer.cc:1364] CUPTI activity buffer flushed\n"
     ]
    },
    {
     "name": "stdout",
     "output_type": "stream",
     "text": [
      "\u001b[1m313/313\u001b[0m \u001b[32m━━━━━━━━━━━━━━━━━━━━\u001b[0m\u001b[37m\u001b[0m \u001b[1m1s\u001b[0m 1ms/step\n"
     ]
    },
    {
     "name": "stderr",
     "output_type": "stream",
     "text": [
      "/opt/conda/envs/QML-QPF/lib/python3.10/site-packages/keras/src/saving/saving_lib.py:576: UserWarning: Skipping variable loading for optimizer 'adam', because it has 2 variables whereas the saved optimizer has 6 variables. \n",
      "  saveable.load_own_variables(weights_store.get(inner_path))\n"
     ]
    },
    {
     "name": "stdout",
     "output_type": "stream",
     "text": [
      "\u001b[1m1875/1875\u001b[0m \u001b[32m━━━━━━━━━━━━━━━━━━━━\u001b[0m\u001b[37m\u001b[0m \u001b[1m2s\u001b[0m 942us/step\n",
      "/workspaces/QML-QPF/multiprocessing/output/20240722-085506/visuals/UMAP/FASHIONMNISTFASHIONMNISTno_filter.html\n"
     ]
    },
    {
     "name": "stderr",
     "output_type": "stream",
     "text": [
      "BokehDeprecationWarning: 'circle() method with size value' was deprecated in Bokeh 3.4.0 and will be removed, use 'scatter(size=...) instead' instead.\n",
      "2024-07-22 09:05:23.784906: I external/local_tsl/tsl/profiler/lib/profiler_session.cc:104] Profiler session initializing.\n",
      "2024-07-22 09:05:23.784943: I external/local_tsl/tsl/profiler/lib/profiler_session.cc:119] Profiler session started.\n",
      "2024-07-22 09:05:23.814458: I external/local_tsl/tsl/profiler/lib/profiler_session.cc:131] Profiler session tear down.\n",
      "2024-07-22 09:05:23.816323: I external/local_xla/xla/backends/profiler/gpu/cupti_tracer.cc:1364] CUPTI activity buffer flushed\n"
     ]
    },
    {
     "name": "stdout",
     "output_type": "stream",
     "text": [
      "\u001b[1m313/313\u001b[0m \u001b[32m━━━━━━━━━━━━━━━━━━━━\u001b[0m\u001b[37m\u001b[0m \u001b[1m1s\u001b[0m 2ms/step\n"
     ]
    },
    {
     "name": "stderr",
     "output_type": "stream",
     "text": [
      "/opt/conda/envs/QML-QPF/lib/python3.10/site-packages/keras/src/saving/saving_lib.py:576: UserWarning: Skipping variable loading for optimizer 'adam', because it has 2 variables whereas the saved optimizer has 6 variables. \n",
      "  saveable.load_own_variables(weights_store.get(inner_path))\n"
     ]
    },
    {
     "name": "stdout",
     "output_type": "stream",
     "text": [
      "\u001b[1m1875/1875\u001b[0m \u001b[32m━━━━━━━━━━━━━━━━━━━━\u001b[0m\u001b[37m\u001b[0m \u001b[1m2s\u001b[0m 934us/step\n",
      "/workspaces/QML-QPF/multiprocessing/output/20240722-085506/visuals/UMAP/FASHIONMNISTFASHIONMNISTqrand.html\n"
     ]
    },
    {
     "name": "stderr",
     "output_type": "stream",
     "text": [
      "BokehDeprecationWarning: 'circle() method with size value' was deprecated in Bokeh 3.4.0 and will be removed, use 'scatter(size=...) instead' instead.\n",
      "2024-07-22 09:05:41.934024: I external/local_tsl/tsl/profiler/lib/profiler_session.cc:104] Profiler session initializing.\n",
      "2024-07-22 09:05:41.934056: I external/local_tsl/tsl/profiler/lib/profiler_session.cc:119] Profiler session started.\n",
      "2024-07-22 09:05:41.963768: I external/local_tsl/tsl/profiler/lib/profiler_session.cc:131] Profiler session tear down.\n",
      "2024-07-22 09:05:41.965822: I external/local_xla/xla/backends/profiler/gpu/cupti_tracer.cc:1364] CUPTI activity buffer flushed\n"
     ]
    },
    {
     "name": "stdout",
     "output_type": "stream",
     "text": [
      "\u001b[1m313/313\u001b[0m \u001b[32m━━━━━━━━━━━━━━━━━━━━\u001b[0m\u001b[37m\u001b[0m \u001b[1m1s\u001b[0m 2ms/step\n"
     ]
    },
    {
     "name": "stderr",
     "output_type": "stream",
     "text": [
      "/opt/conda/envs/QML-QPF/lib/python3.10/site-packages/keras/src/saving/saving_lib.py:576: UserWarning: Skipping variable loading for optimizer 'adam', because it has 2 variables whereas the saved optimizer has 6 variables. \n",
      "  saveable.load_own_variables(weights_store.get(inner_path))\n"
     ]
    },
    {
     "name": "stdout",
     "output_type": "stream",
     "text": [
      "\u001b[1m1875/1875\u001b[0m \u001b[32m━━━━━━━━━━━━━━━━━━━━\u001b[0m\u001b[37m\u001b[0m \u001b[1m2s\u001b[0m 914us/step\n",
      "/workspaces/QML-QPF/multiprocessing/output/20240722-085506/visuals/UMAP/FASHIONMNISTFASHIONMNISTqcnot.html\n"
     ]
    },
    {
     "name": "stderr",
     "output_type": "stream",
     "text": [
      "BokehDeprecationWarning: 'circle() method with size value' was deprecated in Bokeh 3.4.0 and will be removed, use 'scatter(size=...) instead' instead.\n",
      "2024-07-22 09:06:00.323956: I external/local_tsl/tsl/profiler/lib/profiler_session.cc:104] Profiler session initializing.\n",
      "2024-07-22 09:06:00.323993: I external/local_tsl/tsl/profiler/lib/profiler_session.cc:119] Profiler session started.\n",
      "2024-07-22 09:06:00.353423: I external/local_tsl/tsl/profiler/lib/profiler_session.cc:131] Profiler session tear down.\n",
      "2024-07-22 09:06:00.355734: I external/local_xla/xla/backends/profiler/gpu/cupti_tracer.cc:1364] CUPTI activity buffer flushed\n"
     ]
    },
    {
     "name": "stdout",
     "output_type": "stream",
     "text": [
      "\u001b[1m313/313\u001b[0m \u001b[32m━━━━━━━━━━━━━━━━━━━━\u001b[0m\u001b[37m\u001b[0m \u001b[1m1s\u001b[0m 2ms/step\n"
     ]
    },
    {
     "name": "stderr",
     "output_type": "stream",
     "text": [
      "/opt/conda/envs/QML-QPF/lib/python3.10/site-packages/keras/src/saving/saving_lib.py:576: UserWarning: Skipping variable loading for optimizer 'adam', because it has 2 variables whereas the saved optimizer has 6 variables. \n",
      "  saveable.load_own_variables(weights_store.get(inner_path))\n"
     ]
    },
    {
     "name": "stdout",
     "output_type": "stream",
     "text": [
      "\u001b[1m1875/1875\u001b[0m \u001b[32m━━━━━━━━━━━━━━━━━━━━\u001b[0m\u001b[37m\u001b[0m \u001b[1m2s\u001b[0m 896us/step\n",
      "/workspaces/QML-QPF/multiprocessing/output/20240722-085506/visuals/UMAP/FASHIONMNISTFASHIONMNISTqentcnot.html\n"
     ]
    },
    {
     "name": "stderr",
     "output_type": "stream",
     "text": [
      "BokehDeprecationWarning: 'circle() method with size value' was deprecated in Bokeh 3.4.0 and will be removed, use 'scatter(size=...) instead' instead.\n"
     ]
    },
    {
     "data": {
      "text/plain": [
       "{None: (1, 3, '20240722-085506', '/workspaces/QML-QPF/multiprocessing')}"
      ]
     },
     "execution_count": 4,
     "metadata": {},
     "output_type": "execute_result"
    }
   ],
   "source": [
    "def UMAP_job(detail):\n",
    "    restored_model = Model(*detail)\n",
    "    restored_model.set_data()\n",
    "    restored_model.prep()\n",
    "    restored_model.load_history()\n",
    "    restored_model.visuals.manifold_umap()\n",
    "\n",
    "{UMAP_job(m): m for m in models}  "
   ]
  },
  {
   "cell_type": "code",
   "execution_count": null,
   "metadata": {},
   "outputs": [],
   "source": []
  }
 ],
 "metadata": {
  "kernelspec": {
   "display_name": "QML-QPF",
   "language": "python",
   "name": "python3"
  },
  "language_info": {
   "codemirror_mode": {
    "name": "ipython",
    "version": 3
   },
   "file_extension": ".py",
   "mimetype": "text/x-python",
   "name": "python",
   "nbconvert_exporter": "python",
   "pygments_lexer": "ipython3",
   "version": "3.10.13"
  }
 },
 "nbformat": 4,
 "nbformat_minor": 2
}
