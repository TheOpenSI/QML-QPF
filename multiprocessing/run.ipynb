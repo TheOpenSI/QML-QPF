{
 "cells": [
  {
   "cell_type": "code",
   "execution_count": 1,
   "metadata": {},
   "outputs": [
    {
     "name": "stderr",
     "output_type": "stream",
     "text": [
      "2024-08-10 18:59:47.709224: I tensorflow/core/platform/cpu_feature_guard.cc:210] This TensorFlow binary is optimized to use available CPU instructions in performance-critical operations.\n",
      "To enable the following instructions: AVX2 AVX512F FMA, in other operations, rebuild TensorFlow with the appropriate compiler flags.\n",
      "2024-08-10 18:59:48.357562: W tensorflow/compiler/tf2tensorrt/utils/py_utils.cc:38] TF-TRT Warning: Could not find TensorRT\n"
     ]
    }
   ],
   "source": [
    "%load_ext tensorboard\n",
    "\n",
    "from concurrent.futures import ProcessPoolExecutor, as_completed\n",
    "from datetime import datetime\n",
    "import pathlib\n",
    "import os\n",
    "import gc\n",
    "from core import Model\n",
    "\n",
    "os.environ['CUDA_​DEVICE_​ORDER'] = 'PCI_BUS_ID'\n",
    "os.environ['TF_GPU_ALLOCATOR'] = 'cuda_malloc_async'\n",
    "clock_start = datetime.now().strftime(\"%Y%m%d-%H%M%S\")\n",
    "#clock_start = \"20240722-085506\"\n",
    "workdir = str(pathlib.Path().resolve())\n",
    "\n",
    "models =  [\n",
    "    (0,0, clock_start, workdir),\n",
    "    (0,1,clock_start, workdir),\n",
    "    (0,2,clock_start, workdir),\n",
    "    (0,3,clock_start, workdir),\n",
    "    (1,0,clock_start, workdir),\n",
    "    (1,1,clock_start, workdir),\n",
    "    (1,2,clock_start, workdir),\n",
    "    (1,3,clock_start, workdir)\n",
    "    ]\n"
   ]
  },
  {
   "cell_type": "code",
   "execution_count": 2,
   "metadata": {},
   "outputs": [
    {
     "name": "stderr",
     "output_type": "stream",
     "text": [
      "2024-08-10 18:59:50.486269: I external/local_tsl/tsl/profiler/lib/profiler_session.cc:104] Profiler session initializing.\n",
      "2024-08-10 18:59:50.486347: I external/local_tsl/tsl/profiler/lib/profiler_session.cc:119] Profiler session started.\n",
      "2024-08-10 18:59:50.486985: I external/local_tsl/tsl/profiler/lib/profiler_session.cc:104] Profiler session initializing.\n",
      "2024-08-10 18:59:50.487158: I external/local_tsl/tsl/profiler/lib/profiler_session.cc:119] Profiler session started.\n",
      "2024-08-10 18:59:50.487299: I external/local_tsl/tsl/profiler/lib/profiler_session.cc:104] Profiler session initializing.\n",
      "2024-08-10 18:59:50.487536: I external/local_tsl/tsl/profiler/lib/profiler_session.cc:119] Profiler session started.\n",
      "2024-08-10 18:59:50.487687: I external/local_tsl/tsl/profiler/lib/profiler_session.cc:104] Profiler session initializing.\n",
      "2024-08-10 18:59:50.487880: I external/local_tsl/tsl/profiler/lib/profiler_session.cc:119] Profiler session started.\n",
      "2024-08-10 18:59:50.488511: I external/local_tsl/tsl/profiler/lib/profiler_session.cc:104] Profiler session initializing.\n",
      "2024-08-10 18:59:50.488668: I external/local_tsl/tsl/profiler/lib/profiler_session.cc:119] Profiler session started.\n",
      "2024-08-10 18:59:50.489168: I external/local_tsl/tsl/profiler/lib/profiler_session.cc:104] Profiler session initializing.\n",
      "2024-08-10 18:59:50.489344: I external/local_tsl/tsl/profiler/lib/profiler_session.cc:119] Profiler session started.\n",
      "2024-08-10 18:59:50.489187: I external/local_tsl/tsl/profiler/lib/profiler_session.cc:104] Profiler session initializing.\n",
      "2024-08-10 18:59:50.489404: I external/local_tsl/tsl/profiler/lib/profiler_session.cc:119] Profiler session started.\n",
      "2024-08-10 18:59:50.489630: I external/local_tsl/tsl/profiler/lib/profiler_session.cc:104] Profiler session initializing.\n",
      "2024-08-10 18:59:50.489776: I external/local_tsl/tsl/profiler/lib/profiler_session.cc:119] Profiler session started.\n",
      "2024-08-10 18:59:50.492713: I external/local_tsl/tsl/profiler/lib/profiler_session.cc:131] Profiler session tear down.\n",
      "2024-08-10 18:59:50.505070: I external/local_tsl/tsl/profiler/lib/profiler_session.cc:131] Profiler session tear down.\n",
      "2024-08-10 18:59:50.505534: I external/local_tsl/tsl/profiler/lib/profiler_session.cc:131] Profiler session tear down.\n",
      "2024-08-10 18:59:50.505534: I external/local_tsl/tsl/profiler/lib/profiler_session.cc:131] Profiler session tear down.\n",
      "2024-08-10 18:59:50.508238: I external/local_tsl/tsl/profiler/lib/profiler_session.cc:131] Profiler session tear down.\n",
      "2024-08-10 18:59:50.508238: I external/local_tsl/tsl/profiler/lib/profiler_session.cc:131] Profiler session tear down.\n",
      "2024-08-10 18:59:50.510828: I external/local_tsl/tsl/profiler/lib/profiler_session.cc:131] Profiler session tear down.\n",
      "2024-08-10 18:59:50.511179: I external/local_tsl/tsl/profiler/lib/profiler_session.cc:131] Profiler session tear down.\n",
      "2024-08-10 18:59:50.680980: E external/local_xla/xla/stream_executor/cuda/cuda_driver.cc:282] failed call to cuInit: CUDA_ERROR_NO_DEVICE: no CUDA-capable device is detected\n",
      "2024-08-10 18:59:50.681016: I external/local_xla/xla/stream_executor/cuda/cuda_diagnostics.cc:134] retrieving CUDA diagnostic information for host: 1ba22281c77a\n",
      "2024-08-10 18:59:50.681023: I external/local_xla/xla/stream_executor/cuda/cuda_diagnostics.cc:141] hostname: 1ba22281c77a\n",
      "2024-08-10 18:59:50.681205: I external/local_xla/xla/stream_executor/cuda/cuda_diagnostics.cc:165] libcuda reported version is: 550.90.7\n",
      "2024-08-10 18:59:50.681238: I external/local_xla/xla/stream_executor/cuda/cuda_diagnostics.cc:169] kernel reported version is: 550.90.7\n",
      "2024-08-10 18:59:50.681247: I external/local_xla/xla/stream_executor/cuda/cuda_diagnostics.cc:248] kernel version seems to match DSO: 550.90.7\n",
      "2024-08-10 18:59:50.750681: E external/local_xla/xla/stream_executor/cuda/cuda_driver.cc:282] failed call to cuInit: CUDA_ERROR_NO_DEVICE: no CUDA-capable device is detected\n",
      "2024-08-10 18:59:50.750718: I external/local_xla/xla/stream_executor/cuda/cuda_diagnostics.cc:134] retrieving CUDA diagnostic information for host: 1ba22281c77a\n",
      "2024-08-10 18:59:50.750726: I external/local_xla/xla/stream_executor/cuda/cuda_diagnostics.cc:141] hostname: 1ba22281c77a\n",
      "2024-08-10 18:59:50.750930: I external/local_xla/xla/stream_executor/cuda/cuda_diagnostics.cc:165] libcuda reported version is: 550.90.7\n",
      "2024-08-10 18:59:50.750966: I external/local_xla/xla/stream_executor/cuda/cuda_diagnostics.cc:169] kernel reported version is: 550.90.7\n",
      "2024-08-10 18:59:50.750974: I external/local_xla/xla/stream_executor/cuda/cuda_diagnostics.cc:248] kernel version seems to match DSO: 550.90.7\n",
      "2024-08-10 18:59:50.784640: E external/local_xla/xla/stream_executor/cuda/cuda_driver.cc:282] failed call to cuInit: CUDA_ERROR_NO_DEVICE: no CUDA-capable device is detected\n",
      "2024-08-10 18:59:50.784679: I external/local_xla/xla/stream_executor/cuda/cuda_diagnostics.cc:134] retrieving CUDA diagnostic information for host: 1ba22281c77a\n",
      "2024-08-10 18:59:50.784689: I external/local_xla/xla/stream_executor/cuda/cuda_diagnostics.cc:141] hostname: 1ba22281c77a\n",
      "2024-08-10 18:59:50.784882: I external/local_xla/xla/stream_executor/cuda/cuda_diagnostics.cc:165] libcuda reported version is: 550.90.7\n",
      "2024-08-10 18:59:50.784918: I external/local_xla/xla/stream_executor/cuda/cuda_diagnostics.cc:169] kernel reported version is: 550.90.7\n",
      "2024-08-10 18:59:50.784927: I external/local_xla/xla/stream_executor/cuda/cuda_diagnostics.cc:248] kernel version seems to match DSO: 550.90.7\n",
      "2024-08-10 18:59:50.810110: E external/local_xla/xla/stream_executor/cuda/cuda_driver.cc:282] failed call to cuInit: CUDA_ERROR_NO_DEVICE: no CUDA-capable device is detected\n",
      "2024-08-10 18:59:50.810147: I external/local_xla/xla/stream_executor/cuda/cuda_diagnostics.cc:134] retrieving CUDA diagnostic information for host: 1ba22281c77a\n",
      "2024-08-10 18:59:50.810154: I external/local_xla/xla/stream_executor/cuda/cuda_diagnostics.cc:141] hostname: 1ba22281c77a\n",
      "2024-08-10 18:59:50.810331: I external/local_xla/xla/stream_executor/cuda/cuda_diagnostics.cc:165] libcuda reported version is: 550.90.7\n",
      "2024-08-10 18:59:50.810353: I external/local_xla/xla/stream_executor/cuda/cuda_diagnostics.cc:169] kernel reported version is: 550.90.7\n",
      "2024-08-10 18:59:50.810359: I external/local_xla/xla/stream_executor/cuda/cuda_diagnostics.cc:248] kernel version seems to match DSO: 550.90.7\n",
      "2024-08-10 18:59:50.830900: E external/local_xla/xla/stream_executor/cuda/cuda_driver.cc:282] failed call to cuInit: CUDA_ERROR_NO_DEVICE: no CUDA-capable device is detected\n",
      "2024-08-10 18:59:50.830956: I external/local_xla/xla/stream_executor/cuda/cuda_diagnostics.cc:134] retrieving CUDA diagnostic information for host: 1ba22281c77a\n",
      "2024-08-10 18:59:50.830969: I external/local_xla/xla/stream_executor/cuda/cuda_diagnostics.cc:141] hostname: 1ba22281c77a\n",
      "2024-08-10 18:59:50.831223: I external/local_xla/xla/stream_executor/cuda/cuda_diagnostics.cc:165] libcuda reported version is: 550.90.7\n",
      "2024-08-10 18:59:50.831269: I external/local_xla/xla/stream_executor/cuda/cuda_diagnostics.cc:169] kernel reported version is: 550.90.7\n",
      "2024-08-10 18:59:50.831352: I external/local_xla/xla/stream_executor/cuda/cuda_diagnostics.cc:248] kernel version seems to match DSO: 550.90.7\n",
      "2024-08-10 18:59:50.832669: E external/local_xla/xla/stream_executor/cuda/cuda_driver.cc:282] failed call to cuInit: CUDA_ERROR_NO_DEVICE: no CUDA-capable device is detected\n",
      "2024-08-10 18:59:50.832712: I external/local_xla/xla/stream_executor/cuda/cuda_diagnostics.cc:134] retrieving CUDA diagnostic information for host: 1ba22281c77a\n",
      "2024-08-10 18:59:50.832723: I external/local_xla/xla/stream_executor/cuda/cuda_diagnostics.cc:141] hostname: 1ba22281c77a\n",
      "2024-08-10 18:59:50.832961: I external/local_xla/xla/stream_executor/cuda/cuda_diagnostics.cc:165] libcuda reported version is: 550.90.7\n",
      "2024-08-10 18:59:50.833004: I external/local_xla/xla/stream_executor/cuda/cuda_diagnostics.cc:169] kernel reported version is: 550.90.7\n",
      "2024-08-10 18:59:50.833017: I external/local_xla/xla/stream_executor/cuda/cuda_diagnostics.cc:248] kernel version seems to match DSO: 550.90.7\n",
      "2024-08-10 18:59:50.950523: E external/local_xla/xla/stream_executor/cuda/cuda_driver.cc:282] failed call to cuInit: CUDA_ERROR_NO_DEVICE: no CUDA-capable device is detected\n",
      "2024-08-10 18:59:50.950573: I external/local_xla/xla/stream_executor/cuda/cuda_diagnostics.cc:134] retrieving CUDA diagnostic information for host: 1ba22281c77a\n",
      "2024-08-10 18:59:50.950586: I external/local_xla/xla/stream_executor/cuda/cuda_diagnostics.cc:141] hostname: 1ba22281c77a\n",
      "2024-08-10 18:59:50.950839: I external/local_xla/xla/stream_executor/cuda/cuda_diagnostics.cc:165] libcuda reported version is: 550.90.7\n",
      "2024-08-10 18:59:50.950882: I external/local_xla/xla/stream_executor/cuda/cuda_diagnostics.cc:169] kernel reported version is: 550.90.7\n",
      "2024-08-10 18:59:50.950895: I external/local_xla/xla/stream_executor/cuda/cuda_diagnostics.cc:248] kernel version seems to match DSO: 550.90.7\n",
      "/opt/conda/envs/QML-QPF/lib/python3.10/site-packages/pennylane/math/utils.py:227: UserWarning: Contains tensors of types {'tensorflow', 'autograd'}; dispatch will prioritize TensorFlow, PyTorch, and  Jax over Autograd. Consider replacing Autograd with vanilla NumPy.\n",
      "  warnings.warn(\n",
      "2024-08-10 18:59:50.952213: E external/local_xla/xla/stream_executor/cuda/cuda_driver.cc:282] failed call to cuInit: CUDA_ERROR_NO_DEVICE: no CUDA-capable device is detected\n",
      "2024-08-10 18:59:50.952338: I external/local_xla/xla/stream_executor/cuda/cuda_diagnostics.cc:134] retrieving CUDA diagnostic information for host: 1ba22281c77a\n",
      "2024-08-10 18:59:50.952360: I external/local_xla/xla/stream_executor/cuda/cuda_diagnostics.cc:141] hostname: 1ba22281c77a\n",
      "2024-08-10 18:59:50.952591: I external/local_xla/xla/stream_executor/cuda/cuda_diagnostics.cc:165] libcuda reported version is: 550.90.7\n",
      "2024-08-10 18:59:50.952667: I external/local_xla/xla/stream_executor/cuda/cuda_diagnostics.cc:169] kernel reported version is: 550.90.7\n",
      "2024-08-10 18:59:50.952679: I external/local_xla/xla/stream_executor/cuda/cuda_diagnostics.cc:248] kernel version seems to match DSO: 550.90.7\n"
     ]
    },
    {
     "name": "stdout",
     "output_type": "stream",
     "text": [
      "\u001b[1m  1/118\u001b[0m \u001b[37m━━━━━━━━━━━━━━━━━━━━\u001b[0m \u001b[1m17s\u001b[0m 153ms/step"
     ]
    },
    {
     "name": "stderr",
     "output_type": "stream",
     "text": [
      "/opt/conda/envs/QML-QPF/lib/python3.10/site-packages/pennylane/math/utils.py:227: UserWarning: Contains tensors of types {'tensorflow', 'autograd'}; dispatch will prioritize TensorFlow, PyTorch, and  Jax over Autograd. Consider replacing Autograd with vanilla NumPy.\n",
      "  warnings.warn(\n"
     ]
    },
    {
     "name": "stdout",
     "output_type": "stream",
     "text": [
      "\u001b[1m118/118\u001b[0m \u001b[32m━━━━━━━━━━━━━━━━━━━━\u001b[0m\u001b[37m\u001b[0m \u001b[1m1s\u001b[0m 7ms/step\n",
      "\u001b[1m118/118\u001b[0m \u001b[32m━━━━━━━━━━━━━━━━━━━━\u001b[0m\u001b[37m\u001b[0m \u001b[1m1s\u001b[0m 7ms/step\n"
     ]
    },
    {
     "name": "stderr",
     "output_type": "stream",
     "text": [
      "2024-08-10 18:59:52.027597: W external/local_tsl/tsl/framework/cpu_allocator_impl.cc:83] Allocation of 188160000 exceeds 10% of free system memory.\n",
      "2024-08-10 18:59:52.147203: W external/local_tsl/tsl/framework/cpu_allocator_impl.cc:83] Allocation of 188160000 exceeds 10% of free system memory.\n"
     ]
    },
    {
     "name": "stdout",
     "output_type": "stream",
     "text": [
      "\u001b[1m20/20\u001b[0m \u001b[32m━━━━━━━━━━━━━━━━━━━━\u001b[0m\u001b[37m\u001b[0m \u001b[1m0s\u001b[0m 12ms/step\n",
      "\u001b[1m20/20\u001b[0m \u001b[32m━━━━━━━━━━━━━━━━━━━━\u001b[0m\u001b[37m\u001b[0m \u001b[1m0s\u001b[0m 24ms/step\n",
      "\u001b[1m  4/118\u001b[0m \u001b[37m━━━━━━━━━━━━━━━━━━━━\u001b[0m \u001b[1m39s\u001b[0m 347ms/step"
     ]
    },
    {
     "name": "stderr",
     "output_type": "stream",
     "text": [
      "2024-08-10 18:59:53.539881: W external/local_tsl/tsl/framework/cpu_allocator_impl.cc:83] Allocation of 188160000 exceeds 10% of free system memory.\n"
     ]
    },
    {
     "name": "stdout",
     "output_type": "stream",
     "text": [
      "\u001b[1m  3/118\u001b[0m \u001b[37m━━━━━━━━━━━━━━━━━━━━\u001b[0m \u001b[1m49s\u001b[0m 432ms/stepEpoch 1/30\n",
      "\u001b[1m  4/118\u001b[0m \u001b[37m━━━━━━━━━━━━━━━━━━━━\u001b[0m \u001b[1m53s\u001b[0m 469ms/step"
     ]
    },
    {
     "name": "stderr",
     "output_type": "stream",
     "text": [
      "2024-08-10 18:59:53.969290: I external/local_tsl/tsl/profiler/lib/profiler_session.cc:104] Profiler session initializing.\n",
      "2024-08-10 18:59:53.969744: I external/local_tsl/tsl/profiler/lib/profiler_session.cc:119] Profiler session started.\n",
      "2024-08-10 18:59:53.979632: W external/local_tsl/tsl/framework/cpu_allocator_impl.cc:83] Allocation of 188160000 exceeds 10% of free system memory.\n"
     ]
    },
    {
     "name": "stdout",
     "output_type": "stream",
     "text": [
      "\u001b[1m  5/118\u001b[0m \u001b[37m━━━━━━━━━━━━━━━━━━━━\u001b[0m \u001b[1m50s\u001b[0m 444ms/step46ms/stEpoch 1/30\n",
      "\u001b[1m  7/118\u001b[0m \u001b[32m━\u001b[0m\u001b[37m━━━━━━━━━━━━━━━━━━━\u001b[0m \u001b[1m38s\u001b[0m 351ms/step"
     ]
    },
    {
     "name": "stderr",
     "output_type": "stream",
     "text": [
      "2024-08-10 18:59:54.588487: I external/local_tsl/tsl/profiler/lib/profiler_session.cc:104] Profiler session initializing.\n",
      "2024-08-10 18:59:54.588741: I external/local_tsl/tsl/profiler/lib/profiler_session.cc:119] Profiler session started.\n"
     ]
    },
    {
     "name": "stdout",
     "output_type": "stream",
     "text": [
      "\u001b[1m  4/118\u001b[0m \u001b[37m━━━━━━━━━━━━━━━━━━━━\u001b[0m \u001b[1m1:18\u001b[0m 685ms/step0ms/"
     ]
    },
    {
     "name": "stderr",
     "output_type": "stream",
     "text": [
      "2024-08-10 18:59:55.320992: I external/local_tsl/tsl/profiler/lib/profiler_session.cc:70] Profiler session collecting data.\n",
      "2024-08-10 18:59:55.338103: I external/local_tsl/tsl/profiler/lib/profiler_session.cc:131] Profiler session tear down.\n",
      "2024-08-10 18:59:55.339304: I external/local_tsl/tsl/profiler/rpc/client/save_profile.cc:144] Collecting XSpace to repository: /workspaces/QML-QPF/multiprocessing/output/20240810-185949/runs/MNIST/MNISTno_filter/plugins/profile/2024_08_10_18_59_55/1ba22281c77a.xplane.pb\n"
     ]
    },
    {
     "name": "stdout",
     "output_type": "stream",
     "text": [
      "\u001b[1m 11/118\u001b[0m \u001b[32m━\u001b[0m\u001b[37m━━━━━━━━━━━━━━━━━━━\u001b[0m \u001b[1m36s\u001b[0m 337ms/step"
     ]
    },
    {
     "name": "stderr",
     "output_type": "stream",
     "text": [
      "2024-08-10 18:59:55.909149: I external/local_tsl/tsl/profiler/lib/profiler_session.cc:70] Profiler session collecting data.\n",
      "2024-08-10 18:59:55.913529: I external/local_tsl/tsl/profiler/lib/profiler_session.cc:131] Profiler session tear down.\n",
      "2024-08-10 18:59:55.914463: I external/local_tsl/tsl/profiler/rpc/client/save_profile.cc:144] Collecting XSpace to repository: /workspaces/QML-QPF/multiprocessing/output/20240810-185949/runs/FASHIONMNIST/FASHIONMNISTno_filter/plugins/profile/2024_08_10_18_59_55/1ba22281c77a.xplane.pb\n"
     ]
    },
    {
     "name": "stdout",
     "output_type": "stream",
     "text": [
      "\u001b[1m 13/118\u001b[0m \u001b[32m━━\u001b[0m\u001b[37m━━━━━━━━━━━━━━━━━━\u001b[0m \u001b[1m41s\u001b[0m 395ms/step118/118 - 4s - 30ms/step - accuracy: 0.7129 - loss: 0.9828 - val_accuracy: 0.8725 - val_loss: 0.4935\n",
      "Epoch 2/30\n",
      "\u001b[1m 16/118\u001b[0m \u001b[32m━━\u001b[0m\u001b[37m━━━━━━━━━━━━━━━━━━\u001b[0m \u001b[1m38s\u001b[0m 382ms/step118/118 - 4s - 33ms/step - accuracy: 0.7090 - loss: 0.8470 - val_accuracy: 0.7884 - val_loss: 0.6084\n",
      "Epoch 2/30\n",
      "\u001b[1m 12/118\u001b[0m \u001b[32m━━\u001b[0m\u001b[37m━━━━━━━━━━━━━━━━━━\u001b[0m \u001b[1m1:02\u001b[0m 593ms/step118/118 - 2s - 21ms/step - accuracy: 0.8758 - loss: 0.4558 - val_accuracy: 0.8962 - val_loss: 0.3859\n",
      "Epoch 3/30\n",
      "\u001b[1m 15/118\u001b[0m \u001b[32m━━\u001b[0m\u001b[37m━━━━━━━━━━━━━━━━━━\u001b[0m \u001b[1m59s\u001b[0m 580ms/step118/118 - 2s - 15ms/step - accuracy: 0.8922 - loss: 0.3863 - val_accuracy: 0.9030 - val_loss: 0.3470\n",
      "Epoch 4/30\n",
      "\u001b[1m 17/118\u001b[0m \u001b[32m━━\u001b[0m\u001b[37m━━━━━━━━━━━━━━━━━━\u001b[0m \u001b[1m57s\u001b[0m 574ms/step118/118 - 4s - 35ms/step - accuracy: 0.8104 - loss: 0.5475 - val_accuracy: 0.8142 - val_loss: 0.5393\n",
      "Epoch 3/30\n",
      "\u001b[1m 21/118\u001b[0m \u001b[32m━━━\u001b[0m\u001b[37m━━━━━━━━━━━━━━━━━\u001b[0m \u001b[1m54s\u001b[0m 562ms/step118/118 - 3s - 25ms/step - accuracy: 0.9007 - loss: 0.3548 - val_accuracy: 0.9094 - val_loss: 0.3267\n",
      "Epoch 5/30\n",
      "\u001b[1m 21/118\u001b[0m \u001b[32m━━━\u001b[0m\u001b[37m━━━━━━━━━━━━━━━━━\u001b[0m \u001b[1m56s\u001b[0m 579ms/step118/118 - 3s - 21ms/step - accuracy: 0.8277 - loss: 0.4987 - val_accuracy: 0.8230 - val_loss: 0.5101\n",
      "Epoch 4/30\n",
      "\u001b[1m 43/118\u001b[0m \u001b[32m━━━━━━━\u001b[0m\u001b[37m━━━━━━━━━━━━━\u001b[0m \u001b[1m26s\u001b[0m 353ms/step118/118 - 3s - 24ms/step - accuracy: 0.9055 - loss: 0.3362 - val_accuracy: 0.9130 - val_loss: 0.3142\n",
      "Epoch 6/30\n",
      "\u001b[1m 43/118\u001b[0m \u001b[32m━━━━━━━\u001b[0m\u001b[37m━━━━━━━━━━━━━\u001b[0m \u001b[1m26s\u001b[0m 354ms/step118/118 - 3s - 22ms/step - accuracy: 0.8371 - loss: 0.4737 - val_accuracy: 0.8271 - val_loss: 0.4936\n",
      "Epoch 5/30\n",
      "\u001b[1m 48/118\u001b[0m \u001b[32m━━━━━━━━\u001b[0m\u001b[37m━━━━━━━━━━━━\u001b[0m \u001b[1m25s\u001b[0m 362ms/step118/118 - 2s - 20ms/step - accuracy: 0.9085 - loss: 0.3238 - val_accuracy: 0.9145 - val_loss: 0.3057\n",
      "\u001b[1m 49/118\u001b[0m \u001b[32m━━━━━━━━\u001b[0m\u001b[37m━━━━━━━━━━━━\u001b[0m \u001b[1m24s\u001b[0m 355ms/stepEpoch 7/30\n",
      "\u001b[1m 30/118\u001b[0m \u001b[32m━━━━━\u001b[0m\u001b[37m━━━━━━━━━━━━━━━\u001b[0m \u001b[1m50s\u001b[0m 570ms/step118/118 - 2s - 19ms/step - accuracy: 0.8418 - loss: 0.4578 - val_accuracy: 0.8309 - val_loss: 0.4829\n",
      "\u001b[1m 52/118\u001b[0m \u001b[32m━━━━━━━━\u001b[0m\u001b[37m━━━━━━━━━━━━\u001b[0m \u001b[1m22s\u001b[0m 342ms/stepEpoch 6/30\n",
      "\u001b[1m 57/118\u001b[0m \u001b[32m━━━━━━━━━\u001b[0m\u001b[37m━━━━━━━━━━━\u001b[0m \u001b[1m21s\u001b[0m 351ms/step118/118 - 3s - 21ms/step - accuracy: 0.9114 - loss: 0.3148 - val_accuracy: 0.9165 - val_loss: 0.2997\n",
      "Epoch 8/30\n",
      "\u001b[1m 57/118\u001b[0m \u001b[32m━━━━━━━━━\u001b[0m\u001b[37m━━━━━━━━━━━\u001b[0m \u001b[1m21s\u001b[0m 360ms/step118/118 - 3s - 25ms/step - accuracy: 0.8465 - loss: 0.4466 - val_accuracy: 0.8332 - val_loss: 0.4754\n",
      "\u001b[1m 59/118\u001b[0m \u001b[32m━━━━━━━━━━\u001b[0m\u001b[37m━━━━━━━━━━\u001b[0m \u001b[1m20s\u001b[0m 351ms/stepEpoch 7/30\n",
      "\u001b[1m 61/118\u001b[0m \u001b[32m━━━━━━━━━━\u001b[0m\u001b[37m━━━━━━━━━━\u001b[0m \u001b[1m20s\u001b[0m 361ms/step118/118 - 2s - 17ms/step - accuracy: 0.9130 - loss: 0.3079 - val_accuracy: 0.9178 - val_loss: 0.2951\n",
      "Epoch 9/30\n",
      "\u001b[1m 63/118\u001b[0m \u001b[32m━━━━━━━━━━\u001b[0m\u001b[37m━━━━━━━━━━\u001b[0m \u001b[1m19s\u001b[0m 361ms/step118/118 - 2s - 18ms/step - accuracy: 0.8495 - loss: 0.4381 - val_accuracy: 0.8344 - val_loss: 0.4699\n",
      "Epoch 8/30\n",
      "\u001b[1m 69/118\u001b[0m \u001b[32m━━━━━━━━━━━\u001b[0m\u001b[37m━━━━━━━━━\u001b[0m \u001b[1m17s\u001b[0m 352ms/step118/118 - 2s - 19ms/step - accuracy: 0.9148 - loss: 0.3025 - val_accuracy: 0.9183 - val_loss: 0.2916\n",
      "Epoch 10/30\n",
      "\u001b[1m 68/118\u001b[0m \u001b[32m━━━━━━━━━━━\u001b[0m\u001b[37m━━━━━━━━━\u001b[0m \u001b[1m17s\u001b[0m 359ms/step118/118 - 2s - 14ms/step - accuracy: 0.8517 - loss: 0.4315 - val_accuracy: 0.8357 - val_loss: 0.4656\n",
      "Epoch 9/30\n",
      "\u001b[1m 74/118\u001b[0m \u001b[32m━━━━━━━━━━━━\u001b[0m\u001b[37m━━━━━━━━\u001b[0m \u001b[1m15s\u001b[0m 358ms/step118/118 - 2s - 19ms/step - accuracy: 0.9162 - loss: 0.2980 - val_accuracy: 0.9194 - val_loss: 0.2888\n",
      "Epoch 11/30\n",
      "\u001b[1m 77/118\u001b[0m \u001b[32m━━━━━━━━━━━━━\u001b[0m\u001b[37m━━━━━━━\u001b[0m \u001b[1m14s\u001b[0m 352ms/step118/118 - 3s - 23ms/step - accuracy: 0.8533 - loss: 0.4260 - val_accuracy: 0.8375 - val_loss: 0.4622\n",
      "\u001b[1m 76/118\u001b[0m \u001b[32m━━━━━━━━━━━━\u001b[0m\u001b[37m━━━━━━━━\u001b[0m \u001b[1m15s\u001b[0m 358ms/stepEpoch 10/30\n",
      "\u001b[1m 81/118\u001b[0m \u001b[32m━━━━━━━━━━━━━\u001b[0m\u001b[37m━━━━━━━\u001b[0m \u001b[1m12s\u001b[0m 351ms/step118/118 - 2s - 16ms/step - accuracy: 0.9172 - loss: 0.2942 - val_accuracy: 0.9197 - val_loss: 0.2865\n",
      "\u001b[1m 50/118\u001b[0m \u001b[32m━━━━━━━━\u001b[0m\u001b[37m━━━━━━━━━━━━\u001b[0m \u001b[1m38s\u001b[0m 562ms/stepEpoch 12/30\n",
      "\u001b[1m 81/118\u001b[0m \u001b[32m━━━━━━━━━━━━━\u001b[0m\u001b[37m━━━━━━━\u001b[0m \u001b[1m13s\u001b[0m 359ms/step118/118 - 2s - 17ms/step - accuracy: 0.8547 - loss: 0.4215 - val_accuracy: 0.8382 - val_loss: 0.4594\n",
      "Epoch 11/30\n",
      "\u001b[1m 92/118\u001b[0m \u001b[32m━━━━━━━━━━━━━━━\u001b[0m\u001b[37m━━━━━\u001b[0m \u001b[1m8s\u001b[0m 334ms/step118/118 - 2s - 18ms/step - accuracy: 0.9181 - loss: 0.2909 - val_accuracy: 0.9206 - val_loss: 0.2845\n",
      "\u001b[1m 89/118\u001b[0m \u001b[32m━━━━━━━━━━━━━━━\u001b[0m\u001b[37m━━━━━\u001b[0m \u001b[1m10s\u001b[0m 346ms/stepEpoch 13/30\n",
      "\u001b[1m 90/118\u001b[0m \u001b[32m━━━━━━━━━━━━━━━\u001b[0m\u001b[37m━━━━━\u001b[0m \u001b[1m9s\u001b[0m 345ms/step 118/118 - 2s - 15ms/step - accuracy: 0.8558 - loss: 0.4176 - val_accuracy: 0.8381 - val_loss: 0.4572\n",
      "Epoch 12/30\n",
      "\u001b[1m 94/118\u001b[0m \u001b[32m━━━━━━━━━━━━━━━\u001b[0m\u001b[37m━━━━━\u001b[0m \u001b[1m8s\u001b[0m 350ms/step118/118 - 2s - 19ms/step - accuracy: 0.9191 - loss: 0.2881 - val_accuracy: 0.9208 - val_loss: 0.2829\n",
      "\u001b[1m100/118\u001b[0m \u001b[32m━━━━━━━━━━━━━━━━\u001b[0m\u001b[37m━━━━\u001b[0m \u001b[1m5s\u001b[0m 332ms/stepEpoch 14/30\n",
      "\u001b[1m 97/118\u001b[0m \u001b[32m━━━━━━━━━━━━━━━━\u001b[0m\u001b[37m━━━━\u001b[0m \u001b[1m7s\u001b[0m 350ms/step118/118 - 3s - 25ms/step - accuracy: 0.8568 - loss: 0.4142 - val_accuracy: 0.8385 - val_loss: 0.4552\n",
      "Epoch 13/30\n",
      "\u001b[1m 99/118\u001b[0m \u001b[32m━━━━━━━━━━━━━━━━\u001b[0m\u001b[37m━━━━\u001b[0m \u001b[1m6s\u001b[0m 350ms/step118/118 - 2s - 16ms/step - accuracy: 0.9200 - loss: 0.2856 - val_accuracy: 0.9211 - val_loss: 0.2815\n",
      "\u001b[1m102/118\u001b[0m \u001b[32m━━━━━━━━━━━━━━━━━\u001b[0m\u001b[37m━━━\u001b[0m \u001b[1m5s\u001b[0m 343ms/stepEpoch 15/30\n",
      "\u001b[1m101/118\u001b[0m \u001b[32m━━━━━━━━━━━━━━━━━\u001b[0m\u001b[37m━━━\u001b[0m \u001b[1m6s\u001b[0m 356ms/step118/118 - 2s - 17ms/step - accuracy: 0.8580 - loss: 0.4112 - val_accuracy: 0.8385 - val_loss: 0.4536\n",
      "\u001b[1m 64/118\u001b[0m \u001b[32m━━━━━━━━━━\u001b[0m\u001b[37m━━━━━━━━━━\u001b[0m \u001b[1m30s\u001b[0m 557ms/stepEpoch 14/30\n",
      "\u001b[1m108/118\u001b[0m \u001b[32m━━━━━━━━━━━━━━━━━━\u001b[0m\u001b[37m━━\u001b[0m \u001b[1m3s\u001b[0m 349ms/step118/118 - 3s - 25ms/step - accuracy: 0.9207 - loss: 0.2834 - val_accuracy: 0.9212 - val_loss: 0.2803\n",
      "Epoch 16/30\n",
      "\u001b[1m114/118\u001b[0m \u001b[32m━━━━━━━━━━━━━━━━━━━\u001b[0m\u001b[37m━\u001b[0m \u001b[1m1s\u001b[0m 343ms/step118/118 - 3s - 24ms/step - accuracy: 0.8587 - loss: 0.4085 - val_accuracy: 0.8395 - val_loss: 0.4522\n",
      "Epoch 15/30\n",
      "\u001b[1m 73/118\u001b[0m \u001b[32m━━━━━━━━━━━━\u001b[0m\u001b[37m━━━━━━━━\u001b[0m \u001b[1m24s\u001b[0m 544ms/step118/118 - 2s - 19ms/step - accuracy: 0.9212 - loss: 0.2814 - val_accuracy: 0.9210 - val_loss: 0.2792\n",
      "Epoch 17/30\n",
      "\u001b[1m118/118\u001b[0m \u001b[32m━━━━━━━━━━━━━━━━━━━━\u001b[0m\u001b[37m\u001b[0m \u001b[1m42s\u001b[0m 347ms/step\n",
      "\u001b[1m 75/118\u001b[0m \u001b[32m━━━━━━━━━━━━\u001b[0m\u001b[37m━━━━━━━━\u001b[0m \u001b[1m23s\u001b[0m 540ms/step"
     ]
    },
    {
     "name": "stderr",
     "output_type": "stream",
     "text": [
      "2024-08-10 19:00:33.324974: W external/local_tsl/tsl/framework/cpu_allocator_impl.cc:83] Allocation of 188160000 exceeds 10% of free system memory.\n"
     ]
    },
    {
     "name": "stdout",
     "output_type": "stream",
     "text": [
      "\u001b[1m117/118\u001b[0m \u001b[32m━━━━━━━━━━━━━━━━━━━\u001b[0m\u001b[37m━\u001b[0m \u001b[1m0s\u001b[0m 351ms/step118/118 - 2s - 18ms/step - accuracy: 0.8594 - loss: 0.4062 - val_accuracy: 0.8397 - val_loss: 0.4510\n",
      "Epoch 16/30\n",
      "\u001b[1m118/118\u001b[0m \u001b[32m━━━━━━━━━━━━━━━━━━━━\u001b[0m\u001b[37m\u001b[0m \u001b[1m43s\u001b[0m 354ms/step\n",
      "\u001b[1m 78/118\u001b[0m \u001b[32m━━━━━━━━━━━━━\u001b[0m\u001b[37m━━━━━━━\u001b[0m \u001b[1m21s\u001b[0m 531ms/step"
     ]
    },
    {
     "name": "stderr",
     "output_type": "stream",
     "text": [
      "2024-08-10 19:00:34.258750: W external/local_tsl/tsl/framework/cpu_allocator_impl.cc:83] Allocation of 188160000 exceeds 10% of free system memory.\n"
     ]
    },
    {
     "name": "stdout",
     "output_type": "stream",
     "text": [
      "\u001b[1m 79/118\u001b[0m \u001b[32m━━━━━━━━━━━━━\u001b[0m\u001b[37m━━━━━━━\u001b[0m \u001b[1m20s\u001b[0m 526ms/step118/118 - 2s - 16ms/step - accuracy: 0.9219 - loss: 0.2796 - val_accuracy: 0.9216 - val_loss: 0.2783\n",
      "Epoch 18/30\n",
      "\u001b[1m118/118\u001b[0m \u001b[32m━━━━━━━━━━━━━━━━━━━━\u001b[0m\u001b[37m\u001b[0m \u001b[1m44s\u001b[0m 357ms/step\n",
      "\u001b[1m 1/20\u001b[0m \u001b[32m━\u001b[0m\u001b[37m━━━━━━━━━━━━━━━━━━━\u001b[0m \u001b[1m5s\u001b[0m 281ms/steptep"
     ]
    },
    {
     "name": "stderr",
     "output_type": "stream",
     "text": [
      "2024-08-10 19:00:34.807077: W external/local_tsl/tsl/framework/cpu_allocator_impl.cc:83] Allocation of 188160000 exceeds 10% of free system memory.\n"
     ]
    },
    {
     "name": "stdout",
     "output_type": "stream",
     "text": [
      "\u001b[1m118/118\u001b[0m \u001b[32m━━━━━━━━━━━━━━━━━━━━\u001b[0m\u001b[37m\u001b[0m \u001b[1m45s\u001b[0m 365ms/step\n",
      "\u001b[1m 5/20\u001b[0m \u001b[32m━━━━━\u001b[0m\u001b[37m━━━━━━━━━━━━━━━\u001b[0m \u001b[1m3s\u001b[0m 215ms/stept"
     ]
    },
    {
     "name": "stderr",
     "output_type": "stream",
     "text": [
      "2024-08-10 19:00:35.721842: W external/local_tsl/tsl/framework/cpu_allocator_impl.cc:83] Allocation of 188160000 exceeds 10% of free system memory.\n"
     ]
    },
    {
     "name": "stdout",
     "output_type": "stream",
     "text": [
      "118/118 - 1s - 12ms/step - accuracy: 0.9223 - loss: 0.2779 - val_accuracy: 0.9220 - val_loss: 0.2774\n",
      "\u001b[1m 6/20\u001b[0m \u001b[32m━━━━━━\u001b[0m\u001b[37m━━━━━━━━━━━━━━\u001b[0m \u001b[1m2s\u001b[0m 214ms/stepEpoch 19/30\n",
      "\u001b[1m 84/118\u001b[0m \u001b[32m━━━━━━━━━━━━━━\u001b[0m\u001b[37m━━━━━━\u001b[0m \u001b[1m17s\u001b[0m 514ms/step118/118 - 3s - 21ms/step - accuracy: 0.8600 - loss: 0.4040 - val_accuracy: 0.8398 - val_loss: 0.4499\n",
      "\u001b[1m 84/118\u001b[0m \u001b[32m━━━━━━━━━━━━━━\u001b[0m\u001b[37m━━━━━━\u001b[0m \u001b[1m17s\u001b[0m 514ms/stepEpoch 17/30\n",
      "\u001b[1m 88/118\u001b[0m \u001b[32m━━━━━━━━━━━━━━\u001b[0m\u001b[37m━━━━━━\u001b[0m \u001b[1m15s\u001b[0m 503ms/step118/118 - 1s - 11ms/step - accuracy: 0.9229 - loss: 0.2764 - val_accuracy: 0.9221 - val_loss: 0.2767\n",
      "\u001b[1m 88/118\u001b[0m \u001b[32m━━━━━━━━━━━━━━\u001b[0m\u001b[37m━━━━━━\u001b[0m \u001b[1m15s\u001b[0m 504ms/stepEpoch 20/30\n",
      "\u001b[1m13/20\u001b[0m \u001b[32m━━━━━━━━━━━━━\u001b[0m\u001b[37m━━━━━━━\u001b[0m \u001b[1m1s\u001b[0m 198ms/step118/118 - 1s - 10ms/step - accuracy: 0.8606 - loss: 0.4020 - val_accuracy: 0.8400 - val_loss: 0.4490\n",
      "Epoch 18/30\n",
      "\u001b[1m 92/118\u001b[0m \u001b[32m━━━━━━━━━━━━━━━\u001b[0m\u001b[37m━━━━━\u001b[0m \u001b[1m12s\u001b[0m 494ms/step118/118 - 1s - 10ms/step - accuracy: 0.9234 - loss: 0.2750 - val_accuracy: 0.9223 - val_loss: 0.2760\n",
      "Epoch 21/30\n",
      "\u001b[1m20/20\u001b[0m \u001b[32m━━━━━━━━━━━━━━━━━━━━\u001b[0m\u001b[37m\u001b[0m \u001b[1m4s\u001b[0m 186ms/step\n",
      "\u001b[1m 92/118\u001b[0m \u001b[32m━━━━━━━━━━━━━━━\u001b[0m\u001b[37m━━━━━\u001b[0m \u001b[1m12s\u001b[0m 495ms/step118/118 - 1s - 11ms/step - accuracy: 0.8609 - loss: 0.4002 - val_accuracy: 0.8405 - val_loss: 0.4482\n",
      "\u001b[1m 93/118\u001b[0m \u001b[32m━━━━━━━━━━━━━━━\u001b[0m\u001b[37m━━━━━\u001b[0m \u001b[1m12s\u001b[0m 491ms/stepEpoch 19/30\n",
      "\u001b[1m 96/118\u001b[0m \u001b[32m━━━━━━━━━━━━━━━━\u001b[0m\u001b[37m━━━━\u001b[0m \u001b[1m10s\u001b[0m 482ms/step118/118 - 1s - 8ms/step - accuracy: 0.9236 - loss: 0.2737 - val_accuracy: 0.9222 - val_loss: 0.2754\n",
      "Epoch 22/30\n",
      "\u001b[1m 97/118\u001b[0m \u001b[32m━━━━━━━━━━━━━━━━\u001b[0m\u001b[37m━━━━\u001b[0m \u001b[1m10s\u001b[0m 479ms/step118/118 - 1s - 8ms/step - accuracy: 0.8616 - loss: 0.3985 - val_accuracy: 0.8409 - val_loss: 0.4475\n",
      "\u001b[1m 98/118\u001b[0m \u001b[32m━━━━━━━━━━━━━━━━\u001b[0m\u001b[37m━━━━\u001b[0m \u001b[1m9s\u001b[0m 476ms/step Epoch 20/30\n",
      "\u001b[1m100/118\u001b[0m \u001b[32m━━━━━━━━━━━━━━━━\u001b[0m\u001b[37m━━━━\u001b[0m \u001b[1m8s\u001b[0m 472ms/step"
     ]
    },
    {
     "name": "stderr",
     "output_type": "stream",
     "text": [
      "2024-08-10 19:00:40.127358: W external/local_tsl/tsl/framework/cpu_allocator_impl.cc:83] Allocation of 188160000 exceeds 10% of free system memory.\n"
     ]
    },
    {
     "name": "stdout",
     "output_type": "stream",
     "text": [
      "Epoch 1/30\n",
      "\u001b[1m101/118\u001b[0m \u001b[32m━━━━━━━━━━━━━━━━━\u001b[0m\u001b[37m━━━\u001b[0m \u001b[1m7s\u001b[0m 470ms/step"
     ]
    },
    {
     "name": "stderr",
     "output_type": "stream",
     "text": [
      "2024-08-10 19:00:40.382121: I external/local_tsl/tsl/profiler/lib/profiler_session.cc:104] Profiler session initializing.\n",
      "2024-08-10 19:00:40.382335: I external/local_tsl/tsl/profiler/lib/profiler_session.cc:119] Profiler session started.\n"
     ]
    },
    {
     "name": "stdout",
     "output_type": "stream",
     "text": [
      "\u001b[1m103/118\u001b[0m \u001b[32m━━━━━━━━━━━━━━━━━\u001b[0m\u001b[37m━━━\u001b[0m \u001b[1m6s\u001b[0m 463ms/step118/118 - 1s - 12ms/step - accuracy: 0.9239 - loss: 0.2725 - val_accuracy: 0.9224 - val_loss: 0.2749\n",
      "Epoch 23/30\n",
      "118/118 - 1s - 10ms/step - accuracy: 0.8618 - loss: 0.3970 - val_accuracy: 0.8416 - val_loss: 0.4469\n",
      "Epoch 21/30\n",
      "\u001b[1m106/118\u001b[0m \u001b[32m━━━━━━━━━━━━━━━━━\u001b[0m\u001b[37m━━━\u001b[0m \u001b[1m5s\u001b[0m 456ms/step"
     ]
    },
    {
     "name": "stderr",
     "output_type": "stream",
     "text": [
      "2024-08-10 19:00:41.159176: I external/local_tsl/tsl/profiler/lib/profiler_session.cc:70] Profiler session collecting data.\n",
      "2024-08-10 19:00:41.169147: I external/local_tsl/tsl/profiler/lib/profiler_session.cc:131] Profiler session tear down.\n",
      "2024-08-10 19:00:41.169949: I external/local_tsl/tsl/profiler/rpc/client/save_profile.cc:144] Collecting XSpace to repository: /workspaces/QML-QPF/multiprocessing/output/20240810-185949/runs/MNIST/MNISTqcnot/plugins/profile/2024_08_10_19_00_41/1ba22281c77a.xplane.pb\n"
     ]
    },
    {
     "name": "stdout",
     "output_type": "stream",
     "text": [
      "\u001b[1m108/118\u001b[0m \u001b[32m━━━━━━━━━━━━━━━━━━\u001b[0m\u001b[37m━━\u001b[0m \u001b[1m4s\u001b[0m 453ms/step118/118 - 1s - 11ms/step - accuracy: 0.9242 - loss: 0.2714 - val_accuracy: 0.9224 - val_loss: 0.2744\n",
      "Epoch 24/30\n",
      "118/118 - 1s - 11ms/step - accuracy: 0.8621 - loss: 0.3956 - val_accuracy: 0.8419 - val_loss: 0.4464\n",
      "Epoch 22/30\n",
      "\u001b[1m111/118\u001b[0m \u001b[32m━━━━━━━━━━━━━━━━━━\u001b[0m\u001b[37m━━\u001b[0m \u001b[1m3s\u001b[0m 447ms/step118/118 - 2s - 20ms/step - accuracy: 0.6939 - loss: 1.0522 - val_accuracy: 0.8654 - val_loss: 0.5168\n",
      "Epoch 2/30\n",
      "\u001b[1m113/118\u001b[0m \u001b[32m━━━━━━━━━━━━━━━━━━━\u001b[0m\u001b[37m━\u001b[0m \u001b[1m2s\u001b[0m 443ms/step118/118 - 1s - 10ms/step - accuracy: 0.9246 - loss: 0.2703 - val_accuracy: 0.9229 - val_loss: 0.2740\n",
      "Epoch 25/30\n",
      "\u001b[1m115/118\u001b[0m \u001b[32m━━━━━━━━━━━━━━━━━━━\u001b[0m\u001b[37m━\u001b[0m \u001b[1m1s\u001b[0m 438ms/step118/118 - 1s - 11ms/step - accuracy: 0.8626 - loss: 0.3942 - val_accuracy: 0.8413 - val_loss: 0.4459\n",
      "Epoch 23/30\n",
      "\u001b[1m117/118\u001b[0m \u001b[32m━━━━━━━━━━━━━━━━━━━\u001b[0m\u001b[37m━\u001b[0m \u001b[1m0s\u001b[0m 434ms/step118/118 - 1s - 9ms/step - accuracy: 0.8788 - loss: 0.4513 - val_accuracy: 0.9028 - val_loss: 0.3660\n",
      "Epoch 3/30\n",
      "\u001b[1m117/118\u001b[0m \u001b[32m━━━━━━━━━━━━━━━━━━━\u001b[0m\u001b[37m━\u001b[0m \u001b[1m0s\u001b[0m 435ms/step118/118 - 1s - 7ms/step - accuracy: 0.9247 - loss: 0.2693 - val_accuracy: 0.9230 - val_loss: 0.2736\n",
      "Epoch 26/30\n",
      "118/118 - 1s - 7ms/step - accuracy: 0.8632 - loss: 0.3930 - val_accuracy: 0.8415 - val_loss: 0.4455\n",
      "Epoch 24/30\n",
      "118/118 - 1s - 6ms/step - accuracy: 0.9042 - loss: 0.3525 - val_accuracy: 0.9172 - val_loss: 0.3074\n",
      "Epoch 4/30\n",
      "118/118 - 1s - 5ms/step - accuracy: 0.9250 - loss: 0.2684 - val_accuracy: 0.9225 - val_loss: 0.2732\n",
      "Epoch 27/30\n",
      "118/118 - 1s - 5ms/step - accuracy: 0.8636 - loss: 0.3918 - val_accuracy: 0.8418 - val_loss: 0.4451\n",
      "Epoch 25/30\n",
      "\u001b[1m118/118\u001b[0m \u001b[32m━━━━━━━━━━━━━━━━━━━━\u001b[0m\u001b[37m\u001b[0m \u001b[1m54s\u001b[0m 441ms/step\n",
      "118/118 - 1s - 5ms/step - accuracy: 0.9167 - loss: 0.3048 - val_accuracy: 0.9258 - val_loss: 0.2747\n",
      "Epoch 5/30\n",
      "\u001b[1m118/118\u001b[0m \u001b[32m━━━━━━━━━━━━━━━━━━━━\u001b[0m\u001b[37m\u001b[0m \u001b[1m54s\u001b[0m 441ms/step\n"
     ]
    },
    {
     "name": "stderr",
     "output_type": "stream",
     "text": [
      "2024-08-10 19:00:45.068531: W external/local_tsl/tsl/framework/cpu_allocator_impl.cc:83] Allocation of 188160000 exceeds 10% of free system memory.\n",
      "2024-08-10 19:00:45.186769: W external/local_tsl/tsl/framework/cpu_allocator_impl.cc:83] Allocation of 188160000 exceeds 10% of free system memory.\n"
     ]
    },
    {
     "name": "stdout",
     "output_type": "stream",
     "text": [
      "\u001b[1m 1/20\u001b[0m \u001b[32m━\u001b[0m\u001b[37m━━━━━━━━━━━━━━━━━━━\u001b[0m \u001b[1m3s\u001b[0m 201ms/step118/118 - 1s - 7ms/step - accuracy: 0.9254 - loss: 0.2675 - val_accuracy: 0.9227 - val_loss: 0.2729\n",
      "Epoch 28/30\n",
      "\u001b[1m 2/20\u001b[0m \u001b[32m━━\u001b[0m\u001b[37m━━━━━━━━━━━━━━━━━━\u001b[0m \u001b[1m3s\u001b[0m 170ms/step118/118 - 1s - 6ms/step - accuracy: 0.8641 - loss: 0.3907 - val_accuracy: 0.8415 - val_loss: 0.4448\n",
      "Epoch 26/30\n",
      "118/118 - 1s - 6ms/step - accuracy: 0.9240 - loss: 0.2753 - val_accuracy: 0.9307 - val_loss: 0.2532\n",
      "Epoch 6/30\n",
      "\u001b[1m 7/20\u001b[0m \u001b[32m━━━━━━━\u001b[0m\u001b[37m━━━━━━━━━━━━━\u001b[0m \u001b[1m2s\u001b[0m 156ms/step118/118 - 1s - 6ms/step - accuracy: 0.9289 - loss: 0.2547 - val_accuracy: 0.9343 - val_loss: 0.2379\n",
      "Epoch 7/30\n",
      "\u001b[1m 9/20\u001b[0m \u001b[32m━━━━━━━━━\u001b[0m\u001b[37m━━━━━━━━━━━\u001b[0m \u001b[1m1s\u001b[0m 150ms/step118/118 - 1s - 10ms/step - accuracy: 0.9259 - loss: 0.2667 - val_accuracy: 0.9225 - val_loss: 0.2726\n",
      "Epoch 29/30\n",
      "\u001b[1m10/20\u001b[0m \u001b[32m━━━━━━━━━━\u001b[0m\u001b[37m━━━━━━━━━━\u001b[0m \u001b[1m1s\u001b[0m 156ms/step118/118 - 1s - 11ms/step - accuracy: 0.8643 - loss: 0.3896 - val_accuracy: 0.8414 - val_loss: 0.4446\n",
      "Epoch 27/30\n",
      "\u001b[1m15/20\u001b[0m \u001b[32m━━━━━━━━━━━━━━━\u001b[0m\u001b[37m━━━━━\u001b[0m \u001b[1m0s\u001b[0m 152ms/step118/118 - 1s - 11ms/step - accuracy: 0.9330 - loss: 0.2392 - val_accuracy: 0.9364 - val_loss: 0.2263\n",
      "Epoch 8/30\n",
      "\u001b[1m17/20\u001b[0m \u001b[32m━━━━━━━━━━━━━━━━━\u001b[0m\u001b[37m━━━\u001b[0m \u001b[1m0s\u001b[0m 152ms/step118/118 - 1s - 11ms/step - accuracy: 0.9260 - loss: 0.2659 - val_accuracy: 0.9227 - val_loss: 0.2723\n",
      "Epoch 30/30\n",
      "\u001b[1m20/20\u001b[0m \u001b[32m━━━━━━━━━━━━━━━━━━━━\u001b[0m\u001b[37m\u001b[0m \u001b[1m3s\u001b[0m 150ms/step\n",
      "118/118 - 1s - 11ms/step - accuracy: 0.8645 - loss: 0.3887 - val_accuracy: 0.8412 - val_loss: 0.4443\n",
      "Epoch 28/30\n",
      "118/118 - 1s - 6ms/step - accuracy: 0.9362 - loss: 0.2271 - val_accuracy: 0.9390 - val_loss: 0.2171\n",
      "Epoch 9/30\n",
      "118/118 - 1s - 6ms/step - accuracy: 0.9263 - loss: 0.2651 - val_accuracy: 0.9227 - val_loss: 0.2720\n",
      "Epoch 1/30\n"
     ]
    },
    {
     "name": "stderr",
     "output_type": "stream",
     "text": [
      "2024-08-10 19:00:48.591890: W external/local_tsl/tsl/framework/cpu_allocator_impl.cc:83] Allocation of 188160000 exceeds 10% of free system memory.\n"
     ]
    },
    {
     "name": "stdout",
     "output_type": "stream",
     "text": [
      "118/118 - 1s - 6ms/step - accuracy: 0.8648 - loss: 0.3877 - val_accuracy: 0.8412 - val_loss: 0.4441\n",
      "Epoch 29/30\n"
     ]
    },
    {
     "name": "stderr",
     "output_type": "stream",
     "text": [
      "2024-08-10 19:00:48.799633: I external/local_tsl/tsl/profiler/lib/profiler_session.cc:104] Profiler session initializing.\n",
      "2024-08-10 19:00:48.799685: I external/local_tsl/tsl/profiler/lib/profiler_session.cc:119] Profiler session started.\n"
     ]
    },
    {
     "name": "stdout",
     "output_type": "stream",
     "text": [
      "118/118 - 1s - 6ms/step - accuracy: 0.9389 - loss: 0.2172 - val_accuracy: 0.9407 - val_loss: 0.2096\n",
      "Epoch 10/30\n"
     ]
    },
    {
     "name": "stderr",
     "output_type": "stream",
     "text": [
      "2024-08-10 19:00:49.368740: I external/local_tsl/tsl/profiler/lib/profiler_session.cc:70] Profiler session collecting data.\n",
      "2024-08-10 19:00:49.373118: I external/local_tsl/tsl/profiler/lib/profiler_session.cc:131] Profiler session tear down.\n",
      "2024-08-10 19:00:49.373530: I external/local_tsl/tsl/profiler/rpc/client/save_profile.cc:144] Collecting XSpace to repository: /workspaces/QML-QPF/multiprocessing/output/20240810-185949/runs/MNIST/MNISTqrand/plugins/profile/2024_08_10_19_00_49/1ba22281c77a.xplane.pb\n"
     ]
    },
    {
     "name": "stdout",
     "output_type": "stream",
     "text": [
      "118/118 - 1s - 6ms/step - accuracy: 0.8651 - loss: 0.3868 - val_accuracy: 0.8413 - val_loss: 0.4440\n",
      "Epoch 30/30\n",
      "118/118 - 1s - 6ms/step - accuracy: 0.9411 - loss: 0.2089 - val_accuracy: 0.9416 - val_loss: 0.2035\n",
      "Epoch 11/30\n",
      "118/118 - 1s - 6ms/step - accuracy: 0.8656 - loss: 0.3860 - val_accuracy: 0.8409 - val_loss: 0.4438\n",
      "118/118 - 2s - 14ms/step - accuracy: 0.6911 - loss: 1.0857 - val_accuracy: 0.8603 - val_loss: 0.5604\n",
      "Epoch 2/30\n",
      "118/118 - 1s - 5ms/step - accuracy: 0.9432 - loss: 0.2019 - val_accuracy: 0.9435 - val_loss: 0.1982\n",
      "Epoch 12/30\n",
      "118/118 - 1s - 6ms/step - accuracy: 0.8701 - loss: 0.4959 - val_accuracy: 0.8948 - val_loss: 0.4055\n",
      "Epoch 3/30\n",
      "118/118 - 1s - 6ms/step - accuracy: 0.9450 - loss: 0.1959 - val_accuracy: 0.9443 - val_loss: 0.1938\n",
      "Epoch 13/30\n",
      "118/118 - 1s - 7ms/step - accuracy: 0.8931 - loss: 0.3974 - val_accuracy: 0.9070 - val_loss: 0.3475\n",
      "Epoch 4/30\n",
      "118/118 - 1s - 6ms/step - accuracy: 0.9461 - loss: 0.1906 - val_accuracy: 0.9448 - val_loss: 0.1899\n",
      "Epoch 14/30\n",
      "118/118 - 1s - 6ms/step - accuracy: 0.9043 - loss: 0.3514 - val_accuracy: 0.9155 - val_loss: 0.3162\n",
      "Epoch 5/30\n",
      "118/118 - 1s - 6ms/step - accuracy: 0.9473 - loss: 0.1859 - val_accuracy: 0.9454 - val_loss: 0.1865\n",
      "Epoch 15/30\n",
      "118/118 - 1s - 6ms/step - accuracy: 0.9486 - loss: 0.1818 - val_accuracy: 0.9461 - val_loss: 0.1836\n",
      "Epoch 16/30\n",
      "118/118 - 1s - 6ms/step - accuracy: 0.9108 - loss: 0.3236 - val_accuracy: 0.9196 - val_loss: 0.2962\n",
      "Epoch 6/30\n",
      "118/118 - 1s - 7ms/step - accuracy: 0.9159 - loss: 0.3046 - val_accuracy: 0.9231 - val_loss: 0.2824\n",
      "118/118 - 1s - 7ms/step - accuracy: 0.9495 - loss: 0.1781 - val_accuracy: 0.9464 - val_loss: 0.1810\n",
      "Epoch 17/30\n",
      "Epoch 7/30\n",
      "118/118 - 1s - 6ms/step - accuracy: 0.9193 - loss: 0.2905 - val_accuracy: 0.9246 - val_loss: 0.2722\n",
      "Epoch 8/30\n",
      "118/118 - 1s - 6ms/step - accuracy: 0.9503 - loss: 0.1747 - val_accuracy: 0.9473 - val_loss: 0.1786\n",
      "Epoch 18/30\n",
      "118/118 - 1s - 6ms/step - accuracy: 0.9512 - loss: 0.1717 - val_accuracy: 0.9482 - val_loss: 0.1765\n",
      "Epoch 19/30\n",
      "118/118 - 1s - 6ms/step - accuracy: 0.9217 - loss: 0.2796 - val_accuracy: 0.9257 - val_loss: 0.2643\n",
      "Epoch 9/30\n",
      "118/118 - 1s - 6ms/step - accuracy: 0.9518 - loss: 0.1689 - val_accuracy: 0.9490 - val_loss: 0.1747\n",
      "Epoch 20/30\n",
      "118/118 - 1s - 6ms/step - accuracy: 0.9241 - loss: 0.2708 - val_accuracy: 0.9276 - val_loss: 0.2580\n",
      "Epoch 10/30\n",
      "118/118 - 1s - 6ms/step - accuracy: 0.9255 - loss: 0.2636 - val_accuracy: 0.9287 - val_loss: 0.2529\n",
      "Epoch 11/30\n",
      "118/118 - 1s - 6ms/step - accuracy: 0.9525 - loss: 0.1664 - val_accuracy: 0.9490 - val_loss: 0.1730\n",
      "Epoch 21/30\n",
      "118/118 - 1s - 6ms/step - accuracy: 0.9269 - loss: 0.2575 - val_accuracy: 0.9295 - val_loss: 0.2487\n",
      "Epoch 12/30\n",
      "118/118 - 1s - 6ms/step - accuracy: 0.9532 - loss: 0.1640 - val_accuracy: 0.9494 - val_loss: 0.1715\n",
      "Epoch 22/30\n",
      "118/118 - 1s - 6ms/step - accuracy: 0.9287 - loss: 0.2523 - val_accuracy: 0.9302 - val_loss: 0.2451\n",
      "Epoch 13/30\n",
      "118/118 - 1s - 6ms/step - accuracy: 0.9537 - loss: 0.1619 - val_accuracy: 0.9502 - val_loss: 0.1701\n",
      "Epoch 23/30\n",
      "118/118 - 1s - 6ms/step - accuracy: 0.9302 - loss: 0.2478 - val_accuracy: 0.9308 - val_loss: 0.2421\n",
      "Epoch 14/30\n",
      "118/118 - 1s - 6ms/step - accuracy: 0.9542 - loss: 0.1599 - val_accuracy: 0.9509 - val_loss: 0.1689\n",
      "Epoch 24/30\n",
      "118/118 - 1s - 6ms/step - accuracy: 0.9313 - loss: 0.2438 - val_accuracy: 0.9312 - val_loss: 0.2395\n",
      "Epoch 15/30\n",
      "118/118 - 1s - 6ms/step - accuracy: 0.9546 - loss: 0.1581 - val_accuracy: 0.9513 - val_loss: 0.1678\n",
      "Epoch 25/30\n",
      "118/118 - 1s - 7ms/step - accuracy: 0.9323 - loss: 0.2402 - val_accuracy: 0.9318 - val_loss: 0.2372\n",
      "Epoch 16/30\n",
      "118/118 - 1s - 6ms/step - accuracy: 0.9552 - loss: 0.1563 - val_accuracy: 0.9515 - val_loss: 0.1668\n",
      "Epoch 26/30\n",
      "118/118 - 1s - 6ms/step - accuracy: 0.9329 - loss: 0.2371 - val_accuracy: 0.9322 - val_loss: 0.2351\n",
      "Epoch 17/30\n",
      "118/118 - 1s - 6ms/step - accuracy: 0.9556 - loss: 0.1547 - val_accuracy: 0.9515 - val_loss: 0.1658\n",
      "Epoch 27/30\n",
      "118/118 - 1s - 6ms/step - accuracy: 0.9339 - loss: 0.2342 - val_accuracy: 0.9329 - val_loss: 0.2334\n",
      "Epoch 18/30\n",
      "118/118 - 1s - 6ms/step - accuracy: 0.9562 - loss: 0.1532 - val_accuracy: 0.9515 - val_loss: 0.1650\n",
      "Epoch 28/30\n",
      "118/118 - 1s - 6ms/step - accuracy: 0.9347 - loss: 0.2317 - val_accuracy: 0.9333 - val_loss: 0.2318\n",
      "Epoch 19/30\n",
      "118/118 - 1s - 7ms/step - accuracy: 0.9566 - loss: 0.1518 - val_accuracy: 0.9512 - val_loss: 0.1642\n",
      "Epoch 29/30\n",
      "118/118 - 1s - 5ms/step - accuracy: 0.9354 - loss: 0.2293 - val_accuracy: 0.9333 - val_loss: 0.2303\n",
      "Epoch 20/30\n",
      "118/118 - 1s - 6ms/step - accuracy: 0.9570 - loss: 0.1505 - val_accuracy: 0.9512 - val_loss: 0.1635\n",
      "Epoch 30/30\n",
      "118/118 - 1s - 6ms/step - accuracy: 0.9362 - loss: 0.2271 - val_accuracy: 0.9333 - val_loss: 0.2290\n",
      "Epoch 21/30\n",
      "118/118 - 1s - 6ms/step - accuracy: 0.9573 - loss: 0.1493 - val_accuracy: 0.9515 - val_loss: 0.1629\n",
      "118/118 - 1s - 6ms/step - accuracy: 0.9365 - loss: 0.2252 - val_accuracy: 0.9336 - val_loss: 0.2279\n",
      "Epoch 22/30\n",
      "118/118 - 1s - 6ms/step - accuracy: 0.9370 - loss: 0.2233 - val_accuracy: 0.9337 - val_loss: 0.2268\n",
      "Epoch 23/30\n",
      "118/118 - 1s - 6ms/step - accuracy: 0.9374 - loss: 0.2216 - val_accuracy: 0.9340 - val_loss: 0.2258\n",
      "Epoch 24/30\n",
      "118/118 - 1s - 6ms/step - accuracy: 0.9379 - loss: 0.2200 - val_accuracy: 0.9346 - val_loss: 0.2249\n",
      "Epoch 25/30\n",
      "118/118 - 1s - 6ms/step - accuracy: 0.9386 - loss: 0.2185 - val_accuracy: 0.9352 - val_loss: 0.2241\n",
      "Epoch 26/30\n",
      "118/118 - 1s - 6ms/step - accuracy: 0.9390 - loss: 0.2171 - val_accuracy: 0.9357 - val_loss: 0.2234\n",
      "Epoch 27/30\n",
      "118/118 - 1s - 6ms/step - accuracy: 0.9393 - loss: 0.2158 - val_accuracy: 0.9362 - val_loss: 0.2227\n",
      "Epoch 28/30\n",
      "118/118 - 1s - 6ms/step - accuracy: 0.9396 - loss: 0.2146 - val_accuracy: 0.9362 - val_loss: 0.2221\n",
      "Epoch 29/30\n",
      "118/118 - 1s - 6ms/step - accuracy: 0.9398 - loss: 0.2134 - val_accuracy: 0.9365 - val_loss: 0.2215\n",
      "Epoch 30/30\n",
      "118/118 - 1s - 5ms/step - accuracy: 0.9401 - loss: 0.2123 - val_accuracy: 0.9366 - val_loss: 0.2210\n",
      "\u001b[1m20/20\u001b[0m \u001b[32m━━━━━━━━━━━━━━━━━━━━\u001b[0m\u001b[37m\u001b[0m \u001b[1m4s\u001b[0m 203ms/step\n",
      "\u001b[1m20/20\u001b[0m \u001b[32m━━━━━━━━━━━━━━━━━━━━\u001b[0m\u001b[37m\u001b[0m \u001b[1m4s\u001b[0m 204ms/step\n",
      "\u001b[1m20/20\u001b[0m \u001b[32m━━━━━━━━━━━━━━━━━━━━\u001b[0m\u001b[37m\u001b[0m \u001b[1m4s\u001b[0m 207ms/step\n",
      "\u001b[1m20/20\u001b[0m \u001b[32m━━━━━━━━━━━━━━━━━━━━\u001b[0m\u001b[37m\u001b[0m \u001b[1m5s\u001b[0m 232ms/step\n",
      "Epoch 1/30\n",
      "Epoch 1/30\n"
     ]
    },
    {
     "name": "stderr",
     "output_type": "stream",
     "text": [
      "2024-08-10 19:01:17.982932: W external/local_tsl/tsl/framework/cpu_allocator_impl.cc:83] Allocation of 188160000 exceeds 10% of free system memory.\n",
      "2024-08-10 19:01:17.987271: W external/local_tsl/tsl/framework/cpu_allocator_impl.cc:83] Allocation of 188160000 exceeds 10% of free system memory.\n",
      "2024-08-10 19:01:18.114732: W external/local_tsl/tsl/framework/cpu_allocator_impl.cc:83] Allocation of 188160000 exceeds 10% of free system memory.\n",
      "2024-08-10 19:01:18.133482: W external/local_tsl/tsl/framework/cpu_allocator_impl.cc:83] Allocation of 188160000 exceeds 10% of free system memory.\n",
      "2024-08-10 19:01:18.143361: I external/local_tsl/tsl/profiler/lib/profiler_session.cc:104] Profiler session initializing.\n",
      "2024-08-10 19:01:18.143402: I external/local_tsl/tsl/profiler/lib/profiler_session.cc:119] Profiler session started.\n",
      "2024-08-10 19:01:18.146546: I external/local_tsl/tsl/profiler/lib/profiler_session.cc:104] Profiler session initializing.\n",
      "2024-08-10 19:01:18.146603: I external/local_tsl/tsl/profiler/lib/profiler_session.cc:119] Profiler session started.\n"
     ]
    },
    {
     "name": "stdout",
     "output_type": "stream",
     "text": [
      "Epoch 1/30\n",
      "Epoch 1/30\n"
     ]
    },
    {
     "name": "stderr",
     "output_type": "stream",
     "text": [
      "2024-08-10 19:01:18.292739: I external/local_tsl/tsl/profiler/lib/profiler_session.cc:104] Profiler session initializing.\n",
      "2024-08-10 19:01:18.292789: I external/local_tsl/tsl/profiler/lib/profiler_session.cc:119] Profiler session started.\n",
      "2024-08-10 19:01:18.302593: I external/local_tsl/tsl/profiler/lib/profiler_session.cc:104] Profiler session initializing.\n",
      "2024-08-10 19:01:18.302650: I external/local_tsl/tsl/profiler/lib/profiler_session.cc:119] Profiler session started.\n",
      "2024-08-10 19:01:18.595200: I external/local_tsl/tsl/profiler/lib/profiler_session.cc:70] Profiler session collecting data.\n",
      "2024-08-10 19:01:18.597227: I external/local_tsl/tsl/profiler/lib/profiler_session.cc:131] Profiler session tear down.\n",
      "2024-08-10 19:01:18.597590: I external/local_tsl/tsl/profiler/rpc/client/save_profile.cc:144] Collecting XSpace to repository: /workspaces/QML-QPF/multiprocessing/output/20240810-185949/runs/FASHIONMNIST/FASHIONMNISTqrand/plugins/profile/2024_08_10_19_01_18/1ba22281c77a.xplane.pb\n",
      "2024-08-10 19:01:18.701943: I external/local_tsl/tsl/profiler/lib/profiler_session.cc:70] Profiler session collecting data.\n",
      "2024-08-10 19:01:18.706031: I external/local_tsl/tsl/profiler/lib/profiler_session.cc:131] Profiler session tear down.\n",
      "2024-08-10 19:01:18.706533: I external/local_tsl/tsl/profiler/rpc/client/save_profile.cc:144] Collecting XSpace to repository: /workspaces/QML-QPF/multiprocessing/output/20240810-185949/runs/MNIST/MNISTqentcnot/plugins/profile/2024_08_10_19_01_18/1ba22281c77a.xplane.pb\n",
      "2024-08-10 19:01:18.793518: I external/local_tsl/tsl/profiler/lib/profiler_session.cc:70] Profiler session collecting data.\n",
      "2024-08-10 19:01:18.797285: I external/local_tsl/tsl/profiler/lib/profiler_session.cc:131] Profiler session tear down.\n",
      "2024-08-10 19:01:18.798067: I external/local_tsl/tsl/profiler/rpc/client/save_profile.cc:144] Collecting XSpace to repository: /workspaces/QML-QPF/multiprocessing/output/20240810-185949/runs/FASHIONMNIST/FASHIONMNISTqcnot/plugins/profile/2024_08_10_19_01_18/1ba22281c77a.xplane.pb\n",
      "2024-08-10 19:01:18.848068: I external/local_tsl/tsl/profiler/lib/profiler_session.cc:70] Profiler session collecting data.\n",
      "2024-08-10 19:01:18.852193: I external/local_tsl/tsl/profiler/lib/profiler_session.cc:131] Profiler session tear down.\n",
      "2024-08-10 19:01:18.852624: I external/local_tsl/tsl/profiler/rpc/client/save_profile.cc:144] Collecting XSpace to repository: /workspaces/QML-QPF/multiprocessing/output/20240810-185949/runs/FASHIONMNIST/FASHIONMNISTqentcnot/plugins/profile/2024_08_10_19_01_18/1ba22281c77a.xplane.pb\n"
     ]
    },
    {
     "name": "stdout",
     "output_type": "stream",
     "text": [
      "118/118 - 1s - 11ms/step - accuracy: 0.6750 - loss: 1.1254 - val_accuracy: 0.8508 - val_loss: 0.5737\n",
      "Epoch 2/30\n",
      "118/118 - 1s - 12ms/step - accuracy: 0.6756 - loss: 0.9373 - val_accuracy: 0.7723 - val_loss: 0.6491\n",
      "Epoch 2/30\n",
      "118/118 - 1s - 12ms/step - accuracy: 0.6849 - loss: 0.9297 - val_accuracy: 0.7853 - val_loss: 0.6261\n",
      "Epoch 2/30\n",
      "118/118 - 1s - 12ms/step - accuracy: 0.6845 - loss: 0.9181 - val_accuracy: 0.7793 - val_loss: 0.6353\n",
      "Epoch 2/30\n",
      "118/118 - 1s - 5ms/step - accuracy: 0.8694 - loss: 0.4960 - val_accuracy: 0.8933 - val_loss: 0.4048\n",
      "Epoch 3/30\n",
      "118/118 - 1s - 5ms/step - accuracy: 0.7995 - loss: 0.5799 - val_accuracy: 0.8026 - val_loss: 0.5644\n",
      "Epoch 3/30\n",
      "118/118 - 1s - 5ms/step - accuracy: 0.8100 - loss: 0.5535 - val_accuracy: 0.8106 - val_loss: 0.5416\n",
      "Epoch 3/30\n",
      "118/118 - 1s - 5ms/step - accuracy: 0.8042 - loss: 0.5661 - val_accuracy: 0.8050 - val_loss: 0.5561\n",
      "Epoch 3/30\n",
      "118/118 - 1s - 5ms/step - accuracy: 0.8933 - loss: 0.3895 - val_accuracy: 0.9085 - val_loss: 0.3415\n",
      "Epoch 4/30\n",
      "118/118 - 1s - 5ms/step - accuracy: 0.8197 - loss: 0.5192 - val_accuracy: 0.8151 - val_loss: 0.5291\n",
      "Epoch 4/30\n",
      "118/118 - 1s - 5ms/step - accuracy: 0.8281 - loss: 0.4947 - val_accuracy: 0.8207 - val_loss: 0.5059\n",
      "Epoch 4/30\n",
      "118/118 - 1s - 5ms/step - accuracy: 0.8227 - loss: 0.5088 - val_accuracy: 0.8141 - val_loss: 0.5235\n",
      "Epoch 4/30\n",
      "118/118 - 1s - 5ms/step - accuracy: 0.9055 - loss: 0.3400 - val_accuracy: 0.9160 - val_loss: 0.3074\n",
      "Epoch 5/30\n",
      "118/118 - 1s - 5ms/step - accuracy: 0.8302 - loss: 0.4882 - val_accuracy: 0.8209 - val_loss: 0.5089\n",
      "Epoch 5/30\n",
      "118/118 - 1s - 5ms/step - accuracy: 0.8371 - loss: 0.4649 - val_accuracy: 0.8269 - val_loss: 0.4856\n",
      "Epoch 5/30\n",
      "118/118 - 1s - 5ms/step - accuracy: 0.8314 - loss: 0.4798 - val_accuracy: 0.8193 - val_loss: 0.5049\n",
      "Epoch 5/30\n",
      "118/118 - 1s - 5ms/step - accuracy: 0.9128 - loss: 0.3103 - val_accuracy: 0.9212 - val_loss: 0.2859\n",
      "Epoch 6/30\n",
      "118/118 - 1s - 5ms/step - accuracy: 0.8371 - loss: 0.4685 - val_accuracy: 0.8253 - val_loss: 0.4956\n",
      "Epoch 6/30\n",
      "118/118 - 1s - 5ms/step - accuracy: 0.8438 - loss: 0.4460 - val_accuracy: 0.8310 - val_loss: 0.4722\n",
      "Epoch 6/30\n",
      "118/118 - 1s - 5ms/step - accuracy: 0.8385 - loss: 0.4612 - val_accuracy: 0.8253 - val_loss: 0.4926\n",
      "Epoch 6/30\n",
      "118/118 - 1s - 5ms/step - accuracy: 0.9178 - loss: 0.2899 - val_accuracy: 0.9242 - val_loss: 0.2709\n",
      "Epoch 7/30\n",
      "118/118 - 1s - 5ms/step - accuracy: 0.8416 - loss: 0.4546 - val_accuracy: 0.8293 - val_loss: 0.4862\n",
      "Epoch 7/30\n",
      "118/118 - 1s - 5ms/step - accuracy: 0.8484 - loss: 0.4327 - val_accuracy: 0.8357 - val_loss: 0.4627\n",
      "Epoch 7/30\n",
      "118/118 - 1s - 5ms/step - accuracy: 0.8430 - loss: 0.4480 - val_accuracy: 0.8280 - val_loss: 0.4838\n",
      "Epoch 7/30\n",
      "118/118 - 1s - 5ms/step - accuracy: 0.9214 - loss: 0.2750 - val_accuracy: 0.9266 - val_loss: 0.2598\n",
      "Epoch 8/30\n",
      "118/118 - 1s - 5ms/step - accuracy: 0.8457 - loss: 0.4441 - val_accuracy: 0.8310 - val_loss: 0.4791\n",
      "Epoch 8/30\n",
      "118/118 - 1s - 5ms/step - accuracy: 0.8520 - loss: 0.4226 - val_accuracy: 0.8390 - val_loss: 0.4556\n",
      "Epoch 8/30\n",
      "118/118 - 1s - 5ms/step - accuracy: 0.8462 - loss: 0.4380 - val_accuracy: 0.8304 - val_loss: 0.4773\n",
      "Epoch 8/30\n",
      "118/118 - 1s - 5ms/step - accuracy: 0.9243 - loss: 0.2634 - val_accuracy: 0.9275 - val_loss: 0.2512\n",
      "Epoch 9/30\n",
      "118/118 - 1s - 5ms/step - accuracy: 0.8478 - loss: 0.4358 - val_accuracy: 0.8314 - val_loss: 0.4737\n",
      "Epoch 9/30\n",
      "118/118 - 1s - 5ms/step - accuracy: 0.8549 - loss: 0.4147 - val_accuracy: 0.8403 - val_loss: 0.4501\n",
      "Epoch 9/30\n",
      "118/118 - 1s - 5ms/step - accuracy: 0.8486 - loss: 0.4300 - val_accuracy: 0.8327 - val_loss: 0.4721\n",
      "Epoch 9/30\n",
      "118/118 - 1s - 5ms/step - accuracy: 0.9272 - loss: 0.2540 - val_accuracy: 0.9299 - val_loss: 0.2443\n",
      "Epoch 10/30\n",
      "118/118 - 1s - 5ms/step - accuracy: 0.8501 - loss: 0.4291 - val_accuracy: 0.8326 - val_loss: 0.4693\n",
      "Epoch 10/30\n",
      "118/118 - 1s - 5ms/step - accuracy: 0.8571 - loss: 0.4082 - val_accuracy: 0.8416 - val_loss: 0.4458\n",
      "Epoch 10/30\n",
      "118/118 - 1s - 5ms/step - accuracy: 0.8504 - loss: 0.4235 - val_accuracy: 0.8336 - val_loss: 0.4680\n",
      "Epoch 10/30\n",
      "118/118 - 1s - 6ms/step - accuracy: 0.9292 - loss: 0.2464 - val_accuracy: 0.9318 - val_loss: 0.2387\n",
      "Epoch 11/30\n",
      "118/118 - 1s - 5ms/step - accuracy: 0.8517 - loss: 0.4235 - val_accuracy: 0.8341 - val_loss: 0.4657\n",
      "Epoch 11/30\n",
      "118/118 - 1s - 5ms/step - accuracy: 0.8586 - loss: 0.4029 - val_accuracy: 0.8436 - val_loss: 0.4422\n",
      "Epoch 11/30\n",
      "118/118 - 1s - 5ms/step - accuracy: 0.8530 - loss: 0.4180 - val_accuracy: 0.8351 - val_loss: 0.4647\n",
      "Epoch 11/30\n",
      "118/118 - 1s - 5ms/step - accuracy: 0.8535 - loss: 0.4187 - val_accuracy: 0.8348 - val_loss: 0.4627\n",
      "Epoch 12/30\n",
      "118/118 - 1s - 5ms/step - accuracy: 0.9308 - loss: 0.2399 - val_accuracy: 0.9328 - val_loss: 0.2340\n",
      "Epoch 12/30\n",
      "118/118 - 1s - 5ms/step - accuracy: 0.8598 - loss: 0.3983 - val_accuracy: 0.8448 - val_loss: 0.4394\n",
      "Epoch 12/30\n",
      "118/118 - 1s - 5ms/step - accuracy: 0.8545 - loss: 0.4133 - val_accuracy: 0.8360 - val_loss: 0.4619\n",
      "Epoch 12/30\n",
      "118/118 - 1s - 5ms/step - accuracy: 0.8550 - loss: 0.4145 - val_accuracy: 0.8356 - val_loss: 0.4602\n",
      "Epoch 13/30\n",
      "118/118 - 1s - 5ms/step - accuracy: 0.9323 - loss: 0.2343 - val_accuracy: 0.9335 - val_loss: 0.2301\n",
      "Epoch 13/30\n",
      "118/118 - 1s - 5ms/step - accuracy: 0.8610 - loss: 0.3943 - val_accuracy: 0.8455 - val_loss: 0.4370\n",
      "Epoch 13/30\n",
      "118/118 - 1s - 5ms/step - accuracy: 0.8558 - loss: 0.4092 - val_accuracy: 0.8357 - val_loss: 0.4595\n",
      "Epoch 13/30\n",
      "118/118 - 1s - 5ms/step - accuracy: 0.8563 - loss: 0.4109 - val_accuracy: 0.8370 - val_loss: 0.4581\n",
      "Epoch 14/30\n",
      "118/118 - 1s - 5ms/step - accuracy: 0.9335 - loss: 0.2295 - val_accuracy: 0.9345 - val_loss: 0.2267\n",
      "Epoch 14/30\n",
      "118/118 - 1s - 5ms/step - accuracy: 0.8623 - loss: 0.3909 - val_accuracy: 0.8464 - val_loss: 0.4350\n",
      "Epoch 14/30\n",
      "118/118 - 1s - 5ms/step - accuracy: 0.8565 - loss: 0.4056 - val_accuracy: 0.8363 - val_loss: 0.4575\n",
      "Epoch 14/30\n",
      "118/118 - 1s - 5ms/step - accuracy: 0.8574 - loss: 0.4077 - val_accuracy: 0.8375 - val_loss: 0.4562\n",
      "Epoch 15/30\n",
      "118/118 - 1s - 5ms/step - accuracy: 0.9345 - loss: 0.2253 - val_accuracy: 0.9353 - val_loss: 0.2238\n",
      "Epoch 15/30\n",
      "118/118 - 1s - 5ms/step - accuracy: 0.8632 - loss: 0.3878 - val_accuracy: 0.8470 - val_loss: 0.4333\n",
      "Epoch 15/30\n",
      "118/118 - 1s - 5ms/step - accuracy: 0.8573 - loss: 0.4024 - val_accuracy: 0.8369 - val_loss: 0.4558\n",
      "Epoch 15/30\n",
      "118/118 - 1s - 5ms/step - accuracy: 0.8583 - loss: 0.4048 - val_accuracy: 0.8378 - val_loss: 0.4546\n",
      "Epoch 16/30\n",
      "118/118 - 1s - 5ms/step - accuracy: 0.9351 - loss: 0.2215 - val_accuracy: 0.9363 - val_loss: 0.2212\n",
      "Epoch 16/30\n",
      "118/118 - 1s - 5ms/step - accuracy: 0.8644 - loss: 0.3851 - val_accuracy: 0.8472 - val_loss: 0.4318\n",
      "Epoch 16/30\n",
      "118/118 - 1s - 5ms/step - accuracy: 0.8584 - loss: 0.3996 - val_accuracy: 0.8385 - val_loss: 0.4543\n",
      "Epoch 16/30\n",
      "118/118 - 1s - 5ms/step - accuracy: 0.8590 - loss: 0.4022 - val_accuracy: 0.8378 - val_loss: 0.4532\n",
      "118/118 - 1s - 5ms/step - accuracy: 0.9360 - loss: 0.2181 - val_accuracy: 0.9375 - val_loss: 0.2190\n",
      "Epoch 17/30\n",
      "Epoch 17/30\n",
      "118/118 - 1s - 5ms/step - accuracy: 0.8649 - loss: 0.3827 - val_accuracy: 0.8475 - val_loss: 0.4306\n",
      "Epoch 17/30\n",
      "118/118 - 1s - 5ms/step - accuracy: 0.8592 - loss: 0.3970 - val_accuracy: 0.8387 - val_loss: 0.4530\n",
      "Epoch 17/30\n",
      "118/118 - 1s - 5ms/step - accuracy: 0.9371 - loss: 0.2151 - val_accuracy: 0.9376 - val_loss: 0.2171\n",
      "Epoch 18/30\n",
      "118/118 - 1s - 5ms/step - accuracy: 0.8596 - loss: 0.3998 - val_accuracy: 0.8380 - val_loss: 0.4520\n",
      "Epoch 18/30\n",
      "118/118 - 1s - 5ms/step - accuracy: 0.8655 - loss: 0.3804 - val_accuracy: 0.8481 - val_loss: 0.4295\n",
      "Epoch 18/30\n",
      "118/118 - 1s - 5ms/step - accuracy: 0.8602 - loss: 0.3946 - val_accuracy: 0.8390 - val_loss: 0.4519\n",
      "Epoch 18/30\n",
      "118/118 - 1s - 5ms/step - accuracy: 0.8606 - loss: 0.3976 - val_accuracy: 0.8388 - val_loss: 0.4510\n",
      "Epoch 19/30\n",
      "118/118 - 1s - 5ms/step - accuracy: 0.9375 - loss: 0.2123 - val_accuracy: 0.9375 - val_loss: 0.2153\n",
      "Epoch 19/30\n",
      "118/118 - 1s - 5ms/step - accuracy: 0.8659 - loss: 0.3784 - val_accuracy: 0.8483 - val_loss: 0.4286\n",
      "Epoch 19/30\n",
      "118/118 - 1s - 5ms/step - accuracy: 0.8608 - loss: 0.3925 - val_accuracy: 0.8395 - val_loss: 0.4509\n",
      "Epoch 19/30\n",
      "118/118 - 1s - 5ms/step - accuracy: 0.8612 - loss: 0.3956 - val_accuracy: 0.8399 - val_loss: 0.4500\n",
      "Epoch 20/30\n",
      "118/118 - 1s - 5ms/step - accuracy: 0.9381 - loss: 0.2098 - val_accuracy: 0.9375 - val_loss: 0.2138\n",
      "Epoch 20/30\n",
      "118/118 - 1s - 5ms/step - accuracy: 0.8665 - loss: 0.3766 - val_accuracy: 0.8481 - val_loss: 0.4278\n",
      "Epoch 20/30\n",
      "118/118 - 1s - 5ms/step - accuracy: 0.8615 - loss: 0.3905 - val_accuracy: 0.8392 - val_loss: 0.4500\n",
      "Epoch 20/30\n",
      "118/118 - 1s - 5ms/step - accuracy: 0.8619 - loss: 0.3938 - val_accuracy: 0.8405 - val_loss: 0.4492\n",
      "Epoch 21/30\n",
      "118/118 - 1s - 5ms/step - accuracy: 0.9386 - loss: 0.2075 - val_accuracy: 0.9380 - val_loss: 0.2124\n",
      "Epoch 21/30\n",
      "118/118 - 1s - 5ms/step - accuracy: 0.8665 - loss: 0.3749 - val_accuracy: 0.8483 - val_loss: 0.4271\n",
      "Epoch 21/30\n",
      "118/118 - 1s - 5ms/step - accuracy: 0.8620 - loss: 0.3886 - val_accuracy: 0.8394 - val_loss: 0.4492\n",
      "Epoch 21/30\n",
      "118/118 - 1s - 5ms/step - accuracy: 0.8624 - loss: 0.3921 - val_accuracy: 0.8408 - val_loss: 0.4485\n",
      "Epoch 22/30\n",
      "118/118 - 1s - 6ms/step - accuracy: 0.9393 - loss: 0.2054 - val_accuracy: 0.9382 - val_loss: 0.2112\n",
      "Epoch 22/30\n",
      "118/118 - 1s - 6ms/step - accuracy: 0.8670 - loss: 0.3733 - val_accuracy: 0.8479 - val_loss: 0.4265\n",
      "Epoch 22/30\n",
      "118/118 - 1s - 5ms/step - accuracy: 0.8626 - loss: 0.3869 - val_accuracy: 0.8397 - val_loss: 0.4485\n",
      "Epoch 22/30\n",
      "118/118 - 1s - 5ms/step - accuracy: 0.8627 - loss: 0.3905 - val_accuracy: 0.8412 - val_loss: 0.4478\n",
      "Epoch 23/30\n",
      "118/118 - 1s - 5ms/step - accuracy: 0.9398 - loss: 0.2034 - val_accuracy: 0.9380 - val_loss: 0.2101\n",
      "Epoch 23/30\n",
      "118/118 - 1s - 5ms/step - accuracy: 0.8631 - loss: 0.3853 - val_accuracy: 0.8399 - val_loss: 0.4479\n",
      "Epoch 23/30\n",
      "118/118 - 1s - 5ms/step - accuracy: 0.8633 - loss: 0.3890 - val_accuracy: 0.8419 - val_loss: 0.4472\n",
      "Epoch 24/30\n",
      "118/118 - 1s - 5ms/step - accuracy: 0.9405 - loss: 0.2016 - val_accuracy: 0.9383 - val_loss: 0.2091\n",
      "Epoch 24/30\n",
      "118/118 - 1s - 10ms/step - accuracy: 0.8674 - loss: 0.3718 - val_accuracy: 0.8484 - val_loss: 0.4260\n",
      "Epoch 23/30\n",
      "118/118 - 1s - 5ms/step - accuracy: 0.8637 - loss: 0.3838 - val_accuracy: 0.8399 - val_loss: 0.4474\n",
      "Epoch 24/30\n",
      "118/118 - 1s - 5ms/step - accuracy: 0.8635 - loss: 0.3876 - val_accuracy: 0.8420 - val_loss: 0.4467\n",
      "Epoch 25/30\n",
      "118/118 - 1s - 5ms/step - accuracy: 0.9409 - loss: 0.1999 - val_accuracy: 0.9387 - val_loss: 0.2082\n",
      "Epoch 25/30\n",
      "118/118 - 1s - 5ms/step - accuracy: 0.8678 - loss: 0.3705 - val_accuracy: 0.8483 - val_loss: 0.4255\n",
      "Epoch 24/30\n",
      "118/118 - 1s - 5ms/step - accuracy: 0.8644 - loss: 0.3824 - val_accuracy: 0.8398 - val_loss: 0.4469\n",
      "Epoch 25/30\n",
      "118/118 - 1s - 5ms/step - accuracy: 0.8639 - loss: 0.3863 - val_accuracy: 0.8422 - val_loss: 0.4463\n",
      "Epoch 26/30\n",
      "118/118 - 1s - 5ms/step - accuracy: 0.9416 - loss: 0.1983 - val_accuracy: 0.9386 - val_loss: 0.2073\n",
      "Epoch 26/30\n",
      "118/118 - 1s - 5ms/step - accuracy: 0.8681 - loss: 0.3692 - val_accuracy: 0.8481 - val_loss: 0.4251\n",
      "Epoch 25/30\n",
      "118/118 - 1s - 5ms/step - accuracy: 0.8648 - loss: 0.3811 - val_accuracy: 0.8397 - val_loss: 0.4464\n",
      "Epoch 26/30\n",
      "118/118 - 1s - 5ms/step - accuracy: 0.8643 - loss: 0.3851 - val_accuracy: 0.8423 - val_loss: 0.4459\n",
      "Epoch 27/30\n",
      "118/118 - 1s - 5ms/step - accuracy: 0.9419 - loss: 0.1968 - val_accuracy: 0.9389 - val_loss: 0.2066\n",
      "Epoch 27/30\n",
      "118/118 - 1s - 5ms/step - accuracy: 0.8681 - loss: 0.3680 - val_accuracy: 0.8486 - val_loss: 0.4248\n",
      "Epoch 26/30\n",
      "118/118 - 1s - 5ms/step - accuracy: 0.8652 - loss: 0.3799 - val_accuracy: 0.8398 - val_loss: 0.4461\n",
      "Epoch 27/30\n",
      "118/118 - 1s - 5ms/step - accuracy: 0.8644 - loss: 0.3839 - val_accuracy: 0.8422 - val_loss: 0.4455\n",
      "Epoch 28/30\n",
      "118/118 - 1s - 5ms/step - accuracy: 0.8685 - loss: 0.3669 - val_accuracy: 0.8491 - val_loss: 0.4245\n",
      "Epoch 27/30\n",
      "118/118 - 1s - 6ms/step - accuracy: 0.9422 - loss: 0.1954 - val_accuracy: 0.9390 - val_loss: 0.2059\n",
      "Epoch 28/30\n",
      "118/118 - 1s - 5ms/step - accuracy: 0.8655 - loss: 0.3787 - val_accuracy: 0.8393 - val_loss: 0.4457\n",
      "Epoch 28/30\n",
      "118/118 - 1s - 5ms/step - accuracy: 0.8647 - loss: 0.3828 - val_accuracy: 0.8423 - val_loss: 0.4452\n",
      "Epoch 29/30\n",
      "118/118 - 1s - 5ms/step - accuracy: 0.9423 - loss: 0.1941 - val_accuracy: 0.9392 - val_loss: 0.2053\n",
      "Epoch 29/30\n",
      "118/118 - 1s - 5ms/step - accuracy: 0.8657 - loss: 0.3776 - val_accuracy: 0.8397 - val_loss: 0.4454\n",
      "Epoch 29/30\n",
      "118/118 - 1s - 6ms/step - accuracy: 0.8651 - loss: 0.3818 - val_accuracy: 0.8428 - val_loss: 0.4449\n",
      "Epoch 30/30\n",
      "118/118 - 1s - 5ms/step - accuracy: 0.9427 - loss: 0.1929 - val_accuracy: 0.9392 - val_loss: 0.2047\n",
      "Epoch 30/30\n",
      "118/118 - 1s - 10ms/step - accuracy: 0.8688 - loss: 0.3658 - val_accuracy: 0.8490 - val_loss: 0.4243\n",
      "Epoch 28/30\n",
      "118/118 - 1s - 5ms/step - accuracy: 0.8659 - loss: 0.3766 - val_accuracy: 0.8397 - val_loss: 0.4451\n",
      "Epoch 30/30\n",
      "118/118 - 1s - 5ms/step - accuracy: 0.8654 - loss: 0.3808 - val_accuracy: 0.8427 - val_loss: 0.4447\n",
      "118/118 - 1s - 5ms/step - accuracy: 0.9431 - loss: 0.1917 - val_accuracy: 0.9393 - val_loss: 0.2042\n",
      "118/118 - 1s - 5ms/step - accuracy: 0.8691 - loss: 0.3648 - val_accuracy: 0.8494 - val_loss: 0.4241\n",
      "Epoch 29/30\n",
      "118/118 - 1s - 5ms/step - accuracy: 0.8664 - loss: 0.3756 - val_accuracy: 0.8400 - val_loss: 0.4449\n",
      "118/118 - 1s - 5ms/step - accuracy: 0.8695 - loss: 0.3639 - val_accuracy: 0.8492 - val_loss: 0.4239\n",
      "Epoch 30/30\n",
      "118/118 - 1s - 6ms/step - accuracy: 0.8698 - loss: 0.3630 - val_accuracy: 0.8491 - val_loss: 0.4238\n"
     ]
    }
   ],
   "source": [
    "\n",
    "def frontload_data():\n",
    "    from tensorflow import keras\n",
    "    mnist_dataset = keras.datasets.fashion_mnist\n",
    "    (train_images, train_labels), (test_images, test_labels) = mnist_dataset.load_data()\n",
    "    mnist_dataset = keras.datasets.mnist\n",
    "    (train_images, train_labels), (test_images, test_labels) = mnist_dataset.load_data()\n",
    "\n",
    "def pool_job(input):\n",
    "    this_model = Model(*input)\n",
    "    this_model.set_data()\n",
    "    this_model.prep()\n",
    "    this_model.pre_filter()\n",
    "    this_model.fit()\n",
    "    this_model.save_filtered()\n",
    "\n",
    "frontload_data()\n",
    "#to prevent race condition\n",
    "with ProcessPoolExecutor(8) as executor:\n",
    "    runner = {\n",
    "            executor.submit(pool_job, m): m for m in models\n",
    "        }\n",
    "    for future in as_completed(runner):\n",
    "        runner.pop(future)\n",
    "\n",
    "\n",
    "\n"
   ]
  },
  {
   "cell_type": "code",
   "execution_count": 3,
   "metadata": {},
   "outputs": [
    {
     "name": "stderr",
     "output_type": "stream",
     "text": [
      "2024-08-10 19:01:38.648959: I external/local_tsl/tsl/profiler/lib/profiler_session.cc:104] Profiler session initializing.\n",
      "2024-08-10 19:01:38.649040: I external/local_tsl/tsl/profiler/lib/profiler_session.cc:119] Profiler session started.\n",
      "2024-08-10 19:01:38.649793: I external/local_tsl/tsl/profiler/lib/profiler_session.cc:104] Profiler session initializing.\n",
      "2024-08-10 19:01:38.649861: I external/local_tsl/tsl/profiler/lib/profiler_session.cc:104] Profiler session initializing.\n",
      "2024-08-10 19:01:38.650019: I external/local_tsl/tsl/profiler/lib/profiler_session.cc:119] Profiler session started.\n",
      "2024-08-10 19:01:38.650014: I external/local_tsl/tsl/profiler/lib/profiler_session.cc:119] Profiler session started.\n",
      "2024-08-10 19:01:38.650146: I external/local_tsl/tsl/profiler/lib/profiler_session.cc:104] Profiler session initializing.\n",
      "2024-08-10 19:01:38.650298: I external/local_tsl/tsl/profiler/lib/profiler_session.cc:119] Profiler session started.\n",
      "2024-08-10 19:01:38.650590: I external/local_tsl/tsl/profiler/lib/profiler_session.cc:104] Profiler session initializing.\n",
      "2024-08-10 19:01:38.650779: I external/local_tsl/tsl/profiler/lib/profiler_session.cc:119] Profiler session started.\n",
      "2024-08-10 19:01:38.650828: I external/local_tsl/tsl/profiler/lib/profiler_session.cc:104] Profiler session initializing.\n",
      "2024-08-10 19:01:38.651033: I external/local_tsl/tsl/profiler/lib/profiler_session.cc:119] Profiler session started.\n",
      "2024-08-10 19:01:38.651396: I external/local_tsl/tsl/profiler/lib/profiler_session.cc:104] Profiler session initializing.\n",
      "2024-08-10 19:01:38.651601: I external/local_tsl/tsl/profiler/lib/profiler_session.cc:119] Profiler session started.\n",
      "2024-08-10 19:01:38.652858: I external/local_tsl/tsl/profiler/lib/profiler_session.cc:104] Profiler session initializing.\n",
      "2024-08-10 19:01:38.653074: I external/local_tsl/tsl/profiler/lib/profiler_session.cc:119] Profiler session started.\n",
      "2024-08-10 19:01:38.655191: I external/local_tsl/tsl/profiler/lib/profiler_session.cc:131] Profiler session tear down.\n",
      "2024-08-10 19:01:38.665692: I external/local_tsl/tsl/profiler/lib/profiler_session.cc:131] Profiler session tear down.\n",
      "2024-08-10 19:01:38.666962: I external/local_tsl/tsl/profiler/lib/profiler_session.cc:131] Profiler session tear down.\n",
      "2024-08-10 19:01:38.667466: I external/local_tsl/tsl/profiler/lib/profiler_session.cc:131] Profiler session tear down.\n",
      "2024-08-10 19:01:38.671582: I external/local_tsl/tsl/profiler/lib/profiler_session.cc:131] Profiler session tear down.\n",
      "2024-08-10 19:01:38.672529: I external/local_tsl/tsl/profiler/lib/profiler_session.cc:131] Profiler session tear down.\n",
      "2024-08-10 19:01:38.673065: I external/local_tsl/tsl/profiler/lib/profiler_session.cc:131] Profiler session tear down.\n",
      "2024-08-10 19:01:38.673085: I external/local_tsl/tsl/profiler/lib/profiler_session.cc:131] Profiler session tear down.\n",
      "2024-08-10 19:01:38.845013: E external/local_xla/xla/stream_executor/cuda/cuda_driver.cc:282] failed call to cuInit: CUDA_ERROR_NO_DEVICE: no CUDA-capable device is detected\n",
      "2024-08-10 19:01:38.845051: I external/local_xla/xla/stream_executor/cuda/cuda_diagnostics.cc:134] retrieving CUDA diagnostic information for host: 1ba22281c77a\n",
      "2024-08-10 19:01:38.845058: I external/local_xla/xla/stream_executor/cuda/cuda_diagnostics.cc:141] hostname: 1ba22281c77a\n",
      "2024-08-10 19:01:38.845231: I external/local_xla/xla/stream_executor/cuda/cuda_diagnostics.cc:165] libcuda reported version is: 550.90.7\n",
      "2024-08-10 19:01:38.845253: I external/local_xla/xla/stream_executor/cuda/cuda_diagnostics.cc:169] kernel reported version is: 550.90.7\n",
      "2024-08-10 19:01:38.845259: I external/local_xla/xla/stream_executor/cuda/cuda_diagnostics.cc:248] kernel version seems to match DSO: 550.90.7\n",
      "2024-08-10 19:01:38.862087: E external/local_xla/xla/stream_executor/cuda/cuda_driver.cc:282] failed call to cuInit: CUDA_ERROR_NO_DEVICE: no CUDA-capable device is detected\n",
      "2024-08-10 19:01:38.862128: I external/local_xla/xla/stream_executor/cuda/cuda_diagnostics.cc:134] retrieving CUDA diagnostic information for host: 1ba22281c77a\n",
      "2024-08-10 19:01:38.862139: I external/local_xla/xla/stream_executor/cuda/cuda_diagnostics.cc:141] hostname: 1ba22281c77a\n",
      "2024-08-10 19:01:38.862350: I external/local_xla/xla/stream_executor/cuda/cuda_diagnostics.cc:165] libcuda reported version is: 550.90.7\n",
      "2024-08-10 19:01:38.862393: I external/local_xla/xla/stream_executor/cuda/cuda_diagnostics.cc:169] kernel reported version is: 550.90.7\n",
      "2024-08-10 19:01:38.862401: I external/local_xla/xla/stream_executor/cuda/cuda_diagnostics.cc:248] kernel version seems to match DSO: 550.90.7\n",
      "2024-08-10 19:01:38.949421: E external/local_xla/xla/stream_executor/cuda/cuda_driver.cc:282] failed call to cuInit: CUDA_ERROR_NO_DEVICE: no CUDA-capable device is detected\n",
      "2024-08-10 19:01:38.949461: I external/local_xla/xla/stream_executor/cuda/cuda_diagnostics.cc:134] retrieving CUDA diagnostic information for host: 1ba22281c77a\n",
      "2024-08-10 19:01:38.949468: I external/local_xla/xla/stream_executor/cuda/cuda_diagnostics.cc:141] hostname: 1ba22281c77a\n",
      "2024-08-10 19:01:38.949670: I external/local_xla/xla/stream_executor/cuda/cuda_diagnostics.cc:165] libcuda reported version is: 550.90.7\n",
      "2024-08-10 19:01:38.949693: I external/local_xla/xla/stream_executor/cuda/cuda_diagnostics.cc:169] kernel reported version is: 550.90.7\n",
      "2024-08-10 19:01:38.949699: I external/local_xla/xla/stream_executor/cuda/cuda_diagnostics.cc:248] kernel version seems to match DSO: 550.90.7\n",
      "2024-08-10 19:01:38.950824: E external/local_xla/xla/stream_executor/cuda/cuda_driver.cc:282] failed call to cuInit: CUDA_ERROR_NO_DEVICE: no CUDA-capable device is detected\n",
      "2024-08-10 19:01:38.950864: I external/local_xla/xla/stream_executor/cuda/cuda_diagnostics.cc:134] retrieving CUDA diagnostic information for host: 1ba22281c77a\n",
      "2024-08-10 19:01:38.950872: I external/local_xla/xla/stream_executor/cuda/cuda_diagnostics.cc:141] hostname: 1ba22281c77a\n",
      "2024-08-10 19:01:38.951107: I external/local_xla/xla/stream_executor/cuda/cuda_diagnostics.cc:165] libcuda reported version is: 550.90.7\n",
      "2024-08-10 19:01:38.951157: I external/local_xla/xla/stream_executor/cuda/cuda_diagnostics.cc:169] kernel reported version is: 550.90.7\n",
      "2024-08-10 19:01:38.951168: I external/local_xla/xla/stream_executor/cuda/cuda_diagnostics.cc:248] kernel version seems to match DSO: 550.90.7\n",
      "2024-08-10 19:01:38.967426: E external/local_xla/xla/stream_executor/cuda/cuda_driver.cc:282] failed call to cuInit: CUDA_ERROR_NO_DEVICE: no CUDA-capable device is detected\n",
      "2024-08-10 19:01:38.967478: I external/local_xla/xla/stream_executor/cuda/cuda_diagnostics.cc:134] retrieving CUDA diagnostic information for host: 1ba22281c77a\n",
      "2024-08-10 19:01:38.967489: I external/local_xla/xla/stream_executor/cuda/cuda_diagnostics.cc:141] hostname: 1ba22281c77a\n",
      "2024-08-10 19:01:38.967725: I external/local_xla/xla/stream_executor/cuda/cuda_diagnostics.cc:165] libcuda reported version is: 550.90.7\n",
      "2024-08-10 19:01:38.967764: I external/local_xla/xla/stream_executor/cuda/cuda_diagnostics.cc:169] kernel reported version is: 550.90.7\n",
      "2024-08-10 19:01:38.967775: I external/local_xla/xla/stream_executor/cuda/cuda_diagnostics.cc:248] kernel version seems to match DSO: 550.90.7\n",
      "2024-08-10 19:01:38.968740: E external/local_xla/xla/stream_executor/cuda/cuda_driver.cc:282] failed call to cuInit: CUDA_ERROR_NO_DEVICE: no CUDA-capable device is detected\n",
      "2024-08-10 19:01:38.968876: I external/local_xla/xla/stream_executor/cuda/cuda_diagnostics.cc:134] retrieving CUDA diagnostic information for host: 1ba22281c77a\n",
      "2024-08-10 19:01:38.968914: I external/local_xla/xla/stream_executor/cuda/cuda_diagnostics.cc:141] hostname: 1ba22281c77a\n",
      "2024-08-10 19:01:38.969164: I external/local_xla/xla/stream_executor/cuda/cuda_diagnostics.cc:165] libcuda reported version is: 550.90.7\n",
      "2024-08-10 19:01:38.969244: I external/local_xla/xla/stream_executor/cuda/cuda_diagnostics.cc:169] kernel reported version is: 550.90.7\n",
      "2024-08-10 19:01:38.969279: I external/local_xla/xla/stream_executor/cuda/cuda_diagnostics.cc:248] kernel version seems to match DSO: 550.90.7\n"
     ]
    },
    {
     "name": "stdout",
     "output_type": "stream",
     "text": [
      "\u001b[1m 92/313\u001b[0m \u001b[32m━━━━━\u001b[0m\u001b[37m━━━━━━━━━━━━━━━\u001b[0m \u001b[1m0s\u001b[0m 1ms/step "
     ]
    },
    {
     "name": "stderr",
     "output_type": "stream",
     "text": [
      "2024-08-10 19:01:39.101875: E external/local_xla/xla/stream_executor/cuda/cuda_driver.cc:282] failed call to cuInit: CUDA_ERROR_NO_DEVICE: no CUDA-capable device is detected\n",
      "2024-08-10 19:01:39.102105: I external/local_xla/xla/stream_executor/cuda/cuda_diagnostics.cc:134] retrieving CUDA diagnostic information for host: 1ba22281c77a\n",
      "2024-08-10 19:01:39.102134: I external/local_xla/xla/stream_executor/cuda/cuda_diagnostics.cc:141] hostname: 1ba22281c77a\n",
      "2024-08-10 19:01:39.102506: I external/local_xla/xla/stream_executor/cuda/cuda_diagnostics.cc:165] libcuda reported version is: 550.90.7\n",
      "2024-08-10 19:01:39.102629: I external/local_xla/xla/stream_executor/cuda/cuda_diagnostics.cc:169] kernel reported version is: 550.90.7\n",
      "2024-08-10 19:01:39.102682: I external/local_xla/xla/stream_executor/cuda/cuda_diagnostics.cc:248] kernel version seems to match DSO: 550.90.7\n",
      "2024-08-10 19:01:39.103474: E external/local_xla/xla/stream_executor/cuda/cuda_driver.cc:282] failed call to cuInit: CUDA_ERROR_NO_DEVICE: no CUDA-capable device is detected\n",
      "2024-08-10 19:01:39.103591: I external/local_xla/xla/stream_executor/cuda/cuda_diagnostics.cc:134] retrieving CUDA diagnostic information for host: 1ba22281c77a\n",
      "2024-08-10 19:01:39.103628: I external/local_xla/xla/stream_executor/cuda/cuda_diagnostics.cc:141] hostname: 1ba22281c77a\n",
      "2024-08-10 19:01:39.103886: I external/local_xla/xla/stream_executor/cuda/cuda_diagnostics.cc:165] libcuda reported version is: 550.90.7\n",
      "2024-08-10 19:01:39.103973: I external/local_xla/xla/stream_executor/cuda/cuda_diagnostics.cc:169] kernel reported version is: 550.90.7\n",
      "2024-08-10 19:01:39.104004: I external/local_xla/xla/stream_executor/cuda/cuda_diagnostics.cc:248] kernel version seems to match DSO: 550.90.7\n"
     ]
    },
    {
     "name": "stdout",
     "output_type": "stream",
     "text": [
      "\u001b[1m313/313\u001b[0m \u001b[32m━━━━━━━━━━━━━━━━━━━━\u001b[0m\u001b[37m\u001b[0m \u001b[1m0s\u001b[0m 1ms/step  \n",
      "\u001b[1m313/313\u001b[0m \u001b[32m━━━━━━━━━━━━━━━━━━━━\u001b[0m\u001b[37m\u001b[0m \u001b[1m0s\u001b[0m 1ms/step\n",
      "\u001b[1m313/313\u001b[0m \u001b[32m━━━━━━━━━━━━━━━━━━━━\u001b[0m\u001b[37m\u001b[0m \u001b[1m0s\u001b[0m 1ms/step\n",
      "\u001b[1m313/313\u001b[0m \u001b[32m━━━━━━━━━━━━━━━━━━━━\u001b[0m\u001b[37m\u001b[0m \u001b[1m0s\u001b[0m 1ms/step\n",
      "\u001b[1m212/313\u001b[0m \u001b[32m━━━━━━━━━━━━━\u001b[0m\u001b[37m━━━━━━━\u001b[0m \u001b[1m0s\u001b[0m 959us/step"
     ]
    },
    {
     "name": "stderr",
     "output_type": "stream",
     "text": [
      "/opt/conda/envs/QML-QPF/lib/python3.10/site-packages/keras/src/saving/saving_lib.py:576: UserWarning: Skipping variable loading for optimizer 'adam', because it has 2 variables whereas the saved optimizer has 6 variables. \n",
      "  saveable.load_own_variables(weights_store.get(inner_path))\n"
     ]
    },
    {
     "name": "stdout",
     "output_type": "stream",
     "text": [
      "\u001b[1m263/313\u001b[0m \u001b[32m━━━━━━━━━━━━━━━━\u001b[0m\u001b[37m━━━━\u001b[0m \u001b[1m0s\u001b[0m 964us/step"
     ]
    },
    {
     "name": "stderr",
     "output_type": "stream",
     "text": [
      "/opt/conda/envs/QML-QPF/lib/python3.10/site-packages/keras/src/saving/saving_lib.py:576: UserWarning: Skipping variable loading for optimizer 'adam', because it has 2 variables whereas the saved optimizer has 6 variables. \n",
      "  saveable.load_own_variables(weights_store.get(inner_path))\n"
     ]
    },
    {
     "name": "stdout",
     "output_type": "stream",
     "text": [
      "\u001b[1m313/313\u001b[0m \u001b[32m━━━━━━━━━━━━━━━━━━━━\u001b[0m\u001b[37m\u001b[0m \u001b[1m0s\u001b[0m 1ms/step\n",
      "\u001b[1m313/313\u001b[0m \u001b[32m━━━━━━━━━━━━━━━━━━━━\u001b[0m\u001b[37m\u001b[0m \u001b[1m1s\u001b[0m 991us/step\n"
     ]
    },
    {
     "name": "stderr",
     "output_type": "stream",
     "text": [
      "/opt/conda/envs/QML-QPF/lib/python3.10/site-packages/keras/src/saving/saving_lib.py:576: UserWarning: Skipping variable loading for optimizer 'adam', because it has 2 variables whereas the saved optimizer has 6 variables. \n",
      "  saveable.load_own_variables(weights_store.get(inner_path))\n"
     ]
    },
    {
     "name": "stdout",
     "output_type": "stream",
     "text": [
      "\u001b[1m287/313\u001b[0m \u001b[32m━━━━━━━━━━━━━━━━━━\u001b[0m\u001b[37m━━\u001b[0m \u001b[1m0s\u001b[0m 884us/step"
     ]
    },
    {
     "name": "stderr",
     "output_type": "stream",
     "text": [
      "/opt/conda/envs/QML-QPF/lib/python3.10/site-packages/keras/src/saving/saving_lib.py:576: UserWarning: Skipping variable loading for optimizer 'adam', because it has 2 variables whereas the saved optimizer has 6 variables. \n",
      "  saveable.load_own_variables(weights_store.get(inner_path))\n"
     ]
    },
    {
     "name": "stdout",
     "output_type": "stream",
     "text": [
      "\u001b[1m313/313\u001b[0m \u001b[32m━━━━━━━━━━━━━━━━━━━━\u001b[0m\u001b[37m\u001b[0m \u001b[1m0s\u001b[0m 947us/step\n",
      "\u001b[1m313/313\u001b[0m \u001b[32m━━━━━━━━━━━━━━━━━━━━\u001b[0m\u001b[37m\u001b[0m \u001b[1m0s\u001b[0m 958us/step\n"
     ]
    },
    {
     "name": "stderr",
     "output_type": "stream",
     "text": [
      "/opt/conda/envs/QML-QPF/lib/python3.10/site-packages/keras/src/saving/saving_lib.py:576: UserWarning: Skipping variable loading for optimizer 'adam', because it has 2 variables whereas the saved optimizer has 6 variables. \n",
      "  saveable.load_own_variables(weights_store.get(inner_path))\n"
     ]
    },
    {
     "name": "stdout",
     "output_type": "stream",
     "text": [
      "/workspaces/QML-QPF/multiprocessing/output/20240810-185949/visuals/circuits/MNISTMNISTqcnot.png/workspaces/QML-QPF/multiprocessing/output/20240810-185949/visuals/circuits/MNISTMNISTqrand.png\n",
      "\n"
     ]
    },
    {
     "name": "stderr",
     "output_type": "stream",
     "text": [
      "/opt/conda/envs/QML-QPF/lib/python3.10/site-packages/keras/src/saving/saving_lib.py:576: UserWarning: Skipping variable loading for optimizer 'adam', because it has 2 variables whereas the saved optimizer has 6 variables. \n",
      "  saveable.load_own_variables(weights_store.get(inner_path))\n"
     ]
    },
    {
     "name": "stdout",
     "output_type": "stream",
     "text": [
      "/workspaces/QML-QPF/multiprocessing/output/20240810-185949/visuals/circuits/FASHIONMNISTFASHIONMNISTqrand.png"
     ]
    },
    {
     "name": "stderr",
     "output_type": "stream",
     "text": [
      "/opt/conda/envs/QML-QPF/lib/python3.10/site-packages/keras/src/saving/saving_lib.py:576: UserWarning: Skipping variable loading for optimizer 'adam', because it has 2 variables whereas the saved optimizer has 6 variables. \n",
      "  saveable.load_own_variables(weights_store.get(inner_path))\n"
     ]
    },
    {
     "name": "stdout",
     "output_type": "stream",
     "text": [
      "\n"
     ]
    },
    {
     "name": "stderr",
     "output_type": "stream",
     "text": [
      "/opt/conda/envs/QML-QPF/lib/python3.10/site-packages/keras/src/saving/saving_lib.py:576: UserWarning: Skipping variable loading for optimizer 'adam', because it has 2 variables whereas the saved optimizer has 6 variables. \n",
      "  saveable.load_own_variables(weights_store.get(inner_path))\n"
     ]
    },
    {
     "name": "stdout",
     "output_type": "stream",
     "text": [
      "/workspaces/QML-QPF/multiprocessing/output/20240810-185949/visuals/weights/FASHIONMNISTFASHIONMNISTno_filter.gif\n",
      "/workspaces/QML-QPF/multiprocessing/output/20240810-185949/visuals/weights/MNISTMNISTqcnot.gif\n",
      "/workspaces/QML-QPF/multiprocessing/output/20240810-185949/visuals/weights/MNISTMNISTqrand.gif\n",
      "/workspaces/QML-QPF/multiprocessing/output/20240810-185949/visuals/circuits/MNISTMNISTqentcnot.png\n",
      "/workspaces/QML-QPF/multiprocessing/output/20240810-185949/visuals/circuits/FASHIONMNISTFASHIONMNISTqentcnot.png\n",
      "/workspaces/QML-QPF/multiprocessing/output/20240810-185949/visuals/weights/MNISTMNISTno_filter.gif\n",
      "/workspaces/QML-QPF/multiprocessing/output/20240810-185949/visuals/circuits/FASHIONMNISTFASHIONMNISTqcnot.png\n",
      "/workspaces/QML-QPF/multiprocessing/output/20240810-185949/visuals/weights/FASHIONMNISTFASHIONMNISTqrand.gif\n",
      "/workspaces/QML-QPF/multiprocessing/output/20240810-185949/visuals/weights/FASHIONMNISTFASHIONMNISTqentcnot.gif\n",
      "/workspaces/QML-QPF/multiprocessing/output/20240810-185949/visuals/weights/MNISTMNISTqentcnot.gif\n",
      "WARNING:tensorflow:5 out of the last 5 calls to <function pfor.<locals>.f at 0x7a89b4f1d630> triggered tf.function retracing. Tracing is expensive and the excessive number of tracings could be due to (1) creating @tf.function repeatedly in a loop, (2) passing tensors with different shapes, (3) passing Python objects instead of tensors. For (1), please define your @tf.function outside of the loop. For (2), @tf.function has reduce_retracing=True option that can avoid unnecessary retracing. For (3), please refer to https://www.tensorflow.org/guide/function#controlling_retracing and https://www.tensorflow.org/api_docs/python/tf/function for  more details.\n",
      "/workspaces/QML-QPF/multiprocessing/output/20240810-185949/visuals/weights/FASHIONMNISTFASHIONMNISTqcnot.gif\n",
      "WARNING:tensorflow:5 out of the last 5 calls to <function pfor.<locals>.f at 0x7a89ad7e29e0> triggered tf.function retracing. Tracing is expensive and the excessive number of tracings could be due to (1) creating @tf.function repeatedly in a loop, (2) passing tensors with different shapes, (3) passing Python objects instead of tensors. For (1), please define your @tf.function outside of the loop. For (2), @tf.function has reduce_retracing=True option that can avoid unnecessary retracing. For (3), please refer to https://www.tensorflow.org/guide/function#controlling_retracing and https://www.tensorflow.org/api_docs/python/tf/function for  more details.\n",
      "WARNING:tensorflow:5 out of the last 5 calls to <function pfor.<locals>.f at 0x7a89b4f25ea0> triggered tf.function retracing. Tracing is expensive and the excessive number of tracings could be due to (1) creating @tf.function repeatedly in a loop, (2) passing tensors with different shapes, (3) passing Python objects instead of tensors. For (1), please define your @tf.function outside of the loop. For (2), @tf.function has reduce_retracing=True option that can avoid unnecessary retracing. For (3), please refer to https://www.tensorflow.org/guide/function#controlling_retracing and https://www.tensorflow.org/api_docs/python/tf/function for  more details.\n",
      "WARNING:tensorflow:6 out of the last 6 calls to <function pfor.<locals>.f at 0x7a89b4f4f250> triggered tf.function retracing. Tracing is expensive and the excessive number of tracings could be due to (1) creating @tf.function repeatedly in a loop, (2) passing tensors with different shapes, (3) passing Python objects instead of tensors. For (1), please define your @tf.function outside of the loop. For (2), @tf.function has reduce_retracing=True option that can avoid unnecessary retracing. For (3), please refer to https://www.tensorflow.org/guide/function#controlling_retracing and https://www.tensorflow.org/api_docs/python/tf/function for  more details.\n",
      "WARNING:tensorflow:6 out of the last 6 calls to <function pfor.<locals>.f at 0x7a89b4f5b250> triggered tf.function retracing. Tracing is expensive and the excessive number of tracings could be due to (1) creating @tf.function repeatedly in a loop, (2) passing tensors with different shapes, (3) passing Python objects instead of tensors. For (1), please define your @tf.function outside of the loop. For (2), @tf.function has reduce_retracing=True option that can avoid unnecessary retracing. For (3), please refer to https://www.tensorflow.org/guide/function#controlling_retracing and https://www.tensorflow.org/api_docs/python/tf/function for  more details.\n",
      "WARNING:tensorflow:6 out of the last 6 calls to <function pfor.<locals>.f at 0x7a89ad7f8e50> triggered tf.function retracing. Tracing is expensive and the excessive number of tracings could be due to (1) creating @tf.function repeatedly in a loop, (2) passing tensors with different shapes, (3) passing Python objects instead of tensors. For (1), please define your @tf.function outside of the loop. For (2), @tf.function has reduce_retracing=True option that can avoid unnecessary retracing. For (3), please refer to https://www.tensorflow.org/guide/function#controlling_retracing and https://www.tensorflow.org/api_docs/python/tf/function for  more details.\n",
      "WARNING:tensorflow:5 out of the last 5 calls to <function pfor.<locals>.f at 0x7a89b4fe2b90> triggered tf.function retracing. Tracing is expensive and the excessive number of tracings could be due to (1) creating @tf.function repeatedly in a loop, (2) passing tensors with different shapes, (3) passing Python objects instead of tensors. For (1), please define your @tf.function outside of the loop. For (2), @tf.function has reduce_retracing=True option that can avoid unnecessary retracing. For (3), please refer to https://www.tensorflow.org/guide/function#controlling_retracing and https://www.tensorflow.org/api_docs/python/tf/function for  more details.\n",
      "WARNING:tensorflow:6 out of the last 6 calls to <function pfor.<locals>.f at 0x7a89b4fff9a0> triggered tf.function retracing. Tracing is expensive and the excessive number of tracings could be due to (1) creating @tf.function repeatedly in a loop, (2) passing tensors with different shapes, (3) passing Python objects instead of tensors. For (1), please define your @tf.function outside of the loop. For (2), @tf.function has reduce_retracing=True option that can avoid unnecessary retracing. For (3), please refer to https://www.tensorflow.org/guide/function#controlling_retracing and https://www.tensorflow.org/api_docs/python/tf/function for  more details.\n",
      "WARNING:tensorflow:5 out of the last 5 calls to <function pfor.<locals>.f at 0x7a89acf2a8c0> triggered tf.function retracing. Tracing is expensive and the excessive number of tracings could be due to (1) creating @tf.function repeatedly in a loop, (2) passing tensors with different shapes, (3) passing Python objects instead of tensors. For (1), please define your @tf.function outside of the loop. For (2), @tf.function has reduce_retracing=True option that can avoid unnecessary retracing. For (3), please refer to https://www.tensorflow.org/guide/function#controlling_retracing and https://www.tensorflow.org/api_docs/python/tf/function for  more details.\n",
      "WARNING:tensorflow:5 out of the last 5 calls to <function pfor.<locals>.f at 0x7a89b4f31ea0> triggered tf.function retracing. Tracing is expensive and the excessive number of tracings could be due to (1) creating @tf.function repeatedly in a loop, (2) passing tensors with different shapes, (3) passing Python objects instead of tensors. For (1), please define your @tf.function outside of the loop. For (2), @tf.function has reduce_retracing=True option that can avoid unnecessary retracing. For (3), please refer to https://www.tensorflow.org/guide/function#controlling_retracing and https://www.tensorflow.org/api_docs/python/tf/function for  more details.\n",
      "WARNING:tensorflow:6 out of the last 6 calls to <function pfor.<locals>.f at 0x7a89acf4cdc0> triggered tf.function retracing. Tracing is expensive and the excessive number of tracings could be due to (1) creating @tf.function repeatedly in a loop, (2) passing tensors with different shapes, (3) passing Python objects instead of tensors. For (1), please define your @tf.function outside of the loop. For (2), @tf.function has reduce_retracing=True option that can avoid unnecessary retracing. For (3), please refer to https://www.tensorflow.org/guide/function#controlling_retracing and https://www.tensorflow.org/api_docs/python/tf/function for  more details.\n",
      "WARNING:tensorflow:6 out of the last 6 calls to <function pfor.<locals>.f at 0x7a89b4f63250> triggered tf.function retracing. Tracing is expensive and the excessive number of tracings could be due to (1) creating @tf.function repeatedly in a loop, (2) passing tensors with different shapes, (3) passing Python objects instead of tensors. For (1), please define your @tf.function outside of the loop. For (2), @tf.function has reduce_retracing=True option that can avoid unnecessary retracing. For (3), please refer to https://www.tensorflow.org/guide/function#controlling_retracing and https://www.tensorflow.org/api_docs/python/tf/function for  more details.\n",
      "WARNING:tensorflow:5 out of the last 5 calls to <function pfor.<locals>.f at 0x7a89b4ef5bd0> triggered tf.function retracing. Tracing is expensive and the excessive number of tracings could be due to (1) creating @tf.function repeatedly in a loop, (2) passing tensors with different shapes, (3) passing Python objects instead of tensors. For (1), please define your @tf.function outside of the loop. For (2), @tf.function has reduce_retracing=True option that can avoid unnecessary retracing. For (3), please refer to https://www.tensorflow.org/guide/function#controlling_retracing and https://www.tensorflow.org/api_docs/python/tf/function for  more details.\n",
      "WARNING:tensorflow:5 out of the last 5 calls to <function pfor.<locals>.f at 0x7a89b4f26a70> triggered tf.function retracing. Tracing is expensive and the excessive number of tracings could be due to (1) creating @tf.function repeatedly in a loop, (2) passing tensors with different shapes, (3) passing Python objects instead of tensors. For (1), please define your @tf.function outside of the loop. For (2), @tf.function has reduce_retracing=True option that can avoid unnecessary retracing. For (3), please refer to https://www.tensorflow.org/guide/function#controlling_retracing and https://www.tensorflow.org/api_docs/python/tf/function for  more details.\n",
      "WARNING:tensorflow:6 out of the last 6 calls to <function pfor.<locals>.f at 0x7a89b4f571c0> triggered tf.function retracing. Tracing is expensive and the excessive number of tracings could be due to (1) creating @tf.function repeatedly in a loop, (2) passing tensors with different shapes, (3) passing Python objects instead of tensors. For (1), please define your @tf.function outside of the loop. For (2), @tf.function has reduce_retracing=True option that can avoid unnecessary retracing. For (3), please refer to https://www.tensorflow.org/guide/function#controlling_retracing and https://www.tensorflow.org/api_docs/python/tf/function for  more details.\n",
      "WARNING:tensorflow:6 out of the last 6 calls to <function pfor.<locals>.f at 0x7a89b4f437f0> triggered tf.function retracing. Tracing is expensive and the excessive number of tracings could be due to (1) creating @tf.function repeatedly in a loop, (2) passing tensors with different shapes, (3) passing Python objects instead of tensors. For (1), please define your @tf.function outside of the loop. For (2), @tf.function has reduce_retracing=True option that can avoid unnecessary retracing. For (3), please refer to https://www.tensorflow.org/guide/function#controlling_retracing and https://www.tensorflow.org/api_docs/python/tf/function for  more details.\n",
      "/workspaces/QML-QPF/multiprocessing/output/20240810-185949/visuals/relative_weights/FASHIONMNISTFASHIONMNISTqrand.gif\n",
      "/workspaces/QML-QPF/multiprocessing/output/20240810-185949/visuals/relative_weights/FASHIONMNISTFASHIONMNISTno_filter.gif\n",
      "/workspaces/QML-QPF/multiprocessing/output/20240810-185949/visuals/relative_weights/MNISTMNISTqentcnot.gif\n",
      "/workspaces/QML-QPF/multiprocessing/output/20240810-185949/visuals/relative_weights/FASHIONMNISTFASHIONMNISTqentcnot.gif\n",
      "/workspaces/QML-QPF/multiprocessing/output/20240810-185949/visuals/relative_weights/FASHIONMNISTFASHIONMNISTqcnot.gif\n",
      "/workspaces/QML-QPF/multiprocessing/output/20240810-185949/visuals/relative_weights/MNISTMNISTno_filter.gif\n",
      "/workspaces/QML-QPF/multiprocessing/output/20240810-185949/visuals/relative_weights/MNISTMNISTqrand.gif\n",
      "/workspaces/QML-QPF/multiprocessing/output/20240810-185949/visuals/relative_weights/MNISTMNISTqcnot.gif\n",
      "/workspaces/QML-QPF/multiprocessing/output/20240810-185949/visuals/bias/FASHIONMNISTFASHIONMNISTqrand.gif\n",
      "/workspaces/QML-QPF/multiprocessing/output/20240810-185949/visuals/bias/FASHIONMNISTFASHIONMNISTqcnot.gif\n",
      "/workspaces/QML-QPF/multiprocessing/output/20240810-185949/visuals/bias/MNISTMNISTqrand.gif\n",
      "/workspaces/QML-QPF/multiprocessing/output/20240810-185949/visuals/bias/MNISTMNISTqcnot.gif\n",
      "/workspaces/QML-QPF/multiprocessing/output/20240810-185949/visuals/bias/FASHIONMNISTFASHIONMNISTno_filter.gif\n",
      "/workspaces/QML-QPF/multiprocessing/output/20240810-185949/visuals/bias/MNISTMNISTqentcnot.gif\n",
      "/workspaces/QML-QPF/multiprocessing/output/20240810-185949/visuals/bias/FASHIONMNISTFASHIONMNISTqentcnot.gif\n",
      "/workspaces/QML-QPF/multiprocessing/output/20240810-185949/visuals/bias/MNISTMNISTno_filter.gif\n",
      "/workspaces/QML-QPF/multiprocessing/output/20240810-185949/visuals/relative_bias/FASHIONMNISTFASHIONMNISTqcnot.gif\n",
      "/workspaces/QML-QPF/multiprocessing/output/20240810-185949/visuals/relative_bias/MNISTMNISTqrand.gif\n",
      "/workspaces/QML-QPF/multiprocessing/output/20240810-185949/visuals/relative_bias/FASHIONMNISTFASHIONMNISTqrand.gif\n",
      "/workspaces/QML-QPF/multiprocessing/output/20240810-185949/visuals/relative_bias/FASHIONMNISTFASHIONMNISTno_filter.gif\n",
      "/workspaces/QML-QPF/multiprocessing/output/20240810-185949/visuals/relative_bias/MNISTMNISTqentcnot.gif\n",
      "/workspaces/QML-QPF/multiprocessing/output/20240810-185949/visuals/relative_bias/MNISTMNISTno_filter.gif\n",
      "/workspaces/QML-QPF/multiprocessing/output/20240810-185949/visuals/relative_bias/FASHIONMNISTFASHIONMNISTqentcnot.gif\n",
      "/workspaces/QML-QPF/multiprocessing/output/20240810-185949/visuals/relative_bias/MNISTMNISTqcnot.gif\n",
      "/workspaces/QML-QPF/multiprocessing/output/20240810-185949/visuals/individual_samples/FASHIONMNISTFASHIONMNISTqcnot.png\n",
      "/workspaces/QML-QPF/multiprocessing/output/20240810-185949/visuals/relative_samples/FASHIONMNISTFASHIONMNISTqcnot.png\n",
      "/workspaces/QML-QPF/multiprocessing/output/20240810-185949/visuals/filter/FASHIONMNISTFASHIONMNISTqcnot.gif\n",
      "/workspaces/QML-QPF/multiprocessing/output/20240810-185949/visuals/individual_samples/MNISTMNISTqrand.png\n",
      "/workspaces/QML-QPF/multiprocessing/output/20240810-185949/visuals/relative_samples/MNISTMNISTqrand.png\n",
      "/workspaces/QML-QPF/multiprocessing/output/20240810-185949/visuals/individual_samples/MNISTMNISTqentcnot.png\n",
      "/workspaces/QML-QPF/multiprocessing/output/20240810-185949/visuals/relative_samples/MNISTMNISTqentcnot.png\n",
      "/workspaces/QML-QPF/multiprocessing/output/20240810-185949/visuals/filter/MNISTMNISTqrand.gif\n",
      "/workspaces/QML-QPF/multiprocessing/output/20240810-185949/visuals/individual_samples/FASHIONMNISTFASHIONMNISTno_filter.png\n",
      "/workspaces/QML-QPF/multiprocessing/output/20240810-185949/visuals/relative_samples/FASHIONMNISTFASHIONMNISTno_filter.png\n",
      "/workspaces/QML-QPF/multiprocessing/output/20240810-185949/visuals/filter/MNISTMNISTqentcnot.gif\n",
      "/workspaces/QML-QPF/multiprocessing/output/20240810-185949/visuals/filter/FASHIONMNISTFASHIONMNISTno_filter.gif\n",
      "/workspaces/QML-QPF/multiprocessing/output/20240810-185949/visuals/individual_samples/FASHIONMNISTFASHIONMNISTqrand.png\n",
      "/workspaces/QML-QPF/multiprocessing/output/20240810-185949/visuals/relative_samples/FASHIONMNISTFASHIONMNISTqrand.png\n",
      "/workspaces/QML-QPF/multiprocessing/output/20240810-185949/visuals/individual_samples/FASHIONMNISTFASHIONMNISTqentcnot.png\n",
      "/workspaces/QML-QPF/multiprocessing/output/20240810-185949/visuals/filter/FASHIONMNISTFASHIONMNISTqrand.gif\n",
      "/workspaces/QML-QPF/multiprocessing/output/20240810-185949/visuals/relative_samples/FASHIONMNISTFASHIONMNISTqentcnot.png\n",
      "/workspaces/QML-QPF/multiprocessing/output/20240810-185949/visuals/individual_samples/MNISTMNISTqcnot.png\n",
      "/workspaces/QML-QPF/multiprocessing/output/20240810-185949/visuals/relative_samples/MNISTMNISTqcnot.png\n",
      "/workspaces/QML-QPF/multiprocessing/output/20240810-185949/visuals/individual_samples/MNISTMNISTno_filter.png\n",
      "/workspaces/QML-QPF/multiprocessing/output/20240810-185949/visuals/relative_samples/MNISTMNISTno_filter.png\n",
      "/workspaces/QML-QPF/multiprocessing/output/20240810-185949/visuals/filter/FASHIONMNISTFASHIONMNISTqentcnot.gif\n",
      "/workspaces/QML-QPF/multiprocessing/output/20240810-185949/visuals/filter/MNISTMNISTqcnot.gif\n",
      "/workspaces/QML-QPF/multiprocessing/output/20240810-185949/visuals/filter/MNISTMNISTno_filter.gif\n"
     ]
    }
   ],
   "source": [
    "def pool_job2(detail):\n",
    "    restored_model = Model(*detail)\n",
    "    restored_model.set_data()\n",
    "    restored_model.prep()\n",
    "    restored_model.load_history()\n",
    "    restored_model.visuals.circuit()\n",
    "    restored_model.visuals.weights()\n",
    "    restored_model.visuals.relative_weights()\n",
    "    restored_model.visuals.bias()\n",
    "    restored_model.visuals.relative_bias()\n",
    "    restored_model.visuals.data_samples()\n",
    "    restored_model.visuals.relative_samples()\n",
    "    restored_model.visuals.filtering()\n",
    "\n",
    "\n",
    "with ProcessPoolExecutor(8) as executor:\n",
    "    runner = {\n",
    "            executor.submit(pool_job2, m): m for m in models\n",
    "        }\n",
    "    for future in as_completed(runner):\n",
    "        runner.pop(future) "
   ]
  },
  {
   "cell_type": "code",
   "execution_count": 4,
   "metadata": {},
   "outputs": [
    {
     "name": "stderr",
     "output_type": "stream",
     "text": [
      "2024-08-10 19:06:33.353922: I external/local_tsl/tsl/profiler/lib/profiler_session.cc:104] Profiler session initializing.\n",
      "2024-08-10 19:06:33.353976: I external/local_tsl/tsl/profiler/lib/profiler_session.cc:119] Profiler session started.\n",
      "2024-08-10 19:06:33.367605: I external/local_tsl/tsl/profiler/lib/profiler_session.cc:131] Profiler session tear down.\n",
      "2024-08-10 19:06:33.563785: E external/local_xla/xla/stream_executor/cuda/cuda_driver.cc:282] failed call to cuInit: CUDA_ERROR_NO_DEVICE: no CUDA-capable device is detected\n",
      "2024-08-10 19:06:33.563814: I external/local_xla/xla/stream_executor/cuda/cuda_diagnostics.cc:134] retrieving CUDA diagnostic information for host: 1ba22281c77a\n",
      "2024-08-10 19:06:33.563821: I external/local_xla/xla/stream_executor/cuda/cuda_diagnostics.cc:141] hostname: 1ba22281c77a\n",
      "2024-08-10 19:06:33.563984: I external/local_xla/xla/stream_executor/cuda/cuda_diagnostics.cc:165] libcuda reported version is: 550.90.7\n",
      "2024-08-10 19:06:33.564000: I external/local_xla/xla/stream_executor/cuda/cuda_diagnostics.cc:169] kernel reported version is: 550.90.7\n",
      "2024-08-10 19:06:33.564006: I external/local_xla/xla/stream_executor/cuda/cuda_diagnostics.cc:248] kernel version seems to match DSO: 550.90.7\n"
     ]
    },
    {
     "name": "stdout",
     "output_type": "stream",
     "text": [
      "\u001b[1m313/313\u001b[0m \u001b[32m━━━━━━━━━━━━━━━━━━━━\u001b[0m\u001b[37m\u001b[0m \u001b[1m0s\u001b[0m 711us/step\n"
     ]
    },
    {
     "name": "stderr",
     "output_type": "stream",
     "text": [
      "/opt/conda/envs/QML-QPF/lib/python3.10/site-packages/keras/src/saving/saving_lib.py:576: UserWarning: Skipping variable loading for optimizer 'adam', because it has 2 variables whereas the saved optimizer has 6 variables. \n",
      "  saveable.load_own_variables(weights_store.get(inner_path))\n",
      "/opt/conda/envs/QML-QPF/lib/python3.10/site-packages/cudf/utils/_ptxcompiler.py:61: UserWarning: Error getting driver and runtime versions:\n",
      "\n",
      "stdout:\n",
      "\n",
      "\n",
      "\n",
      "stderr:\n",
      "\n",
      "Traceback (most recent call last):\n",
      "  File \"/opt/conda/envs/QML-QPF/lib/python3.10/site-packages/numba/cuda/cudadrv/driver.py\", line 254, in ensure_initialized\n",
      "    self.cuInit(0)\n",
      "  File \"/opt/conda/envs/QML-QPF/lib/python3.10/site-packages/numba/cuda/cudadrv/driver.py\", line 327, in safe_cuda_api_call\n",
      "    self._check_ctypes_error(fname, retcode)\n",
      "  File \"/opt/conda/envs/QML-QPF/lib/python3.10/site-packages/numba/cuda/cudadrv/driver.py\", line 395, in _check_ctypes_error\n",
      "    raise CudaAPIError(retcode, msg)\n",
      "numba.cuda.cudadrv.driver.CudaAPIError: [100] Call to cuInit results in CUDA_ERROR_NO_DEVICE\n",
      "\n",
      "During handling of the above exception, another exception occurred:\n",
      "\n",
      "Traceback (most recent call last):\n",
      "  File \"<string>\", line 4, in <module>\n",
      "  File \"/opt/conda/envs/QML-QPF/lib/python3.10/site-packages/numba/cuda/cudadrv/driver.py\", line 292, in __getattr__\n",
      "    self.ensure_initialized()\n",
      "  File \"/opt/conda/envs/QML-QPF/lib/python3.10/site-packages/numba/cuda/cudadrv/driver.py\", line 258, in ensure_initialized\n",
      "    raise CudaSupportError(f\"Error at driver init: {description}\")\n",
      "numba.cuda.cudadrv.error.CudaSupportError: Error at driver init: Call to cuInit results in CUDA_ERROR_NO_DEVICE (100)\n",
      "\n",
      "\n",
      "Not patching Numba\n",
      "  warnings.warn(msg, UserWarning)\n",
      "/opt/conda/envs/QML-QPF/lib/python3.10/site-packages/cudf/utils/gpu_utils.py:149: UserWarning: No NVIDIA GPU detected\n",
      "  warnings.warn(\"No NVIDIA GPU detected\")\n",
      "/opt/conda/envs/QML-QPF/lib/python3.10/site-packages/tqdm/auto.py:21: TqdmWarning: IProgress not found. Please update jupyter and ipywidgets. See https://ipywidgets.readthedocs.io/en/stable/user_install.html\n",
      "  from .autonotebook import tqdm as notebook_tqdm\n",
      "/opt/conda/envs/QML-QPF/lib/python3.10/site-packages/numba/np/ufunc/dufunc.py:343: NumbaWarning: \u001b[1mCompilation requested for previously compiled argument types ((uint32,)). This has no effect and perhaps indicates a bug in the calling code (compiling a ufunc more than once for the same signature\u001b[0m\n",
      "  warnings.warn(msg, errors.NumbaWarning)\n",
      "/opt/conda/envs/QML-QPF/lib/python3.10/site-packages/numba/np/ufunc/dufunc.py:343: NumbaWarning: \u001b[1mCompilation requested for previously compiled argument types ((uint32,)). This has no effect and perhaps indicates a bug in the calling code (compiling a ufunc more than once for the same signature\u001b[0m\n",
      "  warnings.warn(msg, errors.NumbaWarning)\n",
      "/opt/conda/envs/QML-QPF/lib/python3.10/site-packages/numba/np/ufunc/dufunc.py:343: NumbaWarning: \u001b[1mCompilation requested for previously compiled argument types ((uint32,)). This has no effect and perhaps indicates a bug in the calling code (compiling a ufunc more than once for the same signature\u001b[0m\n",
      "  warnings.warn(msg, errors.NumbaWarning)\n"
     ]
    },
    {
     "name": "stdout",
     "output_type": "stream",
     "text": [
      "\u001b[1m1875/1875\u001b[0m \u001b[32m━━━━━━━━━━━━━━━━━━━━\u001b[0m\u001b[37m\u001b[0m \u001b[1m1s\u001b[0m 739us/step\n"
     ]
    },
    {
     "ename": "CUDARuntimeError",
     "evalue": "cudaErrorNoDevice: no CUDA-capable device is detected",
     "output_type": "error",
     "traceback": [
      "\u001b[0;31m---------------------------------------------------------------------------\u001b[0m",
      "\u001b[0;31mAttributeError\u001b[0m                            Traceback (most recent call last)",
      "File \u001b[0;32mcupy/cuda/stream.pyx:36\u001b[0m, in \u001b[0;36mcupy.cuda.stream._ThreadLocal.get\u001b[0;34m()\u001b[0m\n",
      "\u001b[0;31mAttributeError\u001b[0m: '_thread._local' object has no attribute 'tls'",
      "\nDuring handling of the above exception, another exception occurred:\n",
      "\u001b[0;31mCUDARuntimeError\u001b[0m                          Traceback (most recent call last)",
      "Cell \u001b[0;32mIn[4], line 8\u001b[0m\n\u001b[1;32m      5\u001b[0m     restored_model\u001b[38;5;241m.\u001b[39mload_history()\n\u001b[1;32m      6\u001b[0m     restored_model\u001b[38;5;241m.\u001b[39mvisuals\u001b[38;5;241m.\u001b[39mmanifold_umap()\n\u001b[0;32m----> 8\u001b[0m {UMAP_job(m): m \u001b[38;5;28;01mfor\u001b[39;00m m \u001b[38;5;129;01min\u001b[39;00m models}  \n",
      "Cell \u001b[0;32mIn[4], line 8\u001b[0m, in \u001b[0;36m<dictcomp>\u001b[0;34m(.0)\u001b[0m\n\u001b[1;32m      5\u001b[0m     restored_model\u001b[38;5;241m.\u001b[39mload_history()\n\u001b[1;32m      6\u001b[0m     restored_model\u001b[38;5;241m.\u001b[39mvisuals\u001b[38;5;241m.\u001b[39mmanifold_umap()\n\u001b[0;32m----> 8\u001b[0m {\u001b[43mUMAP_job\u001b[49m\u001b[43m(\u001b[49m\u001b[43mm\u001b[49m\u001b[43m)\u001b[49m: m \u001b[38;5;28;01mfor\u001b[39;00m m \u001b[38;5;129;01min\u001b[39;00m models}  \n",
      "Cell \u001b[0;32mIn[4], line 6\u001b[0m, in \u001b[0;36mUMAP_job\u001b[0;34m(detail)\u001b[0m\n\u001b[1;32m      4\u001b[0m restored_model\u001b[38;5;241m.\u001b[39mprep()\n\u001b[1;32m      5\u001b[0m restored_model\u001b[38;5;241m.\u001b[39mload_history()\n\u001b[0;32m----> 6\u001b[0m \u001b[43mrestored_model\u001b[49m\u001b[38;5;241;43m.\u001b[39;49m\u001b[43mvisuals\u001b[49m\u001b[38;5;241;43m.\u001b[39;49m\u001b[43mmanifold_umap\u001b[49m\u001b[43m(\u001b[49m\u001b[43m)\u001b[49m\n",
      "File \u001b[0;32m/workspaces/QML-QPF/multiprocessing/visuals.py:265\u001b[0m, in \u001b[0;36mVisualize.manifold_umap\u001b[0;34m(self)\u001b[0m\n\u001b[1;32m    256\u001b[0m hover_df \u001b[38;5;241m=\u001b[39m pd\u001b[38;5;241m.\u001b[39mDataFrame(category_labels, columns\u001b[38;5;241m=\u001b[39m[\u001b[38;5;124m'\u001b[39m\u001b[38;5;124mcategory\u001b[39m\u001b[38;5;124m'\u001b[39m])\n\u001b[1;32m    258\u001b[0m reducer \u001b[38;5;241m=\u001b[39m UMAP(\n\u001b[1;32m    259\u001b[0m     random_state\u001b[38;5;241m=\u001b[39m\u001b[38;5;241m42\u001b[39m,\n\u001b[1;32m    260\u001b[0m     n_components \u001b[38;5;241m=\u001b[39m \u001b[38;5;241m2\u001b[39m,\n\u001b[1;32m    261\u001b[0m     n_neighbors \u001b[38;5;241m=\u001b[39m cf\u001b[38;5;241m.\u001b[39mn_batches,\n\u001b[1;32m    262\u001b[0m     n_epochs \u001b[38;5;241m=\u001b[39m cf\u001b[38;5;241m.\u001b[39mn_epochs\n\u001b[1;32m    263\u001b[0m )\n\u001b[0;32m--> 265\u001b[0m embedding \u001b[38;5;241m=\u001b[39m \u001b[43mreducer\u001b[49m\u001b[38;5;241;43m.\u001b[39;49m\u001b[43mfit_transform\u001b[49m\u001b[43m(\u001b[49m\u001b[43mflattened\u001b[49m\u001b[43m,\u001b[49m\u001b[43mthis\u001b[49m\u001b[38;5;241;43m.\u001b[39;49m\u001b[43mtest_labels\u001b[49m\u001b[43m)\u001b[49m\n\u001b[1;32m    266\u001b[0m visuals_dir \u001b[38;5;241m=\u001b[39m this\u001b[38;5;241m.\u001b[39mvisuals_dir \u001b[38;5;241m+\u001b[39m \u001b[38;5;124m\"\u001b[39m\u001b[38;5;124mUMAP\u001b[39m\u001b[38;5;124m\"\u001b[39m \u001b[38;5;241m+\u001b[39m \u001b[38;5;124m\"\u001b[39m\u001b[38;5;124m/\u001b[39m\u001b[38;5;124m\"\u001b[39m\n\u001b[1;32m    267\u001b[0m os\u001b[38;5;241m.\u001b[39mmakedirs(visuals_dir, exist_ok\u001b[38;5;241m=\u001b[39m\u001b[38;5;28;01mTrue\u001b[39;00m)\n",
      "File \u001b[0;32m/opt/conda/envs/QML-QPF/lib/python3.10/site-packages/cuml/internals/api_decorators.py:188\u001b[0m, in \u001b[0;36m_make_decorator_function.<locals>.decorator_function.<locals>.decorator_closure.<locals>.wrapper\u001b[0;34m(*args, **kwargs)\u001b[0m\n\u001b[1;32m    185\u001b[0m     set_api_output_dtype(output_dtype)\n\u001b[1;32m    187\u001b[0m \u001b[38;5;28;01mif\u001b[39;00m process_return:\n\u001b[0;32m--> 188\u001b[0m     ret \u001b[38;5;241m=\u001b[39m \u001b[43mfunc\u001b[49m\u001b[43m(\u001b[49m\u001b[38;5;241;43m*\u001b[39;49m\u001b[43margs\u001b[49m\u001b[43m,\u001b[49m\u001b[43m \u001b[49m\u001b[38;5;241;43m*\u001b[39;49m\u001b[38;5;241;43m*\u001b[39;49m\u001b[43mkwargs\u001b[49m\u001b[43m)\u001b[49m\n\u001b[1;32m    189\u001b[0m \u001b[38;5;28;01melse\u001b[39;00m:\n\u001b[1;32m    190\u001b[0m     \u001b[38;5;28;01mreturn\u001b[39;00m func(\u001b[38;5;241m*\u001b[39margs, \u001b[38;5;241m*\u001b[39m\u001b[38;5;241m*\u001b[39mkwargs)\n",
      "File \u001b[0;32m/opt/conda/envs/QML-QPF/lib/python3.10/site-packages/cuml/internals/api_decorators.py:393\u001b[0m, in \u001b[0;36menable_device_interop.<locals>.dispatch\u001b[0;34m(self, *args, **kwargs)\u001b[0m\n\u001b[1;32m    391\u001b[0m \u001b[38;5;28;01mif\u001b[39;00m \u001b[38;5;28mhasattr\u001b[39m(\u001b[38;5;28mself\u001b[39m, \u001b[38;5;124m\"\u001b[39m\u001b[38;5;124mdispatch_func\u001b[39m\u001b[38;5;124m\"\u001b[39m):\n\u001b[1;32m    392\u001b[0m     func_name \u001b[38;5;241m=\u001b[39m gpu_func\u001b[38;5;241m.\u001b[39m\u001b[38;5;18m__name__\u001b[39m\n\u001b[0;32m--> 393\u001b[0m     \u001b[38;5;28;01mreturn\u001b[39;00m \u001b[38;5;28;43mself\u001b[39;49m\u001b[38;5;241;43m.\u001b[39;49m\u001b[43mdispatch_func\u001b[49m\u001b[43m(\u001b[49m\u001b[43mfunc_name\u001b[49m\u001b[43m,\u001b[49m\u001b[43m \u001b[49m\u001b[43mgpu_func\u001b[49m\u001b[43m,\u001b[49m\u001b[43m \u001b[49m\u001b[38;5;241;43m*\u001b[39;49m\u001b[43margs\u001b[49m\u001b[43m,\u001b[49m\u001b[43m \u001b[49m\u001b[38;5;241;43m*\u001b[39;49m\u001b[38;5;241;43m*\u001b[39;49m\u001b[43mkwargs\u001b[49m\u001b[43m)\u001b[49m\n\u001b[1;32m    394\u001b[0m \u001b[38;5;28;01melse\u001b[39;00m:\n\u001b[1;32m    395\u001b[0m     \u001b[38;5;28;01mreturn\u001b[39;00m gpu_func(\u001b[38;5;28mself\u001b[39m, \u001b[38;5;241m*\u001b[39margs, \u001b[38;5;241m*\u001b[39m\u001b[38;5;241m*\u001b[39mkwargs)\n",
      "File \u001b[0;32m/opt/conda/envs/QML-QPF/lib/python3.10/site-packages/cuml/internals/api_decorators.py:190\u001b[0m, in \u001b[0;36m_make_decorator_function.<locals>.decorator_function.<locals>.decorator_closure.<locals>.wrapper\u001b[0;34m(*args, **kwargs)\u001b[0m\n\u001b[1;32m    188\u001b[0m         ret \u001b[38;5;241m=\u001b[39m func(\u001b[38;5;241m*\u001b[39margs, \u001b[38;5;241m*\u001b[39m\u001b[38;5;241m*\u001b[39mkwargs)\n\u001b[1;32m    189\u001b[0m     \u001b[38;5;28;01melse\u001b[39;00m:\n\u001b[0;32m--> 190\u001b[0m         \u001b[38;5;28;01mreturn\u001b[39;00m \u001b[43mfunc\u001b[49m\u001b[43m(\u001b[49m\u001b[38;5;241;43m*\u001b[39;49m\u001b[43margs\u001b[49m\u001b[43m,\u001b[49m\u001b[43m \u001b[49m\u001b[38;5;241;43m*\u001b[39;49m\u001b[38;5;241;43m*\u001b[39;49m\u001b[43mkwargs\u001b[49m\u001b[43m)\u001b[49m\n\u001b[1;32m    192\u001b[0m \u001b[38;5;28;01mreturn\u001b[39;00m cm\u001b[38;5;241m.\u001b[39mprocess_return(ret)\n",
      "File \u001b[0;32mbase.pyx:687\u001b[0m, in \u001b[0;36mcuml.internals.base.UniversalBase.dispatch_func\u001b[0;34m()\u001b[0m\n",
      "File \u001b[0;32mumap.pyx:666\u001b[0m, in \u001b[0;36mcuml.manifold.umap.UMAP.fit_transform\u001b[0;34m()\u001b[0m\n",
      "File \u001b[0;32m/opt/conda/envs/QML-QPF/lib/python3.10/site-packages/cuml/internals/api_decorators.py:188\u001b[0m, in \u001b[0;36m_make_decorator_function.<locals>.decorator_function.<locals>.decorator_closure.<locals>.wrapper\u001b[0;34m(*args, **kwargs)\u001b[0m\n\u001b[1;32m    185\u001b[0m     set_api_output_dtype(output_dtype)\n\u001b[1;32m    187\u001b[0m \u001b[38;5;28;01mif\u001b[39;00m process_return:\n\u001b[0;32m--> 188\u001b[0m     ret \u001b[38;5;241m=\u001b[39m \u001b[43mfunc\u001b[49m\u001b[43m(\u001b[49m\u001b[38;5;241;43m*\u001b[39;49m\u001b[43margs\u001b[49m\u001b[43m,\u001b[49m\u001b[43m \u001b[49m\u001b[38;5;241;43m*\u001b[39;49m\u001b[38;5;241;43m*\u001b[39;49m\u001b[43mkwargs\u001b[49m\u001b[43m)\u001b[49m\n\u001b[1;32m    189\u001b[0m \u001b[38;5;28;01melse\u001b[39;00m:\n\u001b[1;32m    190\u001b[0m     \u001b[38;5;28;01mreturn\u001b[39;00m func(\u001b[38;5;241m*\u001b[39margs, \u001b[38;5;241m*\u001b[39m\u001b[38;5;241m*\u001b[39mkwargs)\n",
      "File \u001b[0;32m/opt/conda/envs/QML-QPF/lib/python3.10/site-packages/cuml/internals/api_decorators.py:393\u001b[0m, in \u001b[0;36menable_device_interop.<locals>.dispatch\u001b[0;34m(self, *args, **kwargs)\u001b[0m\n\u001b[1;32m    391\u001b[0m \u001b[38;5;28;01mif\u001b[39;00m \u001b[38;5;28mhasattr\u001b[39m(\u001b[38;5;28mself\u001b[39m, \u001b[38;5;124m\"\u001b[39m\u001b[38;5;124mdispatch_func\u001b[39m\u001b[38;5;124m\"\u001b[39m):\n\u001b[1;32m    392\u001b[0m     func_name \u001b[38;5;241m=\u001b[39m gpu_func\u001b[38;5;241m.\u001b[39m\u001b[38;5;18m__name__\u001b[39m\n\u001b[0;32m--> 393\u001b[0m     \u001b[38;5;28;01mreturn\u001b[39;00m \u001b[38;5;28;43mself\u001b[39;49m\u001b[38;5;241;43m.\u001b[39;49m\u001b[43mdispatch_func\u001b[49m\u001b[43m(\u001b[49m\u001b[43mfunc_name\u001b[49m\u001b[43m,\u001b[49m\u001b[43m \u001b[49m\u001b[43mgpu_func\u001b[49m\u001b[43m,\u001b[49m\u001b[43m \u001b[49m\u001b[38;5;241;43m*\u001b[39;49m\u001b[43margs\u001b[49m\u001b[43m,\u001b[49m\u001b[43m \u001b[49m\u001b[38;5;241;43m*\u001b[39;49m\u001b[38;5;241;43m*\u001b[39;49m\u001b[43mkwargs\u001b[49m\u001b[43m)\u001b[49m\n\u001b[1;32m    394\u001b[0m \u001b[38;5;28;01melse\u001b[39;00m:\n\u001b[1;32m    395\u001b[0m     \u001b[38;5;28;01mreturn\u001b[39;00m gpu_func(\u001b[38;5;28mself\u001b[39m, \u001b[38;5;241m*\u001b[39margs, \u001b[38;5;241m*\u001b[39m\u001b[38;5;241m*\u001b[39mkwargs)\n",
      "File \u001b[0;32m/opt/conda/envs/QML-QPF/lib/python3.10/site-packages/cuml/internals/api_decorators.py:190\u001b[0m, in \u001b[0;36m_make_decorator_function.<locals>.decorator_function.<locals>.decorator_closure.<locals>.wrapper\u001b[0;34m(*args, **kwargs)\u001b[0m\n\u001b[1;32m    188\u001b[0m         ret \u001b[38;5;241m=\u001b[39m func(\u001b[38;5;241m*\u001b[39margs, \u001b[38;5;241m*\u001b[39m\u001b[38;5;241m*\u001b[39mkwargs)\n\u001b[1;32m    189\u001b[0m     \u001b[38;5;28;01melse\u001b[39;00m:\n\u001b[0;32m--> 190\u001b[0m         \u001b[38;5;28;01mreturn\u001b[39;00m \u001b[43mfunc\u001b[49m\u001b[43m(\u001b[49m\u001b[38;5;241;43m*\u001b[39;49m\u001b[43margs\u001b[49m\u001b[43m,\u001b[49m\u001b[43m \u001b[49m\u001b[38;5;241;43m*\u001b[39;49m\u001b[38;5;241;43m*\u001b[39;49m\u001b[43mkwargs\u001b[49m\u001b[43m)\u001b[49m\n\u001b[1;32m    192\u001b[0m \u001b[38;5;28;01mreturn\u001b[39;00m cm\u001b[38;5;241m.\u001b[39mprocess_return(ret)\n",
      "File \u001b[0;32mbase.pyx:687\u001b[0m, in \u001b[0;36mcuml.internals.base.UniversalBase.dispatch_func\u001b[0;34m()\u001b[0m\n",
      "File \u001b[0;32mumap.pyx:533\u001b[0m, in \u001b[0;36mcuml.manifold.umap.UMAP.fit\u001b[0;34m()\u001b[0m\n",
      "File \u001b[0;32m/opt/conda/envs/QML-QPF/lib/python3.10/site-packages/nvtx/nvtx.py:116\u001b[0m, in \u001b[0;36mannotate.__call__.<locals>.inner\u001b[0;34m(*args, **kwargs)\u001b[0m\n\u001b[1;32m    113\u001b[0m \u001b[38;5;129m@wraps\u001b[39m(func)\n\u001b[1;32m    114\u001b[0m \u001b[38;5;28;01mdef\u001b[39;00m \u001b[38;5;21minner\u001b[39m(\u001b[38;5;241m*\u001b[39margs, \u001b[38;5;241m*\u001b[39m\u001b[38;5;241m*\u001b[39mkwargs):\n\u001b[1;32m    115\u001b[0m     libnvtx_push_range(\u001b[38;5;28mself\u001b[39m\u001b[38;5;241m.\u001b[39mattributes, \u001b[38;5;28mself\u001b[39m\u001b[38;5;241m.\u001b[39mdomain\u001b[38;5;241m.\u001b[39mhandle)\n\u001b[0;32m--> 116\u001b[0m     result \u001b[38;5;241m=\u001b[39m \u001b[43mfunc\u001b[49m\u001b[43m(\u001b[49m\u001b[38;5;241;43m*\u001b[39;49m\u001b[43margs\u001b[49m\u001b[43m,\u001b[49m\u001b[43m \u001b[49m\u001b[38;5;241;43m*\u001b[39;49m\u001b[38;5;241;43m*\u001b[39;49m\u001b[43mkwargs\u001b[49m\u001b[43m)\u001b[49m\n\u001b[1;32m    117\u001b[0m     libnvtx_pop_range(\u001b[38;5;28mself\u001b[39m\u001b[38;5;241m.\u001b[39mdomain\u001b[38;5;241m.\u001b[39mhandle)\n\u001b[1;32m    118\u001b[0m     \u001b[38;5;28;01mreturn\u001b[39;00m result\n",
      "File \u001b[0;32m/opt/conda/envs/QML-QPF/lib/python3.10/site-packages/cuml/internals/input_utils.py:412\u001b[0m, in \u001b[0;36minput_to_cuml_array\u001b[0;34m(X, order, deepcopy, check_dtype, convert_to_dtype, check_mem_type, convert_to_mem_type, safe_dtype_conversion, check_cols, check_rows, fail_on_order, force_contiguous)\u001b[0m\n\u001b[1;32m    324\u001b[0m \u001b[38;5;129m@nvtx_annotate\u001b[39m(\n\u001b[1;32m    325\u001b[0m     message\u001b[38;5;241m=\u001b[39m\u001b[38;5;124m\"\u001b[39m\u001b[38;5;124mcommon.input_utils.input_to_cuml_array\u001b[39m\u001b[38;5;124m\"\u001b[39m,\n\u001b[1;32m    326\u001b[0m     category\u001b[38;5;241m=\u001b[39m\u001b[38;5;124m\"\u001b[39m\u001b[38;5;124mutils\u001b[39m\u001b[38;5;124m\"\u001b[39m,\n\u001b[0;32m   (...)\u001b[0m\n\u001b[1;32m    341\u001b[0m     force_contiguous\u001b[38;5;241m=\u001b[39m\u001b[38;5;28;01mTrue\u001b[39;00m,\n\u001b[1;32m    342\u001b[0m ):\n\u001b[1;32m    343\u001b[0m \u001b[38;5;250m    \u001b[39m\u001b[38;5;124;03m\"\"\"\u001b[39;00m\n\u001b[1;32m    344\u001b[0m \u001b[38;5;124;03m    Convert input X to CumlArray.\u001b[39;00m\n\u001b[1;32m    345\u001b[0m \n\u001b[0;32m   (...)\u001b[0m\n\u001b[1;32m    410\u001b[0m \n\u001b[1;32m    411\u001b[0m \u001b[38;5;124;03m    \"\"\"\u001b[39;00m\n\u001b[0;32m--> 412\u001b[0m     arr \u001b[38;5;241m=\u001b[39m \u001b[43mCumlArray\u001b[49m\u001b[38;5;241;43m.\u001b[39;49m\u001b[43mfrom_input\u001b[49m\u001b[43m(\u001b[49m\n\u001b[1;32m    413\u001b[0m \u001b[43m        \u001b[49m\u001b[43mX\u001b[49m\u001b[43m,\u001b[49m\n\u001b[1;32m    414\u001b[0m \u001b[43m        \u001b[49m\u001b[43morder\u001b[49m\u001b[38;5;241;43m=\u001b[39;49m\u001b[43morder\u001b[49m\u001b[43m,\u001b[49m\n\u001b[1;32m    415\u001b[0m \u001b[43m        \u001b[49m\u001b[43mdeepcopy\u001b[49m\u001b[38;5;241;43m=\u001b[39;49m\u001b[43mdeepcopy\u001b[49m\u001b[43m,\u001b[49m\n\u001b[1;32m    416\u001b[0m \u001b[43m        \u001b[49m\u001b[43mcheck_dtype\u001b[49m\u001b[38;5;241;43m=\u001b[39;49m\u001b[43mcheck_dtype\u001b[49m\u001b[43m,\u001b[49m\n\u001b[1;32m    417\u001b[0m \u001b[43m        \u001b[49m\u001b[43mconvert_to_dtype\u001b[49m\u001b[38;5;241;43m=\u001b[39;49m\u001b[43mconvert_to_dtype\u001b[49m\u001b[43m,\u001b[49m\n\u001b[1;32m    418\u001b[0m \u001b[43m        \u001b[49m\u001b[43mcheck_mem_type\u001b[49m\u001b[38;5;241;43m=\u001b[39;49m\u001b[43mcheck_mem_type\u001b[49m\u001b[43m,\u001b[49m\n\u001b[1;32m    419\u001b[0m \u001b[43m        \u001b[49m\u001b[43mconvert_to_mem_type\u001b[49m\u001b[38;5;241;43m=\u001b[39;49m\u001b[43mconvert_to_mem_type\u001b[49m\u001b[43m,\u001b[49m\n\u001b[1;32m    420\u001b[0m \u001b[43m        \u001b[49m\u001b[43msafe_dtype_conversion\u001b[49m\u001b[38;5;241;43m=\u001b[39;49m\u001b[43msafe_dtype_conversion\u001b[49m\u001b[43m,\u001b[49m\n\u001b[1;32m    421\u001b[0m \u001b[43m        \u001b[49m\u001b[43mcheck_cols\u001b[49m\u001b[38;5;241;43m=\u001b[39;49m\u001b[43mcheck_cols\u001b[49m\u001b[43m,\u001b[49m\n\u001b[1;32m    422\u001b[0m \u001b[43m        \u001b[49m\u001b[43mcheck_rows\u001b[49m\u001b[38;5;241;43m=\u001b[39;49m\u001b[43mcheck_rows\u001b[49m\u001b[43m,\u001b[49m\n\u001b[1;32m    423\u001b[0m \u001b[43m        \u001b[49m\u001b[43mfail_on_order\u001b[49m\u001b[38;5;241;43m=\u001b[39;49m\u001b[43mfail_on_order\u001b[49m\u001b[43m,\u001b[49m\n\u001b[1;32m    424\u001b[0m \u001b[43m        \u001b[49m\u001b[43mforce_contiguous\u001b[49m\u001b[38;5;241;43m=\u001b[39;49m\u001b[43mforce_contiguous\u001b[49m\u001b[43m,\u001b[49m\n\u001b[1;32m    425\u001b[0m \u001b[43m    \u001b[49m\u001b[43m)\u001b[49m\n\u001b[1;32m    426\u001b[0m     \u001b[38;5;28;01mtry\u001b[39;00m:\n\u001b[1;32m    427\u001b[0m         shape \u001b[38;5;241m=\u001b[39m arr\u001b[38;5;241m.\u001b[39m__cuda_array_interface__[\u001b[38;5;124m\"\u001b[39m\u001b[38;5;124mshape\u001b[39m\u001b[38;5;124m\"\u001b[39m]\n",
      "File \u001b[0;32m/opt/conda/envs/QML-QPF/lib/python3.10/site-packages/cuml/internals/memory_utils.py:87\u001b[0m, in \u001b[0;36mwith_cupy_rmm.<locals>.cupy_rmm_wrapper\u001b[0;34m(*args, **kwargs)\u001b[0m\n\u001b[1;32m     85\u001b[0m \u001b[38;5;28;01mif\u001b[39;00m GPU_ENABLED:\n\u001b[1;32m     86\u001b[0m     \u001b[38;5;28;01mwith\u001b[39;00m cupy_using_allocator(rmm_cupy_allocator):\n\u001b[0;32m---> 87\u001b[0m         \u001b[38;5;28;01mreturn\u001b[39;00m \u001b[43mfunc\u001b[49m\u001b[43m(\u001b[49m\u001b[38;5;241;43m*\u001b[39;49m\u001b[43margs\u001b[49m\u001b[43m,\u001b[49m\u001b[43m \u001b[49m\u001b[38;5;241;43m*\u001b[39;49m\u001b[38;5;241;43m*\u001b[39;49m\u001b[43mkwargs\u001b[49m\u001b[43m)\u001b[49m\n\u001b[1;32m     88\u001b[0m \u001b[38;5;28;01mreturn\u001b[39;00m func(\u001b[38;5;241m*\u001b[39margs, \u001b[38;5;241m*\u001b[39m\u001b[38;5;241m*\u001b[39mkwargs)\n",
      "File \u001b[0;32m/opt/conda/envs/QML-QPF/lib/python3.10/site-packages/nvtx/nvtx.py:116\u001b[0m, in \u001b[0;36mannotate.__call__.<locals>.inner\u001b[0;34m(*args, **kwargs)\u001b[0m\n\u001b[1;32m    113\u001b[0m \u001b[38;5;129m@wraps\u001b[39m(func)\n\u001b[1;32m    114\u001b[0m \u001b[38;5;28;01mdef\u001b[39;00m \u001b[38;5;21minner\u001b[39m(\u001b[38;5;241m*\u001b[39margs, \u001b[38;5;241m*\u001b[39m\u001b[38;5;241m*\u001b[39mkwargs):\n\u001b[1;32m    115\u001b[0m     libnvtx_push_range(\u001b[38;5;28mself\u001b[39m\u001b[38;5;241m.\u001b[39mattributes, \u001b[38;5;28mself\u001b[39m\u001b[38;5;241m.\u001b[39mdomain\u001b[38;5;241m.\u001b[39mhandle)\n\u001b[0;32m--> 116\u001b[0m     result \u001b[38;5;241m=\u001b[39m \u001b[43mfunc\u001b[49m\u001b[43m(\u001b[49m\u001b[38;5;241;43m*\u001b[39;49m\u001b[43margs\u001b[49m\u001b[43m,\u001b[49m\u001b[43m \u001b[49m\u001b[38;5;241;43m*\u001b[39;49m\u001b[38;5;241;43m*\u001b[39;49m\u001b[43mkwargs\u001b[49m\u001b[43m)\u001b[49m\n\u001b[1;32m    117\u001b[0m     libnvtx_pop_range(\u001b[38;5;28mself\u001b[39m\u001b[38;5;241m.\u001b[39mdomain\u001b[38;5;241m.\u001b[39mhandle)\n\u001b[1;32m    118\u001b[0m     \u001b[38;5;28;01mreturn\u001b[39;00m result\n",
      "File \u001b[0;32m/opt/conda/envs/QML-QPF/lib/python3.10/site-packages/cuml/internals/array.py:1156\u001b[0m, in \u001b[0;36mCumlArray.from_input\u001b[0;34m(cls, X, order, deepcopy, check_dtype, convert_to_dtype, check_mem_type, convert_to_mem_type, safe_dtype_conversion, check_cols, check_rows, fail_on_order, force_contiguous)\u001b[0m\n\u001b[1;32m   1148\u001b[0m         \u001b[38;5;28;01mif\u001b[39;00m (\n\u001b[1;32m   1149\u001b[0m             (X \u001b[38;5;241m<\u001b[39m target_dtype_range\u001b[38;5;241m.\u001b[39mmin) \u001b[38;5;241m|\u001b[39m (X \u001b[38;5;241m>\u001b[39m target_dtype_range\u001b[38;5;241m.\u001b[39mmax)\n\u001b[1;32m   1150\u001b[0m         )\u001b[38;5;241m.\u001b[39many():\n\u001b[1;32m   1151\u001b[0m             \u001b[38;5;28;01mraise\u001b[39;00m \u001b[38;5;167;01mTypeError\u001b[39;00m(\n\u001b[1;32m   1152\u001b[0m                 \u001b[38;5;124m\"\u001b[39m\u001b[38;5;124mData type conversion on values outside\u001b[39m\u001b[38;5;124m\"\u001b[39m\n\u001b[1;32m   1153\u001b[0m                 \u001b[38;5;124m\"\u001b[39m\u001b[38;5;124m representable range of target dtype\u001b[39m\u001b[38;5;124m\"\u001b[39m\n\u001b[1;32m   1154\u001b[0m             )\n\u001b[1;32m   1155\u001b[0m     arr \u001b[38;5;241m=\u001b[39m \u001b[38;5;28mcls\u001b[39m(\n\u001b[0;32m-> 1156\u001b[0m         \u001b[43marr\u001b[49m\u001b[38;5;241;43m.\u001b[39;49m\u001b[43mto_output\u001b[49m\u001b[43m(\u001b[49m\n\u001b[1;32m   1157\u001b[0m \u001b[43m            \u001b[49m\u001b[43moutput_dtype\u001b[49m\u001b[38;5;241;43m=\u001b[39;49m\u001b[43mconvert_to_dtype\u001b[49m\u001b[43m,\u001b[49m\n\u001b[1;32m   1158\u001b[0m \u001b[43m            \u001b[49m\u001b[43moutput_mem_type\u001b[49m\u001b[38;5;241;43m=\u001b[39;49m\u001b[43mconvert_to_mem_type\u001b[49m\u001b[43m,\u001b[49m\n\u001b[1;32m   1159\u001b[0m \u001b[43m        \u001b[49m\u001b[43m)\u001b[49m,\n\u001b[1;32m   1160\u001b[0m         order\u001b[38;5;241m=\u001b[39mrequested_order,\n\u001b[1;32m   1161\u001b[0m         index\u001b[38;5;241m=\u001b[39mindex,\n\u001b[1;32m   1162\u001b[0m         validate\u001b[38;5;241m=\u001b[39m\u001b[38;5;28;01mFalse\u001b[39;00m,\n\u001b[1;32m   1163\u001b[0m     )\n\u001b[1;32m   1165\u001b[0m make_copy \u001b[38;5;241m=\u001b[39m force_contiguous \u001b[38;5;129;01mand\u001b[39;00m \u001b[38;5;129;01mnot\u001b[39;00m arr\u001b[38;5;241m.\u001b[39mis_contiguous\n\u001b[1;32m   1167\u001b[0m \u001b[38;5;28;01mif\u001b[39;00m (\n\u001b[1;32m   1168\u001b[0m     \u001b[38;5;129;01mnot\u001b[39;00m fail_on_order \u001b[38;5;129;01mand\u001b[39;00m order \u001b[38;5;241m!=\u001b[39m arr\u001b[38;5;241m.\u001b[39morder \u001b[38;5;129;01mand\u001b[39;00m order \u001b[38;5;241m!=\u001b[39m \u001b[38;5;124m\"\u001b[39m\u001b[38;5;124mK\u001b[39m\u001b[38;5;124m\"\u001b[39m\n\u001b[1;32m   1169\u001b[0m ) \u001b[38;5;129;01mor\u001b[39;00m make_copy:\n",
      "File \u001b[0;32m/opt/conda/envs/QML-QPF/lib/python3.10/site-packages/cuml/internals/memory_utils.py:87\u001b[0m, in \u001b[0;36mwith_cupy_rmm.<locals>.cupy_rmm_wrapper\u001b[0;34m(*args, **kwargs)\u001b[0m\n\u001b[1;32m     85\u001b[0m \u001b[38;5;28;01mif\u001b[39;00m GPU_ENABLED:\n\u001b[1;32m     86\u001b[0m     \u001b[38;5;28;01mwith\u001b[39;00m cupy_using_allocator(rmm_cupy_allocator):\n\u001b[0;32m---> 87\u001b[0m         \u001b[38;5;28;01mreturn\u001b[39;00m \u001b[43mfunc\u001b[49m\u001b[43m(\u001b[49m\u001b[38;5;241;43m*\u001b[39;49m\u001b[43margs\u001b[49m\u001b[43m,\u001b[49m\u001b[43m \u001b[49m\u001b[38;5;241;43m*\u001b[39;49m\u001b[38;5;241;43m*\u001b[39;49m\u001b[43mkwargs\u001b[49m\u001b[43m)\u001b[49m\n\u001b[1;32m     88\u001b[0m \u001b[38;5;28;01mreturn\u001b[39;00m func(\u001b[38;5;241m*\u001b[39margs, \u001b[38;5;241m*\u001b[39m\u001b[38;5;241m*\u001b[39mkwargs)\n",
      "File \u001b[0;32m/opt/conda/envs/QML-QPF/lib/python3.10/site-packages/nvtx/nvtx.py:116\u001b[0m, in \u001b[0;36mannotate.__call__.<locals>.inner\u001b[0;34m(*args, **kwargs)\u001b[0m\n\u001b[1;32m    113\u001b[0m \u001b[38;5;129m@wraps\u001b[39m(func)\n\u001b[1;32m    114\u001b[0m \u001b[38;5;28;01mdef\u001b[39;00m \u001b[38;5;21minner\u001b[39m(\u001b[38;5;241m*\u001b[39margs, \u001b[38;5;241m*\u001b[39m\u001b[38;5;241m*\u001b[39mkwargs):\n\u001b[1;32m    115\u001b[0m     libnvtx_push_range(\u001b[38;5;28mself\u001b[39m\u001b[38;5;241m.\u001b[39mattributes, \u001b[38;5;28mself\u001b[39m\u001b[38;5;241m.\u001b[39mdomain\u001b[38;5;241m.\u001b[39mhandle)\n\u001b[0;32m--> 116\u001b[0m     result \u001b[38;5;241m=\u001b[39m \u001b[43mfunc\u001b[49m\u001b[43m(\u001b[49m\u001b[38;5;241;43m*\u001b[39;49m\u001b[43margs\u001b[49m\u001b[43m,\u001b[49m\u001b[43m \u001b[49m\u001b[38;5;241;43m*\u001b[39;49m\u001b[38;5;241;43m*\u001b[39;49m\u001b[43mkwargs\u001b[49m\u001b[43m)\u001b[49m\n\u001b[1;32m    117\u001b[0m     libnvtx_pop_range(\u001b[38;5;28mself\u001b[39m\u001b[38;5;241m.\u001b[39mdomain\u001b[38;5;241m.\u001b[39mhandle)\n\u001b[1;32m    118\u001b[0m     \u001b[38;5;28;01mreturn\u001b[39;00m result\n",
      "File \u001b[0;32m/opt/conda/envs/QML-QPF/lib/python3.10/site-packages/cuml/internals/array.py:656\u001b[0m, in \u001b[0;36mCumlArray.to_output\u001b[0;34m(self, output_type, output_dtype, output_mem_type)\u001b[0m\n\u001b[1;32m    649\u001b[0m                 cp_arr \u001b[38;5;241m=\u001b[39m cp\u001b[38;5;241m.\u001b[39masarray(\n\u001b[1;32m    650\u001b[0m                     \u001b[38;5;28mself\u001b[39m, dtype\u001b[38;5;241m=\u001b[39moutput_dtype, order\u001b[38;5;241m=\u001b[39m\u001b[38;5;28mself\u001b[39m\u001b[38;5;241m.\u001b[39morder\n\u001b[1;32m    651\u001b[0m                 )\n\u001b[1;32m    652\u001b[0m         \u001b[38;5;28;01mreturn\u001b[39;00m cp\u001b[38;5;241m.\u001b[39masnumpy(\n\u001b[1;32m    653\u001b[0m             cp_arr,\n\u001b[1;32m    654\u001b[0m             order\u001b[38;5;241m=\u001b[39m\u001b[38;5;28mself\u001b[39m\u001b[38;5;241m.\u001b[39morder,\n\u001b[1;32m    655\u001b[0m         )\n\u001b[0;32m--> 656\u001b[0m     \u001b[38;5;28;01mreturn\u001b[39;00m \u001b[43moutput_mem_type\u001b[49m\u001b[38;5;241;43m.\u001b[39;49m\u001b[43mxpy\u001b[49m\u001b[38;5;241;43m.\u001b[39;49m\u001b[43masarray\u001b[49m\u001b[43m(\u001b[49m\n\u001b[1;32m    657\u001b[0m \u001b[43m        \u001b[49m\u001b[38;5;28;43mself\u001b[39;49m\u001b[43m,\u001b[49m\u001b[43m \u001b[49m\u001b[43mdtype\u001b[49m\u001b[38;5;241;43m=\u001b[39;49m\u001b[43moutput_dtype\u001b[49m\u001b[43m,\u001b[49m\u001b[43m \u001b[49m\u001b[43morder\u001b[49m\u001b[38;5;241;43m=\u001b[39;49m\u001b[38;5;28;43mself\u001b[39;49m\u001b[38;5;241;43m.\u001b[39;49m\u001b[43morder\u001b[49m\n\u001b[1;32m    658\u001b[0m \u001b[43m    \u001b[49m\u001b[43m)\u001b[49m\n\u001b[1;32m    660\u001b[0m \u001b[38;5;28;01melif\u001b[39;00m output_type \u001b[38;5;241m==\u001b[39m \u001b[38;5;124m\"\u001b[39m\u001b[38;5;124mnumba\u001b[39m\u001b[38;5;124m\"\u001b[39m:\n\u001b[1;32m    661\u001b[0m     \u001b[38;5;28;01mreturn\u001b[39;00m cuda\u001b[38;5;241m.\u001b[39mas_cuda_array(\n\u001b[1;32m    662\u001b[0m         cp\u001b[38;5;241m.\u001b[39masarray(\u001b[38;5;28mself\u001b[39m, dtype\u001b[38;5;241m=\u001b[39moutput_dtype, order\u001b[38;5;241m=\u001b[39m\u001b[38;5;28mself\u001b[39m\u001b[38;5;241m.\u001b[39morder)\n\u001b[1;32m    663\u001b[0m     )\n",
      "File \u001b[0;32m/opt/conda/envs/QML-QPF/lib/python3.10/site-packages/cupy/_creation/from_data.py:88\u001b[0m, in \u001b[0;36masarray\u001b[0;34m(a, dtype, order, blocking)\u001b[0m\n\u001b[1;32m     56\u001b[0m \u001b[38;5;28;01mdef\u001b[39;00m \u001b[38;5;21masarray\u001b[39m(a, dtype\u001b[38;5;241m=\u001b[39m\u001b[38;5;28;01mNone\u001b[39;00m, order\u001b[38;5;241m=\u001b[39m\u001b[38;5;28;01mNone\u001b[39;00m, \u001b[38;5;241m*\u001b[39m, blocking\u001b[38;5;241m=\u001b[39m\u001b[38;5;28;01mFalse\u001b[39;00m):\n\u001b[1;32m     57\u001b[0m \u001b[38;5;250m    \u001b[39m\u001b[38;5;124;03m\"\"\"Converts an object to array.\u001b[39;00m\n\u001b[1;32m     58\u001b[0m \n\u001b[1;32m     59\u001b[0m \u001b[38;5;124;03m    This is equivalent to ``array(a, dtype, copy=False, order=order)``.\u001b[39;00m\n\u001b[0;32m   (...)\u001b[0m\n\u001b[1;32m     86\u001b[0m \n\u001b[1;32m     87\u001b[0m \u001b[38;5;124;03m    \"\"\"\u001b[39;00m\n\u001b[0;32m---> 88\u001b[0m     \u001b[38;5;28;01mreturn\u001b[39;00m \u001b[43m_core\u001b[49m\u001b[38;5;241;43m.\u001b[39;49m\u001b[43marray\u001b[49m\u001b[43m(\u001b[49m\u001b[43ma\u001b[49m\u001b[43m,\u001b[49m\u001b[43m \u001b[49m\u001b[43mdtype\u001b[49m\u001b[43m,\u001b[49m\u001b[43m \u001b[49m\u001b[38;5;28;43;01mFalse\u001b[39;49;00m\u001b[43m,\u001b[49m\u001b[43m \u001b[49m\u001b[43morder\u001b[49m\u001b[43m,\u001b[49m\u001b[43m \u001b[49m\u001b[43mblocking\u001b[49m\u001b[38;5;241;43m=\u001b[39;49m\u001b[43mblocking\u001b[49m\u001b[43m)\u001b[49m\n",
      "File \u001b[0;32mcupy/_core/core.pyx:2383\u001b[0m, in \u001b[0;36mcupy._core.core.array\u001b[0;34m()\u001b[0m\n",
      "File \u001b[0;32mcupy/_core/core.pyx:2410\u001b[0m, in \u001b[0;36mcupy._core.core.array\u001b[0;34m()\u001b[0m\n",
      "File \u001b[0;32mcupy/_core/core.pyx:2553\u001b[0m, in \u001b[0;36mcupy._core.core._array_default\u001b[0;34m()\u001b[0m\n",
      "File \u001b[0;32mcupy/_core/core.pyx:135\u001b[0m, in \u001b[0;36mcupy._core.core.ndarray.__new__\u001b[0;34m()\u001b[0m\n",
      "File \u001b[0;32mcupy/_core/core.pyx:223\u001b[0m, in \u001b[0;36mcupy._core.core._ndarray_base._init\u001b[0;34m()\u001b[0m\n",
      "File \u001b[0;32mcupy/cuda/memory.pyx:738\u001b[0m, in \u001b[0;36mcupy.cuda.memory.alloc\u001b[0;34m()\u001b[0m\n",
      "File \u001b[0;32m/opt/conda/envs/QML-QPF/lib/python3.10/site-packages/rmm/allocators/cupy.py:36\u001b[0m, in \u001b[0;36mrmm_cupy_allocator\u001b[0;34m(nbytes)\u001b[0m\n\u001b[1;32m     33\u001b[0m \u001b[38;5;28;01mif\u001b[39;00m cupy \u001b[38;5;129;01mis\u001b[39;00m \u001b[38;5;28;01mNone\u001b[39;00m:\n\u001b[1;32m     34\u001b[0m     \u001b[38;5;28;01mraise\u001b[39;00m \u001b[38;5;167;01mModuleNotFoundError\u001b[39;00m(\u001b[38;5;124m\"\u001b[39m\u001b[38;5;124mNo module named \u001b[39m\u001b[38;5;124m'\u001b[39m\u001b[38;5;124mcupy\u001b[39m\u001b[38;5;124m'\u001b[39m\u001b[38;5;124m\"\u001b[39m)\n\u001b[0;32m---> 36\u001b[0m stream \u001b[38;5;241m=\u001b[39m Stream(obj\u001b[38;5;241m=\u001b[39m\u001b[43mcupy\u001b[49m\u001b[38;5;241;43m.\u001b[39;49m\u001b[43mcuda\u001b[49m\u001b[38;5;241;43m.\u001b[39;49m\u001b[43mget_current_stream\u001b[49m\u001b[43m(\u001b[49m\u001b[43m)\u001b[49m)\n\u001b[1;32m     37\u001b[0m buf \u001b[38;5;241m=\u001b[39m librmm\u001b[38;5;241m.\u001b[39mdevice_buffer\u001b[38;5;241m.\u001b[39mDeviceBuffer(size\u001b[38;5;241m=\u001b[39mnbytes, stream\u001b[38;5;241m=\u001b[39mstream)\n\u001b[1;32m     38\u001b[0m dev_id \u001b[38;5;241m=\u001b[39m \u001b[38;5;241m-\u001b[39m\u001b[38;5;241m1\u001b[39m \u001b[38;5;28;01mif\u001b[39;00m buf\u001b[38;5;241m.\u001b[39mptr \u001b[38;5;28;01melse\u001b[39;00m cupy\u001b[38;5;241m.\u001b[39mcuda\u001b[38;5;241m.\u001b[39mdevice\u001b[38;5;241m.\u001b[39mget_device_id()\n",
      "File \u001b[0;32mcupy/cuda/stream.pyx:87\u001b[0m, in \u001b[0;36mcupy.cuda.stream.get_current_stream\u001b[0;34m()\u001b[0m\n",
      "File \u001b[0;32mcupy/cuda/stream.pyx:96\u001b[0m, in \u001b[0;36mcupy.cuda.stream.get_current_stream\u001b[0;34m()\u001b[0m\n",
      "File \u001b[0;32mcupy/cuda/stream.pyx:38\u001b[0m, in \u001b[0;36mcupy.cuda.stream._ThreadLocal.get\u001b[0;34m()\u001b[0m\n",
      "File \u001b[0;32mcupy/cuda/stream.pyx:24\u001b[0m, in \u001b[0;36mcupy.cuda.stream._ThreadLocal.__init__\u001b[0;34m()\u001b[0m\n",
      "File \u001b[0;32mcupy_backends/cuda/api/runtime.pyx:393\u001b[0m, in \u001b[0;36mcupy_backends.cuda.api.runtime.getDeviceCount\u001b[0;34m()\u001b[0m\n",
      "File \u001b[0;32mcupy_backends/cuda/api/runtime.pyx:146\u001b[0m, in \u001b[0;36mcupy_backends.cuda.api.runtime.check_status\u001b[0;34m()\u001b[0m\n",
      "\u001b[0;31mCUDARuntimeError\u001b[0m: cudaErrorNoDevice: no CUDA-capable device is detected"
     ]
    }
   ],
   "source": [
    "def UMAP_job(detail):\n",
    "    restored_model = Model(*detail)\n",
    "    restored_model.set_data()\n",
    "    restored_model.prep()\n",
    "    restored_model.load_history()\n",
    "    restored_model.visuals.manifold_umap()\n",
    "\n",
    "{UMAP_job(m): m for m in models}  "
   ]
  },
  {
   "cell_type": "code",
   "execution_count": null,
   "metadata": {},
   "outputs": [],
   "source": []
  }
 ],
 "metadata": {
  "kernelspec": {
   "display_name": "QML-QPF",
   "language": "python",
   "name": "python3"
  },
  "language_info": {
   "codemirror_mode": {
    "name": "ipython",
    "version": 3
   },
   "file_extension": ".py",
   "mimetype": "text/x-python",
   "name": "python",
   "nbconvert_exporter": "python",
   "pygments_lexer": "ipython3",
   "version": "3.10.13"
  }
 },
 "nbformat": 4,
 "nbformat_minor": 2
}
