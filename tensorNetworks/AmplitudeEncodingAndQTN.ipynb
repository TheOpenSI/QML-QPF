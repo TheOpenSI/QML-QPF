{
  "nbformat": 4,
  "nbformat_minor": 0,
  "metadata": {
    "colab": {
      "provenance": []
    },
    "kernelspec": {
      "name": "python3",
      "display_name": "Python 3"
    },
    "language_info": {
      "name": "python"
    }
  },
  "cells": [
    {
      "cell_type": "markdown",
      "source": [
        "<h2>Installing required packages</h2>"
      ],
      "metadata": {
        "id": "FmZuSwL7o_P9"
      }
    },
    {
      "cell_type": "code",
      "execution_count": 1,
      "metadata": {
        "id": "CgnKv1vvTeT9"
      },
      "outputs": [],
      "source": [
        "#!pip install pennylane --upgrade"
      ]
    },
    {
      "cell_type": "code",
      "source": [
        "#!pip install tensorflow"
      ],
      "metadata": {
        "id": "IRHUzx6Wktos"
      },
      "execution_count": 2,
      "outputs": []
    },
    {
      "cell_type": "code",
      "source": [
        "#!pip install keras"
      ],
      "metadata": {
        "id": "mxjF4jAxkwmq"
      },
      "execution_count": 3,
      "outputs": []
    },
    {
      "cell_type": "markdown",
      "source": [
        "<h2>Imports and dataset</h2>"
      ],
      "metadata": {
        "id": "HosfkrWvpGoa"
      }
    },
    {
      "cell_type": "code",
      "source": [
        "import pennylane as qml\n",
        "from pennylane import numpy as np"
      ],
      "metadata": {
        "id": "YlMGbuGQTp1p"
      },
      "execution_count": 4,
      "outputs": []
    },
    {
      "cell_type": "code",
      "source": [
        "from keras.models import Sequential\n",
        "from keras.layers import Dense"
      ],
      "metadata": {
        "id": "xDcz3HbhlBaI"
      },
      "execution_count": 5,
      "outputs": []
    },
    {
      "cell_type": "code",
      "source": [
        "from skimage import data, color\n",
        "from skimage.transform import rescale, resize, downscale_local_mean"
      ],
      "metadata": {
        "id": "kmde_Cz6WxCm"
      },
      "execution_count": 6,
      "outputs": []
    },
    {
      "cell_type": "code",
      "source": [
        "import json\n",
        "from Filters import *\n",
        "from Data_load import data_load\n",
        "import matplotlib.pyplot as plt\n",
        "\n",
        "import keras\n",
        "\n",
        "from utils import *\n",
        "\n",
        "import time\n",
        "\n",
        "## Import the images\n",
        "data = data_load()\n",
        "train_images, train_labels, test_images, test_labels = data.data_mnist()"
      ],
      "metadata": {
        "colab": {
          "base_uri": "https://localhost:8080/"
        },
        "id": "Bqw3DWfxWW9B",
        "outputId": "2bacbb4e-5fcf-4cf1-fe45-3eecf992c713"
      },
      "execution_count": 7,
      "outputs": [
        {
          "output_type": "stream",
          "name": "stdout",
          "text": [
            "6000\n"
          ]
        }
      ]
    },
    {
      "cell_type": "code",
      "source": [
        "print(\"shape of train images\", train_images[0].shape)\n",
        "print(\"shape of test images\", test_images[0].shape)"
      ],
      "metadata": {
        "colab": {
          "base_uri": "https://localhost:8080/"
        },
        "id": "qC2QugZ2YN_z",
        "outputId": "022a4809-a854-428d-acaf-901a9568a729"
      },
      "execution_count": 8,
      "outputs": [
        {
          "output_type": "stream",
          "name": "stdout",
          "text": [
            "shape of train images (28, 28, 1)\n",
            "shape of test images (28, 28, 1)\n"
          ]
        }
      ]
    },
    {
      "cell_type": "code",
      "source": [
        "print(\"length of train images\", len(train_images))\n",
        "print(\"length of test images\", len(test_images))"
      ],
      "metadata": {
        "colab": {
          "base_uri": "https://localhost:8080/"
        },
        "id": "2DTzFpgYYOR1",
        "outputId": "bf3ca6ca-5d79-418a-f9f8-39f35667c237"
      },
      "execution_count": 9,
      "outputs": [
        {
          "output_type": "stream",
          "name": "stdout",
          "text": [
            "length of train images 6000\n",
            "length of test images 1000\n"
          ]
        }
      ]
    },
    {
      "cell_type": "code",
      "source": [
        "# This function returns the modified dataset\n",
        "# It is a script to get a dataset of 2 labels only\n",
        "def trainTestData(train_images, train_labels, test_images, test_labels, label1, label2, n_train, n_test):\n",
        "    n_train_images, n_train_labels, n_test_images, n_test_labels = [], [], [], []\n",
        "    i = 0\n",
        "    while (n_train > 0 and i < len(train_images)):\n",
        "        if train_labels[i] == label1:\n",
        "            n_train_images.append(train_images[i])\n",
        "            n_train_labels.append(label1)\n",
        "            n_train -= 1\n",
        "        if train_labels[i] == label2:\n",
        "            n_train_images.append(train_images[i])\n",
        "            n_train_labels.append(label2)\n",
        "            n_train -= 1\n",
        "        i = i+1\n",
        "    i = 0\n",
        "    while(n_test>0 and i < len(test_images)):\n",
        "        if test_labels[i] == label1:\n",
        "            n_test_images.append(test_images[i])\n",
        "            n_test_labels.append(label1)\n",
        "            n_test -= 1\n",
        "        if test_labels[i] == label2:\n",
        "            n_test_images.append(test_images[i])\n",
        "            n_test_labels.append(label2)\n",
        "            n_test -= 1\n",
        "        i = i+1\n",
        "    return n_train_images, n_train_labels, n_test_images, n_test_labels"
      ],
      "metadata": {
        "id": "7hAdTq2pYOUk"
      },
      "execution_count": 10,
      "outputs": []
    },
    {
      "cell_type": "code",
      "source": [
        "train_images, train_labels, test_images, test_labels = trainTestData(train_images, train_labels, test_images, test_labels, 3, 5, 400, 40)"
      ],
      "metadata": {
        "id": "uNAQg_Y_YZVN"
      },
      "execution_count": 11,
      "outputs": []
    },
    {
      "cell_type": "code",
      "source": [
        "# this functions makes the train dataset balanced\n",
        "# number of images for number 3 same as that for number 5\n",
        "def balanceDataSet(BAS, train_labels):\n",
        "    new_train_images_3 = []\n",
        "    new_train_images_5 = []\n",
        "\n",
        "    new_train_labels_3 = []\n",
        "    new_train_labels_5 = []\n",
        "\n",
        "    for i in range(len(BAS)):\n",
        "      if train_labels[i] == 3:\n",
        "        new_train_images_3.append(BAS[i])\n",
        "        new_train_labels_3.append(3)\n",
        "      else:\n",
        "        new_train_images_5.append(BAS[i])\n",
        "        new_train_labels_5.append(5)\n",
        "    return new_train_images_3[0:150] + new_train_images_5[0:150], new_train_labels_3[0:150] + new_train_labels_5[0:150]"
      ],
      "metadata": {
        "id": "uKAxK3pFYZcI"
      },
      "execution_count": 12,
      "outputs": []
    },
    {
      "cell_type": "code",
      "source": [
        "train_images, train_labels = balanceDataSet(train_images, train_labels)\n",
        "# saving the dataset for using in the other part\n",
        "# to have a fair comparison of performance\n",
        "org_train_images, org_train_labels, org_test_images, org_test_labels = train_images, train_labels, test_images, test_labels"
      ],
      "metadata": {
        "id": "WFg44ZZgYZfG"
      },
      "execution_count": 13,
      "outputs": []
    },
    {
      "cell_type": "code",
      "source": [
        "print(\"length of train images\", len(train_images))\n",
        "print(\"length of test images\", len(test_images))"
      ],
      "metadata": {
        "colab": {
          "base_uri": "https://localhost:8080/"
        },
        "id": "6EHyj2cBYZiB",
        "outputId": "a3057986-70a4-402e-e661-c4fe73c3e81f"
      },
      "execution_count": 14,
      "outputs": [
        {
          "output_type": "stream",
          "name": "stdout",
          "text": [
            "length of train images 300\n",
            "length of test images 40\n"
          ]
        }
      ]
    },
    {
      "cell_type": "code",
      "source": [
        "import matplotlib.pyplot as plt\n",
        "plt.imshow(train_images[0])"
      ],
      "metadata": {
        "colab": {
          "base_uri": "https://localhost:8080/",
          "height": 447
        },
        "id": "h6wNHyFucfLa",
        "outputId": "78ad13a4-44b4-4246-c197-aef600fde5e2"
      },
      "execution_count": 15,
      "outputs": [
        {
          "output_type": "execute_result",
          "data": {
            "text/plain": [
              "<matplotlib.image.AxesImage at 0x7961a3636830>"
            ]
          },
          "metadata": {},
          "execution_count": 15
        },
        {
          "output_type": "display_data",
          "data": {
            "text/plain": [
              "<Figure size 640x480 with 1 Axes>"
            ],
            "image/png": "[encoded data removed]"
          },
          "metadata": {}
        }
      ]
    },
    {
      "cell_type": "code",
      "source": [
        "img_test = rescale(train_images[0], 16/28)\n",
        "plt.imshow(img_test)"
      ],
      "metadata": {
        "colab": {
          "base_uri": "https://localhost:8080/",
          "height": 447
        },
        "id": "bfXv72CmctLi",
        "outputId": "3a7acb91-bb53-4a7b-a840-b11e8f68ebf4"
      },
      "execution_count": 16,
      "outputs": [
        {
          "output_type": "execute_result",
          "data": {
            "text/plain": [
              "<matplotlib.image.AxesImage at 0x7961a3573640>"
            ]
          },
          "metadata": {},
          "execution_count": 16
        },
        {
          "output_type": "display_data",
          "data": {
            "text/plain": [
              "<Figure size 640x480 with 1 Axes>"
            ],
            "image/png": "[encoded data removed]"
          },
          "metadata": {}
        }
      ]
    },
    {
      "cell_type": "code",
      "source": [
        "#resizing the train and test datasets from (28, 28) to (16, 16)\n",
        "BAS = []\n",
        "for img in train_images:\n",
        "  img = rescale(img, 16/28, anti_aliasing=False)\n",
        "  img = img.flatten()\n",
        "  BAS.append(img)\n",
        "\n",
        "BAS_test = []\n",
        "for img in test_images:\n",
        "  img = rescale(img, 16/28, anti_aliasing=False)\n",
        "  img = img.flatten()\n",
        "  BAS_test.append(img)"
      ],
      "metadata": {
        "id": "YWyHwUvdY1I6"
      },
      "execution_count": 17,
      "outputs": []
    },
    {
      "cell_type": "code",
      "source": [
        "BAS[0].shape"
      ],
      "metadata": {
        "colab": {
          "base_uri": "https://localhost:8080/"
        },
        "id": "pS3oF7XSZMKd",
        "outputId": "f49487a6-6fd5-4a38-e1ce-42679f81a9ea"
      },
      "execution_count": 18,
      "outputs": [
        {
          "output_type": "execute_result",
          "data": {
            "text/plain": [
              "(256,)"
            ]
          },
          "metadata": {},
          "execution_count": 18
        }
      ]
    },
    {
      "cell_type": "code",
      "source": [
        "16*16"
      ],
      "metadata": {
        "colab": {
          "base_uri": "https://localhost:8080/"
        },
        "id": "xTat-Uyjpb63",
        "outputId": "fa898f81-c400-404b-b92a-91db9a2fa175"
      },
      "execution_count": 19,
      "outputs": [
        {
          "output_type": "execute_result",
          "data": {
            "text/plain": [
              "256"
            ]
          },
          "metadata": {},
          "execution_count": 19
        }
      ]
    },
    {
      "cell_type": "code",
      "source": [
        "def block(weights, wires):\n",
        "    qml.RY(weights[0], wires=wires[0])\n",
        "    qml.RY(weights[1], wires=wires[1])\n",
        "    qml.CNOT(wires=wires)"
      ],
      "metadata": {
        "id": "wBPjatPoTp_j"
      },
      "execution_count": 20,
      "outputs": []
    },
    {
      "cell_type": "code",
      "source": [
        "2**8 #so 8 qubits circuit needed"
      ],
      "metadata": {
        "colab": {
          "base_uri": "https://localhost:8080/"
        },
        "id": "72pw-XL1dIGz",
        "outputId": "e6958e1a-2692-4d36-f07c-0ee137edaef6"
      },
      "execution_count": 21,
      "outputs": [
        {
          "output_type": "execute_result",
          "data": {
            "text/plain": [
              "256"
            ]
          },
          "metadata": {},
          "execution_count": 21
        }
      ]
    },
    {
      "cell_type": "code",
      "source": [
        "dev = qml.device(\"default.qubit\", wires=8)\n",
        "\n",
        "\n",
        "@qml.qnode(dev)\n",
        "def circuit(image, template_weights):\n",
        "    qml.AmplitudeEmbedding(features=image, wires=range(8), normalize=True)\n",
        "    qml.TTN(\n",
        "        wires=range(8),\n",
        "        n_block_wires=2,\n",
        "        block=block,\n",
        "        n_params_block=2,\n",
        "        template_weights=template_weights,\n",
        "    )\n",
        "    return qml.expval(qml.PauliZ(wires=7))\n",
        "\n",
        "weights = np.random.random(size=[7, 2])\n",
        "fig, ax = qml.draw_mpl(circuit, expansion_strategy=\"device\")(BAS[0], weights)\n",
        "fig.set_size_inches((6, 3.5))"
      ],
      "metadata": {
        "colab": {
          "base_uri": "https://localhost:8080/",
          "height": 387
        },
        "id": "dHUvGcQWTqH2",
        "outputId": "27fd254b-69eb-4d70-ac4a-e7efedbae7b4"
      },
      "execution_count": 22,
      "outputs": [
        {
          "output_type": "display_data",
          "data": {
            "text/plain": [
              "<Figure size 600x350 with 1 Axes>"
            ],
            "image/png": "[encoded data removed]"
          },
          "metadata": {}
        }
      ]
    },
    {
      "cell_type": "code",
      "source": [
        "# defining the cost function\n",
        "def costfunc(params):\n",
        "    cost = 0\n",
        "    for i in range(len(BAS)):\n",
        "        if i < len(BAS) / 2:\n",
        "            cost += circuit(BAS[i], params)\n",
        "        else:\n",
        "            cost -= circuit(BAS[i], params)\n",
        "    return cost"
      ],
      "metadata": {
        "id": "4M4pBWJyTqPd"
      },
      "execution_count": 23,
      "outputs": []
    },
    {
      "cell_type": "code",
      "source": [
        "# training the circuit parameters\n",
        "x2 = np.random.random(size=[7, 2], requires_grad=True)\n",
        "params = x2[:]\n",
        "optimizer = qml.GradientDescentOptimizer(stepsize=0.01)\n",
        "\n",
        "for k in range(101):\n",
        "    if k % 5 == 0:\n",
        "        print(f\"Step {k}, cost: {costfunc(params)}\")\n",
        "    params = optimizer.step(costfunc, params)"
      ],
      "metadata": {
        "id": "dZcA44pCTqYq",
        "colab": {
          "base_uri": "https://localhost:8080/"
        },
        "outputId": "302ce4a9-2e36-4fb0-ed52-e3b4a9a9b403"
      },
      "execution_count": 24,
      "outputs": [
        {
          "output_type": "stream",
          "name": "stdout",
          "text": [
            "Step 0, cost: 4.335501769044621\n",
            "Step 5, cost: -33.93398252351568\n",
            "Step 10, cost: -38.52096074647527\n",
            "Step 15, cost: -38.948459913972336\n",
            "Step 20, cost: -39.04561183328222\n",
            "Step 25, cost: -39.115558890670926\n",
            "Step 30, cost: -39.20683174002033\n",
            "Step 35, cost: -39.34764389596334\n",
            "Step 40, cost: -39.56100261259744\n",
            "Step 45, cost: -39.85473874248992\n",
            "Step 50, cost: -40.20660090197006\n",
            "Step 55, cost: -40.565052622015955\n",
            "Step 60, cost: -40.87627577494416\n",
            "Step 65, cost: -41.114155850378474\n",
            "Step 70, cost: -41.28420147040094\n",
            "Step 75, cost: -41.40686222863818\n",
            "Step 80, cost: -41.50242619522834\n",
            "Step 85, cost: -41.58567867960928\n",
            "Step 90, cost: -41.66644205916523\n",
            "Step 95, cost: -41.75154556083455\n",
            "Step 100, cost: -41.84646181576366\n"
          ]
        }
      ]
    },
    {
      "cell_type": "code",
      "source": [
        "i = 0\n",
        "train_correct = 0\n",
        "for img in BAS:\n",
        "  if circuit(img,params) < 0 and train_labels[i] == 3:\n",
        "    train_correct += 1\n",
        "  elif circuit(img,params) > 0 and train_labels[i] == 5:\n",
        "    train_correct += 1\n",
        "  i += 1\n",
        "print(\"training accuracy: 300 images, 150 for letter 3 and 150 for letter 5\")\n",
        "print(100*train_correct/len(BAS),\"%\")"
      ],
      "metadata": {
        "colab": {
          "base_uri": "https://localhost:8080/"
        },
        "id": "mt3gsIzeZ1Vf",
        "outputId": "3f927411-21e9-494f-c979-f46916080744"
      },
      "execution_count": 25,
      "outputs": [
        {
          "output_type": "stream",
          "name": "stdout",
          "text": [
            "training accuracy: 300 images, 150 for letter 3 and 150 for letter 5\n",
            "78.33333333333333 %\n"
          ]
        }
      ]
    },
    {
      "cell_type": "code",
      "source": [
        "predicted = []\n",
        "i = 0\n",
        "test_correct = 0\n",
        "for img in BAS_test:\n",
        "  if circuit(img.flatten(),params) < 0:\n",
        "    predicted.append(3)\n",
        "  if circuit(img.flatten(),params) > 0:\n",
        "    predicted.append(5)\n",
        "  if circuit(img.flatten(),params) < 0 and test_labels[i] == 3:\n",
        "    test_correct += 1\n",
        "  elif circuit(img.flatten(),params) > 0 and test_labels[i] == 5:\n",
        "    test_correct += 1\n",
        "  i += 1\n",
        "print(\"testing accuracy: 60 images\")\n",
        "print(100*test_correct/len(BAS_test),\"%\")"
      ],
      "metadata": {
        "colab": {
          "base_uri": "https://localhost:8080/"
        },
        "id": "yO_BHtkrZ2Fr",
        "outputId": "5dd8e721-471b-43c1-dc12-616566eb5939"
      },
      "execution_count": 26,
      "outputs": [
        {
          "output_type": "stream",
          "name": "stdout",
          "text": [
            "testing accuracy: 60 images\n",
            "75.0 %\n"
          ]
        }
      ]
    },
    {
      "cell_type": "markdown",
      "source": [
        "<h2>CNN on 16x16 images:</h2>"
      ],
      "metadata": {
        "id": "8XKGqCbmkiJW"
      }
    },
    {
      "cell_type": "code",
      "source": [
        "train_images, train_labels, test_images, test_labels = org_train_images, org_train_labels, org_test_images, org_test_labels"
      ],
      "metadata": {
        "id": "fsPlzzMGl1of"
      },
      "execution_count": 27,
      "outputs": []
    },
    {
      "cell_type": "code",
      "source": [
        "# changing the size of the train images and storing in BAS\n",
        "BAS = []\n",
        "for img in train_images:\n",
        "    # using sickit image to rescale to (16,16)\n",
        "    img = rescale(img, 16/28, anti_aliasing=False)\n",
        "    img = img.reshape(16,16)\n",
        "    BAS.append(img)\n",
        "\n",
        "# changing the size of the test images and storing in BAS_test\n",
        "BAS_test = []\n",
        "for img in test_images:\n",
        "    # using sickit image to rescale to (16,16)\n",
        "    img = rescale(img, 16/28, anti_aliasing=False)\n",
        "    img = img.reshape(16,16)\n",
        "    BAS_test.append(img)\n",
        "\n",
        "train_images = BAS[:]\n",
        "test_images = BAS_test[:]"
      ],
      "metadata": {
        "id": "X-PivEt5mtPA"
      },
      "execution_count": 28,
      "outputs": []
    },
    {
      "cell_type": "code",
      "source": [
        "train_images = np.array(train_images)\n",
        "test_images = np.array(test_images)\n",
        "train_labels = np.array(train_labels)\n",
        "test_labels = np.array(test_labels)\n",
        "train_images.shape"
      ],
      "metadata": {
        "colab": {
          "base_uri": "https://localhost:8080/"
        },
        "id": "tNIo5MSfl7vy",
        "outputId": "5492fcad-2e37-4870-fbce-b8e17263ba7c"
      },
      "execution_count": 29,
      "outputs": [
        {
          "output_type": "execute_result",
          "data": {
            "text/plain": [
              "(300, 16, 16)"
            ]
          },
          "metadata": {},
          "execution_count": 29
        }
      ]
    },
    {
      "cell_type": "code",
      "source": [
        "# 256 used instead of 784 since 16*16 = 256\n",
        "train_data = train_images.reshape((len(train_images), 256))\n",
        "\n",
        "# 256 used instead of 784 since 16*16 = 256\n",
        "test_data = test_images.reshape((len(test_labels), 256))\n",
        "\n",
        "\n",
        "categories = np.array([3, 5])\n",
        "encoded_train_labels = np.zeros((len(train_labels), len(categories)))\n",
        "for i in range(len(train_labels)):\n",
        "  j = np.where(categories == train_labels[i])\n",
        "  encoded_train_labels[i, j] = 1\n",
        "\n",
        "categories = np.array([3, 5])\n",
        "encoded_test_labels = np.zeros((len(test_labels), len(categories)))\n",
        "for i in range(len(test_labels)):\n",
        "  j = np.where(categories == test_labels[i])\n",
        "  encoded_test_labels[i, j] = 1"
      ],
      "metadata": {
        "id": "HVXx2sZ3kce9"
      },
      "execution_count": 30,
      "outputs": []
    },
    {
      "cell_type": "code",
      "source": [
        "model = Sequential()\n",
        "model.add(Dense(10, activation='relu', input_shape=(256,)))\n",
        "model.add(Dense(10, activation='relu'))\n",
        "model.add(Dense(2, activation='sigmoid'))"
      ],
      "metadata": {
        "id": "scFVxcZIknN5"
      },
      "execution_count": 31,
      "outputs": []
    },
    {
      "cell_type": "code",
      "source": [
        "model.compile(optimizer='adam', loss='categorical_crossentropy', metrics=['accuracy'])"
      ],
      "metadata": {
        "id": "jaPbO95plDTU"
      },
      "execution_count": 32,
      "outputs": []
    },
    {
      "cell_type": "code",
      "source": [
        "model.reset_states()\n",
        "model.fit(train_data, encoded_train_labels, validation_split=0.2, epochs=10)"
      ],
      "metadata": {
        "colab": {
          "base_uri": "https://localhost:8080/"
        },
        "id": "jeseHEk5lDaO",
        "outputId": "e16e4d4c-d492-46dd-8899-278fdbb2a40e"
      },
      "execution_count": 33,
      "outputs": [
        {
          "output_type": "stream",
          "name": "stdout",
          "text": [
            "Epoch 1/10\n",
            "8/8 [==============================] - 1s 50ms/step - loss: 0.6893 - accuracy: 0.5917 - val_loss: 0.7810 - val_accuracy: 0.0000e+00\n",
            "Epoch 2/10\n",
            "8/8 [==============================] - 0s 12ms/step - loss: 0.6705 - accuracy: 0.6292 - val_loss: 0.8136 - val_accuracy: 0.0000e+00\n",
            "Epoch 3/10\n",
            "8/8 [==============================] - 0s 9ms/step - loss: 0.6473 - accuracy: 0.6250 - val_loss: 0.8453 - val_accuracy: 0.0000e+00\n",
            "Epoch 4/10\n",
            "8/8 [==============================] - 0s 11ms/step - loss: 0.6242 - accuracy: 0.6250 - val_loss: 0.8920 - val_accuracy: 0.0000e+00\n",
            "Epoch 5/10\n",
            "8/8 [==============================] - 0s 12ms/step - loss: 0.5989 - accuracy: 0.6250 - val_loss: 0.9200 - val_accuracy: 0.0000e+00\n",
            "Epoch 6/10\n",
            "8/8 [==============================] - 0s 11ms/step - loss: 0.5769 - accuracy: 0.6250 - val_loss: 0.9276 - val_accuracy: 0.0167\n",
            "Epoch 7/10\n",
            "8/8 [==============================] - 0s 13ms/step - loss: 0.5519 - accuracy: 0.6417 - val_loss: 0.8815 - val_accuracy: 0.0667\n",
            "Epoch 8/10\n",
            "8/8 [==============================] - 0s 11ms/step - loss: 0.5267 - accuracy: 0.6792 - val_loss: 0.8260 - val_accuracy: 0.2667\n",
            "Epoch 9/10\n",
            "8/8 [==============================] - 0s 9ms/step - loss: 0.5001 - accuracy: 0.7042 - val_loss: 0.7891 - val_accuracy: 0.4000\n",
            "Epoch 10/10\n",
            "8/8 [==============================] - 0s 11ms/step - loss: 0.4712 - accuracy: 0.7500 - val_loss: 0.7369 - val_accuracy: 0.5000\n"
          ]
        },
        {
          "output_type": "execute_result",
          "data": {
            "text/plain": [
              "<keras.src.callbacks.History at 0x79619b04b940>"
            ]
          },
          "metadata": {},
          "execution_count": 33
        }
      ]
    },
    {
      "cell_type": "code",
      "source": [
        "model.evaluate(test_data, encoded_test_labels)"
      ],
      "metadata": {
        "colab": {
          "base_uri": "https://localhost:8080/"
        },
        "id": "RMdpihOInRXU",
        "outputId": "b3c2f6ce-8351-4b0d-f331-d13440afb302"
      },
      "execution_count": 34,
      "outputs": [
        {
          "output_type": "stream",
          "name": "stdout",
          "text": [
            "2/2 [==============================] - 0s 12ms/step - loss: 0.5703 - accuracy: 0.6250\n"
          ]
        },
        {
          "output_type": "execute_result",
          "data": {
            "text/plain": [
              "[0.5702916383743286, 0.625]"
            ]
          },
          "metadata": {},
          "execution_count": 34
        }
      ]
    }
  ]
}