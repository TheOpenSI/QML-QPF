{
  "nbformat": 4,
  "nbformat_minor": 0,
  "metadata": {
    "colab": {
      "provenance": []
    },
    "kernelspec": {
      "name": "python3",
      "display_name": "Python 3"
    },
    "language_info": {
      "name": "python"
    }
  },
  "cells": [
    {
      "cell_type": "markdown",
      "source": [
        "<h2>Installing required packages</h2>"
      ],
      "metadata": {
        "id": "PSZueOCACbxz"
      }
    },
    {
      "cell_type": "code",
      "execution_count": 26,
      "metadata": {
        "colab": {
          "base_uri": "https://localhost:8080/"
        },
        "id": "KsdekKpZ6hpb",
        "outputId": "5a2149b0-0642-499b-d354-2a2c08814d2c"
      },
      "outputs": [
        {
          "output_type": "stream",
          "name": "stdout",
          "text": [
            "Requirement already satisfied: tensorflow in /usr/local/lib/python3.10/dist-packages (2.15.0)\n",
            "Requirement already satisfied: absl-py>=1.0.0 in /usr/local/lib/python3.10/dist-packages (from tensorflow) (1.4.0)\n",
            "Requirement already satisfied: astunparse>=1.6.0 in /usr/local/lib/python3.10/dist-packages (from tensorflow) (1.6.3)\n",
            "Requirement already satisfied: flatbuffers>=23.5.26 in /usr/local/lib/python3.10/dist-packages (from tensorflow) (24.3.25)\n",
            "Requirement already satisfied: gast!=0.5.0,!=0.5.1,!=0.5.2,>=0.2.1 in /usr/local/lib/python3.10/dist-packages (from tensorflow) (0.5.4)\n",
            "Requirement already satisfied: google-pasta>=0.1.1 in /usr/local/lib/python3.10/dist-packages (from tensorflow) (0.2.0)\n",
            "Requirement already satisfied: h5py>=2.9.0 in /usr/local/lib/python3.10/dist-packages (from tensorflow) (3.9.0)\n",
            "Requirement already satisfied: libclang>=13.0.0 in /usr/local/lib/python3.10/dist-packages (from tensorflow) (18.1.1)\n",
            "Requirement already satisfied: ml-dtypes~=0.2.0 in /usr/local/lib/python3.10/dist-packages (from tensorflow) (0.2.0)\n",
            "Requirement already satisfied: numpy<2.0.0,>=1.23.5 in /usr/local/lib/python3.10/dist-packages (from tensorflow) (1.25.2)\n",
            "Requirement already satisfied: opt-einsum>=2.3.2 in /usr/local/lib/python3.10/dist-packages (from tensorflow) (3.3.0)\n",
            "Requirement already satisfied: packaging in /usr/local/lib/python3.10/dist-packages (from tensorflow) (24.0)\n",
            "Requirement already satisfied: protobuf!=4.21.0,!=4.21.1,!=4.21.2,!=4.21.3,!=4.21.4,!=4.21.5,<5.0.0dev,>=3.20.3 in /usr/local/lib/python3.10/dist-packages (from tensorflow) (3.20.3)\n",
            "Requirement already satisfied: setuptools in /usr/local/lib/python3.10/dist-packages (from tensorflow) (67.7.2)\n",
            "Requirement already satisfied: six>=1.12.0 in /usr/local/lib/python3.10/dist-packages (from tensorflow) (1.16.0)\n",
            "Requirement already satisfied: termcolor>=1.1.0 in /usr/local/lib/python3.10/dist-packages (from tensorflow) (2.4.0)\n",
            "Requirement already satisfied: typing-extensions>=3.6.6 in /usr/local/lib/python3.10/dist-packages (from tensorflow) (4.11.0)\n",
            "Requirement already satisfied: wrapt<1.15,>=1.11.0 in /usr/local/lib/python3.10/dist-packages (from tensorflow) (1.14.1)\n",
            "Requirement already satisfied: tensorflow-io-gcs-filesystem>=0.23.1 in /usr/local/lib/python3.10/dist-packages (from tensorflow) (0.37.0)\n",
            "Requirement already satisfied: grpcio<2.0,>=1.24.3 in /usr/local/lib/python3.10/dist-packages (from tensorflow) (1.63.0)\n",
            "Requirement already satisfied: tensorboard<2.16,>=2.15 in /usr/local/lib/python3.10/dist-packages (from tensorflow) (2.15.2)\n",
            "Requirement already satisfied: tensorflow-estimator<2.16,>=2.15.0 in /usr/local/lib/python3.10/dist-packages (from tensorflow) (2.15.0)\n",
            "Requirement already satisfied: keras<2.16,>=2.15.0 in /usr/local/lib/python3.10/dist-packages (from tensorflow) (2.15.0)\n",
            "Requirement already satisfied: wheel<1.0,>=0.23.0 in /usr/local/lib/python3.10/dist-packages (from astunparse>=1.6.0->tensorflow) (0.43.0)\n",
            "Requirement already satisfied: google-auth<3,>=1.6.3 in /usr/local/lib/python3.10/dist-packages (from tensorboard<2.16,>=2.15->tensorflow) (2.27.0)\n",
            "Requirement already satisfied: google-auth-oauthlib<2,>=0.5 in /usr/local/lib/python3.10/dist-packages (from tensorboard<2.16,>=2.15->tensorflow) (1.2.0)\n",
            "Requirement already satisfied: markdown>=2.6.8 in /usr/local/lib/python3.10/dist-packages (from tensorboard<2.16,>=2.15->tensorflow) (3.6)\n",
            "Requirement already satisfied: requests<3,>=2.21.0 in /usr/local/lib/python3.10/dist-packages (from tensorboard<2.16,>=2.15->tensorflow) (2.31.0)\n",
            "Requirement already satisfied: tensorboard-data-server<0.8.0,>=0.7.0 in /usr/local/lib/python3.10/dist-packages (from tensorboard<2.16,>=2.15->tensorflow) (0.7.2)\n",
            "Requirement already satisfied: werkzeug>=1.0.1 in /usr/local/lib/python3.10/dist-packages (from tensorboard<2.16,>=2.15->tensorflow) (3.0.3)\n",
            "Requirement already satisfied: cachetools<6.0,>=2.0.0 in /usr/local/lib/python3.10/dist-packages (from google-auth<3,>=1.6.3->tensorboard<2.16,>=2.15->tensorflow) (5.3.3)\n",
            "Requirement already satisfied: pyasn1-modules>=0.2.1 in /usr/local/lib/python3.10/dist-packages (from google-auth<3,>=1.6.3->tensorboard<2.16,>=2.15->tensorflow) (0.4.0)\n",
            "Requirement already satisfied: rsa<5,>=3.1.4 in /usr/local/lib/python3.10/dist-packages (from google-auth<3,>=1.6.3->tensorboard<2.16,>=2.15->tensorflow) (4.9)\n",
            "Requirement already satisfied: requests-oauthlib>=0.7.0 in /usr/local/lib/python3.10/dist-packages (from google-auth-oauthlib<2,>=0.5->tensorboard<2.16,>=2.15->tensorflow) (1.3.1)\n",
            "Requirement already satisfied: charset-normalizer<4,>=2 in /usr/local/lib/python3.10/dist-packages (from requests<3,>=2.21.0->tensorboard<2.16,>=2.15->tensorflow) (3.3.2)\n",
            "Requirement already satisfied: idna<4,>=2.5 in /usr/local/lib/python3.10/dist-packages (from requests<3,>=2.21.0->tensorboard<2.16,>=2.15->tensorflow) (3.7)\n",
            "Requirement already satisfied: urllib3<3,>=1.21.1 in /usr/local/lib/python3.10/dist-packages (from requests<3,>=2.21.0->tensorboard<2.16,>=2.15->tensorflow) (2.0.7)\n",
            "Requirement already satisfied: certifi>=2017.4.17 in /usr/local/lib/python3.10/dist-packages (from requests<3,>=2.21.0->tensorboard<2.16,>=2.15->tensorflow) (2024.2.2)\n",
            "Requirement already satisfied: MarkupSafe>=2.1.1 in /usr/local/lib/python3.10/dist-packages (from werkzeug>=1.0.1->tensorboard<2.16,>=2.15->tensorflow) (2.1.5)\n",
            "Requirement already satisfied: pyasn1<0.7.0,>=0.4.6 in /usr/local/lib/python3.10/dist-packages (from pyasn1-modules>=0.2.1->google-auth<3,>=1.6.3->tensorboard<2.16,>=2.15->tensorflow) (0.6.0)\n",
            "Requirement already satisfied: oauthlib>=3.0.0 in /usr/local/lib/python3.10/dist-packages (from requests-oauthlib>=0.7.0->google-auth-oauthlib<2,>=0.5->tensorboard<2.16,>=2.15->tensorflow) (3.2.2)\n"
          ]
        }
      ],
      "source": [
        "#!pip install tensorflow"
      ]
    },
    {
      "cell_type": "code",
      "source": [
        "#!pip install keras"
      ],
      "metadata": {
        "colab": {
          "base_uri": "https://localhost:8080/"
        },
        "id": "qk_KA_OC6lKs",
        "outputId": "58fa1e9c-b9b7-4037-bada-6dbbb39c7cf8"
      },
      "execution_count": 27,
      "outputs": [
        {
          "output_type": "stream",
          "name": "stdout",
          "text": [
            "Requirement already satisfied: keras in /usr/local/lib/python3.10/dist-packages (2.15.0)\n"
          ]
        }
      ]
    },
    {
      "cell_type": "code",
      "source": [
        "#!pip install matplotlib"
      ],
      "metadata": {
        "colab": {
          "base_uri": "https://localhost:8080/"
        },
        "id": "AJo-V1Tk6m-N",
        "outputId": "a8407e0b-8575-42ae-a626-2a579f0daa25"
      },
      "execution_count": 28,
      "outputs": [
        {
          "output_type": "stream",
          "name": "stdout",
          "text": [
            "Requirement already satisfied: matplotlib in /usr/local/lib/python3.10/dist-packages (3.7.1)\n",
            "Requirement already satisfied: contourpy>=1.0.1 in /usr/local/lib/python3.10/dist-packages (from matplotlib) (1.2.1)\n",
            "Requirement already satisfied: cycler>=0.10 in /usr/local/lib/python3.10/dist-packages (from matplotlib) (0.12.1)\n",
            "Requirement already satisfied: fonttools>=4.22.0 in /usr/local/lib/python3.10/dist-packages (from matplotlib) (4.51.0)\n",
            "Requirement already satisfied: kiwisolver>=1.0.1 in /usr/local/lib/python3.10/dist-packages (from matplotlib) (1.4.5)\n",
            "Requirement already satisfied: numpy>=1.20 in /usr/local/lib/python3.10/dist-packages (from matplotlib) (1.25.2)\n",
            "Requirement already satisfied: packaging>=20.0 in /usr/local/lib/python3.10/dist-packages (from matplotlib) (24.0)\n",
            "Requirement already satisfied: pillow>=6.2.0 in /usr/local/lib/python3.10/dist-packages (from matplotlib) (9.4.0)\n",
            "Requirement already satisfied: pyparsing>=2.3.1 in /usr/local/lib/python3.10/dist-packages (from matplotlib) (3.1.2)\n",
            "Requirement already satisfied: python-dateutil>=2.7 in /usr/local/lib/python3.10/dist-packages (from matplotlib) (2.8.2)\n",
            "Requirement already satisfied: six>=1.5 in /usr/local/lib/python3.10/dist-packages (from python-dateutil>=2.7->matplotlib) (1.16.0)\n"
          ]
        }
      ]
    },
    {
      "cell_type": "code",
      "source": [
        "#!pip install pennylane --upgrade"
      ],
      "metadata": {
        "colab": {
          "base_uri": "https://localhost:8080/"
        },
        "id": "7cmmg5iD7HRZ",
        "outputId": "f29b74de-6bf6-4b54-b8a5-76c0fb9c0d80"
      },
      "execution_count": 29,
      "outputs": [
        {
          "output_type": "stream",
          "name": "stdout",
          "text": [
            "Requirement already satisfied: pennylane in /usr/local/lib/python3.10/dist-packages (0.36.0)\n",
            "Requirement already satisfied: numpy<2.0 in /usr/local/lib/python3.10/dist-packages (from pennylane) (1.25.2)\n",
            "Requirement already satisfied: scipy in /usr/local/lib/python3.10/dist-packages (from pennylane) (1.11.4)\n",
            "Requirement already satisfied: networkx in /usr/local/lib/python3.10/dist-packages (from pennylane) (3.3)\n",
            "Requirement already satisfied: rustworkx in /usr/local/lib/python3.10/dist-packages (from pennylane) (0.14.2)\n",
            "Requirement already satisfied: autograd in /usr/local/lib/python3.10/dist-packages (from pennylane) (1.6.2)\n",
            "Requirement already satisfied: toml in /usr/local/lib/python3.10/dist-packages (from pennylane) (0.10.2)\n",
            "Requirement already satisfied: appdirs in /usr/local/lib/python3.10/dist-packages (from pennylane) (1.4.4)\n",
            "Requirement already satisfied: semantic-version>=2.7 in /usr/local/lib/python3.10/dist-packages (from pennylane) (2.10.0)\n",
            "Requirement already satisfied: autoray>=0.6.1 in /usr/local/lib/python3.10/dist-packages (from pennylane) (0.6.10)\n",
            "Requirement already satisfied: cachetools in /usr/local/lib/python3.10/dist-packages (from pennylane) (5.3.3)\n",
            "Requirement already satisfied: pennylane-lightning>=0.36 in /usr/local/lib/python3.10/dist-packages (from pennylane) (0.36.0)\n",
            "Requirement already satisfied: requests in /usr/local/lib/python3.10/dist-packages (from pennylane) (2.31.0)\n",
            "Requirement already satisfied: typing-extensions in /usr/local/lib/python3.10/dist-packages (from pennylane) (4.11.0)\n",
            "Requirement already satisfied: future>=0.15.2 in /usr/local/lib/python3.10/dist-packages (from autograd->pennylane) (0.18.3)\n",
            "Requirement already satisfied: charset-normalizer<4,>=2 in /usr/local/lib/python3.10/dist-packages (from requests->pennylane) (3.3.2)\n",
            "Requirement already satisfied: idna<4,>=2.5 in /usr/local/lib/python3.10/dist-packages (from requests->pennylane) (3.7)\n",
            "Requirement already satisfied: urllib3<3,>=1.21.1 in /usr/local/lib/python3.10/dist-packages (from requests->pennylane) (2.0.7)\n",
            "Requirement already satisfied: certifi>=2017.4.17 in /usr/local/lib/python3.10/dist-packages (from requests->pennylane) (2024.2.2)\n"
          ]
        }
      ]
    },
    {
      "cell_type": "markdown",
      "source": [
        "<h2>Necessary imports</h2>"
      ],
      "metadata": {
        "id": "8u-1fZnzCh-F"
      }
    },
    {
      "cell_type": "code",
      "source": [
        "from keras.models import Sequential\n",
        "from keras.layers import Dense"
      ],
      "metadata": {
        "id": "R4l5kPpiCrBJ"
      },
      "execution_count": 30,
      "outputs": []
    },
    {
      "cell_type": "code",
      "source": [
        "from sklearn import metrics"
      ],
      "metadata": {
        "id": "ztGbxMxEEYpE"
      },
      "execution_count": 31,
      "outputs": []
    },
    {
      "cell_type": "code",
      "source": [
        "from skimage import data, color\n",
        "from skimage.transform import rescale, resize, downscale_local_mean"
      ],
      "metadata": {
        "id": "Hld-CA-1PX70"
      },
      "execution_count": 64,
      "outputs": []
    },
    {
      "cell_type": "code",
      "source": [
        "import json\n",
        "from Filters import *\n",
        "from Data_load import data_load\n",
        "import matplotlib.pyplot as plt\n",
        "\n",
        "import keras\n",
        "\n",
        "from utils import *\n",
        "\n",
        "import time\n",
        "\n",
        "## Import the images\n",
        "data = data_load()\n",
        "train_images, train_labels, test_images, test_labels = data.data_mnist()"
      ],
      "metadata": {
        "colab": {
          "base_uri": "https://localhost:8080/"
        },
        "id": "dvFISRn66rG8",
        "outputId": "d86831bb-df77-45f1-e9b1-d509f3aff0ed"
      },
      "execution_count": 32,
      "outputs": [
        {
          "output_type": "stream",
          "name": "stdout",
          "text": [
            "6000\n"
          ]
        }
      ]
    },
    {
      "cell_type": "code",
      "source": [
        "print(\"shape of train images\", train_images[0].shape)\n",
        "print(\"shape of test images\", test_images[0].shape)"
      ],
      "metadata": {
        "colab": {
          "base_uri": "https://localhost:8080/"
        },
        "id": "X7kCaPsc7C4U",
        "outputId": "c1fe0e37-ae75-4115-f7d2-df5f0668a9e8"
      },
      "execution_count": 33,
      "outputs": [
        {
          "output_type": "stream",
          "name": "stdout",
          "text": [
            "shape of train images (28, 28, 1)\n",
            "shape of test images (28, 28, 1)\n"
          ]
        }
      ]
    },
    {
      "cell_type": "code",
      "source": [
        "print(\"length of train images\", len(train_images))\n",
        "print(\"length of test images\", len(test_images))"
      ],
      "metadata": {
        "colab": {
          "base_uri": "https://localhost:8080/"
        },
        "id": "rqb0Uzy57VgG",
        "outputId": "6057f5c6-62d6-4d4f-ed42-6e7d21a63ca0"
      },
      "execution_count": 34,
      "outputs": [
        {
          "output_type": "stream",
          "name": "stdout",
          "text": [
            "length of train images 6000\n",
            "length of test images 1000\n"
          ]
        }
      ]
    },
    {
      "cell_type": "markdown",
      "source": [
        "<h2>Using 28x28 images</h2>"
      ],
      "metadata": {
        "id": "dSfowocZCv8s"
      }
    },
    {
      "cell_type": "code",
      "source": [
        "# This function returns the modified dataset\n",
        "# It is a script to get a dataset of 2 labels only\n",
        "def trainTestData(train_images, train_labels, test_images, test_labels, label1, label2, n_train, n_test):\n",
        "    n_train_images, n_train_labels, n_test_images, n_test_labels = [], [], [], []\n",
        "    i = 0\n",
        "    while (n_train > 0 and i < len(train_images)):\n",
        "        if train_labels[i] == label1:\n",
        "            n_train_images.append(train_images[i])\n",
        "            n_train_labels.append(label1)\n",
        "            n_train -= 1\n",
        "        if train_labels[i] == label2:\n",
        "            n_train_images.append(train_images[i])\n",
        "            n_train_labels.append(label2)\n",
        "            n_train -= 1\n",
        "        i = i+1\n",
        "    i = 0\n",
        "    while(n_test>0 and i < len(test_images)):\n",
        "        if test_labels[i] == label1:\n",
        "            n_test_images.append(test_images[i])\n",
        "            n_test_labels.append(label1)\n",
        "            n_test -= 1\n",
        "        if test_labels[i] == label2:\n",
        "            n_test_images.append(test_images[i])\n",
        "            n_test_labels.append(label2)\n",
        "            n_test -= 1\n",
        "        i = i+1\n",
        "    return n_train_images, n_train_labels, n_test_images, n_test_labels"
      ],
      "metadata": {
        "id": "bhMek0rj7Y46"
      },
      "execution_count": 35,
      "outputs": []
    },
    {
      "cell_type": "code",
      "source": [
        "# getting a dataset of numbers 3 and 5 with train dataset of 80 and test dataset of 35\n",
        "train_images, train_labels, test_images, test_labels = trainTestData(train_images, train_labels, test_images, test_labels, 3, 5, 500, 60)"
      ],
      "metadata": {
        "id": "harfMhNb7ZI7"
      },
      "execution_count": 36,
      "outputs": []
    },
    {
      "cell_type": "code",
      "source": [
        "# this functions makes the train dataset balanced\n",
        "# number of images for number 3 same as that for number 5\n",
        "def balanceDataSet(BAS, train_labels):\n",
        "    new_train_images_3 = []\n",
        "    new_train_images_5 = []\n",
        "\n",
        "    new_train_labels_3 = []\n",
        "    new_train_labels_5 = []\n",
        "\n",
        "    for i in range(len(BAS)):\n",
        "      if train_labels[i] == 3:\n",
        "        new_train_images_3.append(BAS[i])\n",
        "        new_train_labels_3.append(3)\n",
        "      else:\n",
        "        new_train_images_5.append(BAS[i])\n",
        "        new_train_labels_5.append(5)\n",
        "    return new_train_images_3[0:150] + new_train_images_5[0:150], new_train_labels_3[0:150] + new_train_labels_5[0:150]"
      ],
      "metadata": {
        "id": "7-gEvUkC7wLB"
      },
      "execution_count": 37,
      "outputs": []
    },
    {
      "cell_type": "code",
      "source": [
        "train_images, train_labels = balanceDataSet(train_images, train_labels)\n",
        "# to have a fair comparison of performance\n",
        "org_train_images, org_train_labels, org_test_images, org_test_labels = train_images, train_labels, test_images, test_labels"
      ],
      "metadata": {
        "id": "QHBYz3_U7wRw"
      },
      "execution_count": 38,
      "outputs": []
    },
    {
      "cell_type": "code",
      "source": [
        "print(\"length of train images\", len(train_images))\n",
        "print(\"length of test images\", len(test_images))"
      ],
      "metadata": {
        "colab": {
          "base_uri": "https://localhost:8080/"
        },
        "id": "xoXbfaIk7wXO",
        "outputId": "082df556-795b-4ef9-9b2c-f267d309987f"
      },
      "execution_count": 39,
      "outputs": [
        {
          "output_type": "stream",
          "name": "stdout",
          "text": [
            "length of train images 300\n",
            "length of test images 60\n"
          ]
        }
      ]
    },
    {
      "cell_type": "code",
      "source": [
        "train_images = np.array(train_images)\n",
        "test_images = np.array(test_images)\n",
        "train_labels = np.array(train_labels)\n",
        "test_labels = np.array(test_labels)\n",
        "train_images.shape"
      ],
      "metadata": {
        "colab": {
          "base_uri": "https://localhost:8080/"
        },
        "id": "bNTZWeJI7wld",
        "outputId": "eedc9f65-5a4d-4f78-b468-a43d36743d38"
      },
      "execution_count": 40,
      "outputs": [
        {
          "output_type": "execute_result",
          "data": {
            "text/plain": [
              "(300, 28, 28, 1)"
            ]
          },
          "metadata": {},
          "execution_count": 40
        }
      ]
    },
    {
      "cell_type": "code",
      "source": [
        "model = Sequential()\n",
        "# 784 is 28*28\n",
        "# 10 is the number of neurons\n",
        "model.add(Dense(10, activation='relu', input_shape=(784,)))\n",
        "model.add(Dense(10, activation='relu'))\n",
        "# sigmoid activation used for binary classification\n",
        "model.add(Dense(2, activation='sigmoid'))"
      ],
      "metadata": {
        "id": "RfsVfSQI7w58"
      },
      "execution_count": 41,
      "outputs": []
    },
    {
      "cell_type": "code",
      "source": [
        "model.compile(optimizer='adam', loss='categorical_crossentropy', metrics=['accuracy'])"
      ],
      "metadata": {
        "id": "sS_k3tzJ7w86"
      },
      "execution_count": 42,
      "outputs": []
    },
    {
      "cell_type": "code",
      "source": [
        "# changing data shape from (28, 28) t0 (784, )\n",
        "train_data = train_images.reshape((train_images.shape[0], 784))\n",
        "\n",
        "#encoding train labels using one-hot encoding\n",
        "categories = np.array([3, 5])\n",
        "encoded_train_labels = np.zeros((len(train_labels), len(categories)))\n",
        "for i in range(len(train_labels)):\n",
        "  j = np.where(categories == train_labels[i])\n",
        "  encoded_train_labels[i, j] = 1"
      ],
      "metadata": {
        "id": "emXWJOCf7xBU"
      },
      "execution_count": 43,
      "outputs": []
    },
    {
      "cell_type": "code",
      "source": [
        "model.reset_states()\n",
        "model.fit(train_data, encoded_train_labels, validation_split=0.2, epochs=10)"
      ],
      "metadata": {
        "id": "36-GZ1Z37xEF",
        "colab": {
          "base_uri": "https://localhost:8080/"
        },
        "outputId": "90f35894-3651-4f9e-e839-bc60f9ebf479"
      },
      "execution_count": 44,
      "outputs": [
        {
          "output_type": "stream",
          "name": "stdout",
          "text": [
            "Epoch 1/10\n",
            "8/8 [==============================] - 3s 110ms/step - loss: 0.7898 - accuracy: 0.4625 - val_loss: 0.8761 - val_accuracy: 0.0167\n",
            "Epoch 2/10\n",
            "8/8 [==============================] - 0s 15ms/step - loss: 0.6250 - accuracy: 0.6292 - val_loss: 1.0053 - val_accuracy: 0.0000e+00\n",
            "Epoch 3/10\n",
            "8/8 [==============================] - 0s 14ms/step - loss: 0.5903 - accuracy: 0.6250 - val_loss: 1.0189 - val_accuracy: 0.0000e+00\n",
            "Epoch 4/10\n",
            "8/8 [==============================] - 0s 12ms/step - loss: 0.5542 - accuracy: 0.6458 - val_loss: 0.9214 - val_accuracy: 0.1500\n",
            "Epoch 5/10\n",
            "8/8 [==============================] - 0s 13ms/step - loss: 0.5055 - accuracy: 0.7083 - val_loss: 0.7759 - val_accuracy: 0.4667\n",
            "Epoch 6/10\n",
            "8/8 [==============================] - 0s 12ms/step - loss: 0.4125 - accuracy: 0.8542 - val_loss: 0.4694 - val_accuracy: 0.7500\n",
            "Epoch 7/10\n",
            "8/8 [==============================] - 0s 15ms/step - loss: 0.3083 - accuracy: 0.9000 - val_loss: 0.3367 - val_accuracy: 0.8667\n",
            "Epoch 8/10\n",
            "8/8 [==============================] - 0s 9ms/step - loss: 0.2274 - accuracy: 0.9292 - val_loss: 0.2616 - val_accuracy: 0.8833\n",
            "Epoch 9/10\n",
            "8/8 [==============================] - 0s 12ms/step - loss: 0.1760 - accuracy: 0.9500 - val_loss: 0.2509 - val_accuracy: 0.8833\n",
            "Epoch 10/10\n",
            "8/8 [==============================] - 0s 11ms/step - loss: 0.1380 - accuracy: 0.9667 - val_loss: 0.2451 - val_accuracy: 0.9000\n"
          ]
        },
        {
          "output_type": "execute_result",
          "data": {
            "text/plain": [
              "<keras.src.callbacks.History at 0x78d4af089540>"
            ]
          },
          "metadata": {},
          "execution_count": 44
        }
      ]
    },
    {
      "cell_type": "code",
      "source": [
        "# changing data shape from (28, 28) t0 (784, )\n",
        "test_data = test_images.reshape((len(test_labels), 784))\n",
        "\n",
        "# encoding test labels using one-hot encoding\n",
        "categories = np.array([3, 5])\n",
        "encoded_test_labels = np.zeros((len(test_labels), len(categories)))\n",
        "for i in range(len(test_labels)):\n",
        "  j = np.where(categories == test_labels[i])\n",
        "  encoded_test_labels[i, j] = 1"
      ],
      "metadata": {
        "id": "3aKffoQg91ak"
      },
      "execution_count": 45,
      "outputs": []
    },
    {
      "cell_type": "code",
      "source": [
        "model.evaluate(test_data, encoded_test_labels)"
      ],
      "metadata": {
        "colab": {
          "base_uri": "https://localhost:8080/"
        },
        "id": "nwJLS2yK_h42",
        "outputId": "c8e3d585-7dbd-4bf4-ff12-b30af4452312"
      },
      "execution_count": 46,
      "outputs": [
        {
          "output_type": "stream",
          "name": "stdout",
          "text": [
            "2/2 [==============================] - 0s 8ms/step - loss: 0.2264 - accuracy: 0.9667\n"
          ]
        },
        {
          "output_type": "execute_result",
          "data": {
            "text/plain": [
              "[0.22640666365623474, 0.9666666388511658]"
            ]
          },
          "metadata": {},
          "execution_count": 46
        }
      ]
    },
    {
      "cell_type": "code",
      "source": [
        "predicted = model.predict(test_data)\n",
        "predicted"
      ],
      "metadata": {
        "colab": {
          "base_uri": "https://localhost:8080/"
        },
        "id": "NK3zeLy1F5js",
        "outputId": "722a8c63-5900-4e28-93bd-78d7a891d9e7"
      },
      "execution_count": 47,
      "outputs": [
        {
          "output_type": "stream",
          "name": "stdout",
          "text": [
            "2/2 [==============================] - 0s 6ms/step\n"
          ]
        },
        {
          "output_type": "execute_result",
          "data": {
            "text/plain": [
              "array([[0.08539055, 0.88550586],\n",
              "       [0.42206246, 0.5822893 ],\n",
              "       [0.59990835, 0.41219598],\n",
              "       [0.15061715, 0.8092798 ],\n",
              "       [0.78151774, 0.20862004],\n",
              "       [0.6632408 , 0.35185534],\n",
              "       [0.65457183, 0.35365245],\n",
              "       [0.41837674, 0.56707585],\n",
              "       [0.8078884 , 0.22008955],\n",
              "       [0.09017101, 0.8599103 ],\n",
              "       [0.40914732, 0.5509962 ],\n",
              "       [0.22139734, 0.75329995],\n",
              "       [0.80936545, 0.22546417],\n",
              "       [0.90223753, 0.16032763],\n",
              "       [0.76407915, 0.28533226],\n",
              "       [0.5285718 , 0.49312383],\n",
              "       [0.8712327 , 0.20151803],\n",
              "       [0.8103461 , 0.21586336],\n",
              "       [0.2061235 , 0.73284334],\n",
              "       [0.74087214, 0.30829427],\n",
              "       [0.44563416, 0.51041794],\n",
              "       [0.05144162, 0.9207523 ],\n",
              "       [0.22163574, 0.71682286],\n",
              "       [0.05554933, 0.90909314],\n",
              "       [0.846076  , 0.24176505],\n",
              "       [0.06311683, 0.9097609 ],\n",
              "       [0.2520113 , 0.7024108 ],\n",
              "       [0.01720934, 0.96363294],\n",
              "       [0.83538854, 0.2351112 ],\n",
              "       [0.04686346, 0.9098712 ],\n",
              "       [0.1773724 , 0.7520572 ],\n",
              "       [0.40734875, 0.59822786],\n",
              "       [0.59316486, 0.39295027],\n",
              "       [0.2403279 , 0.7426404 ],\n",
              "       [0.25118226, 0.66634387],\n",
              "       [0.6798262 , 0.42831877],\n",
              "       [0.9301415 , 0.088086  ],\n",
              "       [0.74594706, 0.31645948],\n",
              "       [0.1805642 , 0.7896476 ],\n",
              "       [0.363814  , 0.60849506],\n",
              "       [0.85199344, 0.2705836 ],\n",
              "       [0.9268522 , 0.16309859],\n",
              "       [0.3544018 , 0.65922034],\n",
              "       [0.41028592, 0.5656148 ],\n",
              "       [0.53485316, 0.44548845],\n",
              "       [0.81250167, 0.27441597],\n",
              "       [0.15465483, 0.7942087 ],\n",
              "       [0.3458557 , 0.68602693],\n",
              "       [0.2489543 , 0.69487995],\n",
              "       [0.2201265 , 0.6948964 ],\n",
              "       [0.5693703 , 0.44378343],\n",
              "       [0.40812418, 0.603424  ],\n",
              "       [0.2247346 , 0.73378515],\n",
              "       [0.7529104 , 0.29592726],\n",
              "       [0.78539026, 0.29346403],\n",
              "       [0.262749  , 0.687435  ],\n",
              "       [0.08675447, 0.8966002 ],\n",
              "       [0.21686463, 0.7508376 ],\n",
              "       [0.8799063 , 0.2459316 ],\n",
              "       [0.41776785, 0.5305397 ]], dtype=float32)"
            ]
          },
          "metadata": {},
          "execution_count": 47
        }
      ]
    },
    {
      "cell_type": "markdown",
      "source": [
        "<h2>Using 4x4 images (quantum filter)</h2>"
      ],
      "metadata": {
        "id": "tVDj9VFJ_4RP"
      }
    },
    {
      "cell_type": "code",
      "source": [
        "train_images, train_labels, test_images, test_labels = org_train_images, org_train_labels, org_test_images, org_test_labels"
      ],
      "metadata": {
        "id": "PRCahmk__2vW"
      },
      "execution_count": 48,
      "outputs": []
    },
    {
      "cell_type": "code",
      "source": [
        "# Applying the quantum filter for the first time\n",
        "# (28, 28) to (14, 14) image\n",
        "start_time = time.time()\n",
        "\n",
        "filtered_train_images = apply_filter(train_images, 6, data.n_channels, data.n_layers, True)\n",
        "filtered_test_images = apply_filter(test_images, 6, data.n_channels, data.n_layers, True)\n",
        "\n",
        "end_time = time.time()\n",
        "\n",
        "time_taken = end_time - start_time\n",
        "\n",
        "print(time_taken/60, \" minutes\")"
      ],
      "metadata": {
        "colab": {
          "base_uri": "https://localhost:8080/"
        },
        "id": "XVjcERsCAGpw",
        "outputId": "afc4a733-6082-4784-99dd-1f321e4450f5"
      },
      "execution_count": 49,
      "outputs": [
        {
          "output_type": "stream",
          "name": "stdout",
          "text": [
            "fitlered pre-processing of images, with type = 6\n",
            "fitlered pre-processing of images, with type = 6\n",
            "6.358977731068929  minutes\n"
          ]
        }
      ]
    },
    {
      "cell_type": "code",
      "source": [
        "train_images = filtered_train_images\n",
        "test_images = filtered_test_images"
      ],
      "metadata": {
        "id": "UDZmnnlzAGx8"
      },
      "execution_count": 50,
      "outputs": []
    },
    {
      "cell_type": "code",
      "source": [
        "print(\"shape of train images\", train_images[0].shape)\n",
        "print(\"shape of test images\", test_images[0].shape)"
      ],
      "metadata": {
        "colab": {
          "base_uri": "https://localhost:8080/"
        },
        "id": "1ZOXF6yPAG1U",
        "outputId": "785bafe6-38bd-43d3-b4c7-6c14729c7e1b"
      },
      "execution_count": 51,
      "outputs": [
        {
          "output_type": "stream",
          "name": "stdout",
          "text": [
            "shape of train images (14, 14, 1)\n",
            "shape of test images (14, 14, 1)\n"
          ]
        }
      ]
    },
    {
      "cell_type": "code",
      "source": [
        "# Applying the quantum filter for the second time\n",
        "# (14, 14) to (7,7) image\n",
        "start_time = time.time()\n",
        "\n",
        "filtered_train_images = apply_filter(train_images, 6, data.n_channels, data.n_layers, True)\n",
        "filtered_test_images = apply_filter(test_images, 6, data.n_channels, data.n_layers, True)\n",
        "\n",
        "end_time = time.time()\n",
        "\n",
        "time_taken = end_time - start_time\n",
        "\n",
        "print(time_taken/60, \" minutes\")"
      ],
      "metadata": {
        "colab": {
          "base_uri": "https://localhost:8080/"
        },
        "id": "F4xBK8AUAG4I",
        "outputId": "b89821f5-28a4-49fc-d27b-9ebaa4e4aaae"
      },
      "execution_count": 52,
      "outputs": [
        {
          "output_type": "stream",
          "name": "stdout",
          "text": [
            "fitlered pre-processing of images, with type = 6\n",
            "fitlered pre-processing of images, with type = 6\n",
            "1.5404990474383036  minutes\n"
          ]
        }
      ]
    },
    {
      "cell_type": "code",
      "source": [
        "train_images = filtered_train_images\n",
        "test_images = filtered_test_images"
      ],
      "metadata": {
        "id": "bT-8Un-AA4bN"
      },
      "execution_count": 53,
      "outputs": []
    },
    {
      "cell_type": "code",
      "source": [
        "print(\"shape of train images\", train_images[0].shape)\n",
        "print(\"shape of test images\", test_images[0].shape)"
      ],
      "metadata": {
        "colab": {
          "base_uri": "https://localhost:8080/"
        },
        "id": "5JpOKou0AG6x",
        "outputId": "0a5116b1-3b6e-4329-952b-c2d37a6b6365"
      },
      "execution_count": 54,
      "outputs": [
        {
          "output_type": "stream",
          "name": "stdout",
          "text": [
            "shape of train images (7, 7, 1)\n",
            "shape of test images (7, 7, 1)\n"
          ]
        }
      ]
    },
    {
      "cell_type": "code",
      "source": [
        "# function to perform max pooling using keras\n",
        "def conv(train_images, test_images):\n",
        "\n",
        "    new_train_images, new_test_images = [], []\n",
        "\n",
        "    for img in train_images:\n",
        "        img = np.reshape(img, [1, 7, 7, 1])\n",
        "        max_pool_2d = keras.layers.MaxPooling2D(pool_size=(1, 1), strides=(2, 2), padding=\"valid\")\n",
        "        new_train_images.append(np.reshape(max_pool_2d(img), [4, 4]))\n",
        "\n",
        "    for img in test_images:\n",
        "        img = np.reshape(img, [1, 7, 7, 1])\n",
        "        max_pool_2d = keras.layers.MaxPooling2D(pool_size=(1, 1), strides=(2, 2), padding=\"valid\")\n",
        "        new_test_images.append(np.reshape(max_pool_2d(img), [4, 4]))\n",
        "    return new_train_images, new_test_images"
      ],
      "metadata": {
        "id": "VhcL0JdpAHFR"
      },
      "execution_count": 55,
      "outputs": []
    },
    {
      "cell_type": "code",
      "source": [
        "train_images, test_images = conv(train_images, test_images)"
      ],
      "metadata": {
        "id": "fZ4KO608AHIg"
      },
      "execution_count": 56,
      "outputs": []
    },
    {
      "cell_type": "code",
      "source": [
        "train_images = np.array(train_images)\n",
        "test_images = np.array(test_images)\n",
        "train_labels = np.array(train_labels)\n",
        "test_labels = np.array(test_labels)\n",
        "train_images.shape"
      ],
      "metadata": {
        "colab": {
          "base_uri": "https://localhost:8080/"
        },
        "id": "qzCsLO4JBBqP",
        "outputId": "c8f116a9-e414-44ff-820a-32d7ea3e1d29"
      },
      "execution_count": 57,
      "outputs": [
        {
          "output_type": "execute_result",
          "data": {
            "text/plain": [
              "(300, 4, 4)"
            ]
          },
          "metadata": {},
          "execution_count": 57
        }
      ]
    },
    {
      "cell_type": "code",
      "source": [
        "# 16 used instead of 784 since 4*4 = 16\n",
        "train_data = train_images.reshape((len(train_images), 16))\n",
        "\n",
        "categories = np.array([3, 5])\n",
        "encoded_train_labels = np.zeros((len(train_labels), len(categories)))\n",
        "for i in range(len(train_labels)):\n",
        "  j = np.where(categories == train_labels[i])\n",
        "  encoded_train_labels[i, j] = 1"
      ],
      "metadata": {
        "id": "w4KaXYhdBIYm"
      },
      "execution_count": 58,
      "outputs": []
    },
    {
      "cell_type": "code",
      "source": [
        "model2 = Sequential()\n",
        "model2.add(Dense(10, activation='relu', input_shape=(16,)))\n",
        "model2.add(Dense(10, activation='relu'))\n",
        "model2.add(Dense(2, activation='sigmoid'))"
      ],
      "metadata": {
        "id": "grIMuMJ6BKCM"
      },
      "execution_count": 59,
      "outputs": []
    },
    {
      "cell_type": "code",
      "source": [
        "model2.compile(optimizer='adam', loss='categorical_crossentropy', metrics=['accuracy'])"
      ],
      "metadata": {
        "id": "WXrRUkqdBKGB"
      },
      "execution_count": 60,
      "outputs": []
    },
    {
      "cell_type": "code",
      "source": [
        "model2.reset_states()\n",
        "model2.fit(train_data, encoded_train_labels, validation_split=0.2, epochs=10)"
      ],
      "metadata": {
        "colab": {
          "base_uri": "https://localhost:8080/"
        },
        "id": "Jl7NZL8ABKI_",
        "outputId": "63206bbe-d4e4-4539-f093-71b5a4496763"
      },
      "execution_count": 61,
      "outputs": [
        {
          "output_type": "stream",
          "name": "stdout",
          "text": [
            "Epoch 1/10\n",
            "8/8 [==============================] - 1s 39ms/step - loss: 0.6554 - accuracy: 0.6250 - val_loss: 0.8985 - val_accuracy: 0.0167\n",
            "Epoch 2/10\n",
            "8/8 [==============================] - 0s 8ms/step - loss: 0.6514 - accuracy: 0.6292 - val_loss: 0.9106 - val_accuracy: 0.0500\n",
            "Epoch 3/10\n",
            "8/8 [==============================] - 0s 8ms/step - loss: 0.6485 - accuracy: 0.6292 - val_loss: 0.9084 - val_accuracy: 0.0833\n",
            "Epoch 4/10\n",
            "8/8 [==============================] - 0s 7ms/step - loss: 0.6453 - accuracy: 0.6375 - val_loss: 0.9159 - val_accuracy: 0.0833\n",
            "Epoch 5/10\n",
            "8/8 [==============================] - 0s 8ms/step - loss: 0.6432 - accuracy: 0.6417 - val_loss: 0.9316 - val_accuracy: 0.0833\n",
            "Epoch 6/10\n",
            "8/8 [==============================] - 0s 7ms/step - loss: 0.6401 - accuracy: 0.6417 - val_loss: 0.9115 - val_accuracy: 0.0833\n",
            "Epoch 7/10\n",
            "8/8 [==============================] - 0s 8ms/step - loss: 0.6373 - accuracy: 0.6542 - val_loss: 0.9049 - val_accuracy: 0.1000\n",
            "Epoch 8/10\n",
            "8/8 [==============================] - 0s 8ms/step - loss: 0.6355 - accuracy: 0.6542 - val_loss: 0.8902 - val_accuracy: 0.1167\n",
            "Epoch 9/10\n",
            "8/8 [==============================] - 0s 8ms/step - loss: 0.6331 - accuracy: 0.6667 - val_loss: 0.9062 - val_accuracy: 0.1167\n",
            "Epoch 10/10\n",
            "8/8 [==============================] - 0s 10ms/step - loss: 0.6307 - accuracy: 0.6708 - val_loss: 0.9078 - val_accuracy: 0.1333\n"
          ]
        },
        {
          "output_type": "execute_result",
          "data": {
            "text/plain": [
              "<keras.src.callbacks.History at 0x78d4c0404760>"
            ]
          },
          "metadata": {},
          "execution_count": 61
        }
      ]
    },
    {
      "cell_type": "code",
      "source": [
        "# 16 used instead of 784 since 4*4 = 16\n",
        "test_data = test_images.reshape((len(test_labels), 16))\n",
        "\n",
        "categories = np.array([3, 5])\n",
        "encoded_test_labels = np.zeros((len(test_labels), len(categories)))\n",
        "for i in range(len(test_labels)):\n",
        "  j = np.where(categories == test_labels[i])\n",
        "  encoded_test_labels[i, j] = 1"
      ],
      "metadata": {
        "id": "Ko6MecNiBhzh"
      },
      "execution_count": 62,
      "outputs": []
    },
    {
      "cell_type": "code",
      "source": [
        "model2.evaluate(test_data, encoded_test_labels)"
      ],
      "metadata": {
        "colab": {
          "base_uri": "https://localhost:8080/"
        },
        "id": "FC3IgnYdBh4y",
        "outputId": "6d799752-32e7-414d-f11d-0a8a128ab2b4"
      },
      "execution_count": 63,
      "outputs": [
        {
          "output_type": "stream",
          "name": "stdout",
          "text": [
            "2/2 [==============================] - 0s 8ms/step - loss: 0.7178 - accuracy: 0.5333\n"
          ]
        },
        {
          "output_type": "execute_result",
          "data": {
            "text/plain": [
              "[0.7178212404251099, 0.5333333611488342]"
            ]
          },
          "metadata": {},
          "execution_count": 63
        }
      ]
    },
    {
      "cell_type": "markdown",
      "source": [
        "<h2>Using classical filter</h2>"
      ],
      "metadata": {
        "id": "7AQTO4u0PCYR"
      }
    },
    {
      "cell_type": "code",
      "source": [
        "train_images, train_labels, test_images, test_labels = org_train_images, org_train_labels, org_test_images, org_test_labels"
      ],
      "metadata": {
        "id": "qYl13r1NPFpT"
      },
      "execution_count": 68,
      "outputs": []
    },
    {
      "cell_type": "code",
      "source": [
        "# changing the shape and size of the train images and storing in BAS\n",
        "BAS = []\n",
        "for img in train_images:\n",
        "    # using sickit image to rescale to (4,4)\n",
        "    img = rescale(img, 1/7, anti_aliasing=False)\n",
        "    img = img.reshape(4,4)\n",
        "    BAS.append(img)\n",
        "\n",
        "# changing the shape and size of the test images and storing in BAS_test\n",
        "BAS_test = []\n",
        "for img in test_images:\n",
        "    # using sickit image to rescale to (4,4)\n",
        "    img = rescale(img, 1/7, anti_aliasing=False)\n",
        "    img = img.reshape(4,4)\n",
        "    BAS_test.append(img)\n",
        "\n",
        "train_images = BAS[:]\n",
        "test_images = BAS_test[:]"
      ],
      "metadata": {
        "id": "I_2RG9kRPc_p"
      },
      "execution_count": 69,
      "outputs": []
    },
    {
      "cell_type": "code",
      "source": [
        "train_images = np.array(train_images)\n",
        "test_images = np.array(test_images)\n",
        "train_labels = np.array(train_labels)\n",
        "test_labels = np.array(test_labels)\n",
        "train_images.shape"
      ],
      "metadata": {
        "colab": {
          "base_uri": "https://localhost:8080/"
        },
        "id": "BtvDvew3PdHi",
        "outputId": "89bbf0af-0726-4e80-b3c5-51ac0929a76a"
      },
      "execution_count": 70,
      "outputs": [
        {
          "output_type": "execute_result",
          "data": {
            "text/plain": [
              "(300, 4, 4)"
            ]
          },
          "metadata": {},
          "execution_count": 70
        }
      ]
    },
    {
      "cell_type": "code",
      "source": [
        "# 16 used instead of 784 since 4*4 = 16\n",
        "train_data = train_images.reshape((len(train_images), 16))\n",
        "\n",
        "categories = np.array([3, 5])\n",
        "encoded_train_labels = np.zeros((len(train_labels), len(categories)))\n",
        "for i in range(len(train_labels)):\n",
        "  j = np.where(categories == train_labels[i])\n",
        "  encoded_train_labels[i, j] = 1\n",
        "\n",
        "# 16 used instead of 784 since 4*4 = 16\n",
        "test_data = test_images.reshape((len(test_labels), 16))\n",
        "\n",
        "categories = np.array([3, 5])\n",
        "encoded_test_labels = np.zeros((len(test_labels), len(categories)))\n",
        "for i in range(len(test_labels)):\n",
        "  j = np.where(categories == test_labels[i])\n",
        "  encoded_test_labels[i, j] = 1"
      ],
      "metadata": {
        "id": "ZYLtVgLTPdLn"
      },
      "execution_count": 71,
      "outputs": []
    },
    {
      "cell_type": "code",
      "source": [
        "model3 = Sequential()\n",
        "model3.add(Dense(10, activation='relu', input_shape=(16,)))\n",
        "model3.add(Dense(10, activation='relu'))\n",
        "model3.add(Dense(2, activation='sigmoid'))"
      ],
      "metadata": {
        "id": "84OAE5tLPdPi"
      },
      "execution_count": 72,
      "outputs": []
    },
    {
      "cell_type": "code",
      "source": [
        "model3.compile(optimizer='adam', loss='categorical_crossentropy', metrics=['accuracy'])"
      ],
      "metadata": {
        "id": "ogBRRmmfPdZO"
      },
      "execution_count": 73,
      "outputs": []
    },
    {
      "cell_type": "code",
      "source": [
        "model3.reset_states()\n",
        "model3.fit(train_data, encoded_train_labels, validation_split=0.2, epochs=10)"
      ],
      "metadata": {
        "colab": {
          "base_uri": "https://localhost:8080/"
        },
        "id": "-pg4mHUhQcwg",
        "outputId": "e5a1bf13-4cfe-4f46-e7fa-1072679526a4"
      },
      "execution_count": 74,
      "outputs": [
        {
          "output_type": "stream",
          "name": "stdout",
          "text": [
            "Epoch 1/10\n",
            "8/8 [==============================] - 1s 40ms/step - loss: 0.6751 - accuracy: 0.6208 - val_loss: 0.7464 - val_accuracy: 0.0167\n",
            "Epoch 2/10\n",
            "8/8 [==============================] - 0s 9ms/step - loss: 0.6659 - accuracy: 0.6208 - val_loss: 0.7643 - val_accuracy: 0.0000e+00\n",
            "Epoch 3/10\n",
            "8/8 [==============================] - 0s 10ms/step - loss: 0.6570 - accuracy: 0.6208 - val_loss: 0.7838 - val_accuracy: 0.0000e+00\n",
            "Epoch 4/10\n",
            "8/8 [==============================] - 0s 12ms/step - loss: 0.6469 - accuracy: 0.6208 - val_loss: 0.8013 - val_accuracy: 0.0000e+00\n",
            "Epoch 5/10\n",
            "8/8 [==============================] - 0s 11ms/step - loss: 0.6375 - accuracy: 0.6250 - val_loss: 0.8145 - val_accuracy: 0.0167\n",
            "Epoch 6/10\n",
            "8/8 [==============================] - 0s 11ms/step - loss: 0.6306 - accuracy: 0.6375 - val_loss: 0.8352 - val_accuracy: 0.0167\n",
            "Epoch 7/10\n",
            "8/8 [==============================] - 0s 10ms/step - loss: 0.6211 - accuracy: 0.6417 - val_loss: 0.8458 - val_accuracy: 0.0333\n",
            "Epoch 8/10\n",
            "8/8 [==============================] - 0s 7ms/step - loss: 0.6125 - accuracy: 0.6500 - val_loss: 0.8558 - val_accuracy: 0.0500\n",
            "Epoch 9/10\n",
            "8/8 [==============================] - 0s 9ms/step - loss: 0.6035 - accuracy: 0.6583 - val_loss: 0.8643 - val_accuracy: 0.0667\n",
            "Epoch 10/10\n",
            "8/8 [==============================] - 0s 7ms/step - loss: 0.5946 - accuracy: 0.6625 - val_loss: 0.8734 - val_accuracy: 0.1000\n"
          ]
        },
        {
          "output_type": "execute_result",
          "data": {
            "text/plain": [
              "<keras.src.callbacks.History at 0x78d4c0767730>"
            ]
          },
          "metadata": {},
          "execution_count": 74
        }
      ]
    },
    {
      "cell_type": "code",
      "source": [
        "model3.evaluate(test_data, encoded_test_labels)"
      ],
      "metadata": {
        "colab": {
          "base_uri": "https://localhost:8080/"
        },
        "id": "g5c8xX0-Qmj4",
        "outputId": "4f4cf9f0-376a-4e93-96ce-172e31ad2e9b"
      },
      "execution_count": 75,
      "outputs": [
        {
          "output_type": "stream",
          "name": "stdout",
          "text": [
            "2/2 [==============================] - 0s 9ms/step - loss: 0.6788 - accuracy: 0.5667\n"
          ]
        },
        {
          "output_type": "execute_result",
          "data": {
            "text/plain": [
              "[0.6787984371185303, 0.5666666626930237]"
            ]
          },
          "metadata": {},
          "execution_count": 75
        }
      ]
    }
  ]
}