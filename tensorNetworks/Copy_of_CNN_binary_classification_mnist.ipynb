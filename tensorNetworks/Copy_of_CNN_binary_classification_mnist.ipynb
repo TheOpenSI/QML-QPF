{
  "nbformat": 4,
  "nbformat_minor": 0,
  "metadata": {
    "colab": {
      "provenance": []
    },
    "kernelspec": {
      "name": "python3",
      "display_name": "Python 3"
    },
    "language_info": {
      "name": "python"
    }
  },
  "cells": [
    {
      "cell_type": "markdown",
      "source": [
        "<h2>Installing required packages</h2>"
      ],
      "metadata": {
        "id": "PSZueOCACbxz"
      }
    },
    {
      "cell_type": "code",
      "execution_count": 1,
      "metadata": {
        "colab": {
          "base_uri": "https://localhost:8080/"
        },
        "id": "KsdekKpZ6hpb",
        "outputId": "0210c449-fd25-4eea-b305-daa732488971"
      },
      "outputs": [
        {
          "output_type": "stream",
          "name": "stdout",
          "text": [
            "Requirement already satisfied: tensorflow in /usr/local/lib/python3.10/dist-packages (2.15.0)\n",
            "Requirement already satisfied: absl-py>=1.0.0 in /usr/local/lib/python3.10/dist-packages (from tensorflow) (1.4.0)\n",
            "Requirement already satisfied: astunparse>=1.6.0 in /usr/local/lib/python3.10/dist-packages (from tensorflow) (1.6.3)\n",
            "Requirement already satisfied: flatbuffers>=23.5.26 in /usr/local/lib/python3.10/dist-packages (from tensorflow) (24.3.25)\n",
            "Requirement already satisfied: gast!=0.5.0,!=0.5.1,!=0.5.2,>=0.2.1 in /usr/local/lib/python3.10/dist-packages (from tensorflow) (0.5.4)\n",
            "Requirement already satisfied: google-pasta>=0.1.1 in /usr/local/lib/python3.10/dist-packages (from tensorflow) (0.2.0)\n",
            "Requirement already satisfied: h5py>=2.9.0 in /usr/local/lib/python3.10/dist-packages (from tensorflow) (3.9.0)\n",
            "Requirement already satisfied: libclang>=13.0.0 in /usr/local/lib/python3.10/dist-packages (from tensorflow) (18.1.1)\n",
            "Requirement already satisfied: ml-dtypes~=0.2.0 in /usr/local/lib/python3.10/dist-packages (from tensorflow) (0.2.0)\n",
            "Requirement already satisfied: numpy<2.0.0,>=1.23.5 in /usr/local/lib/python3.10/dist-packages (from tensorflow) (1.25.2)\n",
            "Requirement already satisfied: opt-einsum>=2.3.2 in /usr/local/lib/python3.10/dist-packages (from tensorflow) (3.3.0)\n",
            "Requirement already satisfied: packaging in /usr/local/lib/python3.10/dist-packages (from tensorflow) (24.0)\n",
            "Requirement already satisfied: protobuf!=4.21.0,!=4.21.1,!=4.21.2,!=4.21.3,!=4.21.4,!=4.21.5,<5.0.0dev,>=3.20.3 in /usr/local/lib/python3.10/dist-packages (from tensorflow) (3.20.3)\n",
            "Requirement already satisfied: setuptools in /usr/local/lib/python3.10/dist-packages (from tensorflow) (67.7.2)\n",
            "Requirement already satisfied: six>=1.12.0 in /usr/local/lib/python3.10/dist-packages (from tensorflow) (1.16.0)\n",
            "Requirement already satisfied: termcolor>=1.1.0 in /usr/local/lib/python3.10/dist-packages (from tensorflow) (2.4.0)\n",
            "Requirement already satisfied: typing-extensions>=3.6.6 in /usr/local/lib/python3.10/dist-packages (from tensorflow) (4.11.0)\n",
            "Requirement already satisfied: wrapt<1.15,>=1.11.0 in /usr/local/lib/python3.10/dist-packages (from tensorflow) (1.14.1)\n",
            "Requirement already satisfied: tensorflow-io-gcs-filesystem>=0.23.1 in /usr/local/lib/python3.10/dist-packages (from tensorflow) (0.37.0)\n",
            "Requirement already satisfied: grpcio<2.0,>=1.24.3 in /usr/local/lib/python3.10/dist-packages (from tensorflow) (1.63.0)\n",
            "Requirement already satisfied: tensorboard<2.16,>=2.15 in /usr/local/lib/python3.10/dist-packages (from tensorflow) (2.15.2)\n",
            "Requirement already satisfied: tensorflow-estimator<2.16,>=2.15.0 in /usr/local/lib/python3.10/dist-packages (from tensorflow) (2.15.0)\n",
            "Requirement already satisfied: keras<2.16,>=2.15.0 in /usr/local/lib/python3.10/dist-packages (from tensorflow) (2.15.0)\n",
            "Requirement already satisfied: wheel<1.0,>=0.23.0 in /usr/local/lib/python3.10/dist-packages (from astunparse>=1.6.0->tensorflow) (0.43.0)\n",
            "Requirement already satisfied: google-auth<3,>=1.6.3 in /usr/local/lib/python3.10/dist-packages (from tensorboard<2.16,>=2.15->tensorflow) (2.27.0)\n",
            "Requirement already satisfied: google-auth-oauthlib<2,>=0.5 in /usr/local/lib/python3.10/dist-packages (from tensorboard<2.16,>=2.15->tensorflow) (1.2.0)\n",
            "Requirement already satisfied: markdown>=2.6.8 in /usr/local/lib/python3.10/dist-packages (from tensorboard<2.16,>=2.15->tensorflow) (3.6)\n",
            "Requirement already satisfied: requests<3,>=2.21.0 in /usr/local/lib/python3.10/dist-packages (from tensorboard<2.16,>=2.15->tensorflow) (2.31.0)\n",
            "Requirement already satisfied: tensorboard-data-server<0.8.0,>=0.7.0 in /usr/local/lib/python3.10/dist-packages (from tensorboard<2.16,>=2.15->tensorflow) (0.7.2)\n",
            "Requirement already satisfied: werkzeug>=1.0.1 in /usr/local/lib/python3.10/dist-packages (from tensorboard<2.16,>=2.15->tensorflow) (3.0.3)\n",
            "Requirement already satisfied: cachetools<6.0,>=2.0.0 in /usr/local/lib/python3.10/dist-packages (from google-auth<3,>=1.6.3->tensorboard<2.16,>=2.15->tensorflow) (5.3.3)\n",
            "Requirement already satisfied: pyasn1-modules>=0.2.1 in /usr/local/lib/python3.10/dist-packages (from google-auth<3,>=1.6.3->tensorboard<2.16,>=2.15->tensorflow) (0.4.0)\n",
            "Requirement already satisfied: rsa<5,>=3.1.4 in /usr/local/lib/python3.10/dist-packages (from google-auth<3,>=1.6.3->tensorboard<2.16,>=2.15->tensorflow) (4.9)\n",
            "Requirement already satisfied: requests-oauthlib>=0.7.0 in /usr/local/lib/python3.10/dist-packages (from google-auth-oauthlib<2,>=0.5->tensorboard<2.16,>=2.15->tensorflow) (1.3.1)\n",
            "Requirement already satisfied: charset-normalizer<4,>=2 in /usr/local/lib/python3.10/dist-packages (from requests<3,>=2.21.0->tensorboard<2.16,>=2.15->tensorflow) (3.3.2)\n",
            "Requirement already satisfied: idna<4,>=2.5 in /usr/local/lib/python3.10/dist-packages (from requests<3,>=2.21.0->tensorboard<2.16,>=2.15->tensorflow) (3.7)\n",
            "Requirement already satisfied: urllib3<3,>=1.21.1 in /usr/local/lib/python3.10/dist-packages (from requests<3,>=2.21.0->tensorboard<2.16,>=2.15->tensorflow) (2.0.7)\n",
            "Requirement already satisfied: certifi>=2017.4.17 in /usr/local/lib/python3.10/dist-packages (from requests<3,>=2.21.0->tensorboard<2.16,>=2.15->tensorflow) (2024.2.2)\n",
            "Requirement already satisfied: MarkupSafe>=2.1.1 in /usr/local/lib/python3.10/dist-packages (from werkzeug>=1.0.1->tensorboard<2.16,>=2.15->tensorflow) (2.1.5)\n",
            "Requirement already satisfied: pyasn1<0.7.0,>=0.4.6 in /usr/local/lib/python3.10/dist-packages (from pyasn1-modules>=0.2.1->google-auth<3,>=1.6.3->tensorboard<2.16,>=2.15->tensorflow) (0.6.0)\n",
            "Requirement already satisfied: oauthlib>=3.0.0 in /usr/local/lib/python3.10/dist-packages (from requests-oauthlib>=0.7.0->google-auth-oauthlib<2,>=0.5->tensorboard<2.16,>=2.15->tensorflow) (3.2.2)\n"
          ]
        }
      ],
      "source": [
        "!pip install tensorflow"
      ]
    },
    {
      "cell_type": "code",
      "source": [
        "!pip install keras"
      ],
      "metadata": {
        "colab": {
          "base_uri": "https://localhost:8080/"
        },
        "id": "qk_KA_OC6lKs",
        "outputId": "4376c23d-144c-4729-9779-cad079795f5b"
      },
      "execution_count": 2,
      "outputs": [
        {
          "output_type": "stream",
          "name": "stdout",
          "text": [
            "Requirement already satisfied: keras in /usr/local/lib/python3.10/dist-packages (2.15.0)\n"
          ]
        }
      ]
    },
    {
      "cell_type": "code",
      "source": [
        "!pip install matplotlib"
      ],
      "metadata": {
        "colab": {
          "base_uri": "https://localhost:8080/"
        },
        "id": "AJo-V1Tk6m-N",
        "outputId": "b2c06946-04f7-46ae-e63e-b3259a81cd0e"
      },
      "execution_count": 3,
      "outputs": [
        {
          "output_type": "stream",
          "name": "stdout",
          "text": [
            "Requirement already satisfied: matplotlib in /usr/local/lib/python3.10/dist-packages (3.7.1)\n",
            "Requirement already satisfied: contourpy>=1.0.1 in /usr/local/lib/python3.10/dist-packages (from matplotlib) (1.2.1)\n",
            "Requirement already satisfied: cycler>=0.10 in /usr/local/lib/python3.10/dist-packages (from matplotlib) (0.12.1)\n",
            "Requirement already satisfied: fonttools>=4.22.0 in /usr/local/lib/python3.10/dist-packages (from matplotlib) (4.51.0)\n",
            "Requirement already satisfied: kiwisolver>=1.0.1 in /usr/local/lib/python3.10/dist-packages (from matplotlib) (1.4.5)\n",
            "Requirement already satisfied: numpy>=1.20 in /usr/local/lib/python3.10/dist-packages (from matplotlib) (1.25.2)\n",
            "Requirement already satisfied: packaging>=20.0 in /usr/local/lib/python3.10/dist-packages (from matplotlib) (24.0)\n",
            "Requirement already satisfied: pillow>=6.2.0 in /usr/local/lib/python3.10/dist-packages (from matplotlib) (9.4.0)\n",
            "Requirement already satisfied: pyparsing>=2.3.1 in /usr/local/lib/python3.10/dist-packages (from matplotlib) (3.1.2)\n",
            "Requirement already satisfied: python-dateutil>=2.7 in /usr/local/lib/python3.10/dist-packages (from matplotlib) (2.8.2)\n",
            "Requirement already satisfied: six>=1.5 in /usr/local/lib/python3.10/dist-packages (from python-dateutil>=2.7->matplotlib) (1.16.0)\n"
          ]
        }
      ]
    },
    {
      "cell_type": "code",
      "source": [
        "!pip install pennylane --upgrade"
      ],
      "metadata": {
        "colab": {
          "base_uri": "https://localhost:8080/"
        },
        "id": "7cmmg5iD7HRZ",
        "outputId": "7dc64ef3-2a4f-4d32-a7fb-29affa80ddf1"
      },
      "execution_count": 4,
      "outputs": [
        {
          "output_type": "stream",
          "name": "stdout",
          "text": [
            "Requirement already satisfied: pennylane in /usr/local/lib/python3.10/dist-packages (0.36.0)\n",
            "Requirement already satisfied: numpy<2.0 in /usr/local/lib/python3.10/dist-packages (from pennylane) (1.25.2)\n",
            "Requirement already satisfied: scipy in /usr/local/lib/python3.10/dist-packages (from pennylane) (1.11.4)\n",
            "Requirement already satisfied: networkx in /usr/local/lib/python3.10/dist-packages (from pennylane) (3.3)\n",
            "Requirement already satisfied: rustworkx in /usr/local/lib/python3.10/dist-packages (from pennylane) (0.14.2)\n",
            "Requirement already satisfied: autograd in /usr/local/lib/python3.10/dist-packages (from pennylane) (1.6.2)\n",
            "Requirement already satisfied: toml in /usr/local/lib/python3.10/dist-packages (from pennylane) (0.10.2)\n",
            "Requirement already satisfied: appdirs in /usr/local/lib/python3.10/dist-packages (from pennylane) (1.4.4)\n",
            "Requirement already satisfied: semantic-version>=2.7 in /usr/local/lib/python3.10/dist-packages (from pennylane) (2.10.0)\n",
            "Requirement already satisfied: autoray>=0.6.1 in /usr/local/lib/python3.10/dist-packages (from pennylane) (0.6.10)\n",
            "Requirement already satisfied: cachetools in /usr/local/lib/python3.10/dist-packages (from pennylane) (5.3.3)\n",
            "Requirement already satisfied: pennylane-lightning>=0.36 in /usr/local/lib/python3.10/dist-packages (from pennylane) (0.36.0)\n",
            "Requirement already satisfied: requests in /usr/local/lib/python3.10/dist-packages (from pennylane) (2.31.0)\n",
            "Requirement already satisfied: typing-extensions in /usr/local/lib/python3.10/dist-packages (from pennylane) (4.11.0)\n",
            "Requirement already satisfied: future>=0.15.2 in /usr/local/lib/python3.10/dist-packages (from autograd->pennylane) (0.18.3)\n",
            "Requirement already satisfied: charset-normalizer<4,>=2 in /usr/local/lib/python3.10/dist-packages (from requests->pennylane) (3.3.2)\n",
            "Requirement already satisfied: idna<4,>=2.5 in /usr/local/lib/python3.10/dist-packages (from requests->pennylane) (3.7)\n",
            "Requirement already satisfied: urllib3<3,>=1.21.1 in /usr/local/lib/python3.10/dist-packages (from requests->pennylane) (2.0.7)\n",
            "Requirement already satisfied: certifi>=2017.4.17 in /usr/local/lib/python3.10/dist-packages (from requests->pennylane) (2024.2.2)\n"
          ]
        }
      ]
    },
    {
      "cell_type": "markdown",
      "source": [
        "<h2>Necessary imports</h2>"
      ],
      "metadata": {
        "id": "8u-1fZnzCh-F"
      }
    },
    {
      "cell_type": "code",
      "source": [
        "from keras.models import Sequential\n",
        "from keras.layers import Dense"
      ],
      "metadata": {
        "id": "R4l5kPpiCrBJ"
      },
      "execution_count": 5,
      "outputs": []
    },
    {
      "cell_type": "code",
      "source": [
        "from sklearn import metrics\n"
      ],
      "metadata": {
        "id": "ztGbxMxEEYpE"
      },
      "execution_count": 6,
      "outputs": []
    },
    {
      "cell_type": "code",
      "source": [
        "import json\n",
        "from Filters import *\n",
        "from Data_load import data_load\n",
        "import matplotlib.pyplot as plt\n",
        "\n",
        "import keras\n",
        "\n",
        "from utils import *\n",
        "\n",
        "import time\n",
        "\n",
        "## Import the images\n",
        "data = data_load()\n",
        "train_images, train_labels, test_images, test_labels = data.data_mnist()"
      ],
      "metadata": {
        "colab": {
          "base_uri": "https://localhost:8080/"
        },
        "id": "dvFISRn66rG8",
        "outputId": "7f231be3-a441-4f93-8bfe-ac4083612427"
      },
      "execution_count": 7,
      "outputs": [
        {
          "output_type": "stream",
          "name": "stdout",
          "text": [
            "6000\n"
          ]
        }
      ]
    },
    {
      "cell_type": "code",
      "source": [
        "print(\"shape of train images\", train_images[0].shape)\n",
        "print(\"shape of test images\", test_images[0].shape)"
      ],
      "metadata": {
        "colab": {
          "base_uri": "https://localhost:8080/"
        },
        "id": "X7kCaPsc7C4U",
        "outputId": "6ad50b7c-50d1-46dd-b0e5-c116a6071ce0"
      },
      "execution_count": 8,
      "outputs": [
        {
          "output_type": "stream",
          "name": "stdout",
          "text": [
            "shape of train images (28, 28, 1)\n",
            "shape of test images (28, 28, 1)\n"
          ]
        }
      ]
    },
    {
      "cell_type": "code",
      "source": [
        "print(\"length of train images\", len(train_images))\n",
        "print(\"length of test images\", len(test_images))"
      ],
      "metadata": {
        "colab": {
          "base_uri": "https://localhost:8080/"
        },
        "id": "rqb0Uzy57VgG",
        "outputId": "51524160-fe6e-42b1-f8c0-bb0b7981da9a"
      },
      "execution_count": 9,
      "outputs": [
        {
          "output_type": "stream",
          "name": "stdout",
          "text": [
            "length of train images 6000\n",
            "length of test images 1000\n"
          ]
        }
      ]
    },
    {
      "cell_type": "markdown",
      "source": [
        "<h2>Using 28x28 images</h2>"
      ],
      "metadata": {
        "id": "dSfowocZCv8s"
      }
    },
    {
      "cell_type": "code",
      "source": [
        "# This function returns the modified dataset\n",
        "# It is a script to get a dataset of 2 labels only\n",
        "def trainTestData(train_images, train_labels, test_images, test_labels, label1, label2, n_train, n_test):\n",
        "    n_train_images, n_train_labels, n_test_images, n_test_labels = [], [], [], []\n",
        "    i = 0\n",
        "    while (n_train > 0 and i < len(train_images)):\n",
        "        if train_labels[i] == label1:\n",
        "            n_train_images.append(train_images[i])\n",
        "            n_train_labels.append(label1)\n",
        "            n_train -= 1\n",
        "        if train_labels[i] == label2:\n",
        "            n_train_images.append(train_images[i])\n",
        "            n_train_labels.append(label2)\n",
        "            n_train -= 1\n",
        "        i = i+1\n",
        "    i = 0\n",
        "    while(n_test>0 and i < len(test_images)):\n",
        "        if test_labels[i] == label1:\n",
        "            n_test_images.append(test_images[i])\n",
        "            n_test_labels.append(label1)\n",
        "            n_test -= 1\n",
        "        if test_labels[i] == label2:\n",
        "            n_test_images.append(test_images[i])\n",
        "            n_test_labels.append(label2)\n",
        "            n_test -= 1\n",
        "        i = i+1\n",
        "    return n_train_images, n_train_labels, n_test_images, n_test_labels"
      ],
      "metadata": {
        "id": "bhMek0rj7Y46"
      },
      "execution_count": 10,
      "outputs": []
    },
    {
      "cell_type": "code",
      "source": [
        "# getting a dataset of numbers 3 and 5 with train dataset of 80 and test dataset of 35\n",
        "train_images, train_labels, test_images, test_labels = trainTestData(train_images, train_labels, test_images, test_labels, 3, 5, 80, 35)"
      ],
      "metadata": {
        "id": "harfMhNb7ZI7"
      },
      "execution_count": 11,
      "outputs": []
    },
    {
      "cell_type": "code",
      "source": [
        "# this functions makes the train dataset balanced\n",
        "# number of images for number 3 same as that for number 5\n",
        "def balanceDataSet(BAS, train_labels):\n",
        "    new_train_images_3 = []\n",
        "    new_train_images_5 = []\n",
        "\n",
        "    new_train_labels_3 = []\n",
        "    new_train_labels_5 = []\n",
        "\n",
        "    for i in range(len(BAS)):\n",
        "      if train_labels[i] == 3:\n",
        "        new_train_images_3.append(BAS[i])\n",
        "        new_train_labels_3.append(3)\n",
        "      else:\n",
        "        new_train_images_5.append(BAS[i])\n",
        "        new_train_labels_5.append(5)\n",
        "    return new_train_images_3[0:30] + new_train_images_5[0:30], new_train_labels_3[0:30] + new_train_labels_5[0:30]"
      ],
      "metadata": {
        "id": "7-gEvUkC7wLB"
      },
      "execution_count": 12,
      "outputs": []
    },
    {
      "cell_type": "code",
      "source": [
        "train_images, train_labels = balanceDataSet(train_images, train_labels)\n",
        "# to have a fair comparison of performance\n",
        "org_train_images, org_train_labels, org_test_images, org_test_labels = train_images, train_labels, test_images, test_labels"
      ],
      "metadata": {
        "id": "QHBYz3_U7wRw"
      },
      "execution_count": 13,
      "outputs": []
    },
    {
      "cell_type": "code",
      "source": [
        "print(\"length of train images\", len(train_images))\n",
        "print(\"length of test images\", len(test_images))"
      ],
      "metadata": {
        "colab": {
          "base_uri": "https://localhost:8080/"
        },
        "id": "xoXbfaIk7wXO",
        "outputId": "0e7500b6-687b-4944-d765-62391b3bdca7"
      },
      "execution_count": 14,
      "outputs": [
        {
          "output_type": "stream",
          "name": "stdout",
          "text": [
            "length of train images 60\n",
            "length of test images 35\n"
          ]
        }
      ]
    },
    {
      "cell_type": "code",
      "source": [
        "train_images = np.array(train_images)\n",
        "test_images = np.array(test_images)\n",
        "train_labels = np.array(train_labels)\n",
        "test_labels = np.array(test_labels)\n",
        "train_images.shape"
      ],
      "metadata": {
        "colab": {
          "base_uri": "https://localhost:8080/"
        },
        "id": "bNTZWeJI7wld",
        "outputId": "fee7ab6b-8795-4a54-d054-9b4a54985b45"
      },
      "execution_count": 15,
      "outputs": [
        {
          "output_type": "execute_result",
          "data": {
            "text/plain": [
              "(60, 28, 28, 1)"
            ]
          },
          "metadata": {},
          "execution_count": 15
        }
      ]
    },
    {
      "cell_type": "code",
      "source": [
        "model = Sequential()\n",
        "# 784 is 28*28\n",
        "# 10 is the number of neurons\n",
        "model.add(Dense(10, activation='relu', input_shape=(784,)))\n",
        "model.add(Dense(10, activation='relu'))\n",
        "# sigmoid activation used for binary classification\n",
        "model.add(Dense(2, activation='sigmoid'))"
      ],
      "metadata": {
        "id": "RfsVfSQI7w58"
      },
      "execution_count": 16,
      "outputs": []
    },
    {
      "cell_type": "code",
      "source": [
        "model.compile(optimizer='adam', loss='categorical_crossentropy', metrics=['accuracy'])"
      ],
      "metadata": {
        "id": "sS_k3tzJ7w86"
      },
      "execution_count": 17,
      "outputs": []
    },
    {
      "cell_type": "code",
      "source": [
        "# changing data shape from (28, 28) t0 (784, )\n",
        "train_data = train_images.reshape((60, 784))\n",
        "\n",
        "#encoding train labels using one-hot encoding\n",
        "categories = np.array([3, 5])\n",
        "encoded_train_labels = np.zeros((len(train_labels), len(categories)))\n",
        "for i in range(len(train_labels)):\n",
        "  j = np.where(categories == train_labels[i])\n",
        "  encoded_train_labels[i, j] = 1"
      ],
      "metadata": {
        "id": "emXWJOCf7xBU"
      },
      "execution_count": 18,
      "outputs": []
    },
    {
      "cell_type": "code",
      "source": [
        "model.reset_states()\n",
        "model.fit(train_data, encoded_train_labels, validation_split=0.2, epochs=10)"
      ],
      "metadata": {
        "id": "36-GZ1Z37xEF",
        "colab": {
          "base_uri": "https://localhost:8080/"
        },
        "outputId": "4cae68bc-7a7b-4dce-9b4b-2bcc1966cea8"
      },
      "execution_count": 19,
      "outputs": [
        {
          "output_type": "stream",
          "name": "stdout",
          "text": [
            "Epoch 1/10\n",
            "2/2 [==============================] - 1s 326ms/step - loss: 0.6514 - accuracy: 0.6250 - val_loss: 0.8272 - val_accuracy: 0.0833\n",
            "Epoch 2/10\n",
            "2/2 [==============================] - 0s 47ms/step - loss: 0.6069 - accuracy: 0.6250 - val_loss: 0.8420 - val_accuracy: 0.0833\n",
            "Epoch 3/10\n",
            "2/2 [==============================] - 0s 105ms/step - loss: 0.5725 - accuracy: 0.6458 - val_loss: 0.8716 - val_accuracy: 0.0000e+00\n",
            "Epoch 4/10\n",
            "2/2 [==============================] - 0s 66ms/step - loss: 0.5427 - accuracy: 0.6667 - val_loss: 0.8921 - val_accuracy: 0.0000e+00\n",
            "Epoch 5/10\n",
            "2/2 [==============================] - 0s 80ms/step - loss: 0.5155 - accuracy: 0.6875 - val_loss: 0.9111 - val_accuracy: 0.0000e+00\n",
            "Epoch 6/10\n",
            "2/2 [==============================] - 0s 76ms/step - loss: 0.4902 - accuracy: 0.7292 - val_loss: 0.9202 - val_accuracy: 0.0000e+00\n",
            "Epoch 7/10\n",
            "2/2 [==============================] - 0s 65ms/step - loss: 0.4676 - accuracy: 0.7917 - val_loss: 0.9228 - val_accuracy: 0.0000e+00\n",
            "Epoch 8/10\n",
            "2/2 [==============================] - 0s 70ms/step - loss: 0.4433 - accuracy: 0.7917 - val_loss: 0.9224 - val_accuracy: 0.0833\n",
            "Epoch 9/10\n",
            "2/2 [==============================] - 0s 40ms/step - loss: 0.4230 - accuracy: 0.8333 - val_loss: 0.9226 - val_accuracy: 0.2500\n",
            "Epoch 10/10\n",
            "2/2 [==============================] - 0s 40ms/step - loss: 0.4030 - accuracy: 0.8333 - val_loss: 0.9246 - val_accuracy: 0.2500\n"
          ]
        },
        {
          "output_type": "execute_result",
          "data": {
            "text/plain": [
              "<keras.src.callbacks.History at 0x7ac49d0536a0>"
            ]
          },
          "metadata": {},
          "execution_count": 19
        }
      ]
    },
    {
      "cell_type": "code",
      "source": [
        "# changing data shape from (28, 28) t0 (784, )\n",
        "test_data = test_images.reshape((len(test_labels), 784))\n",
        "\n",
        "# encoding test labels using one-hot encoding\n",
        "categories = np.array([3, 5])\n",
        "encoded_test_labels = np.zeros((len(test_labels), len(categories)))\n",
        "for i in range(len(test_labels)):\n",
        "  j = np.where(categories == test_labels[i])\n",
        "  encoded_test_labels[i, j] = 1"
      ],
      "metadata": {
        "id": "3aKffoQg91ak"
      },
      "execution_count": 20,
      "outputs": []
    },
    {
      "cell_type": "code",
      "source": [
        "model.evaluate(test_data, encoded_test_labels)"
      ],
      "metadata": {
        "colab": {
          "base_uri": "https://localhost:8080/"
        },
        "id": "nwJLS2yK_h42",
        "outputId": "2f70b7b2-8226-44ab-c1f9-8026a05c8371"
      },
      "execution_count": 21,
      "outputs": [
        {
          "output_type": "stream",
          "name": "stdout",
          "text": [
            "2/2 [==============================] - 0s 7ms/step - loss: 0.6756 - accuracy: 0.6000\n"
          ]
        },
        {
          "output_type": "execute_result",
          "data": {
            "text/plain": [
              "[0.6755664944648743, 0.6000000238418579]"
            ]
          },
          "metadata": {},
          "execution_count": 21
        }
      ]
    },
    {
      "cell_type": "code",
      "source": [
        "predicted = model.predict(test_data)\n",
        "predicted"
      ],
      "metadata": {
        "colab": {
          "base_uri": "https://localhost:8080/"
        },
        "id": "NK3zeLy1F5js",
        "outputId": "b1cd5602-5872-469a-8533-99ba1e835910"
      },
      "execution_count": 22,
      "outputs": [
        {
          "output_type": "stream",
          "name": "stdout",
          "text": [
            "2/2 [==============================] - 0s 4ms/step\n"
          ]
        },
        {
          "output_type": "execute_result",
          "data": {
            "text/plain": [
              "array([[0.27734378, 0.30535358],\n",
              "       [0.6295132 , 0.35980883],\n",
              "       [0.6698069 , 0.19054408],\n",
              "       [0.34620476, 0.33281693],\n",
              "       [0.648744  , 0.26224458],\n",
              "       [0.6286365 , 0.2548647 ],\n",
              "       [0.5376157 , 0.347593  ],\n",
              "       [0.46365857, 0.3114888 ],\n",
              "       [0.62262326, 0.16585965],\n",
              "       [0.2992922 , 0.2809639 ],\n",
              "       [0.51064026, 0.40471   ],\n",
              "       [0.3784774 , 0.38932922],\n",
              "       [0.4949605 , 0.32660776],\n",
              "       [0.5524255 , 0.2688919 ],\n",
              "       [0.6179524 , 0.33268133],\n",
              "       [0.61796993, 0.279222  ],\n",
              "       [0.67918026, 0.3037739 ],\n",
              "       [0.6231152 , 0.20163053],\n",
              "       [0.4195787 , 0.27355427],\n",
              "       [0.44293156, 0.33457854],\n",
              "       [0.65076715, 0.22650471],\n",
              "       [0.23885763, 0.26846334],\n",
              "       [0.30575523, 0.27949044],\n",
              "       [0.48719233, 0.17950593],\n",
              "       [0.6415527 , 0.2808504 ],\n",
              "       [0.3230934 , 0.34346452],\n",
              "       [0.48923168, 0.37632033],\n",
              "       [0.25025585, 0.27062172],\n",
              "       [0.56161666, 0.32995626],\n",
              "       [0.32797948, 0.271203  ],\n",
              "       [0.58661884, 0.2907206 ],\n",
              "       [0.49236494, 0.3301485 ],\n",
              "       [0.53987885, 0.34968078],\n",
              "       [0.28503716, 0.31198773],\n",
              "       [0.5196431 , 0.30157253]], dtype=float32)"
            ]
          },
          "metadata": {},
          "execution_count": 22
        }
      ]
    },
    {
      "cell_type": "markdown",
      "source": [
        "<h2>Using 4x4 images (quantum filter)</h2>"
      ],
      "metadata": {
        "id": "tVDj9VFJ_4RP"
      }
    },
    {
      "cell_type": "code",
      "source": [
        "train_images, train_labels, test_images, test_labels = org_train_images, org_train_labels, org_test_images, org_test_labels"
      ],
      "metadata": {
        "id": "PRCahmk__2vW"
      },
      "execution_count": 23,
      "outputs": []
    },
    {
      "cell_type": "code",
      "source": [
        "# Applying the quantum filter for the first time\n",
        "# (28, 28) to (14, 14) image\n",
        "start_time = time.time()\n",
        "\n",
        "filtered_train_images = apply_filter(train_images, 6, data.n_channels, data.n_layers, True)\n",
        "filtered_test_images = apply_filter(test_images, 6, data.n_channels, data.n_layers, True)\n",
        "\n",
        "end_time = time.time()\n",
        "\n",
        "time_taken = end_time - start_time\n",
        "\n",
        "print(time_taken/60, \" minutes\")"
      ],
      "metadata": {
        "colab": {
          "base_uri": "https://localhost:8080/"
        },
        "id": "XVjcERsCAGpw",
        "outputId": "6eb232c9-45a7-4f5c-db3a-ff087f6ef9b6"
      },
      "execution_count": 24,
      "outputs": [
        {
          "output_type": "stream",
          "name": "stdout",
          "text": [
            "fitlered pre-processing of images, with type = 6\n",
            "fitlered pre-processing of images, with type = 6\n",
            "1.591624395052592  minutes\n"
          ]
        }
      ]
    },
    {
      "cell_type": "code",
      "source": [
        "train_images = filtered_train_images\n",
        "test_images = filtered_test_images"
      ],
      "metadata": {
        "id": "UDZmnnlzAGx8"
      },
      "execution_count": 25,
      "outputs": []
    },
    {
      "cell_type": "code",
      "source": [
        "print(\"shape of train images\", train_images[0].shape)\n",
        "print(\"shape of test images\", test_images[0].shape)"
      ],
      "metadata": {
        "colab": {
          "base_uri": "https://localhost:8080/"
        },
        "id": "1ZOXF6yPAG1U",
        "outputId": "1fcf50e1-a169-45ab-abb8-618c7a504345"
      },
      "execution_count": 26,
      "outputs": [
        {
          "output_type": "stream",
          "name": "stdout",
          "text": [
            "shape of train images (14, 14, 1)\n",
            "shape of test images (14, 14, 1)\n"
          ]
        }
      ]
    },
    {
      "cell_type": "code",
      "source": [
        "# Applying the quantum filter for the second time\n",
        "# (14, 14) to (7,7) image\n",
        "start_time = time.time()\n",
        "\n",
        "filtered_train_images = apply_filter(train_images, 6, data.n_channels, data.n_layers, True)\n",
        "filtered_test_images = apply_filter(test_images, 6, data.n_channels, data.n_layers, True)\n",
        "\n",
        "end_time = time.time()\n",
        "\n",
        "time_taken = end_time - start_time\n",
        "\n",
        "print(time_taken/60, \" minutes\")"
      ],
      "metadata": {
        "colab": {
          "base_uri": "https://localhost:8080/"
        },
        "id": "F4xBK8AUAG4I",
        "outputId": "aca88fd1-4e15-4f1e-e88c-ace7c14fc6f3"
      },
      "execution_count": 27,
      "outputs": [
        {
          "output_type": "stream",
          "name": "stdout",
          "text": [
            "fitlered pre-processing of images, with type = 6\n",
            "fitlered pre-processing of images, with type = 6\n",
            "0.392350705464681  minutes\n"
          ]
        }
      ]
    },
    {
      "cell_type": "code",
      "source": [
        "train_images = filtered_train_images\n",
        "test_images = filtered_test_images"
      ],
      "metadata": {
        "id": "bT-8Un-AA4bN"
      },
      "execution_count": 28,
      "outputs": []
    },
    {
      "cell_type": "code",
      "source": [
        "print(\"shape of train images\", train_images[0].shape)\n",
        "print(\"shape of test images\", test_images[0].shape)"
      ],
      "metadata": {
        "colab": {
          "base_uri": "https://localhost:8080/"
        },
        "id": "5JpOKou0AG6x",
        "outputId": "8d23c5a7-b082-4cb4-f5a2-600df9317fa1"
      },
      "execution_count": 29,
      "outputs": [
        {
          "output_type": "stream",
          "name": "stdout",
          "text": [
            "shape of train images (7, 7, 1)\n",
            "shape of test images (7, 7, 1)\n"
          ]
        }
      ]
    },
    {
      "cell_type": "code",
      "source": [
        "# function to perform max pooling using keras\n",
        "def conv(train_images, test_images):\n",
        "\n",
        "    new_train_images, new_test_images = [], []\n",
        "\n",
        "    for img in train_images:\n",
        "        img = np.reshape(img, [1, 7, 7, 1])\n",
        "        max_pool_2d = keras.layers.MaxPooling2D(pool_size=(1, 1), strides=(2, 2), padding=\"valid\")\n",
        "        new_train_images.append(np.reshape(max_pool_2d(img), [4, 4]))\n",
        "\n",
        "    for img in test_images:\n",
        "        img = np.reshape(img, [1, 7, 7, 1])\n",
        "        max_pool_2d = keras.layers.MaxPooling2D(pool_size=(1, 1), strides=(2, 2), padding=\"valid\")\n",
        "        new_test_images.append(np.reshape(max_pool_2d(img), [4, 4]))\n",
        "    return new_train_images, new_test_images"
      ],
      "metadata": {
        "id": "VhcL0JdpAHFR"
      },
      "execution_count": 30,
      "outputs": []
    },
    {
      "cell_type": "code",
      "source": [
        "train_images, test_images = conv(train_images, test_images)"
      ],
      "metadata": {
        "id": "fZ4KO608AHIg"
      },
      "execution_count": 31,
      "outputs": []
    },
    {
      "cell_type": "code",
      "source": [
        "train_images = np.array(train_images)\n",
        "test_images = np.array(test_images)\n",
        "train_labels = np.array(train_labels)\n",
        "test_labels = np.array(test_labels)\n",
        "train_images.shape"
      ],
      "metadata": {
        "colab": {
          "base_uri": "https://localhost:8080/"
        },
        "id": "qzCsLO4JBBqP",
        "outputId": "a00b4cd4-ce28-44b6-89a0-572e54e3e07b"
      },
      "execution_count": 32,
      "outputs": [
        {
          "output_type": "execute_result",
          "data": {
            "text/plain": [
              "(60, 4, 4)"
            ]
          },
          "metadata": {},
          "execution_count": 32
        }
      ]
    },
    {
      "cell_type": "code",
      "source": [
        "# 16 used instead of 784 since 4*4 = 16\n",
        "train_data = train_images.reshape((60, 16))\n",
        "\n",
        "categories = np.array([3, 5])\n",
        "encoded_train_labels = np.zeros((len(train_labels), len(categories)))\n",
        "for i in range(len(train_labels)):\n",
        "  j = np.where(categories == train_labels[i])\n",
        "  encoded_train_labels[i, j] = 1"
      ],
      "metadata": {
        "id": "w4KaXYhdBIYm"
      },
      "execution_count": 33,
      "outputs": []
    },
    {
      "cell_type": "code",
      "source": [
        "model2 = Sequential()\n",
        "model2.add(Dense(10, activation='relu', input_shape=(16,)))\n",
        "model2.add(Dense(10, activation='relu'))\n",
        "model2.add(Dense(2, activation='sigmoid'))"
      ],
      "metadata": {
        "id": "grIMuMJ6BKCM"
      },
      "execution_count": 34,
      "outputs": []
    },
    {
      "cell_type": "code",
      "source": [
        "model2.compile(optimizer='adam', loss='categorical_crossentropy', metrics=['accuracy'])"
      ],
      "metadata": {
        "id": "WXrRUkqdBKGB"
      },
      "execution_count": 35,
      "outputs": []
    },
    {
      "cell_type": "code",
      "source": [
        "model2.reset_states()\n",
        "model2.fit(train_data, encoded_train_labels, validation_split=0.2, epochs=10)"
      ],
      "metadata": {
        "colab": {
          "base_uri": "https://localhost:8080/"
        },
        "id": "Jl7NZL8ABKI_",
        "outputId": "4a3eb8c5-d80d-47d3-b0ee-9c89c049392b"
      },
      "execution_count": 36,
      "outputs": [
        {
          "output_type": "stream",
          "name": "stdout",
          "text": [
            "Epoch 1/10\n",
            "2/2 [==============================] - 1s 267ms/step - loss: 0.8494 - accuracy: 0.4167 - val_loss: 0.4454 - val_accuracy: 0.9167\n",
            "Epoch 2/10\n",
            "2/2 [==============================] - 0s 72ms/step - loss: 0.8292 - accuracy: 0.4167 - val_loss: 0.4609 - val_accuracy: 0.8333\n",
            "Epoch 3/10\n",
            "2/2 [==============================] - 0s 42ms/step - loss: 0.8129 - accuracy: 0.4375 - val_loss: 0.4772 - val_accuracy: 0.8333\n",
            "Epoch 4/10\n",
            "2/2 [==============================] - 0s 43ms/step - loss: 0.7976 - accuracy: 0.4583 - val_loss: 0.4942 - val_accuracy: 0.8333\n",
            "Epoch 5/10\n",
            "2/2 [==============================] - 0s 44ms/step - loss: 0.7807 - accuracy: 0.4583 - val_loss: 0.5109 - val_accuracy: 0.8333\n",
            "Epoch 6/10\n",
            "2/2 [==============================] - 0s 46ms/step - loss: 0.7653 - accuracy: 0.4792 - val_loss: 0.5280 - val_accuracy: 0.8333\n",
            "Epoch 7/10\n",
            "2/2 [==============================] - 0s 56ms/step - loss: 0.7521 - accuracy: 0.5208 - val_loss: 0.5460 - val_accuracy: 0.8333\n",
            "Epoch 8/10\n",
            "2/2 [==============================] - 0s 42ms/step - loss: 0.7401 - accuracy: 0.5208 - val_loss: 0.5634 - val_accuracy: 0.6667\n",
            "Epoch 9/10\n",
            "2/2 [==============================] - 0s 61ms/step - loss: 0.7291 - accuracy: 0.5000 - val_loss: 0.5808 - val_accuracy: 0.6667\n",
            "Epoch 10/10\n",
            "2/2 [==============================] - 0s 57ms/step - loss: 0.7206 - accuracy: 0.5208 - val_loss: 0.5978 - val_accuracy: 0.6667\n"
          ]
        },
        {
          "output_type": "execute_result",
          "data": {
            "text/plain": [
              "<keras.src.callbacks.History at 0x7ac498265a20>"
            ]
          },
          "metadata": {},
          "execution_count": 36
        }
      ]
    },
    {
      "cell_type": "code",
      "source": [
        "# 16 used instead of 784 since 4*4 = 16\n",
        "test_data = test_images.reshape((len(test_labels), 16))\n",
        "\n",
        "categories = np.array([3, 5])\n",
        "encoded_test_labels = np.zeros((len(test_labels), len(categories)))\n",
        "for i in range(len(test_labels)):\n",
        "  j = np.where(categories == test_labels[i])\n",
        "  encoded_test_labels[i, j] = 1"
      ],
      "metadata": {
        "id": "Ko6MecNiBhzh"
      },
      "execution_count": 37,
      "outputs": []
    },
    {
      "cell_type": "code",
      "source": [
        "model2.evaluate(test_data, encoded_test_labels)"
      ],
      "metadata": {
        "colab": {
          "base_uri": "https://localhost:8080/"
        },
        "id": "FC3IgnYdBh4y",
        "outputId": "cb78d7fb-9b26-4079-9643-4f0af1bfccca"
      },
      "execution_count": 38,
      "outputs": [
        {
          "output_type": "stream",
          "name": "stdout",
          "text": [
            "2/2 [==============================] - 0s 10ms/step - loss: 0.6949 - accuracy: 0.5714\n"
          ]
        },
        {
          "output_type": "execute_result",
          "data": {
            "text/plain": [
              "[0.6949045062065125, 0.5714285969734192]"
            ]
          },
          "metadata": {},
          "execution_count": 38
        }
      ]
    }
  ]
}