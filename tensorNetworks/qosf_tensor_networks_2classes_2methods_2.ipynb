{
  "cells": [
    {
      "cell_type": "markdown",
      "source": [
        "<h2>Outline:</h2>\n",
        "\n",
        "*   Necessary installation and imports\n",
        "*   Using the 3 CNOTS filter\n",
        "*   Using sickit image rescale\n",
        "\n"
      ],
      "metadata": {
        "id": "m3hSQHmCyvyI"
      },
      "id": "m3hSQHmCyvyI"
    },
    {
      "cell_type": "markdown",
      "source": [
        "<h2>1. Necessary installation and imports</h2>"
      ],
      "metadata": {
        "id": "F31s_WSTzF5Z"
      },
      "id": "F31s_WSTzF5Z"
    },
    {
      "cell_type": "code",
      "source": [
        "!pip install tensorflow"
      ],
      "metadata": {
        "id": "ZtA1z0VP8e1Z"
      },
      "id": "ZtA1z0VP8e1Z",
      "execution_count": null,
      "outputs": []
    },
    {
      "cell_type": "code",
      "source": [
        "!pip install keras"
      ],
      "metadata": {
        "id": "UbbgKd3x8gvg",
        "colab": {
          "base_uri": "https://localhost:8080/"
        },
        "outputId": "8cccc4df-5727-4a3c-a33f-9811c62c086e"
      },
      "id": "UbbgKd3x8gvg",
      "execution_count": 2,
      "outputs": [
        {
          "output_type": "stream",
          "name": "stdout",
          "text": [
            "Requirement already satisfied: keras in /usr/local/lib/python3.10/dist-packages (2.15.0)\n"
          ]
        }
      ]
    },
    {
      "cell_type": "code",
      "source": [
        "!pip install pennylane --upgrade"
      ],
      "metadata": {
        "colab": {
          "base_uri": "https://localhost:8080/"
        },
        "id": "N6o00nTY8g72",
        "outputId": "17a5e643-6d61-4d31-c2f4-0505a2b41549"
      },
      "id": "N6o00nTY8g72",
      "execution_count": 3,
      "outputs": [
        {
          "output_type": "stream",
          "name": "stdout",
          "text": [
            "Requirement already satisfied: pennylane in /usr/local/lib/python3.10/dist-packages (0.36.0)\n",
            "Requirement already satisfied: numpy<2.0 in /usr/local/lib/python3.10/dist-packages (from pennylane) (1.25.2)\n",
            "Requirement already satisfied: scipy in /usr/local/lib/python3.10/dist-packages (from pennylane) (1.11.4)\n",
            "Requirement already satisfied: networkx in /usr/local/lib/python3.10/dist-packages (from pennylane) (3.3)\n",
            "Requirement already satisfied: rustworkx in /usr/local/lib/python3.10/dist-packages (from pennylane) (0.14.2)\n",
            "Requirement already satisfied: autograd in /usr/local/lib/python3.10/dist-packages (from pennylane) (1.6.2)\n",
            "Requirement already satisfied: toml in /usr/local/lib/python3.10/dist-packages (from pennylane) (0.10.2)\n",
            "Requirement already satisfied: appdirs in /usr/local/lib/python3.10/dist-packages (from pennylane) (1.4.4)\n",
            "Requirement already satisfied: semantic-version>=2.7 in /usr/local/lib/python3.10/dist-packages (from pennylane) (2.10.0)\n",
            "Requirement already satisfied: autoray>=0.6.1 in /usr/local/lib/python3.10/dist-packages (from pennylane) (0.6.9)\n",
            "Requirement already satisfied: cachetools in /usr/local/lib/python3.10/dist-packages (from pennylane) (5.3.3)\n",
            "Requirement already satisfied: pennylane-lightning>=0.36 in /usr/local/lib/python3.10/dist-packages (from pennylane) (0.36.0)\n",
            "Requirement already satisfied: requests in /usr/local/lib/python3.10/dist-packages (from pennylane) (2.31.0)\n",
            "Requirement already satisfied: typing-extensions in /usr/local/lib/python3.10/dist-packages (from pennylane) (4.11.0)\n",
            "Requirement already satisfied: future>=0.15.2 in /usr/local/lib/python3.10/dist-packages (from autograd->pennylane) (0.18.3)\n",
            "Requirement already satisfied: charset-normalizer<4,>=2 in /usr/local/lib/python3.10/dist-packages (from requests->pennylane) (3.3.2)\n",
            "Requirement already satisfied: idna<4,>=2.5 in /usr/local/lib/python3.10/dist-packages (from requests->pennylane) (3.7)\n",
            "Requirement already satisfied: urllib3<3,>=1.21.1 in /usr/local/lib/python3.10/dist-packages (from requests->pennylane) (2.0.7)\n",
            "Requirement already satisfied: certifi>=2017.4.17 in /usr/local/lib/python3.10/dist-packages (from requests->pennylane) (2024.2.2)\n"
          ]
        }
      ]
    },
    {
      "cell_type": "code",
      "source": [
        "import pennylane as qml\n",
        "from pennylane import numpy as np"
      ],
      "metadata": {
        "id": "7Q5bptEykFja"
      },
      "id": "7Q5bptEykFja",
      "execution_count": 4,
      "outputs": []
    },
    {
      "cell_type": "code",
      "source": [
        "import keras\n",
        "from keras.models import Sequential,Model\n",
        "from keras.layers import Dense, Dropout, Flatten\n",
        "from keras.layers import Conv2D, MaxPooling2D"
      ],
      "metadata": {
        "id": "3nKHthsoi3c4"
      },
      "id": "3nKHthsoi3c4",
      "execution_count": 5,
      "outputs": []
    },
    {
      "cell_type": "code",
      "source": [
        "from skimage import data, color\n",
        "from skimage.transform import rescale, resize, downscale_local_mean"
      ],
      "metadata": {
        "id": "UY6uaqUNxQDs"
      },
      "id": "UY6uaqUNxQDs",
      "execution_count": 6,
      "outputs": []
    },
    {
      "cell_type": "code",
      "source": [
        "from sklearn import metrics"
      ],
      "metadata": {
        "id": "GGtZi65c5mxi"
      },
      "id": "GGtZi65c5mxi",
      "execution_count": 7,
      "outputs": []
    },
    {
      "cell_type": "code",
      "execution_count": 8,
      "id": "0ea69da8-5eab-4b20-96e2-6dd54edcff4c",
      "metadata": {
        "id": "0ea69da8-5eab-4b20-96e2-6dd54edcff4c",
        "outputId": "b83dc8a4-6c7a-4bac-cd96-28ea0c7c52ea",
        "colab": {
          "base_uri": "https://localhost:8080/"
        }
      },
      "outputs": [
        {
          "output_type": "stream",
          "name": "stdout",
          "text": [
            "6000\n"
          ]
        }
      ],
      "source": [
        "import json\n",
        "from Filters import *\n",
        "from Data_load import data_load\n",
        "import matplotlib.pyplot as plt\n",
        "\n",
        "#from Model import Model\n",
        "import keras\n",
        "\n",
        "from utils import *\n",
        "\n",
        "import time\n",
        "\n",
        "## Import the images\n",
        "data = data_load()\n",
        "train_images, train_labels, test_images, test_labels = data.data_mnist()"
      ]
    },
    {
      "cell_type": "code",
      "execution_count": 9,
      "id": "c66fbeb0-e85c-45f9-aa2d-ce9163f00061",
      "metadata": {
        "id": "c66fbeb0-e85c-45f9-aa2d-ce9163f00061",
        "outputId": "01d0eb16-16b2-4877-ccff-1716b52de664",
        "colab": {
          "base_uri": "https://localhost:8080/"
        }
      },
      "outputs": [
        {
          "output_type": "stream",
          "name": "stdout",
          "text": [
            "shape of train images (28, 28, 1)\n",
            "shape of test images (28, 28, 1)\n"
          ]
        }
      ],
      "source": [
        "print(\"shape of train images\", train_images[0].shape)\n",
        "print(\"shape of test images\", test_images[0].shape)"
      ]
    },
    {
      "cell_type": "code",
      "execution_count": 10,
      "id": "eff793fb-2ac7-48ef-8f38-54203d5e0f03",
      "metadata": {
        "id": "eff793fb-2ac7-48ef-8f38-54203d5e0f03",
        "outputId": "b32fe50c-75c8-4e23-a703-669e358a3f58",
        "colab": {
          "base_uri": "https://localhost:8080/"
        }
      },
      "outputs": [
        {
          "output_type": "stream",
          "name": "stdout",
          "text": [
            "length of train images 6000\n",
            "length of test images 1000\n"
          ]
        }
      ],
      "source": [
        "print(\"length of train images\", len(train_images))\n",
        "print(\"length of test images\", len(test_images))"
      ]
    },
    {
      "cell_type": "markdown",
      "source": [
        "<h2>2. Using the 3 CNOTs filter</h2>"
      ],
      "metadata": {
        "id": "z6_sfVM0z4Em"
      },
      "id": "z6_sfVM0z4Em"
    },
    {
      "cell_type": "code",
      "execution_count": 11,
      "id": "a46b4120-f3d4-4766-816f-65e9b874c575",
      "metadata": {
        "id": "a46b4120-f3d4-4766-816f-65e9b874c575"
      },
      "outputs": [],
      "source": [
        "# This function returns the modified dataset\n",
        "# It is a script to get a dataset of 2 labels only\n",
        "def trainTestData(train_images, train_labels, test_images, test_labels, label1, label2, n_train, n_test):\n",
        "    n_train_images, n_train_labels, n_test_images, n_test_labels = [], [], [], []\n",
        "    i = 0\n",
        "    while (n_train > 0 and i < len(train_images)):\n",
        "        if train_labels[i] == label1:\n",
        "            n_train_images.append(train_images[i])\n",
        "            n_train_labels.append(label1)\n",
        "            n_train -= 1\n",
        "        if train_labels[i] == label2:\n",
        "            n_train_images.append(train_images[i])\n",
        "            n_train_labels.append(label2)\n",
        "            n_train -= 1\n",
        "        i = i+1\n",
        "    i = 0\n",
        "    while(n_test>0 and i < len(test_images)):\n",
        "        if test_labels[i] == label1:\n",
        "            n_test_images.append(test_images[i])\n",
        "            n_test_labels.append(label1)\n",
        "            n_test -= 1\n",
        "        if test_labels[i] == label2:\n",
        "            n_test_images.append(test_images[i])\n",
        "            n_test_labels.append(label2)\n",
        "            n_test -= 1\n",
        "        i = i+1\n",
        "    return n_train_images, n_train_labels, n_test_images, n_test_labels"
      ]
    },
    {
      "cell_type": "code",
      "execution_count": 12,
      "id": "3a6c7d4a-7044-446a-8e60-558d50858fca",
      "metadata": {
        "id": "3a6c7d4a-7044-446a-8e60-558d50858fca"
      },
      "outputs": [],
      "source": [
        "# getting a dataset of numbers 3 and 5 with train dataset of 80 and test dataset of 35\n",
        "train_images, train_labels, test_images, test_labels = trainTestData(train_images, train_labels, test_images, test_labels, 3, 5, 80, 35)"
      ]
    },
    {
      "cell_type": "code",
      "source": [
        "# this functions makes the train dataset balanced\n",
        "# number of images for number 3 same as that for number 5\n",
        "def balanceDataSet(BAS, train_labels):\n",
        "    new_train_images_3 = []\n",
        "    new_train_images_5 = []\n",
        "\n",
        "    new_train_labels_3 = []\n",
        "    new_train_labels_5 = []\n",
        "\n",
        "    for i in range(len(BAS)):\n",
        "      if train_labels[i] == 3:\n",
        "        new_train_images_3.append(BAS[i])\n",
        "        new_train_labels_3.append(3)\n",
        "      else:\n",
        "        new_train_images_5.append(BAS[i])\n",
        "        new_train_labels_5.append(5)\n",
        "    return new_train_images_3[0:30] + new_train_images_5[0:30], new_train_labels_3[0:30] + new_train_labels_5[0:30]"
      ],
      "metadata": {
        "id": "wVd8redUvAWL"
      },
      "id": "wVd8redUvAWL",
      "execution_count": 13,
      "outputs": []
    },
    {
      "cell_type": "code",
      "source": [
        "train_images, train_labels = balanceDataSet(train_images, train_labels)\n",
        "# saving the dataset for using in the other part about classical resizing using sickit image, skimage\n",
        "# to have a fair comparison of performance\n",
        "org_train_images, org_train_labels, org_test_images, org_test_labels = train_images, train_labels, test_images, test_labels"
      ],
      "metadata": {
        "id": "1ggfJG-Duwo5"
      },
      "id": "1ggfJG-Duwo5",
      "execution_count": 14,
      "outputs": []
    },
    {
      "cell_type": "code",
      "execution_count": 15,
      "id": "503fbdc5-07db-4b02-96cf-48165c306d77",
      "metadata": {
        "id": "503fbdc5-07db-4b02-96cf-48165c306d77",
        "outputId": "400c8f1b-a035-42fe-eb91-f6c266cc85eb",
        "colab": {
          "base_uri": "https://localhost:8080/"
        }
      },
      "outputs": [
        {
          "output_type": "stream",
          "name": "stdout",
          "text": [
            "length of train images 60\n",
            "length of test images 35\n"
          ]
        }
      ],
      "source": [
        "print(\"length of train images\", len(train_images))\n",
        "print(\"length of test images\", len(test_images))"
      ]
    },
    {
      "cell_type": "code",
      "execution_count": 16,
      "id": "bfcb3d97-42c5-4fbc-9e6f-53bb3196e19a",
      "metadata": {
        "id": "bfcb3d97-42c5-4fbc-9e6f-53bb3196e19a",
        "outputId": "d15f8359-f65d-4806-b3e5-646e695ddba5",
        "colab": {
          "base_uri": "https://localhost:8080/"
        }
      },
      "outputs": [
        {
          "output_type": "stream",
          "name": "stdout",
          "text": [
            "fitlered pre-processing of images, with type = 6\n",
            "fitlered pre-processing of images, with type = 6\n",
            "2.0889401912689207  minutes\n"
          ]
        }
      ],
      "source": [
        "# Applying the quantum filter for the first time\n",
        "# (28, 28) to (14, 14) image\n",
        "start_time = time.time()\n",
        "\n",
        "filtered_train_images = apply_filter(train_images, 6, data.n_channels, data.n_layers, True)\n",
        "filtered_test_images = apply_filter(test_images, 6, data.n_channels, data.n_layers, True)\n",
        "\n",
        "end_time = time.time()\n",
        "\n",
        "time_taken = end_time - start_time\n",
        "\n",
        "print(time_taken/60, \" minutes\")"
      ]
    },
    {
      "cell_type": "code",
      "execution_count": 17,
      "id": "5e5e7d27-852c-4769-878d-d91764e425dd",
      "metadata": {
        "id": "5e5e7d27-852c-4769-878d-d91764e425dd"
      },
      "outputs": [],
      "source": [
        "train_images = filtered_train_images\n",
        "test_images = filtered_test_images"
      ]
    },
    {
      "cell_type": "code",
      "source": [
        "print(\"shape of train images\", train_images[0].shape)\n",
        "print(\"shape of test images\", test_images[0].shape)"
      ],
      "metadata": {
        "colab": {
          "base_uri": "https://localhost:8080/"
        },
        "id": "_GPmrKeUh6Hs",
        "outputId": "a2b99daf-d7ff-491c-d44d-2424e49c47db"
      },
      "id": "_GPmrKeUh6Hs",
      "execution_count": 18,
      "outputs": [
        {
          "output_type": "stream",
          "name": "stdout",
          "text": [
            "shape of train images (14, 14, 1)\n",
            "shape of test images (14, 14, 1)\n"
          ]
        }
      ]
    },
    {
      "cell_type": "code",
      "execution_count": 19,
      "id": "5d6b8a0c-adaa-4122-a947-8830ffa864fb",
      "metadata": {
        "id": "5d6b8a0c-adaa-4122-a947-8830ffa864fb",
        "outputId": "29f48658-0823-485e-8f3a-64eddc40821c",
        "colab": {
          "base_uri": "https://localhost:8080/"
        }
      },
      "outputs": [
        {
          "output_type": "stream",
          "name": "stdout",
          "text": [
            "fitlered pre-processing of images, with type = 6\n",
            "fitlered pre-processing of images, with type = 6\n",
            "0.4198014736175537  minutes\n"
          ]
        }
      ],
      "source": [
        "# Applying the quantum filter for the second time\n",
        "# (14, 14) to (7,7) image\n",
        "start_time = time.time()\n",
        "\n",
        "filtered_train_images = apply_filter(train_images, 6, data.n_channels, data.n_layers, True)\n",
        "filtered_test_images = apply_filter(test_images, 6, data.n_channels, data.n_layers, True)\n",
        "\n",
        "end_time = time.time()\n",
        "\n",
        "time_taken = end_time - start_time\n",
        "\n",
        "print(time_taken/60, \" minutes\")"
      ]
    },
    {
      "cell_type": "code",
      "execution_count": 20,
      "id": "e08ec230-71ed-4965-8414-50397fd84dbe",
      "metadata": {
        "id": "e08ec230-71ed-4965-8414-50397fd84dbe"
      },
      "outputs": [],
      "source": [
        "train_images = filtered_train_images\n",
        "test_images = filtered_test_images"
      ]
    },
    {
      "cell_type": "code",
      "execution_count": 21,
      "id": "e7938a4f-93ae-46e4-870e-42ab809bf502",
      "metadata": {
        "id": "e7938a4f-93ae-46e4-870e-42ab809bf502",
        "outputId": "a729dd43-8f99-4d9d-e0e7-4830dab8578e",
        "colab": {
          "base_uri": "https://localhost:8080/"
        }
      },
      "outputs": [
        {
          "output_type": "stream",
          "name": "stdout",
          "text": [
            "shape of train images (7, 7, 1)\n",
            "shape of test images (7, 7, 1)\n"
          ]
        }
      ],
      "source": [
        "print(\"shape of train images\", train_images[0].shape)\n",
        "print(\"shape of test images\", test_images[0].shape)"
      ]
    },
    {
      "cell_type": "code",
      "source": [
        "test_images[3]\n",
        "# The following matrix contains values between -1 and 1\n",
        "# so simply we will take the values less than 0 to be 0 and greater than 0 to be 1\n",
        "# but when rescaling with skimage in the next part we get values between 0 and 1\n",
        "# so we put in the next part the values less than 0.5 as 0 and the ones greater than 0.5 as 1"
      ],
      "metadata": {
        "colab": {
          "base_uri": "https://localhost:8080/"
        },
        "id": "1jAqlxSrirYW",
        "outputId": "b58ce6c9-ddb5-4766-a207-d114a05f582f"
      },
      "id": "1jAqlxSrirYW",
      "execution_count": 22,
      "outputs": [
        {
          "output_type": "execute_result",
          "data": {
            "text/plain": [
              "tensor([[[ 1.        ],\n",
              "         [ 1.        ],\n",
              "         [ 1.        ],\n",
              "         [ 1.        ],\n",
              "         [ 1.        ],\n",
              "         [ 1.        ],\n",
              "         [ 1.        ]],\n",
              "\n",
              "        [[ 1.        ],\n",
              "         [ 1.        ],\n",
              "         [-0.91899874],\n",
              "         [ 0.02928895],\n",
              "         [-0.30687935],\n",
              "         [ 0.11526982],\n",
              "         [-0.77833392]],\n",
              "\n",
              "        [[ 1.        ],\n",
              "         [ 1.        ],\n",
              "         [-0.06152208],\n",
              "         [ 0.47779281],\n",
              "         [ 1.        ],\n",
              "         [ 0.95491717],\n",
              "         [ 1.        ]],\n",
              "\n",
              "        [[ 1.        ],\n",
              "         [ 1.        ],\n",
              "         [-0.23134438],\n",
              "         [-0.38260291],\n",
              "         [-0.29064794],\n",
              "         [ 1.        ],\n",
              "         [ 1.        ]],\n",
              "\n",
              "        [[ 1.        ],\n",
              "         [ 1.        ],\n",
              "         [-0.52414954],\n",
              "         [ 0.27590582],\n",
              "         [-0.04737667],\n",
              "         [ 1.        ],\n",
              "         [ 1.        ]],\n",
              "\n",
              "        [[ 1.        ],\n",
              "         [-0.91910783],\n",
              "         [ 0.82081461],\n",
              "         [-0.00316614],\n",
              "         [-0.81208445],\n",
              "         [ 1.        ],\n",
              "         [ 1.        ]],\n",
              "\n",
              "        [[ 1.        ],\n",
              "         [ 0.1953761 ],\n",
              "         [ 0.03248649],\n",
              "         [ 1.        ],\n",
              "         [ 1.        ],\n",
              "         [ 1.        ],\n",
              "         [ 1.        ]]], requires_grad=True)"
            ]
          },
          "metadata": {},
          "execution_count": 22
        }
      ]
    },
    {
      "cell_type": "code",
      "execution_count": 23,
      "id": "fe82d09b-48f4-4ad0-910b-efdb8db269e9",
      "metadata": {
        "id": "fe82d09b-48f4-4ad0-910b-efdb8db269e9",
        "outputId": "d5a3d4fc-799d-4168-fd65-e22293cad426",
        "colab": {
          "base_uri": "https://localhost:8080/",
          "height": 447
        }
      },
      "outputs": [
        {
          "output_type": "execute_result",
          "data": {
            "text/plain": [
              "<matplotlib.image.AxesImage at 0x7804bb7d9b40>"
            ]
          },
          "metadata": {},
          "execution_count": 23
        },
        {
          "output_type": "display_data",
          "data": {
            "text/plain": [
              "<Figure size 640x480 with 1 Axes>"
            ],
            "image/png": "[encoded data removed]"
          },
          "metadata": {}
        }
      ],
      "source": [
        "plt.imshow(test_images[3])\n",
        "# just plotting the 7x7 image to get a sense of how it looks"
      ]
    },
    {
      "cell_type": "code",
      "execution_count": 24,
      "id": "3d640a27-b461-450e-9adb-da13ae613cee",
      "metadata": {
        "id": "3d640a27-b461-450e-9adb-da13ae613cee"
      },
      "outputs": [],
      "source": [
        "# Function to replace the values less than middle by 0\n",
        "# and the values greater than middle by 1\n",
        "def zeroAndOne(train_images, test_images, middle):\n",
        "    for img in train_images:\n",
        "        for i in range(img.shape[0]):\n",
        "            for j in range(img.shape[1]):\n",
        "                if img[i][j] < middle:\n",
        "                    img[i][j] = 0\n",
        "                else:\n",
        "                    img[i][j] = 1\n",
        "    for img in test_images:\n",
        "        for i in range(img.shape[0]):\n",
        "            for j in range(img.shape[1]):\n",
        "                if img[i][j] < middle:\n",
        "                    img[i][j] = 0\n",
        "                else:\n",
        "                    img[i][j] = 1"
      ]
    },
    {
      "cell_type": "code",
      "source": [
        "zeroAndOne(train_images, test_images, 0)"
      ],
      "metadata": {
        "id": "PBn4UPbXjN7L"
      },
      "id": "PBn4UPbXjN7L",
      "execution_count": 25,
      "outputs": []
    },
    {
      "cell_type": "code",
      "execution_count": 26,
      "id": "d09e573c-32d6-4a31-ac77-c4901a9221bb",
      "metadata": {
        "id": "d09e573c-32d6-4a31-ac77-c4901a9221bb"
      },
      "outputs": [],
      "source": [
        "# function to perform max pooling using keras\n",
        "def conv(train_images, test_images):\n",
        "\n",
        "    new_train_images, new_test_images = [], []\n",
        "\n",
        "    for img in train_images:\n",
        "        img = np.reshape(img, [1, 7, 7, 1])\n",
        "        max_pool_2d = keras.layers.MaxPooling2D(pool_size=(1, 1), strides=(2, 2), padding=\"valid\")\n",
        "        new_train_images.append(np.reshape(max_pool_2d(img), [4, 4]))\n",
        "\n",
        "    for img in test_images:\n",
        "        img = np.reshape(img, [1, 7, 7, 1])\n",
        "        max_pool_2d = keras.layers.MaxPooling2D(pool_size=(1, 1), strides=(2, 2), padding=\"valid\")\n",
        "        new_test_images.append(np.reshape(max_pool_2d(img), [4, 4]))\n",
        "    return new_train_images, new_test_images"
      ]
    },
    {
      "cell_type": "code",
      "source": [
        "train_images, test_images = conv(train_images, test_images)"
      ],
      "metadata": {
        "id": "k1hZqgv4jOfB"
      },
      "id": "k1hZqgv4jOfB",
      "execution_count": 27,
      "outputs": []
    },
    {
      "cell_type": "code",
      "execution_count": 28,
      "id": "61e2f31d-1a82-4f76-91cc-a2f487ab9854",
      "metadata": {
        "id": "61e2f31d-1a82-4f76-91cc-a2f487ab9854",
        "outputId": "36a01a2b-82f1-4643-c411-5627dedc9360",
        "colab": {
          "base_uri": "https://localhost:8080/",
          "height": 452
        }
      },
      "outputs": [
        {
          "output_type": "execute_result",
          "data": {
            "text/plain": [
              "<matplotlib.image.AxesImage at 0x7804bb485b10>"
            ]
          },
          "metadata": {},
          "execution_count": 28
        },
        {
          "output_type": "display_data",
          "data": {
            "text/plain": [
              "<Figure size 640x480 with 1 Axes>"
            ],
            "image/png": "[encoded data removed]"
          },
          "metadata": {}
        }
      ],
      "source": [
        "plt.imshow(test_images[3])"
      ]
    },
    {
      "cell_type": "code",
      "execution_count": 29,
      "id": "2ed4fae1-66b9-4d40-bcd7-cd2ad7c93152",
      "metadata": {
        "id": "2ed4fae1-66b9-4d40-bcd7-cd2ad7c93152"
      },
      "outputs": [],
      "source": [
        "def block(weights, wires):\n",
        "    qml.RY(weights[0], wires=wires[0])\n",
        "    qml.RY(weights[1], wires=wires[1])\n",
        "    qml.CNOT(wires=wires)"
      ]
    },
    {
      "cell_type": "code",
      "execution_count": 30,
      "id": "7c073ac2-4d3c-4a63-99ae-dae02cb5ccec",
      "metadata": {
        "id": "7c073ac2-4d3c-4a63-99ae-dae02cb5ccec"
      },
      "outputs": [],
      "source": [
        "# BAS is the list that will contain the images for encoding in the quantum circuit\n",
        "# flatten is used to transfoem from (4,4) into (16,)\n",
        "BAS = []\n",
        "for img in train_images:\n",
        "    BAS.append(img.flatten())"
      ]
    },
    {
      "cell_type": "code",
      "execution_count": 31,
      "id": "9d89cdf7-1357-40d7-a927-e1b9db8f0eb4",
      "metadata": {
        "id": "9d89cdf7-1357-40d7-a927-e1b9db8f0eb4",
        "outputId": "bec93054-ba83-4504-c773-6246493da6f2",
        "colab": {
          "base_uri": "https://localhost:8080/",
          "height": 387
        }
      },
      "outputs": [
        {
          "output_type": "display_data",
          "data": {
            "text/plain": [
              "<Figure size 600x350 with 1 Axes>"
            ],
            "image/png": "[encoded data removed]"
          },
          "metadata": {}
        }
      ],
      "source": [
        "dev = qml.device(\"default.qubit\", wires=16)\n",
        "\n",
        "\n",
        "@qml.qnode(dev)\n",
        "def circuit(image, template_weights):\n",
        "    qml.BasisStatePreparation(image, wires=range(16))\n",
        "    qml.TTN(\n",
        "        wires=range(16),\n",
        "        n_block_wires=2,\n",
        "        block=block,\n",
        "        n_params_block=2,\n",
        "        template_weights=template_weights,\n",
        "    )\n",
        "    return qml.expval(qml.PauliZ(wires=15))\n",
        "\n",
        "weights = np.random.random(size=[15, 2])\n",
        "fig, ax = qml.draw_mpl(circuit, expansion_strategy=\"device\")(BAS[0], weights)\n",
        "fig.set_size_inches((6, 3.5))"
      ]
    },
    {
      "cell_type": "code",
      "source": [
        "print(\"length of train images\", len(train_images))\n",
        "print(\"length of test images\", len(test_images))"
      ],
      "metadata": {
        "colab": {
          "base_uri": "https://localhost:8080/"
        },
        "id": "Y4SOjOaecZQT",
        "outputId": "88e4f45a-40f1-46e3-a950-385788030d3a"
      },
      "id": "Y4SOjOaecZQT",
      "execution_count": 32,
      "outputs": [
        {
          "output_type": "stream",
          "name": "stdout",
          "text": [
            "length of train images 60\n",
            "length of test images 35\n"
          ]
        }
      ]
    },
    {
      "cell_type": "code",
      "execution_count": 33,
      "id": "d750a475-8b20-46fd-9de0-d468709d7583",
      "metadata": {
        "id": "d750a475-8b20-46fd-9de0-d468709d7583"
      },
      "outputs": [],
      "source": [
        "# defining the cost function\n",
        "def costfunc(params):\n",
        "    cost = 0\n",
        "    for i in range(len(BAS)):\n",
        "        if i < len(BAS) / 2:\n",
        "            cost += circuit(BAS[i], params)\n",
        "        else:\n",
        "            cost -= circuit(BAS[i], params)\n",
        "    return cost"
      ]
    },
    {
      "cell_type": "code",
      "execution_count": 34,
      "id": "e30f5a5b-e0c8-41a4-aea9-1284b33795e6",
      "metadata": {
        "id": "e30f5a5b-e0c8-41a4-aea9-1284b33795e6",
        "colab": {
          "base_uri": "https://localhost:8080/"
        },
        "outputId": "dd4702a5-3fce-4441-a8df-2cf2fdfd6941"
      },
      "outputs": [
        {
          "output_type": "stream",
          "name": "stdout",
          "text": [
            "Step 0, cost: -0.19118812068440766\n",
            "Step 5, cost: -0.41829255933244514\n",
            "Step 10, cost: -0.6379505782476094\n",
            "Step 15, cost: -0.875170570711504\n",
            "Step 20, cost: -1.1434963965206453\n",
            "Step 25, cost: -1.4509915613978221\n",
            "Step 30, cost: -1.8025791191106169\n",
            "Step 35, cost: -2.2015552800831095\n",
            "Step 40, cost: -2.6512064444289116\n",
            "Step 45, cost: -3.156475599134304\n",
            "Step 50, cost: -3.725002949579528\n",
            "Step 55, cost: -4.366596906739931\n",
            "Step 60, cost: -5.089559841158191\n",
            "Step 65, cost: -5.88954666939965\n",
            "Step 70, cost: -6.728529009128737\n"
          ]
        }
      ],
      "source": [
        "# training the circuit parameters\n",
        "# storing the params in x2 to use the same initial parameters in part 3\n",
        "x2 = np.random.random(size=[15, 2], requires_grad=True)\n",
        "params = x2[:]\n",
        "optimizer = qml.GradientDescentOptimizer(stepsize=0.01)\n",
        "\n",
        "for k in range(71):\n",
        "    if k % 5 == 0:\n",
        "        print(f\"Step {k}, cost: {costfunc(params)}\")\n",
        "    params = optimizer.step(costfunc, params)"
      ]
    },
    {
      "cell_type": "code",
      "source": [
        "# The list that will hold the test images for testing accuracy\n",
        "BAS_test = []\n",
        "for img in test_images:\n",
        "  BAS_test.append(img.flatten())"
      ],
      "metadata": {
        "id": "i2HL5ECGHSBw"
      },
      "id": "i2HL5ECGHSBw",
      "execution_count": 35,
      "outputs": []
    },
    {
      "cell_type": "code",
      "source": [
        "values, counts = np.unique(test_labels, return_counts=True)\n",
        "print(values, \"name of labels in our dataset, here they are 3 and 5\")\n",
        "print(counts, \"how much we have in our test dataset from each of the above numbers 3 and 5\")"
      ],
      "metadata": {
        "colab": {
          "base_uri": "https://localhost:8080/"
        },
        "id": "X1DkQylBzjsO",
        "outputId": "9b6dcd9f-bdff-4d59-dfa8-c5e2c39b3a5c"
      },
      "id": "X1DkQylBzjsO",
      "execution_count": 36,
      "outputs": [
        {
          "output_type": "stream",
          "name": "stdout",
          "text": [
            "[3 5] name of labels in our dataset, here they are 3 and 5\n",
            "[15 20] how much we have in our test dataset from each of the above numbers 3 and 5\n"
          ]
        }
      ]
    },
    {
      "cell_type": "code",
      "source": [
        "i = 0\n",
        "train_correct = 0\n",
        "for img in BAS:\n",
        "  if circuit(img,params) < 0 and train_labels[i] == 3:\n",
        "    train_correct += 1\n",
        "  elif circuit(img,params) > 0 and train_labels[i] == 5:\n",
        "    train_correct += 1\n",
        "  i += 1\n",
        "print(\"training accuracy: 60 images, 30 for letter 3 and 30 for letter 5\")\n",
        "print(100*train_correct/len(BAS),\"%\")"
      ],
      "metadata": {
        "colab": {
          "base_uri": "https://localhost:8080/"
        },
        "id": "mSa44Z5DqPE0",
        "outputId": "2f645821-d641-41c9-9653-1f32b2edde38"
      },
      "id": "mSa44Z5DqPE0",
      "execution_count": 37,
      "outputs": [
        {
          "output_type": "stream",
          "name": "stdout",
          "text": [
            "training accuracy: 60 images, 30 for letter 3 and 30 for letter 5\n",
            "60.0 %\n"
          ]
        }
      ]
    },
    {
      "cell_type": "code",
      "source": [
        "predicted = []\n",
        "i = 0\n",
        "test_correct = 0\n",
        "for img in BAS_test:\n",
        "  if circuit(img.flatten(),params) < 0:\n",
        "    predicted.append(3)\n",
        "  if circuit(img.flatten(),params) > 0:\n",
        "    predicted.append(5)\n",
        "  if circuit(img.flatten(),params) < 0 and test_labels[i] == 3:\n",
        "    test_correct += 1\n",
        "  elif circuit(img.flatten(),params) > 0 and test_labels[i] == 5:\n",
        "    test_correct += 1\n",
        "  i += 1\n",
        "print(\"testing accuracy: 35 images, 15 for letter 3 and 20 for letter 5\")\n",
        "print(100*test_correct/len(BAS_test),\"%\")"
      ],
      "metadata": {
        "colab": {
          "base_uri": "https://localhost:8080/"
        },
        "id": "twqBsLkDq9LG",
        "outputId": "36fe97b0-4d6c-4d0a-c864-80efe1f02bbf"
      },
      "id": "twqBsLkDq9LG",
      "execution_count": 38,
      "outputs": [
        {
          "output_type": "stream",
          "name": "stdout",
          "text": [
            "testing accuracy: 35 images, 15 for letter 3 and 20 for letter 5\n",
            "60.0 %\n"
          ]
        }
      ]
    },
    {
      "cell_type": "code",
      "source": [
        "actual = np.array(test_labels)\n",
        "predicted = np.array(predicted)\n",
        "\n",
        "confusion_matrix = metrics.confusion_matrix(actual, predicted)\n",
        "\n",
        "cm_display = metrics.ConfusionMatrixDisplay(confusion_matrix = confusion_matrix, display_labels = [3, 5])\n",
        "\n",
        "cm_display.plot()\n",
        "plt.show()"
      ],
      "metadata": {
        "colab": {
          "base_uri": "https://localhost:8080/",
          "height": 455
        },
        "id": "47pYj4DV5dpg",
        "outputId": "9c1c43f9-2705-40ed-8861-e27e8441ea1f"
      },
      "id": "47pYj4DV5dpg",
      "execution_count": 39,
      "outputs": [
        {
          "output_type": "display_data",
          "data": {
            "text/plain": [
              "<Figure size 640x480 with 2 Axes>"
            ],
            "image/png": "[encoded data removed]"
          },
          "metadata": {}
        }
      ]
    },
    {
      "cell_type": "markdown",
      "source": [
        "<h2>3. Using classical filter:</h2>"
      ],
      "metadata": {
        "id": "yHlPTpuPty-3"
      },
      "id": "yHlPTpuPty-3"
    },
    {
      "cell_type": "markdown",
      "source": [
        "\n",
        "\n",
        "1.   Getting the saved original balanced dataset\n",
        "2.   Changing the shape and size of the train and test dataset from (28, 28) to (16,)\n",
        "3.   Defining the cost function\n",
        "4.   Training using optimizer, stepsize = 0.01, iterations = 70\n",
        "5.   Finding the train and test accuracy\n",
        "\n"
      ],
      "metadata": {
        "id": "gCkDd9YgyCjR"
      },
      "id": "gCkDd9YgyCjR"
    },
    {
      "cell_type": "code",
      "source": [
        "#using original saved images balanced dataset for fair comparison\n",
        "train_images, train_labels, test_images, test_labels = org_train_images, org_train_labels, org_test_images, org_test_labels"
      ],
      "metadata": {
        "id": "BTz1DKyx1tuv"
      },
      "id": "BTz1DKyx1tuv",
      "execution_count": 40,
      "outputs": []
    },
    {
      "cell_type": "code",
      "source": [
        "print(\"shape of train images\", BAS[0].shape)\n",
        "print(\"shape of test images\", BAS_test[0].shape)"
      ],
      "metadata": {
        "colab": {
          "base_uri": "https://localhost:8080/"
        },
        "id": "3B4Or6QNwT1Z",
        "outputId": "91e2e0ea-a11d-412b-8e11-b7a14a7957fb"
      },
      "id": "3B4Or6QNwT1Z",
      "execution_count": 41,
      "outputs": [
        {
          "output_type": "stream",
          "name": "stdout",
          "text": [
            "shape of train images (16,)\n",
            "shape of test images (16,)\n"
          ]
        }
      ]
    },
    {
      "cell_type": "code",
      "source": [
        "# changing the shape and size of the train images and storing in BAS\n",
        "BAS = []\n",
        "for img in train_images:\n",
        "    # using sickit image to rescale to (4,4)\n",
        "    img = rescale(img, 1/7, anti_aliasing=False)\n",
        "    for i in range(img.shape[0]):\n",
        "        for j in range(img.shape[1]):\n",
        "            if img[i][j] < 0.5:\n",
        "                img[i][j] = 0\n",
        "            else:\n",
        "                img[i][j] = 1\n",
        "    # flatten to change shape from (4,4) to (16,) to be able to use 16 qubits and encode the circuit\n",
        "    BAS.append(img.flatten())"
      ],
      "metadata": {
        "id": "gAqxsiom4TFV"
      },
      "id": "gAqxsiom4TFV",
      "execution_count": 42,
      "outputs": []
    },
    {
      "cell_type": "code",
      "source": [
        "# rescale test images and store the new modified images in BAS_test\n",
        "BAS_test = []\n",
        "for img in test_images:\n",
        "    img = rescale(img, 1/7, anti_aliasing=False)\n",
        "    for i in range(img.shape[0]):\n",
        "        for j in range(img.shape[1]):\n",
        "            if img[i][j] < 0.5:\n",
        "                img[i][j] = 0\n",
        "            else:\n",
        "                img[i][j] = 1\n",
        "    # flatten to change shape from (4,4) to (16,) to be able to use 16 qubits and encode the circuit\n",
        "    BAS_test.append(img.flatten())"
      ],
      "metadata": {
        "id": "GGfBS215wEA_"
      },
      "id": "GGfBS215wEA_",
      "execution_count": 43,
      "outputs": []
    },
    {
      "cell_type": "code",
      "source": [
        "print(\"length of train images\", len(BAS))\n",
        "print(\"length of test images\", len(test_images))"
      ],
      "metadata": {
        "colab": {
          "base_uri": "https://localhost:8080/"
        },
        "id": "ImO2ISRs47Yy",
        "outputId": "3653f9bd-60c2-4d12-de56-ef24e1b529fb"
      },
      "id": "ImO2ISRs47Yy",
      "execution_count": 44,
      "outputs": [
        {
          "output_type": "stream",
          "name": "stdout",
          "text": [
            "length of train images 60\n",
            "length of test images 35\n"
          ]
        }
      ]
    },
    {
      "cell_type": "code",
      "source": [
        "print(\"shape of train images\", BAS[0].shape)\n",
        "print(\"shape of test images\", BAS_test[0].shape)"
      ],
      "metadata": {
        "colab": {
          "base_uri": "https://localhost:8080/"
        },
        "id": "Y73XaGCu6U4p",
        "outputId": "1e5ddc60-64e8-4d54-c98a-f70d074775f8"
      },
      "id": "Y73XaGCu6U4p",
      "execution_count": 45,
      "outputs": [
        {
          "output_type": "stream",
          "name": "stdout",
          "text": [
            "shape of train images (16,)\n",
            "shape of test images (16,)\n"
          ]
        }
      ]
    },
    {
      "cell_type": "code",
      "source": [
        "# defining the cost function\n",
        "def costfunc(params):\n",
        "    cost = 0\n",
        "    for i in range(len(BAS)):\n",
        "        if i < len(BAS) / 2:\n",
        "            cost += circuit(BAS[i], params)\n",
        "        else:\n",
        "            cost -= circuit(BAS[i], params)\n",
        "    return cost"
      ],
      "metadata": {
        "id": "1uCMeogP4TLS"
      },
      "id": "1uCMeogP4TLS",
      "execution_count": 46,
      "outputs": []
    },
    {
      "cell_type": "code",
      "source": [
        "# training with the optimizer using the same initial saved parameters for fair comparison\n",
        "params = x2[:]\n",
        "optimizer = qml.GradientDescentOptimizer(stepsize=0.01)\n",
        "\n",
        "for k in range(71):\n",
        "    if k % 5 == 0:\n",
        "        print(f\"Step {k}, cost: {costfunc(params)}\")\n",
        "    params = optimizer.step(costfunc, params)"
      ],
      "metadata": {
        "colab": {
          "base_uri": "https://localhost:8080/"
        },
        "id": "30nurHEg54CH",
        "outputId": "f3f1bcdb-ad14-460e-900a-abf6bd2b54a2"
      },
      "id": "30nurHEg54CH",
      "execution_count": 47,
      "outputs": [
        {
          "output_type": "stream",
          "name": "stdout",
          "text": [
            "Step 0, cost: -0.8264939415599675\n",
            "Step 5, cost: -1.8285084430585603\n",
            "Step 10, cost: -3.907972785236109\n",
            "Step 15, cost: -7.658348171552999\n",
            "Step 20, cost: -11.781258932084324\n",
            "Step 25, cost: -13.963193119853903\n",
            "Step 30, cost: -14.805878833605803\n",
            "Step 35, cost: -15.188178800449501\n",
            "Step 40, cost: -15.411199444247288\n",
            "Step 45, cost: -15.568220038029313\n",
            "Step 50, cost: -15.693974674258442\n",
            "Step 55, cost: -15.804526003080507\n",
            "Step 60, cost: -15.90846469258296\n",
            "Step 65, cost: -16.010695070493853\n",
            "Step 70, cost: -16.114021232827014\n"
          ]
        }
      ]
    },
    {
      "cell_type": "code",
      "source": [
        "i = 0\n",
        "train_correct = 0\n",
        "for img in BAS:\n",
        "  if circuit(img,params) < 0 and train_labels[i] == 3:\n",
        "    train_correct += 1\n",
        "  elif circuit(img,params) > 0 and train_labels[i] == 5:\n",
        "    train_correct += 1\n",
        "  i += 1\n",
        "print(\"training accuracy(2): 60 images, 30 for letter 3 and 30 for letter 5\")\n",
        "print(100*train_correct/len(BAS),\"%\")"
      ],
      "metadata": {
        "colab": {
          "base_uri": "https://localhost:8080/"
        },
        "id": "vF3zb-2U54Ln",
        "outputId": "3df567f6-2b6e-4254-dfda-02d97a271efe"
      },
      "id": "vF3zb-2U54Ln",
      "execution_count": 48,
      "outputs": [
        {
          "output_type": "stream",
          "name": "stdout",
          "text": [
            "training accuracy(2): 60 images, 30 for letter 3 and 30 for letter 5\n",
            "63.333333333333336 %\n"
          ]
        }
      ]
    },
    {
      "cell_type": "code",
      "source": [
        "predicted = []\n",
        "i = 0\n",
        "test_correct = 0\n",
        "for img in BAS_test:\n",
        "  if circuit(img.flatten(),params) < 0:\n",
        "    predicted.append(3)\n",
        "  if circuit(img.flatten(),params) > 0:\n",
        "    predicted.append(5)\n",
        "  if circuit(img,params) < 0 and test_labels[i] == 3:\n",
        "    test_correct += 1\n",
        "  elif circuit(img,params) > 0 and test_labels[i] == 5:\n",
        "    test_correct += 1\n",
        "  i += 1\n",
        "print(\"testing accuracy(2): 35 images, 15 for letter 3 and 20 for letter 5\")\n",
        "print(100*test_correct/len(BAS_test),\"%\")"
      ],
      "metadata": {
        "colab": {
          "base_uri": "https://localhost:8080/"
        },
        "id": "ptRHlFeTCPEC",
        "outputId": "337b8108-91b4-46d6-9f60-6472f426f7b3"
      },
      "id": "ptRHlFeTCPEC",
      "execution_count": 49,
      "outputs": [
        {
          "output_type": "stream",
          "name": "stdout",
          "text": [
            "testing accuracy(2): 35 images, 15 for letter 3 and 20 for letter 5\n",
            "57.142857142857146 %\n"
          ]
        }
      ]
    },
    {
      "cell_type": "code",
      "source": [
        "actual = np.array(test_labels)\n",
        "predicted = np.array(predicted)\n",
        "\n",
        "confusion_matrix = metrics.confusion_matrix(actual, predicted)\n",
        "\n",
        "cm_display = metrics.ConfusionMatrixDisplay(confusion_matrix = confusion_matrix, display_labels = [3, 5])\n",
        "\n",
        "cm_display.plot()\n",
        "plt.show()"
      ],
      "metadata": {
        "colab": {
          "base_uri": "https://localhost:8080/",
          "height": 455
        },
        "id": "UJwE_PrA6QBm",
        "outputId": "da179819-cc6a-42e1-d9dc-225f82afdf0b"
      },
      "id": "UJwE_PrA6QBm",
      "execution_count": 50,
      "outputs": [
        {
          "output_type": "display_data",
          "data": {
            "text/plain": [
              "<Figure size 640x480 with 2 Axes>"
            ],
            "image/png": "[encoded data removed]"
          },
          "metadata": {}
        }
      ]
    }
  ],
  "metadata": {
    "kernelspec": {
      "display_name": "Python 3 (ipykernel)",
      "language": "python",
      "name": "python3"
    },
    "language_info": {
      "codemirror_mode": {
        "name": "ipython",
        "version": 3
      },
      "file_extension": ".py",
      "mimetype": "text/x-python",
      "name": "python",
      "nbconvert_exporter": "python",
      "pygments_lexer": "ipython3",
      "version": "3.11.9"
    },
    "colab": {
      "provenance": []
    }
  },
  "nbformat": 4,
  "nbformat_minor": 5
}