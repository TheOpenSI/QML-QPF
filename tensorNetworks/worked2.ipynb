{
 "cells": [
  {
   "cell_type": "code",
   "execution_count": 4,
   "metadata": {
    "id": "t3s9XzrST1Xx"
   },
   "outputs": [],
   "source": [
    "#!pip install tensorflow"
   ]
  },
  {
   "cell_type": "code",
   "execution_count": 5,
   "metadata": {
    "id": "-k7x_fz4UBSv"
   },
   "outputs": [],
   "source": [
    "#!pip install keras"
   ]
  },
  {
   "cell_type": "code",
   "execution_count": 6,
   "metadata": {
    "id": "mYTCGYXQUBVr"
   },
   "outputs": [],
   "source": [
    "#!pip install pennylane --upgrade"
   ]
  },
  {
   "cell_type": "code",
   "execution_count": null,
   "metadata": {},
   "outputs": [],
   "source": [
    "#!pip install scikit-image"
   ]
  },
  {
   "cell_type": "code",
   "execution_count": 8,
   "metadata": {
    "id": "uQK4OEi5Uk82"
   },
   "outputs": [],
   "source": [
    "import pennylane as qml"
   ]
  },
  {
   "cell_type": "code",
   "execution_count": 9,
   "metadata": {
    "id": "5_FjHu9tUh1a"
   },
   "outputs": [],
   "source": [
    "dev = qml.device(\"default.qubit\", wires=4)\n",
    "\n",
    "@qml.qnode(dev)\n",
    "def circuit():\n",
    "    qml.Y(0)\n",
    "    qml.Hadamard(wires=1)\n",
    "    return qml.density_matrix([0, 2])"
   ]
  },
  {
   "cell_type": "code",
   "execution_count": 10,
   "metadata": {
    "colab": {
     "base_uri": "https://localhost:8080/"
    },
    "id": "x3zxUvlgUitC",
    "outputId": "23908ad6-ac57-469c-cbf4-ce0d6fa5dc38"
   },
   "outputs": [
    {
     "data": {
      "text/plain": [
       "(1, 4)"
      ]
     },
     "execution_count": 10,
     "metadata": {},
     "output_type": "execute_result"
    }
   ],
   "source": [
    "np.dot(np.array([1, 0, 0, 0]).reshape(1, 4), circuit()).shape"
   ]
  },
  {
   "cell_type": "code",
   "execution_count": 11,
   "metadata": {
    "id": "-ULu6LEqVc9S"
   },
   "outputs": [],
   "source": [
    "import pennylane as qml\n",
    "from pennylane import numpy as np"
   ]
  },
  {
   "cell_type": "code",
   "execution_count": 12,
   "metadata": {
    "id": "3uJEX4UeVlqg"
   },
   "outputs": [
    {
     "name": "stderr",
     "output_type": "stream",
     "text": [
      "2024-05-17 20:12:00.357451: I external/local_tsl/tsl/cuda/cudart_stub.cc:32] Could not find cuda drivers on your machine, GPU will not be used.\n",
      "2024-05-17 20:12:00.364260: I external/local_tsl/tsl/cuda/cudart_stub.cc:32] Could not find cuda drivers on your machine, GPU will not be used.\n",
      "2024-05-17 20:12:00.421662: I tensorflow/core/platform/cpu_feature_guard.cc:210] This TensorFlow binary is optimized to use available CPU instructions in performance-critical operations.\n",
      "To enable the following instructions: AVX2 FMA, in other operations, rebuild TensorFlow with the appropriate compiler flags.\n",
      "2024-05-17 20:12:01.481956: W tensorflow/compiler/tf2tensorrt/utils/py_utils.cc:38] TF-TRT Warning: Could not find TensorRT\n"
     ]
    }
   ],
   "source": [
    "from keras.models import Sequential\n",
    "from keras.layers import Dense"
   ]
  },
  {
   "cell_type": "code",
   "execution_count": 13,
   "metadata": {
    "id": "2gNk0oMUVltX"
   },
   "outputs": [],
   "source": [
    "from skimage import data, color\n",
    "from skimage.transform import rescale, resize, downscale_local_mean"
   ]
  },
  {
   "cell_type": "code",
   "execution_count": 14,
   "metadata": {
    "colab": {
     "base_uri": "https://localhost:8080/"
    },
    "id": "kzebvRDSVlv6",
    "outputId": "6147b593-617a-43d4-f1b1-e80235c13d80"
   },
   "outputs": [
    {
     "name": "stdout",
     "output_type": "stream",
     "text": [
      "6000\n"
     ]
    }
   ],
   "source": [
    "import json\n",
    "from Filters import *\n",
    "from Data_load import data_load\n",
    "import matplotlib.pyplot as plt\n",
    "\n",
    "import keras\n",
    "\n",
    "from utils import *\n",
    "\n",
    "import time\n",
    "\n",
    "## Import the images\n",
    "data = data_load()\n",
    "train_images, train_labels, test_images, test_labels = data.data_mnist()"
   ]
  },
  {
   "cell_type": "code",
   "execution_count": 15,
   "metadata": {
    "colab": {
     "base_uri": "https://localhost:8080/"
    },
    "id": "Srso_dW8Vlyz",
    "outputId": "4380e0e4-d626-46b8-9803-e08c0b817f86"
   },
   "outputs": [
    {
     "name": "stdout",
     "output_type": "stream",
     "text": [
      "shape of train images (28, 28, 1)\n",
      "shape of test images (28, 28, 1)\n"
     ]
    }
   ],
   "source": [
    "print(\"shape of train images\", train_images[0].shape)\n",
    "print(\"shape of test images\", test_images[0].shape)"
   ]
  },
  {
   "cell_type": "code",
   "execution_count": 16,
   "metadata": {
    "colab": {
     "base_uri": "https://localhost:8080/"
    },
    "id": "p062N3v9Vl08",
    "outputId": "537addda-9a47-4e5e-d114-5ec2c2b52255"
   },
   "outputs": [
    {
     "name": "stdout",
     "output_type": "stream",
     "text": [
      "length of train images 6000\n",
      "length of test images 1000\n"
     ]
    }
   ],
   "source": [
    "print(\"length of train images\", len(train_images))\n",
    "print(\"length of test images\", len(test_images))"
   ]
  },
  {
   "cell_type": "code",
   "execution_count": 17,
   "metadata": {
    "id": "6qY67DkoVl6n"
   },
   "outputs": [],
   "source": [
    "# This function returns the modified dataset\n",
    "# It is a script to get a dataset of 2 labels only\n",
    "def trainTestData(train_images, train_labels, test_images, test_labels, label1, label2, n_train, n_test):\n",
    "    n_train_images, n_train_labels, n_test_images, n_test_labels = [], [], [], []\n",
    "    i = 0\n",
    "    while (n_train > 0 and i < len(train_images)):\n",
    "        if train_labels[i] == label1:\n",
    "            n_train_images.append(train_images[i])\n",
    "            n_train_labels.append(label1)\n",
    "            n_train -= 1\n",
    "        if train_labels[i] == label2:\n",
    "            n_train_images.append(train_images[i])\n",
    "            n_train_labels.append(label2)\n",
    "            n_train -= 1\n",
    "        i = i+1\n",
    "    i = 0\n",
    "    while(n_test>0 and i < len(test_images)):\n",
    "        if test_labels[i] == label1:\n",
    "            n_test_images.append(test_images[i])\n",
    "            n_test_labels.append(label1)\n",
    "            n_test -= 1\n",
    "        if test_labels[i] == label2:\n",
    "            n_test_images.append(test_images[i])\n",
    "            n_test_labels.append(label2)\n",
    "            n_test -= 1\n",
    "        i = i+1\n",
    "    return n_train_images, n_train_labels, n_test_images, n_test_labels"
   ]
  },
  {
   "cell_type": "code",
   "execution_count": 18,
   "metadata": {
    "id": "Y2MxGX3gVl9a"
   },
   "outputs": [],
   "source": [
    "train_images1, train_labels1, test_images1, test_labels1 = trainTestData(train_images,\n",
    "                                                                     train_labels,\n",
    "                                                                     test_images,\n",
    "                                                                     test_labels, 0, 1, 1300, 120)\n",
    "train_images2, train_labels2, test_images2, test_labels2 = trainTestData(train_images,\n",
    "                                                                     train_labels,\n",
    "                                                                     test_images,\n",
    "                                                                     test_labels, 2, 3, 1300, 120)"
   ]
  },
  {
   "cell_type": "code",
   "execution_count": 19,
   "metadata": {
    "id": "3Gh5qUIhVmA1"
   },
   "outputs": [],
   "source": [
    "# this functions makes the train dataset balanced\n",
    "# number of images for number 3 same as that for number 5\n",
    "def balanceDataSet(BAS, train_labels, x, y):\n",
    "    new_train_images_x = []\n",
    "    new_train_images_y = []\n",
    "\n",
    "    new_train_labels_x = []\n",
    "    new_train_labels_y = []\n",
    "\n",
    "    for i in range(len(BAS)):\n",
    "      if train_labels[i] == x:\n",
    "        new_train_images_x.append(BAS[i])\n",
    "        new_train_labels_x.append(x)\n",
    "      else:\n",
    "        new_train_images_y.append(BAS[i])\n",
    "        new_train_labels_y.append(y)\n",
    "    return new_train_images_x[0:500] + new_train_images_y[0:500], new_train_labels_x[0:500] + new_train_labels_y[0:500]"
   ]
  },
  {
   "cell_type": "code",
   "execution_count": 20,
   "metadata": {
    "id": "fax4hWkaVmEY"
   },
   "outputs": [],
   "source": [
    "train_images1, train_labels1 = balanceDataSet(train_images1, train_labels1, 0, 1)\n",
    "train_images2, train_labels2 = balanceDataSet(train_images2, train_labels2, 2, 3)\n",
    "\n",
    "train_images = train_images1 + train_images2\n",
    "train_labels = train_labels1 + train_labels2\n",
    "\n",
    "test_images = test_images1 + test_images2\n",
    "test_labels = test_labels1 + test_labels2"
   ]
  },
  {
   "cell_type": "code",
   "execution_count": 21,
   "metadata": {
    "id": "1SdVKPqsVmHA"
   },
   "outputs": [],
   "source": [
    "org_train_images, org_train_labels, org_test_images, org_test_labels = train_images, train_labels, test_images, test_labels"
   ]
  },
  {
   "cell_type": "code",
   "execution_count": 22,
   "metadata": {
    "colab": {
     "base_uri": "https://localhost:8080/"
    },
    "id": "FRca8y6iW_5Y",
    "outputId": "0b4877d2-53eb-4c13-b609-6fd63e87051d"
   },
   "outputs": [
    {
     "name": "stdout",
     "output_type": "stream",
     "text": [
      "length of train images 2000\n",
      "length of test images 240\n"
     ]
    }
   ],
   "source": [
    "print(\"length of train images\", len(train_images))\n",
    "print(\"length of test images\", len(test_images))"
   ]
  },
  {
   "cell_type": "code",
   "execution_count": 23,
   "metadata": {
    "colab": {
     "base_uri": "https://localhost:8080/"
    },
    "id": "7xTCJg5xW_8u",
    "outputId": "6ae5a233-b9a1-49c7-e016-8f6170d31676"
   },
   "outputs": [
    {
     "data": {
      "text/plain": [
       "8.333333333333334"
      ]
     },
     "execution_count": 23,
     "metadata": {},
     "output_type": "execute_result"
    }
   ],
   "source": [
    "2000/240"
   ]
  },
  {
   "cell_type": "code",
   "execution_count": 24,
   "metadata": {
    "colab": {
     "base_uri": "https://localhost:8080/"
    },
    "id": "I81truQ4f8bg",
    "outputId": "95157524-6d55-4683-e724-6e305fc68507"
   },
   "outputs": [
    {
     "name": "stdout",
     "output_type": "stream",
     "text": [
      "[0 1 2 3]\n",
      "[500 500 500 500]\n"
     ]
    }
   ],
   "source": [
    "values, counts = np.unique(train_labels, return_counts=True)\n",
    "print(values)\n",
    "print(counts)"
   ]
  },
  {
   "cell_type": "code",
   "execution_count": 25,
   "metadata": {
    "colab": {
     "base_uri": "https://localhost:8080/"
    },
    "id": "GESAM5K0gqw3",
    "outputId": "032b3552-f100-4f82-c2d1-f026526e722c"
   },
   "outputs": [
    {
     "name": "stdout",
     "output_type": "stream",
     "text": [
      "[0 1 2 3]\n",
      "[48 72 63 57]\n"
     ]
    }
   ],
   "source": [
    "values, counts = np.unique(test_labels, return_counts=True)\n",
    "print(values)\n",
    "print(counts)"
   ]
  },
  {
   "cell_type": "code",
   "execution_count": 26,
   "metadata": {
    "colab": {
     "base_uri": "https://localhost:8080/",
     "height": 447
    },
    "id": "bpcfSv8OW__x",
    "outputId": "f742a428-a9c9-4621-8c36-04e935605c68"
   },
   "outputs": [
    {
     "data": {
      "text/plain": [
       "<matplotlib.image.AxesImage at 0x7de1f1a87210>"
      ]
     },
     "execution_count": 26,
     "metadata": {},
     "output_type": "execute_result"
    },
    {
     "data": {
      "image/png": "[encoded data removed]",
      "text/plain": [
       "<Figure size 640x480 with 1 Axes>"
      ]
     },
     "metadata": {},
     "output_type": "display_data"
    }
   ],
   "source": [
    "import matplotlib.pyplot as plt\n",
    "plt.imshow(train_images[0])"
   ]
  },
  {
   "cell_type": "code",
   "execution_count": 27,
   "metadata": {
    "colab": {
     "base_uri": "https://localhost:8080/",
     "height": 447
    },
    "id": "IS-RenGgXACq",
    "outputId": "fd8dd264-02b0-45be-b988-328c6d5f17dc"
   },
   "outputs": [
    {
     "data": {
      "text/plain": [
       "<matplotlib.image.AxesImage at 0x7de1f18f6c50>"
      ]
     },
     "execution_count": 27,
     "metadata": {},
     "output_type": "execute_result"
    },
    {
     "data": {
      "image/png": "[encoded data removed]",
      "text/plain": [
       "<Figure size 640x480 with 1 Axes>"
      ]
     },
     "metadata": {},
     "output_type": "display_data"
    }
   ],
   "source": [
    "img_test = rescale(train_images[0], 16/28)\n",
    "plt.imshow(img_test)"
   ]
  },
  {
   "cell_type": "code",
   "execution_count": 28,
   "metadata": {
    "id": "8R1LmjQ1XAGr"
   },
   "outputs": [],
   "source": [
    "#resizing the train and test datasets from (28, 28) to (16, 16)\n",
    "BAS = []\n",
    "for img in train_images:\n",
    "  img = rescale(img, 16/28, anti_aliasing=False)\n",
    "  img = img.flatten()\n",
    "  BAS.append(img)\n",
    "\n",
    "BAS_test = []\n",
    "for img in test_images:\n",
    "  img = rescale(img, 16/28, anti_aliasing=False)\n",
    "  img = img.flatten()\n",
    "  BAS_test.append(img)"
   ]
  },
  {
   "cell_type": "code",
   "execution_count": 29,
   "metadata": {
    "colab": {
     "base_uri": "https://localhost:8080/"
    },
    "id": "yPyullvnXbI9",
    "outputId": "34e05fc2-31c1-4cbd-a3f5-3f9fe1dd6804"
   },
   "outputs": [
    {
     "data": {
      "text/plain": [
       "(256,)"
      ]
     },
     "execution_count": 29,
     "metadata": {},
     "output_type": "execute_result"
    }
   ],
   "source": [
    "BAS[0].shape"
   ]
  },
  {
   "cell_type": "code",
   "execution_count": 30,
   "metadata": {
    "colab": {
     "base_uri": "https://localhost:8080/"
    },
    "id": "X19K5H5NXbMD",
    "outputId": "1c44e822-bce2-452f-a335-cf82bfa03492"
   },
   "outputs": [
    {
     "data": {
      "text/plain": [
       "256"
      ]
     },
     "execution_count": 30,
     "metadata": {},
     "output_type": "execute_result"
    }
   ],
   "source": [
    "16*16"
   ]
  },
  {
   "cell_type": "code",
   "execution_count": 31,
   "metadata": {
    "colab": {
     "base_uri": "https://localhost:8080/"
    },
    "id": "rObXqKa7XbO7",
    "outputId": "32e661c1-7bbc-4ed3-e562-be49c407be28"
   },
   "outputs": [
    {
     "data": {
      "text/plain": [
       "256"
      ]
     },
     "execution_count": 31,
     "metadata": {},
     "output_type": "execute_result"
    }
   ],
   "source": [
    "2**8 #so 8 qubits circuit needed"
   ]
  },
  {
   "cell_type": "code",
   "execution_count": 32,
   "metadata": {
    "colab": {
     "base_uri": "https://localhost:8080/",
     "height": 387
    },
    "id": "6fNeeqJqXbRj",
    "outputId": "0c5b66e5-08dd-4f68-ae97-b91a77cd6a3e"
   },
   "outputs": [
    {
     "data": {
      "image/png": "[encoded data removed]",
      "text/plain": [
       "<Figure size 600x350 with 1 Axes>"
      ]
     },
     "metadata": {},
     "output_type": "display_data"
    }
   ],
   "source": [
    "dev = qml.device(\"default.qubit\", wires=8)\n",
    "\n",
    "\n",
    "@qml.qnode(dev)\n",
    "def circuit(image, template_weights):\n",
    "    qml.AmplitudeEmbedding(features=image, wires=range(8), normalize=True)\n",
    "\n",
    "    for i in range(0, 8):\n",
    "      qml.RY(template_weights[i], wires=i)\n",
    "\n",
    "    for j in range(0, 7, 2):\n",
    "      qml.CNOT(wires=[j, j+1])\n",
    "\n",
    "    for j in range(1, 6, 2):\n",
    "      qml.RY(template_weights[i], wires=j)\n",
    "      i = i+1\n",
    "      qml.RY(template_weights[i], wires=j+1)\n",
    "      i = i+1\n",
    "      qml.CNOT(wires=[j, j+1])\n",
    "\n",
    "    for j in range(2, 5, 2):\n",
    "      qml.RY(template_weights[i], wires=j)\n",
    "      i = i+1\n",
    "      qml.RY(template_weights[i], wires=j+1)\n",
    "      i = i+1\n",
    "      qml.CNOT(wires=[j, j+1])\n",
    "\n",
    "    qml.RY(template_weights[i], wires=3)\n",
    "    i = i+1\n",
    "    qml.RY(template_weights[i], wires=5)\n",
    "\n",
    "    qml.CNOT(wires=[3, 5])\n",
    "\n",
    "    return qml.probs([3, 5])\n",
    "\n",
    "weights = np.random.random(size=[20, 1])\n",
    "fig, ax = qml.draw_mpl(circuit, expansion_strategy=\"device\")(BAS[0], weights)\n",
    "fig.set_size_inches((6, 3.5))"
   ]
  },
  {
   "cell_type": "code",
   "execution_count": 33,
   "metadata": {
    "id": "KEjvVP0TGE8f"
   },
   "outputs": [],
   "source": [
    "def block(weights, wires):\n",
    "    qml.RY(weights[0], wires=wires[0])\n",
    "    qml.RY(weights[1], wires=wires[1])\n",
    "    qml.CNOT(wires=wires)"
   ]
  },
  {
   "cell_type": "code",
   "execution_count": 34,
   "metadata": {
    "id": "KDorZ0ZDFmi_"
   },
   "outputs": [],
   "source": [
    "#dev = qml.device(\"default.qubit.autograd\", wires=8)\n",
    "\n",
    "\n",
    "#@qml.qnode(dev)\n",
    "#def circuit(image, template_weights):\n",
    "#    qml.AmplitudeEmbedding(features=image, wires=range(8), normalize=True)\n",
    "#    qml.TTN(\n",
    "#        wires=range(8),\n",
    "#        n_block_wires=2,\n",
    "#        block=block,\n",
    "#        n_params_block=2,\n",
    "#        template_weights=template_weights,\n",
    "#    )\n",
    "    #return qml.density_matrix([3, 7])\n",
    "#    return qml.probs(wires = [3, 7])\n",
    "\n",
    "\n",
    "#weights = np.random.random(size=[7, 2])\n",
    "#fig, ax = qml.draw_mpl(circuit, expansion_strategy=\"device\")(BAS[0], weights)\n",
    "#fig.set_size_inches((6, 3.5))"
   ]
  },
  {
   "cell_type": "code",
   "execution_count": null,
   "metadata": {
    "id": "EejtmAD24pWX"
   },
   "outputs": [],
   "source": []
  },
  {
   "cell_type": "code",
   "execution_count": 35,
   "metadata": {
    "id": "YhLQktJ5aKfo"
   },
   "outputs": [],
   "source": [
    "# defining the cost function\n",
    "#def costfunc(params):\n",
    "#    cost = 0\n",
    "#    labels = [np.array([1, 0, 0, 0]).reshape(1, 4), np.array([0, 1, 0, 0]).reshape(1, 4), np.array([0, 0, 1, 0]).reshape(1, 4), np.array([0, 0, 0, 1]).reshape(1, 4)]\n",
    "#    for i in range(len(BAS)):\n",
    "#        x = circuit(BAS[i], params)\n",
    "#        if train_labels[i] == 0:\n",
    "#            cost += 1 - np.real((np.dot(np.dot(labels[0], x), labels[0].reshape(4, 1)))[0][0])\n",
    "#        elif train_labels[i] == 1:\n",
    "#            cost += 1 - np.real((np.dot(np.dot(labels[1], x), labels[1].reshape(4, 1)))[0][0])\n",
    "#        elif train_labels[i] == 2:\n",
    "#            cost += 1 - np.real((np.dot(np.dot(labels[2], x), labels[2].reshape(4, 1)))[0][0])\n",
    "#        elif train_labels[i] == 3:\n",
    "#            res = np.real((np.dot(np.dot(labels[3], x), labels[3].reshape(4, 1)))[0][0])\n",
    "            #print(res)\n",
    "#            cost += 1 - res\n",
    "#    return cost"
   ]
  },
  {
   "cell_type": "code",
   "execution_count": 36,
   "metadata": {
    "id": "wXKmc0gsln4l"
   },
   "outputs": [],
   "source": [
    "#x = circuit(BAS[0], weights)\n",
    "#x['11']"
   ]
  },
  {
   "cell_type": "code",
   "execution_count": 37,
   "metadata": {
    "id": "SwJHTfVHmEtJ"
   },
   "outputs": [],
   "source": [
    "#y_true = [np.array([1, 0, 0, 0]), np.array([0, 1, 0, 0]), np.array([0, 0, 1, 0]), np.array([0, 0, 0, 1])]\n",
    "#prob = np.array([22, 33, 1, 45])\n",
    "#int(np.sum(y_true[0].astype(float)*prob.astype(float)))"
   ]
  },
  {
   "cell_type": "code",
   "execution_count": 38,
   "metadata": {
    "id": "qPzXNPOSRWzA"
   },
   "outputs": [],
   "source": [
    "def costfunc(params):\n",
    "    cost = 0\n",
    "    y_true = [np.array([1, 0, 0, 0]), np.array([0, 1, 0, 0]), np.array([0, 0, 1, 0]), np.array([0, 0, 0, 1])]\n",
    "    for i in range(len(BAS)):\n",
    "      prob = circuit(BAS[i], params)\n",
    "      if train_labels[i] == 0:\n",
    "        cost -= 1/len(y_true) * np.sum(np.sum(y_true[0].astype(float)*np.log(prob.astype(float))))\n",
    "      elif train_labels[i] == 1:\n",
    "        cost -= 1/len(y_true) * np.sum(np.sum(y_true[1].astype(float)*np.log(prob.astype(float))))\n",
    "      elif train_labels[i] == 2:\n",
    "        cost -= 1/len(y_true) * np.sum(np.sum(y_true[2].astype(float)*np.log(prob.astype(float))))\n",
    "      elif train_labels[i] == 3:\n",
    "        cost -= 1/len(y_true) * np.sum(np.sum(y_true[3].astype(float)*np.log(prob.astype(float))))\n",
    "    return cost"
   ]
  },
  {
   "cell_type": "code",
   "execution_count": 39,
   "metadata": {
    "colab": {
     "base_uri": "https://localhost:8080/"
    },
    "id": "zJ5kbffnaKik",
    "outputId": "735c2e50-8511-4a8f-e5d9-a8bea7517041"
   },
   "outputs": [
    {
     "name": "stdout",
     "output_type": "stream",
     "text": [
      "Step 0, cost: 690.6420155639128\n",
      "Step 5, cost: 613.9502745135557\n",
      "Step 10, cost: 585.2874556726074\n",
      "Step 15, cost: 567.1193715503871\n",
      "Step 20, cost: 562.0013670850553\n",
      "Step 25, cost: 558.7512317217933\n",
      "Step 30, cost: 555.9755408866116\n",
      "Step 35, cost: 551.8707487380789\n",
      "Step 40, cost: 548.2736744465877\n",
      "Step 45, cost: 546.3484351876552\n",
      "Step 50, cost: 544.9723648172369\n",
      "Step 55, cost: 543.2185186096889\n",
      "Step 60, cost: 541.828026573875\n",
      "Step 65, cost: 541.3932010629717\n",
      "Step 70, cost: 541.0624220254855\n",
      "Step 75, cost: 540.764881055411\n",
      "Step 80, cost: 540.5236651017593\n",
      "Step 85, cost: 540.4608494982491\n",
      "Step 90, cost: 540.4832479858186\n",
      "[[ 2.66502577]\n",
      " [ 0.28144055]\n",
      " [-0.46005007]\n",
      " [-1.44068964]\n",
      " [ 0.3418936 ]\n",
      " [ 0.85183595]\n",
      " [-0.33059191]\n",
      " [-0.42281149]\n",
      " [ 1.73783851]\n",
      " [ 0.47105787]\n",
      " [-0.61740319]\n",
      " [ 0.41305855]\n",
      " [ 1.36255723]\n",
      " [ 0.22897599]\n",
      " [-1.27018986]\n",
      " [ 2.52485991]\n",
      " [-0.22080409]\n",
      " [ 0.47421793]\n",
      " [ 0.84268764]\n",
      " [ 0.89939522]]\n"
     ]
    }
   ],
   "source": [
    "# training the circuit parameters\n",
    "x2 = np.random.random(size=[20, 1], requires_grad=True)\n",
    "params = x2[:]\n",
    "optimizer = qml.AdamOptimizer(stepsize=0.1)\n",
    "\n",
    "for k in range(91):\n",
    "    if k % 5 == 0:\n",
    "      print(f\"Step {k}, cost: {costfunc(params)}\")\n",
    "    params = optimizer.step(costfunc, params)\n",
    "print(params)"
   ]
  },
  {
   "cell_type": "code",
   "execution_count": null,
   "metadata": {
    "id": "TmQK0g57sxym"
   },
   "outputs": [],
   "source": []
  },
  {
   "cell_type": "code",
   "execution_count": null,
   "metadata": {
    "id": "0RMr8sb9Wkk7"
   },
   "outputs": [],
   "source": []
  },
  {
   "cell_type": "code",
   "execution_count": null,
   "metadata": {
    "id": "kV8F4UleFxNf"
   },
   "outputs": [],
   "source": []
  },
  {
   "cell_type": "code",
   "execution_count": 40,
   "metadata": {
    "id": "w3n9TM0DaKk3"
   },
   "outputs": [
    {
     "name": "stdout",
     "output_type": "stream",
     "text": [
      "training accuracy:\n",
      "74.6 %\n"
     ]
    }
   ],
   "source": [
    "i = -1\n",
    "train_correct = 0\n",
    "labels = [np.array([1, 0, 0, 0]).reshape(1, 4), np.array([0, 1, 0, 0]).reshape(1, 4), np.array([0, 0, 1, 0]).reshape(1, 4), np.array([0, 0, 0, 1]).reshape(1, 4)]\n",
    "for img in BAS:\n",
    "      i = i + 1\n",
    "      x = circuit(img, params)\n",
    "      x2 = []\n",
    "      x2.append(float(x[0][0]))\n",
    "      x2.append(float(x[0][1]))\n",
    "      x2.append(float(x[0][2]))\n",
    "      x2.append(float(x[0][3]))\n",
    "      #print(x2)\n",
    "      x3 = max(x2)\n",
    "      key=x2.index(x3)\n",
    "      x = key\n",
    "      #print(x)\n",
    "      if x == 0 and train_labels[i] == 0:\n",
    "        train_correct += 1\n",
    "      elif x == 1 and train_labels[i] == 1:\n",
    "        train_correct += 1\n",
    "      elif x == 2 and train_labels[i] == 2:\n",
    "        train_correct += 1\n",
    "      elif x == 3 and train_labels[i] == 3:\n",
    "        train_correct += 1\n",
    "print(\"training accuracy:\")\n",
    "print(100*train_correct/len(BAS),\"%\")"
   ]
  },
  {
   "cell_type": "code",
   "execution_count": 41,
   "metadata": {
    "id": "WwWjJb_KaKnq"
   },
   "outputs": [
    {
     "name": "stdout",
     "output_type": "stream",
     "text": [
      "testing accuracy:\n",
      "73.33333333333333 %\n"
     ]
    }
   ],
   "source": [
    "i = -1\n",
    "test_correct = 0\n",
    "labels = [np.array([1, 0, 0, 0]).reshape(1, 4), np.array([0, 1, 0, 0]).reshape(1, 4), np.array([0, 0, 1, 0]).reshape(1, 4), np.array([0, 0, 0, 1]).reshape(1, 4)]\n",
    "for img in BAS_test:\n",
    "      i = i + 1\n",
    "      x = circuit(img, params)\n",
    "      x2 = []\n",
    "      x2.append(float(x[0][0]))\n",
    "      x2.append(float(x[0][1]))\n",
    "      x2.append(float(x[0][2]))\n",
    "      x2.append(float(x[0][3]))\n",
    "      #print(x2)\n",
    "      x3 = max(x2)\n",
    "      key=x2.index(x3)\n",
    "      x = key\n",
    "      #print(x)\n",
    "      if x == 0 and test_labels[i] == 0:\n",
    "        test_correct += 1\n",
    "      elif x == 1 and test_labels[i] == 1:\n",
    "        test_correct += 1\n",
    "      elif x == 2 and test_labels[i] == 2:\n",
    "        test_correct += 1\n",
    "      elif x == 3 and test_labels[i] == 3:\n",
    "        test_correct += 1\n",
    "print(\"testing accuracy:\")\n",
    "print(100*test_correct/len(BAS_test),\"%\")"
   ]
  },
  {
   "cell_type": "code",
   "execution_count": null,
   "metadata": {
    "id": "HElMvtQDaKqC"
   },
   "outputs": [],
   "source": []
  }
 ],
 "metadata": {
  "colab": {
   "provenance": []
  },
  "kernelspec": {
   "display_name": "Python 3 (ipykernel)",
   "language": "python",
   "name": "python3"
  },
  "language_info": {
   "codemirror_mode": {
    "name": "ipython",
    "version": 3
   },
   "file_extension": ".py",
   "mimetype": "text/x-python",
   "name": "python",
   "nbconvert_exporter": "python",
   "pygments_lexer": "ipython3",
   "version": "3.11.9"
  }
 },
 "nbformat": 4,
 "nbformat_minor": 4
}
