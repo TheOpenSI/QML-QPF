{
 "cells": [
  {
   "cell_type": "code",
   "execution_count": 1,
   "metadata": {},
   "outputs": [
    {
     "name": "stderr",
     "output_type": "stream",
     "text": [
      "2024-05-04 21:25:26.111576: I external/local_tsl/tsl/platform/default/dso_loader.cc:59] Successfully opened dynamic library libcudart.so.12\n",
      "2024-05-04 21:25:26.111919: I external/local_tsl/tsl/platform/cloud/gcs_file_system.cc:855] GCS cache max size = 0 ; block size = 67108864 ; max staleness = 0\n",
      "2024-05-04 21:25:26.111940: I external/local_tsl/tsl/platform/cloud/ram_file_block_cache.h:64] GCS file block cache is disabled\n",
      "2024-05-04 21:25:26.111947: I external/local_tsl/tsl/platform/cloud/gcs_file_system.cc:895] GCS DNS cache is disabled, because GCS_RESOLVE_REFRESH_SECS = 0 (or is not set)\n",
      "2024-05-04 21:25:26.111954: I external/local_tsl/tsl/platform/cloud/gcs_file_system.cc:925] GCS additional header DISABLED. No environment variable set.\n",
      "2024-05-04 21:25:26.111962: I external/local_tsl/tsl/platform/cloud/gcs_file_system.cc:306] GCS RetryConfig: init_delay_time_us = 1000000 ; max_delay_time_us = 32000000 ; max_retries = 10\n",
      "2024-05-04 21:25:26.111968: I external/local_tsl/tsl/platform/cloud/gcs_file_system.cc:306] GCS RetryConfig: init_delay_time_us = 1000000 ; max_delay_time_us = 32000000 ; max_retries = 10\n",
      "2024-05-04 21:25:26.114613: I external/local_tsl/tsl/platform/default/dso_loader.cc:59] Successfully opened dynamic library libcudart.so.12\n",
      "2024-05-04 21:25:26.152747: I external/local_tsl/tsl/platform/cloud/gcs_file_system.cc:855] GCS cache max size = 0 ; block size = 67108864 ; max staleness = 0\n",
      "2024-05-04 21:25:26.152787: I external/local_tsl/tsl/platform/cloud/ram_file_block_cache.h:64] GCS file block cache is disabled\n",
      "2024-05-04 21:25:26.152795: I external/local_tsl/tsl/platform/cloud/gcs_file_system.cc:895] GCS DNS cache is disabled, because GCS_RESOLVE_REFRESH_SECS = 0 (or is not set)\n",
      "2024-05-04 21:25:26.152801: I external/local_tsl/tsl/platform/cloud/gcs_file_system.cc:925] GCS additional header DISABLED. No environment variable set.\n",
      "2024-05-04 21:25:26.152809: I external/local_tsl/tsl/platform/cloud/gcs_file_system.cc:306] GCS RetryConfig: init_delay_time_us = 1000000 ; max_delay_time_us = 32000000 ; max_retries = 10\n",
      "2024-05-04 21:25:26.152815: I external/local_tsl/tsl/platform/cloud/gcs_file_system.cc:306] GCS RetryConfig: init_delay_time_us = 1000000 ; max_delay_time_us = 32000000 ; max_retries = 10\n",
      "2024-05-04 21:25:26.153685: I tensorflow/core/platform/cpu_feature_guard.cc:210] This TensorFlow binary is optimized to use available CPU instructions in performance-critical operations.\n",
      "To enable the following instructions: AVX2 AVX512F FMA, in other operations, rebuild TensorFlow with the appropriate compiler flags.\n",
      "2024-05-04 21:25:26.621852: I external/local_tsl/tsl/platform/cloud/gcs_file_system.cc:855] GCS cache max size = 0 ; block size = 67108864 ; max staleness = 0\n",
      "2024-05-04 21:25:26.621881: I external/local_tsl/tsl/platform/cloud/ram_file_block_cache.h:64] GCS file block cache is disabled\n",
      "2024-05-04 21:25:26.621905: I external/local_tsl/tsl/platform/cloud/gcs_file_system.cc:895] GCS DNS cache is disabled, because GCS_RESOLVE_REFRESH_SECS = 0 (or is not set)\n",
      "2024-05-04 21:25:26.621911: I external/local_tsl/tsl/platform/cloud/gcs_file_system.cc:925] GCS additional header DISABLED. No environment variable set.\n",
      "2024-05-04 21:25:26.621918: I external/local_tsl/tsl/platform/cloud/gcs_file_system.cc:306] GCS RetryConfig: init_delay_time_us = 1000000 ; max_delay_time_us = 32000000 ; max_retries = 10\n",
      "2024-05-04 21:25:26.621924: I external/local_tsl/tsl/platform/cloud/gcs_file_system.cc:306] GCS RetryConfig: init_delay_time_us = 1000000 ; max_delay_time_us = 32000000 ; max_retries = 10\n",
      "2024-05-04 21:25:26.804889: I external/local_tsl/tsl/platform/default/dso_loader.cc:70] Could not load dynamic library 'libnvinfer.so.8.6.1'; dlerror: libnvinfer.so.8.6.1: cannot open shared object file: No such file or directory; LD_LIBRARY_PATH: /opt/conda/envs/QML-QPF/lib/python3.12/site-packages/nvidia/nvjitlink/lib:/opt/conda/envs/QML-QPF/lib/python3.12/site-packages/nvidia/nccl/lib:/opt/conda/envs/QML-QPF/lib/python3.12/site-packages/nvidia/cusparse/lib:/opt/conda/envs/QML-QPF/lib/python3.12/site-packages/nvidia/cusolver/lib:/opt/conda/envs/QML-QPF/lib/python3.12/site-packages/nvidia/curand/lib:/opt/conda/envs/QML-QPF/lib/python3.12/site-packages/nvidia/cufft/lib:/opt/conda/envs/QML-QPF/lib/python3.12/site-packages/nvidia/cudnn/lib:/opt/conda/envs/QML-QPF/lib/python3.12/site-packages/nvidia/cuda_runtime/lib:/opt/conda/envs/QML-QPF/lib/python3.12/site-packages/nvidia/cuda_nvrtc/lib:/opt/conda/envs/QML-QPF/lib/python3.12/site-packages/nvidia/cuda_nvcc/lib:/opt/conda/envs/QML-QPF/lib/python3.12/site-packages/nvidia/cuda_cupti/lib:/opt/conda/envs/QML-QPF/lib/python3.12/site-packages/nvidia/cublas/lib:\n",
      "\n",
      "2024-05-04 21:25:26.805115: I external/local_tsl/tsl/platform/default/dso_loader.cc:70] Could not load dynamic library 'libnvinfer_plugin.so.8.6.1'; dlerror: libnvinfer_plugin.so.8.6.1: cannot open shared object file: No such file or directory; LD_LIBRARY_PATH: /opt/conda/envs/QML-QPF/lib/python3.12/site-packages/nvidia/nvjitlink/lib:/opt/conda/envs/QML-QPF/lib/python3.12/site-packages/nvidia/nccl/lib:/opt/conda/envs/QML-QPF/lib/python3.12/site-packages/nvidia/cusparse/lib:/opt/conda/envs/QML-QPF/lib/python3.12/site-packages/nvidia/cusolver/lib:/opt/conda/envs/QML-QPF/lib/python3.12/site-packages/nvidia/curand/lib:/opt/conda/envs/QML-QPF/lib/python3.12/site-packages/nvidia/cufft/lib:/opt/conda/envs/QML-QPF/lib/python3.12/site-packages/nvidia/cudnn/lib:/opt/conda/envs/QML-QPF/lib/python3.12/site-packages/nvidia/cuda_runtime/lib:/opt/conda/envs/QML-QPF/lib/python3.12/site-packages/nvidia/cuda_nvrtc/lib:/opt/conda/envs/QML-QPF/lib/python3.12/site-packages/nvidia/cuda_nvcc/lib:/opt/conda/envs/QML-QPF/lib/python3.12/site-packages/nvidia/cuda_cupti/lib:/opt/conda/envs/QML-QPF/lib/python3.12/site-packages/nvidia/cublas/lib:\n",
      "\n",
      "2024-05-04 21:25:26.805124: W tensorflow/compiler/tf2tensorrt/utils/py_utils.cc:38] TF-TRT Warning: Could not find TensorRT\n",
      "2024-05-04 21:25:27.464585: I external/local_xla/xla/parse_flags_from_env.cc:207] For env var TF_XLA_FLAGS found arguments:\n",
      "2024-05-04 21:25:27.464617: I external/local_xla/xla/parse_flags_from_env.cc:209]   argv[0] = <argv[0]>\n",
      "2024-05-04 21:25:27.464627: I external/local_xla/xla/parse_flags_from_env.cc:207] For env var TF_JITRT_FLAGS found arguments:\n",
      "2024-05-04 21:25:27.464633: I external/local_xla/xla/parse_flags_from_env.cc:209]   argv[0] = <argv[0]>\n",
      "2024-05-04 21:25:27.464639: I tensorflow/compiler/jit/xla_cpu_device.cc:46] Not creating XLA devices, tf_xla_enable_xla_devices not set and XLA device creation not requested\n",
      "2024-05-04 21:25:27.464646: I tensorflow/compiler/jit/xla_gpu_device.cc:49] Not creating XLA devices, tf_xla_enable_xla_devices not set and XLA devices creation not required\n",
      "2024-05-04 21:25:27.466011: I external/local_tsl/tsl/platform/default/dso_loader.cc:59] Successfully opened dynamic library libcuda.so.1\n",
      "2024-05-04 21:25:27.477815: I external/local_xla/xla/stream_executor/cuda/cuda_diagnostics.cc:192] found DLL info with name: /usr/lib/x86_64-linux-gnu/libcuda.so.1\n",
      "2024-05-04 21:25:27.477863: I external/local_xla/xla/stream_executor/cuda/cuda_diagnostics.cc:197] found DLL info with resolved path: /usr/lib/x86_64-linux-gnu/libcuda.so.550.54.15\n",
      "2024-05-04 21:25:27.477875: I external/local_xla/xla/stream_executor/cuda/cuda_diagnostics.cc:97] version string \"550.54.15\" made value 550.54.15\n",
      "2024-05-04 21:25:27.477897: I external/local_xla/xla/stream_executor/cuda/cuda_executor.cc:968] trying to read NUMA node for device ordinal: 0\n",
      "2024-05-04 21:25:27.478071: I tensorflow/core/common_runtime/gpu/gpu_device.cc:2219] Found device 0 with properties: \n",
      "pciBusID: 0000:b3:00.0 name: NVIDIA GeForce RTX 2080 computeCapability: 7.5\n",
      "coreClock: 1.71GHz coreCount: 46 de"
     ]
    },
    {
     "data": {
      "text/plain": [
       "[PhysicalDevice(name='/physical_device:GPU:0', device_type='GPU')]"
      ]
     },
     "execution_count": 1,
     "metadata": {},
     "output_type": "execute_result"
    },
    {
     "name": "stderr",
     "output_type": "stream",
     "text": [
      "viceMemorySize: 7.77GiB deviceMemoryBandwidth: 417.23GiB/s\n",
      "2024-05-04 21:25:27.478093: I external/local_tsl/tsl/platform/default/dso_loader.cc:59] Successfully opened dynamic library libcudart.so.12\n",
      "2024-05-04 21:25:27.509697: I external/local_tsl/tsl/platform/default/dso_loader.cc:59] Successfully opened dynamic library libcublas.so.12\n",
      "2024-05-04 21:25:27.509790: I external/local_tsl/tsl/platform/default/dso_loader.cc:59] Successfully opened dynamic library libcublasLt.so.12\n",
      "2024-05-04 21:25:27.511942: I external/local_tsl/tsl/platform/default/dso_loader.cc:59] Successfully opened dynamic library libcufft.so.11\n",
      "2024-05-04 21:25:27.515781: I external/local_tsl/tsl/platform/default/dso_loader.cc:59] Successfully opened dynamic library libcusolver.so.11\n",
      "2024-05-04 21:25:27.515874: I external/local_tsl/tsl/platform/default/dso_loader.cc:59] Successfully opened dynamic library libcusparse.so.12\n",
      "2024-05-04 21:25:27.516068: I external/local_tsl/tsl/platform/default/dso_loader.cc:59] Successfully opened dynamic library libcudnn.so.8\n",
      "2024-05-04 21:25:27.516119: I external/local_xla/xla/stream_executor/cuda/cuda_diagnostics.cc:192] found DLL info with name: /usr/lib/x86_64-linux-gnu/libcuda.so.1\n",
      "2024-05-04 21:25:27.516156: I external/local_xla/xla/stream_executor/cuda/cuda_diagnostics.cc:197] found DLL info with resolved path: /usr/lib/x86_64-linux-gnu/libcuda.so.550.54.15\n",
      "2024-05-04 21:25:27.516167: I external/local_xla/xla/stream_executor/cuda/cuda_diagnostics.cc:97] version string \"550.54.15\" made value 550.54.15\n",
      "2024-05-04 21:25:27.516181: I external/local_xla/xla/stream_executor/cuda/cuda_executor.cc:968] trying to read NUMA node for device ordinal: 0\n",
      "2024-05-04 21:25:27.516384: I external/local_xla/xla/stream_executor/cuda/cuda_diagnostics.cc:192] found DLL info with name: /usr/lib/x86_64-linux-gnu/libcuda.so.1\n",
      "2024-05-04 21:25:27.516405: I external/local_xla/xla/stream_executor/cuda/cuda_diagnostics.cc:197] found DLL info with resolved path: /usr/lib/x86_64-linux-gnu/libcuda.so.550.54.15\n",
      "2024-05-04 21:25:27.516411: I external/local_xla/xla/stream_executor/cuda/cuda_diagnostics.cc:97] version string \"550.54.15\" made value 550.54.15\n",
      "2024-05-04 21:25:27.516419: I external/local_xla/xla/stream_executor/cuda/cuda_executor.cc:968] trying to read NUMA node for device ordinal: 0\n",
      "2024-05-04 21:25:27.516529: I tensorflow/core/common_runtime/gpu/gpu_device.cc:2357] Adding visible gpu devices: 0\n"
     ]
    }
   ],
   "source": [
    "import os\n",
    "os.environ['TF_CPP_MAX_VLOG_LEVEL'] = '3'\n",
    "os.environ['TF_CPP_MIN_VLOG_LEVEL'] = '0'\n",
    "import tensorflow as tf\n",
    "tf.config.list_physical_devices('GPU')"
   ]
  },
  {
   "cell_type": "code",
   "execution_count": null,
   "metadata": {},
   "outputs": [],
   "source": []
  }
 ],
 "metadata": {
  "kernelspec": {
   "display_name": "QML-QPF",
   "language": "python",
   "name": "python3"
  },
  "language_info": {
   "codemirror_mode": {
    "name": "ipython",
    "version": 3
   },
   "file_extension": ".py",
   "mimetype": "text/x-python",
   "name": "python",
   "nbconvert_exporter": "python",
   "pygments_lexer": "ipython3",
   "version": "3.12.3"
  }
 },
 "nbformat": 4,
 "nbformat_minor": 2
}
